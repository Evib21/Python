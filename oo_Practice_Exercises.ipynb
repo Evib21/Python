{
 "cells": [
  {
   "cell_type": "markdown",
   "id": "e4038abd",
   "metadata": {},
   "source": [
    "## [Code Wars](https://www.codewars.com/dashboard)"
   ]
  },
  {
   "cell_type": "markdown",
   "id": "9da2ae1c",
   "metadata": {},
   "source": [
    "### **Level 8**"
   ]
  },
  {
   "cell_type": "markdown",
   "id": "0d1d98aa",
   "metadata": {},
   "source": [
    "#### [1. Sum of Digits (Digital Root)](https://www.codewars.com/kata/541c8630095125aba6000c00/train/python)"
   ]
  },
  {
   "cell_type": "code",
   "execution_count": 3,
   "id": "d4ae256c",
   "metadata": {},
   "outputs": [
    {
     "data": {
      "text/plain": [
       "1"
      ]
     },
     "execution_count": 3,
     "metadata": {},
     "output_type": "execute_result"
    }
   ],
   "source": [
    "# region 1. My Solution:\n",
    "def digital_root(n):\n",
    "    \n",
    "    length_of_n = []\n",
    "    \n",
    "    for i in str(n):\n",
    "        length_of_n.append(i)\n",
    "    \n",
    "    if len(length_of_n) <= 1:\n",
    "        return n\n",
    "    \n",
    "    index = 0\n",
    "    sum = 0\n",
    "    while index < len(length_of_n):\n",
    "        sum += int(length_of_n[index])\n",
    "        index += 1\n",
    "    \n",
    "    if len(str(sum)) < 2:\n",
    "        return sum\n",
    "    else:\n",
    "        return digital_root(sum)\n",
    "\n",
    "\n",
    "digital_root(17937280)\n",
    "# endregion\n",
    "\n",
    "\n",
    "# region 2. Optimized Version:\n",
    "# endregion\n",
    "\n",
    "\n",
    "# region 3. Bestd Version:\n",
    "# endregion\n",
    "        "
   ]
  },
  {
   "cell_type": "code",
   "execution_count": null,
   "id": "9beab3cc",
   "metadata": {},
   "outputs": [],
   "source": []
  }
 ],
 "metadata": {
  "kernelspec": {
   "display_name": "base",
   "language": "python",
   "name": "python3"
  },
  "language_info": {
   "codemirror_mode": {
    "name": "ipython",
    "version": 3
   },
   "file_extension": ".py",
   "mimetype": "text/x-python",
   "name": "python",
   "nbconvert_exporter": "python",
   "pygments_lexer": "ipython3",
   "version": "3.12.7"
  }
 },
 "nbformat": 4,
 "nbformat_minor": 5
}
