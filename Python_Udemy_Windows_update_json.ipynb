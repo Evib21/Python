{
 "cells": [
  {
   "cell_type": "markdown",
   "id": "b03b9254",
   "metadata": {},
   "source": [
    "### Milestone Project 1: Tic-Tac-Toe Game"
   ]
  },
  {
   "cell_type": "markdown",
   "id": "4abbd7eb-79d9-45f5-a2bc-f6ae677e8d8d",
   "metadata": {},
   "source": [
    "1. We need to print a board.\n",
    "2. Take in player input.\n",
    "3. Place their input on the board.\n",
    "4. Check if the game is won,tied, lost, or ongoing.\n",
    "5. Repeat c and d until the game has been won or tied.\n",
    "6. Ask if players want to play again."
   ]
  },
  {
   "cell_type": "code",
   "execution_count": null,
   "id": "0cb9ff5c",
   "metadata": {},
   "outputs": [],
   "source": [
    "from IPython.display import clear_output"
   ]
  },
  {
   "cell_type": "code",
   "execution_count": null,
   "id": "590a4ea1-03dd-437e-a3e0-fe49a8bd2e8f",
   "metadata": {},
   "outputs": [],
   "source": [
    "# 1. We need to print a board.\n",
    "def display_board(b):\n",
    "    print(b[7]+'|'+b[8]+'|'+b[9])\n",
    "    # print('-----')\n",
    "    print(b[4]+'|'+b[5]+'|'+b[6])\n",
    "    print(b[1]+'|'+b[2]+'|'+b[3])\n",
    "\n",
    "display_board(test_board)"
   ]
  },
  {
   "cell_type": "code",
   "execution_count": null,
   "id": "787c7168",
   "metadata": {},
   "outputs": [],
   "source": [
    "board = [' ']*10\n",
    "\n",
    "board"
   ]
  },
  {
   "cell_type": "code",
   "execution_count": null,
   "id": "e107eac9",
   "metadata": {},
   "outputs": [],
   "source": [
    "test_board = ['0','1','2','3','4','5','6','7','8','9']\n",
    "test_board\n"
   ]
  },
  {
   "cell_type": "code",
   "execution_count": null,
   "id": "52025f17",
   "metadata": {},
   "outputs": [],
   "source": [
    "display_board(test_board)"
   ]
  },
  {
   "cell_type": "code",
   "execution_count": null,
   "id": "c59417ba",
   "metadata": {},
   "outputs": [],
   "source": [
    "def user_input():\n",
    "\n",
    "    # ask user if x or o\n",
    "\n",
    "    user_choice = input(\"Player1: Select X or O?\")\n",
    "\n",
    "    if user_choice.lower() == 'x':\n",
    "        print('Player 1 starts with X')\n",
    "        player_1 = 'X'\n",
    "        player_2 = 'O'\n",
    "        return player_1\n",
    "        return player_2\n",
    "\n",
    "    elif user_choice.lower() == 'o':\n",
    "        print('Player 1 starts with O')\n",
    "        player_1 = 'O'\n",
    "        player_2 = 'X'\n",
    "        return player_1\n",
    "        return player_2\n",
    "\n",
    "    else:\n",
    "        print('Not a Valid Entry!')\n",
    "        print('Please select either X or O')\n",
    "\n",
    "\n",
    "\n",
    "\n",
    "    # return user_choice\n",
    "\n",
    "    # Game start and user selects position\n",
    "\n",
    "    # assign the number to an index value and depending which player insert either x or o\n",
    "\n",
    "    # repeat the loop again for other player entry\n",
    "\n",
    "    # determine when win or draw, and ask player if new game? "
   ]
  },
  {
   "cell_type": "code",
   "execution_count": 45,
   "id": "ace00935",
   "metadata": {},
   "outputs": [
    {
     "name": "stdout",
     "output_type": "stream",
     "text": [
      "Player 1 starts with O\n"
     ]
    },
    {
     "data": {
      "text/plain": [
       "'O'"
      ]
     },
     "execution_count": 45,
     "metadata": {},
     "output_type": "execute_result"
    }
   ],
   "source": [
    "user_input()"
   ]
  },
  {
   "cell_type": "code",
   "execution_count": null,
   "id": "d48972a6",
   "metadata": {},
   "outputs": [],
   "source": []
  },
  {
   "cell_type": "code",
   "execution_count": null,
   "id": "c2ed2e68",
   "metadata": {},
   "outputs": [],
   "source": []
  },
  {
   "cell_type": "code",
   "execution_count": null,
   "id": "c1fff7fb",
   "metadata": {},
   "outputs": [],
   "source": []
  },
  {
   "cell_type": "code",
   "execution_count": null,
   "id": "9e5bec6b",
   "metadata": {},
   "outputs": [],
   "source": []
  }
 ],
 "metadata": {
  "kernelspec": {
   "display_name": "Python 3",
   "language": "python",
   "name": "python3"
  },
  "language_info": {
   "codemirror_mode": {
    "name": "ipython",
    "version": 3
   },
   "file_extension": ".py",
   "mimetype": "text/x-python",
   "name": "python",
   "nbconvert_exporter": "python",
   "pygments_lexer": "ipython3",
   "version": "3.11.9"
  }
 },
 "nbformat": 4,
 "nbformat_minor": 5
}
