{
 "cells": [
  {
   "attachments": {},
   "cell_type": "markdown",
   "id": "3e6edf08-43cf-4d3e-bb24-c3245d460a78",
   "metadata": {
    "jp-MarkdownHeadingCollapsed": true
   },
   "source": [
    "## <h2 style=\"color: #4472C4;\"> Section 3: Python Object And Data Structure Basics </h2>"
   ]
  },
  {
   "cell_type": "markdown",
   "id": "a6b2c33c-cc39-452c-921c-f888b2c56548",
   "metadata": {
    "jp-MarkdownHeadingCollapsed": true
   },
   "source": [
    "### Python Numbers"
   ]
  },
  {
   "cell_type": "markdown",
   "id": "8f5f103c-e858-41bb-98ba-9451882f3ac2",
   "metadata": {
    "jp-MarkdownHeadingCollapsed": true
   },
   "source": [
    "#### Modulo or **\"Mod\" Operator** - Returns the remainder after a Division"
   ]
  },
  {
   "cell_type": "code",
   "execution_count": 19,
   "id": "410aa8cb-9bae-493e-ac00-98867db8a3b8",
   "metadata": {},
   "outputs": [
    {
     "data": {
      "text/plain": [
       "1.75"
      ]
     },
     "execution_count": 19,
     "metadata": {},
     "output_type": "execute_result"
    }
   ],
   "source": [
    "7/4"
   ]
  },
  {
   "cell_type": "code",
   "execution_count": 23,
   "id": "85a8d5d4-4653-49d0-8ba4-11ace4b7d020",
   "metadata": {},
   "outputs": [
    {
     "data": {
      "text/plain": [
       "3"
      ]
     },
     "execution_count": 23,
     "metadata": {},
     "output_type": "execute_result"
    }
   ],
   "source": [
    "7%4"
   ]
  },
  {
   "cell_type": "markdown",
   "id": "2301eae1-65b6-4434-adbb-eddeb6eba4cc",
   "metadata": {},
   "source": [
    "7 / 4        = 1 ==> 7  - (4x1) = 3 --> 1st remainder"
   ]
  },
  {
   "cell_type": "markdown",
   "id": "96284a64-adc5-4085-b759-c267650f2806",
   "metadata": {},
   "source": [
    "Then: 30 / 4 = 7 ==> 30 - (4x7) = 2 --> 2nd remainder    "
   ]
  },
  {
   "cell_type": "markdown",
   "id": "5e25580c-15b2-4bb1-a698-550baef599a3",
   "metadata": {},
   "source": [
    "Then: 20 / 4 = 5 ==> no more remainders"
   ]
  },
  {
   "cell_type": "markdown",
   "id": "94edff50-8fe5-4257-b490-98b227a11c14",
   "metadata": {},
   "source": [
    "Result: 7 / 4 = 1.75"
   ]
  },
  {
   "cell_type": "markdown",
   "id": "5d7867e1-a281-4938-b204-126b3006f6de",
   "metadata": {},
   "source": [
    "*Remainder is 3* Look at **1st remainder above**"
   ]
  },
  {
   "cell_type": "markdown",
   "id": "377f23b2-9516-4788-821e-889df33d3085",
   "metadata": {},
   "source": [
    "**If Mod returns 0 then EVEN Number**"
   ]
  },
  {
   "cell_type": "code",
   "execution_count": 41,
   "id": "1eea64e1-f5e0-4d9a-a5c5-6f9323aedd38",
   "metadata": {},
   "outputs": [
    {
     "data": {
      "text/plain": [
       "0"
      ]
     },
     "execution_count": 41,
     "metadata": {},
     "output_type": "execute_result"
    }
   ],
   "source": [
    "20%2"
   ]
  },
  {
   "cell_type": "markdown",
   "id": "4107dd53-16e9-4911-b065-666ff02b9568",
   "metadata": {},
   "source": [
    "Else Odd Number"
   ]
  },
  {
   "cell_type": "code",
   "execution_count": 45,
   "id": "f0e86f69-31c1-44c2-8c5d-4e072ecf3700",
   "metadata": {},
   "outputs": [
    {
     "data": {
      "text/plain": [
       "1"
      ]
     },
     "execution_count": 45,
     "metadata": {},
     "output_type": "execute_result"
    }
   ],
   "source": [
    "21%2"
   ]
  },
  {
   "cell_type": "markdown",
   "id": "fe1738af-eabf-436d-baa4-c0f54e013def",
   "metadata": {
    "jp-MarkdownHeadingCollapsed": true
   },
   "source": [
    "#### Exp Power ####"
   ]
  },
  {
   "cell_type": "code",
   "execution_count": 50,
   "id": "f94a45df-d186-4caf-9073-fab6612679b1",
   "metadata": {},
   "outputs": [
    {
     "data": {
      "text/plain": [
       "8"
      ]
     },
     "execution_count": 50,
     "metadata": {},
     "output_type": "execute_result"
    }
   ],
   "source": [
    "2 ** 3"
   ]
  },
  {
   "cell_type": "markdown",
   "id": "a4affe98-8245-4790-a4dc-ab3d2bfc9c54",
   "metadata": {
    "jp-MarkdownHeadingCollapsed": true
   },
   "source": [
    "### Variable Assignments ###"
   ]
  },
  {
   "cell_type": "markdown",
   "id": "ee057f59-229b-41cd-9473-bcea66cbc009",
   "metadata": {},
   "source": [
    "#### **Dynamic Data Types**"
   ]
  },
  {
   "attachments": {},
   "cell_type": "markdown",
   "id": "116af15c-4c1d-4c7c-8009-6e42aacfd9bc",
   "metadata": {},
   "source": [
    "**Reassign** var to different Data Types"
   ]
  },
  {
   "cell_type": "code",
   "execution_count": 59,
   "id": "6221a186-06ee-4096-ba08-f9f0b44de84a",
   "metadata": {},
   "outputs": [],
   "source": [
    "my_dogs = 2"
   ]
  },
  {
   "cell_type": "code",
   "execution_count": 61,
   "id": "19b44b74-0ae9-425b-a989-aa5e88d645e8",
   "metadata": {},
   "outputs": [],
   "source": [
    "my_dogs = [\"Sammy\", 'Frankie']"
   ]
  },
  {
   "cell_type": "code",
   "execution_count": 64,
   "id": "161ccf0d-d05a-4627-acd6-7d23cb773f79",
   "metadata": {},
   "outputs": [],
   "source": [
    "a = 5"
   ]
  },
  {
   "cell_type": "code",
   "execution_count": 68,
   "id": "2b1bad85-0757-41f9-8993-0ee86a62aecc",
   "metadata": {},
   "outputs": [],
   "source": [
    "a = 10"
   ]
  },
  {
   "cell_type": "code",
   "execution_count": 70,
   "id": "7a12d876-40dc-4a41-ab21-c90d64549596",
   "metadata": {},
   "outputs": [
    {
     "data": {
      "text/plain": [
       "10"
      ]
     },
     "execution_count": 70,
     "metadata": {},
     "output_type": "execute_result"
    }
   ],
   "source": [
    "a"
   ]
  },
  {
   "cell_type": "code",
   "execution_count": 72,
   "id": "504cdd87-ab96-4495-8137-bc62b658fb55",
   "metadata": {},
   "outputs": [
    {
     "data": {
      "text/plain": [
       "20"
      ]
     },
     "execution_count": 72,
     "metadata": {},
     "output_type": "execute_result"
    }
   ],
   "source": [
    "a + a"
   ]
  },
  {
   "cell_type": "code",
   "execution_count": 78,
   "id": "02785ad3-fc9f-4c21-b085-9a9b7a954424",
   "metadata": {},
   "outputs": [],
   "source": [
    "a = a + a"
   ]
  },
  {
   "cell_type": "code",
   "execution_count": 80,
   "id": "7376f3e7-5896-4112-9823-e71792d0513d",
   "metadata": {},
   "outputs": [
    {
     "data": {
      "text/plain": [
       "40"
      ]
     },
     "execution_count": 80,
     "metadata": {},
     "output_type": "execute_result"
    }
   ],
   "source": [
    "a"
   ]
  },
  {
   "cell_type": "code",
   "execution_count": 82,
   "id": "27c2907e-5b8e-4b49-81b3-e14d43339b00",
   "metadata": {},
   "outputs": [
    {
     "data": {
      "text/plain": [
       "int"
      ]
     },
     "execution_count": 82,
     "metadata": {},
     "output_type": "execute_result"
    }
   ],
   "source": [
    "type(a)"
   ]
  },
  {
   "cell_type": "code",
   "execution_count": 84,
   "id": "7ac8bbef-c375-4d89-9057-e720569dafab",
   "metadata": {},
   "outputs": [],
   "source": [
    "a = 30.1"
   ]
  },
  {
   "cell_type": "code",
   "execution_count": 86,
   "id": "b5ae4e41-bbe0-4c04-9148-f5cde6d3687a",
   "metadata": {},
   "outputs": [
    {
     "data": {
      "text/plain": [
       "float"
      ]
     },
     "execution_count": 86,
     "metadata": {},
     "output_type": "execute_result"
    }
   ],
   "source": [
    "type(a)"
   ]
  },
  {
   "cell_type": "code",
   "execution_count": 88,
   "id": "60f5d298-4b85-4cbd-9a5a-c0a76d868cf3",
   "metadata": {},
   "outputs": [],
   "source": [
    "my_income = 100\n",
    "\n",
    "tax_rate = 0.1\n",
    "\n",
    "my_taxes = my_income * tax_rate"
   ]
  },
  {
   "cell_type": "code",
   "execution_count": 90,
   "id": "3ca0940b-901a-4119-b9db-1d385567bd90",
   "metadata": {},
   "outputs": [
    {
     "data": {
      "text/plain": [
       "10.0"
      ]
     },
     "execution_count": 90,
     "metadata": {},
     "output_type": "execute_result"
    }
   ],
   "source": [
    "my_taxes"
   ]
  },
  {
   "cell_type": "markdown",
   "id": "473ac956-4518-4db5-a83d-9a687ed4ff2a",
   "metadata": {
    "jp-MarkdownHeadingCollapsed": true
   },
   "source": [
    "### Intro To Strings"
   ]
  },
  {
   "cell_type": "markdown",
   "id": "4e32ea81-7ca1-4e7e-b600-82d77e8c3a9c",
   "metadata": {},
   "source": [
    "#### **Indexing** and **Slicing** *spaces count*"
   ]
  },
  {
   "cell_type": "raw",
   "id": "396fe59b-c517-409d-b19b-108fd3c2fbdc",
   "metadata": {},
   "source": [
    "Indexing:\n",
    "        Character: h  e  l  l  o\n",
    "        Index:     0  1  2  3  4\n",
    "        Reverse I: 0 -4 -3 -2 -1\n",
    "\n",
    "\n",
    "Slicing:  \n",
    "        [star:stop:step]\n",
    "                        Start = numerical index for the slice start\n",
    "                        Stop the index you go to, BUT NOT Include\n",
    "                        Step – size of the JUMP"
   ]
  },
  {
   "cell_type": "code",
   "execution_count": 97,
   "id": "f903eb29-e3e3-453d-8bf6-c528e342d12e",
   "metadata": {},
   "outputs": [
    {
     "data": {
      "text/plain": [
       "\"I don't\""
      ]
     },
     "execution_count": 97,
     "metadata": {},
     "output_type": "execute_result"
    }
   ],
   "source": [
    "\"I don't\""
   ]
  },
  {
   "cell_type": "code",
   "execution_count": 99,
   "id": "aec9e39a-67a7-47c1-aa1c-40af47e9e5bf",
   "metadata": {},
   "outputs": [
    {
     "name": "stdout",
     "output_type": "stream",
     "text": [
      "I don't\n"
     ]
    }
   ],
   "source": [
    "print(\"I don't\")"
   ]
  },
  {
   "cell_type": "markdown",
   "id": "d512361e-ba0f-40a6-910d-f6910efbd020",
   "metadata": {},
   "source": [
    "##### **Indexing**"
   ]
  },
  {
   "cell_type": "code",
   "execution_count": 140,
   "id": "cbb31671-705b-4294-b524-1c7355bd8842",
   "metadata": {},
   "outputs": [],
   "source": [
    "my_string = \"Hello World\""
   ]
  },
  {
   "cell_type": "code",
   "execution_count": 142,
   "id": "d2ab9791-d1d2-4c00-9dac-410f2ed4146a",
   "metadata": {},
   "outputs": [
    {
     "data": {
      "text/plain": [
       "'Hello World'"
      ]
     },
     "execution_count": 142,
     "metadata": {},
     "output_type": "execute_result"
    }
   ],
   "source": [
    "my_string"
   ]
  },
  {
   "cell_type": "code",
   "execution_count": 128,
   "id": "f08df944-00f4-47e3-9a60-1eee7f5f8f5e",
   "metadata": {},
   "outputs": [
    {
     "data": {
      "text/plain": [
       "'H'"
      ]
     },
     "execution_count": 128,
     "metadata": {},
     "output_type": "execute_result"
    }
   ],
   "source": [
    "my_string[0]"
   ]
  },
  {
   "cell_type": "code",
   "execution_count": 130,
   "id": "fc455880-49a5-4d7b-bd0d-22bb96670c29",
   "metadata": {},
   "outputs": [
    {
     "data": {
      "text/plain": [
       "'r'"
      ]
     },
     "execution_count": 130,
     "metadata": {},
     "output_type": "execute_result"
    }
   ],
   "source": [
    "my_string[8]"
   ]
  },
  {
   "cell_type": "code",
   "execution_count": 132,
   "id": "e06560c8-0580-48a1-8387-25019837f7c3",
   "metadata": {},
   "outputs": [
    {
     "data": {
      "text/plain": [
       "'r'"
      ]
     },
     "execution_count": 132,
     "metadata": {},
     "output_type": "execute_result"
    }
   ],
   "source": [
    "my_string[-3]"
   ]
  },
  {
   "cell_type": "markdown",
   "id": "63edd7b9-7d19-4ecb-8d10-5ab647cdd51c",
   "metadata": {
    "jp-MarkdownHeadingCollapsed": true
   },
   "source": [
    "##### **Slicing**"
   ]
  },
  {
   "cell_type": "code",
   "execution_count": 144,
   "id": "8814efbe-bd85-4b45-a31f-e0dc4960fd23",
   "metadata": {},
   "outputs": [],
   "source": [
    "my_string_2 = 'abcdefghijk'"
   ]
  },
  {
   "cell_type": "code",
   "execution_count": 146,
   "id": "418caf57-dabf-46fe-a9c0-fe5c3663aae7",
   "metadata": {},
   "outputs": [
    {
     "data": {
      "text/plain": [
       "'abcdefghijk'"
      ]
     },
     "execution_count": 146,
     "metadata": {},
     "output_type": "execute_result"
    }
   ],
   "source": [
    "my_string_2"
   ]
  },
  {
   "cell_type": "code",
   "execution_count": 148,
   "id": "c302d22d-1190-4221-8bfd-3c586d39aab6",
   "metadata": {},
   "outputs": [
    {
     "data": {
      "text/plain": [
       "'cdefghijk'"
      ]
     },
     "execution_count": 148,
     "metadata": {},
     "output_type": "execute_result"
    }
   ],
   "source": [
    "my_string_2[2:]"
   ]
  },
  {
   "cell_type": "code",
   "execution_count": 150,
   "id": "76769e09-b64b-4086-b988-033ca414da12",
   "metadata": {},
   "outputs": [
    {
     "data": {
      "text/plain": [
       "'abc'"
      ]
     },
     "execution_count": 150,
     "metadata": {},
     "output_type": "execute_result"
    }
   ],
   "source": [
    "my_string_2[:3]  ## up to letter D but NOT include"
   ]
  },
  {
   "cell_type": "code",
   "execution_count": 152,
   "id": "4ad9d920-2319-4d50-9ff9-8c912888e658",
   "metadata": {},
   "outputs": [
    {
     "data": {
      "text/plain": [
       "'def'"
      ]
     },
     "execution_count": 152,
     "metadata": {},
     "output_type": "execute_result"
    }
   ],
   "source": [
    "my_string_2[3:6]"
   ]
  },
  {
   "cell_type": "code",
   "execution_count": 154,
   "id": "02e37b8c-11fd-4ee3-be55-b5d339d6c637",
   "metadata": {},
   "outputs": [
    {
     "data": {
      "text/plain": [
       "'acegik'"
      ]
     },
     "execution_count": 154,
     "metadata": {},
     "output_type": "execute_result"
    }
   ],
   "source": [
    "my_string_2[::2]  ## grab everythin :: in a step size of 2"
   ]
  },
  {
   "cell_type": "raw",
   "id": "905d4743-9550-4003-a98e-2307545292f2",
   "metadata": {},
   "source": [
    "So, STEP Size -->  Instead of grabbing all letters with a space of one character, you grab every 2 characters apart\n",
    "\n",
    "You can use Revers Direction (Indexing) and Step Size"
   ]
  },
  {
   "cell_type": "code",
   "execution_count": 156,
   "id": "2fc6e2a2-d9a2-4fe6-9416-59fd1ad956f7",
   "metadata": {},
   "outputs": [
    {
     "data": {
      "text/plain": [
       "'kjihgfedcba'"
      ]
     },
     "execution_count": 156,
     "metadata": {},
     "output_type": "execute_result"
    }
   ],
   "source": [
    "my_string_2[::-1]"
   ]
  },
  {
   "cell_type": "markdown",
   "id": "30a74cd4-3e24-48d6-8444-8a839f0ed11d",
   "metadata": {},
   "source": [
    "#### **Escape Character**"
   ]
  },
  {
   "cell_type": "raw",
   "id": "2f58ae66-427b-4a5a-8e32-beb2984693a3",
   "metadata": {},
   "source": [
    "\\n  --> interrupts the line and inserts the other characters in a new line\n",
    "\n",
    "ex:\tPrint(“Hello \\n World”)\n",
    "output: \n",
    "        Hello\n",
    "        World"
   ]
  },
  {
   "cell_type": "code",
   "execution_count": 118,
   "id": "00c2e792-3759-4382-933a-e7d70adab324",
   "metadata": {},
   "outputs": [
    {
     "name": "stdout",
     "output_type": "stream",
     "text": [
      "Hello \n",
      " World\n"
     ]
    }
   ],
   "source": [
    "print('Hello \\n World')  ## break the line and insert remaining characters in new line"
   ]
  },
  {
   "cell_type": "code",
   "execution_count": 116,
   "id": "b22d793c-ba16-47ad-9976-2c6e359d9e3d",
   "metadata": {},
   "outputs": [
    {
     "name": "stdout",
     "output_type": "stream",
     "text": [
      "Hello \n",
      "World\n"
     ]
    }
   ],
   "source": [
    "print('Hello \\nWorld')   ## no space after n, aligns the new line below with current line"
   ]
  },
  {
   "cell_type": "code",
   "execution_count": 114,
   "id": "37d6b697-91b9-416f-a2b9-d8146d77987e",
   "metadata": {},
   "outputs": [
    {
     "name": "stdout",
     "output_type": "stream",
     "text": [
      "Hello \t World\n"
     ]
    }
   ],
   "source": [
    "print('Hello \\t World')  ## t for tab space"
   ]
  },
  {
   "cell_type": "code",
   "execution_count": 120,
   "id": "f8c79385-8bfe-4422-8ef3-ca1d3550e93b",
   "metadata": {},
   "outputs": [
    {
     "data": {
      "text/plain": [
       "5"
      ]
     },
     "execution_count": 120,
     "metadata": {},
     "output_type": "execute_result"
    }
   ],
   "source": [
    "len('hello')"
   ]
  },
  {
   "cell_type": "markdown",
   "id": "99184b10-e544-403c-9efa-2e1524ae4d24",
   "metadata": {
    "jp-MarkdownHeadingCollapsed": true
   },
   "source": [
    "### String Properties And Methods"
   ]
  },
  {
   "cell_type": "markdown",
   "id": "df7be33e-641a-4ea9-947b-c3da735123d9",
   "metadata": {
    "jp-MarkdownHeadingCollapsed": true
   },
   "source": [
    "#### **Immutability** & **String Concat**"
   ]
  },
  {
   "cell_type": "code",
   "execution_count": 162,
   "id": "dcee740c-aaa6-4972-9da0-f905dda83621",
   "metadata": {},
   "outputs": [],
   "source": [
    "name = 'Sam'"
   ]
  },
  {
   "cell_type": "code",
   "execution_count": 166,
   "id": "28cc30d2-b2b0-4909-af73-7b798b300ab0",
   "metadata": {},
   "outputs": [],
   "source": [
    "# name[0] = 'P' ## Trying to change 1st letter to P and change the word from Sam to Pam. This Is **NOT** Supported"
   ]
  },
  {
   "cell_type": "code",
   "execution_count": 170,
   "id": "08f7fb34-5bfc-4aea-ab0b-ca0eb059520c",
   "metadata": {},
   "outputs": [],
   "source": [
    "last_letters = name[1:]"
   ]
  },
  {
   "cell_type": "code",
   "execution_count": 172,
   "id": "e13a60a4-6eff-4127-9c44-04823843859a",
   "metadata": {},
   "outputs": [
    {
     "data": {
      "text/plain": [
       "'am'"
      ]
     },
     "execution_count": 172,
     "metadata": {},
     "output_type": "execute_result"
    }
   ],
   "source": [
    "last_letters"
   ]
  },
  {
   "cell_type": "code",
   "execution_count": 174,
   "id": "7ec4f797-b8a3-4ffa-b361-79b0142a501a",
   "metadata": {},
   "outputs": [
    {
     "data": {
      "text/plain": [
       "'Pam'"
      ]
     },
     "execution_count": 174,
     "metadata": {},
     "output_type": "execute_result"
    }
   ],
   "source": [
    "'P' + last_letters  # String Concatenation"
   ]
  },
  {
   "cell_type": "markdown",
   "id": "6d0f4a1c-2d3d-472d-b625-f362020e402a",
   "metadata": {
    "jp-MarkdownHeadingCollapsed": true
   },
   "source": [
    "#### String Multiplication"
   ]
  },
  {
   "cell_type": "code",
   "execution_count": 180,
   "id": "c94abec6-1cf6-4e74-ba1d-5d21199909f6",
   "metadata": {},
   "outputs": [],
   "source": [
    "letter = 'z'"
   ]
  },
  {
   "cell_type": "code",
   "execution_count": 182,
   "id": "30e28df7-8149-41a7-b8a1-50970a065086",
   "metadata": {},
   "outputs": [
    {
     "data": {
      "text/plain": [
       "'zzzzzzzzzz'"
      ]
     },
     "execution_count": 182,
     "metadata": {},
     "output_type": "execute_result"
    }
   ],
   "source": [
    "letter * 10"
   ]
  },
  {
   "cell_type": "code",
   "execution_count": 196,
   "id": "e825bf07-6cdc-4d79-b090-d3024c44785c",
   "metadata": {},
   "outputs": [
    {
     "data": {
      "text/plain": [
       "'Hi Hi Hi '"
      ]
     },
     "execution_count": 196,
     "metadata": {},
     "output_type": "execute_result"
    }
   ],
   "source": [
    "letter_2 = 'Hi'\n",
    "\n",
    "(letter_2 + ' ') * 3"
   ]
  },
  {
   "cell_type": "markdown",
   "id": "03d29893-3825-440e-92f9-58c2759fe4d2",
   "metadata": {
    "jp-MarkdownHeadingCollapsed": true
   },
   "source": [
    "#### Built In Methods\n",
    "\n",
    "By Hitting Tab after dot(.)"
   ]
  },
  {
   "cell_type": "code",
   "execution_count": 205,
   "id": "c97e7370-4648-43f9-ac30-4b3e6db657c1",
   "metadata": {},
   "outputs": [
    {
     "data": {
      "text/plain": [
       "'HELLO WORLD'"
      ]
     },
     "execution_count": 205,
     "metadata": {},
     "output_type": "execute_result"
    }
   ],
   "source": [
    "x = 'Hello World'\n",
    "\n",
    "x.upper()"
   ]
  },
  {
   "cell_type": "code",
   "execution_count": 213,
   "id": "e53dd0b3-b017-4e22-8dd2-225243e53ea3",
   "metadata": {},
   "outputs": [
    {
     "data": {
      "text/plain": [
       "['Hell', ' W', 'rld']"
      ]
     },
     "execution_count": 213,
     "metadata": {},
     "output_type": "execute_result"
    }
   ],
   "source": [
    "x.split()     # Split on space by default, and creates a list.\n",
    "\n",
    "x.split('o')    # You can define on what to split on as well. Ex: split on letter 'o' x.split('o'); In this case the space becomes part of the split."
   ]
  },
  {
   "cell_type": "markdown",
   "id": "377bc418-da95-4fc1-93aa-c280848b0bed",
   "metadata": {},
   "source": [
    "#### String Formatting For Printing"
   ]
  },
  {
   "cell_type": "raw",
   "id": "36970ca3-ea56-449c-a405-19d30942c4fa",
   "metadata": {},
   "source": [
    "Interpolation - Inject a var into the string\n",
    "\n",
    "Ex: print(\"Hello\" + var)\n",
    "\n",
    "2 Methods:\n",
    "            .format method\n",
    "            f-strings (formatted string literals)"
   ]
  },
  {
   "cell_type": "markdown",
   "id": "d428b182-7a73-42da-b9d6-fcbb241cccfd",
   "metadata": {},
   "source": [
    "##### **.Format Method**"
   ]
  },
  {
   "cell_type": "code",
   "execution_count": 985,
   "id": "04e4a921-a00e-46e5-b8e0-d2f3f625a672",
   "metadata": {},
   "outputs": [
    {
     "name": "stdout",
     "output_type": "stream",
     "text": [
      "The format method, works like this and you can type after the method as well\n"
     ]
    }
   ],
   "source": [
    "print('The format method, {}'.format('works like this'), 'and you can type after the method as well')\n",
    "\n",
    "#If youo type after .format(), don't forget the COMMA"
   ]
  },
  {
   "cell_type": "code",
   "execution_count": 241,
   "id": "eb2f7d28-f652-4ad4-a0e6-8dbe39508c98",
   "metadata": {},
   "outputs": [
    {
     "name": "stdout",
     "output_type": "stream",
     "text": [
      "It prints in the order inserted\n"
     ]
    }
   ],
   "source": [
    "print('It prints {} {} {} {}'.format('in', 'the', 'order', 'inserted'))"
   ]
  },
  {
   "cell_type": "code",
   "execution_count": 247,
   "id": "0736a611-01b9-4c30-bb56-49b7b515a8b2",
   "metadata": {},
   "outputs": [
    {
     "name": "stdout",
     "output_type": "stream",
     "text": [
      "You can also specify the order by index\n"
     ]
    }
   ],
   "source": [
    "print('You can also {4} {0} {2} {3} {1}'.format('the', 'index', 'order', 'by', 'specify'))"
   ]
  },
  {
   "cell_type": "code",
   "execution_count": 253,
   "id": "0a8fa9a7-677e-4507-9f52-22caef2f3e6d",
   "metadata": {},
   "outputs": [
    {
     "name": "stdout",
     "output_type": "stream",
     "text": [
      "Hello key words assigned\n"
     ]
    }
   ],
   "source": [
    "print('Hello, {k} {w} {a}'.format( k = 'key', w = 'words', a = 'assigned'))"
   ]
  },
  {
   "cell_type": "code",
   "execution_count": 269,
   "id": "5720fa7e-cf44-4c03-8983-6fa769b4ab61",
   "metadata": {},
   "outputs": [
    {
     "name": "stdout",
     "output_type": "stream",
     "text": [
      "can repeat either by index or key word assigned: repeat like this: ~~~ mix and match mix and match mix and match\n"
     ]
    }
   ],
   "source": [
    "print('can repeat either by index or key word assigned: {0} {l} {m} {m} {m}'.format('repeat', l = 'like this: ~~~', m = 'mix and match'))"
   ]
  },
  {
   "cell_type": "markdown",
   "id": "e50514a9-4f2f-4d0d-8d14-7fcfc3cf33dd",
   "metadata": {},
   "source": [
    "**Float Formatting**: \"{value: width.precision f}\""
   ]
  },
  {
   "cell_type": "code",
   "execution_count": 276,
   "id": "96cc620b-785f-48e3-bb9f-66b558cbfb39",
   "metadata": {},
   "outputs": [
    {
     "data": {
      "text/plain": [
       "0.1287001287001287"
      ]
     },
     "execution_count": 276,
     "metadata": {},
     "output_type": "execute_result"
    }
   ],
   "source": [
    "result = 100 / 777\n",
    "\n",
    "result"
   ]
  },
  {
   "cell_type": "code",
   "execution_count": 282,
   "id": "699630c3-cc41-4b7c-b0be-a8904f3e0a76",
   "metadata": {},
   "outputs": [
    {
     "name": "stdout",
     "output_type": "stream",
     "text": [
      "The result was 0.129\n"
     ]
    }
   ],
   "source": [
    "print (\"The result was {r:1.3f}\".format(r=result))"
   ]
  },
  {
   "cell_type": "markdown",
   "id": "deec4510-cfaa-447d-b1d3-e7e72b72e75c",
   "metadata": {
    "jp-MarkdownHeadingCollapsed": true
   },
   "source": [
    "##### **f - Strings**"
   ]
  },
  {
   "cell_type": "code",
   "execution_count": 292,
   "id": "d67d96f8-dfe6-4dee-a1c3-490262044011",
   "metadata": {},
   "outputs": [
    {
     "name": "stdout",
     "output_type": "stream",
     "text": [
      "you insert f at the beginning and the var directly here rather than calling dot.format method at the end\n"
     ]
    }
   ],
   "source": [
    "f_string = 'rather than calling dot.format method at the end'\n",
    "\n",
    "print(f'you insert f at the beginning and the var directly here {f_string}')"
   ]
  },
  {
   "cell_type": "markdown",
   "id": "aaffcc24-6fd5-4ef6-a28c-b9c1cb2a6c0f",
   "metadata": {
    "jp-MarkdownHeadingCollapsed": true
   },
   "source": [
    "### **Python Lists**"
   ]
  },
  {
   "cell_type": "raw",
   "id": "becc9bd7-29be-451b-b4d4-4ce444e3c2e2",
   "metadata": {},
   "source": [
    "1. Indexing and Slicing\n",
    "2. Can be Nested\n",
    "3. Can Call Methods: .append(), .pop(index can be used)\n",
    "4. Hold a Variety od Objects\n",
    "5. MUTABLE\n",
    "6. Can be sorted: alphabet or numbers"
   ]
  },
  {
   "cell_type": "code",
   "execution_count": 298,
   "id": "db60d033-d0d7-4a18-b3e1-eca1551df765",
   "metadata": {},
   "outputs": [
    {
     "data": {
      "text/plain": [
       "3"
      ]
     },
     "execution_count": 298,
     "metadata": {},
     "output_type": "execute_result"
    }
   ],
   "source": [
    "l = [1,2,3]              # Basic List Syntax\n",
    "\n",
    "l_2 = ['str', 200, 1.57] # Lists can hold variety of objects\n",
    "\n",
    "len(l_2)                 # Check the length of the list"
   ]
  },
  {
   "cell_type": "code",
   "execution_count": 302,
   "id": "b1499821-f9b9-42b3-ab3a-b41726c294c1",
   "metadata": {},
   "outputs": [
    {
     "data": {
      "text/plain": [
       "['str', 200]"
      ]
     },
     "execution_count": 302,
     "metadata": {},
     "output_type": "execute_result"
    }
   ],
   "source": [
    "l_2[:2]                  # Indexing And Slicing"
   ]
  },
  {
   "cell_type": "code",
   "execution_count": 348,
   "id": "50a17629-9a02-430e-a303-daddf47cc8df",
   "metadata": {},
   "outputs": [
    {
     "data": {
      "text/plain": [
       "[1, 2, 3, 'str', 200, 1.57]"
      ]
     },
     "execution_count": 348,
     "metadata": {},
     "output_type": "execute_result"
    }
   ],
   "source": [
    "l + l_2                  # Concatenate Lists"
   ]
  },
  {
   "cell_type": "markdown",
   "id": "75e1559e-27dd-4c56-b8d2-ebdbe6d5b3c7",
   "metadata": {},
   "source": [
    "A list is **MUTABLE**, you can change objects inside"
   ]
  },
  {
   "cell_type": "code",
   "execution_count": 351,
   "id": "9ed1c362-bdfe-4716-a2d8-02236b7dec79",
   "metadata": {},
   "outputs": [
    {
     "data": {
      "text/plain": [
       "[1,\n",
       " 2,\n",
       " 3,\n",
       " 'I changed the str object inside this list that was located at index 3',\n",
       " 200,\n",
       " 1.57]"
      ]
     },
     "execution_count": 351,
     "metadata": {},
     "output_type": "execute_result"
    }
   ],
   "source": [
    "new_l = l + l_2\n",
    "\n",
    "new_l[3] = 'I changed the str object inside this list that was located at index 3'\n",
    "\n",
    "new_l"
   ]
  },
  {
   "cell_type": "code",
   "execution_count": 357,
   "id": "6b509548-daec-48f4-a1c7-f1d8a0b73e1d",
   "metadata": {},
   "outputs": [
    {
     "data": {
      "text/plain": [
       "[1,\n",
       " 2,\n",
       " 3,\n",
       " 'I changed the str object inside this list that was located at index 3',\n",
       " 200,\n",
       " 1.57,\n",
       " 'added new object at the end of the list by calling a FUNCTION',\n",
       " 'added new object at the end of the list by calling a FUNCTION',\n",
       " 'added new object at the end of the list by calling a FUNCTION']"
      ]
     },
     "execution_count": 357,
     "metadata": {},
     "output_type": "execute_result"
    }
   ],
   "source": [
    "new_l.append('added new object at the end of the list by calling a FUNCTION')\n",
    "\n",
    "new_l"
   ]
  },
  {
   "cell_type": "code",
   "execution_count": 361,
   "id": "8fe551a6-6fd9-44aa-8c30-67c2dedec1a2",
   "metadata": {},
   "outputs": [
    {
     "data": {
      "text/plain": [
       "'added new object at the end of the list by calling a FUNCTION'"
      ]
     },
     "execution_count": 361,
     "metadata": {},
     "output_type": "execute_result"
    }
   ],
   "source": [
    "new_l.pop()             # Removing an item from the list"
   ]
  },
  {
   "cell_type": "code",
   "execution_count": 363,
   "id": "880f55f9-a3aa-44ca-b8d3-11912dffc478",
   "metadata": {},
   "outputs": [
    {
     "data": {
      "text/plain": [
       "[1,\n",
       " 2,\n",
       " 3,\n",
       " 'I changed the str object inside this list that was located at index 3',\n",
       " 200,\n",
       " 1.57,\n",
       " 'added new object at the end of the list by calling a FUNCTION']"
      ]
     },
     "execution_count": 363,
     "metadata": {},
     "output_type": "execute_result"
    }
   ],
   "source": [
    "new_l"
   ]
  },
  {
   "cell_type": "code",
   "execution_count": 365,
   "id": "23158b47-1154-4b2d-8beb-49acc1681e31",
   "metadata": {},
   "outputs": [
    {
     "data": {
      "text/plain": [
       "'added new object at the end of the list by calling a FUNCTION'"
      ]
     },
     "execution_count": 365,
     "metadata": {},
     "output_type": "execute_result"
    }
   ],
   "source": [
    "removed_item_with_pop_method = new_l.pop()\n",
    "\n",
    "removed_item_with_pop_method"
   ]
  },
  {
   "cell_type": "code",
   "execution_count": 367,
   "id": "e2ae8ddb-715c-45ab-9e2a-85c2df6175f8",
   "metadata": {},
   "outputs": [
    {
     "data": {
      "text/plain": [
       "[1,\n",
       " 2,\n",
       " 3,\n",
       " 'I changed the str object inside this list that was located at index 3',\n",
       " 200,\n",
       " 1.57]"
      ]
     },
     "execution_count": 367,
     "metadata": {},
     "output_type": "execute_result"
    }
   ],
   "source": [
    "new_l   # We can see now the list is back to origin, after adding with append, and removing with pop"
   ]
  },
  {
   "cell_type": "code",
   "execution_count": 369,
   "id": "a0002751-2cad-46fd-a087-c1a2a9352d26",
   "metadata": {},
   "outputs": [
    {
     "data": {
      "text/plain": [
       "'I changed the str object inside this list that was located at index 3'"
      ]
     },
     "execution_count": 369,
     "metadata": {},
     "output_type": "execute_result"
    }
   ],
   "source": [
    "new_l.pop(3)"
   ]
  },
  {
   "cell_type": "code",
   "execution_count": 372,
   "id": "5dafcbc3-2120-423c-a25e-937f2d3d0e17",
   "metadata": {},
   "outputs": [
    {
     "data": {
      "text/plain": [
       "[1, 2, 3, 200, 1.57]"
      ]
     },
     "execution_count": 372,
     "metadata": {},
     "output_type": "execute_result"
    }
   ],
   "source": [
    "new_l"
   ]
  },
  {
   "cell_type": "code",
   "execution_count": 374,
   "id": "e671a212-82c6-40ab-a941-6e8e3b7f61f1",
   "metadata": {},
   "outputs": [
    {
     "data": {
      "text/plain": [
       "[1, 2, 3, 200]"
      ]
     },
     "execution_count": 374,
     "metadata": {},
     "output_type": "execute_result"
    }
   ],
   "source": [
    "new_l.pop(-1)\n",
    "\n",
    "new_l"
   ]
  },
  {
   "cell_type": "code",
   "execution_count": 380,
   "id": "3a1a7278-2139-4c2d-a1b3-fab161031e79",
   "metadata": {},
   "outputs": [
    {
     "data": {
      "text/plain": [
       "[200, 3, 2, 1]"
      ]
     },
     "execution_count": 380,
     "metadata": {},
     "output_type": "execute_result"
    }
   ],
   "source": [
    "new_l.reverse()        # Sorting by reverse order.\n",
    "\n",
    "new_l                  # If you want to assign the sorted list to a new var, DONT assign directly to the method, but sort 1st, then assign to the actual var."
   ]
  },
  {
   "cell_type": "markdown",
   "id": "a71c77f3-b5af-4693-8f29-aa564f28f106",
   "metadata": {
    "jp-MarkdownHeadingCollapsed": true
   },
   "source": [
    "### **Dictonaries In Python**"
   ]
  },
  {
   "cell_type": "raw",
   "id": "66b4f641-dc8d-46e9-995f-7c1fadaa6454",
   "metadata": {},
   "source": [
    "1. Unordered Mappings for storing objects\n",
    "2. Instead use Key:Value Pairs \n",
    "3. Syntax { ' ' : ' ' , ' ' : ' ' }\n",
    "4. Cannot be SORTED\n",
    "5. Nested dictionaries inside or lists inside the key value pairs"
   ]
  },
  {
   "cell_type": "code",
   "execution_count": 387,
   "id": "f805c5bb-ba57-4e6b-b839-c99127703277",
   "metadata": {},
   "outputs": [
    {
     "data": {
      "text/plain": [
       "{'k1': 'v1', 'k2': 'v2'}"
      ]
     },
     "execution_count": 387,
     "metadata": {},
     "output_type": "execute_result"
    }
   ],
   "source": [
    "d = { 'k1':'v1' , 'k2':'v2' }\n",
    "\n",
    "d"
   ]
  },
  {
   "cell_type": "code",
   "execution_count": 391,
   "id": "047e4af2-1a54-4c73-978b-99f071504714",
   "metadata": {},
   "outputs": [
    {
     "data": {
      "text/plain": [
       "'v2'"
      ]
     },
     "execution_count": 391,
     "metadata": {},
     "output_type": "execute_result"
    }
   ],
   "source": [
    "d['k2']     # Lookup Value 2 by giving Key 2. So, provide key and get Value"
   ]
  },
  {
   "cell_type": "markdown",
   "id": "b4974c7f-8235-4b23-81be-ce7cbd1f890f",
   "metadata": {},
   "source": [
    "#### **Nested** Dict & Lists inside Dictionary"
   ]
  },
  {
   "cell_type": "code",
   "execution_count": 422,
   "id": "83c5ca44-204e-4190-8885-c18f70117032",
   "metadata": {},
   "outputs": [
    {
     "data": {
      "text/plain": [
       "3"
      ]
     },
     "execution_count": 422,
     "metadata": {},
     "output_type": "execute_result"
    }
   ],
   "source": [
    "di = { 'nested list':[1, 2, 3] , 'nested dictionary':{'price':100}, 'NL_2 to call methods on':['Hi', 'Hello'] }\n",
    "\n",
    "di['nested list'][2]  # Calling key value pair, and within that value which is a list indexing the specific value we want"
   ]
  },
  {
   "cell_type": "code",
   "execution_count": 396,
   "id": "5054af92-c09a-434d-ab6b-b3e0892b0691",
   "metadata": {},
   "outputs": [
    {
     "data": {
      "text/plain": [
       "{'price': 100}"
      ]
     },
     "execution_count": 396,
     "metadata": {},
     "output_type": "execute_result"
    }
   ],
   "source": [
    "di['nested dictionary']"
   ]
  },
  {
   "cell_type": "code",
   "execution_count": 398,
   "id": "f6aacbe3-fe8b-4578-b77b-1ab30bed4d9b",
   "metadata": {},
   "outputs": [
    {
     "data": {
      "text/plain": [
       "100"
      ]
     },
     "execution_count": 398,
     "metadata": {},
     "output_type": "execute_result"
    }
   ],
   "source": [
    "di['nested dictionary']['price']"
   ]
  },
  {
   "cell_type": "code",
   "execution_count": 426,
   "id": "c7dd95f0-44b8-4493-bca9-353952b70e71",
   "metadata": {},
   "outputs": [
    {
     "data": {
      "text/plain": [
       "'HELLO'"
      ]
     },
     "execution_count": 426,
     "metadata": {},
     "output_type": "execute_result"
    }
   ],
   "source": [
    "di['NL_2 to call methods on'][1].upper()"
   ]
  },
  {
   "cell_type": "code",
   "execution_count": 432,
   "id": "f3f3f012-de66-46f9-95bf-5223ed641058",
   "metadata": {},
   "outputs": [
    {
     "data": {
      "text/plain": [
       "{'nested list': [1, 2, 3],\n",
       " 'nested dictionary': {'price': 100},\n",
       " 'NL_2 to call methods on': ['Hi', 'Hello'],\n",
       " 'add new element': 'adding value here just like that'}"
      ]
     },
     "execution_count": 432,
     "metadata": {},
     "output_type": "execute_result"
    }
   ],
   "source": [
    "di['add new element'] = 'adding value here just like that'\n",
    "\n",
    "di"
   ]
  },
  {
   "cell_type": "code",
   "execution_count": 436,
   "id": "8b47f4fb-c448-4b1f-8fa1-e73c8f373ff1",
   "metadata": {},
   "outputs": [
    {
     "data": {
      "text/plain": [
       "{'nested list': [1, 2, 3],\n",
       " 'nested dictionary': {'price': 100},\n",
       " 'NL_2 to call methods on': 'Overwriting the existing value of this kew with NEW VALUE. It also just changed from list to String',\n",
       " 'add new element': 'adding value here just like that'}"
      ]
     },
     "execution_count": 436,
     "metadata": {},
     "output_type": "execute_result"
    }
   ],
   "source": [
    "di['NL_2 to call methods on'] = 'Overwriting the existing value of this kew with NEW VALUE. It also just changed from list to String'\n",
    "\n",
    "di"
   ]
  },
  {
   "cell_type": "code",
   "execution_count": 440,
   "id": "8fbacbca-df05-40b2-87c2-c5cb05a9fc05",
   "metadata": {},
   "outputs": [
    {
     "data": {
      "text/plain": [
       "dict_keys(['nested list', 'nested dictionary', 'NL_2 to call methods on', 'add new element'])"
      ]
     },
     "execution_count": 440,
     "metadata": {},
     "output_type": "execute_result"
    }
   ],
   "source": [
    "di.keys()"
   ]
  },
  {
   "cell_type": "code",
   "execution_count": 442,
   "id": "7497a8dc-347d-4107-a3d2-ad0d3debbc40",
   "metadata": {},
   "outputs": [
    {
     "data": {
      "text/plain": [
       "dict_values([[1, 2, 3], {'price': 100}, 'Overwriting the existing value of this kew with NEW VALUE. It also just changed from list to String', 'adding value here just like that'])"
      ]
     },
     "execution_count": 442,
     "metadata": {},
     "output_type": "execute_result"
    }
   ],
   "source": [
    "di.values()"
   ]
  },
  {
   "cell_type": "code",
   "execution_count": 444,
   "id": "459915ba-0e5b-4183-8392-a21f1e93b43f",
   "metadata": {},
   "outputs": [
    {
     "data": {
      "text/plain": [
       "dict_items([('nested list', [1, 2, 3]), ('nested dictionary', {'price': 100}), ('NL_2 to call methods on', 'Overwriting the existing value of this kew with NEW VALUE. It also just changed from list to String'), ('add new element', 'adding value here just like that')])"
      ]
     },
     "execution_count": 444,
     "metadata": {},
     "output_type": "execute_result"
    }
   ],
   "source": [
    "di.items()"
   ]
  },
  {
   "cell_type": "markdown",
   "id": "17f8cf9c-d891-48ce-8fdb-306a9fc5e922",
   "metadata": {
    "jp-MarkdownHeadingCollapsed": true
   },
   "source": [
    "### **Tuples**"
   ]
  },
  {
   "cell_type": "raw",
   "id": "4976c058-4fea-4fbe-8b4b-115adab9b839",
   "metadata": {},
   "source": [
    "1. Similar to LISTS: t = (1,2,3)\n",
    "2. IMMUTABLE \n",
    "3. Mix of Objects Supported\n",
    "4. Indexing and Slicing\n",
    "5. 2 methods only: count and index"
   ]
  },
  {
   "cell_type": "code",
   "execution_count": 449,
   "id": "2824835e-1649-42d8-bd76-eb80e058c2e8",
   "metadata": {},
   "outputs": [],
   "source": [
    "t = (1,2,3)\n",
    "\n",
    "l = [1,2,3]"
   ]
  },
  {
   "cell_type": "code",
   "execution_count": 451,
   "id": "21b3791e-2369-4f6b-ad7a-28963ebbcfe5",
   "metadata": {},
   "outputs": [
    {
     "data": {
      "text/plain": [
       "tuple"
      ]
     },
     "execution_count": 451,
     "metadata": {},
     "output_type": "execute_result"
    }
   ],
   "source": [
    "type(t)"
   ]
  },
  {
   "cell_type": "code",
   "execution_count": 453,
   "id": "b7e0a11b-2760-4888-8ca6-1f1fe3e8f988",
   "metadata": {},
   "outputs": [
    {
     "data": {
      "text/plain": [
       "list"
      ]
     },
     "execution_count": 453,
     "metadata": {},
     "output_type": "execute_result"
    }
   ],
   "source": [
    "type(l)"
   ]
  },
  {
   "cell_type": "code",
   "execution_count": 455,
   "id": "c9a0ac28-c99a-406f-baea-d8cbb5b8102c",
   "metadata": {},
   "outputs": [
    {
     "data": {
      "text/plain": [
       "3"
      ]
     },
     "execution_count": 455,
     "metadata": {},
     "output_type": "execute_result"
    }
   ],
   "source": [
    "len(t)"
   ]
  },
  {
   "cell_type": "markdown",
   "id": "bf9343ab-c9f1-46f7-a4da-52333a0993e1",
   "metadata": {
    "jp-MarkdownHeadingCollapsed": true
   },
   "source": [
    "### **Sets** - Unordered collection of Unique elements"
   ]
  },
  {
   "cell_type": "code",
   "execution_count": 463,
   "id": "e5a9d2e3-2452-40d8-a226-bcafcb9840f0",
   "metadata": {},
   "outputs": [],
   "source": [
    "s = set()"
   ]
  },
  {
   "cell_type": "code",
   "execution_count": 465,
   "id": "630d1965-7976-4897-b1a1-fe7e38d3475c",
   "metadata": {},
   "outputs": [],
   "source": [
    "s.add(1)"
   ]
  },
  {
   "cell_type": "code",
   "execution_count": 470,
   "id": "a33f9476-9411-4297-b851-c7b4883f3f13",
   "metadata": {},
   "outputs": [],
   "source": [
    "s.add(2)"
   ]
  },
  {
   "cell_type": "code",
   "execution_count": 473,
   "id": "b248cf0c-be40-4d16-9193-7069906e0491",
   "metadata": {},
   "outputs": [
    {
     "data": {
      "text/plain": [
       "{1, 2}"
      ]
     },
     "execution_count": 473,
     "metadata": {},
     "output_type": "execute_result"
    }
   ],
   "source": [
    "s"
   ]
  },
  {
   "cell_type": "code",
   "execution_count": 475,
   "id": "99b6576c-9a13-427d-a3d0-e4becdcea490",
   "metadata": {},
   "outputs": [
    {
     "data": {
      "text/plain": [
       "{1, 2}"
      ]
     },
     "execution_count": 475,
     "metadata": {},
     "output_type": "execute_result"
    }
   ],
   "source": [
    "s.add(2)\n",
    "\n",
    "s"
   ]
  },
  {
   "cell_type": "code",
   "execution_count": 481,
   "id": "a466d913-4f93-4fa6-ad27-d0aa6caa3f90",
   "metadata": {},
   "outputs": [
    {
     "data": {
      "text/plain": [
       "{2, 4, 6, 7, 8, 9}"
      ]
     },
     "execution_count": 481,
     "metadata": {},
     "output_type": "execute_result"
    }
   ],
   "source": [
    "random_list = [4,4,4,2,2,2,6,6,7,8,9,9,9,]\n",
    "\n",
    "set(random_list)  # Even though it looks as ordered, sets DONT have an order"
   ]
  },
  {
   "cell_type": "markdown",
   "id": "b7091746-e493-481b-bd0f-f7ac755fcf3a",
   "metadata": {
    "jp-MarkdownHeadingCollapsed": true
   },
   "source": [
    "### **Booleans** - True or False"
   ]
  },
  {
   "cell_type": "code",
   "execution_count": 540,
   "id": "7e9c5880-801e-4738-8d86-a2113405553e",
   "metadata": {},
   "outputs": [
    {
     "data": {
      "text/plain": [
       "False"
      ]
     },
     "execution_count": 540,
     "metadata": {},
     "output_type": "execute_result"
    }
   ],
   "source": [
    "1 > 2"
   ]
  },
  {
   "cell_type": "code",
   "execution_count": 542,
   "id": "fe3953dc-ee93-4d9f-8ef2-98b17f5a9d61",
   "metadata": {},
   "outputs": [
    {
     "data": {
      "text/plain": [
       "True"
      ]
     },
     "execution_count": 542,
     "metadata": {},
     "output_type": "execute_result"
    }
   ],
   "source": [
    "1 == 1"
   ]
  },
  {
   "cell_type": "markdown",
   "id": "7cb0df09-bc72-4257-b1f7-f7235db73d95",
   "metadata": {
    "jp-MarkdownHeadingCollapsed": true
   },
   "source": [
    "### **None** Data Type"
   ]
  },
  {
   "cell_type": "raw",
   "id": "01652e97-65c5-4880-89f2-f172e413832d",
   "metadata": {},
   "source": [
    "1. Assign a var = None\n",
    "2. Serves as Placeholder\n",
    "3. Doesn't return error\n",
    "4. Think of them as NULL (SQL)"
   ]
  },
  {
   "attachments": {},
   "cell_type": "markdown",
   "id": "93665304-fc72-4b5d-8cc8-8b764acc16dc",
   "metadata": {
    "jp-MarkdownHeadingCollapsed": true
   },
   "source": [
    "### **Files**: I/O w/ basic files"
   ]
  },
  {
   "cell_type": "markdown",
   "id": "0cfb7af1-a99f-4169-9666-0477367d1c82",
   "metadata": {},
   "source": [
    "#### Basic I/O; Create file (%%writefile myfile.txt); myfile.read(); myfile.seek(0); myfile.readlines()"
   ]
  },
  {
   "cell_type": "code",
   "execution_count": 662,
   "id": "1cf328c6-d4ce-4879-a771-23cf1b90795c",
   "metadata": {},
   "outputs": [
    {
     "name": "stdout",
     "output_type": "stream",
     "text": [
      "Overwriting myfile.txt\n"
     ]
    }
   ],
   "source": [
    "%%writefile myfile.txt\n",
    "\n",
    "Hello this is a text file\n",
    "this is the second line\n",
    "this is the third line"
   ]
  },
  {
   "cell_type": "code",
   "execution_count": 555,
   "id": "8375f167-208c-42ac-bc66-af87017f2703",
   "metadata": {},
   "outputs": [
    {
     "data": {
      "text/plain": [
       "'/Users/evib21/Library/CloudStorage/OneDrive-Personal/All_Docs/Learn/Udemy/Python'"
      ]
     },
     "execution_count": 555,
     "metadata": {},
     "output_type": "execute_result"
    }
   ],
   "source": [
    "pwd"
   ]
  },
  {
   "cell_type": "code",
   "execution_count": 557,
   "id": "a3f2630e-3e2d-46f4-b363-5cc99824c2db",
   "metadata": {},
   "outputs": [
    {
     "data": {
      "text/plain": [
       "'/Users/evib21/Library/CloudStorage/OneDrive-Personal/All_Docs/Learn/Udemy/Python'"
      ]
     },
     "execution_count": 557,
     "metadata": {},
     "output_type": "execute_result"
    }
   ],
   "source": [
    "pwd(myfile.txt)"
   ]
  },
  {
   "cell_type": "code",
   "execution_count": 559,
   "id": "f30396c4-ec80-4b5e-9e65-57b98eb43134",
   "metadata": {},
   "outputs": [
    {
     "data": {
      "text/plain": [
       "'/Users/evib21/Library/CloudStorage/OneDrive-Personal/All_Docs/Learn/Udemy/Python'"
      ]
     },
     "execution_count": 559,
     "metadata": {},
     "output_type": "execute_result"
    }
   ],
   "source": [
    "pwd(Python_Udemy_Notes_Mac.ipynb)"
   ]
  },
  {
   "cell_type": "code",
   "execution_count": 631,
   "id": "2748ba41-6e10-40b8-9a2a-ced07d32da42",
   "metadata": {},
   "outputs": [
    {
     "data": {
      "text/plain": [
       "'\\nHello this is a text file\\nthis is the second line\\nthis is the third line\\n'"
      ]
     },
     "execution_count": 631,
     "metadata": {},
     "output_type": "execute_result"
    }
   ],
   "source": [
    "myfile = open('myfile.txt')\n",
    "\n",
    "myfile.read()"
   ]
  },
  {
   "cell_type": "code",
   "execution_count": 567,
   "id": "7e6f7d2f-ca79-4a6f-a8d6-6160d4101865",
   "metadata": {},
   "outputs": [
    {
     "data": {
      "text/plain": [
       "''"
      ]
     },
     "execution_count": 567,
     "metadata": {},
     "output_type": "execute_result"
    }
   ],
   "source": [
    "myfile.read()"
   ]
  },
  {
   "cell_type": "code",
   "execution_count": 633,
   "id": "b8d939c1-961c-476c-bf78-1f14227633a9",
   "metadata": {},
   "outputs": [
    {
     "data": {
      "text/plain": [
       "'\\nHello this is a text file\\nthis is the second line\\nthis is the third line\\n'"
      ]
     },
     "execution_count": 633,
     "metadata": {},
     "output_type": "execute_result"
    }
   ],
   "source": [
    "myfile.seek(0)\n",
    "\n",
    "myfile.read()"
   ]
  },
  {
   "cell_type": "code",
   "execution_count": 635,
   "id": "31e62d9e-f7ea-42bb-84b1-a91f41b5bad1",
   "metadata": {},
   "outputs": [
    {
     "data": {
      "text/plain": [
       "['\\n',\n",
       " 'Hello this is a text file\\n',\n",
       " 'this is the second line\\n',\n",
       " 'this is the third line\\n']"
      ]
     },
     "execution_count": 635,
     "metadata": {},
     "output_type": "execute_result"
    }
   ],
   "source": [
    "myfile.seek(0)\n",
    "\n",
    "myfile.readlines()"
   ]
  },
  {
   "cell_type": "markdown",
   "id": "1525319e-7954-4e45-aa15-add698584b2c",
   "metadata": {
    "jp-MarkdownHeadingCollapsed": true
   },
   "source": [
    "#### **File Locations**"
   ]
  },
  {
   "cell_type": "raw",
   "id": "4b5b54a4-147a-4276-83d0-ba7894c4a425",
   "metadata": {},
   "source": [
    "1. Open txt in another location on your computer\n",
    "2. Provide full file path (different syntax for windows, mac, linux)\n",
    "    2.a) Windows:     myfile = open(\"C:\\\\Users\\\\UserName\\\\Folder\\\\test.txt\")\n",
    "    2.b) Mac & Linux: myfile = open(\"/Users/UserName/Folder/test.txt\")    \n",
    "3. open and close method used when reading file and then closing it.\n",
    "4. By using with as : you create code indendation (like defining a virtual table SQL) \n",
    "   and the var declared inside that piece of code can read the file; You dont worry about closing."
   ]
  },
  {
   "cell_type": "code",
   "execution_count": 594,
   "id": "34095e05-3eb9-43ef-a2f2-ea1e737e971b",
   "metadata": {},
   "outputs": [
    {
     "data": {
      "text/plain": [
       "'/Users/evib21/Library/CloudStorage/OneDrive-Personal/All_Docs/Learn/Udemy/Python'"
      ]
     },
     "execution_count": 594,
     "metadata": {},
     "output_type": "execute_result"
    }
   ],
   "source": [
    "pwd # example:"
   ]
  },
  {
   "cell_type": "code",
   "execution_count": 597,
   "id": "5c79997c-f200-465e-a81d-e5138b7ec637",
   "metadata": {},
   "outputs": [],
   "source": [
    "myfile.close()    # Always need to close the file, or next time will return error"
   ]
  },
  {
   "cell_type": "code",
   "execution_count": 637,
   "id": "62c50d7d-9dbc-43b7-8e5b-eb19e29e3f3d",
   "metadata": {},
   "outputs": [
    {
     "data": {
      "text/plain": [
       "0"
      ]
     },
     "execution_count": 637,
     "metadata": {},
     "output_type": "execute_result"
    }
   ],
   "source": [
    "myfile.seek(0)\n"
   ]
  },
  {
   "cell_type": "code",
   "execution_count": 639,
   "id": "107f4e63-6a6c-413e-9ba9-737313516555",
   "metadata": {},
   "outputs": [
    {
     "data": {
      "text/plain": [
       "['\\n',\n",
       " 'Hello this is a text file\\n',\n",
       " 'this is the second line\\n',\n",
       " 'this is the third line\\n']"
      ]
     },
     "execution_count": 639,
     "metadata": {},
     "output_type": "execute_result"
    }
   ],
   "source": [
    "with open('myfile.txt') as my_new_file:\n",
    "    contents = my_new_file.readlines()\n",
    "    # by doing this little trick you dont need to close the file now\n",
    "\n",
    "contents"
   ]
  },
  {
   "cell_type": "code",
   "execution_count": 641,
   "id": "76ff93ef-3fda-4877-8830-3c199a970836",
   "metadata": {},
   "outputs": [
    {
     "data": {
      "text/plain": [
       "['\\n',\n",
       " 'Hello this is a text file\\n',\n",
       " 'this is the second line\\n',\n",
       " 'this is the third line\\n']"
      ]
     },
     "execution_count": 641,
     "metadata": {},
     "output_type": "execute_result"
    }
   ],
   "source": [
    "with open('myfile.txt', mode='r') as my_new_file:\n",
    "    contents = my_new_file.readlines()\n",
    "\n",
    "contents"
   ]
  },
  {
   "cell_type": "code",
   "execution_count": 664,
   "id": "33cb5a12-bc00-4011-b34c-091eec1e1fa2",
   "metadata": {},
   "outputs": [
    {
     "name": "stdout",
     "output_type": "stream",
     "text": [
      "\n",
      "Hello this is a text file\n",
      "this is the second line\n",
      "this is the third line\n",
      "\n",
      "New Line Inserted with write\n"
     ]
    }
   ],
   "source": [
    "\n",
    "\n",
    "with open('myfile.txt', mode='a') as my_new_file:\n",
    "    my_new_file.write('\\nNew Line Inserted with write')\n",
    "\n",
    "with open('myfile.txt', mode='r') as my_new_file:\n",
    "    print(my_new_file.read())"
   ]
  },
  {
   "cell_type": "code",
   "execution_count": 666,
   "id": "7ccd2cc8-03e6-460f-bc19-92ed35218d67",
   "metadata": {},
   "outputs": [
    {
     "name": "stdout",
     "output_type": "stream",
     "text": [
      "Created File with w-mode\n"
     ]
    }
   ],
   "source": [
    "with open('doesnt exist.txt', mode='w') as w:  # it will create if the file doesnt exist, or write if it exists\n",
    "    w.write('Created File with w-mode')\n",
    "\n",
    "with open('doesnt exist.txt', mode='r') as r:\n",
    "    print(r.read())"
   ]
  },
  {
   "cell_type": "markdown",
   "id": "e9bd962f-f836-4029-8887-a7cd1e7bf368",
   "metadata": {
    "jp-MarkdownHeadingCollapsed": true
   },
   "source": [
    "## *Test: Object And Data Structure Basics*"
   ]
  },
  {
   "cell_type": "markdown",
   "id": "c00d52e2-b68a-4a84-8b71-875c5d47e545",
   "metadata": {
    "jp-MarkdownHeadingCollapsed": true
   },
   "source": [
    "#### Numbers"
   ]
  },
  {
   "cell_type": "code",
   "execution_count": 709,
   "id": "d188c157-c487-4834-bdfa-6e9a82906892",
   "metadata": {},
   "outputs": [
    {
     "data": {
      "text/plain": [
       "10.0"
      ]
     },
     "execution_count": 709,
     "metadata": {},
     "output_type": "execute_result"
    }
   ],
   "source": [
    "# What would you use to find a number’s square root, as well as its square?\n",
    "\n",
    "num = 100\n",
    "\n",
    "#Sqare \n",
    "num ** 2\n",
    "\n",
    "# Square ROOT\n",
    "num ** 0.5"
   ]
  },
  {
   "cell_type": "markdown",
   "id": "a8f5acf8-cbdc-4afb-8d3f-82b1bcc112e8",
   "metadata": {
    "jp-MarkdownHeadingCollapsed": true
   },
   "source": [
    "#### Strings"
   ]
  },
  {
   "cell_type": "code",
   "execution_count": 671,
   "id": "c7ea1e1c-e471-4d53-885a-224ad679bf11",
   "metadata": {},
   "outputs": [
    {
     "name": "stdout",
     "output_type": "stream",
     "text": [
      "olleh\n"
     ]
    }
   ],
   "source": [
    "# Reverse the string using slicing\n",
    "\n",
    "s = 'hello'\n",
    "reversed_s = s[::-1]\n",
    "print(reversed_s)"
   ]
  },
  {
   "cell_type": "markdown",
   "id": "ae3f8ac4-4308-4c97-b4ec-1d1b31534058",
   "metadata": {
    "jp-MarkdownHeadingCollapsed": true
   },
   "source": [
    "#### Lists"
   ]
  },
  {
   "cell_type": "code",
   "execution_count": 675,
   "id": "d013084d-6f3a-419b-99b2-8e56e7148f25",
   "metadata": {},
   "outputs": [
    {
     "name": "stdout",
     "output_type": "stream",
     "text": [
      "[0, 0, 0]\n"
     ]
    }
   ],
   "source": [
    "# Build this list [0,0,0] two separate ways.\n",
    "\n",
    "# Method 1:\n",
    "zeros = [0] * 3\n",
    "print(zeros)\n",
    "\n",
    "# Method 2:\n",
    "zero_list = [0] + [0] + [0] "
   ]
  },
  {
   "cell_type": "code",
   "execution_count": 683,
   "id": "b4e9efe2-d26e-40b6-93d9-aff3a0897e3a",
   "metadata": {},
   "outputs": [
    {
     "data": {
      "text/plain": [
       "[1, 2, [3, 4, 'goodbye']]"
      ]
     },
     "execution_count": 683,
     "metadata": {},
     "output_type": "execute_result"
    }
   ],
   "source": [
    "# Reassign 'hello' in this nested list to say 'goodbye' instead:\n",
    "\n",
    "list3 = [1,2,[3,4,'hello']]\n",
    "\n",
    "list3[2][2] = 'goodbye')\n",
    "list3"
   ]
  },
  {
   "cell_type": "code",
   "execution_count": 691,
   "id": "e669b3e5-2c77-40fb-88af-41059f73435b",
   "metadata": {},
   "outputs": [
    {
     "data": {
      "text/plain": [
       "[1, 3, 4, 5, 6]"
      ]
     },
     "execution_count": 691,
     "metadata": {},
     "output_type": "execute_result"
    }
   ],
   "source": [
    "# Sort the list below:\n",
    "\n",
    "list4 = [5,3,4,6,1]\n",
    "\n",
    "list4.sort()\n",
    "\n",
    "list4"
   ]
  },
  {
   "cell_type": "markdown",
   "id": "843976db-6360-41da-b4f8-dfd37998b605",
   "metadata": {
    "jp-MarkdownHeadingCollapsed": true
   },
   "source": [
    "#### Dictionaries"
   ]
  },
  {
   "cell_type": "markdown",
   "id": "c636e1f3-0d5f-4af4-bab8-dbd545b55303",
   "metadata": {},
   "source": [
    "*Using keys and indexing, grab the 'hello' from the following dictionaries:*"
   ]
  },
  {
   "cell_type": "code",
   "execution_count": 727,
   "id": "c8069d5b-ad40-4105-a0a0-a8f8d02baab9",
   "metadata": {},
   "outputs": [
    {
     "data": {
      "text/plain": [
       "'hello'"
      ]
     },
     "execution_count": 727,
     "metadata": {},
     "output_type": "execute_result"
    }
   ],
   "source": [
    "d = {'simple_key':'hello'}\n",
    "# Grab 'hello'\n",
    "\n",
    "d['simple_key']\n",
    "\n",
    "\n",
    "d = {'k1':{'k2':'hello'}}\n",
    "# Grab 'hello'\n",
    "\n",
    "d['k1']['k2']"
   ]
  },
  {
   "cell_type": "code",
   "execution_count": 734,
   "id": "0545db7d-70ba-453f-984a-354227df3cd8",
   "metadata": {},
   "outputs": [
    {
     "data": {
      "text/plain": [
       "['hello']"
      ]
     },
     "execution_count": 734,
     "metadata": {},
     "output_type": "execute_result"
    }
   ],
   "source": [
    "# Getting a little tricker\n",
    "d = {'k1':[{'nest_key':['this is deep',['hello']]}]}\n",
    "\n",
    "#Grab hello\n",
    "d['k1'][0]['nest_key'][1]"
   ]
  },
  {
   "cell_type": "code",
   "execution_count": 736,
   "id": "5e938b4e-6f40-40c1-ad3f-e776e4c96f05",
   "metadata": {},
   "outputs": [
    {
     "data": {
      "text/plain": [
       "['hello']"
      ]
     },
     "execution_count": 736,
     "metadata": {},
     "output_type": "execute_result"
    }
   ],
   "source": [
    "# This will be hard and annoying!\n",
    "d = {'k1':[1,2,{'k2':['this is tricky',{'tough':[1,2,['hello']]}]}]}\n",
    "\n",
    "d['k1'][2]['k2'][1]['tough'][2]"
   ]
  },
  {
   "cell_type": "markdown",
   "id": "29ac6111-f45b-4804-93be-70cafd26f58f",
   "metadata": {
    "jp-MarkdownHeadingCollapsed": true
   },
   "source": [
    "#### Tuples"
   ]
  },
  {
   "cell_type": "raw",
   "id": "7f0237e0-4dc3-41b5-bfbb-b2de3e12a4aa",
   "metadata": {},
   "source": [
    "Just like LISTS, BUT IMMUTABLE\n",
    "Syntax: (,,,)"
   ]
  },
  {
   "cell_type": "markdown",
   "id": "fe30defc-7c55-4bd3-98f6-0635e48be3a3",
   "metadata": {
    "jp-MarkdownHeadingCollapsed": true
   },
   "source": [
    "#### Sets"
   ]
  },
  {
   "cell_type": "markdown",
   "id": "5d1a819e-3bf8-4508-8fd0-9b35cc591eb9",
   "metadata": {},
   "source": [
    "unique values"
   ]
  },
  {
   "cell_type": "code",
   "execution_count": 746,
   "id": "d4dfc008-7ee4-46d6-b7c5-48197e12c76c",
   "metadata": {},
   "outputs": [
    {
     "data": {
      "text/plain": [
       "{1, 2, 3, 4, 11, 22, 33}"
      ]
     },
     "execution_count": 746,
     "metadata": {},
     "output_type": "execute_result"
    }
   ],
   "source": [
    "list5 = [1,2,2,33,4,4,11,22,3,3,2]\n",
    "\n",
    "set(list5)"
   ]
  },
  {
   "cell_type": "markdown",
   "id": "ead23f3f-08a9-4130-af69-f1f1541eacc5",
   "metadata": {},
   "source": [
    "#### Booleans"
   ]
  },
  {
   "cell_type": "code",
   "execution_count": 752,
   "id": "94555246-6445-45e9-9f66-0feef01ceaf1",
   "metadata": {},
   "outputs": [
    {
     "data": {
      "text/plain": [
       "True"
      ]
     },
     "execution_count": 752,
     "metadata": {},
     "output_type": "execute_result"
    }
   ],
   "source": [
    "3.0 == 3\n"
   ]
  },
  {
   "cell_type": "code",
   "execution_count": 754,
   "id": "2b9e3f83-48b7-47b8-bb30-3a08406372d7",
   "metadata": {},
   "outputs": [
    {
     "data": {
      "text/plain": [
       "False"
      ]
     },
     "execution_count": 754,
     "metadata": {},
     "output_type": "execute_result"
    }
   ],
   "source": [
    "# two nested lists\n",
    "l_one = [1,2,[3,4]]\n",
    "l_two = [1,2,{'k1':4}]\n",
    "\n",
    "# True or False?\n",
    "l_one[2][0] >= l_two[2]['k1']"
   ]
  },
  {
   "cell_type": "markdown",
   "id": "69f386ce-f1c6-4497-b6a3-da7d4d334b21",
   "metadata": {
    "jp-MarkdownHeadingCollapsed": true
   },
   "source": [
    "## <h2 style=\"color: #4472C4;\"> Section 4: Python Comparison Operators </h2>"
   ]
  },
  {
   "cell_type": "markdown",
   "id": "0a07ea47-85fc-4078-98e8-34351a2579e3",
   "metadata": {
    "jp-MarkdownHeadingCollapsed": true
   },
   "source": [
    "### Comparison Operators"
   ]
  },
  {
   "cell_type": "raw",
   "id": "6da4d688-4f6c-4c11-a173-5d77dad10159",
   "metadata": {},
   "source": [
    "Operator\n",
    "==\n",
    "!=\n",
    ">\n",
    "<\n",
    ">=\n",
    "<="
   ]
  },
  {
   "attachments": {},
   "cell_type": "markdown",
   "id": "4a989c98-e0af-4502-b3e3-d36fd6ab438e",
   "metadata": {
    "jp-MarkdownHeadingCollapsed": true
   },
   "source": [
    "### Chained Comparison Operators (<code>AND, OR, NOT</Code>)"
   ]
  },
  {
   "cell_type": "code",
   "execution_count": 770,
   "id": "549d45a7-36c7-4a4b-bf91-d1660b8cfdac",
   "metadata": {},
   "outputs": [
    {
     "data": {
      "text/plain": [
       "True"
      ]
     },
     "execution_count": 770,
     "metadata": {},
     "output_type": "execute_result"
    }
   ],
   "source": [
    "1 < 2 and 2 < 3"
   ]
  },
  {
   "cell_type": "code",
   "execution_count": 811,
   "id": "088e1028-7b9c-4e47-b257-f84e7baebeff",
   "metadata": {},
   "outputs": [
    {
     "data": {
      "text/plain": [
       "False"
      ]
     },
     "execution_count": 811,
     "metadata": {},
     "output_type": "execute_result"
    }
   ],
   "source": [
    "not (1 == 1)  # Gives the OPPOSITE of the Boolean Value"
   ]
  },
  {
   "cell_type": "markdown",
   "id": "ab787bcf-1bd0-4ac5-a400-a44c43a7cf0c",
   "metadata": {
    "jp-MarkdownHeadingCollapsed": true
   },
   "source": [
    "## <h2 style=\"color: #4472C4;\"> Section 5: Python <strong>Statements</strong> </h2> "
   ]
  },
  {
   "attachments": {},
   "cell_type": "markdown",
   "id": "aec09c6d-335a-4745-8122-23d98ba25573",
   "metadata": {
    "jp-MarkdownHeadingCollapsed": true
   },
   "source": [
    "### <code>if</code>, <code>elif</code>, and <code>else</code> Statements in Python \n",
    " **Control FLOW**"
   ]
  },
  {
   "cell_type": "code",
   "execution_count": 818,
   "id": "de6403b3-cbfd-4b06-a930-a78043c54428",
   "metadata": {},
   "outputs": [
    {
     "name": "stdout",
     "output_type": "stream",
     "text": [
      "It's TRUE!\n"
     ]
    }
   ],
   "source": [
    "if 3 > 1:\n",
    "    print(\"It's TRUE!\")"
   ]
  },
  {
   "cell_type": "code",
   "execution_count": 823,
   "id": "8f4d7af0-3343-414c-8d98-e54934364a15",
   "metadata": {},
   "outputs": [
    {
     "name": "stdout",
     "output_type": "stream",
     "text": [
      "It's finally Thurdsay!\n"
     ]
    }
   ],
   "source": [
    "play = True\n",
    "\n",
    "if play:\n",
    "    print(\"It's finally Thurdsay!\")\n",
    "else: print(\"Not Yet Thurdsay\")"
   ]
  },
  {
   "cell_type": "code",
   "execution_count": 825,
   "id": "921756ef-0020-4adc-91d6-b9ca4f9e5b6b",
   "metadata": {},
   "outputs": [
    {
     "name": "stdout",
     "output_type": "stream",
     "text": [
      "Not my expertise\n"
     ]
    }
   ],
   "source": [
    "loc = 'Bank'\n",
    "\n",
    "if loc == 'Auto Shop':\n",
    "    print(\"Cars are cool\")\n",
    "else: print(\"Not my expertise\")"
   ]
  },
  {
   "cell_type": "code",
   "execution_count": 827,
   "id": "2e872853-5946-41c5-9fa2-3a63f153db0c",
   "metadata": {},
   "outputs": [
    {
     "name": "stdout",
     "output_type": "stream",
     "text": [
      "That's my job\n"
     ]
    }
   ],
   "source": [
    "loc = 'Bank'\n",
    "\n",
    "if loc == 'Auto Shop':\n",
    "    print(\"Cars are cool\")\n",
    "elif loc == 'Bank':\n",
    "    print(\"That's my job\")\n",
    "else: print(\"Not my expertise\")"
   ]
  },
  {
   "cell_type": "markdown",
   "id": "a19c8af9-dc92-4981-8c34-234bb84ee062",
   "metadata": {
    "jp-MarkdownHeadingCollapsed": true
   },
   "source": [
    "### **<code>For</code>** Loops In Python (Iterable)"
   ]
  },
  {
   "cell_type": "code",
   "execution_count": 833,
   "id": "9b9959a7-4742-4116-8109-709a8c95441b",
   "metadata": {},
   "outputs": [],
   "source": [
    "l = [1,2,3,4,5,6,7,8,9,10]"
   ]
  },
  {
   "cell_type": "code",
   "execution_count": 835,
   "id": "6c02e105-c5da-4d52-8442-01fcf917a5bd",
   "metadata": {},
   "outputs": [
    {
     "name": "stdout",
     "output_type": "stream",
     "text": [
      "1\n",
      "2\n",
      "3\n",
      "4\n",
      "5\n",
      "6\n",
      "7\n",
      "8\n",
      "9\n",
      "10\n"
     ]
    }
   ],
   "source": [
    "for num in l:\n",
    "    print(num)"
   ]
  },
  {
   "cell_type": "code",
   "execution_count": 837,
   "id": "4e52bf8f-0a26-4f72-b0b8-7e4cfde25c4b",
   "metadata": {},
   "outputs": [
    {
     "name": "stdout",
     "output_type": "stream",
     "text": [
      "Anything you want\n",
      "Anything you want\n",
      "Anything you want\n",
      "Anything you want\n",
      "Anything you want\n",
      "Anything you want\n",
      "Anything you want\n",
      "Anything you want\n",
      "Anything you want\n",
      "Anything you want\n"
     ]
    }
   ],
   "source": [
    "for name_here_doesnt_really_matter in l:\n",
    "    print(\"Anything you want\")"
   ]
  },
  {
   "cell_type": "markdown",
   "id": "a4832160-1ba9-4d96-b54e-596c7790ee2d",
   "metadata": {},
   "source": [
    "### ***Combining Loops(Iterable) With Statements(Control Flow)***"
   ]
  },
  {
   "cell_type": "markdown",
   "id": "6f96bc90-5b97-4755-a952-e85fbf8adb97",
   "metadata": {
    "jp-MarkdownHeadingCollapsed": true
   },
   "source": [
    "#### Explaining for loops with simple examples and just using Lists"
   ]
  },
  {
   "cell_type": "code",
   "execution_count": 844,
   "id": "5667bbfc-7451-4365-aac8-17bc02f795b4",
   "metadata": {},
   "outputs": [],
   "source": [
    "l = [1,2,3,4,5,6,7,8,9,10]"
   ]
  },
  {
   "cell_type": "code",
   "execution_count": 846,
   "id": "214b0585-d824-44ed-8f08-238d459b1f10",
   "metadata": {},
   "outputs": [
    {
     "name": "stdout",
     "output_type": "stream",
     "text": [
      "2\n",
      "4\n",
      "6\n",
      "8\n",
      "10\n"
     ]
    }
   ],
   "source": [
    "for num in l:\n",
    "    #Check for EVEN numbers from the list above\n",
    "    #By using the MOD Operator which identifies the remainder of a division, meaning if 0 then even\n",
    "    if num % 2 == 0:\n",
    "        print(num)"
   ]
  },
  {
   "cell_type": "code",
   "execution_count": 854,
   "id": "441b64a6-6446-4b4b-b2cc-5b9d25f265b1",
   "metadata": {},
   "outputs": [
    {
     "name": "stdout",
     "output_type": "stream",
     "text": [
      "1 is an odd number.\n",
      "2 is an even number.\n",
      "3 is an odd number.\n",
      "4 is an even number.\n",
      "5 is an odd number.\n",
      "6 is an even number.\n",
      "7 is an odd number.\n",
      "8 is an even number.\n",
      "9 is an odd number.\n",
      "10 is an even number.\n"
     ]
    }
   ],
   "source": [
    "for num in l:\n",
    "    if num % 2 == 0:\n",
    "        print(f'{num} is an even number.')\n",
    "    else:\n",
    "        print(f\"{num} is an odd number.\")"
   ]
  },
  {
   "cell_type": "code",
   "execution_count": 858,
   "id": "bae558b8-ac33-4145-a652-a10f7b3537c4",
   "metadata": {},
   "outputs": [
    {
     "name": "stdout",
     "output_type": "stream",
     "text": [
      "1\n",
      "3\n",
      "6\n",
      "10\n",
      "15\n",
      "21\n",
      "28\n",
      "36\n",
      "45\n",
      "55\n",
      "55\n"
     ]
    }
   ],
   "source": [
    "l_total = 0\n",
    "\n",
    "for num in l:\n",
    "    l_total = l_total + num\n",
    "    print(l_total)  #Everytime you go through the loop or cycle you add the totals so far\n",
    "\n",
    "print(l_total)      # After all the loops have gone through you get the grand total only since is outside the for loop"
   ]
  },
  {
   "cell_type": "code",
   "execution_count": 860,
   "id": "56aae32e-e55d-41de-a618-0e710f9821c8",
   "metadata": {},
   "outputs": [
    {
     "name": "stdout",
     "output_type": "stream",
     "text": [
      "1 is an odd number.\n",
      "2 is an even number.\n",
      "3 is an odd number.\n",
      "4 is an even number.\n",
      "5 is an odd number.\n",
      "6 is an even number.\n",
      "7 is an odd number.\n",
      "8 is an even number.\n",
      "9 is an odd number.\n",
      "10 is an even number.\n"
     ]
    }
   ],
   "source": [
    "for num in [1,2,3,4,5,6,7,8,9,10]:\n",
    "    if num % 2 == 0:\n",
    "        print(f'{num} is an even number.')\n",
    "    else:\n",
    "        print(f\"{num} is an odd number.\")"
   ]
  },
  {
   "cell_type": "code",
   "execution_count": 864,
   "id": "d70d0fb5-f756-47f0-a388-492bb0b6d293",
   "metadata": {},
   "outputs": [
    {
     "name": "stdout",
     "output_type": "stream",
     "text": [
      "S\n",
      "t\n",
      "r\n",
      "i\n",
      "n\n",
      "g\n",
      " \n",
      "a\n",
      "n\n",
      "d\n",
      " \n",
      "S\n",
      "p\n",
      "a\n",
      "c\n",
      "e\n"
     ]
    }
   ],
   "source": [
    "for num in 'String and Space':\n",
    "    print(num) \n",
    "# It prints each letter of the string going INDEX based"
   ]
  },
  {
   "cell_type": "markdown",
   "id": "94875f33-bbe2-4db0-94f5-88cd8dd26166",
   "metadata": {
    "jp-MarkdownHeadingCollapsed": true
   },
   "source": [
    "#### Using Tuples, nested Tuples within Lists, and more **advanced examples**"
   ]
  },
  {
   "cell_type": "markdown",
   "id": "f3e1b877-0d95-434d-a69b-87f3eb1b43a7",
   "metadata": {},
   "source": [
    "##### **Tuple Unpacking**"
   ]
  },
  {
   "cell_type": "code",
   "execution_count": 870,
   "id": "5a931e10-24c8-4478-bd9a-7e61409a4b85",
   "metadata": {},
   "outputs": [],
   "source": [
    "t = [(1,2), (3,4), (5,6), (7,8)]"
   ]
  },
  {
   "cell_type": "code",
   "execution_count": 875,
   "id": "db4c5e35-6d6e-4095-b08e-1f45c614b408",
   "metadata": {},
   "outputs": [
    {
     "name": "stdout",
     "output_type": "stream",
     "text": [
      "(1, 2)\n",
      "(3, 4)\n",
      "(5, 6)\n",
      "(7, 8)\n"
     ]
    }
   ],
   "source": [
    "for item in t:\n",
    "    print(item)\n",
    "\n",
    "#We can see each item/object is a tuple pair"
   ]
  },
  {
   "cell_type": "code",
   "execution_count": 879,
   "id": "e3ac6ace-55c9-4ff9-923a-8a79a46ae0e5",
   "metadata": {},
   "outputs": [
    {
     "name": "stdout",
     "output_type": "stream",
     "text": [
      "1\n",
      "2\n",
      "3\n",
      "4\n",
      "5\n",
      "6\n",
      "7\n",
      "8\n"
     ]
    }
   ],
   "source": [
    "for (item_inside_tuple_pair_1, item_inside_tuple_pair_2) in t:\n",
    "    print(item_inside_tuple_pair_1)\n",
    "    print(item_inside_tuple_pair_2)\n",
    "\n",
    "#Here instead of just var item we defined a var of format (a, b) which represents in detail the nested tuple format within the list item\n",
    "#For the list (a, b) is just one item\n",
    "#For the tuple (a, b) is just a pair\n",
    "#We declared a var representing this pair so we have more granular level detail in our for-loop statement"
   ]
  },
  {
   "cell_type": "code",
   "execution_count": 896,
   "id": "14432d8c-fc3f-4f06-8235-4284f5d04a49",
   "metadata": {},
   "outputs": [
    {
     "name": "stdout",
     "output_type": "stream",
     "text": [
      "1\n",
      "2\n",
      "3\n",
      "4\n",
      "5\n",
      "6\n",
      "7\n",
      "8\n"
     ]
    }
   ],
   "source": [
    "#You can represent without the parenthesis the statement above\n",
    "#So, instead of (a, b) format you can have a, b\n",
    "\n",
    "# for (a, b) in t:\n",
    "#     print(a)\n",
    "#     print(b)\n",
    "\n",
    "#INSTEAD:\n",
    "\n",
    "for a, b in t:\n",
    "    print(a)\n",
    "    print(b)\n",
    "\n",
    "#if the function was like this:\n",
    "# for a in t:\n",
    "#     print(a)\n",
    "# a, would represent the item in the list (1st level) , not the nested item in the tuple (2nd level), meaning a = tuple pair = item in list"
   ]
  },
  {
   "cell_type": "code",
   "execution_count": 900,
   "id": "8e327fd7-1968-48bb-8242-18b189649ee9",
   "metadata": {},
   "outputs": [
    {
     "name": "stdout",
     "output_type": "stream",
     "text": [
      "2\n",
      "5\n",
      "8\n"
     ]
    }
   ],
   "source": [
    "t_2 = [(1,2,3), (4,5,6), (7,8,9)]\n",
    "\n",
    "for a,b,c in t_2:\n",
    "    print(b)\n",
    "\n",
    "#Grabbing only 2nd element from each pair"
   ]
  },
  {
   "cell_type": "markdown",
   "id": "5c82d974-f6b1-42da-ba4b-bb12866486b2",
   "metadata": {},
   "source": [
    "##### Iterate through a **Dictionary**"
   ]
  },
  {
   "cell_type": "code",
   "execution_count": 944,
   "id": "bb288beb-1b63-4aeb-ba30-55666418cc5f",
   "metadata": {},
   "outputs": [],
   "source": [
    "d = {'k1':1, 'k2':2, 'k3':3}"
   ]
  },
  {
   "cell_type": "code",
   "execution_count": 946,
   "id": "d58ab1e2-ea7c-4e9c-9c6e-18b4453e44c6",
   "metadata": {},
   "outputs": [
    {
     "name": "stdout",
     "output_type": "stream",
     "text": [
      "k1\n",
      "k2\n",
      "k3\n"
     ]
    }
   ],
   "source": [
    "for a in d:\n",
    "    print(a)\n",
    "\n",
    "#You are iterating through the keys only"
   ]
  },
  {
   "cell_type": "code",
   "execution_count": 948,
   "id": "8762ecff-a091-40c8-bd00-87c22ec50327",
   "metadata": {},
   "outputs": [
    {
     "name": "stdout",
     "output_type": "stream",
     "text": [
      "('k1', 1)\n",
      "('k2', 2)\n",
      "('k3', 3)\n"
     ]
    }
   ],
   "source": [
    "#What if you want to iterate through the values as well key:value pair\n",
    "\n",
    "for a in d.items():\n",
    "    print(a)\n",
    "\n",
    "#items is a buil-in function"
   ]
  },
  {
   "cell_type": "code",
   "execution_count": 950,
   "id": "b6f716fe-4ad4-42d4-b171-b3bd37f82f3a",
   "metadata": {},
   "outputs": [
    {
     "name": "stdout",
     "output_type": "stream",
     "text": [
      "1\n",
      "2\n",
      "3\n"
     ]
    }
   ],
   "source": [
    "for a in d.values():\n",
    "    print(a)\n",
    "\n",
    "#values is another built in function that gives only the value from the key:value pair"
   ]
  },
  {
   "cell_type": "markdown",
   "id": "79704fa4-bf86-40b2-9808-4101956b0aaa",
   "metadata": {},
   "source": [
    "**\"Dictionary Unpacking\"** similar to Tuple Unpacking"
   ]
  },
  {
   "cell_type": "code",
   "execution_count": 955,
   "id": "c35c5dca-5be4-4c44-8923-1a78bea7d482",
   "metadata": {},
   "outputs": [
    {
     "name": "stdout",
     "output_type": "stream",
     "text": [
      "1\n",
      "2\n",
      "3\n"
     ]
    }
   ],
   "source": [
    "for a,b in d:\n",
    "    print(b)"
   ]
  },
  {
   "cell_type": "code",
   "execution_count": 959,
   "id": "8c3f17e7-de0b-4cac-b4eb-c991a69a82b0",
   "metadata": {},
   "outputs": [
    {
     "name": "stdout",
     "output_type": "stream",
     "text": [
      "k\n",
      "k\n",
      "k\n"
     ]
    }
   ],
   "source": [
    "for a,b in d:\n",
    "    print(a)"
   ]
  },
  {
   "cell_type": "code",
   "execution_count": 957,
   "id": "bb704971-1b49-48f9-942f-d874b6fd2c01",
   "metadata": {},
   "outputs": [
    {
     "name": "stdout",
     "output_type": "stream",
     "text": [
      "k1\n",
      "k2\n",
      "k3\n"
     ]
    }
   ],
   "source": [
    "for a,b in d.items():\n",
    "    print(a)"
   ]
  },
  {
   "cell_type": "markdown",
   "id": "32335c67-2145-4706-b88c-819e6db3fc64",
   "metadata": {
    "jp-MarkdownHeadingCollapsed": true
   },
   "source": [
    "### **<code>While</code>** Loop"
   ]
  },
  {
   "attachments": {
    "62ccb027-ee7f-4d6e-a453-75181bc2ef32.png": {
     "image/png": "[encoded data removed]"
    }
   },
   "cell_type": "markdown",
   "id": "4ea9e7cb-659b-417d-b8b0-2afb0cf17297",
   "metadata": {},
   "source": [
    "Iterate as long as some condition remains **True**\n",
    "\n",
    "![image.png](attachment:62ccb027-ee7f-4d6e-a453-75181bc2ef32.png)"
   ]
  },
  {
   "cell_type": "code",
   "execution_count": 7,
   "id": "77ee1733-ec26-4671-8ffb-68d46cc3d7e4",
   "metadata": {},
   "outputs": [
    {
     "name": "stdout",
     "output_type": "stream",
     "text": [
      "Current x = 0\n",
      "Current x = 1\n",
      "Current x = 2\n",
      "Current x = 3\n",
      "Current x = 4\n",
      "It took some time, but now x = 5, which is equal to or greater than 5\n"
     ]
    }
   ],
   "source": [
    "x = 0\n",
    "\n",
    "while x < 5:\n",
    "    print(f'Current x = {x}')\n",
    "    x += 1\n",
    "else:\n",
    "    print(f\"It took some time, but now x = {x}, which is equal to or greater than 5\")"
   ]
  },
  {
   "attachments": {},
   "cell_type": "markdown",
   "id": "ace37465-2dd1-42cf-8359-068b5e796056",
   "metadata": {
    "jp-MarkdownHeadingCollapsed": true
   },
   "source": [
    "### **<code>break</code> – <code>continue</code> – <code>pass</code>** "
   ]
  },
  {
   "cell_type": "raw",
   "id": "cde9c7e3-88a2-4eee-b717-a421b7128adc",
   "metadata": {},
   "source": [
    "1. break – breaks out of closest enclosing loop\n",
    "2. continue – goes to the top of the closest enclosing loop\n",
    "3. pass: does nothing at all\n"
   ]
  },
  {
   "cell_type": "code",
   "execution_count": 14,
   "id": "e83b9cac-903d-4a59-aa40-39b4c57688e0",
   "metadata": {},
   "outputs": [
    {
     "name": "stdout",
     "output_type": "stream",
     "text": [
      "Since my print is going through, the pass keyword did nothing and the code went to the next block which is this print statement instead of returning an error\n"
     ]
    }
   ],
   "source": [
    "# pass keyword\n",
    "\n",
    "x = [1, 2, 3]\n",
    "\n",
    "for a in x:\n",
    "    pass    #does nothing \n",
    "\n",
    "print(\"Since my print is going through, the pass keyword did nothing and the code went to the next block which is this print statement instead of returning an error\")"
   ]
  },
  {
   "cell_type": "code",
   "execution_count": 16,
   "id": "fbdd2e4b-1d72-4d1b-a08a-d8391c56cbea",
   "metadata": {},
   "outputs": [
    {
     "name": "stdout",
     "output_type": "stream",
     "text": [
      "S\n",
      "m\n",
      "m\n",
      "y\n"
     ]
    }
   ],
   "source": [
    "# continue keyword\n",
    "\n",
    "word = 'Sammy'\n",
    "\n",
    "for l in word:\n",
    "    if l == 'a':\n",
    "        continue    #skips this part of the loop \n",
    "    print(l)\n",
    "\n",
    "# Letter 'a' was skipped thanks to the continue keyword"
   ]
  },
  {
   "cell_type": "code",
   "execution_count": 20,
   "id": "ddd9cc63-cb5d-441d-9484-d1ff57dc1294",
   "metadata": {},
   "outputs": [
    {
     "name": "stdout",
     "output_type": "stream",
     "text": [
      "S\n"
     ]
    }
   ],
   "source": [
    "# break keyword\n",
    "\n",
    "word = 'Sammy'\n",
    "\n",
    "for l in word:\n",
    "    if l == 'a':\n",
    "        break    #stops the loop \n",
    "    print(l)\n",
    "\n",
    "# When loop gets at letter 'a' it breaks out and exits the loop there\n",
    "# Useful in while statements"
   ]
  },
  {
   "cell_type": "code",
   "execution_count": 26,
   "id": "0f16518f-d822-40a5-9c0d-12b79d4a6cb4",
   "metadata": {},
   "outputs": [
    {
     "name": "stdout",
     "output_type": "stream",
     "text": [
      "Current x = 0\n",
      "Current x = 1\n"
     ]
    }
   ],
   "source": [
    "x = 0\n",
    "\n",
    "while x < 5:\n",
    "    if x == 2:\n",
    "        break\n",
    "    print(f'Current x = {x}')\n",
    "    x += 1\n",
    "    # if x == 2:\n",
    "    #     break\n",
    "else:\n",
    "    print(f\"It took some time, but now x = {x}, which is equal to or greater than 5\")\n",
    "\n",
    "# Notice how the condition can go either or before/after operation"
   ]
  },
  {
   "cell_type": "markdown",
   "id": "52e4d3e1-5947-4bb0-9c58-7a07bef3a039",
   "metadata": {},
   "source": [
    "### Useful operations in Python"
   ]
  },
  {
   "cell_type": "markdown",
   "id": "dc3572a3-d0ee-43ef-96bd-1a004f20df69",
   "metadata": {
    "jp-MarkdownHeadingCollapsed": true
   },
   "source": [
    "#### **Range Function**"
   ]
  },
  {
   "cell_type": "code",
   "execution_count": 96,
   "id": "1d451f23-ca8d-45ba-97f6-163749ee9d0b",
   "metadata": {},
   "outputs": [
    {
     "name": "stdout",
     "output_type": "stream",
     "text": [
      "0\n",
      "1\n",
      "2\n",
      "3\n",
      "4\n",
      "5\n",
      "6\n",
      "7\n",
      "8\n",
      "9\n"
     ]
    }
   ],
   "source": [
    "for num in range(10):  # creates a list of 10 numbers, NOT including 10 since list starts from 0\n",
    "    print(num)"
   ]
  },
  {
   "cell_type": "code",
   "execution_count": 98,
   "id": "53037df2-1693-421d-88c8-e5e8298992a6",
   "metadata": {},
   "outputs": [
    {
     "name": "stdout",
     "output_type": "stream",
     "text": [
      "3\n",
      "4\n",
      "5\n",
      "6\n",
      "7\n",
      "8\n",
      "9\n"
     ]
    }
   ],
   "source": [
    "for num in range(3, 10):  # here we specify starting position (3), all the way but NOT including 10\n",
    "    print(num)"
   ]
  },
  {
   "cell_type": "code",
   "execution_count": 100,
   "id": "b3154398-6144-4ba8-b0b8-66716551af0d",
   "metadata": {},
   "outputs": [
    {
     "name": "stdout",
     "output_type": "stream",
     "text": [
      "3\n",
      "5\n",
      "7\n",
      "9\n"
     ]
    }
   ],
   "source": [
    "for num in range(3, 10, 2):  # we just added a step size\n",
    "    print(num)"
   ]
  },
  {
   "cell_type": "code",
   "execution_count": 104,
   "id": "28c6dc2a-77dd-4075-b501-d78a8e620ec2",
   "metadata": {},
   "outputs": [
    {
     "data": {
      "text/plain": [
       "[3, 5, 7, 9]"
      ]
     },
     "execution_count": 104,
     "metadata": {},
     "output_type": "execute_result"
    }
   ],
   "source": [
    "# Intro to generators: ~generates info instead of saving it to memory~\n",
    "\n",
    "list(range(3, 10, 2))"
   ]
  },
  {
   "cell_type": "markdown",
   "id": "dbf4d023-ba38-40f1-b4dc-fb3f70233be1",
   "metadata": {
    "jp-MarkdownHeadingCollapsed": true
   },
   "source": [
    "#### **Enumerate**"
   ]
  },
  {
   "cell_type": "markdown",
   "id": "a7de02e5-befd-4ea6-80f5-36a28515b5d2",
   "metadata": {},
   "source": [
    "Idea behind what we are trying to do, and why we will use enumerate"
   ]
  },
  {
   "cell_type": "code",
   "execution_count": 121,
   "id": "90381a31-cad2-4bde-9957-576ec3bc7da5",
   "metadata": {},
   "outputs": [
    {
     "name": "stdout",
     "output_type": "stream",
     "text": [
      "At index 0 the letter is 'a'\n",
      "At index 1 the letter is 'b'\n",
      "At index 2 the letter is 'c'\n",
      "At index 3 the letter is 'd'\n",
      "At index 4 the letter is 'e'\n"
     ]
    }
   ],
   "source": [
    "index_count = 0\n",
    "\n",
    "for letter in 'abcde':\n",
    "    print(\"At index {} the letter is '{}'\".format(index_count, letter))\n",
    "    index_count += 1\n",
    "\n",
    "# Instead of declaring one temporary var which increases in the loop, here we have TWO var that increment in the loop:\n",
    "    # the letter var is part of the string and moves according to index based during each loop\n",
    "    # index_count var follows the arithmetic operation += 1, which increments it during each loop\n",
    "    # The loop overall, it is iterating through each letter of the string, and is assigning the right index to that letter location thanks to the index_count var we declared"
   ]
  },
  {
   "cell_type": "markdown",
   "id": "1866c16c-0ef1-4bb8-b8b9-10f48c63288d",
   "metadata": {},
   "source": [
    "The way people simplified the code above"
   ]
  },
  {
   "cell_type": "code",
   "execution_count": 114,
   "id": "dc818dd4-575d-48ab-971d-5c795e72c371",
   "metadata": {},
   "outputs": [
    {
     "name": "stdout",
     "output_type": "stream",
     "text": [
      "a\n",
      "b\n",
      "c\n",
      "d\n",
      "e\n"
     ]
    }
   ],
   "source": [
    "# Introducing another var to the original code\n",
    "\n",
    "index_count = 0\n",
    "word = 'abcde'\n",
    "\n",
    "for letter in word:\n",
    "    print(word[index_count])\n",
    "    index_count += 1"
   ]
  },
  {
   "cell_type": "markdown",
   "id": "3cb151bc-fc26-4af9-b506-3bba734f4aa6",
   "metadata": {},
   "source": [
    "This is where **ENUMERATE** is introduced as a built in function to simplify things"
   ]
  },
  {
   "cell_type": "code",
   "execution_count": 119,
   "id": "72ffb785-aecc-4793-bd68-9a1fe4474563",
   "metadata": {},
   "outputs": [
    {
     "name": "stdout",
     "output_type": "stream",
     "text": [
      "(0, 'a')\n",
      "(1, 'b')\n",
      "(2, 'c')\n",
      "(3, 'd')\n",
      "(4, 'e')\n"
     ]
    }
   ],
   "source": [
    "word = 'abcde'\n",
    "\n",
    "for item in enumerate(word):\n",
    "    print(item)\n",
    "\n",
    "#You can see this now is the same result as the original code, with way less complexity"
   ]
  },
  {
   "cell_type": "code",
   "execution_count": 133,
   "id": "c161c4f0-19d3-4a20-a88c-c872e6c5134a",
   "metadata": {},
   "outputs": [
    {
     "name": "stdout",
     "output_type": "stream",
     "text": [
      "index = 0, letter = a\n",
      "index = 1, letter = b\n",
      "index = 2, letter = c\n",
      "index = 3, letter = d\n",
      "index = 4, letter = e\n"
     ]
    }
   ],
   "source": [
    "# Since there are two values in one pair above we can use the\n",
    "# UNPACKING concept, to individually select them or seperate the index count and the letter:\n",
    "\n",
    "for index, letter in enumerate(word):\n",
    "    print(f\"index = {index}, letter = {letter}\")\n"
   ]
  },
  {
   "cell_type": "markdown",
   "id": "ed5a7305-f0b4-4b2b-ab32-590c003c48dd",
   "metadata": {
    "jp-MarkdownHeadingCollapsed": true
   },
   "source": [
    "#### **Zip Function**"
   ]
  },
  {
   "cell_type": "markdown",
   "id": "bc2ea827-0780-45d5-a744-49d0b4b9e5a9",
   "metadata": {},
   "source": [
    "Brings together two or more lists by utilizing that UNPACKING concept from tuples"
   ]
  },
  {
   "cell_type": "code",
   "execution_count": 140,
   "id": "159828d7-18d5-4ec4-9894-9e6b52c18291",
   "metadata": {},
   "outputs": [
    {
     "name": "stdout",
     "output_type": "stream",
     "text": [
      "(1, 'a')\n",
      "(2, 'b')\n",
      "(3, 'c')\n"
     ]
    }
   ],
   "source": [
    "l1 = [1,2,3]\n",
    "l2 = ['a','b','c']\n",
    "\n",
    "for item in zip(l1, l2):\n",
    "    print(item)"
   ]
  },
  {
   "cell_type": "code",
   "execution_count": 142,
   "id": "cbc38a2e-5e78-4bdf-88ff-8179e623ffaf",
   "metadata": {},
   "outputs": [
    {
     "name": "stdout",
     "output_type": "stream",
     "text": [
      "number = 1, and letter = a\n",
      "number = 2, and letter = b\n",
      "number = 3, and letter = c\n"
     ]
    }
   ],
   "source": [
    "for a,b in zip(l1, l2):\n",
    "    print(f\"number = {a}, and letter = {b}\")"
   ]
  },
  {
   "cell_type": "markdown",
   "id": "f7b1c8d8-be9b-461e-8828-2a85f99c70dc",
   "metadata": {},
   "source": [
    "For uneven lists, zip will still match up to where the lists zipped match index wise"
   ]
  },
  {
   "cell_type": "code",
   "execution_count": 146,
   "id": "bfe0c549-a59e-4dec-8b61-a33a31bbddab",
   "metadata": {},
   "outputs": [
    {
     "name": "stdout",
     "output_type": "stream",
     "text": [
      "(1, 'a')\n",
      "(2, 'b')\n",
      "(3, 'c')\n"
     ]
    }
   ],
   "source": [
    "l1 = [1,2,3,4,5,6,7,8,9]\n",
    "l2 = ['a','b','c']\n",
    "\n",
    "for item in zip(l1, l2):\n",
    "    print(item)"
   ]
  },
  {
   "cell_type": "code",
   "execution_count": 148,
   "id": "100b6229-5294-4067-a7d5-8b168ac73fe7",
   "metadata": {},
   "outputs": [
    {
     "data": {
      "text/plain": [
       "[(1, 'a'), (2, 'b'), (3, 'c')]"
      ]
     },
     "execution_count": 148,
     "metadata": {},
     "output_type": "execute_result"
    }
   ],
   "source": [
    "#List can be used to list the zipped items:\n",
    "\n",
    "list(zip(l1, l2))"
   ]
  },
  {
   "cell_type": "markdown",
   "id": "697c00e6-71cb-4265-b34f-4c12c886d42a",
   "metadata": {
    "jp-MarkdownHeadingCollapsed": true
   },
   "source": [
    "#### **IN** operator"
   ]
  },
  {
   "cell_type": "code",
   "execution_count": 156,
   "id": "7c235fca-388a-4a2a-b63c-d848fa41be3a",
   "metadata": {},
   "outputs": [
    {
     "data": {
      "text/plain": [
       "True"
      ]
     },
     "execution_count": 156,
     "metadata": {},
     "output_type": "execute_result"
    }
   ],
   "source": [
    "x in [1,2,3]"
   ]
  },
  {
   "cell_type": "code",
   "execution_count": 158,
   "id": "7fda502b-cc6b-43a8-8431-6ee086ada532",
   "metadata": {},
   "outputs": [
    {
     "data": {
      "text/plain": [
       "False"
      ]
     },
     "execution_count": 158,
     "metadata": {},
     "output_type": "execute_result"
    }
   ],
   "source": [
    "x in ['x','y','z']"
   ]
  },
  {
   "cell_type": "code",
   "execution_count": 160,
   "id": "30b94775-3af8-407b-9f14-1f1796720882",
   "metadata": {},
   "outputs": [
    {
     "data": {
      "text/plain": [
       "True"
      ]
     },
     "execution_count": 160,
     "metadata": {},
     "output_type": "execute_result"
    }
   ],
   "source": [
    "'a' in 'a world'"
   ]
  },
  {
   "cell_type": "code",
   "execution_count": 162,
   "id": "16fd767e-cd29-4bc3-91ec-db6e88068fb8",
   "metadata": {},
   "outputs": [
    {
     "data": {
      "text/plain": [
       "True"
      ]
     },
     "execution_count": 162,
     "metadata": {},
     "output_type": "execute_result"
    }
   ],
   "source": [
    "'k1' in {'k1':350}"
   ]
  },
  {
   "cell_type": "code",
   "execution_count": 164,
   "id": "82ee81f5-ecc1-4f18-b7e5-00e14040e342",
   "metadata": {},
   "outputs": [
    {
     "data": {
      "text/plain": [
       "True"
      ]
     },
     "execution_count": 164,
     "metadata": {},
     "output_type": "execute_result"
    }
   ],
   "source": [
    "d = {'k1':350}\n",
    "\n",
    "350 in d.values()"
   ]
  },
  {
   "cell_type": "code",
   "execution_count": 166,
   "id": "f2878ad7-bc1c-4b74-998c-9186ade6aa79",
   "metadata": {},
   "outputs": [
    {
     "data": {
      "text/plain": [
       "False"
      ]
     },
     "execution_count": 166,
     "metadata": {},
     "output_type": "execute_result"
    }
   ],
   "source": [
    "350 in d.keys()"
   ]
  },
  {
   "cell_type": "markdown",
   "id": "df7a4afe-5738-4bd0-bd41-9f823859691f",
   "metadata": {
    "jp-MarkdownHeadingCollapsed": true
   },
   "source": [
    "#### **min, max** "
   ]
  },
  {
   "cell_type": "code",
   "execution_count": 170,
   "id": "f3700735-c036-49a8-8a83-12b696d83027",
   "metadata": {},
   "outputs": [],
   "source": [
    "l = [1,2,45,6,777,35,764,6136,43]"
   ]
  },
  {
   "cell_type": "code",
   "execution_count": 175,
   "id": "0f3d0a4a-19eb-47a0-90ce-22bda44a2fed",
   "metadata": {},
   "outputs": [
    {
     "data": {
      "text/plain": [
       "1"
      ]
     },
     "execution_count": 175,
     "metadata": {},
     "output_type": "execute_result"
    }
   ],
   "source": [
    "min(l)\n"
   ]
  },
  {
   "cell_type": "code",
   "execution_count": 178,
   "id": "dc3bda37-882e-4f21-a8be-ca6e9497223c",
   "metadata": {},
   "outputs": [
    {
     "data": {
      "text/plain": [
       "6136"
      ]
     },
     "execution_count": 178,
     "metadata": {},
     "output_type": "execute_result"
    }
   ],
   "source": [
    "max(l)"
   ]
  },
  {
   "cell_type": "markdown",
   "id": "9ba230b3-ce27-450c-85f7-3ccb7e96abf1",
   "metadata": {
    "jp-MarkdownHeadingCollapsed": true
   },
   "source": [
    "#### **Random Library** "
   ]
  },
  {
   "cell_type": "code",
   "execution_count": 182,
   "id": "0d0a0bd1-dc25-466f-a096-6d2564b4f707",
   "metadata": {},
   "outputs": [],
   "source": [
    "from random import shuffle\n",
    "\n",
    "# From the RANDOM nuilt in library import the Shuffle Function"
   ]
  },
  {
   "cell_type": "code",
   "execution_count": 184,
   "id": "d82168ee-8b40-44e9-8ac5-ba26ba945168",
   "metadata": {},
   "outputs": [],
   "source": [
    "l = [1,2,3,4,5,6,7,8,9,10]"
   ]
  },
  {
   "cell_type": "code",
   "execution_count": 191,
   "id": "01c54a13-0416-4ed8-b2e3-1f8b782698d3",
   "metadata": {},
   "outputs": [
    {
     "data": {
      "text/plain": [
       "[1, 4, 5, 10, 9, 2, 8, 6, 3, 7]"
      ]
     },
     "execution_count": 191,
     "metadata": {},
     "output_type": "execute_result"
    }
   ],
   "source": [
    "shuffle(l)\n",
    "\n",
    "l"
   ]
  },
  {
   "cell_type": "code",
   "execution_count": 195,
   "id": "e51787c6-e0f6-4ca1-a033-28c526d4553d",
   "metadata": {},
   "outputs": [
    {
     "data": {
      "text/plain": [
       "4"
      ]
     },
     "execution_count": 195,
     "metadata": {},
     "output_type": "execute_result"
    }
   ],
   "source": [
    "from random import randint\n",
    "\n",
    "randint(min(l), max(l))"
   ]
  },
  {
   "cell_type": "markdown",
   "id": "04d856d1-04ab-410c-81c3-6c9357ffec45",
   "metadata": {
    "jp-MarkdownHeadingCollapsed": true
   },
   "source": [
    "#### **User Input** "
   ]
  },
  {
   "cell_type": "code",
   "execution_count": 199,
   "id": "21796028-0868-4285-848f-4b3ec84beba7",
   "metadata": {},
   "outputs": [
    {
     "name": "stdout",
     "output_type": "stream",
     "text": [
      "Enter a number:  50\n"
     ]
    },
    {
     "data": {
      "text/plain": [
       "'50'"
      ]
     },
     "execution_count": 199,
     "metadata": {},
     "output_type": "execute_result"
    }
   ],
   "source": [
    "input('Enter a number: ')"
   ]
  },
  {
   "cell_type": "code",
   "execution_count": 203,
   "id": "0de3d63f-e777-426b-a8b8-f62f08661bb8",
   "metadata": {},
   "outputs": [
    {
     "name": "stdout",
     "output_type": "stream",
     "text": [
      "What is you name? Evi\n"
     ]
    }
   ],
   "source": [
    "saving_input_to_var = input('What is you name?')"
   ]
  },
  {
   "cell_type": "code",
   "execution_count": 207,
   "id": "4e749406-e1fb-4628-80a5-6626533ccf7e",
   "metadata": {},
   "outputs": [
    {
     "data": {
      "text/plain": [
       "'Evi'"
      ]
     },
     "execution_count": 207,
     "metadata": {},
     "output_type": "execute_result"
    }
   ],
   "source": [
    "saving_input_to_var \n",
    "\n",
    "#Notice how will give the result right away, not what i wrote on input"
   ]
  },
  {
   "cell_type": "markdown",
   "id": "5675395d-cc5a-4855-ac07-1c548d9a5fd5",
   "metadata": {},
   "source": [
    "Will always pass the result as a **STRING** even if its a number"
   ]
  },
  {
   "cell_type": "code",
   "execution_count": 210,
   "id": "afad89cb-a0e0-4c9d-a9e6-6b8b1b501fd4",
   "metadata": {},
   "outputs": [
    {
     "name": "stdout",
     "output_type": "stream",
     "text": [
      "Enter a number:  35\n"
     ]
    }
   ],
   "source": [
    "number_var = input('Enter a number: ')"
   ]
  },
  {
   "cell_type": "code",
   "execution_count": 212,
   "id": "2fadf98f-56d5-4de4-893b-f788d026ff63",
   "metadata": {},
   "outputs": [
    {
     "data": {
      "text/plain": [
       "'35'"
      ]
     },
     "execution_count": 212,
     "metadata": {},
     "output_type": "execute_result"
    }
   ],
   "source": [
    "number_var"
   ]
  },
  {
   "cell_type": "code",
   "execution_count": 214,
   "id": "421ca5db-be23-4b35-a58d-4b0f64776bd6",
   "metadata": {},
   "outputs": [
    {
     "data": {
      "text/plain": [
       "35"
      ]
     },
     "execution_count": 214,
     "metadata": {},
     "output_type": "execute_result"
    }
   ],
   "source": [
    "int(number_var)"
   ]
  },
  {
   "cell_type": "code",
   "execution_count": 216,
   "id": "9a6fd08c-c092-4058-97bb-7de5aea7a57a",
   "metadata": {},
   "outputs": [
    {
     "data": {
      "text/plain": [
       "35.0"
      ]
     },
     "execution_count": 216,
     "metadata": {},
     "output_type": "execute_result"
    }
   ],
   "source": [
    "float(number_var)"
   ]
  },
  {
   "cell_type": "markdown",
   "id": "1430be6d-8916-4abf-a762-f1f63125aaa1",
   "metadata": {
    "jp-MarkdownHeadingCollapsed": true
   },
   "source": [
    "### **List Comprehensions**"
   ]
  },
  {
   "cell_type": "markdown",
   "id": "98e29b7b-0547-48eb-8cdc-23be2666fac5",
   "metadata": {},
   "source": [
    "Use case: for loop and append --> infinite loop\n",
    "\n",
    "It flattens out the for loop syntax, for a more efficient way of writing\n",
    "\n",
    "As alternative use List Comprehensions:"
   ]
  },
  {
   "cell_type": "code",
   "execution_count": 236,
   "id": "ba558f25-4869-4d54-9d19-e233ae3eaddc",
   "metadata": {},
   "outputs": [
    {
     "data": {
      "text/plain": [
       "['h', 'e', 'l', 'l', 'o']"
      ]
     },
     "execution_count": 236,
     "metadata": {},
     "output_type": "execute_result"
    }
   ],
   "source": [
    "# Inefficient way:\n",
    "\n",
    "mystring = 'hello'\n",
    "\n",
    "mylist = []\n",
    "\n",
    "for letter in mystring:\n",
    "    mylist.append(letter)\n",
    "\n",
    "mylist"
   ]
  },
  {
   "cell_type": "code",
   "execution_count": 238,
   "id": "2e7cb30a-6530-47e5-97cb-cd2873a1a396",
   "metadata": {},
   "outputs": [
    {
     "data": {
      "text/plain": [
       "['h', 'e', 'l', 'l', 'o']"
      ]
     },
     "execution_count": 238,
     "metadata": {},
     "output_type": "execute_result"
    }
   ],
   "source": [
    "# Efficient way: (Taking less space in code, same computation)\n",
    "\n",
    "mystring = 'hello'\n",
    "\n",
    "mylist = [letter for letter in mystring]  #element for element in (string, number, list or anything). This successfully replaces the append\n",
    "\n",
    "mylist"
   ]
  },
  {
   "cell_type": "code",
   "execution_count": 240,
   "id": "f44f83b0-a7e3-4db6-b178-34761e432bc8",
   "metadata": {},
   "outputs": [
    {
     "data": {
      "text/plain": [
       "[0, 1, 2, 3, 4, 5, 6, 7, 8, 9, 10]"
      ]
     },
     "execution_count": 240,
     "metadata": {},
     "output_type": "execute_result"
    }
   ],
   "source": [
    "mylist = [x for x in range(0, 11)]\n",
    "\n",
    "mylist"
   ]
  },
  {
   "cell_type": "code",
   "execution_count": 242,
   "id": "f65349d1-fe73-4630-8ef4-f95d787ea5c3",
   "metadata": {},
   "outputs": [
    {
     "data": {
      "text/plain": [
       "[0, 1, 4, 9, 16, 25, 36, 49, 64, 81, 100]"
      ]
     },
     "execution_count": 242,
     "metadata": {},
     "output_type": "execute_result"
    }
   ],
   "source": [
    "# You can grab the square version of the list above:\n",
    "\n",
    "mylist = [x**2 for x in range(0, 11)]\n",
    "\n",
    "mylist"
   ]
  },
  {
   "cell_type": "code",
   "execution_count": 244,
   "id": "a57c1931-e9a0-4ddd-adbd-858f18802758",
   "metadata": {},
   "outputs": [],
   "source": [
    "# (x**2) Calculation is performed here. \n",
    "# This is basically the condition where or what you want to grab: just plain or a calculation like this one\n"
   ]
  },
  {
   "cell_type": "code",
   "execution_count": 246,
   "id": "230b6b25-d151-4d38-bd3c-d16aa6729490",
   "metadata": {},
   "outputs": [
    {
     "data": {
      "text/plain": [
       "[0, 2, 4, 6, 8, 10]"
      ]
     },
     "execution_count": 246,
     "metadata": {},
     "output_type": "execute_result"
    }
   ],
   "source": [
    "# Adding an IF condition:\n",
    "\n",
    "mylist = [x for x in range(0, 11) if x%2==0]  # Condition added at the end\n",
    "\n",
    "mylist"
   ]
  },
  {
   "cell_type": "code",
   "execution_count": 250,
   "id": "edcc0eb9-333e-41a9-8ab0-b1b097c17eb1",
   "metadata": {},
   "outputs": [
    {
     "data": {
      "text/plain": [
       "[32.0, 50.0, 68.0, 94.1]"
      ]
     },
     "execution_count": 250,
     "metadata": {},
     "output_type": "execute_result"
    }
   ],
   "source": [
    "# More complex calculation:\n",
    "\n",
    "celcius = [0,10,20,34.5]\n",
    "\n",
    "fahrenheit = [ ( (9/5)*temp + 32) for temp in celcius]\n",
    "\n",
    "fahrenheit"
   ]
  },
  {
   "cell_type": "code",
   "execution_count": 254,
   "id": "f31072e1-f45e-4830-8dd4-5abf42368e35",
   "metadata": {},
   "outputs": [
    {
     "data": {
      "text/plain": [
       "[0, 'odd', 2, 'odd', 4, 'odd', 6, 'odd', 8, 'odd', 10]"
      ]
     },
     "execution_count": 254,
     "metadata": {},
     "output_type": "execute_result"
    }
   ],
   "source": [
    "# For if/else the order changes:\n",
    "\n",
    "results = [x if x%2==0 else 'odd' for x in range(0,11)]\n",
    "\n",
    "results"
   ]
  },
  {
   "cell_type": "markdown",
   "id": "193d4ef0-a80d-4f4a-af1c-99f9848c5ac8",
   "metadata": {
    "jp-MarkdownHeadingCollapsed": true
   },
   "source": [
    "### **Nested Loops**"
   ]
  },
  {
   "cell_type": "code",
   "execution_count": 302,
   "id": "dea88f2a-6464-46be-b785-18b8c85e3bb4",
   "metadata": {},
   "outputs": [
    {
     "data": {
      "text/plain": [
       "[200, 400, 600, 400, 800, 1200, 600, 1200, 1800]"
      ]
     },
     "execution_count": 302,
     "metadata": {},
     "output_type": "execute_result"
    }
   ],
   "source": [
    "multiplying_two_lists = []\n",
    "first_list   = [2,  4,  6]\n",
    "second_list  = [100,200,300]\n",
    "\n",
    "\n",
    "for x in first_list:\n",
    "    for y in second_list:\n",
    "        multiplying_two_lists.append(x*y)\n",
    "\n",
    "\n",
    "multiplying_two_lists    "
   ]
  },
  {
   "cell_type": "code",
   "execution_count": 308,
   "id": "544cbaaf-db7d-4f2b-ab38-6797f23d9047",
   "metadata": {},
   "outputs": [
    {
     "data": {
      "text/plain": [
       "[200, 400, 600, 400, 800, 1200, 600, 1200, 1800]"
      ]
     },
     "execution_count": 308,
     "metadata": {},
     "output_type": "execute_result"
    }
   ],
   "source": [
    "# Nested Loops with List Comprehensions(writing everything in one line, or flatting it out):\n",
    "\n",
    "multiplying_two_lists = [x*y for x in first_list for y in second_list]\n",
    "\n",
    "multiplying_two_lists"
   ]
  },
  {
   "cell_type": "markdown",
   "id": "26ee2040-4467-4f98-bfa6-c427d168e6eb",
   "metadata": {
    "jp-MarkdownHeadingCollapsed": true
   },
   "source": [
    "## *Test: Statements*"
   ]
  },
  {
   "cell_type": "markdown",
   "id": "577eff68-1f2b-4ff8-bfee-b8d75399a6bc",
   "metadata": {
    "jp-MarkdownHeadingCollapsed": true
   },
   "source": [
    "### 1. Use for, .split(), and if to create a Statement that will print out words that start with 's':"
   ]
  },
  {
   "cell_type": "code",
   "execution_count": 326,
   "id": "2fbdd972-1478-4c47-9701-6414c77e6b57",
   "metadata": {},
   "outputs": [],
   "source": [
    "st = 'Print only the words that start with s in this sentence'"
   ]
  },
  {
   "cell_type": "code",
   "execution_count": 336,
   "id": "3a329674-34d3-42da-84ca-b6be3f339847",
   "metadata": {},
   "outputs": [
    {
     "data": {
      "text/plain": [
       "['Print',\n",
       " 'only',\n",
       " 'the',\n",
       " 'words',\n",
       " 'that',\n",
       " 'start',\n",
       " 'with',\n",
       " 's',\n",
       " 'in',\n",
       " 'this',\n",
       " 'sentence']"
      ]
     },
     "execution_count": 336,
     "metadata": {},
     "output_type": "execute_result"
    }
   ],
   "source": [
    "list_with_splitted_words = st.split()\n",
    "\n",
    "\n",
    "# For Simplicity:\n",
    "\n",
    "l = list_with_splitted_words\n",
    "\n",
    "l"
   ]
  },
  {
   "cell_type": "code",
   "execution_count": 391,
   "id": "58d0033f-ac5d-4f52-9a71-e31b4114f12b",
   "metadata": {},
   "outputs": [
    {
     "name": "stdout",
     "output_type": "stream",
     "text": [
      "start\n",
      "s\n",
      "sentence\n"
     ]
    }
   ],
   "source": [
    "for x in l:\n",
    "    if x[0] == 's':\n",
    "        print(x)\n",
    "    else: continue"
   ]
  },
  {
   "cell_type": "markdown",
   "id": "bc187f60-80cb-411a-9a32-0994dd7a5a75",
   "metadata": {
    "jp-MarkdownHeadingCollapsed": true
   },
   "source": [
    "### 2. Use range() to print all the even numbers from 0 to 10."
   ]
  },
  {
   "cell_type": "code",
   "execution_count": 401,
   "id": "c02aa42c-3c2e-40a7-a861-cabfc85c49d5",
   "metadata": {},
   "outputs": [
    {
     "name": "stdout",
     "output_type": "stream",
     "text": [
      "0\n",
      "2\n",
      "4\n",
      "6\n",
      "8\n",
      "10\n"
     ]
    }
   ],
   "source": [
    "# Method 1:\n",
    "\n",
    "for num in range(0, 11):\n",
    "    if num % 2 == 0:\n",
    "        print(num)"
   ]
  },
  {
   "cell_type": "code",
   "execution_count": 411,
   "id": "15399f37-568e-4fe0-a34d-02c1065e31c3",
   "metadata": {},
   "outputs": [
    {
     "data": {
      "text/plain": [
       "[0, 2, 4, 6, 8, 10]"
      ]
     },
     "execution_count": 411,
     "metadata": {},
     "output_type": "execute_result"
    }
   ],
   "source": [
    "# Method 2:\n",
    "\n",
    "even_number = [num for num in range(0, 11) if num % 2 == 0]\n",
    "\n",
    "even_number"
   ]
  },
  {
   "cell_type": "markdown",
   "id": "ba3a5f7b-7128-4c88-a12b-674dc08ee9e8",
   "metadata": {
    "jp-MarkdownHeadingCollapsed": true
   },
   "source": [
    "### 3. Use a List Comprehension to create a list of all numbers between 1 and 50 that are divisible by 3."
   ]
  },
  {
   "cell_type": "code",
   "execution_count": 416,
   "id": "66079dc9-14d6-4c69-a82c-fddcbaeddc25",
   "metadata": {},
   "outputs": [
    {
     "data": {
      "text/plain": [
       "[3, 6, 9, 12, 15, 18, 21, 24, 27, 30, 33, 36, 39, 42, 45, 48]"
      ]
     },
     "execution_count": 416,
     "metadata": {},
     "output_type": "execute_result"
    }
   ],
   "source": [
    "result = [x for x in range(1, 51) if x % 3 == 0]\n",
    "\n",
    "result"
   ]
  },
  {
   "cell_type": "markdown",
   "id": "63f4c596-6ed2-49d1-8689-6fc5d01c371e",
   "metadata": {
    "jp-MarkdownHeadingCollapsed": true
   },
   "source": [
    "### 4. Go through the string below and if the length of a word is even print \"even!\""
   ]
  },
  {
   "cell_type": "code",
   "execution_count": 3,
   "id": "91393021-5c53-441a-b356-301cb837937c",
   "metadata": {},
   "outputs": [],
   "source": [
    "st = 'Print every word in this sentence that has an even number of letters'"
   ]
  },
  {
   "cell_type": "code",
   "execution_count": 54,
   "id": "18a5b113-f0a0-4307-a7b7-71c2ceb5937a",
   "metadata": {},
   "outputs": [
    {
     "name": "stdout",
     "output_type": "stream",
     "text": [
      "'Create'  -->  is an even word\n",
      "'a'  -->  is an odd word\n",
      "'list'  -->  is an even word\n",
      "'of'  -->  is an even word\n",
      "'the'  -->  is an odd word\n",
      "'first'  -->  is an odd word\n",
      "'letters'  -->  is an odd word\n",
      "'of'  -->  is an even word\n",
      "'every'  -->  is an odd word\n",
      "'word'  -->  is an even word\n",
      "'in'  -->  is an even word\n",
      "'this'  -->  is an even word\n",
      "'string'  -->  is an even word\n"
     ]
    }
   ],
   "source": [
    "# Method 1: List Comprehension\n",
    "\n",
    "# even_word = [x for x in st.split() if len(x)%2 == 0]\n",
    "# even_word\n",
    "\n",
    "\n",
    "# Method 2: for loop\n",
    "\n",
    "for a in st.split():\n",
    "    if len(a) % 2 == 0:\n",
    "        print(f\"'{a}'  -->  is an even word\")\n",
    "    else: print(f\"'{a}'  -->  is an odd word\")"
   ]
  },
  {
   "cell_type": "markdown",
   "id": "5392707c-88eb-4a0c-80c3-d3278e224378",
   "metadata": {
    "jp-MarkdownHeadingCollapsed": true
   },
   "source": [
    "### 5. Write a program that prints the integers from 1 to 100. \n",
    "###    a). But for multiples of three print \"Fizz\" instead of the number, and for the multiples of five print \"Buzz\". \n",
    "###    b). For numbers which are multiples of both three and five print \"FizzBuzz\".\n"
   ]
  },
  {
   "cell_type": "code",
   "execution_count": 43,
   "id": "2264b8bc-dcfa-4e57-b20b-0ad101720915",
   "metadata": {},
   "outputs": [
    {
     "name": "stdout",
     "output_type": "stream",
     "text": [
      "1\n",
      "2\n",
      "Fizz\n",
      "4\n",
      "Buzz\n",
      "Fizz\n",
      "7\n",
      "8\n",
      "Fizz\n",
      "Buzz\n",
      "11\n",
      "Fizz\n",
      "13\n",
      "14\n",
      "FizzBuzz\n",
      "16\n",
      "17\n",
      "Fizz\n",
      "19\n",
      "Buzz\n",
      "Fizz\n",
      "22\n",
      "23\n",
      "Fizz\n",
      "Buzz\n",
      "26\n",
      "Fizz\n",
      "28\n",
      "29\n",
      "FizzBuzz\n",
      "31\n",
      "32\n",
      "Fizz\n",
      "34\n",
      "Buzz\n",
      "Fizz\n",
      "37\n",
      "38\n",
      "Fizz\n",
      "Buzz\n",
      "41\n",
      "Fizz\n",
      "43\n",
      "44\n",
      "FizzBuzz\n",
      "46\n",
      "47\n",
      "Fizz\n",
      "49\n",
      "Buzz\n",
      "Fizz\n",
      "52\n",
      "53\n",
      "Fizz\n",
      "Buzz\n",
      "56\n",
      "Fizz\n",
      "58\n",
      "59\n",
      "FizzBuzz\n",
      "61\n",
      "62\n",
      "Fizz\n",
      "64\n",
      "Buzz\n",
      "Fizz\n",
      "67\n",
      "68\n",
      "Fizz\n",
      "Buzz\n",
      "71\n",
      "Fizz\n",
      "73\n",
      "74\n",
      "FizzBuzz\n",
      "76\n",
      "77\n",
      "Fizz\n",
      "79\n",
      "Buzz\n",
      "Fizz\n",
      "82\n",
      "83\n",
      "Fizz\n",
      "Buzz\n",
      "86\n",
      "Fizz\n",
      "88\n",
      "89\n",
      "FizzBuzz\n",
      "91\n",
      "92\n",
      "Fizz\n",
      "94\n",
      "Buzz\n",
      "Fizz\n",
      "97\n",
      "98\n",
      "Fizz\n",
      "Buzz\n"
     ]
    }
   ],
   "source": [
    "for x in range(1, 101):\n",
    "    if x % 3 == 0 and x % 5 == 0:\n",
    "        print(\"FizzBuzz\")\n",
    "    elif x % 3 == 0:\n",
    "        print(\"Fizz\")\n",
    "    elif x % 5 == 0:\n",
    "        print(\"Buzz\")\n",
    "    else:\n",
    "        print(x)"
   ]
  },
  {
   "cell_type": "markdown",
   "id": "c92e6cf6-09d9-43f1-9311-05ef803798b3",
   "metadata": {
    "jp-MarkdownHeadingCollapsed": true
   },
   "source": [
    "### 6. Use List Comprehension to create a list of the first letters of every word in the string below:"
   ]
  },
  {
   "cell_type": "code",
   "execution_count": 49,
   "id": "7f711666-d1d1-4526-b4fc-a764e16de01b",
   "metadata": {},
   "outputs": [],
   "source": [
    "st = 'Create a list of the first letters of every word in this string'\n"
   ]
  },
  {
   "cell_type": "code",
   "execution_count": 51,
   "id": "cb8831e2-f0b5-4d5a-b5bb-47ae1e577464",
   "metadata": {},
   "outputs": [
    {
     "data": {
      "text/plain": [
       "['C', 'a', 'l', 'o', 't', 'f', 'l', 'o', 'e', 'w', 'i', 't', 's']"
      ]
     },
     "execution_count": 51,
     "metadata": {},
     "output_type": "execute_result"
    }
   ],
   "source": [
    "first_letter_list = [l[0] for l in st.split()]\n",
    "\n",
    "first_letter_list"
   ]
  },
  {
   "cell_type": "code",
   "execution_count": 56,
   "id": "4cf5c88c-88bf-4afa-b869-ce68aeaeeaa9",
   "metadata": {},
   "outputs": [
    {
     "data": {
      "text/plain": [
       "['C', 'a', 'l', 'o', 't', 'f', 'l', 'o', 'e', 'w', 'i', 't', 's']"
      ]
     },
     "execution_count": 56,
     "metadata": {},
     "output_type": "execute_result"
    }
   ],
   "source": [
    "[l[0] for l in st.split()]"
   ]
  },
  {
   "cell_type": "markdown",
   "id": "f65a08be-7e1f-4aba-86fd-8237db3d15c0",
   "metadata": {
    "jp-MarkdownHeadingCollapsed": true
   },
   "source": [
    "## <h2 style=\"color: #4472C4;\"> Section 6: <strong>Methods</strong> And <strong>Functions</strong> </h2>  "
   ]
  },
  {
   "attachments": {},
   "cell_type": "markdown",
   "id": "6182cb1e-5f98-49b6-b85a-9497b8a240c5",
   "metadata": {
    "jp-MarkdownHeadingCollapsed": true
   },
   "source": [
    "### Methods"
   ]
  },
  {
   "cell_type": "markdown",
   "id": "eab2cb22-2376-4547-a93d-29f6941c5ed3",
   "metadata": {},
   "source": [
    "Are Functions that are Built into objects.\n",
    "\n",
    "Finding and Method shortkeys:\n",
    "1. tab after dot\n",
    "2. Shift + Tab\n",
    "3. help()\n",
    "4. docs.python.org"
   ]
  },
  {
   "cell_type": "code",
   "execution_count": 18,
   "id": "8826d53b-0163-4d7c-a761-49b3056093e4",
   "metadata": {},
   "outputs": [],
   "source": [
    "l = [1,2,3]"
   ]
  },
  {
   "cell_type": "code",
   "execution_count": 12,
   "id": "5bacf19c-1978-4325-8163-9a6550f8ac3d",
   "metadata": {},
   "outputs": [
    {
     "data": {
      "text/plain": [
       "[1, 2, 3, 4]"
      ]
     },
     "execution_count": 12,
     "metadata": {},
     "output_type": "execute_result"
    }
   ],
   "source": [
    "l.append(4)\n",
    "\n",
    "l"
   ]
  },
  {
   "cell_type": "code",
   "execution_count": 14,
   "id": "a607d997-566e-4366-b368-fe4bdeea4e7b",
   "metadata": {},
   "outputs": [
    {
     "data": {
      "text/plain": [
       "[1, 2, 3]"
      ]
     },
     "execution_count": 14,
     "metadata": {},
     "output_type": "execute_result"
    }
   ],
   "source": [
    "l.pop()\n",
    "\n",
    "l"
   ]
  },
  {
   "cell_type": "code",
   "execution_count": 16,
   "id": "13822ea2-c2f5-4226-8cad-ad71807b85cf",
   "metadata": {},
   "outputs": [
    {
     "name": "stdout",
     "output_type": "stream",
     "text": [
      "Help on built-in function insert:\n",
      "\n",
      "insert(index, object, /) method of builtins.list instance\n",
      "    Insert object before index.\n",
      "\n"
     ]
    }
   ],
   "source": [
    "help(l.insert)"
   ]
  },
  {
   "cell_type": "markdown",
   "id": "3f90042e-a298-4553-9f4b-800c28ded675",
   "metadata": {},
   "source": [
    "### **Functions**"
   ]
  },
  {
   "attachments": {},
   "cell_type": "markdown",
   "id": "fc6330a1-61f5-4bb2-a75c-e4242d7509c1",
   "metadata": {},
   "source": [
    "Functions allow us to create blocks of code that can be easily executed  many times, without needing to constantly rewrite the entire block of code."
   ]
  },
  {
   "cell_type": "markdown",
   "id": "b99182f8-2dd4-45dc-8217-89500974d31e",
   "metadata": {
    "jp-MarkdownHeadingCollapsed": true
   },
   "source": [
    "#### Functions Basics"
   ]
  },
  {
   "cell_type": "markdown",
   "id": "9f27e375-1627-4463-b90b-c30c0ce660bb",
   "metadata": {
    "jp-MarkdownHeadingCollapsed": true
   },
   "source": [
    "##### 1. **<code>def</code>** keyword"
   ]
  },
  {
   "attachments": {
    "75cfaa59-b00f-41f7-8590-eb7ff953f189.png": {
     "image/png": "[encoded data removed]"
    }
   },
   "cell_type": "markdown",
   "id": "9c6c7b2e-0053-4a09-894e-3738d6162da6",
   "metadata": {},
   "source": [
    "![image.png](attachment:75cfaa59-b00f-41f7-8590-eb7ff953f189.png)"
   ]
  },
  {
   "cell_type": "markdown",
   "id": "3dc955d8-0cad-46bf-9365-fd94ae9714c8",
   "metadata": {
    "jp-MarkdownHeadingCollapsed": true
   },
   "source": [
    "##### 2. **<code>Return</code>** keyword"
   ]
  },
  {
   "cell_type": "markdown",
   "id": "c9f1343e-9560-4353-9163-7f1e01592c95",
   "metadata": {},
   "source": [
    "<span style=\"font-size: 16px;\">\n",
    "a. Allows us to assign the output of a function to a New var. <br>\n",
    "b. Return is typically used rather than print() to send back the result of the function:\n",
    "\n",
    "<img src=\"attachment:a38a2d29-8f86-4693-b07d-ec2bd455bd6c.png\" width=\"700\" height=\"700\">\n",
    "\n",
    "</span>"
   ]
  },
  {
   "cell_type": "code",
   "execution_count": 71,
   "id": "6875ca31-a4e2-4f99-a7d9-1eb8907eece2",
   "metadata": {},
   "outputs": [
    {
     "name": "stdout",
     "output_type": "stream",
     "text": [
      "Hello\n"
     ]
    }
   ],
   "source": [
    "def say_hello():\n",
    "    print(\"Hello\")\n",
    "\n",
    "say_hello() # Don't forget the ()"
   ]
  },
  {
   "cell_type": "code",
   "execution_count": 73,
   "id": "287f6128-5165-406a-8576-969d519de995",
   "metadata": {},
   "outputs": [],
   "source": [
    "def say_hello(name):\n",
    "    print(f\"Hello {name}\")"
   ]
  },
  {
   "cell_type": "code",
   "execution_count": 77,
   "id": "277b85dc-3cf1-438e-b0df-863e279de27d",
   "metadata": {},
   "outputs": [
    {
     "name": "stdout",
     "output_type": "stream",
     "text": [
      "Hello Evi\n"
     ]
    }
   ],
   "source": [
    "# Calling that function that accepts a parameter/var \n",
    "# We can now call it, and pass the value we want on that parameter/argument/var\n",
    "# By doing that the function will excecute and it will input our value into the function and give us the result:\n",
    "\n",
    "# say_hello(name) --> If we call it like this, the var name is an empty placeholder, we haven't passed any value for it to hold, \n",
    "# therefore we need to call it this way:\n",
    "\n",
    "say_hello(\"Evi\")"
   ]
  },
  {
   "cell_type": "code",
   "execution_count": 79,
   "id": "354dec4b-6ade-4afe-9436-4628d2e1b258",
   "metadata": {},
   "outputs": [
    {
     "name": "stdout",
     "output_type": "stream",
     "text": [
      "Hello Provide Default Value Here\n"
     ]
    }
   ],
   "source": [
    "# If we provide default value when var inside function is defined, then we can call the function with () only\n",
    "\n",
    "def say_hello(name=\"Provide Default Value Here\"):\n",
    "    print(f\"Hello {name}\")\n",
    "\n",
    "say_hello() # Calling with empty parenthesis --> will output the default value"
   ]
  },
  {
   "cell_type": "code",
   "execution_count": 81,
   "id": "3aea1552-ca75-4fba-b84c-825fce4834b0",
   "metadata": {},
   "outputs": [
    {
     "data": {
      "text/plain": [
       "40"
      ]
     },
     "execution_count": 81,
     "metadata": {},
     "output_type": "execute_result"
    }
   ],
   "source": [
    "# function example with RETURN keyword\n",
    "\n",
    "def add_num(num1, num2):\n",
    "    return num1 + num2   # Return allows to save the result, therefore we can ASSIGN it to a var\n",
    "\n",
    "add_num(10,30) # This will return the value\n",
    "\n",
    "added_sum = add_num(10,30) # This saves the specific result of the function and ASSIGNS it to a var. that we can later call\n",
    "\n",
    "added_sum"
   ]
  },
  {
   "cell_type": "markdown",
   "id": "fc220e66-701e-453f-b681-0eb27656897e",
   "metadata": {},
   "source": [
    "<span style=\"font-size: 18px;\">\n",
    "The only case both <code>return</code> and <code>print</code> are used is if you are debugging and want to see the result as you go.\n",
    "</span>"
   ]
  },
  {
   "cell_type": "markdown",
   "id": "d499c029-89af-4eb3-b602-a4e8c3b2c3f4",
   "metadata": {
    "jp-MarkdownHeadingCollapsed": true
   },
   "source": [
    "#### Functions with Logic"
   ]
  },
  {
   "cell_type": "code",
   "execution_count": 203,
   "id": "9cbfa60d-e1cf-46f2-b2d2-7403be37d6ef",
   "metadata": {},
   "outputs": [
    {
     "data": {
      "text/plain": [
       "False"
      ]
     },
     "execution_count": 203,
     "metadata": {},
     "output_type": "execute_result"
    }
   ],
   "source": [
    "#  1. Simple Function \n",
    "\n",
    "def is_number_even(num):\n",
    "    return num % 2 == 0\n",
    "\n",
    "is_number_even(67)   # Here we type the numbers we want to test for our function"
   ]
  },
  {
   "cell_type": "code",
   "execution_count": 217,
   "id": "7b302534-0e35-4aa6-970c-87b2a82b4dd1",
   "metadata": {},
   "outputs": [],
   "source": [
    "#  2. Check inside a List\n",
    "\n",
    "\n",
    "def even_list(num_list):\n",
    "\n",
    "    for number in num_list:\n",
    "        if number % 2 == 0:\n",
    "            return True\n",
    "        else: \n",
    "            pass\n"
   ]
  },
  {
   "cell_type": "code",
   "execution_count": 219,
   "id": "d538d097-3a18-4bca-abbf-535200112ef3",
   "metadata": {},
   "outputs": [],
   "source": [
    "even_list([3,5,7,9])"
   ]
  },
  {
   "cell_type": "code",
   "execution_count": 221,
   "id": "f7a166db-0b64-4bb1-9261-94b7c6163fc8",
   "metadata": {},
   "outputs": [
    {
     "data": {
      "text/plain": [
       "True"
      ]
     },
     "execution_count": 221,
     "metadata": {},
     "output_type": "execute_result"
    }
   ],
   "source": [
    "even_list([3,5,7,9, 4])"
   ]
  },
  {
   "cell_type": "code",
   "execution_count": 231,
   "id": "c5692324-0903-4c04-b9e4-c5b6115e9dca",
   "metadata": {},
   "outputs": [],
   "source": [
    "#  3. Only if there are no even numbers you can return false:\n",
    "\n",
    "\n",
    "def even_list(num_list):\n",
    "\n",
    "    for number in num_list:\n",
    "        if number % 2 == 0:\n",
    "            return True\n",
    "        else: \n",
    "            pass\n",
    "\n",
    "    return False   # Pay attention to the INDENTATION of return False\n",
    "\n",
    "# The for-loop checks all the numbers. THEN it goes to return false after no numbers were validated to be true = even"
   ]
  },
  {
   "cell_type": "code",
   "execution_count": 233,
   "id": "5e1a8e95-751e-4a49-8377-0e3016732746",
   "metadata": {},
   "outputs": [
    {
     "data": {
      "text/plain": [
       "True"
      ]
     },
     "execution_count": 233,
     "metadata": {},
     "output_type": "execute_result"
    }
   ],
   "source": [
    "even_list([3,5,7,9, 4])"
   ]
  },
  {
   "cell_type": "code",
   "execution_count": 257,
   "id": "3d9924ef-26ee-4ca6-bd36-16205dafecb9",
   "metadata": {},
   "outputs": [],
   "source": [
    "#  4. Return all EVEN numbers from the list now:\n",
    "\n",
    "\n",
    "def return_all_even_num(num_list):\n",
    "\n",
    "    even_numbers = []\n",
    "    \n",
    "    for x in num_list:\n",
    "        if x % 2 == 0:\n",
    "            even_numbers.append(x)\n",
    "        else: \n",
    "            pass\n",
    "\n",
    "    return even_numbers\n"
   ]
  },
  {
   "cell_type": "code",
   "execution_count": 261,
   "id": "233de7ad-6c96-4d83-b2d0-e2daccfad9b6",
   "metadata": {},
   "outputs": [
    {
     "data": {
      "text/plain": [
       "[2, 4, 6, 8, 500, 4048903830, 66]"
      ]
     },
     "execution_count": 261,
     "metadata": {},
     "output_type": "execute_result"
    }
   ],
   "source": [
    "return_all_even_num([1,2,3,4,5,6,7,8,89,101,500,4048903830, 8884999,66,662233,801247297])"
   ]
  },
  {
   "cell_type": "markdown",
   "id": "ac16cf07-b14f-42f7-b2d5-f242ea8ba8a3",
   "metadata": {
    "jp-MarkdownHeadingCollapsed": true
   },
   "source": [
    "#### Tuple Unpacking With Functions\n",
    "\n",
    "<span style=\"font-size: 16px\">\n",
    "OR Nested INDEXING, <em>when you grab items inside nested objects(list, tuple, dictionaries or anything)</em>\n",
    "</span>"
   ]
  },
  {
   "cell_type": "markdown",
   "id": "a9451056-5a1d-4b52-86d0-7149ffdbfc51",
   "metadata": {},
   "source": [
    "##### <span style=\"font-size: 16px;\"/>  <em> Example of Tuple Unpacking to refresh memory with for loops </em> </span>"
   ]
  },
  {
   "cell_type": "code",
   "execution_count": 272,
   "id": "66dc661a-1875-4aa7-aa1c-3b4ec9990b02",
   "metadata": {},
   "outputs": [],
   "source": [
    "stock_prices = [('AAPL',200), ('GOOG',400), ('MSFT',100)]"
   ]
  },
  {
   "cell_type": "code",
   "execution_count": 274,
   "id": "62cd9a67-c76d-4e9b-bff0-ff7d2ec32221",
   "metadata": {},
   "outputs": [
    {
     "name": "stdout",
     "output_type": "stream",
     "text": [
      "('AAPL', 200)\n",
      "('GOOG', 400)\n",
      "('MSFT', 100)\n"
     ]
    }
   ],
   "source": [
    "for item in stock_prices:\n",
    "    print(item)"
   ]
  },
  {
   "cell_type": "code",
   "execution_count": 276,
   "id": "db60d2ee-69ed-41ff-aba8-342492a2542a",
   "metadata": {},
   "outputs": [
    {
     "name": "stdout",
     "output_type": "stream",
     "text": [
      "AAPL\n",
      "GOOG\n",
      "MSFT\n"
     ]
    }
   ],
   "source": [
    "# Tuple Unpacking:\n",
    "\n",
    "for ticker, price in stock_prices:\n",
    "    print(ticker)"
   ]
  },
  {
   "cell_type": "markdown",
   "id": "179db477-a267-48bc-880e-5c30313ee23f",
   "metadata": {
    "jp-MarkdownHeadingCollapsed": true
   },
   "source": [
    "#### <span style = \"font-size: 18px;\" />**Tuple Unpacking** <em>(Nested Indexing)</em> **with a Function CALL**</span>"
   ]
  },
  {
   "cell_type": "code",
   "execution_count": 340,
   "id": "fc6f7e35-a906-4b86-b4e7-896db97409bc",
   "metadata": {},
   "outputs": [],
   "source": [
    "work_hours = [('Abby', 100), ('Billy', 400), ('Cassie', 800)]"
   ]
  },
  {
   "cell_type": "code",
   "execution_count": 375,
   "id": "63cb63ec-2334-42a3-9dbd-a72929498709",
   "metadata": {},
   "outputs": [],
   "source": [
    "# My Solution:\n",
    "\n",
    "def empl_hours_tracking(empl_name):\n",
    "\n",
    "    hours_track = []\n",
    "\n",
    "    for e, h in work_hours:\n",
    "        if isinstance(empl_name, str) and e == empl_name:\n",
    "            hours_track.append([e, h])\n",
    "        if isinstance(empl_name, (int, float)) and h == empl_name:\n",
    "            hours_track.append([e, h])\n",
    "    return hours_track\n",
    "    "
   ]
  },
  {
   "cell_type": "code",
   "execution_count": 344,
   "id": "c52b58c6-8864-4c7f-8e51-6c9db73e5be9",
   "metadata": {},
   "outputs": [
    {
     "data": {
      "text/plain": [
       "[['Billy', 400]]"
      ]
     },
     "execution_count": 344,
     "metadata": {},
     "output_type": "execute_result"
    }
   ],
   "source": [
    "empl_hours_tracking('Billy')"
   ]
  },
  {
   "cell_type": "code",
   "execution_count": 346,
   "id": "13c5e91c-4c24-4956-b17b-e9d2dd4a2a77",
   "metadata": {},
   "outputs": [
    {
     "data": {
      "text/plain": [
       "[['Cassie', 800]]"
      ]
     },
     "execution_count": 346,
     "metadata": {},
     "output_type": "execute_result"
    }
   ],
   "source": [
    "empl_hours_tracking(800)"
   ]
  },
  {
   "cell_type": "code",
   "execution_count": 348,
   "id": "9dec9382-04ec-4734-898b-74857571bf07",
   "metadata": {},
   "outputs": [],
   "source": [
    "# Solution Requiring empl of month with max hours:\n",
    "\n",
    "def employee_check(work_hours):\n",
    "\n",
    "    current_max = 0\n",
    "    employee_of_month = ''\n",
    "\n",
    "    for e, h in work_hours:\n",
    "        if h > current_max:\n",
    "            current_max = h\n",
    "            employee_of_month = e\n",
    "        else:\n",
    "            pass\n",
    "    return(employee_of_month, current_max)\n",
    "\n",
    "\n",
    "\n",
    "employee_check(work_hours)            # Just calling the function above directly\n",
    "\n",
    "result = employee_check(work_hours)   # Assigning the result to a var to call later just the result var instead of all function\n",
    "\n",
    "e, h = employee_check(work_hours)     # Since the result is a pair, we assign it NOT to ONE var, BUT TWO VAR \n",
    "                                      # each representing the index position of the element in the pair\n",
    "                                      # Therefore, we can call at a Granular Detailed level the specific element interested, \n",
    "                                      # either name or hours worked"
   ]
  },
  {
   "cell_type": "code",
   "execution_count": 350,
   "id": "86dd1caf-2991-4c4d-8be1-b0d23e185d76",
   "metadata": {},
   "outputs": [
    {
     "data": {
      "text/plain": [
       "'Cassie'"
      ]
     },
     "execution_count": 350,
     "metadata": {},
     "output_type": "execute_result"
    }
   ],
   "source": [
    "e"
   ]
  },
  {
   "cell_type": "code",
   "execution_count": 352,
   "id": "7ccc0137-9e8b-49d5-b005-5df73e3bbb99",
   "metadata": {},
   "outputs": [
    {
     "data": {
      "text/plain": [
       "800"
      ]
     },
     "execution_count": 352,
     "metadata": {},
     "output_type": "execute_result"
    }
   ],
   "source": [
    "h"
   ]
  },
  {
   "cell_type": "code",
   "execution_count": 354,
   "id": "99b367f6-528e-458a-a4c1-c62089dd1564",
   "metadata": {},
   "outputs": [
    {
     "data": {
      "text/plain": [
       "('Cassie', 800)"
      ]
     },
     "execution_count": 354,
     "metadata": {},
     "output_type": "execute_result"
    }
   ],
   "source": [
    "result"
   ]
  },
  {
   "cell_type": "code",
   "execution_count": 356,
   "id": "8ac638ac-eaa0-4cd6-83fe-afa478505056",
   "metadata": {},
   "outputs": [
    {
     "data": {
      "text/plain": [
       "('Cassie', 800)"
      ]
     },
     "execution_count": 356,
     "metadata": {},
     "output_type": "execute_result"
    }
   ],
   "source": [
    "employee_check(work_hours)"
   ]
  },
  {
   "cell_type": "markdown",
   "id": "290a82ee-4131-436d-9390-272e7c3edb91",
   "metadata": {
    "jp-MarkdownHeadingCollapsed": true
   },
   "source": [
    "#### <span style = \"font-size: 18px;\"/> **Interactions Between Functions** \n",
    "<span style = \"font-size: 14px;\"/> <em> Nested Functions, Assigning Functions to other Functions as a var/parameter/argument</em> </span>"
   ]
  },
  {
   "cell_type": "code",
   "execution_count": 359,
   "id": "dcb876fc-b10d-496a-a8ec-4f448255432e",
   "metadata": {},
   "outputs": [],
   "source": [
    "# Shuffle Function from the Random Library/Module (You need to import the module or library when using this)\n",
    "\n",
    "example = [1,2,3,4,5,6,7]"
   ]
  },
  {
   "cell_type": "code",
   "execution_count": 361,
   "id": "90a4e743-c3df-42f5-8d93-7d34e2528367",
   "metadata": {},
   "outputs": [],
   "source": [
    "from random import shuffle"
   ]
  },
  {
   "cell_type": "code",
   "execution_count": 363,
   "id": "110d9964-9350-452c-8ea9-0d42700302b2",
   "metadata": {},
   "outputs": [
    {
     "data": {
      "text/plain": [
       "[4, 1, 5, 7, 6, 2, 3]"
      ]
     },
     "execution_count": 363,
     "metadata": {},
     "output_type": "execute_result"
    }
   ],
   "source": [
    "shuffle(example)  # It shuffles in place, meaning does not return result, nor can it be assigned to result, \n",
    "                  # Therefore, need to create a function and assign that function to a var result so that we can call it\n",
    "\n",
    "example"
   ]
  },
  {
   "cell_type": "markdown",
   "id": "6037acab-82f7-4416-b010-d839c1704cfd",
   "metadata": {
    "jp-MarkdownHeadingCollapsed": true
   },
   "source": [
    "#### ***Creating the Shuffle Game:***"
   ]
  },
  {
   "cell_type": "code",
   "execution_count": 366,
   "id": "9f6b1f43-7476-4d90-8bbc-fb1c656c0557",
   "metadata": {},
   "outputs": [
    {
     "data": {
      "text/plain": [
       "[2, 5, 6, 1, 3, 7, 4]"
      ]
     },
     "execution_count": 366,
     "metadata": {},
     "output_type": "execute_result"
    }
   ],
   "source": [
    "# Understanding how to use shuffle in the function\n",
    "\n",
    "def shuffle_list(mylist):\n",
    "    shuffle(mylist)\n",
    "    return mylist\n",
    "\n",
    "result = shuffle_list(example)\n",
    "\n",
    "result   # Everytime you run this cell it will give  different result of shuffled numbers from the example list above"
   ]
  },
  {
   "cell_type": "code",
   "execution_count": 368,
   "id": "4f4ec557-aa7f-4ef2-a834-2bb110192849",
   "metadata": {},
   "outputs": [
    {
     "data": {
      "text/plain": [
       "[' ', ' ', 'O']"
      ]
     },
     "execution_count": 368,
     "metadata": {},
     "output_type": "execute_result"
    }
   ],
   "source": [
    "# The code for the game\n",
    "\n",
    "\n",
    "# 1. INITIAL LIST\n",
    "\n",
    "game_list = [' ', 'O', ' ']\n",
    "\n",
    "\n",
    "# 2. SHUFFLE LIST\n",
    "\n",
    "def shuffle_game_list(a):\n",
    "    shuffle(a)\n",
    "    return a\n",
    "\n",
    "game = shuffle_game_list(game_list)\n",
    "\n",
    "game"
   ]
  },
  {
   "cell_type": "code",
   "execution_count": 370,
   "id": "24944c45-d49b-455b-ac94-99f3133f29b8",
   "metadata": {},
   "outputs": [],
   "source": [
    "# Making it interactive, so players can play\n",
    "\n",
    "\n",
    "# 3. USER GUESS\n",
    "\n",
    "def player_guess():\n",
    "\n",
    "    guess = ''\n",
    "\n",
    "    while guess not in ['1','2','3']:\n",
    "        guess = input(\"Pick a number: 1, 2, or 3 \")\n",
    "        \n",
    "        if guess not in ['1', '2', '3']:\n",
    "            print(\"Not a Valid Entry!\")\n",
    "\n",
    "    return int(guess)"
   ]
  },
  {
   "cell_type": "code",
   "execution_count": 372,
   "id": "c4ec6dff-ab35-41f4-9c33-270ce46bcfc2",
   "metadata": {},
   "outputs": [
    {
     "name": "stdout",
     "output_type": "stream",
     "text": [
      "Pick a number: 1, 2, or 3  1\n"
     ]
    },
    {
     "data": {
      "text/plain": [
       "1"
      ]
     },
     "execution_count": 372,
     "metadata": {},
     "output_type": "execute_result"
    }
   ],
   "source": [
    "player_guess()"
   ]
  },
  {
   "cell_type": "code",
   "execution_count": 623,
   "id": "26bf7742-549c-48e1-99e5-4f133eea372d",
   "metadata": {},
   "outputs": [
    {
     "name": "stdout",
     "output_type": "stream",
     "text": [
      "Pick a number: 1, 2, or 3  1\n"
     ]
    }
   ],
   "source": [
    "myindex = player_guess()"
   ]
  },
  {
   "cell_type": "code",
   "execution_count": 629,
   "id": "a912922d-e87b-4a85-a7c3-f3faac45221c",
   "metadata": {},
   "outputs": [],
   "source": [
    "# 4. CHECK GUESS\n",
    "\n",
    "def check_guess(mylist, guess):\n",
    "    if mylist[guess-1] == 'O':\n",
    "        print(\"Correct! - Good Job!\")\n",
    "        print(mylist)\n",
    "    else: \n",
    "        print(\"Wrong Guess!\")\n",
    "        print(mylist)"
   ]
  },
  {
   "cell_type": "code",
   "execution_count": 631,
   "id": "6641f69c-c1e4-44eb-912d-a6dc419398e8",
   "metadata": {},
   "outputs": [],
   "source": [
    "# Up so far we defined functions to prepare for the game\n",
    "\n",
    "# Now we define the ACTUAL LOGIC, and this is where we combine functions together so they can interact\n",
    "\n",
    "\n",
    "# Steps for putting everything together:\n",
    "\n",
    "# 1. INITIAL LIST\n",
    "\n",
    "# 2. SHUFFLE LIST\n",
    "\n",
    "# 3. USER GUESS\n",
    "\n",
    "# 4. CHECK "
   ]
  },
  {
   "attachments": {},
   "cell_type": "markdown",
   "id": "1c67a15c-4472-43f0-8800-57bffbde49ce",
   "metadata": {
    "jp-MarkdownHeadingCollapsed": true
   },
   "source": [
    "#### <span style = \"font-size: 30px;\"/> *args and **kwargs\n",
    "\n",
    "<span style = \"font-size: 20px;\"/> The word is not important. The * or ** before the word IS!<br/>\n",
    "<span style = \"font-size: 16px;\"/>*args    --> **positional arguments** pass as many parameters as you want. The function treats result as a TUPLE <br/>\n",
    "<span style = \"font-size: 16px;\"/>**kwargs --> **keyword arguments** pass as many parameters as you want. The function treats result as a Dictionary<br/>\n",
    "<span style = \"font-size: 20px;\"/> 1 Star  for TUPLE results<br/>\n",
    "<span style = \"font-size: 20px;\"/> 2 Stars for Dictionary results\n",
    "\n",
    "<span style = \"font-size: 20px;\"/> ***positional arguments** should go before ****keyword arguments** when using the combined approach. dont mix them\n",
    "\n",
    "<span style = \"font-size: 20px;\"/>useful when in use with OUTSIDE LIBRARIES\n"
   ]
  },
  {
   "cell_type": "markdown",
   "id": "3c5586b9-9ecc-4a0f-9d22-f4cd66f42708",
   "metadata": {
    "jp-MarkdownHeadingCollapsed": true
   },
   "source": [
    "#### ****positional arguments - Tuple Style***"
   ]
  },
  {
   "cell_type": "code",
   "execution_count": 712,
   "id": "d488f36c-9c1a-4aca-ae07-aff35be46f99",
   "metadata": {},
   "outputs": [
    {
     "data": {
      "text/plain": [
       "5.0"
      ]
     },
     "execution_count": 712,
     "metadata": {},
     "output_type": "execute_result"
    }
   ],
   "source": [
    "def myfunc(a, b):\n",
    "    # Returns 5% of the sum of a and b\n",
    "    return sum((a,b)) * 0.05\n",
    "\n",
    "myfunc(40,60)"
   ]
  },
  {
   "cell_type": "code",
   "execution_count": 714,
   "id": "8d616d4b-d647-47ca-9267-b602d0d2721f",
   "metadata": {},
   "outputs": [
    {
     "data": {
      "text/plain": [
       "50.0"
      ]
     },
     "execution_count": 714,
     "metadata": {},
     "output_type": "execute_result"
    }
   ],
   "source": [
    "def myfunc(*args):   # Basically, INSERT as many parameters as you want\n",
    "    return sum(args) * 0.05\n",
    "\n",
    "\n",
    "# Before i could insert only two values: ex: 40 and 60\n",
    "# Now i can add as many as i want: ex: 40, 60, 90, 100, etc...\n",
    "\n",
    "myfunc(40,60, 100, 800)"
   ]
  },
  {
   "cell_type": "markdown",
   "id": "ea4723c9-9285-407b-94e6-cd93ddbcdbda",
   "metadata": {
    "jp-MarkdownHeadingCollapsed": true
   },
   "source": [
    "#### ****keyword arguments - Dictionary Style (key:value pair)***"
   ]
  },
  {
   "cell_type": "code",
   "execution_count": 775,
   "id": "dc579f2e-e7d9-4372-8110-4736d2c376b7",
   "metadata": {},
   "outputs": [],
   "source": [
    "def food_type_func(**d):\n",
    "    print(d)\n",
    "    if 'fruit' in d:\n",
    "        print('My fruit of choice is {}'.format(d['fruit']))\n",
    "    else:\n",
    "        print('I did not find any fruits here')\n"
   ]
  },
  {
   "cell_type": "code",
   "execution_count": 777,
   "id": "8db33e0e-164b-4108-95ff-70d42fc079d4",
   "metadata": {},
   "outputs": [
    {
     "name": "stdout",
     "output_type": "stream",
     "text": [
      "{'fruit': 'apple', 'veggie': 'lettuce'}\n",
      "My fruit of choice is apple\n"
     ]
    }
   ],
   "source": [
    "food_type_func(fruit = 'apple', veggie = 'lettuce')"
   ]
  },
  {
   "cell_type": "markdown",
   "id": "be17f3a0-ce34-4af6-8e25-c6d171db6c69",
   "metadata": {
    "jp-MarkdownHeadingCollapsed": true
   },
   "source": [
    "#### ****positional & keyword arguments Combined in one function***"
   ]
  },
  {
   "cell_type": "code",
   "execution_count": 755,
   "id": "1da4525f-3d77-495e-90dc-328bd207fcea",
   "metadata": {},
   "outputs": [],
   "source": [
    "def myfunc(*arg_tuple, **d_key_value_pair):\n",
    "    print(arg_tuple)\n",
    "    print(d_key_value_pair)\n",
    "    print('*positional arguments[index] {}, **keyword arguments[index] {}'.format(arg_tuple[0], d_key_value_pair['food']))\n",
    "    \n"
   ]
  },
  {
   "cell_type": "code",
   "execution_count": 781,
   "id": "df62ffad-56f8-4923-8167-6887d4806463",
   "metadata": {},
   "outputs": [
    {
     "name": "stdout",
     "output_type": "stream",
     "text": [
      "(10, 20, 30)\n",
      "{'some_key': 'some value', 'food': 'some food as value, ex: eggs'}\n",
      "*positional arguments[index] 10, **keyword arguments[index] some food as value, ex: eggs\n"
     ]
    }
   ],
   "source": [
    "myfunc(10,20,30, some_key='some value', food = 'some food as value, ex: eggs')"
   ]
  },
  {
   "cell_type": "markdown",
   "id": "61aebc8e-b0c0-43f7-9c28-0936ebeafaa2",
   "metadata": {
    "jp-MarkdownHeadingCollapsed": true
   },
   "source": [
    "#### <span style = \"font-size: 22px;\"/> **Interactions Between Functions:**  \n",
    "<span style = \"font-size: 18px;\"/>*Creating the Shuffle Game: (All In ONE Step)*"
   ]
  },
  {
   "cell_type": "code",
   "execution_count": null,
   "id": "1af1b611-5a02-4ff2-ba6b-67ab1e3cfa97",
   "metadata": {},
   "outputs": [],
   "source": []
  },
  {
   "cell_type": "code",
   "execution_count": 188,
   "id": "f187b1b2-e17d-4c0a-9c3c-b03034aab386",
   "metadata": {},
   "outputs": [
    {
     "name": "stdout",
     "output_type": "stream",
     "text": [
      "Pick a number: 1, 2, or 3  1\n"
     ]
    },
    {
     "name": "stdout",
     "output_type": "stream",
     "text": [
      "you owe Evi 100!!<3!\n",
      "[' ', 'O', ' ']\n"
     ]
    }
   ],
   "source": [
    "# 0. Import the shuffle function from rand Module/Library\n",
    "\n",
    "from random import shuffle\n",
    "# ~~~~~~~~~~~~~~~~~~~~~~~~~~~~~~~~~~~~~~~~~~~~~~~~~~~\n",
    "\n",
    "\n",
    "# 1. INITIAL LIST    /// game_list\n",
    "\n",
    "game_list = [' ', 'O', ' ']\n",
    "# ~~~~~~~~~~~~~~~~~~~~~~~~~~~~~~~~~~~~~~~~~~~~~~~~~~~\n",
    "\n",
    "\n",
    "# 2. SHUFFLE LIST    /// shuffle_list(game_list)\n",
    "\n",
    "def func_shuffle_game_list(list_to_be_shuffled):\n",
    "    shuffle(list_to_be_shuffled)\n",
    "    return list_to_be_shuffled\n",
    "    \n",
    "shuffled_list = func_shuffle_game_list(game_list)\n",
    "# ~~~~~~~~~~~~~~~~~~~~~~~~~~~~~~~~~~~~~~~~~~~~~~~~~~~\n",
    "\n",
    "\n",
    "# 3. USER GUESS      /// guess_index = func_player_guess()\n",
    "\n",
    "def func_player_guess():\n",
    "\n",
    "    guess = ''\n",
    "\n",
    "    while guess not in ['1','2','3']:\n",
    "        guess = input(\"Pick a number: 1, 2, or 3 \")\n",
    "        \n",
    "        if guess not in ['1', '2', '3']:\n",
    "            print(\"Not a Valid Entry!\")\n",
    "\n",
    "    return int(guess)\n",
    "\n",
    "guess_index = func_player_guess()\n",
    "# ~~~~~~~~~~~~~~~~~~~~~~~~~~~~~~~~~~~~~~~~~~~~~~~~~~~\n",
    "\n",
    "\n",
    "# 4. CHECK GUESS     /// check_guess(mylist, guess)\n",
    "\n",
    "def check_guess(mylist, guess):\n",
    "    if mylist[guess-1] == 'O':\n",
    "        print(\"Correct! - Good Job!\")\n",
    "        print(mylist)\n",
    "    else: \n",
    "        print(\"you owe Evi 100!!<3!\")\n",
    "        print(mylist)\n",
    "# ~~~~~~~~~~~~~~~~~~~~~~~~~~~~~~~~~~~~~~~~~~~~~~~~~~~\n",
    "\n",
    "\n",
    "\n",
    "## Final Function Interaction Answer:\n",
    "\n",
    "check_guess(shuffled_list, guess_index)"
   ]
  },
  {
   "cell_type": "markdown",
   "id": "9543aefb-9c77-4af0-abac-a608c1954200",
   "metadata": {
    "jp-MarkdownHeadingCollapsed": true
   },
   "source": [
    "#### <h4>  <span style = \"font-size: 18px;\"> <b> Lambda Expressions, Map, and Filter Functions </b> </span>  </h4> "
   ]
  },
  {
   "cell_type": "markdown",
   "id": "10ba480e-36b9-466e-b4b5-8a412d9dde41",
   "metadata": {
    "jp-MarkdownHeadingCollapsed": true
   },
   "source": [
    "##### <h5>  <span style = \"font-size: 16px;\"> <b>1. Lambda Expressions</b> – Use them One Time (Anonymous Funct.) </span>  </h5> "
   ]
  },
  {
   "cell_type": "code",
   "execution_count": 318,
   "id": "cb618849-1449-48c8-bc17-71aff1f7cb2a",
   "metadata": {},
   "outputs": [],
   "source": [
    "# 1\n",
    "def square(num):\n",
    "    result = num**2\n",
    "    return result"
   ]
  },
  {
   "cell_type": "code",
   "execution_count": 280,
   "id": "e0ffd0dc-2027-4480-a3b3-8bccf479ed34",
   "metadata": {},
   "outputs": [
    {
     "data": {
      "text/plain": [
       "9"
      ]
     },
     "execution_count": 280,
     "metadata": {},
     "output_type": "execute_result"
    }
   ],
   "source": [
    "square(3)"
   ]
  },
  {
   "cell_type": "code",
   "execution_count": 287,
   "id": "fb8a26bf-4ff8-41e9-b593-998dc21b0513",
   "metadata": {},
   "outputs": [],
   "source": [
    "# 2\n",
    "def square(num):\n",
    "    return num**2"
   ]
  },
  {
   "cell_type": "code",
   "execution_count": 242,
   "id": "c71dd291-3ec2-4175-9cf9-d5e6f6ee1855",
   "metadata": {},
   "outputs": [
    {
     "data": {
      "text/plain": [
       "9"
      ]
     },
     "execution_count": 242,
     "metadata": {},
     "output_type": "execute_result"
    }
   ],
   "source": [
    "square(3)"
   ]
  },
  {
   "cell_type": "code",
   "execution_count": 256,
   "id": "9c6c6054-1199-422a-9e69-6ce6200fde69",
   "metadata": {},
   "outputs": [],
   "source": [
    "# 3\n",
    "def square(num): return num**2"
   ]
  },
  {
   "cell_type": "code",
   "execution_count": 246,
   "id": "3f95fba4-4cce-4afc-a379-bf8059184ce6",
   "metadata": {},
   "outputs": [],
   "source": [
    "# 4\n",
    "square = lambda num: num**2"
   ]
  },
  {
   "cell_type": "code",
   "execution_count": 302,
   "id": "a8a6b24b-5920-4e68-8ea3-d2d81ea4a275",
   "metadata": {},
   "outputs": [
    {
     "data": {
      "text/plain": [
       "[1, 4, 9, 16, 25, 36]"
      ]
     },
     "execution_count": 302,
     "metadata": {},
     "output_type": "execute_result"
    }
   ],
   "source": [
    "# 5\n",
    "list(map(lambda num:num**2, mynums))"
   ]
  },
  {
   "cell_type": "code",
   "execution_count": 250,
   "id": "1b2bc383-8d14-4437-87f3-d5831c4b2419",
   "metadata": {},
   "outputs": [
    {
     "data": {
      "text/plain": [
       "[2, 4, 6]"
      ]
     },
     "execution_count": 250,
     "metadata": {},
     "output_type": "execute_result"
    }
   ],
   "source": [
    "# 6\n",
    "list(filter(lambda num:num%2 == 0, mynums))"
   ]
  },
  {
   "cell_type": "code",
   "execution_count": 258,
   "id": "4fa7155f-081b-4254-a0c1-1619ab4912c8",
   "metadata": {},
   "outputs": [
    {
     "data": {
      "text/plain": [
       "['A', 'E', 'S']"
      ]
     },
     "execution_count": 258,
     "metadata": {},
     "output_type": "execute_result"
    }
   ],
   "source": [
    "# 7\n",
    "list(map(lambda x:x[0], names))"
   ]
  },
  {
   "cell_type": "code",
   "execution_count": 254,
   "id": "fb44dcc1-d646-4b01-98ef-1dbfa569b29d",
   "metadata": {},
   "outputs": [
    {
     "data": {
      "text/plain": [
       "['ydnA', 'evE', 'yllaS']"
      ]
     },
     "execution_count": 254,
     "metadata": {},
     "output_type": "execute_result"
    }
   ],
   "source": [
    "# 8\n",
    "list(map(lambda x:x[::-1], names))"
   ]
  },
  {
   "attachments": {},
   "cell_type": "markdown",
   "id": "0efa014e-ac7e-462d-a389-e6b278d61e6b",
   "metadata": {
    "jp-MarkdownHeadingCollapsed": true
   },
   "source": [
    "##### <h5>  <span style = \"font-size: 16px;\"> <b>2. Map Functions</b> – Apply a function to each item of one or more iterables (like lists, tuples), and returns an iterator that yields the results </span>  </h5> "
   ]
  },
  {
   "cell_type": "code",
   "execution_count": 111,
   "id": "8f088126-24da-44d5-8015-474079c96a9e",
   "metadata": {},
   "outputs": [],
   "source": [
    "def square(num):\n",
    "    return num**2"
   ]
  },
  {
   "cell_type": "code",
   "execution_count": 113,
   "id": "023f21f5-b6ab-4f7c-98da-3e2c72c3aedd",
   "metadata": {},
   "outputs": [],
   "source": [
    "my_nums = [1,2,3,4,5]"
   ]
  },
  {
   "cell_type": "code",
   "execution_count": 121,
   "id": "81dee26a-3db3-4702-8977-720fa17b5c41",
   "metadata": {},
   "outputs": [
    {
     "name": "stdout",
     "output_type": "stream",
     "text": [
      "1\n",
      "4\n",
      "9\n",
      "16\n",
      "25\n"
     ]
    }
   ],
   "source": [
    "for item in map(square, my_nums):\n",
    "    print(item)"
   ]
  },
  {
   "cell_type": "code",
   "execution_count": 125,
   "id": "73492109-8388-4e58-b843-69b51ebf7b31",
   "metadata": {},
   "outputs": [
    {
     "data": {
      "text/plain": [
       "[1, 4, 9, 16, 25]"
      ]
     },
     "execution_count": 125,
     "metadata": {},
     "output_type": "execute_result"
    }
   ],
   "source": [
    "list(map(square, my_nums))"
   ]
  },
  {
   "cell_type": "code",
   "execution_count": 141,
   "id": "9da75740-e68d-4e96-bf26-8f09cf16bb07",
   "metadata": {},
   "outputs": [],
   "source": [
    "def slicer(mystring):\n",
    "    if len(mystring) % 2 == 0:\n",
    "        return 'EVEN'\n",
    "    else:\n",
    "        return mystring[0]"
   ]
  },
  {
   "cell_type": "code",
   "execution_count": 143,
   "id": "98b67a46-3710-4f15-a45e-ba2ce3c085a1",
   "metadata": {},
   "outputs": [],
   "source": [
    "names = ['Andy', 'Eve', 'Sally']"
   ]
  },
  {
   "cell_type": "code",
   "execution_count": 145,
   "id": "3b4ac6eb-d241-4cbf-bfce-459e862dd344",
   "metadata": {},
   "outputs": [
    {
     "data": {
      "text/plain": [
       "['EVEN', 'E', 'S']"
      ]
     },
     "execution_count": 145,
     "metadata": {},
     "output_type": "execute_result"
    }
   ],
   "source": [
    "list(map(slicer, names))"
   ]
  },
  {
   "attachments": {},
   "cell_type": "markdown",
   "id": "e29ae568-6dd0-4aa0-b65a-87dfeda7a52d",
   "metadata": {
    "jp-MarkdownHeadingCollapsed": true
   },
   "source": [
    "##### <h5>  <span style = \"font-size: 16px;\"> <b>3. Filter Functions</b> – Selects items from an iterable based on a condition (a function that returns True or False) </span>  </h5> "
   ]
  },
  {
   "cell_type": "code",
   "execution_count": 167,
   "id": "1a8333ae-36c3-4b9b-830f-a1cbe163a74f",
   "metadata": {},
   "outputs": [],
   "source": [
    "def check_even(num):\n",
    "    return num % 2 == 0"
   ]
  },
  {
   "cell_type": "code",
   "execution_count": 169,
   "id": "cb2851a9-0bab-4649-aefb-5b554e78ff73",
   "metadata": {},
   "outputs": [],
   "source": [
    "mynums = [1,2,3,4,5,6]"
   ]
  },
  {
   "cell_type": "code",
   "execution_count": 171,
   "id": "195c004f-e21c-4144-9d51-92ac94b93cda",
   "metadata": {},
   "outputs": [
    {
     "data": {
      "text/plain": [
       "[2, 4, 6]"
      ]
     },
     "execution_count": 171,
     "metadata": {},
     "output_type": "execute_result"
    }
   ],
   "source": [
    "list(filter(check_even, mynums))"
   ]
  },
  {
   "cell_type": "code",
   "execution_count": 173,
   "id": "acd65d7c-5408-449c-a908-3afa9edbd3d8",
   "metadata": {},
   "outputs": [
    {
     "name": "stdout",
     "output_type": "stream",
     "text": [
      "2\n",
      "4\n",
      "6\n"
     ]
    }
   ],
   "source": [
    "for n in filter(check_even, mynums):\n",
    "    print(n)"
   ]
  },
  {
   "cell_type": "markdown",
   "id": "14c8f909-0512-45bc-ac0c-2bc9de83b700",
   "metadata": {
    "jp-MarkdownHeadingCollapsed": true
   },
   "source": [
    "##### <h5>  <span style = \"font-size: 16px;\"> <b> Nested Statements And Scopes </b> </span>  </h5> "
   ]
  },
  {
   "attachments": {
    "3cdc4000-d839-446a-b2e5-741ef4eabfa6.png": {
     "image/png": "[encoded data removed]"
    }
   },
   "cell_type": "markdown",
   "id": "3fb871f3-f8fe-475b-99e7-f38d48422df1",
   "metadata": {},
   "source": [
    "![image.png](attachment:3cdc4000-d839-446a-b2e5-741ef4eabfa6.png)"
   ]
  },
  {
   "cell_type": "markdown",
   "id": "97345052-6ae5-4d1b-b91c-05f817fbe86c",
   "metadata": {
    "jp-MarkdownHeadingCollapsed": true
   },
   "source": [
    "## *Practice Excercises:\n"
   ]
  },
  {
   "cell_type": "markdown",
   "id": "e323cb61-10e6-489c-bc33-150a6b29fc22",
   "metadata": {
    "jp-MarkdownHeadingCollapsed": true
   },
   "source": [
    "### Warmup 0"
   ]
  },
  {
   "cell_type": "raw",
   "id": "549e131f-1b90-425a-8126-bf191f9dd1d8",
   "metadata": {},
   "source": [
    "Functions #9: pick evens\n",
    "\n",
    "Define a function called myfunc that takes in an arbitrary number of arguments, \n",
    "and returns a list containing only those arguments that are even."
   ]
  },
  {
   "cell_type": "code",
   "execution_count": 790,
   "id": "25cf6448-09cf-4bf8-a0b2-d420e740e210",
   "metadata": {},
   "outputs": [],
   "source": [
    "even_list = []\n",
    "\n",
    "\n",
    "def myfunc(*t):\n",
    "    \n",
    "    for x in t:\n",
    "        if x % 2 == 0:\n",
    "            even_list.append(x)\n",
    "        else:\n",
    "            pass\n",
    "    \n",
    "    return even_list"
   ]
  },
  {
   "cell_type": "code",
   "execution_count": 792,
   "id": "8d1bdbeb-6b5c-4e16-a37e-54d572d6634b",
   "metadata": {},
   "outputs": [
    {
     "data": {
      "text/plain": [
       "[2, 4, 8, 34, 6, 678]"
      ]
     },
     "execution_count": 792,
     "metadata": {},
     "output_type": "execute_result"
    }
   ],
   "source": [
    "myfunc(1,2,3,4,5,67,8,9,34,6,678)"
   ]
  },
  {
   "cell_type": "raw",
   "id": "fb97cf80-272d-40a9-92b6-ab6132600d8c",
   "metadata": {},
   "source": [
    "Functions #10: skyline\n",
    "\n",
    "Define a function called myfunc that takes in a string, \n",
    "and returns a matching string where \n",
    "every even letter is uppercase, and \n",
    "every odd letter is lowercase."
   ]
  },
  {
   "cell_type": "code",
   "execution_count": 854,
   "id": "61380f7c-28b3-4dd1-b9ed-b733fabcb705",
   "metadata": {},
   "outputs": [],
   "source": [
    "# My version which does more than the requirement:\n",
    "\n",
    "def myfunc(*t):\n",
    "\n",
    "    str_even_upper_odd_lower = []\n",
    "\n",
    "    for word in t:\n",
    "        new_word = ''\n",
    "        for x in range(len(word)):\n",
    "            letter = word[x]\n",
    "            if (x+1) % 2 == 0:\n",
    "                new_word += letter.upper()  # Build the transformed word\n",
    "            else:\n",
    "                new_word += letter.lower()  # Build the transformed word\n",
    "        str_even_upper_odd_lower.append(new_word)\n",
    "        \n",
    "    return str_even_upper_odd_lower"
   ]
  },
  {
   "cell_type": "code",
   "execution_count": 852,
   "id": "621779da-74af-42d9-b9ee-10949333d29a",
   "metadata": {},
   "outputs": [
    {
     "data": {
      "text/plain": [
       "['hElLo', 'hI', 'tOmOrRoW', 'oThErWoRdHeRe']"
      ]
     },
     "execution_count": 852,
     "metadata": {},
     "output_type": "execute_result"
    }
   ],
   "source": [
    "myfunc('hello', 'hi', 'tomorrow', 'otherwordhere')"
   ]
  },
  {
   "cell_type": "code",
   "execution_count": 844,
   "id": "4e56f346-d707-4fc9-9f41-5f635f781e99",
   "metadata": {},
   "outputs": [],
   "source": [
    "# What they were asking:\n",
    "\n",
    "def myfunc(word):\n",
    "    \n",
    "    str_even_upper_odd_lower = ''\n",
    "    \n",
    "    for x in range(len(word)):\n",
    "        if x % 2 == 0:\n",
    "            str_even_upper_odd_lower += word[x].lower()\n",
    "        else:\n",
    "            str_even_upper_odd_lower += word[x].upper()\n",
    "    \n",
    "    return str_even_upper_odd_lower"
   ]
  },
  {
   "cell_type": "code",
   "execution_count": 864,
   "id": "6d7e54fb-71f0-4fe0-8320-f59a54ff5e0d",
   "metadata": {},
   "outputs": [
    {
     "data": {
      "text/plain": [
       "['hElLo']"
      ]
     },
     "execution_count": 864,
     "metadata": {},
     "output_type": "execute_result"
    }
   ],
   "source": [
    "myfunc('hello')"
   ]
  },
  {
   "cell_type": "markdown",
   "id": "08063ee7-cd07-46ef-bf5d-0ad3e96c6da3",
   "metadata": {
    "jp-MarkdownHeadingCollapsed": true
   },
   "source": [
    "### Warmup 1"
   ]
  },
  {
   "cell_type": "code",
   "execution_count": 4,
   "id": "5e79c122-82f1-4430-a454-a4e461006535",
   "metadata": {},
   "outputs": [],
   "source": [
    "# LESSER OF TWO EVENS: Write a function that returns the lesser of two given numbers if both numbers are even, \n",
    "# but returns the greater if one or both numbers are odd\n",
    "\n",
    "def lesser_of_two_evens(a,b):\n",
    "    if a % 2 == 0 and b % 2 == 0:\n",
    "        return min(a,b)\n",
    "    else:\n",
    "        return max(a,b)\n",
    "\n",
    "# ~~~~~~~~~~~~~~~~~~~~~~~~~~~~~~~~~~~~~~~~~~~~~~~~~~~~~~~~~~~~~~~~~~~~~~~~~~~~~~~~~~~~\n",
    "def lesser_of_two_evens(a, b): \n",
    "    return min(a, b) if a % 2 == 0 and b % 2 == 0 else max(a, b)\n"
   ]
  },
  {
   "cell_type": "code",
   "execution_count": 6,
   "id": "236c0581-d551-4817-b63c-52a152bc9a66",
   "metadata": {},
   "outputs": [
    {
     "data": {
      "text/plain": [
       "4"
      ]
     },
     "execution_count": 6,
     "metadata": {},
     "output_type": "execute_result"
    }
   ],
   "source": [
    "lesser_of_two_evens(4,6)"
   ]
  },
  {
   "cell_type": "code",
   "execution_count": 895,
   "id": "a4b6cd36-3c16-4747-bae1-e846c334e013",
   "metadata": {},
   "outputs": [],
   "source": [
    "# ANIMAL CRACKERS: Write a function takes a two-word string and returns True if both words begin with same letter\n",
    "\n",
    "def animal_crackers(text):\n",
    "    # words = []  Not needed since split creates a list by default\n",
    "    words = text.split()\n",
    "    if words[0][0] == words[1][0]:\n",
    "        return True\n",
    "    else:\n",
    "        return False\n",
    "\n",
    "\n",
    "# Cleaner Version:\n",
    "\n",
    "def animal_crackers(text):\n",
    "    words = text.lower().split()\n",
    "    return words[0][0] == words[1][0]"
   ]
  },
  {
   "cell_type": "code",
   "execution_count": 897,
   "id": "135b30d1-535e-4703-81a7-a189246f6f64",
   "metadata": {},
   "outputs": [
    {
     "data": {
      "text/plain": [
       "True"
      ]
     },
     "execution_count": 897,
     "metadata": {},
     "output_type": "execute_result"
    }
   ],
   "source": [
    "animal_crackers('hello hthere')"
   ]
  },
  {
   "cell_type": "code",
   "execution_count": 52,
   "id": "f4c44ca6-63cd-43c7-a076-4ff9775b9935",
   "metadata": {},
   "outputs": [
    {
     "name": "stdout",
     "output_type": "stream",
     "text": [
      "Random number selected: [77, -80]\n",
      "Sum equal to:  -3\n",
      "False\n"
     ]
    }
   ],
   "source": [
    "# MAKES TWENTY: Given two integers, return True if the sum of the integers is 20 or if one of the integers is 20. If not, return False\n",
    "\n",
    "def makes_twenty(n1, n2):\n",
    "    return sum([n1, n2]) == 20 or n1 == 20 or n2 == 20  # Correctly summing the values and checking for 20\n",
    "\n",
    "import random\n",
    "\n",
    "# Generate two random numbers\n",
    "num = [random.randint(1, 100), random.randint(-100, 0)]\n",
    "\n",
    "# Output the random numbers and the sum\n",
    "print(f\"Random number selected: {num}\")\n",
    "print(\"Sum equal to: \", sum([num[0], num[1]]))\n",
    "\n",
    "# Output whether the sum or one of the numbers is 20\n",
    "print(makes_twenty(num[0], num[1]))\n"
   ]
  },
  {
   "cell_type": "markdown",
   "id": "672003f0-1340-40ca-ac42-d8a2a8252bf6",
   "metadata": {
    "jp-MarkdownHeadingCollapsed": true
   },
   "source": [
    "### LEVEL 1 PROBLEMS"
   ]
  },
  {
   "cell_type": "code",
   "execution_count": 8,
   "id": "d300f855-4c92-4937-8c5d-f6053ac1d516",
   "metadata": {},
   "outputs": [],
   "source": [
    "# OLD MACDONALD: Write a function that capitalizes the first and fourth letters of a name\n",
    "\n",
    "\n",
    "def old_macdonald(name):\n",
    "\n",
    "    transformed_name = ''\n",
    "\n",
    "    transformed_name = name[0].upper()\n",
    "    transformed_name += name[1:3:1]\n",
    "    transformed_name += name[3].upper()\n",
    "    transformed_name += name[4::]\n",
    "\n",
    "    return transformed_name\n",
    "\n",
    "# Issues with my approach:\n",
    "# 1. Incomplete logic: What if len(name) < 4\n",
    "# 2. Redundant Code. Not compact and clean\n",
    "\n",
    "\n",
    "def old_macdonald(name):\n",
    "\n",
    "    transformed_name = ''\n",
    "\n",
    "    if len(name) < 4:\n",
    "        transformed_name = (name[0].upper() + name[1::])\n",
    "    else:\n",
    "        transformed_name = (name[0].upper() + name[1:3] + name[3].upper() + name[4:])\n",
    "    \n",
    "    return transformed_name\n",
    "\n",
    "# Cleaner Version:\n",
    "\n",
    "def old_macdonald(name):\n",
    "    if len(name) > 3:\n",
    "        return name[:3].capitalize() + name[3:].capitalize()\n",
    "    else:\n",
    "        return 'Name is too short!'\n"
   ]
  },
  {
   "cell_type": "code",
   "execution_count": 10,
   "id": "897c2ffe-8449-4985-b90f-82cd4b4ff614",
   "metadata": {},
   "outputs": [
    {
     "data": {
      "text/plain": [
       "'MacDonald'"
      ]
     },
     "execution_count": 10,
     "metadata": {},
     "output_type": "execute_result"
    }
   ],
   "source": [
    "old_macdonald('macdonald')"
   ]
  },
  {
   "cell_type": "code",
   "execution_count": 14,
   "id": "942dc24a-0c9a-4e1a-9080-1530a427cc03",
   "metadata": {},
   "outputs": [
    {
     "data": {
      "text/plain": [
       "'home am I'"
      ]
     },
     "execution_count": 14,
     "metadata": {},
     "output_type": "execute_result"
    }
   ],
   "source": [
    "# MASTER YODA: Given a sentence, return a sentence with the words reversed\n",
    "\n",
    "def master_yoda(text):\n",
    "    word_list = text.split()\n",
    "    reversed_text = \" \".join(word_list[::-1])\n",
    "    return reversed_text\n",
    "\n",
    "master_yoda('I am home')\n",
    "\n",
    "# Cleaner Version:\n",
    "def master_yoda(text):\n",
    "    return ' '.join(text.split()[::-1])\n",
    "\n",
    "master_yoda('I am home')\n"
   ]
  },
  {
   "cell_type": "code",
   "execution_count": 54,
   "id": "e5d4db93-41ae-4b10-a528-6c432b95fcad",
   "metadata": {},
   "outputs": [
    {
     "data": {
      "text/plain": [
       "True"
      ]
     },
     "execution_count": 54,
     "metadata": {},
     "output_type": "execute_result"
    }
   ],
   "source": [
    "# ALMOST THERE: Given an integer n, return True if n is within 10 of either 100 or 200\n",
    "\n",
    "def almost_there(n):\n",
    "    return n in range(100-10, 100+10) or n in range(200-10, 200+10)\n",
    "\n",
    "almost_there(104);\n",
    "almost_there(150);\n",
    "almost_there(209)\n",
    "\n",
    "# Cleaner Version:\n",
    "def almost_there(n):\n",
    "    return ((abs(100 - n) <= 10) or (abs(200 - n) <= 10))\n",
    "\n",
    "almost_there(104);\n",
    "almost_there(150);\n",
    "almost_there(209)"
   ]
  },
  {
   "cell_type": "markdown",
   "id": "b26f9f8d-0210-4f7a-87ec-f983e6b67231",
   "metadata": {
    "jp-MarkdownHeadingCollapsed": true
   },
   "source": [
    "### LEVEL 2 PROBLEMS"
   ]
  },
  {
   "cell_type": "code",
   "execution_count": 57,
   "id": "86c18130-066f-4d9e-9713-b44c99090f1f",
   "metadata": {},
   "outputs": [
    {
     "data": {
      "text/plain": [
       "False"
      ]
     },
     "execution_count": 57,
     "metadata": {},
     "output_type": "execute_result"
    }
   ],
   "source": [
    "# Given a list of ints, return True if the array contains a 3 next to a 3 somewhere.\n",
    "\n",
    "\n",
    "def has_33(nums):\n",
    "    \n",
    "    for x, n in enumerate(nums[:-1]):\n",
    "        \n",
    "        if  nums[x] == 3  and  nums[x+1] == 3:\n",
    "            return True\n",
    "\n",
    "    return False\n",
    "# ~~~~~~~~~~~~~~~~~~~~~~~~~~~~~~~~~~~~~~~~~~~~~~~~~~~~~~~~~\n",
    "\n",
    "def has_33(nums):\n",
    "    for i in range(0, len(nums)-1):\n",
    "      \n",
    "        # nicer looking alternative in commented code\n",
    "        #if nums[i] == 3 and nums[i+1] == 3:\n",
    "    \n",
    "        if nums[i:i+2] == [3,3]:\n",
    "            return True  \n",
    "    \n",
    "    return False\n",
    "\n",
    "has_33([1, 3, 3])\n",
    "has_33([1, 3, 1, 3])\n",
    "has_33([3, 1, 3])"
   ]
  },
  {
   "cell_type": "code",
   "execution_count": 20,
   "id": "95ccfec9-d6a0-44a0-8901-e17467839148",
   "metadata": {},
   "outputs": [
    {
     "data": {
      "text/plain": [
       "'MMMiiissssssiiissssssiiippppppiii'"
      ]
     },
     "execution_count": 20,
     "metadata": {},
     "output_type": "execute_result"
    }
   ],
   "source": [
    "# PAPER DOLL: Given a string, return a string where for every character in the original there are three characters\n",
    "\n",
    "\n",
    "def paper_doll(text):\n",
    "\n",
    "    new_text = ''\n",
    "\n",
    "    for l in text:\n",
    "        triple_letters = l * 3\n",
    "        new_text += triple_letters\n",
    "\n",
    "    return new_text\n",
    "# ~~~~~~~~~~~~~~~~~~~~~~~~~~~~~~~~~~~~~~~~~~~~~~~~~~~~~~~~~\n",
    "\n",
    "def paper_doll(text):\n",
    "    result = ''\n",
    "    for char in text:\n",
    "        result += char * 3\n",
    "    return result\n",
    "paper_doll('Hello')\n",
    "paper_doll('Mississippi')"
   ]
  },
  {
   "cell_type": "code",
   "execution_count": 36,
   "id": "96bd7712-2a67-4999-a9c6-96d444a292e1",
   "metadata": {},
   "outputs": [
    {
     "data": {
      "text/plain": [
       "19"
      ]
     },
     "execution_count": 36,
     "metadata": {},
     "output_type": "execute_result"
    }
   ],
   "source": [
    "# BLACKJACK: \n",
    "# Given three integers between 1 and 11, if their sum is less than or equal to 21, return their sum. \n",
    "# If their sum exceeds 21 and there's an eleven, reduce the total sum by 10. \n",
    "# Finally, if the sum (even after adjustment) exceeds 21, return 'BUST'\n",
    "\n",
    "\n",
    "def blackjack(a,b,c):\n",
    "\n",
    "    if a + b + c <= 21:\n",
    "        return a + b + c\n",
    "    elif a + b + c > 21 and (a == 11 or b == 11 or c == 11):\n",
    "        if ( (a + b + c) - 10 ) > 21:\n",
    "            return \"Bust\"\n",
    "        else:\n",
    "            return ( (a + b + c) - 10 )\n",
    "    else:\n",
    "        return \"Bust\"\n",
    "# ~~~~~~~~~~~~~~~~~~~~~~~~~~~~~~~~~~~~~~~~~~~~~~~~~~~~~~~~~~~~~\n",
    "\n",
    "\n",
    "\n",
    "# Cleaner Version:\n",
    "\n",
    "def blackjack(a, b, c):\n",
    "    \n",
    "    total = a + b + c\n",
    "\n",
    "    if total <= 21:\n",
    "        return total\n",
    "    elif 11 in (a, b, c) and total - 10 <= 21:\n",
    "        return total - 10\n",
    "    else:\n",
    "        return \"Bust\"\n",
    "# ~~~~~~~~~~~~~~~~~~~~~~~~~~~~~~~~~~~~~~~~~~~~~~~~~~~~~~~~~~~~~\n",
    "\n",
    "\n",
    "def blackjack(a,b,c):\n",
    "    \n",
    "    if sum((a,b,c)) <= 21:\n",
    "        return sum((a,b,c))\n",
    "    elif sum((a,b,c)) <=31 and 11 in (a,b,c):\n",
    "        return sum((a,b,c)) - 10\n",
    "    else:\n",
    "        return 'BUST'\n",
    "\n",
    "blackjack(5,6,7)\n",
    "blackjack(9,9,9)\n",
    "blackjack(9,9,11)"
   ]
  },
  {
   "cell_type": "code",
   "execution_count": 26,
   "id": "f133ccd8-fd15-420e-846f-dd2cae31f17a",
   "metadata": {},
   "outputs": [],
   "source": [
    "# SUMMER OF '69: Return the sum of the numbers in the array,\n",
    "# except ignore sections of numbers starting with a 6 and extending to the next 9 (every 6 will be followed by at least one 9).\n",
    "# Return 0 for no numbers.\n",
    "\n",
    "def summer_69(arr):\n",
    "\n",
    "    total = 0\n",
    "    add = True\n",
    "\n",
    "    # 1. Iterate through each number in the array ( -> 2 )\n",
    "    for num in arr:                         # 1 --> 2\n",
    "\n",
    "        # 2. Check if we're in add mode (True = summing numbers) (if true -> 2.a / if false -> 3)\n",
    "        while add:                          # 2 --> 2.a (if num != 6) / 2.b (if num == 6)\n",
    "\n",
    "            # 2.a Add number if not 6 ( -> 2.c )\n",
    "            if num != 6:                    # 2.a --> 2.c\n",
    "                total += num                # 2.c --> break (exit while) --> 1\n",
    "                break                       # 2.c --> 1 (next num in arr)\n",
    "\n",
    "            # 2.b If it's a 6, turn off add mode ( -> 4 )\n",
    "            else:                           # 2.b --> 4\n",
    "                add = False                 # 4   --> exit while --> 3\n",
    "\n",
    "        # 3. If add is False (i.e., inside a 6-9 block) ( -> 3.a / 3.b )\n",
    "        while not add:                      # 3   --> 3.a (if num != 9) / 3.b (if num == 9)\n",
    "\n",
    "            # 3.a Not yet 9 → stay in skip mode ( -> break to 1 )\n",
    "            if num != 9:                    # 3.a --> break --> 1\n",
    "                break                       # 3.a --> 1\n",
    "\n",
    "            # 3.b Found 9 → end skip mode and resume adding ( -> break to 1 )\n",
    "            else:                           # 3.b --> 5\n",
    "                add = True                  # 5   --> break --> 1\n",
    "                break                       # 5   --> 1\n",
    "\n",
    "    return total                            # 6 --> END\n",
    "\n",
    "\n",
    "# Flow description:\n",
    "\n",
    "# -------------------------> 1. Loop over each number in array ( -> 2 )\n",
    "# -------------------------> 2. While add is True: check if number is 6 (true->2.a / false->4)\n",
    "# -------------------------> 2.a If number is not 6, add to total ( -> 2.c )\n",
    "# -------------------------> 2.c Break and continue to next number ( -> 1 )\n",
    "# -------------------------> 2.b If number is 6, set add to False ( -> 4 )\n",
    "# -------------------------> 4. Break and move to next while loop ( -> 3 )\n",
    "# -------------------------> 3. While add is False: check if number is 9 (true->3.b / false->3.a)\n",
    "# -------------------------> 3.a If not 9, skip number ( -> 1 )\n",
    "# -------------------------> 3.b If number is 9, set add to True ( -> 5 )\n",
    "# -------------------------> 5. Break and continue to next number ( -> 1 )\n",
    "# -------------------------> 6. Return total ( END )\n",
    "\n",
    "\n",
    "\n",
    "# ~~~~~~~~~~~~~~~~~~~~~~~~~~~~~~~~~~~~~~~~~~~~~~~~~~~~~~~~~~~~~\n",
    "# ~~~~~~~~~~~~~~~~~~~~~~~~~~~~~~~~~~~~~~~~~~~~~~~~~~~~~~~~~~~~~\n",
    "# ~~~~~~~~~~~~~~~~~~~~~~~~~~~~~~~~~~~~~~~~~~~~~~~~~~~~~~~~~~~~~\n",
    "# ~~~~~~~~~~~~~~~~~~~~~~~~~~~~~~~~~~~~~~~~~~~~~~~~~~~~~~~~~~~~~\n",
    "# ~~~~~~~~~~~~~~~~~~~~~~~~~~~~~~~~~~~~~~~~~~~~~~~~~~~~~~~~~~~~~\n",
    "# ~~~~~~~~~~~~~~~~~~~~~~~~~~~~~~~~~~~~~~~~~~~~~~~~~~~~~~~~~~~~~\n",
    "# ~~~~~~~~~~~~~~~~~~~~~~~~~~~~~~~~~~~~~~~~~~~~~~~~~~~~~~~~~~~~~\n",
    "# Cleaner Version:\n",
    "def summer_69(arr):\n",
    "    total = 0\n",
    "    add = True\n",
    "    for num in arr:\n",
    "        while add:\n",
    "            if num != 6:\n",
    "                total += num\n",
    "                break\n",
    "            else:\n",
    "                add = False\n",
    "        while not add:\n",
    "            if num != 9:\n",
    "                break\n",
    "            else:\n",
    "                add = True\n",
    "                break\n",
    "    return total"
   ]
  },
  {
   "cell_type": "code",
   "execution_count": 28,
   "id": "f11d9dc8-5350-4845-bf1b-6b1a6c0ed89d",
   "metadata": {},
   "outputs": [
    {
     "data": {
      "text/plain": [
       "14"
      ]
     },
     "execution_count": 28,
     "metadata": {},
     "output_type": "execute_result"
    }
   ],
   "source": [
    "summer_69([2, 1, 6, 9, 11])\n"
   ]
  },
  {
   "cell_type": "code",
   "execution_count": 59,
   "id": "cd6a724a-8425-44b4-814e-18610c355222",
   "metadata": {},
   "outputs": [],
   "source": [
    "# Updated function considering more than one group of 6-9\n",
    "\n",
    "def summer_69(arr):\n",
    "    \n",
    "    total = 0\n",
    "    i = 0\n",
    "\n",
    "    # 1. ( ->2 )\n",
    "    while i < len(arr):                 #  1 --> 2 \n",
    "\n",
    "        # 2. ( true->2.a / false->3 )\n",
    "        if arr[i] == 6:                 #  2 -- ( true -> 2.a / false -> 3 )\n",
    "            try:\n",
    "                #  2.a   --> 2.b\n",
    "                j = arr.index(9, i + 1) #  2.a   --> 2.b\n",
    "                #  2.b   --> 1\n",
    "                i = j + 1               #  2.b   --> 1 \n",
    "            #  2.c   --> 2.c.1     \n",
    "            except ValueError:          #  2.c   --> 2.c.1 \n",
    "            #  2.c.1 --> 2.c.2\n",
    "                total += 6              #  2.c.1 --> 2.c.2 \n",
    "            #  2.c.2 --> 1\n",
    "                i += 1                  #  2.c.2 --> 1 \n",
    "        \n",
    "        # 3. ( ->3.a )\n",
    "        else:                           #  3     --> 3.a \n",
    "            #  3.a   --> 3.b \n",
    "            total += arr[i]             #  3.a   --> 3.b \n",
    "            #  3.b   --> 1\n",
    "            i += 1                      #  3.b   --> 1 \n",
    "\n",
    "    return total                        #  4     ( end )\n",
    "\n",
    "\n",
    "\n",
    "# Description of flow:\n",
    "\n",
    "# ------------------------->  1 Outer loop over indices ( ->2 )\n",
    "# ------------------------->  2 See a 6: look for closing 9 ( true->2.a / false->3 )\n",
    "# ------------------------->  2.a Find next 9 after index i ( ->2.b )\n",
    "# ------------------------->  2.b Skip entire 6–9 section, set i after the 9 ( ->1 )\n",
    "# ------------------------->  2.c No 9 found: treat 6 as normal ( ->2.c.1 )\n",
    "# ------------------------->  2.c.1 Add 6 to total ( ->2.c.2 )\n",
    "# ------------------------->  2.c.2 Move to next element ( ->1 )\n",
    "# ------------------------->  3 Normal case: add this number ( ->3.a )\n",
    "# ------------------------->  3.a Add arr[i] to total ( ->3.b )\n",
    "# ------------------------->  3.b Move to next element ( ->1 )\n",
    "# ------------------------->  4 Return final total ( end )"
   ]
  },
  {
   "cell_type": "code",
   "execution_count": 61,
   "id": "40ce9a2a-d088-459b-835c-c0de532e1e3d",
   "metadata": {},
   "outputs": [
    {
     "data": {
      "text/plain": [
       "32"
      ]
     },
     "execution_count": 61,
     "metadata": {},
     "output_type": "execute_result"
    }
   ],
   "source": [
    "summer_69([1, 6, 2, 6, 3, 9, 4, 6, 7, 8, 1, 0, 2, 3])\n"
   ]
  },
  {
   "cell_type": "markdown",
   "id": "a97b4de8-ca9a-4eac-952a-1a9962aeb43f",
   "metadata": {
    "jp-MarkdownHeadingCollapsed": true
   },
   "source": [
    "### CHALLENGING PROBLEMS"
   ]
  },
  {
   "cell_type": "code",
   "execution_count": 121,
   "id": "2f6952c8-779a-4e62-b8c4-879b8c3b0903",
   "metadata": {},
   "outputs": [],
   "source": [
    "# SPY GAME: Write a function that takes in a list of integers and returns True if it contains 007 in order\n",
    "\n",
    "\n",
    "def spy_game(nums):  #  spy_game([1,2,4,0,0,7,5]) --> True     spy_game([1,7,2,0,4,5,0]) --> False\n",
    "\n",
    "    code = [0, 0, 7, 'x']   # 1. Initialize target pattern with sentinel ( --> 2 )\n",
    "    \n",
    "    for num in nums:        # 2. Iterate through nums ( --> 3 )\n",
    "        if num == code[0]:  # 3. If number matches first in pattern (true --> 4 / false --> 2)\n",
    "            code.pop(0)     # 4. Remove matched value from pattern ( --> 2 )\n",
    "\n",
    "    return len(code) == 1   # 5. Check if only 'x' remains ( --> 6 )\n",
    "                            # 6. Return True/False (end)      \n",
    "\n",
    "\n",
    "# 1 → 2 → 3\n",
    "# 3 (true) → 4 → 2     (match found, pop code[0], continue with next num)\n",
    "# 3 (false) → 2        (no match, just move to next num)\n",
    "# 2 (end of list) → 5 → 6   (loop ends, check code length, return result)"
   ]
  },
  {
   "cell_type": "code",
   "execution_count": 123,
   "id": "25cf6c9b-bf83-43d9-8b18-df13e21272d0",
   "metadata": {},
   "outputs": [
    {
     "data": {
      "text/plain": [
       "True"
      ]
     },
     "execution_count": 123,
     "metadata": {},
     "output_type": "execute_result"
    }
   ],
   "source": [
    "spy_game([1,2,4,0,0,7,5]) "
   ]
  },
  {
   "cell_type": "code",
   "execution_count": 125,
   "id": "8e942c06-3fa0-4a15-9d5e-73105b62bc70",
   "metadata": {},
   "outputs": [
    {
     "data": {
      "text/plain": [
       "False"
      ]
     },
     "execution_count": 125,
     "metadata": {},
     "output_type": "execute_result"
    }
   ],
   "source": [
    "spy_game([1,7,2,0,4,5,0]) "
   ]
  },
  {
   "cell_type": "code",
   "execution_count": 127,
   "id": "f701b9e3-ecfa-4078-936c-616d5f9c2d0d",
   "metadata": {},
   "outputs": [
    {
     "data": {
      "text/plain": [
       "True"
      ]
     },
     "execution_count": 127,
     "metadata": {},
     "output_type": "execute_result"
    }
   ],
   "source": [
    "spy_game([1,0,2,4,0,5,7])"
   ]
  },
  {
   "cell_type": "raw",
   "id": "0c9d8e11-9842-4f53-b85a-3038e1daef98",
   "metadata": {},
   "source": [
    "\n",
    "\n",
    "\n",
    "\n",
    "\n",
    "\n",
    "\n",
    "\n",
    "\n",
    "\n",
    "\n"
   ]
  },
  {
   "cell_type": "code",
   "execution_count": 34,
   "id": "2c7f3389-c23b-4eee-8a7c-0f054091d701",
   "metadata": {},
   "outputs": [],
   "source": [
    "# COUNT PRIMES: Write a function that returns the number of prime numbers that exist up to and including a given number\n",
    "\n",
    "def count_primes(num):\n",
    "\n",
    "    # 1. Check for 0 or 1 input ( --> 2 )\n",
    "    if num < 2:                       # 1. If num < 2 → no primes exist ( --> 2.a )\n",
    "        return 0                      # 2.a Return 0 ( end )\n",
    "\n",
    "    # 3. Initialize list with first prime (2) ( --> 4 )\n",
    "    primes = [2]                      # 3. primes = [2]\n",
    "\n",
    "    # 4. Start counter at 3 to test next odd numbers ( --> 5 )\n",
    "    x = 3                             # 4. Start with x = 3\n",
    "\n",
    "    # 5. Loop from 3 to num (odd numbers only) ( --> 6 )\n",
    "    while x <= num:                   # 5. While x <= num\n",
    "\n",
    "        # 6. Check divisibility by all odd numbers < x ( --> 7 )\n",
    "        for y in range(3, x, 2):      # 6. Try dividing x by odd numbers from 3 to x-1\n",
    "\n",
    "            if x % y == 0:            # 7. If divisible, not prime ( --> 7.a )\n",
    "                x += 2                # 7.a Skip to next odd x\n",
    "                break                 # 7.b Break the for-loop and go back to (5)\n",
    "\n",
    "        else:                         # 8. No divisors found → it's prime ( --> 9 )\n",
    "            primes.append(x)         # 9. Add x to primes\n",
    "            x += 2                   # 10. Move to next odd number ( --> 5 )\n",
    "\n",
    "    # 11. After loop, print results ( --> 12 )\n",
    "    print(f\"Prime Numbers are: {primes}\")    # 11. Print list of primes\n",
    "    print(\"\")                                 # 12. (visual spacing)\n",
    "    print(\"Number of total prime numbers is:\") # 13. Print label for total\n",
    "\n",
    "    return len(primes)              # 14. Return total count of primes ( end )\n",
    "\n",
    "\n",
    "# FLOW MAP:\n",
    "# 1 → 2 → 3 → 4 → 5\n",
    "# \n",
    "# 5 (loop starts) → 6 → 7\n",
    "# \n",
    "# 7 (true: divisible) → 7.a → 7.b → 5   (skip x, break loop, go back to while)\n",
    "# \n",
    "# 7 (false: not divisible by any y) → 8 → 9 → 10 → 5   (append prime, continue with next x)\n",
    "#\n",
    "# 5 (loop ends) → 11 → 12 → 13 → 14 (print results and return total)\n",
    "\n",
    "\n"
   ]
  },
  {
   "cell_type": "code",
   "execution_count": 38,
   "id": "04e14384-6f10-412c-9093-285508456260",
   "metadata": {},
   "outputs": [],
   "source": [
    "# ~~~~~~~~~~~~~~~~~~~~~~~~~~~~~~~~~~~~~~~~~~~~~~~~~~~~~~~~~\n",
    "# Cleaner Version:\n",
    "def count_primes(num):\n",
    "    primes = [2]\n",
    "    x = 3\n",
    "    if num < 2:  # for the case of num = 0 or 1\n",
    "        return 0\n",
    "    while x <= num:\n",
    "        for y in range(3,x,2):  # test all odd factors up to x-1\n",
    "            if x%y == 0:\n",
    "                x += 2\n",
    "                break\n",
    "        else:\n",
    "            primes.append(x)\n",
    "            x += 2\n",
    "    print(primes)\n",
    "    return len(primes)"
   ]
  },
  {
   "cell_type": "code",
   "execution_count": 40,
   "id": "0b00651b-fa6d-4445-a37d-f02d5ed9b7b0",
   "metadata": {},
   "outputs": [
    {
     "name": "stdout",
     "output_type": "stream",
     "text": [
      "[2, 3, 5, 7, 11, 13, 17, 19, 23, 29, 31, 37, 41, 43, 47, 53, 59, 61, 67, 71, 73, 79, 83, 89, 97]\n"
     ]
    },
    {
     "data": {
      "text/plain": [
       "25"
      ]
     },
     "execution_count": 40,
     "metadata": {},
     "output_type": "execute_result"
    }
   ],
   "source": [
    "count_primes(100)"
   ]
  },
  {
   "cell_type": "code",
   "execution_count": 401,
   "id": "049a5ec7-8096-4948-bc94-66b81e8e6b2a",
   "metadata": {},
   "outputs": [],
   "source": [
    "# COUNT PRIMES: Write a function that returns the number of prime numbers that exist up to and including a given number\n",
    "\n",
    "def count_primes(num):\n",
    "\n",
    "    # 1. Check for 0 or 1 input ( --> 2 )\n",
    "    if num < 2:                       # 1. If num < 2 → no primes exist ( --> 2.a )\n",
    "        return 0                      # 2.a Return 0 ( end )\n",
    "\n",
    "    # 3. Initialize list with first prime (2) ( --> 4 )\n",
    "    primes = [2]                      # 3. primes = [2]\n",
    "\n",
    "    # 4. Start counter at 3 to test next odd numbers ( --> 5 )\n",
    "    x = 3                             # 4. Start with x = 3\n",
    "\n",
    "    # 5. Loop from 3 to num (odd numbers only) ( --> 6 )\n",
    "    while x <= num:                   # 5. While x <= num\n",
    "\n",
    "        # 6. Check divisibility by all odd numbers < x ( --> 7 )\n",
    "        for y in primes:      # 6. Try dividing x by odd numbers from 3 to x-1\n",
    "\n",
    "            if x % y == 0:            # 7. If divisible, not prime ( --> 7.a )\n",
    "                x += 2                # 7.a Skip to next odd x\n",
    "                break                 # 7.b Break the for-loop and go back to (5)\n",
    "\n",
    "        else:                         # 8. No divisors found → it's prime ( --> 9 )\n",
    "            primes.append(x)         # 9. Add x to primes\n",
    "            x += 2                   # 10. Move to next odd number ( --> 5 )\n",
    "\n",
    "    # 11. After loop, print results ( --> 12 )\n",
    "    print(f\"Prime Numbers are: {primes}\")    # 11. Print list of primes\n",
    "    print(\"\")                                 # 12. (visual spacing)\n",
    "    print(\"Number of total prime numbers is:\") # 13. Print label for total\n",
    "\n",
    "    return len(primes)              # 14. Return total count of primes ( end )\n",
    "\n",
    "\n",
    "# FLOW MAP:\n",
    "# 1 → 2 → 3 → 4 → 5\n",
    "# \n",
    "# 5 (loop starts) → 6 → 7\n",
    "# \n",
    "# 7 (true: divisible) → 7.a → 7.b → 5   (skip x, break loop, go back to while)\n",
    "# \n",
    "# 7 (false: not divisible by any y) → 8 → 9 → 10 → 5   (append prime, continue with next x)\n",
    "#\n",
    "# 5 (loop ends) → 11 → 12 → 13 → 14 (print results and return total)\n",
    "\n",
    "\n",
    "\n",
    "# ~~~~~~~~~~~~~~~~~~~~~~~~~~~~~~~~~~~~~~~~~~~~~~~~~~~~~~~~~\n",
    "# Cleaner Version:\n",
    "def count_primes(num):\n",
    "    primes = [2]\n",
    "    x = 3\n",
    "    if num < 2:  # for the case of num = 0 or 1\n",
    "        return 0\n",
    "    while x <= num:\n",
    "        for y in range(3,x,2):  # test all odd factors up to x-1\n",
    "            if x%y == 0:\n",
    "                x += 2\n",
    "                break\n",
    "        else:\n",
    "            primes.append(x)\n",
    "            x += 2\n",
    "    print(primes)\n",
    "    return len(primes)\n",
    "\n",
    "\n",
    "# BONUS: Here's a faster version that makes use of the prime numbers we're collecting as we go!\n",
    "def count_primes2(num):\n",
    "    primes = [2]\n",
    "    x = 3\n",
    "    if num < 2:\n",
    "        return 0\n",
    "    while x <= num:\n",
    "        for y in primes:  # use the primes list!\n",
    "            if x%y == 0:\n",
    "                x += 2\n",
    "                break\n",
    "        else:\n",
    "            primes.append(x)\n",
    "            x += 2\n",
    "    print(primes)\n",
    "    return len(primes)\n"
   ]
  },
  {
   "cell_type": "code",
   "execution_count": 44,
   "id": "f43ec411-0032-4c77-827f-353b1023b07b",
   "metadata": {},
   "outputs": [
    {
     "name": "stdout",
     "output_type": "stream",
     "text": [
      "[2, 3, 5, 7, 11, 13, 17, 19, 23, 29, 31, 37, 41, 43, 47, 53, 59, 61, 67, 71, 73, 79, 83, 89, 97]\n"
     ]
    },
    {
     "data": {
      "text/plain": [
       "25"
      ]
     },
     "execution_count": 44,
     "metadata": {},
     "output_type": "execute_result"
    }
   ],
   "source": [
    "count_primes(100)"
   ]
  },
  {
   "cell_type": "raw",
   "id": "b036e78b-ea8d-49ce-85d9-e23e5f145a4d",
   "metadata": {},
   "source": [
    "\n",
    "\n",
    "\n",
    "\n",
    "\n",
    "\n",
    "\n",
    "\n",
    "\n",
    "\n",
    "\n"
   ]
  },
  {
   "cell_type": "raw",
   "id": "6bff04dd-749f-45a3-8f2f-7e47018cb536",
   "metadata": {},
   "source": [
    "PRINT BIG: Write a function that takes in a single letter, and returns a 5x5 representation of that letter\n",
    "print_big('a')\n",
    "\n",
    "out:   *  \n",
    "      * *\n",
    "     *****\n",
    "     *   *\n",
    "     *   *\n",
    "HINT: Consider making a dictionary of possible patterns, and mapping the alphabet to specific 5-line combinations of patterns.\n",
    "For purposes of this exercise, it's ok if your dictionary stops at \"E\"."
   ]
  },
  {
   "cell_type": "code",
   "execution_count": 46,
   "id": "eb765170-9806-4e4a-9189-cbd10315e9f5",
   "metadata": {},
   "outputs": [],
   "source": [
    "def print_big(letter):\n",
    "    patterns = {1:'  *  ',2:' * * ',3:'*   *',4:'*****',5:'**** ',6:'   * ',7:' *   ',8:'*   * ',9:'*    '}\n",
    "    alphabet = {'A':[1,2,4,3,3],'B':[5,3,5,3,5],'C':[4,9,9,9,4],'D':[5,3,3,3,5],'E':[4,9,4,9,4]}\n",
    "    for pattern in alphabet[letter.upper()]:\n",
    "        print(patterns[pattern])"
   ]
  },
  {
   "cell_type": "code",
   "execution_count": 48,
   "id": "69a6e28e-85f8-4f97-b81e-f1b7f00dce0d",
   "metadata": {},
   "outputs": [
    {
     "name": "stdout",
     "output_type": "stream",
     "text": [
      "  *  \n",
      " * * \n",
      "*****\n",
      "*   *\n",
      "*   *\n"
     ]
    }
   ],
   "source": [
    "print_big('a')\n"
   ]
  },
  {
   "cell_type": "code",
   "execution_count": null,
   "id": "317d0ee4-620e-4b5d-95cb-d1f1e983bd26",
   "metadata": {},
   "outputs": [],
   "source": [
    "\n",
    "\n",
    "\n",
    "\n",
    "\n",
    "\n",
    "\n"
   ]
  },
  {
   "cell_type": "markdown",
   "id": "60c4bf26-a333-49ee-9bf8-e29c84437c8b",
   "metadata": {
    "jp-MarkdownHeadingCollapsed": true
   },
   "source": [
    "### Homework - Methods and Functions\n"
   ]
  },
  {
   "cell_type": "markdown",
   "id": "ea202bbb-2b99-499e-b7d0-63a2a4dd8b03",
   "metadata": {
    "jp-MarkdownHeadingCollapsed": true
   },
   "source": [
    "#### 1. Write a function that computes the volume of a sphere given its radius."
   ]
  },
  {
   "cell_type": "code",
   "execution_count": 422,
   "id": "ba1b966b-1f7b-491a-8c70-af89e49f4e30",
   "metadata": {},
   "outputs": [],
   "source": [
    "def vol(rad):\n",
    "    return (4/3) * (3.14) * (rad**3)"
   ]
  },
  {
   "cell_type": "markdown",
   "id": "600b0159-ebd8-4bc5-bcb1-3e19461adadb",
   "metadata": {
    "editable": true,
    "jp-MarkdownHeadingCollapsed": true,
    "slideshow": {
     "slide_type": ""
    },
    "tags": []
   },
   "source": [
    "#### 2. Write a function that checks whether a number is in a given range (inclusive of high and low)"
   ]
  },
  {
   "cell_type": "code",
   "execution_count": 442,
   "id": "4c7ba238-f5ea-49dd-82b6-42b28edcd6f5",
   "metadata": {},
   "outputs": [],
   "source": [
    "def ran_check(num,low,high):\n",
    "    #Check if num is between low and high (including low and high)\n",
    "    if num in range(low,high+1):\n",
    "        print('{} is in the range between {} and {}'.format(num,low,high))\n",
    "    else:\n",
    "        print('The number is outside the range.')"
   ]
  },
  {
   "cell_type": "code",
   "execution_count": 453,
   "id": "f408ccd3-b76a-4a4f-9729-a8bf2e411005",
   "metadata": {},
   "outputs": [
    {
     "name": "stdout",
     "output_type": "stream",
     "text": [
      "5 is in the range between 2 and 7\n"
     ]
    }
   ],
   "source": [
    "ran_check(5,2,7)"
   ]
  },
  {
   "cell_type": "code",
   "execution_count": 455,
   "id": "e3928d80-f039-4a54-8032-0e08f4a67ff4",
   "metadata": {},
   "outputs": [
    {
     "data": {
      "text/plain": [
       "True"
      ]
     },
     "execution_count": 455,
     "metadata": {},
     "output_type": "execute_result"
    }
   ],
   "source": [
    "# If you only wanted to return a boolean:\n",
    "def ran_bool(num,low,high):\n",
    "    return num in range(low,high+1)\n",
    "\n",
    "ran_bool(3,1,10)"
   ]
  },
  {
   "cell_type": "markdown",
   "id": "8580e36b-ad03-4dff-9768-dab168f219a2",
   "metadata": {
    "jp-MarkdownHeadingCollapsed": true,
    "slideshow": {
     "slide_type": ""
    },
    "tags": []
   },
   "source": [
    "#### 3. Write a Python function that accepts a string and calculates the number of upper case letters and lower case letters."
   ]
  },
  {
   "cell_type": "code",
   "execution_count": 493,
   "id": "397ecd18-7944-400a-b54a-82ae3d746ddd",
   "metadata": {},
   "outputs": [],
   "source": [
    "def string_calc(mystring):\n",
    "\n",
    "    count_upper = 0\n",
    "    count_lower = 0 \n",
    "    \n",
    "    for l in mystring:\n",
    "        if l.isupper():\n",
    "            count_upper += 1\n",
    "        elif l.islower():\n",
    "            count_lower += 1\n",
    "\n",
    "    print(f\"Upper Case: {count_upper}\")\n",
    "    print(f\"Lower Case: {count_lower}\")\n",
    "    return count_upper, count_lower"
   ]
  },
  {
   "cell_type": "code",
   "execution_count": 495,
   "id": "837cd984-26c1-4225-8900-4fd18bf35a8f",
   "metadata": {},
   "outputs": [],
   "source": [
    "phrase = 'Hello Mr. Rogers, how are you this fine Tuesday?'"
   ]
  },
  {
   "cell_type": "code",
   "execution_count": 497,
   "id": "fb2b8004-9e16-44a4-b995-f28cc8940f19",
   "metadata": {},
   "outputs": [
    {
     "name": "stdout",
     "output_type": "stream",
     "text": [
      "Upper Case: 4\n",
      "Lower Case: 33\n"
     ]
    },
    {
     "data": {
      "text/plain": [
       "(4, 33)"
      ]
     },
     "execution_count": 497,
     "metadata": {},
     "output_type": "execute_result"
    }
   ],
   "source": [
    "string_calc(phrase)"
   ]
  },
  {
   "cell_type": "code",
   "execution_count": null,
   "id": "f4459132-cc4f-4e42-bc0c-f8b1f22d4eff",
   "metadata": {},
   "outputs": [],
   "source": [
    "# We also instead just create a single object to reference instead of creating multiple var, to have a more clean and organized code\n",
    "def up_low(s):\n",
    "    d={\"upper\":0, \"lower\":0}\n",
    "    for c in s:\n",
    "        if c.isupper():\n",
    "            d[\"upper\"]+=1\n",
    "        elif c.islower():\n",
    "            d[\"lower\"]+=1\n",
    "        else:\n",
    "            pass\n",
    "    print(\"Original String : \", s)\n",
    "    print(\"No. of Upper case characters : \", d[\"upper\"])\n",
    "    print(\"No. of Lower case Characters : \", d[\"lower\"])"
   ]
  },
  {
   "cell_type": "markdown",
   "id": "ff6616df-dcba-471e-b5e2-c975f14b42e2",
   "metadata": {
    "jp-MarkdownHeadingCollapsed": true,
    "slideshow": {
     "slide_type": ""
    },
    "tags": []
   },
   "source": [
    "#### 4. Write a Python function that takes a list and returns a new list with unique elements of the first list."
   ]
  },
  {
   "cell_type": "code",
   "execution_count": 514,
   "id": "21025950-4dd9-44e2-90eb-f148ce1b389e",
   "metadata": {},
   "outputs": [],
   "source": [
    "def unique_list(any_list):\n",
    "    return list(set(any_list))"
   ]
  },
  {
   "cell_type": "code",
   "execution_count": 516,
   "id": "72cc40c8-8d62-4036-8cc8-592e2a6e0d70",
   "metadata": {},
   "outputs": [],
   "source": [
    "repeated_list = [1,1,1,1,2,2,3,3,3,3,4,5]"
   ]
  },
  {
   "cell_type": "code",
   "execution_count": 518,
   "id": "4f0c6247-ed4f-4ed2-b451-d87a3e268717",
   "metadata": {},
   "outputs": [
    {
     "data": {
      "text/plain": [
       "[1, 2, 3, 4, 5]"
      ]
     },
     "execution_count": 518,
     "metadata": {},
     "output_type": "execute_result"
    }
   ],
   "source": [
    "unique_list(repeated_list)"
   ]
  },
  {
   "cell_type": "code",
   "execution_count": 520,
   "id": "9153df35-caf2-46b9-a3ae-ab1f9621815d",
   "metadata": {},
   "outputs": [],
   "source": [
    "def unique_list(lst):\n",
    "    # Also possible to use list(set())\n",
    "    x = []\n",
    "    for a in lst:\n",
    "        if a not in x:\n",
    "            x.append(a)\n",
    "    return x"
   ]
  },
  {
   "cell_type": "markdown",
   "id": "d7b1708b-cd74-493f-95ae-fe322c8f2464",
   "metadata": {
    "jp-MarkdownHeadingCollapsed": true,
    "slideshow": {
     "slide_type": ""
    },
    "tags": []
   },
   "source": [
    "#### 5. Write a Python function to multiply all the numbers in a list."
   ]
  },
  {
   "cell_type": "code",
   "execution_count": 523,
   "id": "355a9e07-f200-4c88-8d91-2ea25aef042f",
   "metadata": {},
   "outputs": [],
   "source": [
    "def multiply(numbers):\n",
    "    total = 1\n",
    "    for x in numbers:\n",
    "        total *= x\n",
    "    return total"
   ]
  },
  {
   "cell_type": "markdown",
   "id": "195e6a0d-de08-4856-983c-7ac3bf569321",
   "metadata": {
    "slideshow": {
     "slide_type": ""
    },
    "tags": []
   },
   "source": [
    "#### 6. Write a Python function that checks whether a word or phrase is palindrome or not."
   ]
  },
  {
   "cell_type": "markdown",
   "id": "1998f83e-e374-4396-bd4b-f351f715aa98",
   "metadata": {},
   "source": [
    "Note: A palindrome is word, phrase, or sequence that reads the same backward as forward, e.g., madam,kayak,racecar, or a phrase \"nurses run\". \n",
    "\n",
    "Hint: \n",
    "1. You may want to check out the .replace() method in a string to help out with dealing with spaces.\n",
    "2. Also google search how to reverse a string in Python, there are some clever ways to do it with slicing notation."
   ]
  },
  {
   "cell_type": "code",
   "execution_count": 533,
   "id": "6e24ef68-3c4a-4220-a506-cf3cce9582fc",
   "metadata": {},
   "outputs": [],
   "source": [
    "def palindrome(s):\n",
    "    \n",
    "    s = s.replace(' ','') # This replaces all spaces ' ' with no space ''. (Fixes issues with strings that have spaces)\n",
    "    return s == s[::-1]   # Check through slicing"
   ]
  },
  {
   "cell_type": "code",
   "execution_count": 541,
   "id": "287f8e0d-b8b0-4b46-83bf-1e795fe51411",
   "metadata": {},
   "outputs": [
    {
     "data": {
      "text/plain": [
       "True"
      ]
     },
     "execution_count": 541,
     "metadata": {},
     "output_type": "execute_result"
    }
   ],
   "source": [
    "palindrome('nurses run')"
   ]
  },
  {
   "cell_type": "code",
   "execution_count": 539,
   "id": "a8656d77-50f8-4d7b-b6ef-dbb42071550f",
   "metadata": {},
   "outputs": [
    {
     "data": {
      "text/plain": [
       "True"
      ]
     },
     "execution_count": 539,
     "metadata": {},
     "output_type": "execute_result"
    }
   ],
   "source": [
    "palindrome('abcba')"
   ]
  },
  {
   "cell_type": "markdown",
   "id": "994d4079-079e-4fd7-a99a-641a930bb1a8",
   "metadata": {
    "slideshow": {
     "slide_type": ""
    },
    "tags": []
   },
   "source": [
    "#### 7. Write a Python function to check whether a string is pangram or not. \n",
    "**(Assume the string passed in does not have any punctuation)**"
   ]
  },
  {
   "cell_type": "markdown",
   "id": "7b438c39-210f-41e3-aa9b-138d0a30377e",
   "metadata": {},
   "source": [
    "**This is a Hard Problem:**\n",
    "\n",
    "Note : Pangrams are words or sentences containing every letter of the alphabet at least once.\n",
    "\n",
    "For example : \"The quick brown fox jumps over the lazy dog\"\n",
    "1. Hint: You may want to use .replace() method to get rid of spaces.\n",
    "2. Hint: Look at the string module\n",
    "3. Hint: In case you want to use set comparisons"
   ]
  },
  {
   "cell_type": "code",
   "execution_count": 552,
   "id": "edc33b6d-51d2-4261-b933-506190b404e4",
   "metadata": {},
   "outputs": [],
   "source": [
    "import string\n",
    "\n",
    "def ispangram(str1, alphabet=string.ascii_lowercase): \n",
    "    # Create a set of the alphabet\n",
    "    alphaset = set(alphabet)  \n",
    "    \n",
    "    # Remove spaces from str1\n",
    "    str1 = str1.replace(\" \",'')\n",
    "    \n",
    "    # Lowercase all strings in the passed in string\n",
    "    # Recall we assume no punctuation \n",
    "    str1 = str1.lower()\n",
    "    \n",
    "    # Grab all unique letters in the string as a set\n",
    "    str1 = set(str1)\n",
    "    \n",
    "    # Now check that the alpahbet set is same as string set\n",
    "    return str1 == alphaset"
   ]
  },
  {
   "cell_type": "code",
   "execution_count": 554,
   "id": "4b9f6007-53ab-4967-8152-b38d5ef65346",
   "metadata": {},
   "outputs": [
    {
     "data": {
      "text/plain": [
       "True"
      ]
     },
     "execution_count": 554,
     "metadata": {},
     "output_type": "execute_result"
    }
   ],
   "source": [
    "ispangram(\"The quick brown fox jumps over the lazy dog\")"
   ]
  },
  {
   "cell_type": "code",
   "execution_count": 556,
   "id": "bcda1d04-0850-4a2c-a1f4-93274f87ef2f",
   "metadata": {},
   "outputs": [
    {
     "data": {
      "text/plain": [
       "'abcdefghijklmnopqrstuvwxyz'"
      ]
     },
     "execution_count": 556,
     "metadata": {},
     "output_type": "execute_result"
    }
   ],
   "source": [
    "string.ascii_lowercase"
   ]
  },
  {
   "cell_type": "markdown",
   "id": "d21538d5-91d0-4d1a-8a88-3a947984cbc8",
   "metadata": {
    "jp-MarkdownHeadingCollapsed": true
   },
   "source": [
    "## <h2 style=\"color: #4472C4;\"> Section 7: <b>Milestone</b> Project 1 </h2>"
   ]
  },
  {
   "cell_type": "markdown",
   "id": "b35bc56f-f551-4a41-9ac6-b0618dddd317",
   "metadata": {
    "jp-MarkdownHeadingCollapsed": true
   },
   "source": [
    "### Concepts Overview"
   ]
  },
  {
   "cell_type": "markdown",
   "id": "88b53f1a-8131-4430-abbe-d21e4114da56",
   "metadata": {
    "jp-MarkdownHeadingCollapsed": true
   },
   "source": [
    "#### 1. Displaying Information"
   ]
  },
  {
   "cell_type": "code",
   "execution_count": 10,
   "id": "b7ee53a3-0ca4-4b2b-871e-4aa06ac89365",
   "metadata": {},
   "outputs": [],
   "source": [
    "def display(a, b, c):\n",
    "    print(a)\n",
    "    print(b)\n",
    "    print(c)"
   ]
  },
  {
   "cell_type": "code",
   "execution_count": 11,
   "id": "20570b13-b849-4f87-a7d6-9469a0c99980",
   "metadata": {},
   "outputs": [],
   "source": [
    "row1 = [' ', ' ', ' ']\n",
    "row2 = [' ', ' ', ' ']\n",
    "row3 = [' ', ' ', ' ']"
   ]
  },
  {
   "cell_type": "code",
   "execution_count": 12,
   "id": "5f4066b4-929f-4e1a-96dd-ab8ad62e9899",
   "metadata": {},
   "outputs": [
    {
     "name": "stdout",
     "output_type": "stream",
     "text": [
      "[' ', ' ', ' ']\n",
      "[' ', ' ', ' ']\n",
      "[' ', ' ', ' ']\n"
     ]
    }
   ],
   "source": [
    "display(row1, row2, row3)"
   ]
  },
  {
   "cell_type": "code",
   "execution_count": 13,
   "id": "8ee0dc79-688f-4869-a4b3-12909494caf9",
   "metadata": {},
   "outputs": [],
   "source": [
    "row2[1] = 'X'"
   ]
  },
  {
   "cell_type": "code",
   "execution_count": 14,
   "id": "efa9eeed-27b4-41b8-bd76-c4a687a9160c",
   "metadata": {},
   "outputs": [
    {
     "name": "stdout",
     "output_type": "stream",
     "text": [
      "[' ', ' ', ' ']\n",
      "[' ', 'X', ' ']\n",
      "[' ', ' ', ' ']\n"
     ]
    }
   ],
   "source": [
    "display(row1, row2, row3)"
   ]
  },
  {
   "cell_type": "markdown",
   "id": "35b072b9-fcc0-4204-afdc-0f776518f45e",
   "metadata": {},
   "source": [
    "#### 2. Accepting User Input"
   ]
  },
  {
   "cell_type": "code",
   "execution_count": null,
   "id": "8864df05-320e-4805-9709-e3f19b3f0fd0",
   "metadata": {},
   "outputs": [],
   "source": [
    "input(\"Please enter a value: \")"
   ]
  },
  {
   "cell_type": "code",
   "execution_count": null,
   "id": "355c4b57-5996-4c6b-97e9-552e97e70a9a",
   "metadata": {},
   "outputs": [],
   "source": [
    "index_position = int(input(\"Please enter a value: \"))"
   ]
  },
  {
   "cell_type": "code",
   "execution_count": null,
   "id": "01ea1792-310d-45e5-812c-5cd9908ee995",
   "metadata": {},
   "outputs": [],
   "source": [
    "index_position"
   ]
  },
  {
   "cell_type": "code",
   "execution_count": null,
   "id": "5527ae67-dbc8-4bf7-8ce2-915d6fa4c78a",
   "metadata": {},
   "outputs": [],
   "source": [
    "row1[index_position - 1]"
   ]
  },
  {
   "cell_type": "markdown",
   "id": "36c263e0-8bc6-4395-95db-c101f4b73d54",
   "metadata": {
    "jp-MarkdownHeadingCollapsed": true
   },
   "source": [
    "#### 3. Validating User Input"
   ]
  },
  {
   "cell_type": "code",
   "execution_count": null,
   "id": "94e33ef5-e7f0-4057-bb00-5278ce7a1bed",
   "metadata": {},
   "outputs": [],
   "source": [
    "def user_choice():\n",
    "\n",
    "    choice = 'WRONG'\n",
    "\n",
    "    while choice.isdigit() == False:\n",
    "        print(\" \")\n",
    "        choice = input(\"Please enter a number (0-10): \")\n",
    "\n",
    "        if choice.isdigit() == False:\n",
    "            print(\" \")\n",
    "            print(\"That is not a digit! - Please enter a DIGIT!\")\n",
    "            continue\n",
    "\n",
    "        if int(choice) not in range(0, 11):\n",
    "            print(\" \")\n",
    "            print(\"Number cannot be bigger than 10 or less than 0\")\n",
    "            print(\" \")\n",
    "            choice = input(\"Please enter a number (0-10): \")\n",
    "        else:\n",
    "            continue\n",
    "        \n",
    "    return int(choice)"
   ]
  },
  {
   "cell_type": "code",
   "execution_count": null,
   "id": "c51fb937-b8dd-4dc0-a140-41022488c692",
   "metadata": {},
   "outputs": [
    {
     "name": "stdout",
     "output_type": "stream",
     "text": [
      " \n"
     ]
    },
    {
     "name": "stdout",
     "output_type": "stream",
     "text": [
      "Please enter a number (0-10):  3\n"
     ]
    },
    {
     "data": {
      "text/plain": [
       "3"
      ]
     },
     "execution_count": 5,
     "metadata": {},
     "output_type": "execute_result"
    }
   ],
   "source": [
    "user_choice()"
   ]
  },
  {
   "cell_type": "code",
   "execution_count": null,
   "id": "9b6c0a99-5b46-46f5-b4a3-cd0a85826672",
   "metadata": {},
   "outputs": [],
   "source": [
    "some_value = '100'"
   ]
  },
  {
   "cell_type": "code",
   "execution_count": null,
   "id": "46fb1832-2d3c-40e8-90a1-88358e1dd1a5",
   "metadata": {},
   "outputs": [],
   "source": [
    "some_value.isdigit()"
   ]
  },
  {
   "cell_type": "code",
   "execution_count": null,
   "id": "1d71b357-0496-4c94-9920-0c68ec1a4a73",
   "metadata": {},
   "outputs": [],
   "source": [
    "int(some_value)"
   ]
  },
  {
   "cell_type": "code",
   "execution_count": null,
   "id": "ebb83052-7128-42cb-8f49-9f0b2d0cf021",
   "metadata": {},
   "outputs": [],
   "source": [
    "# Cleaner More Complex Solution\n",
    "\n",
    "def user_choice():\n",
    "\n",
    "    # VAR\n",
    "\n",
    "    # Initial choice\n",
    "    choice = 'WRONG'\n",
    "    acceptable_range = range(0,11)\n",
    "    within_range = False\n",
    "\n",
    "    # Two Conditions to Check\n",
    "    # Digit or Within Range == False\n",
    "    while choice.isdigit() == False or within_range == False:\n",
    "        print(\" \")\n",
    "        choice = input(\"Please enter a number (0-10): \")\n",
    "        print(\" \")\n",
    "\n",
    "        # Digit Check\n",
    "        if choice.isdigit() == False:\n",
    "            print(\" \")\n",
    "            print(\"That is not a digit! - Please enter a DIGIT!\")\n",
    "            print(\" \")\n",
    "            continue\n",
    "\n",
    "\n",
    "        # Range Check\n",
    "        if int(choice) not in acceptable_range:\n",
    "            print(\" \")\n",
    "            print(\"Number cannot be bigger than 10 or less than 0\")\n",
    "            print(\" \")\n",
    "        else:\n",
    "            within_range = True\n",
    "\n",
    "    return int(choice)"
   ]
  },
  {
   "cell_type": "code",
   "execution_count": null,
   "id": "3bcd45eb-f4cb-441c-8914-47f6a23b52d4",
   "metadata": {},
   "outputs": [
    {
     "name": "stdout",
     "output_type": "stream",
     "text": [
      " \n",
      " \n",
      "Number cannot be bigger than 10 or less than 0\n",
      " \n",
      " \n"
     ]
    },
    {
     "name": "stdout",
     "output_type": "stream",
     "text": [
      "Please enter a number (0-10):  2\n"
     ]
    },
    {
     "name": "stdout",
     "output_type": "stream",
     "text": [
      " \n"
     ]
    },
    {
     "data": {
      "text/plain": [
       "2"
      ]
     },
     "execution_count": 15,
     "metadata": {},
     "output_type": "execute_result"
    }
   ],
   "source": [
    "user_choice()"
   ]
  },
  {
   "cell_type": "code",
   "execution_count": null,
   "id": "09953022-abd1-4ddb-a0b4-d544d539fc30",
   "metadata": {},
   "outputs": [],
   "source": [
    "def user_choice():\n",
    "    while True:\n",
    "        print()  # Add spacing before each prompt\n",
    "        choice = input(\"Please enter a number (0-10): \")\n",
    "        print()  # Add spacing after user input\n",
    "\n",
    "        if not choice.isdigit():\n",
    "            print(\"That is not a digit! Please enter a DIGIT.\")\n",
    "            continue\n",
    "\n",
    "        number = int(choice)\n",
    "        if number not in range(0, 11):\n",
    "            print(\"Number must be between 0 and 10.\")\n",
    "            continue\n",
    "\n",
    "        return number"
   ]
  },
  {
   "cell_type": "code",
   "execution_count": null,
   "id": "f14f3f16-275a-4c1f-8d27-46c7cbace593",
   "metadata": {},
   "outputs": [
    {
     "name": "stdout",
     "output_type": "stream",
     "text": [
      "\n",
      "Number must be between 0 and 10.\n",
      "\n"
     ]
    },
    {
     "name": "stdout",
     "output_type": "stream",
     "text": [
      "Please enter a number (0-10):  1\n"
     ]
    },
    {
     "name": "stdout",
     "output_type": "stream",
     "text": [
      "\n"
     ]
    },
    {
     "data": {
      "text/plain": [
       "1"
      ]
     },
     "execution_count": 21,
     "metadata": {},
     "output_type": "execute_result"
    }
   ],
   "source": [
    "user_choice()"
   ]
  },
  {
   "cell_type": "markdown",
   "id": "ab299485-7964-4a35-89fc-dac185c57f2c",
   "metadata": {},
   "source": [
    "#### 4. Simple User Interaction"
   ]
  },
  {
   "cell_type": "code",
   "execution_count": null,
   "id": "630be840-56f9-4d81-a52b-2fdf88a9eea8",
   "metadata": {},
   "outputs": [],
   "source": []
  },
  {
   "cell_type": "markdown",
   "id": "669beccd-7fd9-4bfb-8169-54f8c56a36fe",
   "metadata": {},
   "source": [
    "### Milestone Project: Tic-Tac-Toe"
   ]
  },
  {
   "cell_type": "markdown",
   "id": "944bdcb7-aa96-40eb-b0e3-3a66e46d8781",
   "metadata": {},
   "source": [
    "1. We need to print a board.\n",
    "2. Take in player input.\n",
    "3. Place their input on the board.\n",
    "4. Check if the game is won,tied, lost, or ongoing.\n",
    "5. Repeat c and d until the game has been won or tied.\n",
    "6. Ask if players want to play again."
   ]
  },
  {
   "cell_type": "markdown",
   "id": "83f570db-1680-4504-9bf5-5a7210967b3f",
   "metadata": {},
   "source": [
    "**Step 1:** Write a function that can print out a board. Set up your board as a list, where each index 1-9 corresponds with a number on a number pad, so you get a 3 by 3 board representation."
   ]
  },
  {
   "cell_type": "code",
   "execution_count": 2,
   "id": "356f3fa0-015e-4fd5-87c0-d83c599a5f24",
   "metadata": {},
   "outputs": [],
   "source": [
    "from IPython.display import clear_output\n",
    "\n",
    "\n",
    "def display_board(board):\n",
    "    \n",
    "    clear_output()\n",
    "    \n",
    "    print(board[7]+'|'+board[8]+'|'+board[9])\n",
    "    print(board[4]+'|'+board[5]+'|'+board[6])\n",
    "    print(board[1]+'|'+board[2]+'|'+board[3])"
   ]
  },
  {
   "cell_type": "markdown",
   "id": "e7ee8be2-126f-4d46-bcdf-b94de37237a4",
   "metadata": {},
   "source": [
    "**Step 2:** Write a function that can take in a player input and assign their marker as 'X' or 'O'. Think about using while loops to continually ask until you get a correct answer."
   ]
  },
  {
   "cell_type": "code",
   "execution_count": 5,
   "id": "a1f8d119-9045-4f11-9f0e-1296ca4fb996",
   "metadata": {},
   "outputs": [],
   "source": [
    "def player_input():\n",
    "    marker = ''\n",
    "    \n",
    "    while not (marker == 'X' or marker == 'O'):\n",
    "        marker = input('Player 1: Do you want to be X or O? ').upper()\n",
    "\n",
    "    if marker == 'X':\n",
    "        return ('X', 'O')\n",
    "    else:\n",
    "        return ('O', 'X')"
   ]
  },
  {
   "cell_type": "markdown",
   "id": "39f7e5c0-560c-4e49-9d55-57582732ea04",
   "metadata": {},
   "source": [
    "**Step 3:** Write a function that takes in the board list object, a marker ('X' or 'O'), and a desired position (number 1-9) and assigns it to the board."
   ]
  },
  {
   "cell_type": "code",
   "execution_count": 8,
   "id": "a04f20ee-ca42-4b15-a419-0c6f4a6ae9bd",
   "metadata": {},
   "outputs": [],
   "source": [
    "def place_marker(board, marker, position):\n",
    "    board[position] = marker"
   ]
  },
  {
   "cell_type": "markdown",
   "id": "a23d0aeb-6107-4fbd-becb-a789ba41871c",
   "metadata": {},
   "source": [
    "**Step 4:** Write a function that takes in a board and a mark (X or O) and then checks to see if that mark has won."
   ]
  },
  {
   "cell_type": "code",
   "execution_count": 11,
   "id": "02f14260-3b8d-4bb5-9214-1a3580874fef",
   "metadata": {},
   "outputs": [],
   "source": [
    "def win_check(board,mark):\n",
    "    \n",
    "    return ((board[7] == mark and board[8] == mark and board[9] == mark) or # across the top\n",
    "    (board[4] == mark and board[5] == mark and board[6] == mark) or # across the middle\n",
    "    (board[1] == mark and board[2] == mark and board[3] == mark) or # across the bottom\n",
    "    (board[7] == mark and board[4] == mark and board[1] == mark) or # down the middle\n",
    "    (board[8] == mark and board[5] == mark and board[2] == mark) or # down the middle\n",
    "    (board[9] == mark and board[6] == mark and board[3] == mark) or # down the right side\n",
    "    (board[7] == mark and board[5] == mark and board[3] == mark) or # diagonal\n",
    "    (board[9] == mark and board[5] == mark and board[1] == mark)) # diagonal"
   ]
  },
  {
   "cell_type": "markdown",
   "id": "ca1f1979-25c8-4af0-b9ed-6f3d4438ecf5",
   "metadata": {},
   "source": [
    "**Step 5:** Write a function that uses the random module to randomly decide which player goes first. You may want to lookup random.randint() Return a string of which player went first."
   ]
  },
  {
   "cell_type": "code",
   "execution_count": 14,
   "id": "91c7c2e4-2fb3-4ee3-a626-ed02cd131091",
   "metadata": {},
   "outputs": [],
   "source": [
    "import random\n",
    "\n",
    "def choose_first():\n",
    "    if random.randint(0, 1) == 0:\n",
    "        return 'Player 2'\n",
    "    else:\n",
    "        return 'Player 1'"
   ]
  },
  {
   "cell_type": "markdown",
   "id": "ad332fea-2900-4c16-beba-23bbd00a4462",
   "metadata": {},
   "source": [
    "**Step 6:** Write a function that returns a boolean indicating whether a space on the board is freely available."
   ]
  },
  {
   "cell_type": "code",
   "execution_count": 17,
   "id": "ddd41be0-7b83-4fa4-9306-f1d32a64f6cf",
   "metadata": {},
   "outputs": [],
   "source": [
    "def space_check(board, position):\n",
    "\n",
    "    return board[position] == ' '"
   ]
  },
  {
   "cell_type": "markdown",
   "id": "6cc777b7-1e1f-4299-b634-6b3ca5996bd0",
   "metadata": {},
   "source": [
    "**Step 7:** Write a function that checks if the board is full and returns a boolean value. True if full, False otherwise."
   ]
  },
  {
   "cell_type": "code",
   "execution_count": 20,
   "id": "d25c8db1-2965-4d4a-8cc5-6def8a6965f7",
   "metadata": {},
   "outputs": [],
   "source": [
    "def full_board_check(board):\n",
    "    for i in range(1,10):\n",
    "        if space_check(board, i):\n",
    "            return False\n",
    "    return True"
   ]
  },
  {
   "cell_type": "markdown",
   "id": "af0606a2-c5ce-41f8-b72e-cfccb867e349",
   "metadata": {},
   "source": [
    "**Step 8:** Write a function that asks for a player's next position (as a number 1-9) and then uses the function from step 6 to check if it's a free position. If it is, then return the position for later use."
   ]
  },
  {
   "cell_type": "code",
   "execution_count": 23,
   "id": "77695199-4829-4c7f-a461-2ac3074d5eb6",
   "metadata": {},
   "outputs": [],
   "source": [
    "def player_choice(board):\n",
    "    position = 0\n",
    "    \n",
    "    while position not in [1,2,3,4,5,6,7,8,9] or not space_check(board, position):\n",
    "        position = int(input('Choose your next position: (1-9) '))\n",
    "        \n",
    "    return position"
   ]
  },
  {
   "cell_type": "markdown",
   "id": "076a861c-5599-4a1c-a891-ce7706f37466",
   "metadata": {},
   "source": [
    "**Step 9:** Write a function that asks the player if they want to play again and returns a boolean True if they do want to play again."
   ]
  },
  {
   "cell_type": "code",
   "execution_count": 26,
   "id": "117dd0f4-4e4e-4c4a-8a8b-26eae5cdd636",
   "metadata": {},
   "outputs": [],
   "source": [
    "def replay():\n",
    "\n",
    "    return input('Do you want to play again? Enter Yes or No: ').lower().startswith('y')"
   ]
  },
  {
   "cell_type": "markdown",
   "id": "b991f702-a904-461c-a946-cd92839b4901",
   "metadata": {},
   "source": [
    "**Step 10:** Here comes the hard part! Use while loops and the functions you've made to run the game!"
   ]
  },
  {
   "cell_type": "code",
   "execution_count": 31,
   "id": "cbab68c5-2c97-4d5f-98b2-9c1465c6ef7c",
   "metadata": {
    "jupyter": {
     "source_hidden": true
    }
   },
   "outputs": [
    {
     "name": "stdout",
     "output_type": "stream",
     "text": [
      "Welcome to Tic Tac Toe!\n"
     ]
    },
    {
     "name": "stdout",
     "output_type": "stream",
     "text": [
      "Player 1: Do you want to be X or O?  x\n"
     ]
    },
    {
     "name": "stdout",
     "output_type": "stream",
     "text": [
      "Player 1 will go first.\n"
     ]
    },
    {
     "name": "stdout",
     "output_type": "stream",
     "text": [
      "Are you ready to play? Enter Yes or No. n\n",
      "Do you want to play again? Enter Yes or No:  n\n"
     ]
    }
   ],
   "source": [
    "print('Welcome to Tic Tac Toe!')\n",
    "\n",
    "\n",
    "while True:\n",
    "    # Reset the board\n",
    "    theBoard = [' '] * 10\n",
    "    player1_marker, player2_marker = player_input()\n",
    "    turn = choose_first()\n",
    "    print(turn + ' will go first.')\n",
    "    \n",
    "    play_game = input('Are you ready to play? Enter Yes or No.')\n",
    "    \n",
    "    if play_game.lower()[0] == 'y':\n",
    "        game_on = True\n",
    "    else:\n",
    "        game_on = False\n",
    "\n",
    "    while game_on:\n",
    "        if turn == 'Player 1':\n",
    "            # Player1's turn.\n",
    "            \n",
    "            display_board(theBoard)\n",
    "            position = player_choice(theBoard)\n",
    "            place_marker(theBoard, player1_marker, position)\n",
    "\n",
    "            if win_check(theBoard, player1_marker):\n",
    "                display_board(theBoard)\n",
    "                print('Congratulations! You have won the game!')\n",
    "                game_on = False\n",
    "            else:\n",
    "                if full_board_check(theBoard):\n",
    "                    display_board(theBoard)\n",
    "                    print('The game is a draw!')\n",
    "                    break\n",
    "                else:\n",
    "                    turn = 'Player 2'\n",
    "\n",
    "        else:\n",
    "            # Player2's turn.\n",
    "            \n",
    "            display_board(theBoard)\n",
    "            position = player_choice(theBoard)\n",
    "            place_marker(theBoard, player2_marker, position)\n",
    "\n",
    "            if win_check(theBoard, player2_marker):\n",
    "                display_board(theBoard)\n",
    "                print('Player 2 has won!')\n",
    "                game_on = False\n",
    "            else:\n",
    "                if full_board_check(theBoard):\n",
    "                    display_board(theBoard)\n",
    "                    print('The game is a draw!')\n",
    "                    break\n",
    "                else:\n",
    "                    turn = 'Player 1'\n",
    "\n",
    "    if not replay():\n",
    "        break"
   ]
  },
  {
   "cell_type": "markdown",
   "id": "177e5008-114a-46c2-866c-4bb2a1540022",
   "metadata": {
    "jp-MarkdownHeadingCollapsed": true
   },
   "source": [
    "## <h2 style=\"color: #4472C4;\"> Section 8: <b>Object</b> Oriented Programming </h2> "
   ]
  },
  {
   "cell_type": "markdown",
   "id": "79352ecd-67ed-4ca3-9fee-0c0ae834c7a6",
   "metadata": {
    "jp-MarkdownHeadingCollapsed": true
   },
   "source": [
    "### 1. Attributes and Class Keyword"
   ]
  },
  {
   "cell_type": "markdown",
   "id": "9e7dc8b9-e6ae-433c-b054-42b1c7657ce2",
   "metadata": {
    "jp-MarkdownHeadingCollapsed": true
   },
   "source": [
    "#### Simple Class Example:"
   ]
  },
  {
   "cell_type": "code",
   "execution_count": 36,
   "id": "7e2dab2e-59fb-429f-8944-9f774053562d",
   "metadata": {},
   "outputs": [],
   "source": [
    "# Creating a Class\n",
    "class Sample():\n",
    "    pass"
   ]
  },
  {
   "cell_type": "code",
   "execution_count": 37,
   "id": "0aad6adf-93ba-4180-8d68-e8d8f0ad3d39",
   "metadata": {},
   "outputs": [],
   "source": [
    "# Creating an INSTANCE of the Sample class\n",
    "my_sample = Sample()"
   ]
  },
  {
   "cell_type": "code",
   "execution_count": 38,
   "id": "c5668a67-8285-46ae-a1ed-ce45809ae942",
   "metadata": {},
   "outputs": [
    {
     "data": {
      "text/plain": [
       "__main__.Sample"
      ]
     },
     "execution_count": 38,
     "metadata": {},
     "output_type": "execute_result"
    }
   ],
   "source": [
    "# We can see the instance created is part of the class\n",
    "type(my_sample)"
   ]
  },
  {
   "cell_type": "code",
   "execution_count": 39,
   "id": "f5bdd72e-adc7-41a9-a407-ff7d0e930782",
   "metadata": {},
   "outputs": [
    {
     "data": {
      "text/plain": [
       "list"
      ]
     },
     "execution_count": 39,
     "metadata": {},
     "output_type": "execute_result"
    }
   ],
   "source": [
    "# just like we can check the class of object for a built in object\n",
    "mylist = [1,2,3]\n",
    "type(mylist)"
   ]
  },
  {
   "cell_type": "markdown",
   "id": "26078db8-8915-4b91-b29e-9dd309ceeba0",
   "metadata": {
    "jp-MarkdownHeadingCollapsed": true
   },
   "source": [
    "#### Creating Attributes:"
   ]
  },
  {
   "cell_type": "code",
   "execution_count": 41,
   "id": "583ee040-f12c-49a7-9ce4-c5648f0d304b",
   "metadata": {},
   "outputs": [],
   "source": [
    "class Dog():\n",
    "    \n",
    "    # Method --------- Attributes: Characteristics of an object\n",
    "    def __init__(self, breed, name, spots):\n",
    "        # Always assign the attribute to self \n",
    "        self.breed = breed\n",
    "        # This way it is linked to this class and it doesnt get confused with some var declared elsewhere\n",
    "        self.name = name\n",
    "\n",
    "        # Expect a Boolean\n",
    "        self.spots = spots\n"
   ]
  },
  {
   "cell_type": "code",
   "execution_count": 42,
   "id": "5a03fd94-c153-4f5f-b77c-5954879e1e6a",
   "metadata": {},
   "outputs": [],
   "source": [
    "my_dog = Dog(breed = 'Lab', name = \"Sammy\", spots = False)"
   ]
  },
  {
   "cell_type": "code",
   "execution_count": 43,
   "id": "da742707-a304-420d-b1b6-46e54eed09ed",
   "metadata": {},
   "outputs": [
    {
     "data": {
      "text/plain": [
       "__main__.Dog"
      ]
     },
     "execution_count": 43,
     "metadata": {},
     "output_type": "execute_result"
    }
   ],
   "source": [
    "type(my_dog)"
   ]
  },
  {
   "cell_type": "code",
   "execution_count": 44,
   "id": "9a3f2e7e-695a-40d0-8e04-721887d1c512",
   "metadata": {},
   "outputs": [
    {
     "data": {
      "text/plain": [
       "False"
      ]
     },
     "execution_count": 44,
     "metadata": {},
     "output_type": "execute_result"
    }
   ],
   "source": [
    "my_dog.spots"
   ]
  },
  {
   "cell_type": "markdown",
   "id": "b9c512ce-bcd7-4ff0-ace4-b0d8a165093b",
   "metadata": {
    "jp-MarkdownHeadingCollapsed": true
   },
   "source": [
    "### 2. Class Object Attributes and Methods"
   ]
  },
  {
   "cell_type": "markdown",
   "id": "ad17c08d-f364-48c2-97f9-4400fd4aac67",
   "metadata": {
    "jp-MarkdownHeadingCollapsed": true
   },
   "source": [
    "#### Class Object Attributes"
   ]
  },
  {
   "cell_type": "code",
   "execution_count": 47,
   "id": "442e8151-022d-496a-8475-81880eb54232",
   "metadata": {},
   "outputs": [],
   "source": [
    "class Dog():\n",
    "\n",
    "    # CLASS OBJECT ATTRIBUTE\n",
    "    # SAME FOR ANY INSTANCE OF THE CLASS (for this reason you dont need to use the self keyword)\n",
    "    species = 'mammal'\n",
    "    \n",
    "    def __init__(self, breed, name, spots):\n",
    "\n",
    "        self.breed = breed\n",
    "        self.name = name\n",
    "        self.spots = spots\n"
   ]
  },
  {
   "cell_type": "code",
   "execution_count": 48,
   "id": "4feb450a-eff8-4dd2-bbe4-5692e774fac5",
   "metadata": {},
   "outputs": [],
   "source": [
    "my_dog = Dog(breed='Lab', name='Sam', spots=False)"
   ]
  },
  {
   "cell_type": "code",
   "execution_count": 49,
   "id": "1f2ff584-455e-4827-b615-672daeb2d48c",
   "metadata": {},
   "outputs": [
    {
     "data": {
      "text/plain": [
       "__main__.Dog"
      ]
     },
     "execution_count": 49,
     "metadata": {},
     "output_type": "execute_result"
    }
   ],
   "source": [
    "type(my_dog)"
   ]
  },
  {
   "cell_type": "code",
   "execution_count": 50,
   "id": "3695107c-9ee9-4491-b023-5bfa9c468b4c",
   "metadata": {},
   "outputs": [
    {
     "data": {
      "text/plain": [
       "'mammal'"
      ]
     },
     "execution_count": 50,
     "metadata": {},
     "output_type": "execute_result"
    }
   ],
   "source": [
    "my_dog.species"
   ]
  },
  {
   "cell_type": "markdown",
   "id": "fe3d43ea-2c6c-42b1-a823-6355cd5144ff",
   "metadata": {},
   "source": [
    "#### **Methods** = *Operations / Actions*"
   ]
  },
  {
   "cell_type": "markdown",
   "id": "26a9b0ab-9dfe-4ed0-b0a3-b8084db583fd",
   "metadata": {},
   "source": [
    "<span style=\"font-size: 18px;\"/> **1.** Methods are functions **defined inside the body of a class**. <br/>\n",
    "<span style=\"font-size: 18px;\"/> **2.** They are used to **perform operations with the attributes of our objects**. <br/>\n",
    "<span style=\"font-size: 18px;\"/> **3.** Methods are a **key concept** of the OOP paradigm. <br/>\n",
    "<span style=\"font-size: 18px;\"/> **4.** They are essential to **dividing responsibilities** in programming, *especially in large applications*. <br/>\n",
    "<span style=\"font-size: 18px;\"/> **5.** You can basically think of **methods** *as functions acting on an Object* **that** ***take the Object itself into account*** through its self argument. <br/>"
   ]
  },
  {
   "cell_type": "code",
   "execution_count": 53,
   "id": "53450186-c427-42d0-b417-cddffc034941",
   "metadata": {},
   "outputs": [],
   "source": [
    "class Dog():\n",
    "\n",
    "    # CLASS OBJECT ATTRIBUTE\n",
    "    # SAME FOR ANY INSTANCE OF THE CLASS (for this reason you dont need to use the self keyword)\n",
    "    species = 'mammal'\n",
    "    \n",
    "    def __init__(self, breed, name, spots):\n",
    "\n",
    "        self.breed = breed\n",
    "        self.name = name\n",
    "        self.spots = spots\n",
    "\n",
    "    # Operations / Actions = METHODS\n",
    "    def bark(self, number):\n",
    "        print(\"WOLF! My name is {} and the number is {}\".format(self.name, number))"
   ]
  },
  {
   "cell_type": "code",
   "execution_count": 54,
   "id": "bf542be5-ecbf-4f47-aa70-6f005555ed18",
   "metadata": {},
   "outputs": [],
   "source": [
    "my_dog = Dog(\"Lab\", \"Frankie\", False)"
   ]
  },
  {
   "cell_type": "code",
   "execution_count": 55,
   "id": "f36a0bfc-94bf-47fd-ac1c-78ec92f22a80",
   "metadata": {},
   "outputs": [
    {
     "name": "stdout",
     "output_type": "stream",
     "text": [
      "WOLF! My name is Frankie and the number is 10\n"
     ]
    }
   ],
   "source": [
    "my_dog.bark(10)"
   ]
  },
  {
   "cell_type": "markdown",
   "id": "c9cd3c9c-6ffe-4d0b-a1d7-c36a2c7012d2",
   "metadata": {
    "jp-MarkdownHeadingCollapsed": true
   },
   "source": [
    "### 3. Inheritance And Polymorphism"
   ]
  },
  {
   "cell_type": "markdown",
   "id": "46ab02a3-0460-438b-9a51-ced1d59451d9",
   "metadata": {
    "jp-MarkdownHeadingCollapsed": true
   },
   "source": [
    "#### 1. **Inheritance** - *Form new classes with classes that have already been defined*"
   ]
  },
  {
   "cell_type": "markdown",
   "id": "9de6870d-09b0-4c02-b5d0-6f6fd364e129",
   "metadata": {},
   "source": [
    "a. Reuse code that you have already worked on. \\\n",
    "b. Reduce complexity of a program.\n",
    "\n",
    "Base Class -- Derived Class -- Inherit same methods / Overwrite methods / create new methods"
   ]
  },
  {
   "cell_type": "code",
   "execution_count": 140,
   "id": "007d6669-6881-402e-915e-fa12a0a7b608",
   "metadata": {},
   "outputs": [],
   "source": [
    "# Base Class\n",
    "class Animal():\n",
    "\n",
    "    def __init__(self):\n",
    "        print(\"Animal Created\")\n",
    "\n",
    "    # Method\n",
    "    def who_am_i(self):\n",
    "        print(\"I am an animal\")\n",
    "\n",
    "    # Method\n",
    "    def eat(self):\n",
    "        print(\"I am eating\")"
   ]
  },
  {
   "cell_type": "code",
   "execution_count": 142,
   "id": "b308c1d2-3ff9-47c9-81c3-d4b118e2963c",
   "metadata": {},
   "outputs": [
    {
     "name": "stdout",
     "output_type": "stream",
     "text": [
      "Animal Created\n"
     ]
    }
   ],
   "source": [
    "myanimal = Animal()"
   ]
  },
  {
   "cell_type": "code",
   "execution_count": 146,
   "id": "052af88c-cdb3-420b-ad78-c4470229bda8",
   "metadata": {},
   "outputs": [
    {
     "name": "stdout",
     "output_type": "stream",
     "text": [
      "I am eating\n"
     ]
    }
   ],
   "source": [
    "myanimal.eat()"
   ]
  },
  {
   "cell_type": "code",
   "execution_count": 148,
   "id": "cebc6e82-afb0-473c-ab00-75991c3b7c0c",
   "metadata": {},
   "outputs": [
    {
     "name": "stdout",
     "output_type": "stream",
     "text": [
      "I am an animal\n"
     ]
    }
   ],
   "source": [
    "myanimal.who_am_i()"
   ]
  },
  {
   "cell_type": "code",
   "execution_count": 158,
   "id": "2dcb5ba1-c8cf-4c52-88d3-4cb8382df1cc",
   "metadata": {},
   "outputs": [],
   "source": [
    "# Derived Class\n",
    "class Dog(Animal):\n",
    "\n",
    "    # Since we included Animal Class declared above, \n",
    "    # it will inherit the methods from animal class \n",
    "    # as well as other methods we declare below\n",
    "    def __init__(self):\n",
    "        Animal.__init__(self)\n",
    "        print(\"Dog Created\")\n",
    "\n",
    "    # WE CAN OVERWRITE THE METHODS FROM ANIMAL CLASS IF WE WANT\n",
    "    def who_am_i(self):\n",
    "        print(\"I am a dog\")"
   ]
  },
  {
   "cell_type": "code",
   "execution_count": 160,
   "id": "73e3625d-8e0c-483e-8469-4a76ae95e79f",
   "metadata": {},
   "outputs": [
    {
     "name": "stdout",
     "output_type": "stream",
     "text": [
      "Animal Created\n",
      "Dog Created\n"
     ]
    }
   ],
   "source": [
    "mydog = Dog()"
   ]
  },
  {
   "cell_type": "code",
   "execution_count": 166,
   "id": "7aecf226-717d-4ca3-9658-5772cddcbc59",
   "metadata": {},
   "outputs": [
    {
     "name": "stdout",
     "output_type": "stream",
     "text": [
      "I am a dog\n"
     ]
    }
   ],
   "source": [
    "# This method from Animal Class we Overwritten\n",
    "mydog.who_am_i()"
   ]
  },
  {
   "cell_type": "code",
   "execution_count": 168,
   "id": "0aec7c04-a4f2-4489-9334-1da6f77b2da3",
   "metadata": {},
   "outputs": [
    {
     "name": "stdout",
     "output_type": "stream",
     "text": [
      "I am eating\n"
     ]
    }
   ],
   "source": [
    "# Notice this method from Animal Class is the same\n",
    "mydog.eat()"
   ]
  },
  {
   "cell_type": "markdown",
   "id": "459c451e-c668-43e2-bf84-4e8597f3a789",
   "metadata": {
    "jp-MarkdownHeadingCollapsed": true
   },
   "source": [
    "#### 2. **Polymorphism** - *Different object classes can share the same method name and then those methods can be called from the same place even though a variety of different objects might be passed in.*"
   ]
  },
  {
   "cell_type": "markdown",
   "id": "0788efcb-cd88-405a-9eec-d7209d85f219",
   "metadata": {},
   "source": [
    "2 Different classes share the same Method Name! \\\n",
    "However, that method is unique for that class in what it does.\n",
    "\n",
    "Example below: when dog speaks it barks, and cat meow. \\\n",
    "    Same method name \"SPEAK\" \\\n",
    "    2 different type of speaking \\\n",
    "    1 unique to dogs \\\n",
    "    1 unique to cats \n",
    "\n",
    "<span style=\"font-size: 20px;\" /> Can be used in **for-loops** or in **functions** \\\n",
    "<span style=\"font-size: 16px;\"/>&emsp;&emsp;*where you def a function with more than one arg, \\\n",
    "&emsp;&emsp;and pass in objects from different classes, \\\n",
    "&emsp;&emsp;within the function call the same method name for those objects \\\n",
    "&emsp;&emsp;same idea for a for-loop*"
   ]
  },
  {
   "cell_type": "code",
   "execution_count": 190,
   "id": "168de73b-d75b-4f94-9f28-b9011fd92cbf",
   "metadata": {},
   "outputs": [],
   "source": [
    "class Dog():\n",
    "\n",
    "    def __init__(self, name):\n",
    "        self.name = name\n",
    "\n",
    "    def speak(self):\n",
    "        return self.name + \" says woof!\""
   ]
  },
  {
   "cell_type": "code",
   "execution_count": 192,
   "id": "a677bc2b-6861-4a48-9b47-8208ee7f7d17",
   "metadata": {},
   "outputs": [],
   "source": [
    "class Cat():\n",
    "\n",
    "    def __init__(self, name):\n",
    "        self.name = name\n",
    "\n",
    "    def speak(self):\n",
    "        return self.name + \" says meow!\""
   ]
  },
  {
   "cell_type": "code",
   "execution_count": 194,
   "id": "71bed603-d7d4-4653-ae51-03e89c984303",
   "metadata": {},
   "outputs": [],
   "source": [
    "niko = Dog(\"Niko\")"
   ]
  },
  {
   "cell_type": "code",
   "execution_count": 196,
   "id": "52c0ef10-e664-4c21-b1cd-f40edafaac83",
   "metadata": {},
   "outputs": [],
   "source": [
    "felix = Cat(\"Felix\")"
   ]
  },
  {
   "cell_type": "code",
   "execution_count": 198,
   "id": "9d1f1095-4456-4947-86dc-9a6821e0ef39",
   "metadata": {},
   "outputs": [
    {
     "name": "stdout",
     "output_type": "stream",
     "text": [
      "Niko says woof!\n"
     ]
    }
   ],
   "source": [
    "print(niko.speak())"
   ]
  },
  {
   "cell_type": "code",
   "execution_count": 200,
   "id": "ec0d22cc-b53d-46d3-93db-d916e8ae8563",
   "metadata": {},
   "outputs": [
    {
     "name": "stdout",
     "output_type": "stream",
     "text": [
      "Felix says meow!\n"
     ]
    }
   ],
   "source": [
    "print(felix.speak())"
   ]
  },
  {
   "cell_type": "markdown",
   "id": "edf457f5-887c-4f3d-90f8-f96c32135008",
   "metadata": {},
   "source": [
    "##### <span style=\"font-size: 18px;\"/> **Abstract Class** "
   ]
  },
  {
   "cell_type": "markdown",
   "id": "79e48875-354c-4e81-ace0-2fcb5f824550",
   "metadata": {},
   "source": [
    "Meant to always be a BASE Class not a derived class \\\n",
    "*it never expects to create an instance of this class*"
   ]
  },
  {
   "cell_type": "code",
   "execution_count": 251,
   "id": "ac0b5aec-05af-4957-9cc0-4c039d273ebb",
   "metadata": {},
   "outputs": [],
   "source": [
    "class Animal():\n",
    "\n",
    "    def __init__(self, name):\n",
    "        self.name = name\n",
    "\n",
    "    def speak(self):\n",
    "        raise NotImplementedError(\"Subclass must implement this abstract method\")"
   ]
  },
  {
   "cell_type": "code",
   "execution_count": 253,
   "id": "452d1699-b35e-4c77-bb33-849cd68d02e9",
   "metadata": {},
   "outputs": [],
   "source": [
    "class Cat(Animal):\n",
    "\n",
    "    def speak(self):\n",
    "        return self.name + \" says meow!\""
   ]
  },
  {
   "cell_type": "code",
   "execution_count": 255,
   "id": "20d188a4-6877-4065-8219-da0b87db3ba5",
   "metadata": {},
   "outputs": [],
   "source": [
    "coku = Cat(\"Coku\")"
   ]
  },
  {
   "cell_type": "code",
   "execution_count": 257,
   "id": "ecda1b0d-6824-4e92-a2be-1ced97d99104",
   "metadata": {},
   "outputs": [
    {
     "data": {
      "text/plain": [
       "'Coku says meow!'"
      ]
     },
     "execution_count": 257,
     "metadata": {},
     "output_type": "execute_result"
    }
   ],
   "source": [
    "coku.speak()"
   ]
  },
  {
   "cell_type": "markdown",
   "id": "b9860d26-4c3f-49b2-bc3e-ab4c39a18790",
   "metadata": {
    "jp-MarkdownHeadingCollapsed": true
   },
   "source": [
    "### 4. Special Methods (*Magic / Dunder*)"
   ]
  },
  {
   "cell_type": "markdown",
   "id": "0d657c1d-a6ca-4dca-aa4d-b80a78d90f10",
   "metadata": {},
   "source": [
    "Allow us to use built-in operations (len(), print(), etc..) with our User-Created Objects."
   ]
  },
  {
   "cell_type": "code",
   "execution_count": 273,
   "id": "8000ca25-5160-4a3a-8bf5-62d93bee42b1",
   "metadata": {},
   "outputs": [],
   "source": [
    "mylist = [1,2,3]"
   ]
  },
  {
   "cell_type": "code",
   "execution_count": 275,
   "id": "550b81ba-7df2-4b2c-8a4a-78ce33c192b2",
   "metadata": {},
   "outputs": [],
   "source": [
    "class Sample():\n",
    "    pass"
   ]
  },
  {
   "cell_type": "code",
   "execution_count": 278,
   "id": "c2f52762-53ff-4200-800f-e9e474c7822b",
   "metadata": {},
   "outputs": [],
   "source": [
    "mysample = Sample()"
   ]
  },
  {
   "cell_type": "code",
   "execution_count": 280,
   "id": "04f32cfe-be1d-4e19-9a76-ee75799a34a4",
   "metadata": {},
   "outputs": [
    {
     "name": "stdout",
     "output_type": "stream",
     "text": [
      "<__main__.Sample object at 0x11f259760>\n"
     ]
    }
   ],
   "source": [
    "print(mysample)"
   ]
  },
  {
   "cell_type": "code",
   "execution_count": 343,
   "id": "0de6f271-7110-423c-ac38-d0635608f5c6",
   "metadata": {},
   "outputs": [],
   "source": [
    "class Book():\n",
    "\n",
    "    def __init__(self, title, author, pages):\n",
    "        \n",
    "        self.title = title\n",
    "        self.author = author\n",
    "        self.pages = pages\n",
    "\n",
    "    def __str__(self):\n",
    "        return f\"{self.title} by {self.author}\"\n",
    "\n",
    "    def __len__(self):\n",
    "        return self.pages\n",
    "\n",
    "    def __del__(self):\n",
    "        print(\"A book object has been deleted\")"
   ]
  },
  {
   "cell_type": "code",
   "execution_count": 353,
   "id": "67bc3f4a-6fd2-419e-ba15-bdb772f3a7a8",
   "metadata": {},
   "outputs": [
    {
     "name": "stdout",
     "output_type": "stream",
     "text": [
      "A book object has been deleted\n"
     ]
    }
   ],
   "source": [
    "b = Book('Python rocks', \"Jose\", 200)"
   ]
  },
  {
   "cell_type": "code",
   "execution_count": 355,
   "id": "36730a3f-cd23-4f40-8097-f046eb0afa13",
   "metadata": {},
   "outputs": [
    {
     "name": "stdout",
     "output_type": "stream",
     "text": [
      "Python rocks by Jose\n"
     ]
    }
   ],
   "source": [
    "print(b)"
   ]
  },
  {
   "cell_type": "code",
   "execution_count": 357,
   "id": "114406e4-edf7-4efc-ac34-728b9ce7b426",
   "metadata": {},
   "outputs": [
    {
     "data": {
      "text/plain": [
       "'Python rocks by Jose'"
      ]
     },
     "execution_count": 357,
     "metadata": {},
     "output_type": "execute_result"
    }
   ],
   "source": [
    "str(b)"
   ]
  },
  {
   "cell_type": "code",
   "execution_count": 359,
   "id": "59be531a-daf9-4b40-b2d2-86f8c7e13166",
   "metadata": {},
   "outputs": [
    {
     "data": {
      "text/plain": [
       "200"
      ]
     },
     "execution_count": 359,
     "metadata": {},
     "output_type": "execute_result"
    }
   ],
   "source": [
    "len(b)"
   ]
  },
  {
   "cell_type": "code",
   "execution_count": 341,
   "id": "8c1bd866-a6d4-45a0-81be-af014de8a5d8",
   "metadata": {},
   "outputs": [],
   "source": [
    "# del b\n",
    "# DELETING A VAR"
   ]
  },
  {
   "cell_type": "markdown",
   "id": "9e83d17b-0769-4f1d-b84a-12e0f5bdf02d",
   "metadata": {
    "jp-MarkdownHeadingCollapsed": true
   },
   "source": [
    "### *Homework Assignments*"
   ]
  },
  {
   "cell_type": "markdown",
   "id": "adb6b059-855e-4c88-b809-2e94ce70a6e9",
   "metadata": {},
   "source": [
    "##### 1. Fill in the Line class methods to accept coordinates as a pair of tuples and return the slope and distance of the line."
   ]
  },
  {
   "cell_type": "code",
   "execution_count": 367,
   "id": "c6cc5101-8ff2-4162-9e33-600ae148ed9d",
   "metadata": {},
   "outputs": [],
   "source": [
    "class Line:\n",
    "    \n",
    "    def __init__(self,coor1,coor2):\n",
    "        self.coor1 = coor1\n",
    "        self.coor2 = coor2\n",
    "    \n",
    "    def distance(self):\n",
    "        x1,y1 = self.coor1\n",
    "        x2,y2 = self.coor2\n",
    "        return ((x2-x1)**2 + (y2-y1)**2)**0.5\n",
    "        \n",
    "    def slope(self):\n",
    "        x1,y1 = self.coor1\n",
    "        x2,y2 = self.coor2\n",
    "        return (y2-y1)/(x2-x1)"
   ]
  },
  {
   "cell_type": "code",
   "execution_count": 369,
   "id": "2239ede9-d6f3-40f1-8720-5a0ddaae8a05",
   "metadata": {},
   "outputs": [],
   "source": [
    "coordinate1 = (3,2)\n",
    "coordinate2 = (8,10)\n",
    "\n",
    "li = Line(coordinate1,coordinate2)"
   ]
  },
  {
   "cell_type": "code",
   "execution_count": 371,
   "id": "1b63dba6-a654-44f4-b479-50703a865866",
   "metadata": {},
   "outputs": [
    {
     "data": {
      "text/plain": [
       "9.433981132056603"
      ]
     },
     "execution_count": 371,
     "metadata": {},
     "output_type": "execute_result"
    }
   ],
   "source": [
    "li.distance()\n"
   ]
  },
  {
   "cell_type": "code",
   "execution_count": 373,
   "id": "675e3a5a-af37-49a9-a58c-57dccb21999a",
   "metadata": {},
   "outputs": [
    {
     "data": {
      "text/plain": [
       "1.6"
      ]
     },
     "execution_count": 373,
     "metadata": {},
     "output_type": "execute_result"
    }
   ],
   "source": [
    "li.slope()"
   ]
  },
  {
   "cell_type": "markdown",
   "id": "e52e2e33-472e-4303-8b8d-1cbaa4893f09",
   "metadata": {},
   "source": [
    "##### 2. Fill in the class"
   ]
  },
  {
   "cell_type": "code",
   "execution_count": 379,
   "id": "3ae54ad4-95dd-41a2-835f-29ef3d66a67f",
   "metadata": {},
   "outputs": [],
   "source": [
    "\n",
    "class Cylinder:\n",
    "    \n",
    "    def __init__(self,height=1,radius=1):\n",
    "        self.height = height\n",
    "        self.radius = radius\n",
    "        \n",
    "    def volume(self):\n",
    "        return self.height*3.14*(self.radius)**2\n",
    "    \n",
    "    def surface_area(self):\n",
    "        top = 3.14 * (self.radius)**2\n",
    "        return (2*top) + (2*3.14*self.radius*self.height)"
   ]
  },
  {
   "cell_type": "code",
   "execution_count": 381,
   "id": "d5547b1c-047a-44c5-96c2-36de3da62230",
   "metadata": {},
   "outputs": [],
   "source": [
    "c = Cylinder(2,3)"
   ]
  },
  {
   "cell_type": "code",
   "execution_count": 383,
   "id": "05ba5d1c-c18b-47d5-bfbf-28d7b99be7bc",
   "metadata": {},
   "outputs": [
    {
     "data": {
      "text/plain": [
       "56.52"
      ]
     },
     "execution_count": 383,
     "metadata": {},
     "output_type": "execute_result"
    }
   ],
   "source": [
    "c.volume()"
   ]
  },
  {
   "cell_type": "code",
   "execution_count": 385,
   "id": "11c0a5a8-b303-4b63-9d7a-3a551920558d",
   "metadata": {},
   "outputs": [
    {
     "data": {
      "text/plain": [
       "94.2"
      ]
     },
     "execution_count": 385,
     "metadata": {},
     "output_type": "execute_result"
    }
   ],
   "source": [
    "c.surface_area()"
   ]
  },
  {
   "cell_type": "markdown",
   "id": "1a80d0e5-55c5-4cd7-8d37-a65d114dc0f4",
   "metadata": {
    "jp-MarkdownHeadingCollapsed": true
   },
   "source": [
    "### Challenge Problem"
   ]
  },
  {
   "cell_type": "markdown",
   "id": "676ad7c0-ce17-494b-96bf-4d0dd0e952aa",
   "metadata": {},
   "source": [
    "For this challenge, create a bank account class that has two attributes:\n",
    "\n",
    "* owner\n",
    "* balance\n",
    "  \n",
    "and two methods:\n",
    "\n",
    "* deposit\n",
    "* withdraw\n",
    "  \n",
    "As an added requirement, withdrawals may not exceed the available balance.\n",
    "\n",
    "Instantiate your class, make several deposits and withdrawals, and test to make sure the account can't be overdrawn.\n",
    "\n"
   ]
  },
  {
   "cell_type": "code",
   "execution_count": 423,
   "id": "19534427-e7fe-41c1-81d4-e64d915aa29d",
   "metadata": {},
   "outputs": [],
   "source": [
    "class Account:\n",
    "\n",
    "    def __init__(self, owner, balance):\n",
    "        self.owner = owner\n",
    "        self.balance = balance\n",
    "\n",
    "    def __str__(self):\n",
    "        return f'Account owner:   {self.owner}\\nAccount balance: ${self.balance}'\n",
    "        \n",
    "    def deposit(self, x):\n",
    "        self.balance = self.balance + x\n",
    "        print(\"Deposit Accepted\")\n",
    "        print(f\"Remaining balance: {self.balance}\")\n",
    "\n",
    "    def withdraw(self, y):\n",
    "        if y <= self.balance:\n",
    "            self.balance = self.balance - y\n",
    "            print(\"Withdrawal Accepted\")\n",
    "            print(f\"Remaining balance: {self.balance}\")\n",
    "        else:\n",
    "            print(\"Funds Unavailable!\")\n",
    "            print(f\"Remaining balance: {self.balance}\")\n"
   ]
  },
  {
   "cell_type": "code",
   "execution_count": 425,
   "id": "e79d72e4-2e0d-4a5e-8a3c-4b3224619a44",
   "metadata": {},
   "outputs": [],
   "source": [
    "# 1. Instantiate the class\n",
    "acct1 = Account('Jose',100)"
   ]
  },
  {
   "cell_type": "code",
   "execution_count": 427,
   "id": "6edaf323-65e8-4f1d-a645-ebda2b449069",
   "metadata": {},
   "outputs": [
    {
     "name": "stdout",
     "output_type": "stream",
     "text": [
      "Account owner:   Jose\n",
      "Account balance: $100\n"
     ]
    }
   ],
   "source": [
    "# 2. Print the object\n",
    "print(acct1)"
   ]
  },
  {
   "cell_type": "code",
   "execution_count": 429,
   "id": "4799c836-fbd5-45ce-a069-a45d0040169d",
   "metadata": {},
   "outputs": [
    {
     "data": {
      "text/plain": [
       "'Jose'"
      ]
     },
     "execution_count": 429,
     "metadata": {},
     "output_type": "execute_result"
    }
   ],
   "source": [
    "# 3. Show the account owner attribute\n",
    "acct1.owner"
   ]
  },
  {
   "cell_type": "code",
   "execution_count": 431,
   "id": "19c3a389-1718-4be1-9973-f1ddf28aa5f5",
   "metadata": {},
   "outputs": [
    {
     "data": {
      "text/plain": [
       "100"
      ]
     },
     "execution_count": 431,
     "metadata": {},
     "output_type": "execute_result"
    }
   ],
   "source": [
    "# 4. Show the account balance attribute\n",
    "acct1.balance"
   ]
  },
  {
   "cell_type": "code",
   "execution_count": 433,
   "id": "b8486d78-096a-4aa5-8fc5-a5eca61c7444",
   "metadata": {},
   "outputs": [
    {
     "name": "stdout",
     "output_type": "stream",
     "text": [
      "Deposit Accepted\n",
      "Remaining balance: 150\n"
     ]
    }
   ],
   "source": [
    "# 5. Make a series of deposits and withdrawals\n",
    "acct1.deposit(50)"
   ]
  },
  {
   "cell_type": "code",
   "execution_count": 435,
   "id": "0fc12e18-fee7-4427-b1ab-185b3902fca0",
   "metadata": {},
   "outputs": [
    {
     "name": "stdout",
     "output_type": "stream",
     "text": [
      "Withdrawal Accepted\n",
      "Remaining balance: 75\n"
     ]
    }
   ],
   "source": [
    "acct1.withdraw(75)\n"
   ]
  },
  {
   "cell_type": "code",
   "execution_count": 437,
   "id": "ae9fadfd-b962-414b-889b-f8a92fd8768c",
   "metadata": {},
   "outputs": [
    {
     "name": "stdout",
     "output_type": "stream",
     "text": [
      "Funds Unavailable!\n",
      "Remaining balance: 75\n"
     ]
    }
   ],
   "source": [
    "# 6. Make a withdrawal that exceeds the available balance\n",
    "acct1.withdraw(500)"
   ]
  },
  {
   "cell_type": "markdown",
   "id": "265e805f-321f-4f30-8fe0-88d7f1f221ed",
   "metadata": {
    "jp-MarkdownHeadingCollapsed": true
   },
   "source": [
    "## <h2 style=\"color: #4472C4;\"> Section 9: Modules and Packages </h2> "
   ]
  },
  {
   "cell_type": "markdown",
   "id": "c420af4b-3422-4676-94df-c544b1a8fbe2",
   "metadata": {
    "jp-MarkdownHeadingCollapsed": true
   },
   "source": [
    "### 1. **Pip Install** and **PyPi**"
   ]
  },
  {
   "cell_type": "markdown",
   "id": "b9dfd36a-5724-4ff5-ab6f-d19a40a1fa26",
   "metadata": {},
   "source": [
    "* <span style=\"font-size: 18px;\"/> PyPi is a repository for *open-source third-party* Python ***packages***. </span> \n",
    "* <span style=\"font-size: 18px;\"/> **pip install** to install these packages </span>"
   ]
  },
  {
   "cell_type": "markdown",
   "id": "8457902b-6174-4e51-b015-669476cc3c03",
   "metadata": {
    "jp-MarkdownHeadingCollapsed": true
   },
   "source": [
    "### 2. Modules and Packages"
   ]
  },
  {
   "cell_type": "markdown",
   "id": "09dc06ac-c36a-46fb-838c-a2ef55db32d3",
   "metadata": {},
   "source": [
    "* <span style=\"font-size: 18px;\"/> Modules are **.py** scripts that you call in another **.py** script </span> \n",
    "* <span style=\"font-size: 18px;\"/> Packages are a collection of modules </span>"
   ]
  },
  {
   "cell_type": "markdown",
   "id": "83308086-9064-4039-8b7b-4dca6cd6a25f",
   "metadata": {
    "jp-MarkdownHeadingCollapsed": true
   },
   "source": [
    "### 3. __name__ and \"__main__\""
   ]
  },
  {
   "cell_type": "raw",
   "id": "524c770a-f11c-486d-acbb-cf8845a7cc02",
   "metadata": {},
   "source": [
    "__name__ and \"__main__\"\n",
    "\n",
    "if__name__ ==\"__main__\":\n"
   ]
  },
  {
   "cell_type": "markdown",
   "id": "0508ae86-9903-40a7-8e11-32fdb7672b3c",
   "metadata": {},
   "source": [
    "* Inside a module we def a func\n",
    "* We then can call that func from another module\n",
    "* so module 1 = func 1 // module 2 = func 1 <br/><br/>\n",
    "\n",
    "* Module 3 now uses module 2, func 1.\n",
    "* You want to know if func 1 is the original func in module 2 or is imported?? <br/><br/>\n",
    "\n",
    "* module 2 using func 1 --> is using the original .py script (module 1)\n",
    "* module 3 using func 1 from module 2 --> func 1 in this case is being used as an import <br/><br/>\n",
    "\n",
    "***Sometimes, when you are importing from a module, \\\n",
    "you would like to know whether a modules function is being used as an import, \\\n",
    "or if you are using the original .py file of that module***"
   ]
  },
  {
   "cell_type": "markdown",
   "id": "784c324f-da31-4d4b-a659-1289c92a9874",
   "metadata": {},
   "source": [
    "<span style=\"font-size: 18px;\"/> When you call a module from CLI -- All code at indentation 0 will RUN"
   ]
  },
  {
   "cell_type": "markdown",
   "id": "f46a237a-cbe8-4b67-a65d-541335b4c20f",
   "metadata": {
    "jp-MarkdownHeadingCollapsed": true
   },
   "source": [
    "## <h2 style=\"color: #4472C4;\"> Section 10: Errors and Exceptions Handling </h2> "
   ]
  },
  {
   "cell_type": "markdown",
   "id": "e7efa1ab-3038-428f-8462-5aec5332ecc1",
   "metadata": {
    "jp-MarkdownHeadingCollapsed": true
   },
   "source": [
    "### 1. Try/Except/Finally:"
   ]
  },
  {
   "cell_type": "markdown",
   "id": "a99b932f-b1a2-40ce-90f7-b0392398256d",
   "metadata": {},
   "source": [
    "Use ERROR handling so the script can continue with other code, even if there is an error. Instead of stopping it completely."
   ]
  },
  {
   "cell_type": "raw",
   "id": "e827f619-4659-4788-b618-92e262e614c1",
   "metadata": {},
   "source": [
    "try:\n",
    "    code to be attempted\n",
    "except:\n",
    "    in case of error in try block, this block of code will execute\n",
    "finally:\n",
    "    a final block of code to be executed regardless of an error"
   ]
  },
  {
   "cell_type": "code",
   "execution_count": 1,
   "id": "b2e2e8d2-5caa-4fc3-8dbe-8dbae58030ed",
   "metadata": {},
   "outputs": [
    {
     "name": "stdout",
     "output_type": "stream",
     "text": [
      "Error: Could not find file or read data\n"
     ]
    }
   ],
   "source": [
    "try:\n",
    "    f = open('testfile','r')\n",
    "    f.write('Test write this')\n",
    "except IOError:\n",
    "    # This will only check for an IOError exception and then execute this print statement\n",
    "    print(\"Error: Could not find file or read data\")\n",
    "else:\n",
    "    print(\"Content written successfully\")\n",
    "    f.close()"
   ]
  },
  {
   "cell_type": "code",
   "execution_count": 2,
   "id": "80a231e2-3d31-4174-a086-43231e4aaf79",
   "metadata": {},
   "outputs": [],
   "source": [
    "def askint():\n",
    "    while True:\n",
    "        try:\n",
    "            val = int(input(\"Please enter an integer: \"))\n",
    "        except:\n",
    "            print(\"Looks like you did not enter an integer!\")\n",
    "            continue\n",
    "        else:\n",
    "            print(\"Yep that's an integer!\")\n",
    "            print(val)\n",
    "            break\n",
    "        finally:\n",
    "            print(\"Finally, I executed!\")"
   ]
  },
  {
   "cell_type": "code",
   "execution_count": 4,
   "id": "22e10201-d6a6-41a5-93a9-eeea88d4b1f2",
   "metadata": {},
   "outputs": [
    {
     "name": "stdout",
     "output_type": "stream",
     "text": [
      "Please enter an integer:  p\n"
     ]
    },
    {
     "name": "stdout",
     "output_type": "stream",
     "text": [
      "Looks like you did not enter an integer!\n",
      "Finally, I executed!\n"
     ]
    },
    {
     "name": "stdout",
     "output_type": "stream",
     "text": [
      "Please enter an integer:  9\n"
     ]
    },
    {
     "name": "stdout",
     "output_type": "stream",
     "text": [
      "Yep that's an integer!\n",
      "9\n",
      "Finally, I executed!\n"
     ]
    }
   ],
   "source": [
    "askint()"
   ]
  },
  {
   "cell_type": "markdown",
   "id": "f14ac731-f1fd-451f-8469-266f9a7d3037",
   "metadata": {
    "jp-MarkdownHeadingCollapsed": true
   },
   "source": [
    "### 2. Pylint - A text file to check you code error/rating\n",
    "#### Useful when working with other people"
   ]
  },
  {
   "cell_type": "markdown",
   "id": "fe473d24-27b0-4c1a-b85f-65ac9a6adcbf",
   "metadata": {},
   "source": [
    "### 3. UnitTest Library"
   ]
  },
  {
   "cell_type": "markdown",
   "id": "bbc9ceaa-a1fe-4a04-8266-9c5f3bd0a904",
   "metadata": {},
   "source": [
    "* #### Write your own test program\n",
    "* #### Then, send specific set of data to your program\n",
    "* #### Analyze the results\n",
    "* #### Determine if it gives you the expected result"
   ]
  },
  {
   "cell_type": "markdown",
   "id": "60ab52e9-614c-4921-80d8-76dfa09a3126",
   "metadata": {},
   "source": [
    "Object oriented programming used here"
   ]
  },
  {
   "cell_type": "markdown",
   "id": "71d57810-e8be-4ba9-b8f7-38f575a2493d",
   "metadata": {
    "jp-MarkdownHeadingCollapsed": true
   },
   "source": [
    "## <h2 style=\"color: #4472C4;\"> Section 11: Milestone Project - 2 </h2> "
   ]
  },
  {
   "cell_type": "markdown",
   "id": "99246461-7f91-4103-8813-547d2534e39a",
   "metadata": {
    "jp-MarkdownHeadingCollapsed": true
   },
   "source": [
    "### 1. Card Class"
   ]
  },
  {
   "cell_type": "markdown",
   "id": "217cd9ff-98fe-4166-8587-439946c80bb8",
   "metadata": {},
   "source": [
    "* #### Create Card Class\n",
    "* #### Assign Suit and Rank\n",
    "* #### Convert Rank to Value through dictionary\n",
    "* #### Create GLOBAL VAR"
   ]
  },
  {
   "cell_type": "code",
   "execution_count": 1,
   "id": "4f86c153-1e72-43de-8a8d-11f6a2703b79",
   "metadata": {},
   "outputs": [],
   "source": [
    "# We'll use this later\n",
    "import random "
   ]
  },
  {
   "cell_type": "code",
   "execution_count": 2,
   "id": "c13917e1-76e1-46cf-b027-645b7352253a",
   "metadata": {},
   "outputs": [],
   "source": [
    "suits = ('Hearts', 'Diamonds', 'Spades', 'Clubs')\n",
    "ranks = ('Two', 'Three', 'Four', 'Five', 'Six', 'Seven', 'Eight', 'Nine', 'Ten', 'Jack', 'Queen', 'King', 'Ace')\n",
    "values = {'Two':2, 'Three':3, 'Four':4, 'Five':5, 'Six':6, 'Seven':7, 'Eight':8, \n",
    "            'Nine':9, 'Ten':10, 'Jack':11, 'Queen':12, 'King':13, 'Ace':14}"
   ]
  },
  {
   "cell_type": "code",
   "execution_count": 3,
   "id": "cebda032-fda5-408a-bf2d-6ae3aa55fd26",
   "metadata": {},
   "outputs": [],
   "source": [
    "class Card:\n",
    "    \n",
    "    def __init__(self, suit, rank):\n",
    "        self.suit = suit\n",
    "        self.rank = rank\n",
    "        self.value = values[rank]\n",
    "        \n",
    "    def __str__(self):\n",
    "        return self.rank + ' of ' + self.suit"
   ]
  },
  {
   "cell_type": "code",
   "execution_count": 4,
   "id": "9ad39729-47ad-42c1-95d2-2c19766a74ae",
   "metadata": {},
   "outputs": [
    {
     "data": {
      "text/plain": [
       "'Hearts'"
      ]
     },
     "execution_count": 4,
     "metadata": {},
     "output_type": "execute_result"
    }
   ],
   "source": [
    "suits[0]"
   ]
  },
  {
   "cell_type": "code",
   "execution_count": 5,
   "id": "9c82f560-34f6-4d9a-ac26-20ded3445f80",
   "metadata": {},
   "outputs": [
    {
     "data": {
      "text/plain": [
       "'Two'"
      ]
     },
     "execution_count": 5,
     "metadata": {},
     "output_type": "execute_result"
    }
   ],
   "source": [
    "ranks[0]"
   ]
  },
  {
   "cell_type": "code",
   "execution_count": 6,
   "id": "6e9090c8-4cab-404a-beb9-49b3ef491792",
   "metadata": {},
   "outputs": [],
   "source": [
    "two_hearts = Card(suits[0],ranks[0])"
   ]
  },
  {
   "cell_type": "code",
   "execution_count": 7,
   "id": "8a2a518f-f31e-4ca5-a9f7-23fbdbca3ab4",
   "metadata": {},
   "outputs": [
    {
     "data": {
      "text/plain": [
       "<__main__.Card at 0x11310c4d0>"
      ]
     },
     "execution_count": 7,
     "metadata": {},
     "output_type": "execute_result"
    }
   ],
   "source": [
    "two_hearts"
   ]
  },
  {
   "cell_type": "code",
   "execution_count": 8,
   "id": "f1fc9c9a-a651-4729-90f9-ed4f3c83fd8b",
   "metadata": {},
   "outputs": [
    {
     "name": "stdout",
     "output_type": "stream",
     "text": [
      "Two of Hearts\n"
     ]
    }
   ],
   "source": [
    "print(two_hearts)"
   ]
  },
  {
   "cell_type": "code",
   "execution_count": 9,
   "id": "07827d36-9eb3-4dd4-ad3b-b5b446dda74d",
   "metadata": {},
   "outputs": [
    {
     "data": {
      "text/plain": [
       "2"
      ]
     },
     "execution_count": 9,
     "metadata": {},
     "output_type": "execute_result"
    }
   ],
   "source": [
    "values[two_hearts.rank]"
   ]
  },
  {
   "cell_type": "markdown",
   "id": "b77556c0-1460-492e-a128-3c6022f898ee",
   "metadata": {
    "jp-MarkdownHeadingCollapsed": true
   },
   "source": [
    "### 2. Deck Class"
   ]
  },
  {
   "cell_type": "markdown",
   "id": "e5bedfaf-ed9e-4fa3-8151-020739ac9fc9",
   "metadata": {},
   "source": [
    "#### a). Using a class within another class"
   ]
  },
  {
   "cell_type": "markdown",
   "id": "e0e45d8f-bf17-47a6-866d-08972e8e943e",
   "metadata": {},
   "source": [
    "* *We just created a single card, but how can we create an entire Deck of cards?* \n",
    "\n",
    "* *Let's explore doing this with a class that utilizes the Card class.*\n",
    "\n",
    "<br/>\n",
    "\n",
    "* *A Deck will be made up of multiple Cards.*\n",
    "\n",
    "* *Which mean's we will actually use the Card class within the __init__ of the Deck class.*\n",
    "\n"
   ]
  },
  {
   "cell_type": "code",
   "execution_count": 10,
   "id": "7370c0a4-afc9-4d6f-9d02-b421cdc62892",
   "metadata": {},
   "outputs": [],
   "source": [
    "class Deck:\n",
    "    \n",
    "    def __init__(self):\n",
    "        # Note this only happens once upon creation of a new Deck\n",
    "        self.all_cards = [] \n",
    "        for suit in suits:\n",
    "            for rank in ranks:\n",
    "                # This assumes the Card class has already been defined!\n",
    "                self.all_cards.append(Card(suit,rank))\n",
    "                \n",
    "    def shuffle(self):\n",
    "        # Note this doesn't return anything\n",
    "        random.shuffle(self.all_cards)\n",
    "        \n",
    "    def deal_one(self):\n",
    "        # Note we remove one card from the list of all_cards\n",
    "        return self.all_cards.pop() "
   ]
  },
  {
   "cell_type": "markdown",
   "id": "d49a0893-0671-4f87-a504-b052cb0b6889",
   "metadata": {},
   "source": [
    "#### b). Create a Deck"
   ]
  },
  {
   "cell_type": "code",
   "execution_count": 11,
   "id": "779355b3-813c-474a-bf93-ef5fc8f6e6e8",
   "metadata": {},
   "outputs": [],
   "source": [
    "mydeck = Deck()"
   ]
  },
  {
   "cell_type": "code",
   "execution_count": 12,
   "id": "77bb1bcd-2bf2-40e2-a017-c3ee7c0217f4",
   "metadata": {},
   "outputs": [
    {
     "data": {
      "text/plain": [
       "52"
      ]
     },
     "execution_count": 12,
     "metadata": {},
     "output_type": "execute_result"
    }
   ],
   "source": [
    "len(mydeck.all_cards)"
   ]
  },
  {
   "cell_type": "code",
   "execution_count": 13,
   "id": "34c7328c-5720-46cf-a92b-fbd06dae309d",
   "metadata": {},
   "outputs": [
    {
     "data": {
      "text/plain": [
       "<__main__.Card at 0x11310cec0>"
      ]
     },
     "execution_count": 13,
     "metadata": {},
     "output_type": "execute_result"
    }
   ],
   "source": [
    "mydeck.all_cards[0]"
   ]
  },
  {
   "cell_type": "code",
   "execution_count": 14,
   "id": "2a515ed6-d8f1-4838-8c44-e7b8b7dcd574",
   "metadata": {},
   "outputs": [
    {
     "name": "stdout",
     "output_type": "stream",
     "text": [
      "Two of Hearts\n"
     ]
    }
   ],
   "source": [
    "print(mydeck.all_cards[0])"
   ]
  },
  {
   "cell_type": "code",
   "execution_count": 15,
   "id": "953501a1-71fc-4a02-8033-dc24196a5dfc",
   "metadata": {},
   "outputs": [],
   "source": [
    "mydeck.shuffle()"
   ]
  },
  {
   "cell_type": "code",
   "execution_count": 16,
   "id": "a3004848-14bf-4a1f-bd03-480fa648d3e8",
   "metadata": {},
   "outputs": [
    {
     "name": "stdout",
     "output_type": "stream",
     "text": [
      "Nine of Diamonds\n"
     ]
    }
   ],
   "source": [
    "print(mydeck.all_cards[0])"
   ]
  },
  {
   "cell_type": "code",
   "execution_count": 17,
   "id": "394bae19-c05b-45af-9d5d-c7d6361a691e",
   "metadata": {},
   "outputs": [],
   "source": [
    "my_card = mydeck.deal_one()"
   ]
  },
  {
   "cell_type": "code",
   "execution_count": 18,
   "id": "d175521c-14be-4a80-9f7d-5704083bb070",
   "metadata": {},
   "outputs": [
    {
     "name": "stdout",
     "output_type": "stream",
     "text": [
      "Ten of Hearts\n"
     ]
    }
   ],
   "source": [
    "print(my_card)"
   ]
  },
  {
   "cell_type": "markdown",
   "id": "e66ff35a-b602-4674-95b5-6b7b9feca070",
   "metadata": {
    "jp-MarkdownHeadingCollapsed": true
   },
   "source": [
    "### 3. Player Class"
   ]
  },
  {
   "cell_type": "markdown",
   "id": "54562d84-185a-4ce7-97fe-c5581c86fe76",
   "metadata": {},
   "source": [
    "Let's create a Player Class, \n",
    "* a player should be able to hold instances of Cards,\n",
    "* they should also be able to remove and add them from their hand.\n",
    "* We want the Player class to be flexible enough to add one card, or many cards so we'll use a simple if check to keep it all in the same method.\n"
   ]
  },
  {
   "cell_type": "code",
   "execution_count": 19,
   "id": "1acd40a8-b6c1-490f-8b32-ac8ff4b3f72f",
   "metadata": {},
   "outputs": [],
   "source": [
    "class Player:\n",
    "    \n",
    "    def __init__(self,name):\n",
    "        self.name = name\n",
    "        # A new player has no cards\n",
    "        self.all_cards = [] \n",
    "        \n",
    "    def remove_one(self):\n",
    "        # Note we remove one card from the list of all_cards\n",
    "        # We state 0 to remove from the \"top\" of the deck\n",
    "        # We'll imagine index -1 as the bottom of the deck\n",
    "        return self.all_cards.pop(0)\n",
    "    \n",
    "    def add_cards(self,new_cards):\n",
    "        if type(new_cards) == type([]):\n",
    "            self.all_cards.extend(new_cards)\n",
    "        else:\n",
    "            self.all_cards.append(new_cards)\n",
    "    \n",
    "    \n",
    "    def __str__(self):\n",
    "        return f'Player {self.name} has {len(self.all_cards)} cards.'"
   ]
  },
  {
   "cell_type": "code",
   "execution_count": 20,
   "id": "eb825ad1-c64c-42c7-806b-369ef6cc1a83",
   "metadata": {},
   "outputs": [],
   "source": [
    "evi = Player(\"Evi\")"
   ]
  },
  {
   "cell_type": "code",
   "execution_count": 21,
   "id": "60f2ecfa-6072-4595-a9ed-e36047c8cd82",
   "metadata": {},
   "outputs": [
    {
     "data": {
      "text/plain": [
       "<__main__.Player at 0x11310c200>"
      ]
     },
     "execution_count": 21,
     "metadata": {},
     "output_type": "execute_result"
    }
   ],
   "source": [
    "evi"
   ]
  },
  {
   "cell_type": "code",
   "execution_count": 22,
   "id": "84fad0e8-d8e2-4265-a1f5-48b8137fc841",
   "metadata": {},
   "outputs": [
    {
     "name": "stdout",
     "output_type": "stream",
     "text": [
      "Player Evi has 0 cards.\n"
     ]
    }
   ],
   "source": [
    "print(evi)"
   ]
  },
  {
   "cell_type": "code",
   "execution_count": 23,
   "id": "b7cfebbc-b34c-4655-8713-4f1c428ea411",
   "metadata": {},
   "outputs": [],
   "source": [
    "evi.add_cards([two_hearts, two_hearts, two_hearts])"
   ]
  },
  {
   "cell_type": "code",
   "execution_count": 24,
   "id": "ddf6a3aa-3207-463d-b98c-2663609f17f8",
   "metadata": {},
   "outputs": [
    {
     "name": "stdout",
     "output_type": "stream",
     "text": [
      "Player Evi has 3 cards.\n"
     ]
    }
   ],
   "source": [
    "print(evi)"
   ]
  },
  {
   "cell_type": "markdown",
   "id": "82c82759-eb98-4092-8de9-6e6727f21ec3",
   "metadata": {},
   "source": [
    "### Game Logic"
   ]
  },
  {
   "cell_type": "markdown",
   "id": "1466e509-4a2e-4825-a436-0f88a8ea191c",
   "metadata": {
    "jp-MarkdownHeadingCollapsed": true
   },
   "source": [
    "#### Part 1"
   ]
  },
  {
   "cell_type": "markdown",
   "id": "ed26ea29-6582-45d8-94c4-dd96f7566bb2",
   "metadata": {},
   "source": [
    "* Go through the game logic step by step\n",
    "* Keep in mind what functions/clsses you will use for those steps\n",
    "* Re-order the game logic steps based on function/programming logic\n",
    "* Build all necessary logic steps and functions needed\n",
    "* Test it out"
   ]
  },
  {
   "cell_type": "markdown",
   "id": "2c4479a9-7261-48c0-bcab-661cac249ba5",
   "metadata": {
    "jp-MarkdownHeadingCollapsed": true
   },
   "source": [
    "#### Part 2 / Part 3"
   ]
  },
  {
   "cell_type": "markdown",
   "id": "316e1422-a4da-496d-ab72-44c570f771cc",
   "metadata": {},
   "source": [
    " **1.**  GAME SETUP \\\n",
    " **2.**  while game_on \\\n",
    " &nbsp;&nbsp;&nbsp;&nbsp;**2.a** while at_war"
   ]
  },
  {
   "cell_type": "code",
   "execution_count": 25,
   "id": "511a0b50-560a-486b-96c3-db3bd6028f90",
   "metadata": {},
   "outputs": [
    {
     "data": {
      "text/plain": [
       "26"
      ]
     },
     "execution_count": 25,
     "metadata": {},
     "output_type": "execute_result"
    }
   ],
   "source": [
    "import pdb  # for debugging\n",
    "\n",
    "# GAME SETUP\n",
    "player_one = Player(\"One\")\n",
    "player_two = Player(\"Two\")\n",
    "\n",
    "new_deck = Deck()\n",
    "new_deck.shuffle()\n",
    "\n",
    "# Split the Deck between players\n",
    "len(new_deck.all_cards)/2\n",
    "\n",
    "for x in range(26):\n",
    "    player_one.add_cards(new_deck.deal_one())\n",
    "    player_two.add_cards(new_deck.deal_one())\n",
    "\n",
    "len(player_one.all_cards)"
   ]
  },
  {
   "cell_type": "code",
   "execution_count": 26,
   "id": "cfe4fe45-a7e5-4168-a06c-222dd6ea15f5",
   "metadata": {},
   "outputs": [
    {
     "data": {
      "text/plain": [
       "26"
      ]
     },
     "execution_count": 26,
     "metadata": {},
     "output_type": "execute_result"
    }
   ],
   "source": [
    "len(player_two.all_cards)"
   ]
  },
  {
   "cell_type": "code",
   "execution_count": 27,
   "id": "1fd3133d-d504-45b1-94c0-72078b070a3f",
   "metadata": {},
   "outputs": [
    {
     "name": "stdout",
     "output_type": "stream",
     "text": [
      "Round 1\n",
      "Round 2\n",
      "Round 3\n",
      "Round 4\n",
      "Round 5\n",
      "Round 6\n",
      "Round 7\n",
      "WAR!\n",
      "Round 8\n",
      "Round 9\n",
      "Round 10\n",
      "Round 11\n",
      "WAR!\n",
      "Round 12\n",
      "Round 13\n",
      "WAR!\n",
      "Round 14\n",
      "Round 15\n",
      "Round 16\n",
      "Round 17\n",
      "Round 18\n",
      "Round 19\n",
      "Round 20\n",
      "Round 21\n",
      "Round 22\n",
      "Round 23\n",
      "WAR!\n",
      "Round 24\n",
      "WAR!\n",
      "Round 25\n",
      "Round 26\n",
      "Round 27\n",
      "Round 28\n",
      "Round 29\n",
      "WAR!\n",
      "Round 30\n",
      "Round 31\n",
      "Round 32\n",
      "Round 33\n",
      "Round 34\n",
      "Round 35\n",
      "Round 36\n",
      "Round 37\n",
      "Round 38\n",
      "Round 39\n",
      "Round 40\n",
      "Round 41\n",
      "Round 42\n",
      "Round 43\n",
      "Round 44\n",
      "Round 45\n",
      "Round 46\n",
      "Round 47\n",
      "Round 48\n",
      "Round 49\n",
      "Round 50\n",
      "Round 51\n",
      "Round 52\n",
      "Round 53\n",
      "Round 54\n",
      "Round 55\n",
      "Round 56\n",
      "Round 57\n",
      "Round 58\n",
      "Round 59\n",
      "Round 60\n",
      "Round 61\n",
      "Round 62\n",
      "Round 63\n",
      "Round 64\n",
      "Round 65\n",
      "Round 66\n",
      "WAR!\n",
      "Round 67\n",
      "Round 68\n",
      "Round 69\n",
      "Round 70\n",
      "Round 71\n",
      "Round 72\n",
      "Round 73\n",
      "Round 74\n",
      "WAR!\n",
      "Round 75\n",
      "Round 76\n",
      "Round 77\n",
      "Round 78\n",
      "Round 79\n",
      "Round 80\n",
      "Round 81\n",
      "Round 82\n",
      "Round 83\n",
      "Round 84\n",
      "Round 85\n",
      "Round 86\n",
      "Round 87\n",
      "Round 88\n",
      "Round 89\n",
      "Round 90\n",
      "Round 91\n",
      "Round 92\n",
      "Round 93\n",
      "Round 94\n",
      "Round 95\n",
      "Round 96\n",
      "Round 97\n",
      "Round 98\n",
      "Round 99\n",
      "Round 100\n",
      "Round 101\n",
      "Round 102\n",
      "Round 103\n",
      "WAR!\n",
      "Round 104\n",
      "Round 105\n",
      "Round 106\n",
      "Round 107\n",
      "Round 108\n",
      "Round 109\n",
      "Round 110\n",
      "Round 111\n",
      "Round 112\n",
      "Round 113\n",
      "Round 114\n",
      "Round 115\n",
      "WAR!\n",
      "Round 116\n",
      "WAR!\n",
      "Round 117\n",
      "Round 118\n",
      "Round 119\n",
      "Round 120\n",
      "Round 121\n",
      "Round 122\n",
      "Round 123\n",
      "Round 124\n",
      "Round 125\n",
      "Round 126\n",
      "Round 127\n",
      "Round 128\n",
      "Round 129\n",
      "Round 130\n",
      "Round 131\n",
      "Round 132\n",
      "Round 133\n",
      "Round 134\n",
      "Round 135\n",
      "Round 136\n",
      "Round 137\n",
      "Round 138\n",
      "Round 139\n",
      "Round 140\n",
      "Round 141\n",
      "Round 142\n",
      "Round 143\n",
      "Round 144\n",
      "Round 145\n",
      "Round 146\n",
      "Round 147\n",
      "Round 148\n",
      "Round 149\n",
      "Round 150\n",
      "Round 151\n",
      "Round 152\n",
      "Round 153\n",
      "Round 154\n",
      "Round 155\n",
      "Round 156\n",
      "Round 157\n",
      "WAR!\n",
      "Round 158\n",
      "Round 159\n",
      "Round 160\n",
      "Round 161\n",
      "Round 162\n",
      "Round 163\n",
      "Round 164\n",
      "WAR!\n",
      "Round 165\n",
      "Round 166\n",
      "Round 167\n",
      "Round 168\n",
      "Round 169\n",
      "Round 170\n",
      "Round 171\n",
      "Round 172\n",
      "Round 173\n",
      "Round 174\n",
      "Round 175\n",
      "Round 176\n",
      "WAR!\n",
      "Round 177\n",
      "Round 178\n",
      "Round 179\n",
      "Round 180\n",
      "Round 181\n",
      "Round 182\n",
      "Round 183\n",
      "Round 184\n",
      "Round 185\n",
      "Round 186\n",
      "Round 187\n",
      "Round 188\n",
      "Round 189\n",
      "WAR!\n",
      "Round 190\n",
      "Round 191\n",
      "Round 192\n",
      "Round 193\n",
      "Round 194\n",
      "Round 195\n",
      "Round 196\n",
      "Round 197\n",
      "Round 198\n",
      "Round 199\n",
      "Round 200\n",
      "Round 201\n",
      "Round 202\n",
      "Round 203\n",
      "Round 204\n",
      "WAR!\n",
      "Round 205\n",
      "Player One out of cards! Game Over\n",
      "Player Two Wins!\n"
     ]
    }
   ],
   "source": [
    "game_on = True\n",
    "round_num = 0\n",
    "\n",
    "while game_on:\n",
    "    \n",
    "    round_num += 1\n",
    "    print(f\"Round {round_num}\")\n",
    "    \n",
    "    # Check to see if a player is out of cards:\n",
    "    if len(player_one.all_cards) == 0:\n",
    "        print(\"Player One out of cards! Game Over\")\n",
    "        print(\"Player Two Wins!\")\n",
    "        game_on = False\n",
    "        break\n",
    "        \n",
    "    if len(player_two.all_cards) == 0:\n",
    "        print(\"Player Two out of cards! Game Over\")\n",
    "        print(\"Player One Wins!\")\n",
    "        game_on = False\n",
    "        break\n",
    "    \n",
    "    # Otherwise, the game is still on!\n",
    "    \n",
    "    # Start a new round and reset current cards \"on the table\"\n",
    "    player_one_cards = []\n",
    "    player_one_cards.append(player_one.remove_one())\n",
    "    \n",
    "    player_two_cards = []\n",
    "    player_two_cards.append(player_two.remove_one())\n",
    "    \n",
    "    at_war = True\n",
    "\n",
    "    while at_war:\n",
    "\n",
    "        if player_one_cards[-1].value > player_two_cards[-1].value:\n",
    "\n",
    "            # Player One gets the cards\n",
    "            player_one.add_cards(player_one_cards)\n",
    "            player_one.add_cards(player_two_cards)\n",
    "            \n",
    "            \n",
    "            # No Longer at \"war\" , time for next round\n",
    "            at_war = False\n",
    "        \n",
    "        # Player Two Has higher Card\n",
    "        elif player_one_cards[-1].value < player_two_cards[-1].value:\n",
    "\n",
    "            # Player Two gets the cards\n",
    "            player_two.add_cards(player_one_cards)\n",
    "            player_two.add_cards(player_two_cards)\n",
    "            \n",
    "            # No Longer at \"war\" , time for next round\n",
    "            at_war = False\n",
    "\n",
    "        else:\n",
    "            print('WAR!')\n",
    "            # This occurs when the cards are equal.\n",
    "            # We'll grab another card each and continue the current war.\n",
    "            \n",
    "            # First check to see if player has enough cards\n",
    "            \n",
    "            # Check to see if a player is out of cards:\n",
    "            if len(player_one.all_cards) < 5:\n",
    "                print(\"Player One unable to play war! Game Over at War\")\n",
    "                print(\"Player Two Wins! Player One Loses!\")\n",
    "                game_on = False\n",
    "                break\n",
    "\n",
    "            elif len(player_two.all_cards) < 5:\n",
    "                print(\"Player Two unable to play war! Game Over at War\")\n",
    "                print(\"Player One Wins! Player Two Loses!\")\n",
    "                game_on = False\n",
    "                break\n",
    "            # Otherwise, we're still at war, so we'll add the next cards\n",
    "            else:\n",
    "                for num in range(5):\n",
    "                    player_one_cards.append(player_one.remove_one())\n",
    "                    player_two_cards.append(player_two.remove_one())\n"
   ]
  },
  {
   "cell_type": "markdown",
   "id": "cb429dc7-b031-448f-a27e-8621b30c777a",
   "metadata": {},
   "source": [
    "### **M2: Blackjack**"
   ]
  },
  {
   "cell_type": "markdown",
   "id": "e46f3543",
   "metadata": {},
   "source": [
    "## <h2 style=\"color: #4472C4;\"> Section 14: Advanced Python Modules </h2> "
   ]
  },
  {
   "cell_type": "markdown",
   "id": "8b63c9b6-4e82-416c-ae7d-e9d20e870620",
   "metadata": {
    "jp-MarkdownHeadingCollapsed": true
   },
   "source": [
    "### 1. Collections Module"
   ]
  },
  {
   "cell_type": "markdown",
   "id": "757ec17c-e641-46d2-b393-ff69b5ab4eaf",
   "metadata": {},
   "source": [
    "The collections module is a built-in module that \n",
    "* implements specialized ***container*** data types providing *alternatives* to Python’s general purpose built-in containers.\n",
    "* We've already gone over the basics: dict, list, set, and tuple.\n"
   ]
  },
  {
   "cell_type": "markdown",
   "id": "bed7ada7-1330-46c6-89ec-f2c2aaa4ada0",
   "metadata": {
    "jp-MarkdownHeadingCollapsed": true
   },
   "source": [
    "#### 1.a **Counter**\n",
    "*Same as COUNT(id), group by (id) in SQL*"
   ]
  },
  {
   "cell_type": "markdown",
   "id": "c4892471-2337-474f-9c97-6b5e598169e7",
   "metadata": {},
   "source": [
    "* Counter is **a dict subclass** which helps ***count hashable objects***.\n",
    "<br/>\n",
    "<br/>\n",
    "* Inside of it:\n",
    "    * **elements** are ***stored as dictionary keys*** and\n",
    "    * the **counts of the objects** are ***stored as the value.***"
   ]
  },
  {
   "cell_type": "code",
   "execution_count": 22,
   "id": "24b4925a-3b0b-4121-87ed-a31b45409f09",
   "metadata": {},
   "outputs": [],
   "source": [
    "from collections import Counter"
   ]
  },
  {
   "cell_type": "code",
   "execution_count": 24,
   "id": "5f916c10-5ac2-4f2e-9d80-dc7d9644d9c9",
   "metadata": {},
   "outputs": [
    {
     "data": {
      "text/plain": [
       "Counter({1: 6, 2: 6, 3: 4, 12: 1, 32: 1, 21: 1, 223: 1})"
      ]
     },
     "execution_count": 24,
     "metadata": {},
     "output_type": "execute_result"
    }
   ],
   "source": [
    "# Counter() with lists\n",
    "lst = [1,2,2,2,2,3,3,3,1,2,1,12,3,2,32,1,21,1,223,1]\n",
    "\n",
    "Counter(lst)"
   ]
  },
  {
   "cell_type": "code",
   "execution_count": 28,
   "id": "39c17d72-e533-40af-bb5e-1cffc3b6b288",
   "metadata": {},
   "outputs": [
    {
     "data": {
      "text/plain": [
       "Counter({'b': 7, 's': 6, 'h': 3, 'a': 2})"
      ]
     },
     "execution_count": 28,
     "metadata": {},
     "output_type": "execute_result"
    }
   ],
   "source": [
    "# Counter with strings\n",
    "Counter('aabsbsbsbhshhbbsbs')"
   ]
  },
  {
   "cell_type": "code",
   "execution_count": 30,
   "id": "1747467c-89f4-41a3-a7e7-ac70df12d79f",
   "metadata": {},
   "outputs": [
    {
     "data": {
      "text/plain": [
       "Counter({'each': 3,\n",
       "         'word': 3,\n",
       "         'times': 2,\n",
       "         'How': 1,\n",
       "         'many': 1,\n",
       "         'does': 1,\n",
       "         'show': 1,\n",
       "         'up': 1,\n",
       "         'in': 1,\n",
       "         'this': 1,\n",
       "         'sentence': 1})"
      ]
     },
     "execution_count": 30,
     "metadata": {},
     "output_type": "execute_result"
    }
   ],
   "source": [
    "# Counter with words in a sentence\n",
    "s = 'How many times does each word show up in this sentence word times each each word'\n",
    "\n",
    "words = s.split()\n",
    "\n",
    "Counter(words)"
   ]
  },
  {
   "cell_type": "code",
   "execution_count": 32,
   "id": "e08b3642-480e-4da6-9140-e6b9d1ac2220",
   "metadata": {},
   "outputs": [
    {
     "data": {
      "text/plain": [
       "[('each', 3), ('word', 3)]"
      ]
     },
     "execution_count": 32,
     "metadata": {},
     "output_type": "execute_result"
    }
   ],
   "source": [
    "# Methods with Counter()\n",
    "c = Counter(words)\n",
    "\n",
    "c.most_common(2)"
   ]
  },
  {
   "cell_type": "code",
   "execution_count": 42,
   "id": "e388829b-982a-4ff4-89e7-43e462fab7c5",
   "metadata": {},
   "outputs": [],
   "source": [
    "# Common patterns when using the Counter() object\n",
    "\n",
    "sum(c.values())                 # total of all counts\n",
    "c.clear()                       # reset all counts\n",
    "list(c)                         # list unique elements\n",
    "set(c)                          # convert to a set\n",
    "dict(c)                         # convert to a regular dictionary\n",
    "c.items()                       # convert to a list of (elem, cnt) pairs\n",
    "Counter(dict(c))                # convert from a list of (elem, cnt) pairs\n",
    "c.most_common()                 # n least common elements\n",
    "c += Counter()                  # remove zero and negative counts"
   ]
  },
  {
   "cell_type": "markdown",
   "id": "d836efff-7c03-4330-be18-1c38d3754dec",
   "metadata": {
    "jp-MarkdownHeadingCollapsed": true
   },
   "source": [
    "#### 1.b **defaultdict**"
   ]
  },
  {
   "cell_type": "markdown",
   "id": "8aefad0e-7f5c-43b0-934e-c398197b5044",
   "metadata": {},
   "source": [
    "defaultdict is a **dictionary-like object** which \n",
    "* provides all methods provided by a dictionary but \n",
    "* takes a first argument **(default_factory)** as a ***default data type*** for the dictionary.\n",
    "* Using defaultdict is faster than doing the same using dict.set_default method.\n",
    "\\\n",
    "\\\n",
    "***A defaultdict will never raise a KeyError. Any key that does not exist gets the value returned by the default factory.***"
   ]
  },
  {
   "cell_type": "code",
   "execution_count": 83,
   "id": "5e0ac361-865d-405c-9c9d-5aec172d8a7c",
   "metadata": {},
   "outputs": [],
   "source": [
    "from collections import defaultdict"
   ]
  },
  {
   "cell_type": "code",
   "execution_count": 64,
   "id": "37faea38-6d23-4dcc-aee4-41d29d971bb8",
   "metadata": {},
   "outputs": [
    {
     "name": "stdout",
     "output_type": "stream",
     "text": [
      "one\n"
     ]
    }
   ],
   "source": [
    "d  = defaultdict(object)\n",
    "\n",
    "d['one'] \n",
    "\n",
    "for item in d:\n",
    "    print(item)"
   ]
  },
  {
   "cell_type": "code",
   "execution_count": 66,
   "id": "024e0480-567f-4f3c-89be-5a063c46b308",
   "metadata": {},
   "outputs": [
    {
     "data": {
      "text/plain": [
       "0"
      ]
     },
     "execution_count": 66,
     "metadata": {},
     "output_type": "execute_result"
    }
   ],
   "source": [
    "# Can also initialize with default values:\n",
    "d = defaultdict(lambda: 0)\n",
    "\n",
    "d['one']"
   ]
  },
  {
   "cell_type": "markdown",
   "id": "1fbf7b54-8676-4c90-a6d5-878881d40471",
   "metadata": {
    "jp-MarkdownHeadingCollapsed": true
   },
   "source": [
    "#### 1.c **namedtuple**"
   ]
  },
  {
   "cell_type": "markdown",
   "id": "8179bd20-6667-43d2-95ec-77809ef03e3e",
   "metadata": {},
   "source": [
    "* The standard tuple uses numerical indexes to access its members\n",
    "* A namedtuple assigns names, as well as the numerical index, to each member.\n",
    "<br/>\n",
    "<br/>\n",
    "* Each kind of namedtuple is represented by its own class, *created by using the* **namedtuple() factory** function.\n",
    "* The **arguments are**:\n",
    "    * the *name of the new class* and\n",
    "    * A *string* containing the ***names of the elements***.\n",
    "\n",
    "*You can basically think of namedtuples as a very quick way of creating a new object/class type with some attribute fields.*"
   ]
  },
  {
   "cell_type": "code",
   "execution_count": 95,
   "id": "18afe820-9dbf-41d6-a95b-1125d74df20b",
   "metadata": {},
   "outputs": [],
   "source": [
    "from collections import namedtuple"
   ]
  },
  {
   "cell_type": "code",
   "execution_count": 97,
   "id": "40f89451-e93a-43cc-9dd1-4d65a18fea05",
   "metadata": {},
   "outputs": [],
   "source": [
    "Dog = namedtuple('Dog',['age','breed','name'])\n",
    "\n",
    "sam = Dog(age=2,breed='Lab',name='Sammy')\n",
    "\n",
    "frank = Dog(age=2,breed='Shepard',name=\"Frankie\")"
   ]
  },
  {
   "cell_type": "markdown",
   "id": "e75c5d37-442a-4843-8cef-e348565500c5",
   "metadata": {},
   "source": [
    "*We construct the namedtuple by*\n",
    "* *first passing the object type name (Dog) and*\n",
    "* *then passing a string with the variety of fields as a string with spaces between the field names.*\n",
    "\n",
    "*We can then call on the various attributes:*"
   ]
  },
  {
   "cell_type": "code",
   "execution_count": 100,
   "id": "66c81c62-5d30-4241-b4e8-baa76360b4f7",
   "metadata": {},
   "outputs": [
    {
     "data": {
      "text/plain": [
       "Dog(age=2, breed='Lab', name='Sammy')"
      ]
     },
     "execution_count": 100,
     "metadata": {},
     "output_type": "execute_result"
    }
   ],
   "source": [
    "sam"
   ]
  },
  {
   "cell_type": "code",
   "execution_count": 102,
   "id": "dd383183-1805-4a12-9c29-e1f0bc182b9f",
   "metadata": {},
   "outputs": [
    {
     "data": {
      "text/plain": [
       "2"
      ]
     },
     "execution_count": 102,
     "metadata": {},
     "output_type": "execute_result"
    }
   ],
   "source": [
    "sam.age"
   ]
  },
  {
   "cell_type": "code",
   "execution_count": 105,
   "id": "c69abe5e-b7b3-4c5f-aa67-c86e4eaab065",
   "metadata": {},
   "outputs": [
    {
     "data": {
      "text/plain": [
       "'Lab'"
      ]
     },
     "execution_count": 105,
     "metadata": {},
     "output_type": "execute_result"
    }
   ],
   "source": [
    "sam.breed"
   ]
  },
  {
   "cell_type": "code",
   "execution_count": 107,
   "id": "32c4a4a6-4ce2-4eca-8421-043934bed909",
   "metadata": {},
   "outputs": [
    {
     "data": {
      "text/plain": [
       "2"
      ]
     },
     "execution_count": 107,
     "metadata": {},
     "output_type": "execute_result"
    }
   ],
   "source": [
    "sam[0]"
   ]
  },
  {
   "cell_type": "markdown",
   "id": "e3ad9dff-9b57-48e9-8e97-3db9d19dd0d3",
   "metadata": {},
   "source": [
    "### 2. Python OS Module and SHUTIL utility Modules\n",
    "#### *Opening and Reading Files and Folders*"
   ]
  },
  {
   "cell_type": "markdown",
   "id": "db260d29-3c1e-4373-af2b-5778c9fafd80",
   "metadata": {},
   "source": [
    "<span style=\"font-size: 16px;\"/> **Open Files Programatically**"
   ]
  },
  {
   "cell_type": "markdown",
   "id": "1cc94496-828f-4d20-abfa-3d4bee59dd2f",
   "metadata": {
    "jp-MarkdownHeadingCollapsed": true
   },
   "source": [
    "#### 2.a **OS** Module - list dir and pwd"
   ]
  },
  {
   "cell_type": "code",
   "execution_count": 154,
   "id": "f8f654ca-402b-499e-afee-66bc650045a0",
   "metadata": {},
   "outputs": [
    {
     "data": {
      "text/plain": [
       "'/Users/evib21/IT/Python'"
      ]
     },
     "execution_count": 154,
     "metadata": {},
     "output_type": "execute_result"
    }
   ],
   "source": [
    "pwd"
   ]
  },
  {
   "cell_type": "code",
   "execution_count": 130,
   "id": "524b3383-721f-465b-8382-85d1a7895730",
   "metadata": {},
   "outputs": [],
   "source": [
    "# Create a file\n",
    "f = open('practice.txt', 'w+') # if file doesn'y exist it will create\n",
    "f.write('test')\n",
    "f.close()"
   ]
  },
  {
   "cell_type": "code",
   "execution_count": 134,
   "id": "dc539444-63eb-4242-9e9f-064dba22d733",
   "metadata": {},
   "outputs": [],
   "source": [
    "import os"
   ]
  },
  {
   "cell_type": "code",
   "execution_count": 136,
   "id": "17d6ed87-7159-4f81-8d84-f4eff463f37f",
   "metadata": {},
   "outputs": [
    {
     "data": {
      "text/plain": [
       "'/Users/evib21/IT/Python'"
      ]
     },
     "execution_count": 136,
     "metadata": {},
     "output_type": "execute_result"
    }
   ],
   "source": [
    "os.getcwd()"
   ]
  },
  {
   "cell_type": "code",
   "execution_count": 138,
   "id": "7bffa581-8170-4f07-948a-706710e35e0b",
   "metadata": {},
   "outputs": [
    {
     "data": {
      "text/plain": [
       "['Unittest',\n",
       " 'section9_name_and_main',\n",
       " 'pylint',\n",
       " 'Python_Udemy_Windows_update_json.ipynb',\n",
       " 'anaconda_projects',\n",
       " 'Modules_and_Packages',\n",
       " 'practice.txt',\n",
       " 'M2: Blackjack Logic',\n",
       " '__pycache__',\n",
       " '.gitignore',\n",
       " '.ipynb_checkpoints',\n",
       " 'Python_Udemy_Notes_Mac.ipynb',\n",
       " '.git',\n",
       " '.idea']"
      ]
     },
     "execution_count": 138,
     "metadata": {},
     "output_type": "execute_result"
    }
   ],
   "source": [
    "os.listdir()"
   ]
  },
  {
   "cell_type": "code",
   "execution_count": 144,
   "id": "db406823-e377-46c9-97d4-1c6792a14f4c",
   "metadata": {},
   "outputs": [
    {
     "data": {
      "text/plain": [
       "['.DS_Store', 'Python', 'Git']"
      ]
     },
     "execution_count": 144,
     "metadata": {},
     "output_type": "execute_result"
    }
   ],
   "source": [
    "os.listdir('/Users/evib21/IT')"
   ]
  },
  {
   "cell_type": "markdown",
   "id": "1173259f-af69-4778-be65-418fe9d88f81",
   "metadata": {
    "jp-MarkdownHeadingCollapsed": true
   },
   "source": [
    "#### 2.b **shutil** - Moving Files"
   ]
  },
  {
   "cell_type": "code",
   "execution_count": 152,
   "id": "8af20d05-a304-4be6-bc99-c0194ea8def0",
   "metadata": {},
   "outputs": [],
   "source": [
    "import shutil"
   ]
  },
  {
   "cell_type": "code",
   "execution_count": 156,
   "id": "9f01c196-53cc-4813-be34-911259cd27db",
   "metadata": {},
   "outputs": [
    {
     "data": {
      "text/plain": [
       "'/Users/evib21/IT/practice.txt'"
      ]
     },
     "execution_count": 156,
     "metadata": {},
     "output_type": "execute_result"
    }
   ],
   "source": [
    "shutil.move('practice.txt', '/Users/evib21/IT')"
   ]
  },
  {
   "cell_type": "code",
   "execution_count": 158,
   "id": "edda6795-e90b-45de-9ffa-20e9e874ab0a",
   "metadata": {},
   "outputs": [
    {
     "data": {
      "text/plain": [
       "'/Users/evib21/IT/Python/practice.txt'"
      ]
     },
     "execution_count": 158,
     "metadata": {},
     "output_type": "execute_result"
    }
   ],
   "source": [
    "shutil.move('/Users/evib21/IT/practice.txt', os.getcwd())"
   ]
  },
  {
   "cell_type": "markdown",
   "id": "d5f599ee-9c2b-4035-80af-ef4d6634db66",
   "metadata": {},
   "source": [
    "#### 2.c Deleting Files"
   ]
  },
  {
   "cell_type": "markdown",
   "id": "3a957192-954b-4132-ae86-e49c814cbeb0",
   "metadata": {},
   "source": [
    "NOTE: The os module provides 3 methods for deleting files:"
   ]
  },
  {
   "cell_type": "markdown",
   "id": "73542898-61b9-4037-9b07-b52bb0c7f283",
   "metadata": {},
   "source": []
  },
  {
   "cell_type": "code",
   "execution_count": null,
   "id": "74e02398-4b44-4b52-a91f-3a210927388d",
   "metadata": {},
   "outputs": [],
   "source": []
  },
  {
   "cell_type": "code",
   "execution_count": null,
   "id": "feaedcd0-d2a9-4d46-98fa-2d7abec0e849",
   "metadata": {},
   "outputs": [],
   "source": []
  },
  {
   "cell_type": "code",
   "execution_count": null,
   "id": "eed931a2-8649-4ca9-a865-88a405239596",
   "metadata": {},
   "outputs": [],
   "source": []
  },
  {
   "cell_type": "code",
   "execution_count": null,
   "id": "d4e7ef09-6fdb-43a9-9543-45fc6765f83c",
   "metadata": {},
   "outputs": [],
   "source": []
  },
  {
   "cell_type": "code",
   "execution_count": null,
   "id": "206766e1-6ad0-40a4-baea-ae95753844d9",
   "metadata": {},
   "outputs": [],
   "source": []
  },
  {
   "cell_type": "code",
   "execution_count": null,
   "id": "b0ef49bb-5bf2-4047-8fd9-d4334f98ca64",
   "metadata": {},
   "outputs": [],
   "source": []
  },
  {
   "cell_type": "code",
   "execution_count": null,
   "id": "036210d7-42b6-43a9-903b-6ef44d3cac58",
   "metadata": {},
   "outputs": [],
   "source": []
  },
  {
   "cell_type": "code",
   "execution_count": null,
   "id": "ca3150f3-9171-49fe-a3a1-304eb25402b7",
   "metadata": {},
   "outputs": [],
   "source": []
  },
  {
   "cell_type": "code",
   "execution_count": null,
   "id": "939d5332-f1cf-4b20-afd6-620c17f0fdf3",
   "metadata": {},
   "outputs": [],
   "source": []
  },
  {
   "cell_type": "code",
   "execution_count": null,
   "id": "d15db887-4c21-464e-ac93-592fbcb27b24",
   "metadata": {},
   "outputs": [],
   "source": []
  },
  {
   "cell_type": "code",
   "execution_count": null,
   "id": "0bf6762d-d94d-425d-9073-c818502b5d53",
   "metadata": {},
   "outputs": [],
   "source": []
  },
  {
   "cell_type": "code",
   "execution_count": null,
   "id": "1d3260b6-28fe-4f55-a30d-8b8f990c9a70",
   "metadata": {},
   "outputs": [],
   "source": []
  },
  {
   "cell_type": "code",
   "execution_count": null,
   "id": "7b639ee4-fe78-41e1-b0ea-29b7b5029441",
   "metadata": {},
   "outputs": [],
   "source": []
  },
  {
   "cell_type": "code",
   "execution_count": null,
   "id": "059a7e64-1797-4af0-9288-97718de0e7ba",
   "metadata": {},
   "outputs": [],
   "source": []
  },
  {
   "cell_type": "code",
   "execution_count": null,
   "id": "c2a0edaf-faad-4457-a555-9915cd602a8d",
   "metadata": {},
   "outputs": [],
   "source": []
  },
  {
   "cell_type": "code",
   "execution_count": null,
   "id": "77d32330-c15b-43a8-bf9d-73ca1fc97656",
   "metadata": {},
   "outputs": [],
   "source": []
  },
  {
   "cell_type": "code",
   "execution_count": null,
   "id": "28e4a762-ef51-4eda-bd02-1cf205c22b83",
   "metadata": {},
   "outputs": [],
   "source": []
  },
  {
   "cell_type": "code",
   "execution_count": null,
   "id": "febfda98-f9e8-4d6c-9859-a9968a39e66e",
   "metadata": {},
   "outputs": [],
   "source": []
  },
  {
   "cell_type": "code",
   "execution_count": null,
   "id": "43714dd5-b096-47e5-94f0-7b3a99e05065",
   "metadata": {},
   "outputs": [],
   "source": []
  },
  {
   "cell_type": "code",
   "execution_count": null,
   "id": "dcdbd750-5fc0-4a34-9bd3-e6f7cecf154c",
   "metadata": {},
   "outputs": [],
   "source": []
  },
  {
   "cell_type": "code",
   "execution_count": null,
   "id": "42b41d67-01a3-4657-aba8-0784335629d4",
   "metadata": {},
   "outputs": [],
   "source": []
  },
  {
   "cell_type": "code",
   "execution_count": null,
   "id": "fc310020-72f6-49b8-a5c9-d2ef19bb54d8",
   "metadata": {},
   "outputs": [],
   "source": []
  },
  {
   "cell_type": "code",
   "execution_count": null,
   "id": "3551435b-6b02-4b2a-85fa-feb19214430d",
   "metadata": {},
   "outputs": [],
   "source": []
  },
  {
   "cell_type": "code",
   "execution_count": null,
   "id": "cc4317b7-3c23-4e88-a325-c70b44d40ba6",
   "metadata": {},
   "outputs": [],
   "source": []
  },
  {
   "cell_type": "code",
   "execution_count": null,
   "id": "44d69688-d4ff-460b-b6ae-e29ec46d5cc3",
   "metadata": {},
   "outputs": [],
   "source": []
  },
  {
   "cell_type": "code",
   "execution_count": null,
   "id": "24657d71-d109-4acc-928a-64ba8ca3f105",
   "metadata": {},
   "outputs": [],
   "source": []
  },
  {
   "cell_type": "code",
   "execution_count": null,
   "id": "11f103c3-12fb-4014-9edd-441d553389d1",
   "metadata": {},
   "outputs": [],
   "source": []
  },
  {
   "cell_type": "code",
   "execution_count": null,
   "id": "f0a12c5a-385e-41e0-b0e0-1f89fe3af27a",
   "metadata": {},
   "outputs": [],
   "source": []
  },
  {
   "cell_type": "code",
   "execution_count": null,
   "id": "3f793f48-b108-41ed-b03f-3a57ea552b1c",
   "metadata": {},
   "outputs": [],
   "source": []
  },
  {
   "cell_type": "code",
   "execution_count": null,
   "id": "8d5030ab-4108-49b7-be6c-6908d83f3a7d",
   "metadata": {},
   "outputs": [],
   "source": []
  }
 ],
 "metadata": {
  "kernelspec": {
   "display_name": "Python [conda env:base] *",
   "language": "python",
   "name": "conda-base-py"
  },
  "language_info": {
   "codemirror_mode": {
    "name": "ipython",
    "version": 3
   },
   "file_extension": ".py",
   "mimetype": "text/x-python",
   "name": "python",
   "nbconvert_exporter": "python",
   "pygments_lexer": "ipython3",
   "version": "3.12.7"
  }
 },
 "nbformat": 4,
 "nbformat_minor": 5
}
