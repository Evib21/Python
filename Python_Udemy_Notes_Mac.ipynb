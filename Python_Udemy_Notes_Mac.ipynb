{
 "cells": [
  {
   "attachments": {},
   "cell_type": "markdown",
   "id": "3e6edf08-43cf-4d3e-bb24-c3245d460a78",
   "metadata": {
    "jp-MarkdownHeadingCollapsed": true
   },
   "source": [
    "## <h2 style=\"color: #4472C4;\"> Section 3: Python Object And Data Structure Basics </h2>"
   ]
  },
  {
   "cell_type": "markdown",
   "id": "a6b2c33c-cc39-452c-921c-f888b2c56548",
   "metadata": {
    "jp-MarkdownHeadingCollapsed": true
   },
   "source": [
    "### Python Numbers"
   ]
  },
  {
   "cell_type": "markdown",
   "id": "8f5f103c-e858-41bb-98ba-9451882f3ac2",
   "metadata": {
    "jp-MarkdownHeadingCollapsed": true
   },
   "source": [
    "#### Modulo or **\"Mod\" Operator** - Returns the remainder after a Division"
   ]
  },
  {
   "cell_type": "code",
   "execution_count": 19,
   "id": "410aa8cb-9bae-493e-ac00-98867db8a3b8",
   "metadata": {},
   "outputs": [
    {
     "data": {
      "text/plain": [
       "1.75"
      ]
     },
     "execution_count": 19,
     "metadata": {},
     "output_type": "execute_result"
    }
   ],
   "source": [
    "7/4"
   ]
  },
  {
   "cell_type": "code",
   "execution_count": 23,
   "id": "85a8d5d4-4653-49d0-8ba4-11ace4b7d020",
   "metadata": {},
   "outputs": [
    {
     "data": {
      "text/plain": [
       "3"
      ]
     },
     "execution_count": 23,
     "metadata": {},
     "output_type": "execute_result"
    }
   ],
   "source": [
    "7%4"
   ]
  },
  {
   "cell_type": "markdown",
   "id": "2301eae1-65b6-4434-adbb-eddeb6eba4cc",
   "metadata": {},
   "source": [
    "7 / 4        = 1 ==> 7  - (4x1) = 3 --> 1st remainder"
   ]
  },
  {
   "cell_type": "markdown",
   "id": "96284a64-adc5-4085-b759-c267650f2806",
   "metadata": {},
   "source": [
    "Then: 30 / 4 = 7 ==> 30 - (4x7) = 2 --> 2nd remainder    "
   ]
  },
  {
   "cell_type": "markdown",
   "id": "5e25580c-15b2-4bb1-a698-550baef599a3",
   "metadata": {},
   "source": [
    "Then: 20 / 4 = 5 ==> no more remainders"
   ]
  },
  {
   "cell_type": "markdown",
   "id": "94edff50-8fe5-4257-b490-98b227a11c14",
   "metadata": {},
   "source": [
    "Result: 7 / 4 = 1.75"
   ]
  },
  {
   "cell_type": "markdown",
   "id": "5d7867e1-a281-4938-b204-126b3006f6de",
   "metadata": {},
   "source": [
    "*Remainder is 3* Look at **1st remainder above**"
   ]
  },
  {
   "cell_type": "markdown",
   "id": "377f23b2-9516-4788-821e-889df33d3085",
   "metadata": {},
   "source": [
    "**If Mod returns 0 then EVEN Number**"
   ]
  },
  {
   "cell_type": "code",
   "execution_count": 41,
   "id": "1eea64e1-f5e0-4d9a-a5c5-6f9323aedd38",
   "metadata": {},
   "outputs": [
    {
     "data": {
      "text/plain": [
       "0"
      ]
     },
     "execution_count": 41,
     "metadata": {},
     "output_type": "execute_result"
    }
   ],
   "source": [
    "20%2"
   ]
  },
  {
   "cell_type": "markdown",
   "id": "4107dd53-16e9-4911-b065-666ff02b9568",
   "metadata": {},
   "source": [
    "Else Odd Number"
   ]
  },
  {
   "cell_type": "code",
   "execution_count": 45,
   "id": "f0e86f69-31c1-44c2-8c5d-4e072ecf3700",
   "metadata": {},
   "outputs": [
    {
     "data": {
      "text/plain": [
       "1"
      ]
     },
     "execution_count": 45,
     "metadata": {},
     "output_type": "execute_result"
    }
   ],
   "source": [
    "21%2"
   ]
  },
  {
   "cell_type": "markdown",
   "id": "fe1738af-eabf-436d-baa4-c0f54e013def",
   "metadata": {
    "jp-MarkdownHeadingCollapsed": true
   },
   "source": [
    "#### Exp Power ####"
   ]
  },
  {
   "cell_type": "code",
   "execution_count": 50,
   "id": "f94a45df-d186-4caf-9073-fab6612679b1",
   "metadata": {},
   "outputs": [
    {
     "data": {
      "text/plain": [
       "8"
      ]
     },
     "execution_count": 50,
     "metadata": {},
     "output_type": "execute_result"
    }
   ],
   "source": [
    "2 ** 3"
   ]
  },
  {
   "cell_type": "markdown",
   "id": "a4affe98-8245-4790-a4dc-ab3d2bfc9c54",
   "metadata": {
    "jp-MarkdownHeadingCollapsed": true
   },
   "source": [
    "### Variable Assignments ###"
   ]
  },
  {
   "cell_type": "markdown",
   "id": "ee057f59-229b-41cd-9473-bcea66cbc009",
   "metadata": {},
   "source": [
    "#### **Dynamic Data Types**"
   ]
  },
  {
   "attachments": {},
   "cell_type": "markdown",
   "id": "116af15c-4c1d-4c7c-8009-6e42aacfd9bc",
   "metadata": {},
   "source": [
    "**Reassign** var to different Data Types"
   ]
  },
  {
   "cell_type": "code",
   "execution_count": 59,
   "id": "6221a186-06ee-4096-ba08-f9f0b44de84a",
   "metadata": {},
   "outputs": [],
   "source": [
    "my_dogs = 2"
   ]
  },
  {
   "cell_type": "code",
   "execution_count": 61,
   "id": "19b44b74-0ae9-425b-a989-aa5e88d645e8",
   "metadata": {},
   "outputs": [],
   "source": [
    "my_dogs = [\"Sammy\", 'Frankie']"
   ]
  },
  {
   "cell_type": "code",
   "execution_count": 64,
   "id": "161ccf0d-d05a-4627-acd6-7d23cb773f79",
   "metadata": {},
   "outputs": [],
   "source": [
    "a = 5"
   ]
  },
  {
   "cell_type": "code",
   "execution_count": 68,
   "id": "2b1bad85-0757-41f9-8993-0ee86a62aecc",
   "metadata": {},
   "outputs": [],
   "source": [
    "a = 10"
   ]
  },
  {
   "cell_type": "code",
   "execution_count": 70,
   "id": "7a12d876-40dc-4a41-ab21-c90d64549596",
   "metadata": {},
   "outputs": [
    {
     "data": {
      "text/plain": [
       "10"
      ]
     },
     "execution_count": 70,
     "metadata": {},
     "output_type": "execute_result"
    }
   ],
   "source": [
    "a"
   ]
  },
  {
   "cell_type": "code",
   "execution_count": 72,
   "id": "504cdd87-ab96-4495-8137-bc62b658fb55",
   "metadata": {},
   "outputs": [
    {
     "data": {
      "text/plain": [
       "20"
      ]
     },
     "execution_count": 72,
     "metadata": {},
     "output_type": "execute_result"
    }
   ],
   "source": [
    "a + a"
   ]
  },
  {
   "cell_type": "code",
   "execution_count": 78,
   "id": "02785ad3-fc9f-4c21-b085-9a9b7a954424",
   "metadata": {},
   "outputs": [],
   "source": [
    "a = a + a"
   ]
  },
  {
   "cell_type": "code",
   "execution_count": 80,
   "id": "7376f3e7-5896-4112-9823-e71792d0513d",
   "metadata": {},
   "outputs": [
    {
     "data": {
      "text/plain": [
       "40"
      ]
     },
     "execution_count": 80,
     "metadata": {},
     "output_type": "execute_result"
    }
   ],
   "source": [
    "a"
   ]
  },
  {
   "cell_type": "code",
   "execution_count": 82,
   "id": "27c2907e-5b8e-4b49-81b3-e14d43339b00",
   "metadata": {},
   "outputs": [
    {
     "data": {
      "text/plain": [
       "int"
      ]
     },
     "execution_count": 82,
     "metadata": {},
     "output_type": "execute_result"
    }
   ],
   "source": [
    "type(a)"
   ]
  },
  {
   "cell_type": "code",
   "execution_count": 84,
   "id": "7ac8bbef-c375-4d89-9057-e720569dafab",
   "metadata": {},
   "outputs": [],
   "source": [
    "a = 30.1"
   ]
  },
  {
   "cell_type": "code",
   "execution_count": 86,
   "id": "b5ae4e41-bbe0-4c04-9148-f5cde6d3687a",
   "metadata": {},
   "outputs": [
    {
     "data": {
      "text/plain": [
       "float"
      ]
     },
     "execution_count": 86,
     "metadata": {},
     "output_type": "execute_result"
    }
   ],
   "source": [
    "type(a)"
   ]
  },
  {
   "cell_type": "code",
   "execution_count": 88,
   "id": "60f5d298-4b85-4cbd-9a5a-c0a76d868cf3",
   "metadata": {},
   "outputs": [],
   "source": [
    "my_income = 100\n",
    "\n",
    "tax_rate = 0.1\n",
    "\n",
    "my_taxes = my_income * tax_rate"
   ]
  },
  {
   "cell_type": "code",
   "execution_count": 90,
   "id": "3ca0940b-901a-4119-b9db-1d385567bd90",
   "metadata": {},
   "outputs": [
    {
     "data": {
      "text/plain": [
       "10.0"
      ]
     },
     "execution_count": 90,
     "metadata": {},
     "output_type": "execute_result"
    }
   ],
   "source": [
    "my_taxes"
   ]
  },
  {
   "cell_type": "markdown",
   "id": "473ac956-4518-4db5-a83d-9a687ed4ff2a",
   "metadata": {
    "jp-MarkdownHeadingCollapsed": true
   },
   "source": [
    "### Intro To Strings"
   ]
  },
  {
   "cell_type": "markdown",
   "id": "4e32ea81-7ca1-4e7e-b600-82d77e8c3a9c",
   "metadata": {},
   "source": [
    "#### **Indexing** and **Slicing** *spaces count*"
   ]
  },
  {
   "cell_type": "raw",
   "id": "396fe59b-c517-409d-b19b-108fd3c2fbdc",
   "metadata": {},
   "source": [
    "Indexing:\n",
    "        Character: h  e  l  l  o\n",
    "        Index:     0  1  2  3  4\n",
    "        Reverse I: 0 -4 -3 -2 -1\n",
    "\n",
    "\n",
    "Slicing:  \n",
    "        [star:stop:step]\n",
    "                        Start = numerical index for the slice start\n",
    "                        Stop the index you go to, BUT NOT Include\n",
    "                        Step – size of the JUMP"
   ]
  },
  {
   "cell_type": "code",
   "execution_count": 97,
   "id": "f903eb29-e3e3-453d-8bf6-c528e342d12e",
   "metadata": {},
   "outputs": [
    {
     "data": {
      "text/plain": [
       "\"I don't\""
      ]
     },
     "execution_count": 97,
     "metadata": {},
     "output_type": "execute_result"
    }
   ],
   "source": [
    "\"I don't\""
   ]
  },
  {
   "cell_type": "code",
   "execution_count": 99,
   "id": "aec9e39a-67a7-47c1-aa1c-40af47e9e5bf",
   "metadata": {},
   "outputs": [
    {
     "name": "stdout",
     "output_type": "stream",
     "text": [
      "I don't\n"
     ]
    }
   ],
   "source": [
    "print(\"I don't\")"
   ]
  },
  {
   "cell_type": "markdown",
   "id": "d512361e-ba0f-40a6-910d-f6910efbd020",
   "metadata": {},
   "source": [
    "##### **Indexing**"
   ]
  },
  {
   "cell_type": "code",
   "execution_count": 140,
   "id": "cbb31671-705b-4294-b524-1c7355bd8842",
   "metadata": {},
   "outputs": [],
   "source": [
    "my_string = \"Hello World\""
   ]
  },
  {
   "cell_type": "code",
   "execution_count": 142,
   "id": "d2ab9791-d1d2-4c00-9dac-410f2ed4146a",
   "metadata": {},
   "outputs": [
    {
     "data": {
      "text/plain": [
       "'Hello World'"
      ]
     },
     "execution_count": 142,
     "metadata": {},
     "output_type": "execute_result"
    }
   ],
   "source": [
    "my_string"
   ]
  },
  {
   "cell_type": "code",
   "execution_count": 128,
   "id": "f08df944-00f4-47e3-9a60-1eee7f5f8f5e",
   "metadata": {},
   "outputs": [
    {
     "data": {
      "text/plain": [
       "'H'"
      ]
     },
     "execution_count": 128,
     "metadata": {},
     "output_type": "execute_result"
    }
   ],
   "source": [
    "my_string[0]"
   ]
  },
  {
   "cell_type": "code",
   "execution_count": 130,
   "id": "fc455880-49a5-4d7b-bd0d-22bb96670c29",
   "metadata": {},
   "outputs": [
    {
     "data": {
      "text/plain": [
       "'r'"
      ]
     },
     "execution_count": 130,
     "metadata": {},
     "output_type": "execute_result"
    }
   ],
   "source": [
    "my_string[8]"
   ]
  },
  {
   "cell_type": "code",
   "execution_count": 132,
   "id": "e06560c8-0580-48a1-8387-25019837f7c3",
   "metadata": {},
   "outputs": [
    {
     "data": {
      "text/plain": [
       "'r'"
      ]
     },
     "execution_count": 132,
     "metadata": {},
     "output_type": "execute_result"
    }
   ],
   "source": [
    "my_string[-3]"
   ]
  },
  {
   "cell_type": "markdown",
   "id": "63edd7b9-7d19-4ecb-8d10-5ab647cdd51c",
   "metadata": {
    "jp-MarkdownHeadingCollapsed": true
   },
   "source": [
    "##### **Slicing**"
   ]
  },
  {
   "cell_type": "code",
   "execution_count": 144,
   "id": "8814efbe-bd85-4b45-a31f-e0dc4960fd23",
   "metadata": {},
   "outputs": [],
   "source": [
    "my_string_2 = 'abcdefghijk'"
   ]
  },
  {
   "cell_type": "code",
   "execution_count": 146,
   "id": "418caf57-dabf-46fe-a9c0-fe5c3663aae7",
   "metadata": {},
   "outputs": [
    {
     "data": {
      "text/plain": [
       "'abcdefghijk'"
      ]
     },
     "execution_count": 146,
     "metadata": {},
     "output_type": "execute_result"
    }
   ],
   "source": [
    "my_string_2"
   ]
  },
  {
   "cell_type": "code",
   "execution_count": 148,
   "id": "c302d22d-1190-4221-8bfd-3c586d39aab6",
   "metadata": {},
   "outputs": [
    {
     "data": {
      "text/plain": [
       "'cdefghijk'"
      ]
     },
     "execution_count": 148,
     "metadata": {},
     "output_type": "execute_result"
    }
   ],
   "source": [
    "my_string_2[2:]"
   ]
  },
  {
   "cell_type": "code",
   "execution_count": 150,
   "id": "76769e09-b64b-4086-b988-033ca414da12",
   "metadata": {},
   "outputs": [
    {
     "data": {
      "text/plain": [
       "'abc'"
      ]
     },
     "execution_count": 150,
     "metadata": {},
     "output_type": "execute_result"
    }
   ],
   "source": [
    "my_string_2[:3]  ## up to letter D but NOT include"
   ]
  },
  {
   "cell_type": "code",
   "execution_count": 152,
   "id": "4ad9d920-2319-4d50-9ff9-8c912888e658",
   "metadata": {},
   "outputs": [
    {
     "data": {
      "text/plain": [
       "'def'"
      ]
     },
     "execution_count": 152,
     "metadata": {},
     "output_type": "execute_result"
    }
   ],
   "source": [
    "my_string_2[3:6]"
   ]
  },
  {
   "cell_type": "code",
   "execution_count": 154,
   "id": "02e37b8c-11fd-4ee3-be55-b5d339d6c637",
   "metadata": {},
   "outputs": [
    {
     "data": {
      "text/plain": [
       "'acegik'"
      ]
     },
     "execution_count": 154,
     "metadata": {},
     "output_type": "execute_result"
    }
   ],
   "source": [
    "my_string_2[::2]  ## grab everythin :: in a step size of 2"
   ]
  },
  {
   "cell_type": "raw",
   "id": "905d4743-9550-4003-a98e-2307545292f2",
   "metadata": {},
   "source": [
    "So, STEP Size -->  Instead of grabbing all letters with a space of one character, you grab every 2 characters apart\n",
    "\n",
    "You can use Revers Direction (Indexing) and Step Size"
   ]
  },
  {
   "cell_type": "code",
   "execution_count": 156,
   "id": "2fc6e2a2-d9a2-4fe6-9416-59fd1ad956f7",
   "metadata": {},
   "outputs": [
    {
     "data": {
      "text/plain": [
       "'kjihgfedcba'"
      ]
     },
     "execution_count": 156,
     "metadata": {},
     "output_type": "execute_result"
    }
   ],
   "source": [
    "my_string_2[::-1]"
   ]
  },
  {
   "cell_type": "markdown",
   "id": "30a74cd4-3e24-48d6-8444-8a839f0ed11d",
   "metadata": {},
   "source": [
    "#### **Escape Character**"
   ]
  },
  {
   "cell_type": "raw",
   "id": "2f58ae66-427b-4a5a-8e32-beb2984693a3",
   "metadata": {},
   "source": [
    "\\n  --> interrupts the line and inserts the other characters in a new line\n",
    "\n",
    "ex:\tPrint(“Hello \\n World”)\n",
    "output: \n",
    "        Hello\n",
    "        World"
   ]
  },
  {
   "cell_type": "code",
   "execution_count": 118,
   "id": "00c2e792-3759-4382-933a-e7d70adab324",
   "metadata": {},
   "outputs": [
    {
     "name": "stdout",
     "output_type": "stream",
     "text": [
      "Hello \n",
      " World\n"
     ]
    }
   ],
   "source": [
    "print('Hello \\n World')  ## break the line and insert remaining characters in new line"
   ]
  },
  {
   "cell_type": "code",
   "execution_count": 116,
   "id": "b22d793c-ba16-47ad-9976-2c6e359d9e3d",
   "metadata": {},
   "outputs": [
    {
     "name": "stdout",
     "output_type": "stream",
     "text": [
      "Hello \n",
      "World\n"
     ]
    }
   ],
   "source": [
    "print('Hello \\nWorld')   ## no space after n, aligns the new line below with current line"
   ]
  },
  {
   "cell_type": "code",
   "execution_count": 114,
   "id": "37d6b697-91b9-416f-a2b9-d8146d77987e",
   "metadata": {},
   "outputs": [
    {
     "name": "stdout",
     "output_type": "stream",
     "text": [
      "Hello \t World\n"
     ]
    }
   ],
   "source": [
    "print('Hello \\t World')  ## t for tab space"
   ]
  },
  {
   "cell_type": "code",
   "execution_count": 120,
   "id": "f8c79385-8bfe-4422-8ef3-ca1d3550e93b",
   "metadata": {},
   "outputs": [
    {
     "data": {
      "text/plain": [
       "5"
      ]
     },
     "execution_count": 120,
     "metadata": {},
     "output_type": "execute_result"
    }
   ],
   "source": [
    "len('hello')"
   ]
  },
  {
   "cell_type": "markdown",
   "id": "99184b10-e544-403c-9efa-2e1524ae4d24",
   "metadata": {
    "jp-MarkdownHeadingCollapsed": true
   },
   "source": [
    "### String Properties And Methods"
   ]
  },
  {
   "cell_type": "markdown",
   "id": "df7be33e-641a-4ea9-947b-c3da735123d9",
   "metadata": {
    "jp-MarkdownHeadingCollapsed": true
   },
   "source": [
    "#### **Immutability** & **String Concat**"
   ]
  },
  {
   "cell_type": "code",
   "execution_count": 162,
   "id": "dcee740c-aaa6-4972-9da0-f905dda83621",
   "metadata": {},
   "outputs": [],
   "source": [
    "name = 'Sam'"
   ]
  },
  {
   "cell_type": "code",
   "execution_count": 166,
   "id": "28cc30d2-b2b0-4909-af73-7b798b300ab0",
   "metadata": {},
   "outputs": [],
   "source": [
    "# name[0] = 'P' ## Trying to change 1st letter to P and change the word from Sam to Pam. This Is **NOT** Supported"
   ]
  },
  {
   "cell_type": "code",
   "execution_count": 170,
   "id": "08f7fb34-5bfc-4aea-ab0b-ca0eb059520c",
   "metadata": {},
   "outputs": [],
   "source": [
    "last_letters = name[1:]"
   ]
  },
  {
   "cell_type": "code",
   "execution_count": 172,
   "id": "e13a60a4-6eff-4127-9c44-04823843859a",
   "metadata": {},
   "outputs": [
    {
     "data": {
      "text/plain": [
       "'am'"
      ]
     },
     "execution_count": 172,
     "metadata": {},
     "output_type": "execute_result"
    }
   ],
   "source": [
    "last_letters"
   ]
  },
  {
   "cell_type": "code",
   "execution_count": 174,
   "id": "7ec4f797-b8a3-4ffa-b361-79b0142a501a",
   "metadata": {},
   "outputs": [
    {
     "data": {
      "text/plain": [
       "'Pam'"
      ]
     },
     "execution_count": 174,
     "metadata": {},
     "output_type": "execute_result"
    }
   ],
   "source": [
    "'P' + last_letters  # String Concatenation"
   ]
  },
  {
   "cell_type": "markdown",
   "id": "6d0f4a1c-2d3d-472d-b625-f362020e402a",
   "metadata": {
    "jp-MarkdownHeadingCollapsed": true
   },
   "source": [
    "#### String Multiplication"
   ]
  },
  {
   "cell_type": "code",
   "execution_count": 180,
   "id": "c94abec6-1cf6-4e74-ba1d-5d21199909f6",
   "metadata": {},
   "outputs": [],
   "source": [
    "letter = 'z'"
   ]
  },
  {
   "cell_type": "code",
   "execution_count": 182,
   "id": "30e28df7-8149-41a7-b8a1-50970a065086",
   "metadata": {},
   "outputs": [
    {
     "data": {
      "text/plain": [
       "'zzzzzzzzzz'"
      ]
     },
     "execution_count": 182,
     "metadata": {},
     "output_type": "execute_result"
    }
   ],
   "source": [
    "letter * 10"
   ]
  },
  {
   "cell_type": "code",
   "execution_count": 196,
   "id": "e825bf07-6cdc-4d79-b090-d3024c44785c",
   "metadata": {},
   "outputs": [
    {
     "data": {
      "text/plain": [
       "'Hi Hi Hi '"
      ]
     },
     "execution_count": 196,
     "metadata": {},
     "output_type": "execute_result"
    }
   ],
   "source": [
    "letter_2 = 'Hi'\n",
    "\n",
    "(letter_2 + ' ') * 3"
   ]
  },
  {
   "cell_type": "markdown",
   "id": "03d29893-3825-440e-92f9-58c2759fe4d2",
   "metadata": {
    "jp-MarkdownHeadingCollapsed": true
   },
   "source": [
    "#### Built In Methods\n",
    "\n",
    "By Hitting Tab after dot(.)"
   ]
  },
  {
   "cell_type": "code",
   "execution_count": 205,
   "id": "c97e7370-4648-43f9-ac30-4b3e6db657c1",
   "metadata": {},
   "outputs": [
    {
     "data": {
      "text/plain": [
       "'HELLO WORLD'"
      ]
     },
     "execution_count": 205,
     "metadata": {},
     "output_type": "execute_result"
    }
   ],
   "source": [
    "x = 'Hello World'\n",
    "\n",
    "x.upper()"
   ]
  },
  {
   "cell_type": "code",
   "execution_count": 213,
   "id": "e53dd0b3-b017-4e22-8dd2-225243e53ea3",
   "metadata": {},
   "outputs": [
    {
     "data": {
      "text/plain": [
       "['Hell', ' W', 'rld']"
      ]
     },
     "execution_count": 213,
     "metadata": {},
     "output_type": "execute_result"
    }
   ],
   "source": [
    "x.split()     # Split on space by default, and creates a list.\n",
    "\n",
    "x.split('o')    # You can define on what to split on as well. Ex: split on letter 'o' x.split('o'); In this case the space becomes part of the split."
   ]
  },
  {
   "cell_type": "markdown",
   "id": "377bc418-da95-4fc1-93aa-c280848b0bed",
   "metadata": {},
   "source": [
    "#### String Formatting For Printing"
   ]
  },
  {
   "cell_type": "raw",
   "id": "36970ca3-ea56-449c-a405-19d30942c4fa",
   "metadata": {},
   "source": [
    "Interpolation - Inject a var into the string\n",
    "\n",
    "Ex: print(\"Hello\" + var)\n",
    "\n",
    "2 Methods:\n",
    "            .format method\n",
    "            f-strings (formatted string literals)"
   ]
  },
  {
   "cell_type": "markdown",
   "id": "d428b182-7a73-42da-b9d6-fcbb241cccfd",
   "metadata": {},
   "source": [
    "##### **.Format Method**"
   ]
  },
  {
   "cell_type": "code",
   "execution_count": 985,
   "id": "04e4a921-a00e-46e5-b8e0-d2f3f625a672",
   "metadata": {},
   "outputs": [
    {
     "name": "stdout",
     "output_type": "stream",
     "text": [
      "The format method, works like this and you can type after the method as well\n"
     ]
    }
   ],
   "source": [
    "print('The format method, {}'.format('works like this'), 'and you can type after the method as well')\n",
    "\n",
    "#If youo type after .format(), don't forget the COMMA"
   ]
  },
  {
   "cell_type": "code",
   "execution_count": 241,
   "id": "eb2f7d28-f652-4ad4-a0e6-8dbe39508c98",
   "metadata": {},
   "outputs": [
    {
     "name": "stdout",
     "output_type": "stream",
     "text": [
      "It prints in the order inserted\n"
     ]
    }
   ],
   "source": [
    "print('It prints {} {} {} {}'.format('in', 'the', 'order', 'inserted'))"
   ]
  },
  {
   "cell_type": "code",
   "execution_count": 247,
   "id": "0736a611-01b9-4c30-bb56-49b7b515a8b2",
   "metadata": {},
   "outputs": [
    {
     "name": "stdout",
     "output_type": "stream",
     "text": [
      "You can also specify the order by index\n"
     ]
    }
   ],
   "source": [
    "print('You can also {4} {0} {2} {3} {1}'.format('the', 'index', 'order', 'by', 'specify'))"
   ]
  },
  {
   "cell_type": "code",
   "execution_count": 253,
   "id": "0a8fa9a7-677e-4507-9f52-22caef2f3e6d",
   "metadata": {},
   "outputs": [
    {
     "name": "stdout",
     "output_type": "stream",
     "text": [
      "Hello key words assigned\n"
     ]
    }
   ],
   "source": [
    "print('Hello, {k} {w} {a}'.format( k = 'key', w = 'words', a = 'assigned'))"
   ]
  },
  {
   "cell_type": "code",
   "execution_count": 269,
   "id": "5720fa7e-cf44-4c03-8983-6fa769b4ab61",
   "metadata": {},
   "outputs": [
    {
     "name": "stdout",
     "output_type": "stream",
     "text": [
      "can repeat either by index or key word assigned: repeat like this: ~~~ mix and match mix and match mix and match\n"
     ]
    }
   ],
   "source": [
    "print('can repeat either by index or key word assigned: {0} {l} {m} {m} {m}'.format('repeat', l = 'like this: ~~~', m = 'mix and match'))"
   ]
  },
  {
   "cell_type": "markdown",
   "id": "e50514a9-4f2f-4d0d-8d14-7fcfc3cf33dd",
   "metadata": {},
   "source": [
    "**Float Formatting**: \"{value: width.precision f}\""
   ]
  },
  {
   "cell_type": "code",
   "execution_count": 276,
   "id": "96cc620b-785f-48e3-bb9f-66b558cbfb39",
   "metadata": {},
   "outputs": [
    {
     "data": {
      "text/plain": [
       "0.1287001287001287"
      ]
     },
     "execution_count": 276,
     "metadata": {},
     "output_type": "execute_result"
    }
   ],
   "source": [
    "result = 100 / 777\n",
    "\n",
    "result"
   ]
  },
  {
   "cell_type": "code",
   "execution_count": 282,
   "id": "699630c3-cc41-4b7c-b0be-a8904f3e0a76",
   "metadata": {},
   "outputs": [
    {
     "name": "stdout",
     "output_type": "stream",
     "text": [
      "The result was 0.129\n"
     ]
    }
   ],
   "source": [
    "print (\"The result was {r:1.3f}\".format(r=result))"
   ]
  },
  {
   "cell_type": "markdown",
   "id": "deec4510-cfaa-447d-b1d3-e7e72b72e75c",
   "metadata": {
    "jp-MarkdownHeadingCollapsed": true
   },
   "source": [
    "##### **f - Strings**"
   ]
  },
  {
   "cell_type": "code",
   "execution_count": 292,
   "id": "d67d96f8-dfe6-4dee-a1c3-490262044011",
   "metadata": {},
   "outputs": [
    {
     "name": "stdout",
     "output_type": "stream",
     "text": [
      "you insert f at the beginning and the var directly here rather than calling dot.format method at the end\n"
     ]
    }
   ],
   "source": [
    "f_string = 'rather than calling dot.format method at the end'\n",
    "\n",
    "print(f'you insert f at the beginning and the var directly here {f_string}')"
   ]
  },
  {
   "cell_type": "markdown",
   "id": "aaffcc24-6fd5-4ef6-a28c-b9c1cb2a6c0f",
   "metadata": {
    "jp-MarkdownHeadingCollapsed": true
   },
   "source": [
    "### **Python Lists**"
   ]
  },
  {
   "cell_type": "raw",
   "id": "becc9bd7-29be-451b-b4d4-4ce444e3c2e2",
   "metadata": {},
   "source": [
    "1. Indexing and Slicing\n",
    "2. Can be Nested\n",
    "3. Can Call Methods: .append(), .pop(index can be used)\n",
    "4. Hold a Variety od Objects\n",
    "5. MUTABLE\n",
    "6. Can be sorted: alphabet or numbers"
   ]
  },
  {
   "cell_type": "code",
   "execution_count": 298,
   "id": "db60d033-d0d7-4a18-b3e1-eca1551df765",
   "metadata": {},
   "outputs": [
    {
     "data": {
      "text/plain": [
       "3"
      ]
     },
     "execution_count": 298,
     "metadata": {},
     "output_type": "execute_result"
    }
   ],
   "source": [
    "l = [1,2,3]              # Basic List Syntax\n",
    "\n",
    "l_2 = ['str', 200, 1.57] # Lists can hold variety of objects\n",
    "\n",
    "len(l_2)                 # Check the length of the list"
   ]
  },
  {
   "cell_type": "code",
   "execution_count": 302,
   "id": "b1499821-f9b9-42b3-ab3a-b41726c294c1",
   "metadata": {},
   "outputs": [
    {
     "data": {
      "text/plain": [
       "['str', 200]"
      ]
     },
     "execution_count": 302,
     "metadata": {},
     "output_type": "execute_result"
    }
   ],
   "source": [
    "l_2[:2]                  # Indexing And Slicing"
   ]
  },
  {
   "cell_type": "code",
   "execution_count": 348,
   "id": "50a17629-9a02-430e-a303-daddf47cc8df",
   "metadata": {},
   "outputs": [
    {
     "data": {
      "text/plain": [
       "[1, 2, 3, 'str', 200, 1.57]"
      ]
     },
     "execution_count": 348,
     "metadata": {},
     "output_type": "execute_result"
    }
   ],
   "source": [
    "l + l_2                  # Concatenate Lists"
   ]
  },
  {
   "cell_type": "markdown",
   "id": "75e1559e-27dd-4c56-b8d2-ebdbe6d5b3c7",
   "metadata": {},
   "source": [
    "A list is **MUTABLE**, you can change objects inside"
   ]
  },
  {
   "cell_type": "code",
   "execution_count": 351,
   "id": "9ed1c362-bdfe-4716-a2d8-02236b7dec79",
   "metadata": {},
   "outputs": [
    {
     "data": {
      "text/plain": [
       "[1,\n",
       " 2,\n",
       " 3,\n",
       " 'I changed the str object inside this list that was located at index 3',\n",
       " 200,\n",
       " 1.57]"
      ]
     },
     "execution_count": 351,
     "metadata": {},
     "output_type": "execute_result"
    }
   ],
   "source": [
    "new_l = l + l_2\n",
    "\n",
    "new_l[3] = 'I changed the str object inside this list that was located at index 3'\n",
    "\n",
    "new_l"
   ]
  },
  {
   "cell_type": "code",
   "execution_count": 357,
   "id": "6b509548-daec-48f4-a1c7-f1d8a0b73e1d",
   "metadata": {},
   "outputs": [
    {
     "data": {
      "text/plain": [
       "[1,\n",
       " 2,\n",
       " 3,\n",
       " 'I changed the str object inside this list that was located at index 3',\n",
       " 200,\n",
       " 1.57,\n",
       " 'added new object at the end of the list by calling a FUNCTION',\n",
       " 'added new object at the end of the list by calling a FUNCTION',\n",
       " 'added new object at the end of the list by calling a FUNCTION']"
      ]
     },
     "execution_count": 357,
     "metadata": {},
     "output_type": "execute_result"
    }
   ],
   "source": [
    "new_l.append('added new object at the end of the list by calling a FUNCTION')\n",
    "\n",
    "new_l"
   ]
  },
  {
   "cell_type": "code",
   "execution_count": 361,
   "id": "8fe551a6-6fd9-44aa-8c30-67c2dedec1a2",
   "metadata": {},
   "outputs": [
    {
     "data": {
      "text/plain": [
       "'added new object at the end of the list by calling a FUNCTION'"
      ]
     },
     "execution_count": 361,
     "metadata": {},
     "output_type": "execute_result"
    }
   ],
   "source": [
    "new_l.pop()             # Removing an item from the list"
   ]
  },
  {
   "cell_type": "code",
   "execution_count": 363,
   "id": "880f55f9-a3aa-44ca-b8d3-11912dffc478",
   "metadata": {},
   "outputs": [
    {
     "data": {
      "text/plain": [
       "[1,\n",
       " 2,\n",
       " 3,\n",
       " 'I changed the str object inside this list that was located at index 3',\n",
       " 200,\n",
       " 1.57,\n",
       " 'added new object at the end of the list by calling a FUNCTION']"
      ]
     },
     "execution_count": 363,
     "metadata": {},
     "output_type": "execute_result"
    }
   ],
   "source": [
    "new_l"
   ]
  },
  {
   "cell_type": "code",
   "execution_count": 365,
   "id": "23158b47-1154-4b2d-8beb-49acc1681e31",
   "metadata": {},
   "outputs": [
    {
     "data": {
      "text/plain": [
       "'added new object at the end of the list by calling a FUNCTION'"
      ]
     },
     "execution_count": 365,
     "metadata": {},
     "output_type": "execute_result"
    }
   ],
   "source": [
    "removed_item_with_pop_method = new_l.pop()\n",
    "\n",
    "removed_item_with_pop_method"
   ]
  },
  {
   "cell_type": "code",
   "execution_count": 367,
   "id": "e2ae8ddb-715c-45ab-9e2a-85c2df6175f8",
   "metadata": {},
   "outputs": [
    {
     "data": {
      "text/plain": [
       "[1,\n",
       " 2,\n",
       " 3,\n",
       " 'I changed the str object inside this list that was located at index 3',\n",
       " 200,\n",
       " 1.57]"
      ]
     },
     "execution_count": 367,
     "metadata": {},
     "output_type": "execute_result"
    }
   ],
   "source": [
    "new_l   # We can see now the list is back to origin, after adding with append, and removing with pop"
   ]
  },
  {
   "cell_type": "code",
   "execution_count": 369,
   "id": "a0002751-2cad-46fd-a087-c1a2a9352d26",
   "metadata": {},
   "outputs": [
    {
     "data": {
      "text/plain": [
       "'I changed the str object inside this list that was located at index 3'"
      ]
     },
     "execution_count": 369,
     "metadata": {},
     "output_type": "execute_result"
    }
   ],
   "source": [
    "new_l.pop(3)"
   ]
  },
  {
   "cell_type": "code",
   "execution_count": 372,
   "id": "5dafcbc3-2120-423c-a25e-937f2d3d0e17",
   "metadata": {},
   "outputs": [
    {
     "data": {
      "text/plain": [
       "[1, 2, 3, 200, 1.57]"
      ]
     },
     "execution_count": 372,
     "metadata": {},
     "output_type": "execute_result"
    }
   ],
   "source": [
    "new_l"
   ]
  },
  {
   "cell_type": "code",
   "execution_count": 374,
   "id": "e671a212-82c6-40ab-a941-6e8e3b7f61f1",
   "metadata": {},
   "outputs": [
    {
     "data": {
      "text/plain": [
       "[1, 2, 3, 200]"
      ]
     },
     "execution_count": 374,
     "metadata": {},
     "output_type": "execute_result"
    }
   ],
   "source": [
    "new_l.pop(-1)\n",
    "\n",
    "new_l"
   ]
  },
  {
   "cell_type": "code",
   "execution_count": 380,
   "id": "3a1a7278-2139-4c2d-a1b3-fab161031e79",
   "metadata": {},
   "outputs": [
    {
     "data": {
      "text/plain": [
       "[200, 3, 2, 1]"
      ]
     },
     "execution_count": 380,
     "metadata": {},
     "output_type": "execute_result"
    }
   ],
   "source": [
    "new_l.reverse()        # Sorting by reverse order.\n",
    "\n",
    "new_l                  # If you want to assign the sorted list to a new var, DONT assign directly to the method, but sort 1st, then assign to the actual var."
   ]
  },
  {
   "cell_type": "markdown",
   "id": "a71c77f3-b5af-4693-8f29-aa564f28f106",
   "metadata": {
    "jp-MarkdownHeadingCollapsed": true
   },
   "source": [
    "### **Dictonaries In Python**"
   ]
  },
  {
   "cell_type": "raw",
   "id": "66b4f641-dc8d-46e9-995f-7c1fadaa6454",
   "metadata": {},
   "source": [
    "1. Unordered Mappings for storing objects\n",
    "2. Instead use Key:Value Pairs \n",
    "3. Syntax { ' ' : ' ' , ' ' : ' ' }\n",
    "4. Cannot be SORTED\n",
    "5. Nested dictionaries inside or lists inside the key value pairs"
   ]
  },
  {
   "cell_type": "code",
   "execution_count": 387,
   "id": "f805c5bb-ba57-4e6b-b839-c99127703277",
   "metadata": {},
   "outputs": [
    {
     "data": {
      "text/plain": [
       "{'k1': 'v1', 'k2': 'v2'}"
      ]
     },
     "execution_count": 387,
     "metadata": {},
     "output_type": "execute_result"
    }
   ],
   "source": [
    "d = { 'k1':'v1' , 'k2':'v2' }\n",
    "\n",
    "d"
   ]
  },
  {
   "cell_type": "code",
   "execution_count": 391,
   "id": "047e4af2-1a54-4c73-978b-99f071504714",
   "metadata": {},
   "outputs": [
    {
     "data": {
      "text/plain": [
       "'v2'"
      ]
     },
     "execution_count": 391,
     "metadata": {},
     "output_type": "execute_result"
    }
   ],
   "source": [
    "d['k2']     # Lookup Value 2 by giving Key 2. So, provide key and get Value"
   ]
  },
  {
   "cell_type": "markdown",
   "id": "b4974c7f-8235-4b23-81be-ce7cbd1f890f",
   "metadata": {},
   "source": [
    "#### **Nested** Dict & Lists inside Dictionary"
   ]
  },
  {
   "cell_type": "code",
   "execution_count": 422,
   "id": "83c5ca44-204e-4190-8885-c18f70117032",
   "metadata": {},
   "outputs": [
    {
     "data": {
      "text/plain": [
       "3"
      ]
     },
     "execution_count": 422,
     "metadata": {},
     "output_type": "execute_result"
    }
   ],
   "source": [
    "di = { 'nested list':[1, 2, 3] , 'nested dictionary':{'price':100}, 'NL_2 to call methods on':['Hi', 'Hello'] }\n",
    "\n",
    "di['nested list'][2]  # Calling key value pair, and within that value which is a list indexing the specific value we want"
   ]
  },
  {
   "cell_type": "code",
   "execution_count": 396,
   "id": "5054af92-c09a-434d-ab6b-b3e0892b0691",
   "metadata": {},
   "outputs": [
    {
     "data": {
      "text/plain": [
       "{'price': 100}"
      ]
     },
     "execution_count": 396,
     "metadata": {},
     "output_type": "execute_result"
    }
   ],
   "source": [
    "di['nested dictionary']"
   ]
  },
  {
   "cell_type": "code",
   "execution_count": 398,
   "id": "f6aacbe3-fe8b-4578-b77b-1ab30bed4d9b",
   "metadata": {},
   "outputs": [
    {
     "data": {
      "text/plain": [
       "100"
      ]
     },
     "execution_count": 398,
     "metadata": {},
     "output_type": "execute_result"
    }
   ],
   "source": [
    "di['nested dictionary']['price']"
   ]
  },
  {
   "cell_type": "code",
   "execution_count": 426,
   "id": "c7dd95f0-44b8-4493-bca9-353952b70e71",
   "metadata": {},
   "outputs": [
    {
     "data": {
      "text/plain": [
       "'HELLO'"
      ]
     },
     "execution_count": 426,
     "metadata": {},
     "output_type": "execute_result"
    }
   ],
   "source": [
    "di['NL_2 to call methods on'][1].upper()"
   ]
  },
  {
   "cell_type": "code",
   "execution_count": 432,
   "id": "f3f3f012-de66-46f9-95bf-5223ed641058",
   "metadata": {},
   "outputs": [
    {
     "data": {
      "text/plain": [
       "{'nested list': [1, 2, 3],\n",
       " 'nested dictionary': {'price': 100},\n",
       " 'NL_2 to call methods on': ['Hi', 'Hello'],\n",
       " 'add new element': 'adding value here just like that'}"
      ]
     },
     "execution_count": 432,
     "metadata": {},
     "output_type": "execute_result"
    }
   ],
   "source": [
    "di['add new element'] = 'adding value here just like that'\n",
    "\n",
    "di"
   ]
  },
  {
   "cell_type": "code",
   "execution_count": 436,
   "id": "8b47f4fb-c448-4b1f-8fa1-e73c8f373ff1",
   "metadata": {},
   "outputs": [
    {
     "data": {
      "text/plain": [
       "{'nested list': [1, 2, 3],\n",
       " 'nested dictionary': {'price': 100},\n",
       " 'NL_2 to call methods on': 'Overwriting the existing value of this kew with NEW VALUE. It also just changed from list to String',\n",
       " 'add new element': 'adding value here just like that'}"
      ]
     },
     "execution_count": 436,
     "metadata": {},
     "output_type": "execute_result"
    }
   ],
   "source": [
    "di['NL_2 to call methods on'] = 'Overwriting the existing value of this kew with NEW VALUE. It also just changed from list to String'\n",
    "\n",
    "di"
   ]
  },
  {
   "cell_type": "code",
   "execution_count": 440,
   "id": "8fbacbca-df05-40b2-87c2-c5cb05a9fc05",
   "metadata": {},
   "outputs": [
    {
     "data": {
      "text/plain": [
       "dict_keys(['nested list', 'nested dictionary', 'NL_2 to call methods on', 'add new element'])"
      ]
     },
     "execution_count": 440,
     "metadata": {},
     "output_type": "execute_result"
    }
   ],
   "source": [
    "di.keys()"
   ]
  },
  {
   "cell_type": "code",
   "execution_count": 442,
   "id": "7497a8dc-347d-4107-a3d2-ad0d3debbc40",
   "metadata": {},
   "outputs": [
    {
     "data": {
      "text/plain": [
       "dict_values([[1, 2, 3], {'price': 100}, 'Overwriting the existing value of this kew with NEW VALUE. It also just changed from list to String', 'adding value here just like that'])"
      ]
     },
     "execution_count": 442,
     "metadata": {},
     "output_type": "execute_result"
    }
   ],
   "source": [
    "di.values()"
   ]
  },
  {
   "cell_type": "code",
   "execution_count": 444,
   "id": "459915ba-0e5b-4183-8392-a21f1e93b43f",
   "metadata": {},
   "outputs": [
    {
     "data": {
      "text/plain": [
       "dict_items([('nested list', [1, 2, 3]), ('nested dictionary', {'price': 100}), ('NL_2 to call methods on', 'Overwriting the existing value of this kew with NEW VALUE. It also just changed from list to String'), ('add new element', 'adding value here just like that')])"
      ]
     },
     "execution_count": 444,
     "metadata": {},
     "output_type": "execute_result"
    }
   ],
   "source": [
    "di.items()"
   ]
  },
  {
   "cell_type": "markdown",
   "id": "17f8cf9c-d891-48ce-8fdb-306a9fc5e922",
   "metadata": {
    "jp-MarkdownHeadingCollapsed": true
   },
   "source": [
    "### **Tuples**"
   ]
  },
  {
   "cell_type": "raw",
   "id": "4976c058-4fea-4fbe-8b4b-115adab9b839",
   "metadata": {},
   "source": [
    "1. Similar to LISTS: t = (1,2,3)\n",
    "2. IMMUTABLE \n",
    "3. Mix of Objects Supported\n",
    "4. Indexing and Slicing\n",
    "5. 2 methods only: count and index"
   ]
  },
  {
   "cell_type": "code",
   "execution_count": 449,
   "id": "2824835e-1649-42d8-bd76-eb80e058c2e8",
   "metadata": {},
   "outputs": [],
   "source": [
    "t = (1,2,3)\n",
    "\n",
    "l = [1,2,3]"
   ]
  },
  {
   "cell_type": "code",
   "execution_count": 451,
   "id": "21b3791e-2369-4f6b-ad7a-28963ebbcfe5",
   "metadata": {},
   "outputs": [
    {
     "data": {
      "text/plain": [
       "tuple"
      ]
     },
     "execution_count": 451,
     "metadata": {},
     "output_type": "execute_result"
    }
   ],
   "source": [
    "type(t)"
   ]
  },
  {
   "cell_type": "code",
   "execution_count": 453,
   "id": "b7e0a11b-2760-4888-8ca6-1f1fe3e8f988",
   "metadata": {},
   "outputs": [
    {
     "data": {
      "text/plain": [
       "list"
      ]
     },
     "execution_count": 453,
     "metadata": {},
     "output_type": "execute_result"
    }
   ],
   "source": [
    "type(l)"
   ]
  },
  {
   "cell_type": "code",
   "execution_count": 455,
   "id": "c9a0ac28-c99a-406f-baea-d8cbb5b8102c",
   "metadata": {},
   "outputs": [
    {
     "data": {
      "text/plain": [
       "3"
      ]
     },
     "execution_count": 455,
     "metadata": {},
     "output_type": "execute_result"
    }
   ],
   "source": [
    "len(t)"
   ]
  },
  {
   "cell_type": "markdown",
   "id": "bf9343ab-c9f1-46f7-a4da-52333a0993e1",
   "metadata": {
    "jp-MarkdownHeadingCollapsed": true
   },
   "source": [
    "### **Sets** - Unordered collection of Unique elements"
   ]
  },
  {
   "cell_type": "code",
   "execution_count": 463,
   "id": "e5a9d2e3-2452-40d8-a226-bcafcb9840f0",
   "metadata": {},
   "outputs": [],
   "source": [
    "s = set()"
   ]
  },
  {
   "cell_type": "code",
   "execution_count": 465,
   "id": "630d1965-7976-4897-b1a1-fe7e38d3475c",
   "metadata": {},
   "outputs": [],
   "source": [
    "s.add(1)"
   ]
  },
  {
   "cell_type": "code",
   "execution_count": 470,
   "id": "a33f9476-9411-4297-b851-c7b4883f3f13",
   "metadata": {},
   "outputs": [],
   "source": [
    "s.add(2)"
   ]
  },
  {
   "cell_type": "code",
   "execution_count": 473,
   "id": "b248cf0c-be40-4d16-9193-7069906e0491",
   "metadata": {},
   "outputs": [
    {
     "data": {
      "text/plain": [
       "{1, 2}"
      ]
     },
     "execution_count": 473,
     "metadata": {},
     "output_type": "execute_result"
    }
   ],
   "source": [
    "s"
   ]
  },
  {
   "cell_type": "code",
   "execution_count": 475,
   "id": "99b6576c-9a13-427d-a3d0-e4becdcea490",
   "metadata": {},
   "outputs": [
    {
     "data": {
      "text/plain": [
       "{1, 2}"
      ]
     },
     "execution_count": 475,
     "metadata": {},
     "output_type": "execute_result"
    }
   ],
   "source": [
    "s.add(2)\n",
    "\n",
    "s"
   ]
  },
  {
   "cell_type": "code",
   "execution_count": 481,
   "id": "a466d913-4f93-4fa6-ad27-d0aa6caa3f90",
   "metadata": {},
   "outputs": [
    {
     "data": {
      "text/plain": [
       "{2, 4, 6, 7, 8, 9}"
      ]
     },
     "execution_count": 481,
     "metadata": {},
     "output_type": "execute_result"
    }
   ],
   "source": [
    "random_list = [4,4,4,2,2,2,6,6,7,8,9,9,9,]\n",
    "\n",
    "set(random_list)  # Even though it looks as ordered, sets DONT have an order"
   ]
  },
  {
   "cell_type": "markdown",
   "id": "b7091746-e493-481b-bd0f-f7ac755fcf3a",
   "metadata": {
    "jp-MarkdownHeadingCollapsed": true
   },
   "source": [
    "### **Booleans** - True or False"
   ]
  },
  {
   "cell_type": "code",
   "execution_count": 540,
   "id": "7e9c5880-801e-4738-8d86-a2113405553e",
   "metadata": {},
   "outputs": [
    {
     "data": {
      "text/plain": [
       "False"
      ]
     },
     "execution_count": 540,
     "metadata": {},
     "output_type": "execute_result"
    }
   ],
   "source": [
    "1 > 2"
   ]
  },
  {
   "cell_type": "code",
   "execution_count": 542,
   "id": "fe3953dc-ee93-4d9f-8ef2-98b17f5a9d61",
   "metadata": {},
   "outputs": [
    {
     "data": {
      "text/plain": [
       "True"
      ]
     },
     "execution_count": 542,
     "metadata": {},
     "output_type": "execute_result"
    }
   ],
   "source": [
    "1 == 1"
   ]
  },
  {
   "cell_type": "markdown",
   "id": "7cb0df09-bc72-4257-b1f7-f7235db73d95",
   "metadata": {
    "jp-MarkdownHeadingCollapsed": true
   },
   "source": [
    "### **None** Data Type"
   ]
  },
  {
   "cell_type": "raw",
   "id": "01652e97-65c5-4880-89f2-f172e413832d",
   "metadata": {},
   "source": [
    "1. Assign a var = None\n",
    "2. Serves as Placeholder\n",
    "3. Doesn't return error\n",
    "4. Think of them as NULL (SQL)"
   ]
  },
  {
   "attachments": {},
   "cell_type": "markdown",
   "id": "93665304-fc72-4b5d-8cc8-8b764acc16dc",
   "metadata": {
    "jp-MarkdownHeadingCollapsed": true
   },
   "source": [
    "### **Files**: I/O w/ basic files"
   ]
  },
  {
   "cell_type": "markdown",
   "id": "0cfb7af1-a99f-4169-9666-0477367d1c82",
   "metadata": {},
   "source": [
    "#### Basic I/O; Create file (%%writefile myfile.txt); myfile.read(); myfile.seek(0); myfile.readlines()"
   ]
  },
  {
   "cell_type": "code",
   "execution_count": 662,
   "id": "1cf328c6-d4ce-4879-a771-23cf1b90795c",
   "metadata": {},
   "outputs": [
    {
     "name": "stdout",
     "output_type": "stream",
     "text": [
      "Overwriting myfile.txt\n"
     ]
    }
   ],
   "source": [
    "%%writefile myfile.txt\n",
    "\n",
    "Hello this is a text file\n",
    "this is the second line\n",
    "this is the third line"
   ]
  },
  {
   "cell_type": "code",
   "execution_count": 555,
   "id": "8375f167-208c-42ac-bc66-af87017f2703",
   "metadata": {},
   "outputs": [
    {
     "data": {
      "text/plain": [
       "'/Users/evib21/Library/CloudStorage/OneDrive-Personal/All_Docs/Learn/Udemy/Python'"
      ]
     },
     "execution_count": 555,
     "metadata": {},
     "output_type": "execute_result"
    }
   ],
   "source": [
    "pwd"
   ]
  },
  {
   "cell_type": "code",
   "execution_count": 557,
   "id": "a3f2630e-3e2d-46f4-b363-5cc99824c2db",
   "metadata": {},
   "outputs": [
    {
     "data": {
      "text/plain": [
       "'/Users/evib21/Library/CloudStorage/OneDrive-Personal/All_Docs/Learn/Udemy/Python'"
      ]
     },
     "execution_count": 557,
     "metadata": {},
     "output_type": "execute_result"
    }
   ],
   "source": [
    "pwd(myfile.txt)"
   ]
  },
  {
   "cell_type": "code",
   "execution_count": 559,
   "id": "f30396c4-ec80-4b5e-9e65-57b98eb43134",
   "metadata": {},
   "outputs": [
    {
     "data": {
      "text/plain": [
       "'/Users/evib21/Library/CloudStorage/OneDrive-Personal/All_Docs/Learn/Udemy/Python'"
      ]
     },
     "execution_count": 559,
     "metadata": {},
     "output_type": "execute_result"
    }
   ],
   "source": [
    "pwd(Python_Udemy_Notes_Mac.ipynb)"
   ]
  },
  {
   "cell_type": "code",
   "execution_count": 631,
   "id": "2748ba41-6e10-40b8-9a2a-ced07d32da42",
   "metadata": {},
   "outputs": [
    {
     "data": {
      "text/plain": [
       "'\\nHello this is a text file\\nthis is the second line\\nthis is the third line\\n'"
      ]
     },
     "execution_count": 631,
     "metadata": {},
     "output_type": "execute_result"
    }
   ],
   "source": [
    "myfile = open('myfile.txt')\n",
    "\n",
    "myfile.read()"
   ]
  },
  {
   "cell_type": "code",
   "execution_count": 567,
   "id": "7e6f7d2f-ca79-4a6f-a8d6-6160d4101865",
   "metadata": {},
   "outputs": [
    {
     "data": {
      "text/plain": [
       "''"
      ]
     },
     "execution_count": 567,
     "metadata": {},
     "output_type": "execute_result"
    }
   ],
   "source": [
    "myfile.read()"
   ]
  },
  {
   "cell_type": "code",
   "execution_count": 633,
   "id": "b8d939c1-961c-476c-bf78-1f14227633a9",
   "metadata": {},
   "outputs": [
    {
     "data": {
      "text/plain": [
       "'\\nHello this is a text file\\nthis is the second line\\nthis is the third line\\n'"
      ]
     },
     "execution_count": 633,
     "metadata": {},
     "output_type": "execute_result"
    }
   ],
   "source": [
    "myfile.seek(0)\n",
    "\n",
    "myfile.read()"
   ]
  },
  {
   "cell_type": "code",
   "execution_count": 635,
   "id": "31e62d9e-f7ea-42bb-84b1-a91f41b5bad1",
   "metadata": {},
   "outputs": [
    {
     "data": {
      "text/plain": [
       "['\\n',\n",
       " 'Hello this is a text file\\n',\n",
       " 'this is the second line\\n',\n",
       " 'this is the third line\\n']"
      ]
     },
     "execution_count": 635,
     "metadata": {},
     "output_type": "execute_result"
    }
   ],
   "source": [
    "myfile.seek(0)\n",
    "\n",
    "myfile.readlines()"
   ]
  },
  {
   "cell_type": "markdown",
   "id": "1525319e-7954-4e45-aa15-add698584b2c",
   "metadata": {
    "jp-MarkdownHeadingCollapsed": true
   },
   "source": [
    "#### **File Locations**"
   ]
  },
  {
   "cell_type": "raw",
   "id": "4b5b54a4-147a-4276-83d0-ba7894c4a425",
   "metadata": {},
   "source": [
    "1. Open txt in another location on your computer\n",
    "2. Provide full file path (different syntax for windows, mac, linux)\n",
    "    2.a) Windows:     myfile = open(\"C:\\\\Users\\\\UserName\\\\Folder\\\\test.txt\")\n",
    "    2.b) Mac & Linux: myfile = open(\"/Users/UserName/Folder/test.txt\")    \n",
    "3. open and close method used when reading file and then closing it.\n",
    "4. By using with as : you create code indendation (like defining a virtual table SQL) \n",
    "   and the var declared inside that piece of code can read the file; You dont worry about closing."
   ]
  },
  {
   "cell_type": "code",
   "execution_count": 594,
   "id": "34095e05-3eb9-43ef-a2f2-ea1e737e971b",
   "metadata": {},
   "outputs": [
    {
     "data": {
      "text/plain": [
       "'/Users/evib21/Library/CloudStorage/OneDrive-Personal/All_Docs/Learn/Udemy/Python'"
      ]
     },
     "execution_count": 594,
     "metadata": {},
     "output_type": "execute_result"
    }
   ],
   "source": [
    "pwd # example:"
   ]
  },
  {
   "cell_type": "code",
   "execution_count": 597,
   "id": "5c79997c-f200-465e-a81d-e5138b7ec637",
   "metadata": {},
   "outputs": [],
   "source": [
    "myfile.close()    # Always need to close the file, or next time will return error"
   ]
  },
  {
   "cell_type": "code",
   "execution_count": 637,
   "id": "62c50d7d-9dbc-43b7-8e5b-eb19e29e3f3d",
   "metadata": {},
   "outputs": [
    {
     "data": {
      "text/plain": [
       "0"
      ]
     },
     "execution_count": 637,
     "metadata": {},
     "output_type": "execute_result"
    }
   ],
   "source": [
    "myfile.seek(0)\n"
   ]
  },
  {
   "cell_type": "code",
   "execution_count": 639,
   "id": "107f4e63-6a6c-413e-9ba9-737313516555",
   "metadata": {},
   "outputs": [
    {
     "data": {
      "text/plain": [
       "['\\n',\n",
       " 'Hello this is a text file\\n',\n",
       " 'this is the second line\\n',\n",
       " 'this is the third line\\n']"
      ]
     },
     "execution_count": 639,
     "metadata": {},
     "output_type": "execute_result"
    }
   ],
   "source": [
    "with open('myfile.txt') as my_new_file:\n",
    "    contents = my_new_file.readlines()\n",
    "    # by doing this little trick you dont need to close the file now\n",
    "\n",
    "contents"
   ]
  },
  {
   "cell_type": "code",
   "execution_count": 641,
   "id": "76ff93ef-3fda-4877-8830-3c199a970836",
   "metadata": {},
   "outputs": [
    {
     "data": {
      "text/plain": [
       "['\\n',\n",
       " 'Hello this is a text file\\n',\n",
       " 'this is the second line\\n',\n",
       " 'this is the third line\\n']"
      ]
     },
     "execution_count": 641,
     "metadata": {},
     "output_type": "execute_result"
    }
   ],
   "source": [
    "with open('myfile.txt', mode='r') as my_new_file:\n",
    "    contents = my_new_file.readlines()\n",
    "\n",
    "contents"
   ]
  },
  {
   "cell_type": "code",
   "execution_count": 664,
   "id": "33cb5a12-bc00-4011-b34c-091eec1e1fa2",
   "metadata": {},
   "outputs": [
    {
     "name": "stdout",
     "output_type": "stream",
     "text": [
      "\n",
      "Hello this is a text file\n",
      "this is the second line\n",
      "this is the third line\n",
      "\n",
      "New Line Inserted with write\n"
     ]
    }
   ],
   "source": [
    "\n",
    "\n",
    "with open('myfile.txt', mode='a') as my_new_file:\n",
    "    my_new_file.write('\\nNew Line Inserted with write')\n",
    "\n",
    "with open('myfile.txt', mode='r') as my_new_file:\n",
    "    print(my_new_file.read())"
   ]
  },
  {
   "cell_type": "code",
   "execution_count": 666,
   "id": "7ccd2cc8-03e6-460f-bc19-92ed35218d67",
   "metadata": {},
   "outputs": [
    {
     "name": "stdout",
     "output_type": "stream",
     "text": [
      "Created File with w-mode\n"
     ]
    }
   ],
   "source": [
    "with open('doesnt exist.txt', mode='w') as w:  # it will create if the file doesnt exist, or write if it exists\n",
    "    w.write('Created File with w-mode')\n",
    "\n",
    "with open('doesnt exist.txt', mode='r') as r:\n",
    "    print(r.read())"
   ]
  },
  {
   "cell_type": "markdown",
   "id": "e9bd962f-f836-4029-8887-a7cd1e7bf368",
   "metadata": {
    "jp-MarkdownHeadingCollapsed": true
   },
   "source": [
    "## *Test: Object And Data Structure Basics*"
   ]
  },
  {
   "cell_type": "markdown",
   "id": "c00d52e2-b68a-4a84-8b71-875c5d47e545",
   "metadata": {
    "jp-MarkdownHeadingCollapsed": true
   },
   "source": [
    "#### Numbers"
   ]
  },
  {
   "cell_type": "code",
   "execution_count": 709,
   "id": "d188c157-c487-4834-bdfa-6e9a82906892",
   "metadata": {},
   "outputs": [
    {
     "data": {
      "text/plain": [
       "10.0"
      ]
     },
     "execution_count": 709,
     "metadata": {},
     "output_type": "execute_result"
    }
   ],
   "source": [
    "# What would you use to find a number’s square root, as well as its square?\n",
    "\n",
    "num = 100\n",
    "\n",
    "#Sqare \n",
    "num ** 2\n",
    "\n",
    "# Square ROOT\n",
    "num ** 0.5"
   ]
  },
  {
   "cell_type": "markdown",
   "id": "a8f5acf8-cbdc-4afb-8d3f-82b1bcc112e8",
   "metadata": {
    "jp-MarkdownHeadingCollapsed": true
   },
   "source": [
    "#### Strings"
   ]
  },
  {
   "cell_type": "code",
   "execution_count": 671,
   "id": "c7ea1e1c-e471-4d53-885a-224ad679bf11",
   "metadata": {},
   "outputs": [
    {
     "name": "stdout",
     "output_type": "stream",
     "text": [
      "olleh\n"
     ]
    }
   ],
   "source": [
    "# Reverse the string using slicing\n",
    "\n",
    "s = 'hello'\n",
    "reversed_s = s[::-1]\n",
    "print(reversed_s)"
   ]
  },
  {
   "cell_type": "markdown",
   "id": "ae3f8ac4-4308-4c97-b4ec-1d1b31534058",
   "metadata": {
    "jp-MarkdownHeadingCollapsed": true
   },
   "source": [
    "#### Lists"
   ]
  },
  {
   "cell_type": "code",
   "execution_count": 675,
   "id": "d013084d-6f3a-419b-99b2-8e56e7148f25",
   "metadata": {},
   "outputs": [
    {
     "name": "stdout",
     "output_type": "stream",
     "text": [
      "[0, 0, 0]\n"
     ]
    }
   ],
   "source": [
    "# Build this list [0,0,0] two separate ways.\n",
    "\n",
    "# Method 1:\n",
    "zeros = [0] * 3\n",
    "print(zeros)\n",
    "\n",
    "# Method 2:\n",
    "zero_list = [0] + [0] + [0] "
   ]
  },
  {
   "cell_type": "code",
   "execution_count": 683,
   "id": "b4e9efe2-d26e-40b6-93d9-aff3a0897e3a",
   "metadata": {},
   "outputs": [
    {
     "data": {
      "text/plain": [
       "[1, 2, [3, 4, 'goodbye']]"
      ]
     },
     "execution_count": 683,
     "metadata": {},
     "output_type": "execute_result"
    }
   ],
   "source": [
    "# Reassign 'hello' in this nested list to say 'goodbye' instead:\n",
    "\n",
    "list3 = [1,2,[3,4,'hello']]\n",
    "\n",
    "list3[2][2] = 'goodbye')\n",
    "list3"
   ]
  },
  {
   "cell_type": "code",
   "execution_count": 691,
   "id": "e669b3e5-2c77-40fb-88af-41059f73435b",
   "metadata": {},
   "outputs": [
    {
     "data": {
      "text/plain": [
       "[1, 3, 4, 5, 6]"
      ]
     },
     "execution_count": 691,
     "metadata": {},
     "output_type": "execute_result"
    }
   ],
   "source": [
    "# Sort the list below:\n",
    "\n",
    "list4 = [5,3,4,6,1]\n",
    "\n",
    "list4.sort()\n",
    "\n",
    "list4"
   ]
  },
  {
   "cell_type": "markdown",
   "id": "843976db-6360-41da-b4f8-dfd37998b605",
   "metadata": {
    "jp-MarkdownHeadingCollapsed": true
   },
   "source": [
    "#### Dictionaries"
   ]
  },
  {
   "cell_type": "markdown",
   "id": "c636e1f3-0d5f-4af4-bab8-dbd545b55303",
   "metadata": {},
   "source": [
    "*Using keys and indexing, grab the 'hello' from the following dictionaries:*"
   ]
  },
  {
   "cell_type": "code",
   "execution_count": 727,
   "id": "c8069d5b-ad40-4105-a0a0-a8f8d02baab9",
   "metadata": {},
   "outputs": [
    {
     "data": {
      "text/plain": [
       "'hello'"
      ]
     },
     "execution_count": 727,
     "metadata": {},
     "output_type": "execute_result"
    }
   ],
   "source": [
    "d = {'simple_key':'hello'}\n",
    "# Grab 'hello'\n",
    "\n",
    "d['simple_key']\n",
    "\n",
    "\n",
    "d = {'k1':{'k2':'hello'}}\n",
    "# Grab 'hello'\n",
    "\n",
    "d['k1']['k2']"
   ]
  },
  {
   "cell_type": "code",
   "execution_count": 734,
   "id": "0545db7d-70ba-453f-984a-354227df3cd8",
   "metadata": {},
   "outputs": [
    {
     "data": {
      "text/plain": [
       "['hello']"
      ]
     },
     "execution_count": 734,
     "metadata": {},
     "output_type": "execute_result"
    }
   ],
   "source": [
    "# Getting a little tricker\n",
    "d = {'k1':[{'nest_key':['this is deep',['hello']]}]}\n",
    "\n",
    "#Grab hello\n",
    "d['k1'][0]['nest_key'][1]"
   ]
  },
  {
   "cell_type": "code",
   "execution_count": 736,
   "id": "5e938b4e-6f40-40c1-ad3f-e776e4c96f05",
   "metadata": {},
   "outputs": [
    {
     "data": {
      "text/plain": [
       "['hello']"
      ]
     },
     "execution_count": 736,
     "metadata": {},
     "output_type": "execute_result"
    }
   ],
   "source": [
    "# This will be hard and annoying!\n",
    "d = {'k1':[1,2,{'k2':['this is tricky',{'tough':[1,2,['hello']]}]}]}\n",
    "\n",
    "d['k1'][2]['k2'][1]['tough'][2]"
   ]
  },
  {
   "cell_type": "markdown",
   "id": "29ac6111-f45b-4804-93be-70cafd26f58f",
   "metadata": {
    "jp-MarkdownHeadingCollapsed": true
   },
   "source": [
    "#### Tuples"
   ]
  },
  {
   "cell_type": "raw",
   "id": "7f0237e0-4dc3-41b5-bfbb-b2de3e12a4aa",
   "metadata": {},
   "source": [
    "Just like LISTS, BUT IMMUTABLE\n",
    "Syntax: (,,,)"
   ]
  },
  {
   "cell_type": "markdown",
   "id": "fe30defc-7c55-4bd3-98f6-0635e48be3a3",
   "metadata": {
    "jp-MarkdownHeadingCollapsed": true
   },
   "source": [
    "#### Sets"
   ]
  },
  {
   "cell_type": "markdown",
   "id": "5d1a819e-3bf8-4508-8fd0-9b35cc591eb9",
   "metadata": {},
   "source": [
    "unique values"
   ]
  },
  {
   "cell_type": "code",
   "execution_count": 746,
   "id": "d4dfc008-7ee4-46d6-b7c5-48197e12c76c",
   "metadata": {},
   "outputs": [
    {
     "data": {
      "text/plain": [
       "{1, 2, 3, 4, 11, 22, 33}"
      ]
     },
     "execution_count": 746,
     "metadata": {},
     "output_type": "execute_result"
    }
   ],
   "source": [
    "list5 = [1,2,2,33,4,4,11,22,3,3,2]\n",
    "\n",
    "set(list5)"
   ]
  },
  {
   "cell_type": "markdown",
   "id": "ead23f3f-08a9-4130-af69-f1f1541eacc5",
   "metadata": {},
   "source": [
    "#### Booleans"
   ]
  },
  {
   "cell_type": "code",
   "execution_count": 752,
   "id": "94555246-6445-45e9-9f66-0feef01ceaf1",
   "metadata": {},
   "outputs": [
    {
     "data": {
      "text/plain": [
       "True"
      ]
     },
     "execution_count": 752,
     "metadata": {},
     "output_type": "execute_result"
    }
   ],
   "source": [
    "3.0 == 3\n"
   ]
  },
  {
   "cell_type": "code",
   "execution_count": 754,
   "id": "2b9e3f83-48b7-47b8-bb30-3a08406372d7",
   "metadata": {},
   "outputs": [
    {
     "data": {
      "text/plain": [
       "False"
      ]
     },
     "execution_count": 754,
     "metadata": {},
     "output_type": "execute_result"
    }
   ],
   "source": [
    "# two nested lists\n",
    "l_one = [1,2,[3,4]]\n",
    "l_two = [1,2,{'k1':4}]\n",
    "\n",
    "# True or False?\n",
    "l_one[2][0] >= l_two[2]['k1']"
   ]
  },
  {
   "cell_type": "markdown",
   "id": "69f386ce-f1c6-4497-b6a3-da7d4d334b21",
   "metadata": {
    "jp-MarkdownHeadingCollapsed": true
   },
   "source": [
    "## <h2 style=\"color: #4472C4;\"> Section 4: Python Comparison Operators </h2>"
   ]
  },
  {
   "cell_type": "markdown",
   "id": "0a07ea47-85fc-4078-98e8-34351a2579e3",
   "metadata": {
    "jp-MarkdownHeadingCollapsed": true
   },
   "source": [
    "### Comparison Operators"
   ]
  },
  {
   "cell_type": "raw",
   "id": "6da4d688-4f6c-4c11-a173-5d77dad10159",
   "metadata": {},
   "source": [
    "Operator\n",
    "==\n",
    "!=\n",
    ">\n",
    "<\n",
    ">=\n",
    "<="
   ]
  },
  {
   "attachments": {},
   "cell_type": "markdown",
   "id": "4a989c98-e0af-4502-b3e3-d36fd6ab438e",
   "metadata": {
    "jp-MarkdownHeadingCollapsed": true
   },
   "source": [
    "### Chained Comparison Operators (<code>AND, OR, NOT</Code>)"
   ]
  },
  {
   "cell_type": "code",
   "execution_count": 770,
   "id": "549d45a7-36c7-4a4b-bf91-d1660b8cfdac",
   "metadata": {},
   "outputs": [
    {
     "data": {
      "text/plain": [
       "True"
      ]
     },
     "execution_count": 770,
     "metadata": {},
     "output_type": "execute_result"
    }
   ],
   "source": [
    "1 < 2 and 2 < 3"
   ]
  },
  {
   "cell_type": "code",
   "execution_count": 811,
   "id": "088e1028-7b9c-4e47-b257-f84e7baebeff",
   "metadata": {},
   "outputs": [
    {
     "data": {
      "text/plain": [
       "False"
      ]
     },
     "execution_count": 811,
     "metadata": {},
     "output_type": "execute_result"
    }
   ],
   "source": [
    "not (1 == 1)  # Gives the OPPOSITE of the Boolean Value"
   ]
  },
  {
   "cell_type": "markdown",
   "id": "ab787bcf-1bd0-4ac5-a400-a44c43a7cf0c",
   "metadata": {
    "jp-MarkdownHeadingCollapsed": true
   },
   "source": [
    "## <h2 style=\"color: #4472C4;\"> Section 5: Python <strong>Statements</strong> </h2> "
   ]
  },
  {
   "attachments": {},
   "cell_type": "markdown",
   "id": "aec09c6d-335a-4745-8122-23d98ba25573",
   "metadata": {
    "jp-MarkdownHeadingCollapsed": true
   },
   "source": [
    "### <code>if</code>, <code>elif</code>, and <code>else</code> Statements in Python \n",
    " **Control FLOW**"
   ]
  },
  {
   "cell_type": "code",
   "execution_count": 818,
   "id": "de6403b3-cbfd-4b06-a930-a78043c54428",
   "metadata": {},
   "outputs": [
    {
     "name": "stdout",
     "output_type": "stream",
     "text": [
      "It's TRUE!\n"
     ]
    }
   ],
   "source": [
    "if 3 > 1:\n",
    "    print(\"It's TRUE!\")"
   ]
  },
  {
   "cell_type": "code",
   "execution_count": 823,
   "id": "8f4d7af0-3343-414c-8d98-e54934364a15",
   "metadata": {},
   "outputs": [
    {
     "name": "stdout",
     "output_type": "stream",
     "text": [
      "It's finally Thurdsay!\n"
     ]
    }
   ],
   "source": [
    "play = True\n",
    "\n",
    "if play:\n",
    "    print(\"It's finally Thurdsay!\")\n",
    "else: print(\"Not Yet Thurdsay\")"
   ]
  },
  {
   "cell_type": "code",
   "execution_count": 825,
   "id": "921756ef-0020-4adc-91d6-b9ca4f9e5b6b",
   "metadata": {},
   "outputs": [
    {
     "name": "stdout",
     "output_type": "stream",
     "text": [
      "Not my expertise\n"
     ]
    }
   ],
   "source": [
    "loc = 'Bank'\n",
    "\n",
    "if loc == 'Auto Shop':\n",
    "    print(\"Cars are cool\")\n",
    "else: print(\"Not my expertise\")"
   ]
  },
  {
   "cell_type": "code",
   "execution_count": 827,
   "id": "2e872853-5946-41c5-9fa2-3a63f153db0c",
   "metadata": {},
   "outputs": [
    {
     "name": "stdout",
     "output_type": "stream",
     "text": [
      "That's my job\n"
     ]
    }
   ],
   "source": [
    "loc = 'Bank'\n",
    "\n",
    "if loc == 'Auto Shop':\n",
    "    print(\"Cars are cool\")\n",
    "elif loc == 'Bank':\n",
    "    print(\"That's my job\")\n",
    "else: print(\"Not my expertise\")"
   ]
  },
  {
   "cell_type": "markdown",
   "id": "a19c8af9-dc92-4981-8c34-234bb84ee062",
   "metadata": {
    "jp-MarkdownHeadingCollapsed": true
   },
   "source": [
    "### **<code>For</code>** Loops In Python (Iterable)"
   ]
  },
  {
   "cell_type": "code",
   "execution_count": 833,
   "id": "9b9959a7-4742-4116-8109-709a8c95441b",
   "metadata": {},
   "outputs": [],
   "source": [
    "l = [1,2,3,4,5,6,7,8,9,10]"
   ]
  },
  {
   "cell_type": "code",
   "execution_count": 835,
   "id": "6c02e105-c5da-4d52-8442-01fcf917a5bd",
   "metadata": {},
   "outputs": [
    {
     "name": "stdout",
     "output_type": "stream",
     "text": [
      "1\n",
      "2\n",
      "3\n",
      "4\n",
      "5\n",
      "6\n",
      "7\n",
      "8\n",
      "9\n",
      "10\n"
     ]
    }
   ],
   "source": [
    "for num in l:\n",
    "    print(num)"
   ]
  },
  {
   "cell_type": "code",
   "execution_count": 837,
   "id": "4e52bf8f-0a26-4f72-b0b8-7e4cfde25c4b",
   "metadata": {},
   "outputs": [
    {
     "name": "stdout",
     "output_type": "stream",
     "text": [
      "Anything you want\n",
      "Anything you want\n",
      "Anything you want\n",
      "Anything you want\n",
      "Anything you want\n",
      "Anything you want\n",
      "Anything you want\n",
      "Anything you want\n",
      "Anything you want\n",
      "Anything you want\n"
     ]
    }
   ],
   "source": [
    "for name_here_doesnt_really_matter in l:\n",
    "    print(\"Anything you want\")"
   ]
  },
  {
   "cell_type": "markdown",
   "id": "a4832160-1ba9-4d96-b54e-596c7790ee2d",
   "metadata": {},
   "source": [
    "### ***Combining Loops(Iterable) With Statements(Control Flow)***"
   ]
  },
  {
   "cell_type": "markdown",
   "id": "6f96bc90-5b97-4755-a952-e85fbf8adb97",
   "metadata": {
    "jp-MarkdownHeadingCollapsed": true
   },
   "source": [
    "#### Explaining for loops with simple examples and just using Lists"
   ]
  },
  {
   "cell_type": "code",
   "execution_count": 844,
   "id": "5667bbfc-7451-4365-aac8-17bc02f795b4",
   "metadata": {},
   "outputs": [],
   "source": [
    "l = [1,2,3,4,5,6,7,8,9,10]"
   ]
  },
  {
   "cell_type": "code",
   "execution_count": 846,
   "id": "214b0585-d824-44ed-8f08-238d459b1f10",
   "metadata": {},
   "outputs": [
    {
     "name": "stdout",
     "output_type": "stream",
     "text": [
      "2\n",
      "4\n",
      "6\n",
      "8\n",
      "10\n"
     ]
    }
   ],
   "source": [
    "for num in l:\n",
    "    #Check for EVEN numbers from the list above\n",
    "    #By using the MOD Operator which identifies the remainder of a division, meaning if 0 then even\n",
    "    if num % 2 == 0:\n",
    "        print(num)"
   ]
  },
  {
   "cell_type": "code",
   "execution_count": 854,
   "id": "441b64a6-6446-4b4b-b2cc-5b9d25f265b1",
   "metadata": {},
   "outputs": [
    {
     "name": "stdout",
     "output_type": "stream",
     "text": [
      "1 is an odd number.\n",
      "2 is an even number.\n",
      "3 is an odd number.\n",
      "4 is an even number.\n",
      "5 is an odd number.\n",
      "6 is an even number.\n",
      "7 is an odd number.\n",
      "8 is an even number.\n",
      "9 is an odd number.\n",
      "10 is an even number.\n"
     ]
    }
   ],
   "source": [
    "for num in l:\n",
    "    if num % 2 == 0:\n",
    "        print(f'{num} is an even number.')\n",
    "    else:\n",
    "        print(f\"{num} is an odd number.\")"
   ]
  },
  {
   "cell_type": "code",
   "execution_count": 858,
   "id": "bae558b8-ac33-4145-a652-a10f7b3537c4",
   "metadata": {},
   "outputs": [
    {
     "name": "stdout",
     "output_type": "stream",
     "text": [
      "1\n",
      "3\n",
      "6\n",
      "10\n",
      "15\n",
      "21\n",
      "28\n",
      "36\n",
      "45\n",
      "55\n",
      "55\n"
     ]
    }
   ],
   "source": [
    "l_total = 0\n",
    "\n",
    "for num in l:\n",
    "    l_total = l_total + num\n",
    "    print(l_total)  #Everytime you go through the loop or cycle you add the totals so far\n",
    "\n",
    "print(l_total)      # After all the loops have gone through you get the grand total only since is outside the for loop"
   ]
  },
  {
   "cell_type": "code",
   "execution_count": 860,
   "id": "56aae32e-e55d-41de-a618-0e710f9821c8",
   "metadata": {},
   "outputs": [
    {
     "name": "stdout",
     "output_type": "stream",
     "text": [
      "1 is an odd number.\n",
      "2 is an even number.\n",
      "3 is an odd number.\n",
      "4 is an even number.\n",
      "5 is an odd number.\n",
      "6 is an even number.\n",
      "7 is an odd number.\n",
      "8 is an even number.\n",
      "9 is an odd number.\n",
      "10 is an even number.\n"
     ]
    }
   ],
   "source": [
    "for num in [1,2,3,4,5,6,7,8,9,10]:\n",
    "    if num % 2 == 0:\n",
    "        print(f'{num} is an even number.')\n",
    "    else:\n",
    "        print(f\"{num} is an odd number.\")"
   ]
  },
  {
   "cell_type": "code",
   "execution_count": 864,
   "id": "d70d0fb5-f756-47f0-a388-492bb0b6d293",
   "metadata": {},
   "outputs": [
    {
     "name": "stdout",
     "output_type": "stream",
     "text": [
      "S\n",
      "t\n",
      "r\n",
      "i\n",
      "n\n",
      "g\n",
      " \n",
      "a\n",
      "n\n",
      "d\n",
      " \n",
      "S\n",
      "p\n",
      "a\n",
      "c\n",
      "e\n"
     ]
    }
   ],
   "source": [
    "for num in 'String and Space':\n",
    "    print(num) \n",
    "# It prints each letter of the string going INDEX based"
   ]
  },
  {
   "cell_type": "markdown",
   "id": "94875f33-bbe2-4db0-94f5-88cd8dd26166",
   "metadata": {
    "jp-MarkdownHeadingCollapsed": true
   },
   "source": [
    "#### Using Tuples, nested Tuples within Lists, and more **advanced examples**"
   ]
  },
  {
   "cell_type": "markdown",
   "id": "f3e1b877-0d95-434d-a69b-87f3eb1b43a7",
   "metadata": {},
   "source": [
    "##### **Tuple Unpacking**"
   ]
  },
  {
   "cell_type": "code",
   "execution_count": 870,
   "id": "5a931e10-24c8-4478-bd9a-7e61409a4b85",
   "metadata": {},
   "outputs": [],
   "source": [
    "t = [(1,2), (3,4), (5,6), (7,8)]"
   ]
  },
  {
   "cell_type": "code",
   "execution_count": 875,
   "id": "db4c5e35-6d6e-4095-b08e-1f45c614b408",
   "metadata": {},
   "outputs": [
    {
     "name": "stdout",
     "output_type": "stream",
     "text": [
      "(1, 2)\n",
      "(3, 4)\n",
      "(5, 6)\n",
      "(7, 8)\n"
     ]
    }
   ],
   "source": [
    "for item in t:\n",
    "    print(item)\n",
    "\n",
    "#We can see each item/object is a tuple pair"
   ]
  },
  {
   "cell_type": "code",
   "execution_count": 879,
   "id": "e3ac6ace-55c9-4ff9-923a-8a79a46ae0e5",
   "metadata": {},
   "outputs": [
    {
     "name": "stdout",
     "output_type": "stream",
     "text": [
      "1\n",
      "2\n",
      "3\n",
      "4\n",
      "5\n",
      "6\n",
      "7\n",
      "8\n"
     ]
    }
   ],
   "source": [
    "for (item_inside_tuple_pair_1, item_inside_tuple_pair_2) in t:\n",
    "    print(item_inside_tuple_pair_1)\n",
    "    print(item_inside_tuple_pair_2)\n",
    "\n",
    "#Here instead of just var item we defined a var of format (a, b) which represents in detail the nested tuple format within the list item\n",
    "#For the list (a, b) is just one item\n",
    "#For the tuple (a, b) is just a pair\n",
    "#We declared a var representing this pair so we have more granular level detail in our for-loop statement"
   ]
  },
  {
   "cell_type": "code",
   "execution_count": 896,
   "id": "14432d8c-fc3f-4f06-8235-4284f5d04a49",
   "metadata": {},
   "outputs": [
    {
     "name": "stdout",
     "output_type": "stream",
     "text": [
      "1\n",
      "2\n",
      "3\n",
      "4\n",
      "5\n",
      "6\n",
      "7\n",
      "8\n"
     ]
    }
   ],
   "source": [
    "#You can represent without the parenthesis the statement above\n",
    "#So, instead of (a, b) format you can have a, b\n",
    "\n",
    "# for (a, b) in t:\n",
    "#     print(a)\n",
    "#     print(b)\n",
    "\n",
    "#INSTEAD:\n",
    "\n",
    "for a, b in t:\n",
    "    print(a)\n",
    "    print(b)\n",
    "\n",
    "#if the function was like this:\n",
    "# for a in t:\n",
    "#     print(a)\n",
    "# a, would represent the item in the list (1st level) , not the nested item in the tuple (2nd level), meaning a = tuple pair = item in list"
   ]
  },
  {
   "cell_type": "code",
   "execution_count": 900,
   "id": "8e327fd7-1968-48bb-8242-18b189649ee9",
   "metadata": {},
   "outputs": [
    {
     "name": "stdout",
     "output_type": "stream",
     "text": [
      "2\n",
      "5\n",
      "8\n"
     ]
    }
   ],
   "source": [
    "t_2 = [(1,2,3), (4,5,6), (7,8,9)]\n",
    "\n",
    "for a,b,c in t_2:\n",
    "    print(b)\n",
    "\n",
    "#Grabbing only 2nd element from each pair"
   ]
  },
  {
   "cell_type": "markdown",
   "id": "5c82d974-f6b1-42da-ba4b-bb12866486b2",
   "metadata": {},
   "source": [
    "##### Iterate through a **Dictionary**"
   ]
  },
  {
   "cell_type": "code",
   "execution_count": 944,
   "id": "bb288beb-1b63-4aeb-ba30-55666418cc5f",
   "metadata": {},
   "outputs": [],
   "source": [
    "d = {'k1':1, 'k2':2, 'k3':3}"
   ]
  },
  {
   "cell_type": "code",
   "execution_count": 946,
   "id": "d58ab1e2-ea7c-4e9c-9c6e-18b4453e44c6",
   "metadata": {},
   "outputs": [
    {
     "name": "stdout",
     "output_type": "stream",
     "text": [
      "k1\n",
      "k2\n",
      "k3\n"
     ]
    }
   ],
   "source": [
    "for a in d:\n",
    "    print(a)\n",
    "\n",
    "#You are iterating through the keys only"
   ]
  },
  {
   "cell_type": "code",
   "execution_count": 948,
   "id": "8762ecff-a091-40c8-bd00-87c22ec50327",
   "metadata": {},
   "outputs": [
    {
     "name": "stdout",
     "output_type": "stream",
     "text": [
      "('k1', 1)\n",
      "('k2', 2)\n",
      "('k3', 3)\n"
     ]
    }
   ],
   "source": [
    "#What if you want to iterate through the values as well key:value pair\n",
    "\n",
    "for a in d.items():\n",
    "    print(a)\n",
    "\n",
    "#items is a buil-in function"
   ]
  },
  {
   "cell_type": "code",
   "execution_count": 950,
   "id": "b6f716fe-4ad4-42d4-b171-b3bd37f82f3a",
   "metadata": {},
   "outputs": [
    {
     "name": "stdout",
     "output_type": "stream",
     "text": [
      "1\n",
      "2\n",
      "3\n"
     ]
    }
   ],
   "source": [
    "for a in d.values():\n",
    "    print(a)\n",
    "\n",
    "#values is another built in function that gives only the value from the key:value pair"
   ]
  },
  {
   "cell_type": "markdown",
   "id": "79704fa4-bf86-40b2-9808-4101956b0aaa",
   "metadata": {},
   "source": [
    "**\"Dictionary Unpacking\"** similar to Tuple Unpacking"
   ]
  },
  {
   "cell_type": "code",
   "execution_count": 955,
   "id": "c35c5dca-5be4-4c44-8923-1a78bea7d482",
   "metadata": {},
   "outputs": [
    {
     "name": "stdout",
     "output_type": "stream",
     "text": [
      "1\n",
      "2\n",
      "3\n"
     ]
    }
   ],
   "source": [
    "for a,b in d:\n",
    "    print(b)"
   ]
  },
  {
   "cell_type": "code",
   "execution_count": 959,
   "id": "8c3f17e7-de0b-4cac-b4eb-c991a69a82b0",
   "metadata": {},
   "outputs": [
    {
     "name": "stdout",
     "output_type": "stream",
     "text": [
      "k\n",
      "k\n",
      "k\n"
     ]
    }
   ],
   "source": [
    "for a,b in d:\n",
    "    print(a)"
   ]
  },
  {
   "cell_type": "code",
   "execution_count": 957,
   "id": "bb704971-1b49-48f9-942f-d874b6fd2c01",
   "metadata": {},
   "outputs": [
    {
     "name": "stdout",
     "output_type": "stream",
     "text": [
      "k1\n",
      "k2\n",
      "k3\n"
     ]
    }
   ],
   "source": [
    "for a,b in d.items():\n",
    "    print(a)"
   ]
  },
  {
   "cell_type": "markdown",
   "id": "32335c67-2145-4706-b88c-819e6db3fc64",
   "metadata": {
    "jp-MarkdownHeadingCollapsed": true
   },
   "source": [
    "### **<code>While</code>** Loop"
   ]
  },
  {
   "attachments": {
    "62ccb027-ee7f-4d6e-a453-75181bc2ef32.png": {
     "image/png": "[encoded data removed]"
    }
   },
   "cell_type": "markdown",
   "id": "4ea9e7cb-659b-417d-b8b0-2afb0cf17297",
   "metadata": {},
   "source": [
    "Iterate as long as some condition remains **True**\n",
    "\n",
    "![image.png](attachment:62ccb027-ee7f-4d6e-a453-75181bc2ef32.png)"
   ]
  },
  {
   "cell_type": "code",
   "execution_count": 7,
   "id": "77ee1733-ec26-4671-8ffb-68d46cc3d7e4",
   "metadata": {},
   "outputs": [
    {
     "name": "stdout",
     "output_type": "stream",
     "text": [
      "Current x = 0\n",
      "Current x = 1\n",
      "Current x = 2\n",
      "Current x = 3\n",
      "Current x = 4\n",
      "It took some time, but now x = 5, which is equal to or greater than 5\n"
     ]
    }
   ],
   "source": [
    "x = 0\n",
    "\n",
    "while x < 5:\n",
    "    print(f'Current x = {x}')\n",
    "    x += 1\n",
    "else:\n",
    "    print(f\"It took some time, but now x = {x}, which is equal to or greater than 5\")"
   ]
  },
  {
   "attachments": {},
   "cell_type": "markdown",
   "id": "ace37465-2dd1-42cf-8359-068b5e796056",
   "metadata": {
    "jp-MarkdownHeadingCollapsed": true
   },
   "source": [
    "### **<code>break</code> – <code>continue</code> – <code>pass</code>** "
   ]
  },
  {
   "cell_type": "raw",
   "id": "cde9c7e3-88a2-4eee-b717-a421b7128adc",
   "metadata": {},
   "source": [
    "1. break – breaks out of closest enclosing loop\n",
    "2. continue – goes to the top of the closest enclosing loop\n",
    "3. pass: does nothing at all\n"
   ]
  },
  {
   "cell_type": "code",
   "execution_count": 14,
   "id": "e83b9cac-903d-4a59-aa40-39b4c57688e0",
   "metadata": {},
   "outputs": [
    {
     "name": "stdout",
     "output_type": "stream",
     "text": [
      "Since my print is going through, the pass keyword did nothing and the code went to the next block which is this print statement instead of returning an error\n"
     ]
    }
   ],
   "source": [
    "# pass keyword\n",
    "\n",
    "x = [1, 2, 3]\n",
    "\n",
    "for a in x:\n",
    "    pass    #does nothing \n",
    "\n",
    "print(\"Since my print is going through, the pass keyword did nothing and the code went to the next block which is this print statement instead of returning an error\")"
   ]
  },
  {
   "cell_type": "code",
   "execution_count": 16,
   "id": "fbdd2e4b-1d72-4d1b-a08a-d8391c56cbea",
   "metadata": {},
   "outputs": [
    {
     "name": "stdout",
     "output_type": "stream",
     "text": [
      "S\n",
      "m\n",
      "m\n",
      "y\n"
     ]
    }
   ],
   "source": [
    "# continue keyword\n",
    "\n",
    "word = 'Sammy'\n",
    "\n",
    "for l in word:\n",
    "    if l == 'a':\n",
    "        continue    #skips this part of the loop \n",
    "    print(l)\n",
    "\n",
    "# Letter 'a' was skipped thanks to the continue keyword"
   ]
  },
  {
   "cell_type": "code",
   "execution_count": 20,
   "id": "ddd9cc63-cb5d-441d-9484-d1ff57dc1294",
   "metadata": {},
   "outputs": [
    {
     "name": "stdout",
     "output_type": "stream",
     "text": [
      "S\n"
     ]
    }
   ],
   "source": [
    "# break keyword\n",
    "\n",
    "word = 'Sammy'\n",
    "\n",
    "for l in word:\n",
    "    if l == 'a':\n",
    "        break    #stops the loop \n",
    "    print(l)\n",
    "\n",
    "# When loop gets at letter 'a' it breaks out and exits the loop there\n",
    "# Useful in while statements"
   ]
  },
  {
   "cell_type": "code",
   "execution_count": 26,
   "id": "0f16518f-d822-40a5-9c0d-12b79d4a6cb4",
   "metadata": {},
   "outputs": [
    {
     "name": "stdout",
     "output_type": "stream",
     "text": [
      "Current x = 0\n",
      "Current x = 1\n"
     ]
    }
   ],
   "source": [
    "x = 0\n",
    "\n",
    "while x < 5:\n",
    "    if x == 2:\n",
    "        break\n",
    "    print(f'Current x = {x}')\n",
    "    x += 1\n",
    "    # if x == 2:\n",
    "    #     break\n",
    "else:\n",
    "    print(f\"It took some time, but now x = {x}, which is equal to or greater than 5\")\n",
    "\n",
    "# Notice how the condition can go either or before/after operation"
   ]
  },
  {
   "cell_type": "markdown",
   "id": "52e4d3e1-5947-4bb0-9c58-7a07bef3a039",
   "metadata": {},
   "source": [
    "### Useful operations in Python"
   ]
  },
  {
   "cell_type": "markdown",
   "id": "dc3572a3-d0ee-43ef-96bd-1a004f20df69",
   "metadata": {
    "jp-MarkdownHeadingCollapsed": true
   },
   "source": [
    "#### **Range Function**"
   ]
  },
  {
   "cell_type": "code",
   "execution_count": 96,
   "id": "1d451f23-ca8d-45ba-97f6-163749ee9d0b",
   "metadata": {},
   "outputs": [
    {
     "name": "stdout",
     "output_type": "stream",
     "text": [
      "0\n",
      "1\n",
      "2\n",
      "3\n",
      "4\n",
      "5\n",
      "6\n",
      "7\n",
      "8\n",
      "9\n"
     ]
    }
   ],
   "source": [
    "for num in range(10):  # creates a list of 10 numbers, NOT including 10 since list starts from 0\n",
    "    print(num)"
   ]
  },
  {
   "cell_type": "code",
   "execution_count": 98,
   "id": "53037df2-1693-421d-88c8-e5e8298992a6",
   "metadata": {},
   "outputs": [
    {
     "name": "stdout",
     "output_type": "stream",
     "text": [
      "3\n",
      "4\n",
      "5\n",
      "6\n",
      "7\n",
      "8\n",
      "9\n"
     ]
    }
   ],
   "source": [
    "for num in range(3, 10):  # here we specify starting position (3), all the way but NOT including 10\n",
    "    print(num)"
   ]
  },
  {
   "cell_type": "code",
   "execution_count": 100,
   "id": "b3154398-6144-4ba8-b0b8-66716551af0d",
   "metadata": {},
   "outputs": [
    {
     "name": "stdout",
     "output_type": "stream",
     "text": [
      "3\n",
      "5\n",
      "7\n",
      "9\n"
     ]
    }
   ],
   "source": [
    "for num in range(3, 10, 2):  # we just added a step size\n",
    "    print(num)"
   ]
  },
  {
   "cell_type": "code",
   "execution_count": 104,
   "id": "28c6dc2a-77dd-4075-b501-d78a8e620ec2",
   "metadata": {},
   "outputs": [
    {
     "data": {
      "text/plain": [
       "[3, 5, 7, 9]"
      ]
     },
     "execution_count": 104,
     "metadata": {},
     "output_type": "execute_result"
    }
   ],
   "source": [
    "# Intro to generators: ~generates info instead of saving it to memory~\n",
    "\n",
    "list(range(3, 10, 2))"
   ]
  },
  {
   "cell_type": "markdown",
   "id": "dbf4d023-ba38-40f1-b4dc-fb3f70233be1",
   "metadata": {
    "jp-MarkdownHeadingCollapsed": true
   },
   "source": [
    "#### **Enumerate**"
   ]
  },
  {
   "cell_type": "markdown",
   "id": "a7de02e5-befd-4ea6-80f5-36a28515b5d2",
   "metadata": {},
   "source": [
    "Idea behind what we are trying to do, and why we will use enumerate"
   ]
  },
  {
   "cell_type": "code",
   "execution_count": 121,
   "id": "90381a31-cad2-4bde-9957-576ec3bc7da5",
   "metadata": {},
   "outputs": [
    {
     "name": "stdout",
     "output_type": "stream",
     "text": [
      "At index 0 the letter is 'a'\n",
      "At index 1 the letter is 'b'\n",
      "At index 2 the letter is 'c'\n",
      "At index 3 the letter is 'd'\n",
      "At index 4 the letter is 'e'\n"
     ]
    }
   ],
   "source": [
    "index_count = 0\n",
    "\n",
    "for letter in 'abcde':\n",
    "    print(\"At index {} the letter is '{}'\".format(index_count, letter))\n",
    "    index_count += 1\n",
    "\n",
    "# Instead of declaring one temporary var which increases in the loop, here we have TWO var that increment in the loop:\n",
    "    # the letter var is part of the string and moves according to index based during each loop\n",
    "    # index_count var follows the arithmetic operation += 1, which increments it during each loop\n",
    "    # The loop overall, it is iterating through each letter of the string, and is assigning the right index to that letter location thanks to the index_count var we declared"
   ]
  },
  {
   "cell_type": "markdown",
   "id": "1866c16c-0ef1-4bb8-b8b9-10f48c63288d",
   "metadata": {},
   "source": [
    "The way people simplified the code above"
   ]
  },
  {
   "cell_type": "code",
   "execution_count": 114,
   "id": "dc818dd4-575d-48ab-971d-5c795e72c371",
   "metadata": {},
   "outputs": [
    {
     "name": "stdout",
     "output_type": "stream",
     "text": [
      "a\n",
      "b\n",
      "c\n",
      "d\n",
      "e\n"
     ]
    }
   ],
   "source": [
    "# Introducing another var to the original code\n",
    "\n",
    "index_count = 0\n",
    "word = 'abcde'\n",
    "\n",
    "for letter in word:\n",
    "    print(word[index_count])\n",
    "    index_count += 1"
   ]
  },
  {
   "cell_type": "markdown",
   "id": "3cb151bc-fc26-4af9-b506-3bba734f4aa6",
   "metadata": {},
   "source": [
    "This is where **ENUMERATE** is introduced as a built in function to simplify things"
   ]
  },
  {
   "cell_type": "code",
   "execution_count": 119,
   "id": "72ffb785-aecc-4793-bd68-9a1fe4474563",
   "metadata": {},
   "outputs": [
    {
     "name": "stdout",
     "output_type": "stream",
     "text": [
      "(0, 'a')\n",
      "(1, 'b')\n",
      "(2, 'c')\n",
      "(3, 'd')\n",
      "(4, 'e')\n"
     ]
    }
   ],
   "source": [
    "word = 'abcde'\n",
    "\n",
    "for item in enumerate(word):\n",
    "    print(item)\n",
    "\n",
    "#You can see this now is the same result as the original code, with way less complexity"
   ]
  },
  {
   "cell_type": "code",
   "execution_count": 133,
   "id": "c161c4f0-19d3-4a20-a88c-c872e6c5134a",
   "metadata": {},
   "outputs": [
    {
     "name": "stdout",
     "output_type": "stream",
     "text": [
      "index = 0, letter = a\n",
      "index = 1, letter = b\n",
      "index = 2, letter = c\n",
      "index = 3, letter = d\n",
      "index = 4, letter = e\n"
     ]
    }
   ],
   "source": [
    "# Since there are two values in one pair above we can use the\n",
    "# UNPACKING concept, to individually select them or seperate the index count and the letter:\n",
    "\n",
    "for index, letter in enumerate(word):\n",
    "    print(f\"index = {index}, letter = {letter}\")\n"
   ]
  },
  {
   "cell_type": "markdown",
   "id": "ed5a7305-f0b4-4b2b-ab32-590c003c48dd",
   "metadata": {
    "jp-MarkdownHeadingCollapsed": true
   },
   "source": [
    "#### **Zip Function**"
   ]
  },
  {
   "cell_type": "markdown",
   "id": "bc2ea827-0780-45d5-a744-49d0b4b9e5a9",
   "metadata": {},
   "source": [
    "Brings together two or more lists by utilizing that UNPACKING concept from tuples"
   ]
  },
  {
   "cell_type": "code",
   "execution_count": 140,
   "id": "159828d7-18d5-4ec4-9894-9e6b52c18291",
   "metadata": {},
   "outputs": [
    {
     "name": "stdout",
     "output_type": "stream",
     "text": [
      "(1, 'a')\n",
      "(2, 'b')\n",
      "(3, 'c')\n"
     ]
    }
   ],
   "source": [
    "l1 = [1,2,3]\n",
    "l2 = ['a','b','c']\n",
    "\n",
    "for item in zip(l1, l2):\n",
    "    print(item)"
   ]
  },
  {
   "cell_type": "code",
   "execution_count": 142,
   "id": "cbc38a2e-5e78-4bdf-88ff-8179e623ffaf",
   "metadata": {},
   "outputs": [
    {
     "name": "stdout",
     "output_type": "stream",
     "text": [
      "number = 1, and letter = a\n",
      "number = 2, and letter = b\n",
      "number = 3, and letter = c\n"
     ]
    }
   ],
   "source": [
    "for a,b in zip(l1, l2):\n",
    "    print(f\"number = {a}, and letter = {b}\")"
   ]
  },
  {
   "cell_type": "markdown",
   "id": "f7b1c8d8-be9b-461e-8828-2a85f99c70dc",
   "metadata": {},
   "source": [
    "For uneven lists, zip will still match up to where the lists zipped match index wise"
   ]
  },
  {
   "cell_type": "code",
   "execution_count": 146,
   "id": "bfe0c549-a59e-4dec-8b61-a33a31bbddab",
   "metadata": {},
   "outputs": [
    {
     "name": "stdout",
     "output_type": "stream",
     "text": [
      "(1, 'a')\n",
      "(2, 'b')\n",
      "(3, 'c')\n"
     ]
    }
   ],
   "source": [
    "l1 = [1,2,3,4,5,6,7,8,9]\n",
    "l2 = ['a','b','c']\n",
    "\n",
    "for item in zip(l1, l2):\n",
    "    print(item)"
   ]
  },
  {
   "cell_type": "code",
   "execution_count": 148,
   "id": "100b6229-5294-4067-a7d5-8b168ac73fe7",
   "metadata": {},
   "outputs": [
    {
     "data": {
      "text/plain": [
       "[(1, 'a'), (2, 'b'), (3, 'c')]"
      ]
     },
     "execution_count": 148,
     "metadata": {},
     "output_type": "execute_result"
    }
   ],
   "source": [
    "#List can be used to list the zipped items:\n",
    "\n",
    "list(zip(l1, l2))"
   ]
  },
  {
   "cell_type": "markdown",
   "id": "697c00e6-71cb-4265-b34f-4c12c886d42a",
   "metadata": {
    "jp-MarkdownHeadingCollapsed": true
   },
   "source": [
    "#### **IN** operator"
   ]
  },
  {
   "cell_type": "code",
   "execution_count": 156,
   "id": "7c235fca-388a-4a2a-b63c-d848fa41be3a",
   "metadata": {},
   "outputs": [
    {
     "data": {
      "text/plain": [
       "True"
      ]
     },
     "execution_count": 156,
     "metadata": {},
     "output_type": "execute_result"
    }
   ],
   "source": [
    "x in [1,2,3]"
   ]
  },
  {
   "cell_type": "code",
   "execution_count": 158,
   "id": "7fda502b-cc6b-43a8-8431-6ee086ada532",
   "metadata": {},
   "outputs": [
    {
     "data": {
      "text/plain": [
       "False"
      ]
     },
     "execution_count": 158,
     "metadata": {},
     "output_type": "execute_result"
    }
   ],
   "source": [
    "x in ['x','y','z']"
   ]
  },
  {
   "cell_type": "code",
   "execution_count": 160,
   "id": "30b94775-3af8-407b-9f14-1f1796720882",
   "metadata": {},
   "outputs": [
    {
     "data": {
      "text/plain": [
       "True"
      ]
     },
     "execution_count": 160,
     "metadata": {},
     "output_type": "execute_result"
    }
   ],
   "source": [
    "'a' in 'a world'"
   ]
  },
  {
   "cell_type": "code",
   "execution_count": 162,
   "id": "16fd767e-cd29-4bc3-91ec-db6e88068fb8",
   "metadata": {},
   "outputs": [
    {
     "data": {
      "text/plain": [
       "True"
      ]
     },
     "execution_count": 162,
     "metadata": {},
     "output_type": "execute_result"
    }
   ],
   "source": [
    "'k1' in {'k1':350}"
   ]
  },
  {
   "cell_type": "code",
   "execution_count": 164,
   "id": "82ee81f5-ecc1-4f18-b7e5-00e14040e342",
   "metadata": {},
   "outputs": [
    {
     "data": {
      "text/plain": [
       "True"
      ]
     },
     "execution_count": 164,
     "metadata": {},
     "output_type": "execute_result"
    }
   ],
   "source": [
    "d = {'k1':350}\n",
    "\n",
    "350 in d.values()"
   ]
  },
  {
   "cell_type": "code",
   "execution_count": 166,
   "id": "f2878ad7-bc1c-4b74-998c-9186ade6aa79",
   "metadata": {},
   "outputs": [
    {
     "data": {
      "text/plain": [
       "False"
      ]
     },
     "execution_count": 166,
     "metadata": {},
     "output_type": "execute_result"
    }
   ],
   "source": [
    "350 in d.keys()"
   ]
  },
  {
   "cell_type": "markdown",
   "id": "df7a4afe-5738-4bd0-bd41-9f823859691f",
   "metadata": {
    "jp-MarkdownHeadingCollapsed": true
   },
   "source": [
    "#### **min, max** "
   ]
  },
  {
   "cell_type": "code",
   "execution_count": 170,
   "id": "f3700735-c036-49a8-8a83-12b696d83027",
   "metadata": {},
   "outputs": [],
   "source": [
    "l = [1,2,45,6,777,35,764,6136,43]"
   ]
  },
  {
   "cell_type": "code",
   "execution_count": 175,
   "id": "0f3d0a4a-19eb-47a0-90ce-22bda44a2fed",
   "metadata": {},
   "outputs": [
    {
     "data": {
      "text/plain": [
       "1"
      ]
     },
     "execution_count": 175,
     "metadata": {},
     "output_type": "execute_result"
    }
   ],
   "source": [
    "min(l)\n"
   ]
  },
  {
   "cell_type": "code",
   "execution_count": 178,
   "id": "dc3bda37-882e-4f21-a8be-ca6e9497223c",
   "metadata": {},
   "outputs": [
    {
     "data": {
      "text/plain": [
       "6136"
      ]
     },
     "execution_count": 178,
     "metadata": {},
     "output_type": "execute_result"
    }
   ],
   "source": [
    "max(l)"
   ]
  },
  {
   "cell_type": "markdown",
   "id": "9ba230b3-ce27-450c-85f7-3ccb7e96abf1",
   "metadata": {
    "jp-MarkdownHeadingCollapsed": true
   },
   "source": [
    "#### **Random Library** "
   ]
  },
  {
   "cell_type": "code",
   "execution_count": 182,
   "id": "0d0a0bd1-dc25-466f-a096-6d2564b4f707",
   "metadata": {},
   "outputs": [],
   "source": [
    "from random import shuffle\n",
    "\n",
    "# From the RANDOM nuilt in library import the Shuffle Function"
   ]
  },
  {
   "cell_type": "code",
   "execution_count": 184,
   "id": "d82168ee-8b40-44e9-8ac5-ba26ba945168",
   "metadata": {},
   "outputs": [],
   "source": [
    "l = [1,2,3,4,5,6,7,8,9,10]"
   ]
  },
  {
   "cell_type": "code",
   "execution_count": 191,
   "id": "01c54a13-0416-4ed8-b2e3-1f8b782698d3",
   "metadata": {},
   "outputs": [
    {
     "data": {
      "text/plain": [
       "[1, 4, 5, 10, 9, 2, 8, 6, 3, 7]"
      ]
     },
     "execution_count": 191,
     "metadata": {},
     "output_type": "execute_result"
    }
   ],
   "source": [
    "shuffle(l)\n",
    "\n",
    "l"
   ]
  },
  {
   "cell_type": "code",
   "execution_count": 195,
   "id": "e51787c6-e0f6-4ca1-a033-28c526d4553d",
   "metadata": {},
   "outputs": [
    {
     "data": {
      "text/plain": [
       "4"
      ]
     },
     "execution_count": 195,
     "metadata": {},
     "output_type": "execute_result"
    }
   ],
   "source": [
    "from random import randint\n",
    "\n",
    "randint(min(l), max(l))"
   ]
  },
  {
   "cell_type": "markdown",
   "id": "04d856d1-04ab-410c-81c3-6c9357ffec45",
   "metadata": {
    "jp-MarkdownHeadingCollapsed": true
   },
   "source": [
    "#### **User Input** "
   ]
  },
  {
   "cell_type": "code",
   "execution_count": 199,
   "id": "21796028-0868-4285-848f-4b3ec84beba7",
   "metadata": {},
   "outputs": [
    {
     "name": "stdout",
     "output_type": "stream",
     "text": [
      "Enter a number:  50\n"
     ]
    },
    {
     "data": {
      "text/plain": [
       "'50'"
      ]
     },
     "execution_count": 199,
     "metadata": {},
     "output_type": "execute_result"
    }
   ],
   "source": [
    "input('Enter a number: ')"
   ]
  },
  {
   "cell_type": "code",
   "execution_count": 203,
   "id": "0de3d63f-e777-426b-a8b8-f62f08661bb8",
   "metadata": {},
   "outputs": [
    {
     "name": "stdout",
     "output_type": "stream",
     "text": [
      "What is you name? Evi\n"
     ]
    }
   ],
   "source": [
    "saving_input_to_var = input('What is you name?')"
   ]
  },
  {
   "cell_type": "code",
   "execution_count": 207,
   "id": "4e749406-e1fb-4628-80a5-6626533ccf7e",
   "metadata": {},
   "outputs": [
    {
     "data": {
      "text/plain": [
       "'Evi'"
      ]
     },
     "execution_count": 207,
     "metadata": {},
     "output_type": "execute_result"
    }
   ],
   "source": [
    "saving_input_to_var \n",
    "\n",
    "#Notice how will give the result right away, not what i wrote on input"
   ]
  },
  {
   "cell_type": "markdown",
   "id": "5675395d-cc5a-4855-ac07-1c548d9a5fd5",
   "metadata": {},
   "source": [
    "Will always pass the result as a **STRING** even if its a number"
   ]
  },
  {
   "cell_type": "code",
   "execution_count": 210,
   "id": "afad89cb-a0e0-4c9d-a9e6-6b8b1b501fd4",
   "metadata": {},
   "outputs": [
    {
     "name": "stdout",
     "output_type": "stream",
     "text": [
      "Enter a number:  35\n"
     ]
    }
   ],
   "source": [
    "number_var = input('Enter a number: ')"
   ]
  },
  {
   "cell_type": "code",
   "execution_count": 212,
   "id": "2fadf98f-56d5-4de4-893b-f788d026ff63",
   "metadata": {},
   "outputs": [
    {
     "data": {
      "text/plain": [
       "'35'"
      ]
     },
     "execution_count": 212,
     "metadata": {},
     "output_type": "execute_result"
    }
   ],
   "source": [
    "number_var"
   ]
  },
  {
   "cell_type": "code",
   "execution_count": 214,
   "id": "421ca5db-be23-4b35-a58d-4b0f64776bd6",
   "metadata": {},
   "outputs": [
    {
     "data": {
      "text/plain": [
       "35"
      ]
     },
     "execution_count": 214,
     "metadata": {},
     "output_type": "execute_result"
    }
   ],
   "source": [
    "int(number_var)"
   ]
  },
  {
   "cell_type": "code",
   "execution_count": 216,
   "id": "9a6fd08c-c092-4058-97bb-7de5aea7a57a",
   "metadata": {},
   "outputs": [
    {
     "data": {
      "text/plain": [
       "35.0"
      ]
     },
     "execution_count": 216,
     "metadata": {},
     "output_type": "execute_result"
    }
   ],
   "source": [
    "float(number_var)"
   ]
  },
  {
   "cell_type": "markdown",
   "id": "1430be6d-8916-4abf-a762-f1f63125aaa1",
   "metadata": {
    "jp-MarkdownHeadingCollapsed": true
   },
   "source": [
    "### **List Comprehensions**"
   ]
  },
  {
   "cell_type": "markdown",
   "id": "98e29b7b-0547-48eb-8cdc-23be2666fac5",
   "metadata": {},
   "source": [
    "Use case: for loop and append --> infinite loop\n",
    "\n",
    "It flattens out the for loop syntax, for a more efficient way of writing\n",
    "\n",
    "As alternative use List Comprehensions:"
   ]
  },
  {
   "cell_type": "code",
   "execution_count": 236,
   "id": "ba558f25-4869-4d54-9d19-e233ae3eaddc",
   "metadata": {},
   "outputs": [
    {
     "data": {
      "text/plain": [
       "['h', 'e', 'l', 'l', 'o']"
      ]
     },
     "execution_count": 236,
     "metadata": {},
     "output_type": "execute_result"
    }
   ],
   "source": [
    "# Inefficient way:\n",
    "\n",
    "mystring = 'hello'\n",
    "\n",
    "mylist = []\n",
    "\n",
    "for letter in mystring:\n",
    "    mylist.append(letter)\n",
    "\n",
    "mylist"
   ]
  },
  {
   "cell_type": "code",
   "execution_count": 238,
   "id": "2e7cb30a-6530-47e5-97cb-cd2873a1a396",
   "metadata": {},
   "outputs": [
    {
     "data": {
      "text/plain": [
       "['h', 'e', 'l', 'l', 'o']"
      ]
     },
     "execution_count": 238,
     "metadata": {},
     "output_type": "execute_result"
    }
   ],
   "source": [
    "# Efficient way: (Taking less space in code, same computation)\n",
    "\n",
    "mystring = 'hello'\n",
    "\n",
    "mylist = [letter for letter in mystring]  #element for element in (string, number, list or anything). This successfully replaces the append\n",
    "\n",
    "mylist"
   ]
  },
  {
   "cell_type": "code",
   "execution_count": 240,
   "id": "f44f83b0-a7e3-4db6-b178-34761e432bc8",
   "metadata": {},
   "outputs": [
    {
     "data": {
      "text/plain": [
       "[0, 1, 2, 3, 4, 5, 6, 7, 8, 9, 10]"
      ]
     },
     "execution_count": 240,
     "metadata": {},
     "output_type": "execute_result"
    }
   ],
   "source": [
    "mylist = [x for x in range(0, 11)]\n",
    "\n",
    "mylist"
   ]
  },
  {
   "cell_type": "code",
   "execution_count": 242,
   "id": "f65349d1-fe73-4630-8ef4-f95d787ea5c3",
   "metadata": {},
   "outputs": [
    {
     "data": {
      "text/plain": [
       "[0, 1, 4, 9, 16, 25, 36, 49, 64, 81, 100]"
      ]
     },
     "execution_count": 242,
     "metadata": {},
     "output_type": "execute_result"
    }
   ],
   "source": [
    "# You can grab the square version of the list above:\n",
    "\n",
    "mylist = [x**2 for x in range(0, 11)]\n",
    "\n",
    "mylist"
   ]
  },
  {
   "cell_type": "code",
   "execution_count": 244,
   "id": "a57c1931-e9a0-4ddd-adbd-858f18802758",
   "metadata": {},
   "outputs": [],
   "source": [
    "# (x**2) Calculation is performed here. \n",
    "# This is basically the condition where or what you want to grab: just plain or a calculation like this one\n"
   ]
  },
  {
   "cell_type": "code",
   "execution_count": 246,
   "id": "230b6b25-d151-4d38-bd3c-d16aa6729490",
   "metadata": {},
   "outputs": [
    {
     "data": {
      "text/plain": [
       "[0, 2, 4, 6, 8, 10]"
      ]
     },
     "execution_count": 246,
     "metadata": {},
     "output_type": "execute_result"
    }
   ],
   "source": [
    "# Adding an IF condition:\n",
    "\n",
    "mylist = [x for x in range(0, 11) if x%2==0]  # Condition added at the end\n",
    "\n",
    "mylist"
   ]
  },
  {
   "cell_type": "code",
   "execution_count": 250,
   "id": "edcc0eb9-333e-41a9-8ab0-b1b097c17eb1",
   "metadata": {},
   "outputs": [
    {
     "data": {
      "text/plain": [
       "[32.0, 50.0, 68.0, 94.1]"
      ]
     },
     "execution_count": 250,
     "metadata": {},
     "output_type": "execute_result"
    }
   ],
   "source": [
    "# More complex calculation:\n",
    "\n",
    "celcius = [0,10,20,34.5]\n",
    "\n",
    "fahrenheit = [ ( (9/5)*temp + 32) for temp in celcius]\n",
    "\n",
    "fahrenheit"
   ]
  },
  {
   "cell_type": "code",
   "execution_count": 254,
   "id": "f31072e1-f45e-4830-8dd4-5abf42368e35",
   "metadata": {},
   "outputs": [
    {
     "data": {
      "text/plain": [
       "[0, 'odd', 2, 'odd', 4, 'odd', 6, 'odd', 8, 'odd', 10]"
      ]
     },
     "execution_count": 254,
     "metadata": {},
     "output_type": "execute_result"
    }
   ],
   "source": [
    "# For if/else the order changes:\n",
    "\n",
    "results = [x if x%2==0 else 'odd' for x in range(0,11)]\n",
    "\n",
    "results"
   ]
  },
  {
   "cell_type": "markdown",
   "id": "193d4ef0-a80d-4f4a-af1c-99f9848c5ac8",
   "metadata": {
    "jp-MarkdownHeadingCollapsed": true
   },
   "source": [
    "### **Nested Loops**"
   ]
  },
  {
   "cell_type": "code",
   "execution_count": 302,
   "id": "dea88f2a-6464-46be-b785-18b8c85e3bb4",
   "metadata": {},
   "outputs": [
    {
     "data": {
      "text/plain": [
       "[200, 400, 600, 400, 800, 1200, 600, 1200, 1800]"
      ]
     },
     "execution_count": 302,
     "metadata": {},
     "output_type": "execute_result"
    }
   ],
   "source": [
    "multiplying_two_lists = []\n",
    "first_list   = [2,  4,  6]\n",
    "second_list  = [100,200,300]\n",
    "\n",
    "\n",
    "for x in first_list:\n",
    "    for y in second_list:\n",
    "        multiplying_two_lists.append(x*y)\n",
    "\n",
    "\n",
    "multiplying_two_lists    "
   ]
  },
  {
   "cell_type": "code",
   "execution_count": 308,
   "id": "544cbaaf-db7d-4f2b-ab38-6797f23d9047",
   "metadata": {},
   "outputs": [
    {
     "data": {
      "text/plain": [
       "[200, 400, 600, 400, 800, 1200, 600, 1200, 1800]"
      ]
     },
     "execution_count": 308,
     "metadata": {},
     "output_type": "execute_result"
    }
   ],
   "source": [
    "# Nested Loops with List Comprehensions(writing everything in one line, or flatting it out):\n",
    "\n",
    "multiplying_two_lists = [x*y for x in first_list for y in second_list]\n",
    "\n",
    "multiplying_two_lists"
   ]
  },
  {
   "cell_type": "markdown",
   "id": "26ee2040-4467-4f98-bfa6-c427d168e6eb",
   "metadata": {
    "jp-MarkdownHeadingCollapsed": true
   },
   "source": [
    "## *Test: Statements*"
   ]
  },
  {
   "cell_type": "markdown",
   "id": "577eff68-1f2b-4ff8-bfee-b8d75399a6bc",
   "metadata": {
    "jp-MarkdownHeadingCollapsed": true
   },
   "source": [
    "### 1. Use for, .split(), and if to create a Statement that will print out words that start with 's':"
   ]
  },
  {
   "cell_type": "code",
   "execution_count": 326,
   "id": "2fbdd972-1478-4c47-9701-6414c77e6b57",
   "metadata": {},
   "outputs": [],
   "source": [
    "st = 'Print only the words that start with s in this sentence'"
   ]
  },
  {
   "cell_type": "code",
   "execution_count": 336,
   "id": "3a329674-34d3-42da-84ca-b6be3f339847",
   "metadata": {},
   "outputs": [
    {
     "data": {
      "text/plain": [
       "['Print',\n",
       " 'only',\n",
       " 'the',\n",
       " 'words',\n",
       " 'that',\n",
       " 'start',\n",
       " 'with',\n",
       " 's',\n",
       " 'in',\n",
       " 'this',\n",
       " 'sentence']"
      ]
     },
     "execution_count": 336,
     "metadata": {},
     "output_type": "execute_result"
    }
   ],
   "source": [
    "list_with_splitted_words = st.split()\n",
    "\n",
    "\n",
    "# For Simplicity:\n",
    "\n",
    "l = list_with_splitted_words\n",
    "\n",
    "l"
   ]
  },
  {
   "cell_type": "code",
   "execution_count": 391,
   "id": "58d0033f-ac5d-4f52-9a71-e31b4114f12b",
   "metadata": {},
   "outputs": [
    {
     "name": "stdout",
     "output_type": "stream",
     "text": [
      "start\n",
      "s\n",
      "sentence\n"
     ]
    }
   ],
   "source": [
    "for x in l:\n",
    "    if x[0] == 's':\n",
    "        print(x)\n",
    "    else: continue"
   ]
  },
  {
   "cell_type": "markdown",
   "id": "bc187f60-80cb-411a-9a32-0994dd7a5a75",
   "metadata": {
    "jp-MarkdownHeadingCollapsed": true
   },
   "source": [
    "### 2. Use range() to print all the even numbers from 0 to 10."
   ]
  },
  {
   "cell_type": "code",
   "execution_count": 401,
   "id": "c02aa42c-3c2e-40a7-a861-cabfc85c49d5",
   "metadata": {},
   "outputs": [
    {
     "name": "stdout",
     "output_type": "stream",
     "text": [
      "0\n",
      "2\n",
      "4\n",
      "6\n",
      "8\n",
      "10\n"
     ]
    }
   ],
   "source": [
    "# Method 1:\n",
    "\n",
    "for num in range(0, 11):\n",
    "    if num % 2 == 0:\n",
    "        print(num)"
   ]
  },
  {
   "cell_type": "code",
   "execution_count": 411,
   "id": "15399f37-568e-4fe0-a34d-02c1065e31c3",
   "metadata": {},
   "outputs": [
    {
     "data": {
      "text/plain": [
       "[0, 2, 4, 6, 8, 10]"
      ]
     },
     "execution_count": 411,
     "metadata": {},
     "output_type": "execute_result"
    }
   ],
   "source": [
    "# Method 2:\n",
    "\n",
    "even_number = [num for num in range(0, 11) if num % 2 == 0]\n",
    "\n",
    "even_number"
   ]
  },
  {
   "cell_type": "markdown",
   "id": "ba3a5f7b-7128-4c88-a12b-674dc08ee9e8",
   "metadata": {
    "jp-MarkdownHeadingCollapsed": true
   },
   "source": [
    "### 3. Use a List Comprehension to create a list of all numbers between 1 and 50 that are divisible by 3."
   ]
  },
  {
   "cell_type": "code",
   "execution_count": 416,
   "id": "66079dc9-14d6-4c69-a82c-fddcbaeddc25",
   "metadata": {},
   "outputs": [
    {
     "data": {
      "text/plain": [
       "[3, 6, 9, 12, 15, 18, 21, 24, 27, 30, 33, 36, 39, 42, 45, 48]"
      ]
     },
     "execution_count": 416,
     "metadata": {},
     "output_type": "execute_result"
    }
   ],
   "source": [
    "result = [x for x in range(1, 51) if x % 3 == 0]\n",
    "\n",
    "result"
   ]
  },
  {
   "cell_type": "markdown",
   "id": "63f4c596-6ed2-49d1-8689-6fc5d01c371e",
   "metadata": {
    "jp-MarkdownHeadingCollapsed": true
   },
   "source": [
    "### 4. Go through the string below and if the length of a word is even print \"even!\""
   ]
  },
  {
   "cell_type": "code",
   "execution_count": 3,
   "id": "91393021-5c53-441a-b356-301cb837937c",
   "metadata": {},
   "outputs": [],
   "source": [
    "st = 'Print every word in this sentence that has an even number of letters'"
   ]
  },
  {
   "cell_type": "code",
   "execution_count": 54,
   "id": "18a5b113-f0a0-4307-a7b7-71c2ceb5937a",
   "metadata": {},
   "outputs": [
    {
     "name": "stdout",
     "output_type": "stream",
     "text": [
      "'Create'  -->  is an even word\n",
      "'a'  -->  is an odd word\n",
      "'list'  -->  is an even word\n",
      "'of'  -->  is an even word\n",
      "'the'  -->  is an odd word\n",
      "'first'  -->  is an odd word\n",
      "'letters'  -->  is an odd word\n",
      "'of'  -->  is an even word\n",
      "'every'  -->  is an odd word\n",
      "'word'  -->  is an even word\n",
      "'in'  -->  is an even word\n",
      "'this'  -->  is an even word\n",
      "'string'  -->  is an even word\n"
     ]
    }
   ],
   "source": [
    "# Method 1: List Comprehension\n",
    "\n",
    "# even_word = [x for x in st.split() if len(x)%2 == 0]\n",
    "# even_word\n",
    "\n",
    "\n",
    "# Method 2: for loop\n",
    "\n",
    "for a in st.split():\n",
    "    if len(a) % 2 == 0:\n",
    "        print(f\"'{a}'  -->  is an even word\")\n",
    "    else: print(f\"'{a}'  -->  is an odd word\")"
   ]
  },
  {
   "cell_type": "markdown",
   "id": "5392707c-88eb-4a0c-80c3-d3278e224378",
   "metadata": {
    "jp-MarkdownHeadingCollapsed": true
   },
   "source": [
    "### 5. Write a program that prints the integers from 1 to 100. \n",
    "###    a). But for multiples of three print \"Fizz\" instead of the number, and for the multiples of five print \"Buzz\". \n",
    "###    b). For numbers which are multiples of both three and five print \"FizzBuzz\".\n"
   ]
  },
  {
   "cell_type": "code",
   "execution_count": 43,
   "id": "2264b8bc-dcfa-4e57-b20b-0ad101720915",
   "metadata": {},
   "outputs": [
    {
     "name": "stdout",
     "output_type": "stream",
     "text": [
      "1\n",
      "2\n",
      "Fizz\n",
      "4\n",
      "Buzz\n",
      "Fizz\n",
      "7\n",
      "8\n",
      "Fizz\n",
      "Buzz\n",
      "11\n",
      "Fizz\n",
      "13\n",
      "14\n",
      "FizzBuzz\n",
      "16\n",
      "17\n",
      "Fizz\n",
      "19\n",
      "Buzz\n",
      "Fizz\n",
      "22\n",
      "23\n",
      "Fizz\n",
      "Buzz\n",
      "26\n",
      "Fizz\n",
      "28\n",
      "29\n",
      "FizzBuzz\n",
      "31\n",
      "32\n",
      "Fizz\n",
      "34\n",
      "Buzz\n",
      "Fizz\n",
      "37\n",
      "38\n",
      "Fizz\n",
      "Buzz\n",
      "41\n",
      "Fizz\n",
      "43\n",
      "44\n",
      "FizzBuzz\n",
      "46\n",
      "47\n",
      "Fizz\n",
      "49\n",
      "Buzz\n",
      "Fizz\n",
      "52\n",
      "53\n",
      "Fizz\n",
      "Buzz\n",
      "56\n",
      "Fizz\n",
      "58\n",
      "59\n",
      "FizzBuzz\n",
      "61\n",
      "62\n",
      "Fizz\n",
      "64\n",
      "Buzz\n",
      "Fizz\n",
      "67\n",
      "68\n",
      "Fizz\n",
      "Buzz\n",
      "71\n",
      "Fizz\n",
      "73\n",
      "74\n",
      "FizzBuzz\n",
      "76\n",
      "77\n",
      "Fizz\n",
      "79\n",
      "Buzz\n",
      "Fizz\n",
      "82\n",
      "83\n",
      "Fizz\n",
      "Buzz\n",
      "86\n",
      "Fizz\n",
      "88\n",
      "89\n",
      "FizzBuzz\n",
      "91\n",
      "92\n",
      "Fizz\n",
      "94\n",
      "Buzz\n",
      "Fizz\n",
      "97\n",
      "98\n",
      "Fizz\n",
      "Buzz\n"
     ]
    }
   ],
   "source": [
    "for x in range(1, 101):\n",
    "    if x % 3 == 0 and x % 5 == 0:\n",
    "        print(\"FizzBuzz\")\n",
    "    elif x % 3 == 0:\n",
    "        print(\"Fizz\")\n",
    "    elif x % 5 == 0:\n",
    "        print(\"Buzz\")\n",
    "    else:\n",
    "        print(x)"
   ]
  },
  {
   "cell_type": "markdown",
   "id": "c92e6cf6-09d9-43f1-9311-05ef803798b3",
   "metadata": {
    "jp-MarkdownHeadingCollapsed": true
   },
   "source": [
    "### 6. Use List Comprehension to create a list of the first letters of every word in the string below:"
   ]
  },
  {
   "cell_type": "code",
   "execution_count": 49,
   "id": "7f711666-d1d1-4526-b4fc-a764e16de01b",
   "metadata": {},
   "outputs": [],
   "source": [
    "st = 'Create a list of the first letters of every word in this string'\n"
   ]
  },
  {
   "cell_type": "code",
   "execution_count": 51,
   "id": "cb8831e2-f0b5-4d5a-b5bb-47ae1e577464",
   "metadata": {},
   "outputs": [
    {
     "data": {
      "text/plain": [
       "['C', 'a', 'l', 'o', 't', 'f', 'l', 'o', 'e', 'w', 'i', 't', 's']"
      ]
     },
     "execution_count": 51,
     "metadata": {},
     "output_type": "execute_result"
    }
   ],
   "source": [
    "first_letter_list = [l[0] for l in st.split()]\n",
    "\n",
    "first_letter_list"
   ]
  },
  {
   "cell_type": "code",
   "execution_count": 56,
   "id": "4cf5c88c-88bf-4afa-b869-ce68aeaeeaa9",
   "metadata": {},
   "outputs": [
    {
     "data": {
      "text/plain": [
       "['C', 'a', 'l', 'o', 't', 'f', 'l', 'o', 'e', 'w', 'i', 't', 's']"
      ]
     },
     "execution_count": 56,
     "metadata": {},
     "output_type": "execute_result"
    }
   ],
   "source": [
    "[l[0] for l in st.split()]"
   ]
  },
  {
   "cell_type": "markdown",
   "id": "f65a08be-7e1f-4aba-86fd-8237db3d15c0",
   "metadata": {
    "jp-MarkdownHeadingCollapsed": true
   },
   "source": [
    "## <h2 style=\"color: #4472C4;\"> Section 6: <strong>Methods</strong> And <strong>Functions</strong> </h2>  "
   ]
  },
  {
   "attachments": {},
   "cell_type": "markdown",
   "id": "6182cb1e-5f98-49b6-b85a-9497b8a240c5",
   "metadata": {
    "jp-MarkdownHeadingCollapsed": true
   },
   "source": [
    "### Methods"
   ]
  },
  {
   "cell_type": "markdown",
   "id": "eab2cb22-2376-4547-a93d-29f6941c5ed3",
   "metadata": {},
   "source": [
    "Are Functions that are Built into objects.\n",
    "\n",
    "Finding and Method shortkeys:\n",
    "1. tab after dot\n",
    "2. Shift + Tab\n",
    "3. help()\n",
    "4. docs.python.org"
   ]
  },
  {
   "cell_type": "code",
   "execution_count": 18,
   "id": "8826d53b-0163-4d7c-a761-49b3056093e4",
   "metadata": {},
   "outputs": [],
   "source": [
    "l = [1,2,3]"
   ]
  },
  {
   "cell_type": "code",
   "execution_count": 12,
   "id": "5bacf19c-1978-4325-8163-9a6550f8ac3d",
   "metadata": {},
   "outputs": [
    {
     "data": {
      "text/plain": [
       "[1, 2, 3, 4]"
      ]
     },
     "execution_count": 12,
     "metadata": {},
     "output_type": "execute_result"
    }
   ],
   "source": [
    "l.append(4)\n",
    "\n",
    "l"
   ]
  },
  {
   "cell_type": "code",
   "execution_count": 14,
   "id": "a607d997-566e-4366-b368-fe4bdeea4e7b",
   "metadata": {},
   "outputs": [
    {
     "data": {
      "text/plain": [
       "[1, 2, 3]"
      ]
     },
     "execution_count": 14,
     "metadata": {},
     "output_type": "execute_result"
    }
   ],
   "source": [
    "l.pop()\n",
    "\n",
    "l"
   ]
  },
  {
   "cell_type": "code",
   "execution_count": 16,
   "id": "13822ea2-c2f5-4226-8cad-ad71807b85cf",
   "metadata": {},
   "outputs": [
    {
     "name": "stdout",
     "output_type": "stream",
     "text": [
      "Help on built-in function insert:\n",
      "\n",
      "insert(index, object, /) method of builtins.list instance\n",
      "    Insert object before index.\n",
      "\n"
     ]
    }
   ],
   "source": [
    "help(l.insert)"
   ]
  },
  {
   "cell_type": "markdown",
   "id": "3f90042e-a298-4553-9f4b-800c28ded675",
   "metadata": {},
   "source": [
    "### **Functions**"
   ]
  },
  {
   "attachments": {},
   "cell_type": "markdown",
   "id": "fc6330a1-61f5-4bb2-a75c-e4242d7509c1",
   "metadata": {},
   "source": [
    "Functions allow us to create blocks of code that can be easily executed  many times, without needing to constantly rewrite the entire block of code."
   ]
  },
  {
   "cell_type": "markdown",
   "id": "b99182f8-2dd4-45dc-8217-89500974d31e",
   "metadata": {
    "jp-MarkdownHeadingCollapsed": true
   },
   "source": [
    "#### Functions Basics"
   ]
  },
  {
   "cell_type": "markdown",
   "id": "9f27e375-1627-4463-b90b-c30c0ce660bb",
   "metadata": {
    "jp-MarkdownHeadingCollapsed": true
   },
   "source": [
    "##### 1. **<code>def</code>** keyword"
   ]
  },
  {
   "attachments": {
    "75cfaa59-b00f-41f7-8590-eb7ff953f189.png": {
     "image/png": "[encoded data removed]"
    }
   },
   "cell_type": "markdown",
   "id": "9c6c7b2e-0053-4a09-894e-3738d6162da6",
   "metadata": {},
   "source": [
    "![image.png](attachment:75cfaa59-b00f-41f7-8590-eb7ff953f189.png)"
   ]
  },
  {
   "cell_type": "markdown",
   "id": "3dc955d8-0cad-46bf-9365-fd94ae9714c8",
   "metadata": {
    "jp-MarkdownHeadingCollapsed": true
   },
   "source": [
    "##### 2. **<code>Return</code>** keyword"
   ]
  },
  {
   "cell_type": "markdown",
   "id": "c9f1343e-9560-4353-9163-7f1e01592c95",
   "metadata": {},
   "source": [
    "<span style=\"font-size: 16px;\">\n",
    "a. Allows us to assign the output of a function to a New var. <br>\n",
    "b. Return is typically used rather than print() to send back the result of the function:\n",
    "\n",
    "<img src=\"attachment:a38a2d29-8f86-4693-b07d-ec2bd455bd6c.png\" width=\"700\" height=\"700\">\n",
    "\n",
    "</span>"
   ]
  },
  {
   "cell_type": "code",
   "execution_count": 71,
   "id": "6875ca31-a4e2-4f99-a7d9-1eb8907eece2",
   "metadata": {},
   "outputs": [
    {
     "name": "stdout",
     "output_type": "stream",
     "text": [
      "Hello\n"
     ]
    }
   ],
   "source": [
    "def say_hello():\n",
    "    print(\"Hello\")\n",
    "\n",
    "say_hello() # Don't forget the ()"
   ]
  },
  {
   "cell_type": "code",
   "execution_count": 73,
   "id": "287f6128-5165-406a-8576-969d519de995",
   "metadata": {},
   "outputs": [],
   "source": [
    "def say_hello(name):\n",
    "    print(f\"Hello {name}\")"
   ]
  },
  {
   "cell_type": "code",
   "execution_count": 77,
   "id": "277b85dc-3cf1-438e-b0df-863e279de27d",
   "metadata": {},
   "outputs": [
    {
     "name": "stdout",
     "output_type": "stream",
     "text": [
      "Hello Evi\n"
     ]
    }
   ],
   "source": [
    "# Calling that function that accepts a parameter/var \n",
    "# We can now call it, and pass the value we want on that parameter/argument/var\n",
    "# By doing that the function will excecute and it will input our value into the function and give us the result:\n",
    "\n",
    "# say_hello(name) --> If we call it like this, the var name is an empty placeholder, we haven't passed any value for it to hold, \n",
    "# therefore we need to call it this way:\n",
    "\n",
    "say_hello(\"Evi\")"
   ]
  },
  {
   "cell_type": "code",
   "execution_count": 79,
   "id": "354dec4b-6ade-4afe-9436-4628d2e1b258",
   "metadata": {},
   "outputs": [
    {
     "name": "stdout",
     "output_type": "stream",
     "text": [
      "Hello Provide Default Value Here\n"
     ]
    }
   ],
   "source": [
    "# If we provide default value when var inside function is defined, then we can call the function with () only\n",
    "\n",
    "def say_hello(name=\"Provide Default Value Here\"):\n",
    "    print(f\"Hello {name}\")\n",
    "\n",
    "say_hello() # Calling with empty parenthesis --> will output the default value"
   ]
  },
  {
   "cell_type": "code",
   "execution_count": 81,
   "id": "3aea1552-ca75-4fba-b84c-825fce4834b0",
   "metadata": {},
   "outputs": [
    {
     "data": {
      "text/plain": [
       "40"
      ]
     },
     "execution_count": 81,
     "metadata": {},
     "output_type": "execute_result"
    }
   ],
   "source": [
    "# function example with RETURN keyword\n",
    "\n",
    "def add_num(num1, num2):\n",
    "    return num1 + num2   # Return allows to save the result, therefore we can ASSIGN it to a var\n",
    "\n",
    "add_num(10,30) # This will return the value\n",
    "\n",
    "added_sum = add_num(10,30) # This saves the specific result of the function and ASSIGNS it to a var. that we can later call\n",
    "\n",
    "added_sum"
   ]
  },
  {
   "cell_type": "markdown",
   "id": "fc220e66-701e-453f-b681-0eb27656897e",
   "metadata": {},
   "source": [
    "<span style=\"font-size: 18px;\">\n",
    "The only case both <code>return</code> and <code>print</code> are used is if you are debugging and want to see the result as you go.\n",
    "</span>"
   ]
  },
  {
   "cell_type": "markdown",
   "id": "d499c029-89af-4eb3-b602-a4e8c3b2c3f4",
   "metadata": {
    "jp-MarkdownHeadingCollapsed": true
   },
   "source": [
    "#### Functions with Logic"
   ]
  },
  {
   "cell_type": "code",
   "execution_count": 203,
   "id": "9cbfa60d-e1cf-46f2-b2d2-7403be37d6ef",
   "metadata": {},
   "outputs": [
    {
     "data": {
      "text/plain": [
       "False"
      ]
     },
     "execution_count": 203,
     "metadata": {},
     "output_type": "execute_result"
    }
   ],
   "source": [
    "#  1. Simple Function \n",
    "\n",
    "def is_number_even(num):\n",
    "    return num % 2 == 0\n",
    "\n",
    "is_number_even(67)   # Here we type the numbers we want to test for our function"
   ]
  },
  {
   "cell_type": "code",
   "execution_count": 217,
   "id": "7b302534-0e35-4aa6-970c-87b2a82b4dd1",
   "metadata": {},
   "outputs": [],
   "source": [
    "#  2. Check inside a List\n",
    "\n",
    "\n",
    "def even_list(num_list):\n",
    "\n",
    "    for number in num_list:\n",
    "        if number % 2 == 0:\n",
    "            return True\n",
    "        else: \n",
    "            pass\n"
   ]
  },
  {
   "cell_type": "code",
   "execution_count": 219,
   "id": "d538d097-3a18-4bca-abbf-535200112ef3",
   "metadata": {},
   "outputs": [],
   "source": [
    "even_list([3,5,7,9])"
   ]
  },
  {
   "cell_type": "code",
   "execution_count": 221,
   "id": "f7a166db-0b64-4bb1-9261-94b7c6163fc8",
   "metadata": {},
   "outputs": [
    {
     "data": {
      "text/plain": [
       "True"
      ]
     },
     "execution_count": 221,
     "metadata": {},
     "output_type": "execute_result"
    }
   ],
   "source": [
    "even_list([3,5,7,9, 4])"
   ]
  },
  {
   "cell_type": "code",
   "execution_count": 231,
   "id": "c5692324-0903-4c04-b9e4-c5b6115e9dca",
   "metadata": {},
   "outputs": [],
   "source": [
    "#  3. Only if there are no even numbers you can return false:\n",
    "\n",
    "\n",
    "def even_list(num_list):\n",
    "\n",
    "    for number in num_list:\n",
    "        if number % 2 == 0:\n",
    "            return True\n",
    "        else: \n",
    "            pass\n",
    "\n",
    "    return False   # Pay attention to the INDENTATION of return False\n",
    "\n",
    "# The for-loop checks all the numbers. THEN it goes to return false after no numbers were validated to be true = even"
   ]
  },
  {
   "cell_type": "code",
   "execution_count": 233,
   "id": "5e1a8e95-751e-4a49-8377-0e3016732746",
   "metadata": {},
   "outputs": [
    {
     "data": {
      "text/plain": [
       "True"
      ]
     },
     "execution_count": 233,
     "metadata": {},
     "output_type": "execute_result"
    }
   ],
   "source": [
    "even_list([3,5,7,9, 4])"
   ]
  },
  {
   "cell_type": "code",
   "execution_count": 257,
   "id": "3d9924ef-26ee-4ca6-bd36-16205dafecb9",
   "metadata": {},
   "outputs": [],
   "source": [
    "#  4. Return all EVEN numbers from the list now:\n",
    "\n",
    "\n",
    "def return_all_even_num(num_list):\n",
    "\n",
    "    even_numbers = []\n",
    "    \n",
    "    for x in num_list:\n",
    "        if x % 2 == 0:\n",
    "            even_numbers.append(x)\n",
    "        else: \n",
    "            pass\n",
    "\n",
    "    return even_numbers\n"
   ]
  },
  {
   "cell_type": "code",
   "execution_count": 261,
   "id": "233de7ad-6c96-4d83-b2d0-e2daccfad9b6",
   "metadata": {},
   "outputs": [
    {
     "data": {
      "text/plain": [
       "[2, 4, 6, 8, 500, 4048903830, 66]"
      ]
     },
     "execution_count": 261,
     "metadata": {},
     "output_type": "execute_result"
    }
   ],
   "source": [
    "return_all_even_num([1,2,3,4,5,6,7,8,89,101,500,4048903830, 8884999,66,662233,801247297])"
   ]
  },
  {
   "cell_type": "markdown",
   "id": "ac16cf07-b14f-42f7-b2d5-f242ea8ba8a3",
   "metadata": {
    "jp-MarkdownHeadingCollapsed": true
   },
   "source": [
    "#### Tuple Unpacking With Functions\n",
    "\n",
    "<span style=\"font-size: 16px\">\n",
    "OR Nested INDEXING, <em>when you grab items inside nested objects(list, tuple, dictionaries or anything)</em>\n",
    "</span>"
   ]
  },
  {
   "cell_type": "markdown",
   "id": "a9451056-5a1d-4b52-86d0-7149ffdbfc51",
   "metadata": {},
   "source": [
    "##### <span style=\"font-size: 16px;\"/>  <em> Example of Tuple Unpacking to refresh memory with for loops </em> </span>"
   ]
  },
  {
   "cell_type": "code",
   "execution_count": 272,
   "id": "66dc661a-1875-4aa7-aa1c-3b4ec9990b02",
   "metadata": {},
   "outputs": [],
   "source": [
    "stock_prices = [('AAPL',200), ('GOOG',400), ('MSFT',100)]"
   ]
  },
  {
   "cell_type": "code",
   "execution_count": 274,
   "id": "62cd9a67-c76d-4e9b-bff0-ff7d2ec32221",
   "metadata": {},
   "outputs": [
    {
     "name": "stdout",
     "output_type": "stream",
     "text": [
      "('AAPL', 200)\n",
      "('GOOG', 400)\n",
      "('MSFT', 100)\n"
     ]
    }
   ],
   "source": [
    "for item in stock_prices:\n",
    "    print(item)"
   ]
  },
  {
   "cell_type": "code",
   "execution_count": 276,
   "id": "db60d2ee-69ed-41ff-aba8-342492a2542a",
   "metadata": {},
   "outputs": [
    {
     "name": "stdout",
     "output_type": "stream",
     "text": [
      "AAPL\n",
      "GOOG\n",
      "MSFT\n"
     ]
    }
   ],
   "source": [
    "# Tuple Unpacking:\n",
    "\n",
    "for ticker, price in stock_prices:\n",
    "    print(ticker)"
   ]
  },
  {
   "cell_type": "markdown",
   "id": "179db477-a267-48bc-880e-5c30313ee23f",
   "metadata": {
    "jp-MarkdownHeadingCollapsed": true
   },
   "source": [
    "#### <span style = \"font-size: 18px;\" />**Tuple Unpacking** <em>(Nested Indexing)</em> **with a Function CALL**</span>"
   ]
  },
  {
   "cell_type": "code",
   "execution_count": 340,
   "id": "fc6f7e35-a906-4b86-b4e7-896db97409bc",
   "metadata": {},
   "outputs": [],
   "source": [
    "work_hours = [('Abby', 100), ('Billy', 400), ('Cassie', 800)]"
   ]
  },
  {
   "cell_type": "code",
   "execution_count": 375,
   "id": "63cb63ec-2334-42a3-9dbd-a72929498709",
   "metadata": {},
   "outputs": [],
   "source": [
    "# My Solution:\n",
    "\n",
    "def empl_hours_tracking(empl_name):\n",
    "\n",
    "    hours_track = []\n",
    "\n",
    "    for e, h in work_hours:\n",
    "        if isinstance(empl_name, str) and e == empl_name:\n",
    "            hours_track.append([e, h])\n",
    "        if isinstance(empl_name, (int, float)) and h == empl_name:\n",
    "            hours_track.append([e, h])\n",
    "    return hours_track\n",
    "    "
   ]
  },
  {
   "cell_type": "code",
   "execution_count": 344,
   "id": "c52b58c6-8864-4c7f-8e51-6c9db73e5be9",
   "metadata": {},
   "outputs": [
    {
     "data": {
      "text/plain": [
       "[['Billy', 400]]"
      ]
     },
     "execution_count": 344,
     "metadata": {},
     "output_type": "execute_result"
    }
   ],
   "source": [
    "empl_hours_tracking('Billy')"
   ]
  },
  {
   "cell_type": "code",
   "execution_count": 346,
   "id": "13c5e91c-4c24-4956-b17b-e9d2dd4a2a77",
   "metadata": {},
   "outputs": [
    {
     "data": {
      "text/plain": [
       "[['Cassie', 800]]"
      ]
     },
     "execution_count": 346,
     "metadata": {},
     "output_type": "execute_result"
    }
   ],
   "source": [
    "empl_hours_tracking(800)"
   ]
  },
  {
   "cell_type": "code",
   "execution_count": 348,
   "id": "9dec9382-04ec-4734-898b-74857571bf07",
   "metadata": {},
   "outputs": [],
   "source": [
    "# Solution Requiring empl of month with max hours:\n",
    "\n",
    "def employee_check(work_hours):\n",
    "\n",
    "    current_max = 0\n",
    "    employee_of_month = ''\n",
    "\n",
    "    for e, h in work_hours:\n",
    "        if h > current_max:\n",
    "            current_max = h\n",
    "            employee_of_month = e\n",
    "        else:\n",
    "            pass\n",
    "    return(employee_of_month, current_max)\n",
    "\n",
    "\n",
    "\n",
    "employee_check(work_hours)            # Just calling the function above directly\n",
    "\n",
    "result = employee_check(work_hours)   # Assigning the result to a var to call later just the result var instead of all function\n",
    "\n",
    "e, h = employee_check(work_hours)     # Since the result is a pair, we assign it NOT to ONE var, BUT TWO VAR \n",
    "                                      # each representing the index position of the element in the pair\n",
    "                                      # Therefore, we can call at a Granular Detailed level the specific element interested, \n",
    "                                      # either name or hours worked"
   ]
  },
  {
   "cell_type": "code",
   "execution_count": 350,
   "id": "86dd1caf-2991-4c4d-8be1-b0d23e185d76",
   "metadata": {},
   "outputs": [
    {
     "data": {
      "text/plain": [
       "'Cassie'"
      ]
     },
     "execution_count": 350,
     "metadata": {},
     "output_type": "execute_result"
    }
   ],
   "source": [
    "e"
   ]
  },
  {
   "cell_type": "code",
   "execution_count": 352,
   "id": "7ccc0137-9e8b-49d5-b005-5df73e3bbb99",
   "metadata": {},
   "outputs": [
    {
     "data": {
      "text/plain": [
       "800"
      ]
     },
     "execution_count": 352,
     "metadata": {},
     "output_type": "execute_result"
    }
   ],
   "source": [
    "h"
   ]
  },
  {
   "cell_type": "code",
   "execution_count": 354,
   "id": "99b367f6-528e-458a-a4c1-c62089dd1564",
   "metadata": {},
   "outputs": [
    {
     "data": {
      "text/plain": [
       "('Cassie', 800)"
      ]
     },
     "execution_count": 354,
     "metadata": {},
     "output_type": "execute_result"
    }
   ],
   "source": [
    "result"
   ]
  },
  {
   "cell_type": "code",
   "execution_count": 356,
   "id": "8ac638ac-eaa0-4cd6-83fe-afa478505056",
   "metadata": {},
   "outputs": [
    {
     "data": {
      "text/plain": [
       "('Cassie', 800)"
      ]
     },
     "execution_count": 356,
     "metadata": {},
     "output_type": "execute_result"
    }
   ],
   "source": [
    "employee_check(work_hours)"
   ]
  },
  {
   "cell_type": "markdown",
   "id": "290a82ee-4131-436d-9390-272e7c3edb91",
   "metadata": {
    "jp-MarkdownHeadingCollapsed": true
   },
   "source": [
    "#### <span style = \"font-size: 18px;\"/> **Interactions Between Functions** \n",
    "<span style = \"font-size: 14px;\"/> <em> Nested Functions, Assigning Functions to other Functions as a var/parameter/argument</em> </span>"
   ]
  },
  {
   "cell_type": "code",
   "execution_count": 359,
   "id": "dcb876fc-b10d-496a-a8ec-4f448255432e",
   "metadata": {},
   "outputs": [],
   "source": [
    "# Shuffle Function from the Random Library/Module (You need to import the module or library when using this)\n",
    "\n",
    "example = [1,2,3,4,5,6,7]"
   ]
  },
  {
   "cell_type": "code",
   "execution_count": 361,
   "id": "90a4e743-c3df-42f5-8d93-7d34e2528367",
   "metadata": {},
   "outputs": [],
   "source": [
    "from random import shuffle"
   ]
  },
  {
   "cell_type": "code",
   "execution_count": 363,
   "id": "110d9964-9350-452c-8ea9-0d42700302b2",
   "metadata": {},
   "outputs": [
    {
     "data": {
      "text/plain": [
       "[4, 1, 5, 7, 6, 2, 3]"
      ]
     },
     "execution_count": 363,
     "metadata": {},
     "output_type": "execute_result"
    }
   ],
   "source": [
    "shuffle(example)  # It shuffles in place, meaning does not return result, nor can it be assigned to result, \n",
    "                  # Therefore, need to create a function and assign that function to a var result so that we can call it\n",
    "\n",
    "example"
   ]
  },
  {
   "cell_type": "markdown",
   "id": "6037acab-82f7-4416-b010-d839c1704cfd",
   "metadata": {
    "jp-MarkdownHeadingCollapsed": true
   },
   "source": [
    "#### ***Creating the Shuffle Game:***"
   ]
  },
  {
   "cell_type": "code",
   "execution_count": 366,
   "id": "9f6b1f43-7476-4d90-8bbc-fb1c656c0557",
   "metadata": {},
   "outputs": [
    {
     "data": {
      "text/plain": [
       "[2, 5, 6, 1, 3, 7, 4]"
      ]
     },
     "execution_count": 366,
     "metadata": {},
     "output_type": "execute_result"
    }
   ],
   "source": [
    "# Understanding how to use shuffle in the function\n",
    "\n",
    "def shuffle_list(mylist):\n",
    "    shuffle(mylist)\n",
    "    return mylist\n",
    "\n",
    "result = shuffle_list(example)\n",
    "\n",
    "result   # Everytime you run this cell it will give  different result of shuffled numbers from the example list above"
   ]
  },
  {
   "cell_type": "code",
   "execution_count": 368,
   "id": "4f4ec557-aa7f-4ef2-a834-2bb110192849",
   "metadata": {},
   "outputs": [
    {
     "data": {
      "text/plain": [
       "[' ', ' ', 'O']"
      ]
     },
     "execution_count": 368,
     "metadata": {},
     "output_type": "execute_result"
    }
   ],
   "source": [
    "# The code for the game\n",
    "\n",
    "\n",
    "# 1. INITIAL LIST\n",
    "\n",
    "game_list = [' ', 'O', ' ']\n",
    "\n",
    "\n",
    "# 2. SHUFFLE LIST\n",
    "\n",
    "def shuffle_game_list(a):\n",
    "    shuffle(a)\n",
    "    return a\n",
    "\n",
    "game = shuffle_game_list(game_list)\n",
    "\n",
    "game"
   ]
  },
  {
   "cell_type": "code",
   "execution_count": 370,
   "id": "24944c45-d49b-455b-ac94-99f3133f29b8",
   "metadata": {},
   "outputs": [],
   "source": [
    "# Making it interactive, so players can play\n",
    "\n",
    "\n",
    "# 3. USER GUESS\n",
    "\n",
    "def player_guess():\n",
    "\n",
    "    guess = ''\n",
    "\n",
    "    while guess not in ['1','2','3']:\n",
    "        guess = input(\"Pick a number: 1, 2, or 3 \")\n",
    "        \n",
    "        if guess not in ['1', '2', '3']:\n",
    "            print(\"Not a Valid Entry!\")\n",
    "\n",
    "    return int(guess)"
   ]
  },
  {
   "cell_type": "code",
   "execution_count": 372,
   "id": "c4ec6dff-ab35-41f4-9c33-270ce46bcfc2",
   "metadata": {},
   "outputs": [
    {
     "name": "stdout",
     "output_type": "stream",
     "text": [
      "Pick a number: 1, 2, or 3  1\n"
     ]
    },
    {
     "data": {
      "text/plain": [
       "1"
      ]
     },
     "execution_count": 372,
     "metadata": {},
     "output_type": "execute_result"
    }
   ],
   "source": [
    "player_guess()"
   ]
  },
  {
   "cell_type": "code",
   "execution_count": 623,
   "id": "26bf7742-549c-48e1-99e5-4f133eea372d",
   "metadata": {},
   "outputs": [
    {
     "name": "stdout",
     "output_type": "stream",
     "text": [
      "Pick a number: 1, 2, or 3  1\n"
     ]
    }
   ],
   "source": [
    "myindex = player_guess()"
   ]
  },
  {
   "cell_type": "code",
   "execution_count": 629,
   "id": "a912922d-e87b-4a85-a7c3-f3faac45221c",
   "metadata": {},
   "outputs": [],
   "source": [
    "# 4. CHECK GUESS\n",
    "\n",
    "def check_guess(mylist, guess):\n",
    "    if mylist[guess-1] == 'O':\n",
    "        print(\"Correct! - Good Job!\")\n",
    "        print(mylist)\n",
    "    else: \n",
    "        print(\"Wrong Guess!\")\n",
    "        print(mylist)"
   ]
  },
  {
   "cell_type": "code",
   "execution_count": 631,
   "id": "6641f69c-c1e4-44eb-912d-a6dc419398e8",
   "metadata": {},
   "outputs": [],
   "source": [
    "# Up so far we defined functions to prepare for the game\n",
    "\n",
    "# Now we define the ACTUAL LOGIC, and this is where we combine functions together so they can interact\n",
    "\n",
    "\n",
    "# Steps for putting everything together:\n",
    "\n",
    "# 1. INITIAL LIST\n",
    "\n",
    "# 2. SHUFFLE LIST\n",
    "\n",
    "# 3. USER GUESS\n",
    "\n",
    "# 4. CHECK "
   ]
  },
  {
   "attachments": {},
   "cell_type": "markdown",
   "id": "1c67a15c-4472-43f0-8800-57bffbde49ce",
   "metadata": {
    "jp-MarkdownHeadingCollapsed": true
   },
   "source": [
    "#### <span style = \"font-size: 30px;\"/> *args and **kwargs\n",
    "\n",
    "<span style = \"font-size: 20px;\"/> The word is not important. The * or ** before the word IS!<br/>\n",
    "<span style = \"font-size: 16px;\"/>*args    --> **positional arguments** pass as many parameters as you want. The function treats result as a TUPLE <br/>\n",
    "<span style = \"font-size: 16px;\"/>**kwargs --> **keyword arguments** pass as many parameters as you want. The function treats result as a Dictionary<br/>\n",
    "<span style = \"font-size: 20px;\"/> 1 Star  for TUPLE results<br/>\n",
    "<span style = \"font-size: 20px;\"/> 2 Stars for Dictionary results\n",
    "\n",
    "<span style = \"font-size: 20px;\"/> ***positional arguments** should go before ****keyword arguments** when using the combined approach. dont mix them\n",
    "\n",
    "<span style = \"font-size: 20px;\"/>useful when in use with OUTSIDE LIBRARIES\n"
   ]
  },
  {
   "cell_type": "markdown",
   "id": "3c5586b9-9ecc-4a0f-9d22-f4cd66f42708",
   "metadata": {
    "jp-MarkdownHeadingCollapsed": true
   },
   "source": [
    "#### ****positional arguments - Tuple Style***"
   ]
  },
  {
   "cell_type": "code",
   "execution_count": 712,
   "id": "d488f36c-9c1a-4aca-ae07-aff35be46f99",
   "metadata": {},
   "outputs": [
    {
     "data": {
      "text/plain": [
       "5.0"
      ]
     },
     "execution_count": 712,
     "metadata": {},
     "output_type": "execute_result"
    }
   ],
   "source": [
    "def myfunc(a, b):\n",
    "    # Returns 5% of the sum of a and b\n",
    "    return sum((a,b)) * 0.05\n",
    "\n",
    "myfunc(40,60)"
   ]
  },
  {
   "cell_type": "code",
   "execution_count": 714,
   "id": "8d616d4b-d647-47ca-9267-b602d0d2721f",
   "metadata": {},
   "outputs": [
    {
     "data": {
      "text/plain": [
       "50.0"
      ]
     },
     "execution_count": 714,
     "metadata": {},
     "output_type": "execute_result"
    }
   ],
   "source": [
    "def myfunc(*args):   # Basically, INSERT as many parameters as you want\n",
    "    return sum(args) * 0.05\n",
    "\n",
    "\n",
    "# Before i could insert only two values: ex: 40 and 60\n",
    "# Now i can add as many as i want: ex: 40, 60, 90, 100, etc...\n",
    "\n",
    "myfunc(40,60, 100, 800)"
   ]
  },
  {
   "cell_type": "markdown",
   "id": "ea4723c9-9285-407b-94e6-cd93ddbcdbda",
   "metadata": {
    "jp-MarkdownHeadingCollapsed": true
   },
   "source": [
    "#### ****keyword arguments - Dictionary Style (key:value pair)***"
   ]
  },
  {
   "cell_type": "code",
   "execution_count": 775,
   "id": "dc579f2e-e7d9-4372-8110-4736d2c376b7",
   "metadata": {},
   "outputs": [],
   "source": [
    "def food_type_func(**d):\n",
    "    print(d)\n",
    "    if 'fruit' in d:\n",
    "        print('My fruit of choice is {}'.format(d['fruit']))\n",
    "    else:\n",
    "        print('I did not find any fruits here')\n"
   ]
  },
  {
   "cell_type": "code",
   "execution_count": 777,
   "id": "8db33e0e-164b-4108-95ff-70d42fc079d4",
   "metadata": {},
   "outputs": [
    {
     "name": "stdout",
     "output_type": "stream",
     "text": [
      "{'fruit': 'apple', 'veggie': 'lettuce'}\n",
      "My fruit of choice is apple\n"
     ]
    }
   ],
   "source": [
    "food_type_func(fruit = 'apple', veggie = 'lettuce')"
   ]
  },
  {
   "cell_type": "markdown",
   "id": "be17f3a0-ce34-4af6-8e25-c6d171db6c69",
   "metadata": {
    "jp-MarkdownHeadingCollapsed": true
   },
   "source": [
    "#### ****positional & keyword arguments Combined in one function***"
   ]
  },
  {
   "cell_type": "code",
   "execution_count": 755,
   "id": "1da4525f-3d77-495e-90dc-328bd207fcea",
   "metadata": {},
   "outputs": [],
   "source": [
    "def myfunc(*arg_tuple, **d_key_value_pair):\n",
    "    print(arg_tuple)\n",
    "    print(d_key_value_pair)\n",
    "    print('*positional arguments[index] {}, **keyword arguments[index] {}'.format(arg_tuple[0], d_key_value_pair['food']))\n",
    "    \n"
   ]
  },
  {
   "cell_type": "code",
   "execution_count": 781,
   "id": "df62ffad-56f8-4923-8167-6887d4806463",
   "metadata": {},
   "outputs": [
    {
     "name": "stdout",
     "output_type": "stream",
     "text": [
      "(10, 20, 30)\n",
      "{'some_key': 'some value', 'food': 'some food as value, ex: eggs'}\n",
      "*positional arguments[index] 10, **keyword arguments[index] some food as value, ex: eggs\n"
     ]
    }
   ],
   "source": [
    "myfunc(10,20,30, some_key='some value', food = 'some food as value, ex: eggs')"
   ]
  },
  {
   "cell_type": "markdown",
   "id": "61aebc8e-b0c0-43f7-9c28-0936ebeafaa2",
   "metadata": {
    "jp-MarkdownHeadingCollapsed": true
   },
   "source": [
    "#### <span style = \"font-size: 22px;\"/> **Interactions Between Functions:**  \n",
    "<span style = \"font-size: 18px;\"/>*Creating the Shuffle Game: (All In ONE Step)*"
   ]
  },
  {
   "cell_type": "code",
   "execution_count": null,
   "id": "1af1b611-5a02-4ff2-ba6b-67ab1e3cfa97",
   "metadata": {},
   "outputs": [],
   "source": []
  },
  {
   "cell_type": "code",
   "execution_count": 188,
   "id": "f187b1b2-e17d-4c0a-9c3c-b03034aab386",
   "metadata": {},
   "outputs": [
    {
     "name": "stdout",
     "output_type": "stream",
     "text": [
      "Pick a number: 1, 2, or 3  1\n"
     ]
    },
    {
     "name": "stdout",
     "output_type": "stream",
     "text": [
      "you owe Evi 100!!<3!\n",
      "[' ', 'O', ' ']\n"
     ]
    }
   ],
   "source": [
    "# 0. Import the shuffle function from rand Module/Library\n",
    "\n",
    "from random import shuffle\n",
    "# ~~~~~~~~~~~~~~~~~~~~~~~~~~~~~~~~~~~~~~~~~~~~~~~~~~~\n",
    "\n",
    "\n",
    "# 1. INITIAL LIST    /// game_list\n",
    "\n",
    "game_list = [' ', 'O', ' ']\n",
    "# ~~~~~~~~~~~~~~~~~~~~~~~~~~~~~~~~~~~~~~~~~~~~~~~~~~~\n",
    "\n",
    "\n",
    "# 2. SHUFFLE LIST    /// shuffle_list(game_list)\n",
    "\n",
    "def func_shuffle_game_list(list_to_be_shuffled):\n",
    "    shuffle(list_to_be_shuffled)\n",
    "    return list_to_be_shuffled\n",
    "    \n",
    "shuffled_list = func_shuffle_game_list(game_list)\n",
    "# ~~~~~~~~~~~~~~~~~~~~~~~~~~~~~~~~~~~~~~~~~~~~~~~~~~~\n",
    "\n",
    "\n",
    "# 3. USER GUESS      /// guess_index = func_player_guess()\n",
    "\n",
    "def func_player_guess():\n",
    "\n",
    "    guess = ''\n",
    "\n",
    "    while guess not in ['1','2','3']:\n",
    "        guess = input(\"Pick a number: 1, 2, or 3 \")\n",
    "        \n",
    "        if guess not in ['1', '2', '3']:\n",
    "            print(\"Not a Valid Entry!\")\n",
    "\n",
    "    return int(guess)\n",
    "\n",
    "guess_index = func_player_guess()\n",
    "# ~~~~~~~~~~~~~~~~~~~~~~~~~~~~~~~~~~~~~~~~~~~~~~~~~~~\n",
    "\n",
    "\n",
    "# 4. CHECK GUESS     /// check_guess(mylist, guess)\n",
    "\n",
    "def check_guess(mylist, guess):\n",
    "    if mylist[guess-1] == 'O':\n",
    "        print(\"Correct! - Good Job!\")\n",
    "        print(mylist)\n",
    "    else: \n",
    "        print(\"you owe Evi 100!!<3!\")\n",
    "        print(mylist)\n",
    "# ~~~~~~~~~~~~~~~~~~~~~~~~~~~~~~~~~~~~~~~~~~~~~~~~~~~\n",
    "\n",
    "\n",
    "\n",
    "## Final Function Interaction Answer:\n",
    "\n",
    "check_guess(shuffled_list, guess_index)"
   ]
  },
  {
   "cell_type": "markdown",
   "id": "9543aefb-9c77-4af0-abac-a608c1954200",
   "metadata": {
    "jp-MarkdownHeadingCollapsed": true
   },
   "source": [
    "#### <h4>  <span style = \"font-size: 18px;\"> <b> Lambda Expressions, Map, and Filter Functions </b> </span>  </h4> "
   ]
  },
  {
   "cell_type": "markdown",
   "id": "10ba480e-36b9-466e-b4b5-8a412d9dde41",
   "metadata": {
    "jp-MarkdownHeadingCollapsed": true
   },
   "source": [
    "##### <h5>  <span style = \"font-size: 16px;\"> <b>1. Lambda Expressions</b> – Use them One Time (Anonymous Funct.) </span>  </h5> "
   ]
  },
  {
   "cell_type": "code",
   "execution_count": 318,
   "id": "cb618849-1449-48c8-bc17-71aff1f7cb2a",
   "metadata": {},
   "outputs": [],
   "source": [
    "# 1\n",
    "def square(num):\n",
    "    result = num**2\n",
    "    return result"
   ]
  },
  {
   "cell_type": "code",
   "execution_count": 280,
   "id": "e0ffd0dc-2027-4480-a3b3-8bccf479ed34",
   "metadata": {},
   "outputs": [
    {
     "data": {
      "text/plain": [
       "9"
      ]
     },
     "execution_count": 280,
     "metadata": {},
     "output_type": "execute_result"
    }
   ],
   "source": [
    "square(3)"
   ]
  },
  {
   "cell_type": "code",
   "execution_count": 287,
   "id": "fb8a26bf-4ff8-41e9-b593-998dc21b0513",
   "metadata": {},
   "outputs": [],
   "source": [
    "# 2\n",
    "def square(num):\n",
    "    return num**2"
   ]
  },
  {
   "cell_type": "code",
   "execution_count": 242,
   "id": "c71dd291-3ec2-4175-9cf9-d5e6f6ee1855",
   "metadata": {},
   "outputs": [
    {
     "data": {
      "text/plain": [
       "9"
      ]
     },
     "execution_count": 242,
     "metadata": {},
     "output_type": "execute_result"
    }
   ],
   "source": [
    "square(3)"
   ]
  },
  {
   "cell_type": "code",
   "execution_count": 256,
   "id": "9c6c6054-1199-422a-9e69-6ce6200fde69",
   "metadata": {},
   "outputs": [],
   "source": [
    "# 3\n",
    "def square(num): return num**2"
   ]
  },
  {
   "cell_type": "code",
   "execution_count": 246,
   "id": "3f95fba4-4cce-4afc-a379-bf8059184ce6",
   "metadata": {},
   "outputs": [],
   "source": [
    "# 4\n",
    "square = lambda num: num**2"
   ]
  },
  {
   "cell_type": "code",
   "execution_count": 302,
   "id": "a8a6b24b-5920-4e68-8ea3-d2d81ea4a275",
   "metadata": {},
   "outputs": [
    {
     "data": {
      "text/plain": [
       "[1, 4, 9, 16, 25, 36]"
      ]
     },
     "execution_count": 302,
     "metadata": {},
     "output_type": "execute_result"
    }
   ],
   "source": [
    "# 5\n",
    "list(map(lambda num:num**2, mynums))"
   ]
  },
  {
   "cell_type": "code",
   "execution_count": 250,
   "id": "1b2bc383-8d14-4437-87f3-d5831c4b2419",
   "metadata": {},
   "outputs": [
    {
     "data": {
      "text/plain": [
       "[2, 4, 6]"
      ]
     },
     "execution_count": 250,
     "metadata": {},
     "output_type": "execute_result"
    }
   ],
   "source": [
    "# 6\n",
    "list(filter(lambda num:num%2 == 0, mynums))"
   ]
  },
  {
   "cell_type": "code",
   "execution_count": 258,
   "id": "4fa7155f-081b-4254-a0c1-1619ab4912c8",
   "metadata": {},
   "outputs": [
    {
     "data": {
      "text/plain": [
       "['A', 'E', 'S']"
      ]
     },
     "execution_count": 258,
     "metadata": {},
     "output_type": "execute_result"
    }
   ],
   "source": [
    "# 7\n",
    "list(map(lambda x:x[0], names))"
   ]
  },
  {
   "cell_type": "code",
   "execution_count": 254,
   "id": "fb44dcc1-d646-4b01-98ef-1dbfa569b29d",
   "metadata": {},
   "outputs": [
    {
     "data": {
      "text/plain": [
       "['ydnA', 'evE', 'yllaS']"
      ]
     },
     "execution_count": 254,
     "metadata": {},
     "output_type": "execute_result"
    }
   ],
   "source": [
    "# 8\n",
    "list(map(lambda x:x[::-1], names))"
   ]
  },
  {
   "attachments": {},
   "cell_type": "markdown",
   "id": "0efa014e-ac7e-462d-a389-e6b278d61e6b",
   "metadata": {
    "jp-MarkdownHeadingCollapsed": true
   },
   "source": [
    "##### <h5>  <span style = \"font-size: 16px;\"> <b>2. Map Functions</b> – Apply a function to each item of one or more iterables (like lists, tuples), and returns an iterator that yields the results </span>  </h5> "
   ]
  },
  {
   "cell_type": "code",
   "execution_count": 111,
   "id": "8f088126-24da-44d5-8015-474079c96a9e",
   "metadata": {},
   "outputs": [],
   "source": [
    "def square(num):\n",
    "    return num**2"
   ]
  },
  {
   "cell_type": "code",
   "execution_count": 113,
   "id": "023f21f5-b6ab-4f7c-98da-3e2c72c3aedd",
   "metadata": {},
   "outputs": [],
   "source": [
    "my_nums = [1,2,3,4,5]"
   ]
  },
  {
   "cell_type": "code",
   "execution_count": 121,
   "id": "81dee26a-3db3-4702-8977-720fa17b5c41",
   "metadata": {},
   "outputs": [
    {
     "name": "stdout",
     "output_type": "stream",
     "text": [
      "1\n",
      "4\n",
      "9\n",
      "16\n",
      "25\n"
     ]
    }
   ],
   "source": [
    "for item in map(square, my_nums):\n",
    "    print(item)"
   ]
  },
  {
   "cell_type": "code",
   "execution_count": 125,
   "id": "73492109-8388-4e58-b843-69b51ebf7b31",
   "metadata": {},
   "outputs": [
    {
     "data": {
      "text/plain": [
       "[1, 4, 9, 16, 25]"
      ]
     },
     "execution_count": 125,
     "metadata": {},
     "output_type": "execute_result"
    }
   ],
   "source": [
    "list(map(square, my_nums))"
   ]
  },
  {
   "cell_type": "code",
   "execution_count": 141,
   "id": "9da75740-e68d-4e96-bf26-8f09cf16bb07",
   "metadata": {},
   "outputs": [],
   "source": [
    "def slicer(mystring):\n",
    "    if len(mystring) % 2 == 0:\n",
    "        return 'EVEN'\n",
    "    else:\n",
    "        return mystring[0]"
   ]
  },
  {
   "cell_type": "code",
   "execution_count": 143,
   "id": "98b67a46-3710-4f15-a45e-ba2ce3c085a1",
   "metadata": {},
   "outputs": [],
   "source": [
    "names = ['Andy', 'Eve', 'Sally']"
   ]
  },
  {
   "cell_type": "code",
   "execution_count": 145,
   "id": "3b4ac6eb-d241-4cbf-bfce-459e862dd344",
   "metadata": {},
   "outputs": [
    {
     "data": {
      "text/plain": [
       "['EVEN', 'E', 'S']"
      ]
     },
     "execution_count": 145,
     "metadata": {},
     "output_type": "execute_result"
    }
   ],
   "source": [
    "list(map(slicer, names))"
   ]
  },
  {
   "attachments": {},
   "cell_type": "markdown",
   "id": "e29ae568-6dd0-4aa0-b65a-87dfeda7a52d",
   "metadata": {
    "jp-MarkdownHeadingCollapsed": true
   },
   "source": [
    "##### <h5>  <span style = \"font-size: 16px;\"> <b>3. Filter Functions</b> – Selects items from an iterable based on a condition (a function that returns True or False) </span>  </h5> "
   ]
  },
  {
   "cell_type": "code",
   "execution_count": 167,
   "id": "1a8333ae-36c3-4b9b-830f-a1cbe163a74f",
   "metadata": {},
   "outputs": [],
   "source": [
    "def check_even(num):\n",
    "    return num % 2 == 0"
   ]
  },
  {
   "cell_type": "code",
   "execution_count": 169,
   "id": "cb2851a9-0bab-4649-aefb-5b554e78ff73",
   "metadata": {},
   "outputs": [],
   "source": [
    "mynums = [1,2,3,4,5,6]"
   ]
  },
  {
   "cell_type": "code",
   "execution_count": 171,
   "id": "195c004f-e21c-4144-9d51-92ac94b93cda",
   "metadata": {},
   "outputs": [
    {
     "data": {
      "text/plain": [
       "[2, 4, 6]"
      ]
     },
     "execution_count": 171,
     "metadata": {},
     "output_type": "execute_result"
    }
   ],
   "source": [
    "list(filter(check_even, mynums))"
   ]
  },
  {
   "cell_type": "code",
   "execution_count": 173,
   "id": "acd65d7c-5408-449c-a908-3afa9edbd3d8",
   "metadata": {},
   "outputs": [
    {
     "name": "stdout",
     "output_type": "stream",
     "text": [
      "2\n",
      "4\n",
      "6\n"
     ]
    }
   ],
   "source": [
    "for n in filter(check_even, mynums):\n",
    "    print(n)"
   ]
  },
  {
   "cell_type": "markdown",
   "id": "14c8f909-0512-45bc-ac0c-2bc9de83b700",
   "metadata": {
    "jp-MarkdownHeadingCollapsed": true
   },
   "source": [
    "##### <h5>  <span style = \"font-size: 16px;\"> <b> Nested Statements And Scopes </b> </span>  </h5> "
   ]
  },
  {
   "attachments": {
    "3cdc4000-d839-446a-b2e5-741ef4eabfa6.png": {
     "image/png": "[encoded data removed]"
    }
   },
   "cell_type": "markdown",
   "id": "3fb871f3-f8fe-475b-99e7-f38d48422df1",
   "metadata": {},
   "source": [
    "![image.png](attachment:3cdc4000-d839-446a-b2e5-741ef4eabfa6.png)"
   ]
  },
  {
   "cell_type": "markdown",
   "id": "97345052-6ae5-4d1b-b91c-05f817fbe86c",
   "metadata": {
    "jp-MarkdownHeadingCollapsed": true
   },
   "source": [
    "## *Practice Excercises:\n"
   ]
  },
  {
   "cell_type": "markdown",
   "id": "e323cb61-10e6-489c-bc33-150a6b29fc22",
   "metadata": {
    "jp-MarkdownHeadingCollapsed": true
   },
   "source": [
    "### Warmup 0"
   ]
  },
  {
   "cell_type": "raw",
   "id": "549e131f-1b90-425a-8126-bf191f9dd1d8",
   "metadata": {},
   "source": [
    "Functions #9: pick evens\n",
    "\n",
    "Define a function called myfunc that takes in an arbitrary number of arguments, \n",
    "and returns a list containing only those arguments that are even."
   ]
  },
  {
   "cell_type": "code",
   "execution_count": 790,
   "id": "25cf6448-09cf-4bf8-a0b2-d420e740e210",
   "metadata": {},
   "outputs": [],
   "source": [
    "even_list = []\n",
    "\n",
    "\n",
    "def myfunc(*t):\n",
    "    \n",
    "    for x in t:\n",
    "        if x % 2 == 0:\n",
    "            even_list.append(x)\n",
    "        else:\n",
    "            pass\n",
    "    \n",
    "    return even_list"
   ]
  },
  {
   "cell_type": "code",
   "execution_count": 792,
   "id": "8d1bdbeb-6b5c-4e16-a37e-54d572d6634b",
   "metadata": {},
   "outputs": [
    {
     "data": {
      "text/plain": [
       "[2, 4, 8, 34, 6, 678]"
      ]
     },
     "execution_count": 792,
     "metadata": {},
     "output_type": "execute_result"
    }
   ],
   "source": [
    "myfunc(1,2,3,4,5,67,8,9,34,6,678)"
   ]
  },
  {
   "cell_type": "raw",
   "id": "fb97cf80-272d-40a9-92b6-ab6132600d8c",
   "metadata": {},
   "source": [
    "Functions #10: skyline\n",
    "\n",
    "Define a function called myfunc that takes in a string, \n",
    "and returns a matching string where \n",
    "every even letter is uppercase, and \n",
    "every odd letter is lowercase."
   ]
  },
  {
   "cell_type": "code",
   "execution_count": 854,
   "id": "61380f7c-28b3-4dd1-b9ed-b733fabcb705",
   "metadata": {},
   "outputs": [],
   "source": [
    "# My version which does more than the requirement:\n",
    "\n",
    "def myfunc(*t):\n",
    "\n",
    "    str_even_upper_odd_lower = []\n",
    "\n",
    "    for word in t:\n",
    "        new_word = ''\n",
    "        for x in range(len(word)):\n",
    "            letter = word[x]\n",
    "            if (x+1) % 2 == 0:\n",
    "                new_word += letter.upper()  # Build the transformed word\n",
    "            else:\n",
    "                new_word += letter.lower()  # Build the transformed word\n",
    "        str_even_upper_odd_lower.append(new_word)\n",
    "        \n",
    "    return str_even_upper_odd_lower"
   ]
  },
  {
   "cell_type": "code",
   "execution_count": 852,
   "id": "621779da-74af-42d9-b9ee-10949333d29a",
   "metadata": {},
   "outputs": [
    {
     "data": {
      "text/plain": [
       "['hElLo', 'hI', 'tOmOrRoW', 'oThErWoRdHeRe']"
      ]
     },
     "execution_count": 852,
     "metadata": {},
     "output_type": "execute_result"
    }
   ],
   "source": [
    "myfunc('hello', 'hi', 'tomorrow', 'otherwordhere')"
   ]
  },
  {
   "cell_type": "code",
   "execution_count": 844,
   "id": "4e56f346-d707-4fc9-9f41-5f635f781e99",
   "metadata": {},
   "outputs": [],
   "source": [
    "# What they were asking:\n",
    "\n",
    "def myfunc(word):\n",
    "    \n",
    "    str_even_upper_odd_lower = ''\n",
    "    \n",
    "    for x in range(len(word)):\n",
    "        if x % 2 == 0:\n",
    "            str_even_upper_odd_lower += word[x].lower()\n",
    "        else:\n",
    "            str_even_upper_odd_lower += word[x].upper()\n",
    "    \n",
    "    return str_even_upper_odd_lower"
   ]
  },
  {
   "cell_type": "code",
   "execution_count": 864,
   "id": "6d7e54fb-71f0-4fe0-8320-f59a54ff5e0d",
   "metadata": {},
   "outputs": [
    {
     "data": {
      "text/plain": [
       "['hElLo']"
      ]
     },
     "execution_count": 864,
     "metadata": {},
     "output_type": "execute_result"
    }
   ],
   "source": [
    "myfunc('hello')"
   ]
  },
  {
   "cell_type": "markdown",
   "id": "08063ee7-cd07-46ef-bf5d-0ad3e96c6da3",
   "metadata": {
    "jp-MarkdownHeadingCollapsed": true
   },
   "source": [
    "### Warmup 1"
   ]
  },
  {
   "cell_type": "code",
   "execution_count": 4,
   "id": "5e79c122-82f1-4430-a454-a4e461006535",
   "metadata": {},
   "outputs": [],
   "source": [
    "# LESSER OF TWO EVENS: Write a function that returns the lesser of two given numbers if both numbers are even, \n",
    "# but returns the greater if one or both numbers are odd\n",
    "\n",
    "def lesser_of_two_evens(a,b):\n",
    "    if a % 2 == 0 and b % 2 == 0:\n",
    "        return min(a,b)\n",
    "    else:\n",
    "        return max(a,b)\n",
    "\n",
    "# ~~~~~~~~~~~~~~~~~~~~~~~~~~~~~~~~~~~~~~~~~~~~~~~~~~~~~~~~~~~~~~~~~~~~~~~~~~~~~~~~~~~~\n",
    "def lesser_of_two_evens(a, b): \n",
    "    return min(a, b) if a % 2 == 0 and b % 2 == 0 else max(a, b)\n"
   ]
  },
  {
   "cell_type": "code",
   "execution_count": 6,
   "id": "236c0581-d551-4817-b63c-52a152bc9a66",
   "metadata": {},
   "outputs": [
    {
     "data": {
      "text/plain": [
       "4"
      ]
     },
     "execution_count": 6,
     "metadata": {},
     "output_type": "execute_result"
    }
   ],
   "source": [
    "lesser_of_two_evens(4,6)"
   ]
  },
  {
   "cell_type": "code",
   "execution_count": 895,
   "id": "a4b6cd36-3c16-4747-bae1-e846c334e013",
   "metadata": {},
   "outputs": [],
   "source": [
    "# ANIMAL CRACKERS: Write a function takes a two-word string and returns True if both words begin with same letter\n",
    "\n",
    "def animal_crackers(text):\n",
    "    # words = []  Not needed since split creates a list by default\n",
    "    words = text.split()\n",
    "    if words[0][0] == words[1][0]:\n",
    "        return True\n",
    "    else:\n",
    "        return False\n",
    "\n",
    "\n",
    "# Cleaner Version:\n",
    "\n",
    "def animal_crackers(text):\n",
    "    words = text.lower().split()\n",
    "    return words[0][0] == words[1][0]"
   ]
  },
  {
   "cell_type": "code",
   "execution_count": 897,
   "id": "135b30d1-535e-4703-81a7-a189246f6f64",
   "metadata": {},
   "outputs": [
    {
     "data": {
      "text/plain": [
       "True"
      ]
     },
     "execution_count": 897,
     "metadata": {},
     "output_type": "execute_result"
    }
   ],
   "source": [
    "animal_crackers('hello hthere')"
   ]
  },
  {
   "cell_type": "code",
   "execution_count": 52,
   "id": "f4c44ca6-63cd-43c7-a076-4ff9775b9935",
   "metadata": {},
   "outputs": [
    {
     "name": "stdout",
     "output_type": "stream",
     "text": [
      "Random number selected: [77, -80]\n",
      "Sum equal to:  -3\n",
      "False\n"
     ]
    }
   ],
   "source": [
    "# MAKES TWENTY: Given two integers, return True if the sum of the integers is 20 or if one of the integers is 20. If not, return False\n",
    "\n",
    "def makes_twenty(n1, n2):\n",
    "    return sum([n1, n2]) == 20 or n1 == 20 or n2 == 20  # Correctly summing the values and checking for 20\n",
    "\n",
    "import random\n",
    "\n",
    "# Generate two random numbers\n",
    "num = [random.randint(1, 100), random.randint(-100, 0)]\n",
    "\n",
    "# Output the random numbers and the sum\n",
    "print(f\"Random number selected: {num}\")\n",
    "print(\"Sum equal to: \", sum([num[0], num[1]]))\n",
    "\n",
    "# Output whether the sum or one of the numbers is 20\n",
    "print(makes_twenty(num[0], num[1]))\n"
   ]
  },
  {
   "cell_type": "markdown",
   "id": "672003f0-1340-40ca-ac42-d8a2a8252bf6",
   "metadata": {
    "jp-MarkdownHeadingCollapsed": true
   },
   "source": [
    "### LEVEL 1 PROBLEMS"
   ]
  },
  {
   "cell_type": "code",
   "execution_count": 8,
   "id": "d300f855-4c92-4937-8c5d-f6053ac1d516",
   "metadata": {},
   "outputs": [],
   "source": [
    "# OLD MACDONALD: Write a function that capitalizes the first and fourth letters of a name\n",
    "\n",
    "\n",
    "def old_macdonald(name):\n",
    "\n",
    "    transformed_name = ''\n",
    "\n",
    "    transformed_name = name[0].upper()\n",
    "    transformed_name += name[1:3:1]\n",
    "    transformed_name += name[3].upper()\n",
    "    transformed_name += name[4::]\n",
    "\n",
    "    return transformed_name\n",
    "\n",
    "# Issues with my approach:\n",
    "# 1. Incomplete logic: What if len(name) < 4\n",
    "# 2. Redundant Code. Not compact and clean\n",
    "\n",
    "\n",
    "def old_macdonald(name):\n",
    "\n",
    "    transformed_name = ''\n",
    "\n",
    "    if len(name) < 4:\n",
    "        transformed_name = (name[0].upper() + name[1::])\n",
    "    else:\n",
    "        transformed_name = (name[0].upper() + name[1:3] + name[3].upper() + name[4:])\n",
    "    \n",
    "    return transformed_name\n",
    "\n",
    "# Cleaner Version:\n",
    "\n",
    "def old_macdonald(name):\n",
    "    if len(name) > 3:\n",
    "        return name[:3].capitalize() + name[3:].capitalize()\n",
    "    else:\n",
    "        return 'Name is too short!'\n"
   ]
  },
  {
   "cell_type": "code",
   "execution_count": 10,
   "id": "897c2ffe-8449-4985-b90f-82cd4b4ff614",
   "metadata": {},
   "outputs": [
    {
     "data": {
      "text/plain": [
       "'MacDonald'"
      ]
     },
     "execution_count": 10,
     "metadata": {},
     "output_type": "execute_result"
    }
   ],
   "source": [
    "old_macdonald('macdonald')"
   ]
  },
  {
   "cell_type": "code",
   "execution_count": 14,
   "id": "942dc24a-0c9a-4e1a-9080-1530a427cc03",
   "metadata": {},
   "outputs": [
    {
     "data": {
      "text/plain": [
       "'home am I'"
      ]
     },
     "execution_count": 14,
     "metadata": {},
     "output_type": "execute_result"
    }
   ],
   "source": [
    "# MASTER YODA: Given a sentence, return a sentence with the words reversed\n",
    "\n",
    "def master_yoda(text):\n",
    "    word_list = text.split()\n",
    "    reversed_text = \" \".join(word_list[::-1])\n",
    "    return reversed_text\n",
    "\n",
    "master_yoda('I am home')\n",
    "\n",
    "# Cleaner Version:\n",
    "def master_yoda(text):\n",
    "    return ' '.join(text.split()[::-1])\n",
    "\n",
    "master_yoda('I am home')\n"
   ]
  },
  {
   "cell_type": "code",
   "execution_count": 54,
   "id": "e5d4db93-41ae-4b10-a528-6c432b95fcad",
   "metadata": {},
   "outputs": [
    {
     "data": {
      "text/plain": [
       "True"
      ]
     },
     "execution_count": 54,
     "metadata": {},
     "output_type": "execute_result"
    }
   ],
   "source": [
    "# ALMOST THERE: Given an integer n, return True if n is within 10 of either 100 or 200\n",
    "\n",
    "def almost_there(n):\n",
    "    return n in range(100-10, 100+10) or n in range(200-10, 200+10)\n",
    "\n",
    "almost_there(104);\n",
    "almost_there(150);\n",
    "almost_there(209)\n",
    "\n",
    "# Cleaner Version:\n",
    "def almost_there(n):\n",
    "    return ((abs(100 - n) <= 10) or (abs(200 - n) <= 10))\n",
    "\n",
    "almost_there(104);\n",
    "almost_there(150);\n",
    "almost_there(209)"
   ]
  },
  {
   "cell_type": "markdown",
   "id": "b26f9f8d-0210-4f7a-87ec-f983e6b67231",
   "metadata": {
    "jp-MarkdownHeadingCollapsed": true
   },
   "source": [
    "### LEVEL 2 PROBLEMS"
   ]
  },
  {
   "cell_type": "code",
   "execution_count": 57,
   "id": "86c18130-066f-4d9e-9713-b44c99090f1f",
   "metadata": {},
   "outputs": [
    {
     "data": {
      "text/plain": [
       "False"
      ]
     },
     "execution_count": 57,
     "metadata": {},
     "output_type": "execute_result"
    }
   ],
   "source": [
    "# Given a list of ints, return True if the array contains a 3 next to a 3 somewhere.\n",
    "\n",
    "\n",
    "def has_33(nums):\n",
    "    \n",
    "    for x, n in enumerate(nums[:-1]):\n",
    "        \n",
    "        if  nums[x] == 3  and  nums[x+1] == 3:\n",
    "            return True\n",
    "\n",
    "    return False\n",
    "# ~~~~~~~~~~~~~~~~~~~~~~~~~~~~~~~~~~~~~~~~~~~~~~~~~~~~~~~~~\n",
    "\n",
    "def has_33(nums):\n",
    "    for i in range(0, len(nums)-1):\n",
    "      \n",
    "        # nicer looking alternative in commented code\n",
    "        #if nums[i] == 3 and nums[i+1] == 3:\n",
    "    \n",
    "        if nums[i:i+2] == [3,3]:\n",
    "            return True  \n",
    "    \n",
    "    return False\n",
    "\n",
    "has_33([1, 3, 3])\n",
    "has_33([1, 3, 1, 3])\n",
    "has_33([3, 1, 3])"
   ]
  },
  {
   "cell_type": "code",
   "execution_count": 20,
   "id": "95ccfec9-d6a0-44a0-8901-e17467839148",
   "metadata": {},
   "outputs": [
    {
     "data": {
      "text/plain": [
       "'MMMiiissssssiiissssssiiippppppiii'"
      ]
     },
     "execution_count": 20,
     "metadata": {},
     "output_type": "execute_result"
    }
   ],
   "source": [
    "# PAPER DOLL: Given a string, return a string where for every character in the original there are three characters\n",
    "\n",
    "\n",
    "def paper_doll(text):\n",
    "\n",
    "    new_text = ''\n",
    "\n",
    "    for l in text:\n",
    "        triple_letters = l * 3\n",
    "        new_text += triple_letters\n",
    "\n",
    "    return new_text\n",
    "# ~~~~~~~~~~~~~~~~~~~~~~~~~~~~~~~~~~~~~~~~~~~~~~~~~~~~~~~~~\n",
    "\n",
    "def paper_doll(text):\n",
    "    result = ''\n",
    "    for char in text:\n",
    "        result += char * 3\n",
    "    return result\n",
    "paper_doll('Hello')\n",
    "paper_doll('Mississippi')"
   ]
  },
  {
   "cell_type": "code",
   "execution_count": 36,
   "id": "96bd7712-2a67-4999-a9c6-96d444a292e1",
   "metadata": {},
   "outputs": [
    {
     "data": {
      "text/plain": [
       "19"
      ]
     },
     "execution_count": 36,
     "metadata": {},
     "output_type": "execute_result"
    }
   ],
   "source": [
    "# BLACKJACK: \n",
    "# Given three integers between 1 and 11, if their sum is less than or equal to 21, return their sum. \n",
    "# If their sum exceeds 21 and there's an eleven, reduce the total sum by 10. \n",
    "# Finally, if the sum (even after adjustment) exceeds 21, return 'BUST'\n",
    "\n",
    "\n",
    "def blackjack(a,b,c):\n",
    "\n",
    "    if a + b + c <= 21:\n",
    "        return a + b + c\n",
    "    elif a + b + c > 21 and (a == 11 or b == 11 or c == 11):\n",
    "        if ( (a + b + c) - 10 ) > 21:\n",
    "            return \"Bust\"\n",
    "        else:\n",
    "            return ( (a + b + c) - 10 )\n",
    "    else:\n",
    "        return \"Bust\"\n",
    "# ~~~~~~~~~~~~~~~~~~~~~~~~~~~~~~~~~~~~~~~~~~~~~~~~~~~~~~~~~~~~~\n",
    "\n",
    "\n",
    "\n",
    "# Cleaner Version:\n",
    "\n",
    "def blackjack(a, b, c):\n",
    "    \n",
    "    total = a + b + c\n",
    "\n",
    "    if total <= 21:\n",
    "        return total\n",
    "    elif 11 in (a, b, c) and total - 10 <= 21:\n",
    "        return total - 10\n",
    "    else:\n",
    "        return \"Bust\"\n",
    "# ~~~~~~~~~~~~~~~~~~~~~~~~~~~~~~~~~~~~~~~~~~~~~~~~~~~~~~~~~~~~~\n",
    "\n",
    "\n",
    "def blackjack(a,b,c):\n",
    "    \n",
    "    if sum((a,b,c)) <= 21:\n",
    "        return sum((a,b,c))\n",
    "    elif sum((a,b,c)) <=31 and 11 in (a,b,c):\n",
    "        return sum((a,b,c)) - 10\n",
    "    else:\n",
    "        return 'BUST'\n",
    "\n",
    "blackjack(5,6,7)\n",
    "blackjack(9,9,9)\n",
    "blackjack(9,9,11)"
   ]
  },
  {
   "cell_type": "code",
   "execution_count": 26,
   "id": "f133ccd8-fd15-420e-846f-dd2cae31f17a",
   "metadata": {},
   "outputs": [],
   "source": [
    "# SUMMER OF '69: Return the sum of the numbers in the array,\n",
    "# except ignore sections of numbers starting with a 6 and extending to the next 9 (every 6 will be followed by at least one 9).\n",
    "# Return 0 for no numbers.\n",
    "\n",
    "def summer_69(arr):\n",
    "\n",
    "    total = 0\n",
    "    add = True\n",
    "\n",
    "    # 1. Iterate through each number in the array ( -> 2 )\n",
    "    for num in arr:                         # 1 --> 2\n",
    "\n",
    "        # 2. Check if we're in add mode (True = summing numbers) (if true -> 2.a / if false -> 3)\n",
    "        while add:                          # 2 --> 2.a (if num != 6) / 2.b (if num == 6)\n",
    "\n",
    "            # 2.a Add number if not 6 ( -> 2.c )\n",
    "            if num != 6:                    # 2.a --> 2.c\n",
    "                total += num                # 2.c --> break (exit while) --> 1\n",
    "                break                       # 2.c --> 1 (next num in arr)\n",
    "\n",
    "            # 2.b If it's a 6, turn off add mode ( -> 4 )\n",
    "            else:                           # 2.b --> 4\n",
    "                add = False                 # 4   --> exit while --> 3\n",
    "\n",
    "        # 3. If add is False (i.e., inside a 6-9 block) ( -> 3.a / 3.b )\n",
    "        while not add:                      # 3   --> 3.a (if num != 9) / 3.b (if num == 9)\n",
    "\n",
    "            # 3.a Not yet 9 → stay in skip mode ( -> break to 1 )\n",
    "            if num != 9:                    # 3.a --> break --> 1\n",
    "                break                       # 3.a --> 1\n",
    "\n",
    "            # 3.b Found 9 → end skip mode and resume adding ( -> break to 1 )\n",
    "            else:                           # 3.b --> 5\n",
    "                add = True                  # 5   --> break --> 1\n",
    "                break                       # 5   --> 1\n",
    "\n",
    "    return total                            # 6 --> END\n",
    "\n",
    "\n",
    "# Flow description:\n",
    "\n",
    "# -------------------------> 1. Loop over each number in array ( -> 2 )\n",
    "# -------------------------> 2. While add is True: check if number is 6 (true->2.a / false->4)\n",
    "# -------------------------> 2.a If number is not 6, add to total ( -> 2.c )\n",
    "# -------------------------> 2.c Break and continue to next number ( -> 1 )\n",
    "# -------------------------> 2.b If number is 6, set add to False ( -> 4 )\n",
    "# -------------------------> 4. Break and move to next while loop ( -> 3 )\n",
    "# -------------------------> 3. While add is False: check if number is 9 (true->3.b / false->3.a)\n",
    "# -------------------------> 3.a If not 9, skip number ( -> 1 )\n",
    "# -------------------------> 3.b If number is 9, set add to True ( -> 5 )\n",
    "# -------------------------> 5. Break and continue to next number ( -> 1 )\n",
    "# -------------------------> 6. Return total ( END )\n",
    "\n",
    "\n",
    "\n",
    "# ~~~~~~~~~~~~~~~~~~~~~~~~~~~~~~~~~~~~~~~~~~~~~~~~~~~~~~~~~~~~~\n",
    "# ~~~~~~~~~~~~~~~~~~~~~~~~~~~~~~~~~~~~~~~~~~~~~~~~~~~~~~~~~~~~~\n",
    "# ~~~~~~~~~~~~~~~~~~~~~~~~~~~~~~~~~~~~~~~~~~~~~~~~~~~~~~~~~~~~~\n",
    "# ~~~~~~~~~~~~~~~~~~~~~~~~~~~~~~~~~~~~~~~~~~~~~~~~~~~~~~~~~~~~~\n",
    "# ~~~~~~~~~~~~~~~~~~~~~~~~~~~~~~~~~~~~~~~~~~~~~~~~~~~~~~~~~~~~~\n",
    "# ~~~~~~~~~~~~~~~~~~~~~~~~~~~~~~~~~~~~~~~~~~~~~~~~~~~~~~~~~~~~~\n",
    "# ~~~~~~~~~~~~~~~~~~~~~~~~~~~~~~~~~~~~~~~~~~~~~~~~~~~~~~~~~~~~~\n",
    "# Cleaner Version:\n",
    "def summer_69(arr):\n",
    "    total = 0\n",
    "    add = True\n",
    "    for num in arr:\n",
    "        while add:\n",
    "            if num != 6:\n",
    "                total += num\n",
    "                break\n",
    "            else:\n",
    "                add = False\n",
    "        while not add:\n",
    "            if num != 9:\n",
    "                break\n",
    "            else:\n",
    "                add = True\n",
    "                break\n",
    "    return total"
   ]
  },
  {
   "cell_type": "code",
   "execution_count": 28,
   "id": "f11d9dc8-5350-4845-bf1b-6b1a6c0ed89d",
   "metadata": {},
   "outputs": [
    {
     "data": {
      "text/plain": [
       "14"
      ]
     },
     "execution_count": 28,
     "metadata": {},
     "output_type": "execute_result"
    }
   ],
   "source": [
    "summer_69([2, 1, 6, 9, 11])\n"
   ]
  },
  {
   "cell_type": "code",
   "execution_count": 59,
   "id": "cd6a724a-8425-44b4-814e-18610c355222",
   "metadata": {},
   "outputs": [],
   "source": [
    "# Updated function considering more than one group of 6-9\n",
    "\n",
    "def summer_69(arr):\n",
    "    \n",
    "    total = 0\n",
    "    i = 0\n",
    "\n",
    "    # 1. ( ->2 )\n",
    "    while i < len(arr):                 #  1 --> 2 \n",
    "\n",
    "        # 2. ( true->2.a / false->3 )\n",
    "        if arr[i] == 6:                 #  2 -- ( true -> 2.a / false -> 3 )\n",
    "            try:\n",
    "                #  2.a   --> 2.b\n",
    "                j = arr.index(9, i + 1) #  2.a   --> 2.b\n",
    "                #  2.b   --> 1\n",
    "                i = j + 1               #  2.b   --> 1 \n",
    "            #  2.c   --> 2.c.1     \n",
    "            except ValueError:          #  2.c   --> 2.c.1 \n",
    "            #  2.c.1 --> 2.c.2\n",
    "                total += 6              #  2.c.1 --> 2.c.2 \n",
    "            #  2.c.2 --> 1\n",
    "                i += 1                  #  2.c.2 --> 1 \n",
    "        \n",
    "        # 3. ( ->3.a )\n",
    "        else:                           #  3     --> 3.a \n",
    "            #  3.a   --> 3.b \n",
    "            total += arr[i]             #  3.a   --> 3.b \n",
    "            #  3.b   --> 1\n",
    "            i += 1                      #  3.b   --> 1 \n",
    "\n",
    "    return total                        #  4     ( end )\n",
    "\n",
    "\n",
    "\n",
    "# Description of flow:\n",
    "\n",
    "# ------------------------->  1 Outer loop over indices ( ->2 )\n",
    "# ------------------------->  2 See a 6: look for closing 9 ( true->2.a / false->3 )\n",
    "# ------------------------->  2.a Find next 9 after index i ( ->2.b )\n",
    "# ------------------------->  2.b Skip entire 6–9 section, set i after the 9 ( ->1 )\n",
    "# ------------------------->  2.c No 9 found: treat 6 as normal ( ->2.c.1 )\n",
    "# ------------------------->  2.c.1 Add 6 to total ( ->2.c.2 )\n",
    "# ------------------------->  2.c.2 Move to next element ( ->1 )\n",
    "# ------------------------->  3 Normal case: add this number ( ->3.a )\n",
    "# ------------------------->  3.a Add arr[i] to total ( ->3.b )\n",
    "# ------------------------->  3.b Move to next element ( ->1 )\n",
    "# ------------------------->  4 Return final total ( end )"
   ]
  },
  {
   "cell_type": "code",
   "execution_count": 61,
   "id": "40ce9a2a-d088-459b-835c-c0de532e1e3d",
   "metadata": {},
   "outputs": [
    {
     "data": {
      "text/plain": [
       "32"
      ]
     },
     "execution_count": 61,
     "metadata": {},
     "output_type": "execute_result"
    }
   ],
   "source": [
    "summer_69([1, 6, 2, 6, 3, 9, 4, 6, 7, 8, 1, 0, 2, 3])\n"
   ]
  },
  {
   "cell_type": "markdown",
   "id": "a97b4de8-ca9a-4eac-952a-1a9962aeb43f",
   "metadata": {
    "jp-MarkdownHeadingCollapsed": true
   },
   "source": [
    "### CHALLENGING PROBLEMS"
   ]
  },
  {
   "cell_type": "code",
   "execution_count": 121,
   "id": "2f6952c8-779a-4e62-b8c4-879b8c3b0903",
   "metadata": {},
   "outputs": [],
   "source": [
    "# SPY GAME: Write a function that takes in a list of integers and returns True if it contains 007 in order\n",
    "\n",
    "\n",
    "def spy_game(nums):  #  spy_game([1,2,4,0,0,7,5]) --> True     spy_game([1,7,2,0,4,5,0]) --> False\n",
    "\n",
    "    code = [0, 0, 7, 'x']   # 1. Initialize target pattern with sentinel ( --> 2 )\n",
    "    \n",
    "    for num in nums:        # 2. Iterate through nums ( --> 3 )\n",
    "        if num == code[0]:  # 3. If number matches first in pattern (true --> 4 / false --> 2)\n",
    "            code.pop(0)     # 4. Remove matched value from pattern ( --> 2 )\n",
    "\n",
    "    return len(code) == 1   # 5. Check if only 'x' remains ( --> 6 )\n",
    "                            # 6. Return True/False (end)      \n",
    "\n",
    "\n",
    "# 1 → 2 → 3\n",
    "# 3 (true) → 4 → 2     (match found, pop code[0], continue with next num)\n",
    "# 3 (false) → 2        (no match, just move to next num)\n",
    "# 2 (end of list) → 5 → 6   (loop ends, check code length, return result)"
   ]
  },
  {
   "cell_type": "code",
   "execution_count": 123,
   "id": "25cf6c9b-bf83-43d9-8b18-df13e21272d0",
   "metadata": {},
   "outputs": [
    {
     "data": {
      "text/plain": [
       "True"
      ]
     },
     "execution_count": 123,
     "metadata": {},
     "output_type": "execute_result"
    }
   ],
   "source": [
    "spy_game([1,2,4,0,0,7,5]) "
   ]
  },
  {
   "cell_type": "code",
   "execution_count": 125,
   "id": "8e942c06-3fa0-4a15-9d5e-73105b62bc70",
   "metadata": {},
   "outputs": [
    {
     "data": {
      "text/plain": [
       "False"
      ]
     },
     "execution_count": 125,
     "metadata": {},
     "output_type": "execute_result"
    }
   ],
   "source": [
    "spy_game([1,7,2,0,4,5,0]) "
   ]
  },
  {
   "cell_type": "code",
   "execution_count": 127,
   "id": "f701b9e3-ecfa-4078-936c-616d5f9c2d0d",
   "metadata": {},
   "outputs": [
    {
     "data": {
      "text/plain": [
       "True"
      ]
     },
     "execution_count": 127,
     "metadata": {},
     "output_type": "execute_result"
    }
   ],
   "source": [
    "spy_game([1,0,2,4,0,5,7])"
   ]
  },
  {
   "cell_type": "raw",
   "id": "0c9d8e11-9842-4f53-b85a-3038e1daef98",
   "metadata": {},
   "source": [
    "\n",
    "\n",
    "\n",
    "\n",
    "\n",
    "\n",
    "\n",
    "\n",
    "\n",
    "\n",
    "\n"
   ]
  },
  {
   "cell_type": "code",
   "execution_count": 34,
   "id": "2c7f3389-c23b-4eee-8a7c-0f054091d701",
   "metadata": {},
   "outputs": [],
   "source": [
    "# COUNT PRIMES: Write a function that returns the number of prime numbers that exist up to and including a given number\n",
    "\n",
    "def count_primes(num):\n",
    "\n",
    "    # 1. Check for 0 or 1 input ( --> 2 )\n",
    "    if num < 2:                       # 1. If num < 2 → no primes exist ( --> 2.a )\n",
    "        return 0                      # 2.a Return 0 ( end )\n",
    "\n",
    "    # 3. Initialize list with first prime (2) ( --> 4 )\n",
    "    primes = [2]                      # 3. primes = [2]\n",
    "\n",
    "    # 4. Start counter at 3 to test next odd numbers ( --> 5 )\n",
    "    x = 3                             # 4. Start with x = 3\n",
    "\n",
    "    # 5. Loop from 3 to num (odd numbers only) ( --> 6 )\n",
    "    while x <= num:                   # 5. While x <= num\n",
    "\n",
    "        # 6. Check divisibility by all odd numbers < x ( --> 7 )\n",
    "        for y in range(3, x, 2):      # 6. Try dividing x by odd numbers from 3 to x-1\n",
    "\n",
    "            if x % y == 0:            # 7. If divisible, not prime ( --> 7.a )\n",
    "                x += 2                # 7.a Skip to next odd x\n",
    "                break                 # 7.b Break the for-loop and go back to (5)\n",
    "\n",
    "        else:                         # 8. No divisors found → it's prime ( --> 9 )\n",
    "            primes.append(x)         # 9. Add x to primes\n",
    "            x += 2                   # 10. Move to next odd number ( --> 5 )\n",
    "\n",
    "    # 11. After loop, print results ( --> 12 )\n",
    "    print(f\"Prime Numbers are: {primes}\")    # 11. Print list of primes\n",
    "    print(\"\")                                 # 12. (visual spacing)\n",
    "    print(\"Number of total prime numbers is:\") # 13. Print label for total\n",
    "\n",
    "    return len(primes)              # 14. Return total count of primes ( end )\n",
    "\n",
    "\n",
    "# FLOW MAP:\n",
    "# 1 → 2 → 3 → 4 → 5\n",
    "# \n",
    "# 5 (loop starts) → 6 → 7\n",
    "# \n",
    "# 7 (true: divisible) → 7.a → 7.b → 5   (skip x, break loop, go back to while)\n",
    "# \n",
    "# 7 (false: not divisible by any y) → 8 → 9 → 10 → 5   (append prime, continue with next x)\n",
    "#\n",
    "# 5 (loop ends) → 11 → 12 → 13 → 14 (print results and return total)\n",
    "\n",
    "\n"
   ]
  },
  {
   "cell_type": "code",
   "execution_count": 38,
   "id": "04e14384-6f10-412c-9093-285508456260",
   "metadata": {},
   "outputs": [],
   "source": [
    "# ~~~~~~~~~~~~~~~~~~~~~~~~~~~~~~~~~~~~~~~~~~~~~~~~~~~~~~~~~\n",
    "# Cleaner Version:\n",
    "def count_primes(num):\n",
    "    primes = [2]\n",
    "    x = 3\n",
    "    if num < 2:  # for the case of num = 0 or 1\n",
    "        return 0\n",
    "    while x <= num:\n",
    "        for y in range(3,x,2):  # test all odd factors up to x-1\n",
    "            if x%y == 0:\n",
    "                x += 2\n",
    "                break\n",
    "        else:\n",
    "            primes.append(x)\n",
    "            x += 2\n",
    "    print(primes)\n",
    "    return len(primes)"
   ]
  },
  {
   "cell_type": "code",
   "execution_count": 40,
   "id": "0b00651b-fa6d-4445-a37d-f02d5ed9b7b0",
   "metadata": {},
   "outputs": [
    {
     "name": "stdout",
     "output_type": "stream",
     "text": [
      "[2, 3, 5, 7, 11, 13, 17, 19, 23, 29, 31, 37, 41, 43, 47, 53, 59, 61, 67, 71, 73, 79, 83, 89, 97]\n"
     ]
    },
    {
     "data": {
      "text/plain": [
       "25"
      ]
     },
     "execution_count": 40,
     "metadata": {},
     "output_type": "execute_result"
    }
   ],
   "source": [
    "count_primes(100)"
   ]
  },
  {
   "cell_type": "code",
   "execution_count": 401,
   "id": "049a5ec7-8096-4948-bc94-66b81e8e6b2a",
   "metadata": {},
   "outputs": [],
   "source": [
    "# COUNT PRIMES: Write a function that returns the number of prime numbers that exist up to and including a given number\n",
    "\n",
    "def count_primes(num):\n",
    "\n",
    "    # 1. Check for 0 or 1 input ( --> 2 )\n",
    "    if num < 2:                       # 1. If num < 2 → no primes exist ( --> 2.a )\n",
    "        return 0                      # 2.a Return 0 ( end )\n",
    "\n",
    "    # 3. Initialize list with first prime (2) ( --> 4 )\n",
    "    primes = [2]                      # 3. primes = [2]\n",
    "\n",
    "    # 4. Start counter at 3 to test next odd numbers ( --> 5 )\n",
    "    x = 3                             # 4. Start with x = 3\n",
    "\n",
    "    # 5. Loop from 3 to num (odd numbers only) ( --> 6 )\n",
    "    while x <= num:                   # 5. While x <= num\n",
    "\n",
    "        # 6. Check divisibility by all odd numbers < x ( --> 7 )\n",
    "        for y in primes:      # 6. Try dividing x by odd numbers from 3 to x-1\n",
    "\n",
    "            if x % y == 0:            # 7. If divisible, not prime ( --> 7.a )\n",
    "                x += 2                # 7.a Skip to next odd x\n",
    "                break                 # 7.b Break the for-loop and go back to (5)\n",
    "\n",
    "        else:                         # 8. No divisors found → it's prime ( --> 9 )\n",
    "            primes.append(x)         # 9. Add x to primes\n",
    "            x += 2                   # 10. Move to next odd number ( --> 5 )\n",
    "\n",
    "    # 11. After loop, print results ( --> 12 )\n",
    "    print(f\"Prime Numbers are: {primes}\")    # 11. Print list of primes\n",
    "    print(\"\")                                 # 12. (visual spacing)\n",
    "    print(\"Number of total prime numbers is:\") # 13. Print label for total\n",
    "\n",
    "    return len(primes)              # 14. Return total count of primes ( end )\n",
    "\n",
    "\n",
    "# FLOW MAP:\n",
    "# 1 → 2 → 3 → 4 → 5\n",
    "# \n",
    "# 5 (loop starts) → 6 → 7\n",
    "# \n",
    "# 7 (true: divisible) → 7.a → 7.b → 5   (skip x, break loop, go back to while)\n",
    "# \n",
    "# 7 (false: not divisible by any y) → 8 → 9 → 10 → 5   (append prime, continue with next x)\n",
    "#\n",
    "# 5 (loop ends) → 11 → 12 → 13 → 14 (print results and return total)\n",
    "\n",
    "\n",
    "\n",
    "# ~~~~~~~~~~~~~~~~~~~~~~~~~~~~~~~~~~~~~~~~~~~~~~~~~~~~~~~~~\n",
    "# Cleaner Version:\n",
    "def count_primes(num):\n",
    "    primes = [2]\n",
    "    x = 3\n",
    "    if num < 2:  # for the case of num = 0 or 1\n",
    "        return 0\n",
    "    while x <= num:\n",
    "        for y in range(3,x,2):  # test all odd factors up to x-1\n",
    "            if x%y == 0:\n",
    "                x += 2\n",
    "                break\n",
    "        else:\n",
    "            primes.append(x)\n",
    "            x += 2\n",
    "    print(primes)\n",
    "    return len(primes)\n",
    "\n",
    "\n",
    "# BONUS: Here's a faster version that makes use of the prime numbers we're collecting as we go!\n",
    "def count_primes2(num):\n",
    "    primes = [2]\n",
    "    x = 3\n",
    "    if num < 2:\n",
    "        return 0\n",
    "    while x <= num:\n",
    "        for y in primes:  # use the primes list!\n",
    "            if x%y == 0:\n",
    "                x += 2\n",
    "                break\n",
    "        else:\n",
    "            primes.append(x)\n",
    "            x += 2\n",
    "    print(primes)\n",
    "    return len(primes)\n"
   ]
  },
  {
   "cell_type": "code",
   "execution_count": 44,
   "id": "f43ec411-0032-4c77-827f-353b1023b07b",
   "metadata": {},
   "outputs": [
    {
     "name": "stdout",
     "output_type": "stream",
     "text": [
      "[2, 3, 5, 7, 11, 13, 17, 19, 23, 29, 31, 37, 41, 43, 47, 53, 59, 61, 67, 71, 73, 79, 83, 89, 97]\n"
     ]
    },
    {
     "data": {
      "text/plain": [
       "25"
      ]
     },
     "execution_count": 44,
     "metadata": {},
     "output_type": "execute_result"
    }
   ],
   "source": [
    "count_primes(100)"
   ]
  },
  {
   "cell_type": "raw",
   "id": "b036e78b-ea8d-49ce-85d9-e23e5f145a4d",
   "metadata": {},
   "source": [
    "\n",
    "\n",
    "\n",
    "\n",
    "\n",
    "\n",
    "\n",
    "\n",
    "\n",
    "\n",
    "\n"
   ]
  },
  {
   "cell_type": "raw",
   "id": "6bff04dd-749f-45a3-8f2f-7e47018cb536",
   "metadata": {},
   "source": [
    "PRINT BIG: Write a function that takes in a single letter, and returns a 5x5 representation of that letter\n",
    "print_big('a')\n",
    "\n",
    "out:   *  \n",
    "      * *\n",
    "     *****\n",
    "     *   *\n",
    "     *   *\n",
    "HINT: Consider making a dictionary of possible patterns, and mapping the alphabet to specific 5-line combinations of patterns.\n",
    "For purposes of this exercise, it's ok if your dictionary stops at \"E\"."
   ]
  },
  {
   "cell_type": "code",
   "execution_count": 46,
   "id": "eb765170-9806-4e4a-9189-cbd10315e9f5",
   "metadata": {},
   "outputs": [],
   "source": [
    "def print_big(letter):\n",
    "    patterns = {1:'  *  ',2:' * * ',3:'*   *',4:'*****',5:'**** ',6:'   * ',7:' *   ',8:'*   * ',9:'*    '}\n",
    "    alphabet = {'A':[1,2,4,3,3],'B':[5,3,5,3,5],'C':[4,9,9,9,4],'D':[5,3,3,3,5],'E':[4,9,4,9,4]}\n",
    "    for pattern in alphabet[letter.upper()]:\n",
    "        print(patterns[pattern])"
   ]
  },
  {
   "cell_type": "code",
   "execution_count": 48,
   "id": "69a6e28e-85f8-4f97-b81e-f1b7f00dce0d",
   "metadata": {},
   "outputs": [
    {
     "name": "stdout",
     "output_type": "stream",
     "text": [
      "  *  \n",
      " * * \n",
      "*****\n",
      "*   *\n",
      "*   *\n"
     ]
    }
   ],
   "source": [
    "print_big('a')\n"
   ]
  },
  {
   "cell_type": "code",
   "execution_count": null,
   "id": "317d0ee4-620e-4b5d-95cb-d1f1e983bd26",
   "metadata": {},
   "outputs": [],
   "source": [
    "\n",
    "\n",
    "\n",
    "\n",
    "\n",
    "\n",
    "\n"
   ]
  },
  {
   "cell_type": "markdown",
   "id": "60c4bf26-a333-49ee-9bf8-e29c84437c8b",
   "metadata": {
    "jp-MarkdownHeadingCollapsed": true
   },
   "source": [
    "### Homework - Methods and Functions\n"
   ]
  },
  {
   "cell_type": "markdown",
   "id": "ea202bbb-2b99-499e-b7d0-63a2a4dd8b03",
   "metadata": {
    "jp-MarkdownHeadingCollapsed": true
   },
   "source": [
    "#### 1. Write a function that computes the volume of a sphere given its radius."
   ]
  },
  {
   "cell_type": "code",
   "execution_count": 422,
   "id": "ba1b966b-1f7b-491a-8c70-af89e49f4e30",
   "metadata": {},
   "outputs": [],
   "source": [
    "def vol(rad):\n",
    "    return (4/3) * (3.14) * (rad**3)"
   ]
  },
  {
   "cell_type": "markdown",
   "id": "600b0159-ebd8-4bc5-bcb1-3e19461adadb",
   "metadata": {
    "editable": true,
    "jp-MarkdownHeadingCollapsed": true,
    "slideshow": {
     "slide_type": ""
    },
    "tags": []
   },
   "source": [
    "#### 2. Write a function that checks whether a number is in a given range (inclusive of high and low)"
   ]
  },
  {
   "cell_type": "code",
   "execution_count": 442,
   "id": "4c7ba238-f5ea-49dd-82b6-42b28edcd6f5",
   "metadata": {},
   "outputs": [],
   "source": [
    "def ran_check(num,low,high):\n",
    "    #Check if num is between low and high (including low and high)\n",
    "    if num in range(low,high+1):\n",
    "        print('{} is in the range between {} and {}'.format(num,low,high))\n",
    "    else:\n",
    "        print('The number is outside the range.')"
   ]
  },
  {
   "cell_type": "code",
   "execution_count": 453,
   "id": "f408ccd3-b76a-4a4f-9729-a8bf2e411005",
   "metadata": {},
   "outputs": [
    {
     "name": "stdout",
     "output_type": "stream",
     "text": [
      "5 is in the range between 2 and 7\n"
     ]
    }
   ],
   "source": [
    "ran_check(5,2,7)"
   ]
  },
  {
   "cell_type": "code",
   "execution_count": 455,
   "id": "e3928d80-f039-4a54-8032-0e08f4a67ff4",
   "metadata": {},
   "outputs": [
    {
     "data": {
      "text/plain": [
       "True"
      ]
     },
     "execution_count": 455,
     "metadata": {},
     "output_type": "execute_result"
    }
   ],
   "source": [
    "# If you only wanted to return a boolean:\n",
    "def ran_bool(num,low,high):\n",
    "    return num in range(low,high+1)\n",
    "\n",
    "ran_bool(3,1,10)"
   ]
  },
  {
   "cell_type": "markdown",
   "id": "8580e36b-ad03-4dff-9768-dab168f219a2",
   "metadata": {
    "jp-MarkdownHeadingCollapsed": true,
    "slideshow": {
     "slide_type": ""
    },
    "tags": []
   },
   "source": [
    "#### 3. Write a Python function that accepts a string and calculates the number of upper case letters and lower case letters."
   ]
  },
  {
   "cell_type": "code",
   "execution_count": 493,
   "id": "397ecd18-7944-400a-b54a-82ae3d746ddd",
   "metadata": {},
   "outputs": [],
   "source": [
    "def string_calc(mystring):\n",
    "\n",
    "    count_upper = 0\n",
    "    count_lower = 0 \n",
    "    \n",
    "    for l in mystring:\n",
    "        if l.isupper():\n",
    "            count_upper += 1\n",
    "        elif l.islower():\n",
    "            count_lower += 1\n",
    "\n",
    "    print(f\"Upper Case: {count_upper}\")\n",
    "    print(f\"Lower Case: {count_lower}\")\n",
    "    return count_upper, count_lower"
   ]
  },
  {
   "cell_type": "code",
   "execution_count": 495,
   "id": "837cd984-26c1-4225-8900-4fd18bf35a8f",
   "metadata": {},
   "outputs": [],
   "source": [
    "phrase = 'Hello Mr. Rogers, how are you this fine Tuesday?'"
   ]
  },
  {
   "cell_type": "code",
   "execution_count": 497,
   "id": "fb2b8004-9e16-44a4-b995-f28cc8940f19",
   "metadata": {},
   "outputs": [
    {
     "name": "stdout",
     "output_type": "stream",
     "text": [
      "Upper Case: 4\n",
      "Lower Case: 33\n"
     ]
    },
    {
     "data": {
      "text/plain": [
       "(4, 33)"
      ]
     },
     "execution_count": 497,
     "metadata": {},
     "output_type": "execute_result"
    }
   ],
   "source": [
    "string_calc(phrase)"
   ]
  },
  {
   "cell_type": "code",
   "execution_count": null,
   "id": "f4459132-cc4f-4e42-bc0c-f8b1f22d4eff",
   "metadata": {},
   "outputs": [],
   "source": [
    "# We also instead just create a single object to reference instead of creating multiple var, to have a more clean and organized code\n",
    "def up_low(s):\n",
    "    d={\"upper\":0, \"lower\":0}\n",
    "    for c in s:\n",
    "        if c.isupper():\n",
    "            d[\"upper\"]+=1\n",
    "        elif c.islower():\n",
    "            d[\"lower\"]+=1\n",
    "        else:\n",
    "            pass\n",
    "    print(\"Original String : \", s)\n",
    "    print(\"No. of Upper case characters : \", d[\"upper\"])\n",
    "    print(\"No. of Lower case Characters : \", d[\"lower\"])"
   ]
  },
  {
   "cell_type": "markdown",
   "id": "ff6616df-dcba-471e-b5e2-c975f14b42e2",
   "metadata": {
    "jp-MarkdownHeadingCollapsed": true,
    "slideshow": {
     "slide_type": ""
    },
    "tags": []
   },
   "source": [
    "#### 4. Write a Python function that takes a list and returns a new list with unique elements of the first list."
   ]
  },
  {
   "cell_type": "code",
   "execution_count": 514,
   "id": "21025950-4dd9-44e2-90eb-f148ce1b389e",
   "metadata": {},
   "outputs": [],
   "source": [
    "def unique_list(any_list):\n",
    "    return list(set(any_list))"
   ]
  },
  {
   "cell_type": "code",
   "execution_count": 516,
   "id": "72cc40c8-8d62-4036-8cc8-592e2a6e0d70",
   "metadata": {},
   "outputs": [],
   "source": [
    "repeated_list = [1,1,1,1,2,2,3,3,3,3,4,5]"
   ]
  },
  {
   "cell_type": "code",
   "execution_count": 518,
   "id": "4f0c6247-ed4f-4ed2-b451-d87a3e268717",
   "metadata": {},
   "outputs": [
    {
     "data": {
      "text/plain": [
       "[1, 2, 3, 4, 5]"
      ]
     },
     "execution_count": 518,
     "metadata": {},
     "output_type": "execute_result"
    }
   ],
   "source": [
    "unique_list(repeated_list)"
   ]
  },
  {
   "cell_type": "code",
   "execution_count": 520,
   "id": "9153df35-caf2-46b9-a3ae-ab1f9621815d",
   "metadata": {},
   "outputs": [],
   "source": [
    "def unique_list(lst):\n",
    "    # Also possible to use list(set())\n",
    "    x = []\n",
    "    for a in lst:\n",
    "        if a not in x:\n",
    "            x.append(a)\n",
    "    return x"
   ]
  },
  {
   "cell_type": "markdown",
   "id": "d7b1708b-cd74-493f-95ae-fe322c8f2464",
   "metadata": {
    "jp-MarkdownHeadingCollapsed": true,
    "slideshow": {
     "slide_type": ""
    },
    "tags": []
   },
   "source": [
    "#### 5. Write a Python function to multiply all the numbers in a list."
   ]
  },
  {
   "cell_type": "code",
   "execution_count": 523,
   "id": "355a9e07-f200-4c88-8d91-2ea25aef042f",
   "metadata": {},
   "outputs": [],
   "source": [
    "def multiply(numbers):\n",
    "    total = 1\n",
    "    for x in numbers:\n",
    "        total *= x\n",
    "    return total"
   ]
  },
  {
   "cell_type": "markdown",
   "id": "195e6a0d-de08-4856-983c-7ac3bf569321",
   "metadata": {
    "slideshow": {
     "slide_type": ""
    },
    "tags": []
   },
   "source": [
    "#### 6. Write a Python function that checks whether a word or phrase is palindrome or not."
   ]
  },
  {
   "cell_type": "markdown",
   "id": "1998f83e-e374-4396-bd4b-f351f715aa98",
   "metadata": {},
   "source": [
    "Note: A palindrome is word, phrase, or sequence that reads the same backward as forward, e.g., madam,kayak,racecar, or a phrase \"nurses run\". \n",
    "\n",
    "Hint: \n",
    "1. You may want to check out the .replace() method in a string to help out with dealing with spaces.\n",
    "2. Also google search how to reverse a string in Python, there are some clever ways to do it with slicing notation."
   ]
  },
  {
   "cell_type": "code",
   "execution_count": 533,
   "id": "6e24ef68-3c4a-4220-a506-cf3cce9582fc",
   "metadata": {},
   "outputs": [],
   "source": [
    "def palindrome(s):\n",
    "    \n",
    "    s = s.replace(' ','') # This replaces all spaces ' ' with no space ''. (Fixes issues with strings that have spaces)\n",
    "    return s == s[::-1]   # Check through slicing"
   ]
  },
  {
   "cell_type": "code",
   "execution_count": 541,
   "id": "287f8e0d-b8b0-4b46-83bf-1e795fe51411",
   "metadata": {},
   "outputs": [
    {
     "data": {
      "text/plain": [
       "True"
      ]
     },
     "execution_count": 541,
     "metadata": {},
     "output_type": "execute_result"
    }
   ],
   "source": [
    "palindrome('nurses run')"
   ]
  },
  {
   "cell_type": "code",
   "execution_count": 539,
   "id": "a8656d77-50f8-4d7b-b6ef-dbb42071550f",
   "metadata": {},
   "outputs": [
    {
     "data": {
      "text/plain": [
       "True"
      ]
     },
     "execution_count": 539,
     "metadata": {},
     "output_type": "execute_result"
    }
   ],
   "source": [
    "palindrome('abcba')"
   ]
  },
  {
   "cell_type": "markdown",
   "id": "994d4079-079e-4fd7-a99a-641a930bb1a8",
   "metadata": {
    "slideshow": {
     "slide_type": ""
    },
    "tags": []
   },
   "source": [
    "#### 7. Write a Python function to check whether a string is pangram or not. \n",
    "**(Assume the string passed in does not have any punctuation)**"
   ]
  },
  {
   "cell_type": "markdown",
   "id": "7b438c39-210f-41e3-aa9b-138d0a30377e",
   "metadata": {},
   "source": [
    "**This is a Hard Problem:**\n",
    "\n",
    "Note : Pangrams are words or sentences containing every letter of the alphabet at least once.\n",
    "\n",
    "For example : \"The quick brown fox jumps over the lazy dog\"\n",
    "1. Hint: You may want to use .replace() method to get rid of spaces.\n",
    "2. Hint: Look at the string module\n",
    "3. Hint: In case you want to use set comparisons"
   ]
  },
  {
   "cell_type": "code",
   "execution_count": 552,
   "id": "edc33b6d-51d2-4261-b933-506190b404e4",
   "metadata": {},
   "outputs": [],
   "source": [
    "import string\n",
    "\n",
    "def ispangram(str1, alphabet=string.ascii_lowercase): \n",
    "    # Create a set of the alphabet\n",
    "    alphaset = set(alphabet)  \n",
    "    \n",
    "    # Remove spaces from str1\n",
    "    str1 = str1.replace(\" \",'')\n",
    "    \n",
    "    # Lowercase all strings in the passed in string\n",
    "    # Recall we assume no punctuation \n",
    "    str1 = str1.lower()\n",
    "    \n",
    "    # Grab all unique letters in the string as a set\n",
    "    str1 = set(str1)\n",
    "    \n",
    "    # Now check that the alpahbet set is same as string set\n",
    "    return str1 == alphaset"
   ]
  },
  {
   "cell_type": "code",
   "execution_count": 554,
   "id": "4b9f6007-53ab-4967-8152-b38d5ef65346",
   "metadata": {},
   "outputs": [
    {
     "data": {
      "text/plain": [
       "True"
      ]
     },
     "execution_count": 554,
     "metadata": {},
     "output_type": "execute_result"
    }
   ],
   "source": [
    "ispangram(\"The quick brown fox jumps over the lazy dog\")"
   ]
  },
  {
   "cell_type": "code",
   "execution_count": 556,
   "id": "bcda1d04-0850-4a2c-a1f4-93274f87ef2f",
   "metadata": {},
   "outputs": [
    {
     "data": {
      "text/plain": [
       "'abcdefghijklmnopqrstuvwxyz'"
      ]
     },
     "execution_count": 556,
     "metadata": {},
     "output_type": "execute_result"
    }
   ],
   "source": [
    "string.ascii_lowercase"
   ]
  },
  {
   "cell_type": "markdown",
   "id": "d21538d5-91d0-4d1a-8a88-3a947984cbc8",
   "metadata": {
    "jp-MarkdownHeadingCollapsed": true
   },
   "source": [
    "## <h2 style=\"color: #4472C4;\"> Section 7: <b>Milestone</b> Project 1 </h2>"
   ]
  },
  {
   "cell_type": "markdown",
   "id": "b35bc56f-f551-4a41-9ac6-b0618dddd317",
   "metadata": {
    "jp-MarkdownHeadingCollapsed": true
   },
   "source": [
    "### Concepts Overview"
   ]
  },
  {
   "cell_type": "markdown",
   "id": "88b53f1a-8131-4430-abbe-d21e4114da56",
   "metadata": {
    "jp-MarkdownHeadingCollapsed": true
   },
   "source": [
    "#### 1. Displaying Information"
   ]
  },
  {
   "cell_type": "code",
   "execution_count": 10,
   "id": "b7ee53a3-0ca4-4b2b-871e-4aa06ac89365",
   "metadata": {},
   "outputs": [],
   "source": [
    "def display(a, b, c):\n",
    "    print(a)\n",
    "    print(b)\n",
    "    print(c)"
   ]
  },
  {
   "cell_type": "code",
   "execution_count": 11,
   "id": "20570b13-b849-4f87-a7d6-9469a0c99980",
   "metadata": {},
   "outputs": [],
   "source": [
    "row1 = [' ', ' ', ' ']\n",
    "row2 = [' ', ' ', ' ']\n",
    "row3 = [' ', ' ', ' ']"
   ]
  },
  {
   "cell_type": "code",
   "execution_count": 12,
   "id": "5f4066b4-929f-4e1a-96dd-ab8ad62e9899",
   "metadata": {},
   "outputs": [
    {
     "name": "stdout",
     "output_type": "stream",
     "text": [
      "[' ', ' ', ' ']\n",
      "[' ', ' ', ' ']\n",
      "[' ', ' ', ' ']\n"
     ]
    }
   ],
   "source": [
    "display(row1, row2, row3)"
   ]
  },
  {
   "cell_type": "code",
   "execution_count": 13,
   "id": "8ee0dc79-688f-4869-a4b3-12909494caf9",
   "metadata": {},
   "outputs": [],
   "source": [
    "row2[1] = 'X'"
   ]
  },
  {
   "cell_type": "code",
   "execution_count": 14,
   "id": "efa9eeed-27b4-41b8-bd76-c4a687a9160c",
   "metadata": {},
   "outputs": [
    {
     "name": "stdout",
     "output_type": "stream",
     "text": [
      "[' ', ' ', ' ']\n",
      "[' ', 'X', ' ']\n",
      "[' ', ' ', ' ']\n"
     ]
    }
   ],
   "source": [
    "display(row1, row2, row3)"
   ]
  },
  {
   "cell_type": "markdown",
   "id": "35b072b9-fcc0-4204-afdc-0f776518f45e",
   "metadata": {},
   "source": [
    "#### 2. Accepting User Input"
   ]
  },
  {
   "cell_type": "code",
   "execution_count": null,
   "id": "8864df05-320e-4805-9709-e3f19b3f0fd0",
   "metadata": {},
   "outputs": [],
   "source": [
    "input(\"Please enter a value: \")"
   ]
  },
  {
   "cell_type": "code",
   "execution_count": null,
   "id": "355c4b57-5996-4c6b-97e9-552e97e70a9a",
   "metadata": {},
   "outputs": [],
   "source": [
    "index_position = int(input(\"Please enter a value: \"))"
   ]
  },
  {
   "cell_type": "code",
   "execution_count": null,
   "id": "01ea1792-310d-45e5-812c-5cd9908ee995",
   "metadata": {},
   "outputs": [],
   "source": [
    "index_position"
   ]
  },
  {
   "cell_type": "code",
   "execution_count": null,
   "id": "5527ae67-dbc8-4bf7-8ce2-915d6fa4c78a",
   "metadata": {},
   "outputs": [],
   "source": [
    "row1[index_position - 1]"
   ]
  },
  {
   "cell_type": "markdown",
   "id": "36c263e0-8bc6-4395-95db-c101f4b73d54",
   "metadata": {
    "jp-MarkdownHeadingCollapsed": true
   },
   "source": [
    "#### 3. Validating User Input"
   ]
  },
  {
   "cell_type": "code",
   "execution_count": null,
   "id": "94e33ef5-e7f0-4057-bb00-5278ce7a1bed",
   "metadata": {},
   "outputs": [],
   "source": [
    "def user_choice():\n",
    "\n",
    "    choice = 'WRONG'\n",
    "\n",
    "    while choice.isdigit() == False:\n",
    "        print(\" \")\n",
    "        choice = input(\"Please enter a number (0-10): \")\n",
    "\n",
    "        if choice.isdigit() == False:\n",
    "            print(\" \")\n",
    "            print(\"That is not a digit! - Please enter a DIGIT!\")\n",
    "            continue\n",
    "\n",
    "        if int(choice) not in range(0, 11):\n",
    "            print(\" \")\n",
    "            print(\"Number cannot be bigger than 10 or less than 0\")\n",
    "            print(\" \")\n",
    "            choice = input(\"Please enter a number (0-10): \")\n",
    "        else:\n",
    "            continue\n",
    "        \n",
    "    return int(choice)"
   ]
  },
  {
   "cell_type": "code",
   "execution_count": null,
   "id": "c51fb937-b8dd-4dc0-a140-41022488c692",
   "metadata": {},
   "outputs": [
    {
     "name": "stdout",
     "output_type": "stream",
     "text": [
      " \n"
     ]
    },
    {
     "name": "stdout",
     "output_type": "stream",
     "text": [
      "Please enter a number (0-10):  3\n"
     ]
    },
    {
     "data": {
      "text/plain": [
       "3"
      ]
     },
     "execution_count": 5,
     "metadata": {},
     "output_type": "execute_result"
    }
   ],
   "source": [
    "user_choice()"
   ]
  },
  {
   "cell_type": "code",
   "execution_count": null,
   "id": "9b6c0a99-5b46-46f5-b4a3-cd0a85826672",
   "metadata": {},
   "outputs": [],
   "source": [
    "some_value = '100'"
   ]
  },
  {
   "cell_type": "code",
   "execution_count": null,
   "id": "46fb1832-2d3c-40e8-90a1-88358e1dd1a5",
   "metadata": {},
   "outputs": [],
   "source": [
    "some_value.isdigit()"
   ]
  },
  {
   "cell_type": "code",
   "execution_count": null,
   "id": "1d71b357-0496-4c94-9920-0c68ec1a4a73",
   "metadata": {},
   "outputs": [],
   "source": [
    "int(some_value)"
   ]
  },
  {
   "cell_type": "code",
   "execution_count": null,
   "id": "ebb83052-7128-42cb-8f49-9f0b2d0cf021",
   "metadata": {},
   "outputs": [],
   "source": [
    "# Cleaner More Complex Solution\n",
    "\n",
    "def user_choice():\n",
    "\n",
    "    # VAR\n",
    "\n",
    "    # Initial choice\n",
    "    choice = 'WRONG'\n",
    "    acceptable_range = range(0,11)\n",
    "    within_range = False\n",
    "\n",
    "    # Two Conditions to Check\n",
    "    # Digit or Within Range == False\n",
    "    while choice.isdigit() == False or within_range == False:\n",
    "        print(\" \")\n",
    "        choice = input(\"Please enter a number (0-10): \")\n",
    "        print(\" \")\n",
    "\n",
    "        # Digit Check\n",
    "        if choice.isdigit() == False:\n",
    "            print(\" \")\n",
    "            print(\"That is not a digit! - Please enter a DIGIT!\")\n",
    "            print(\" \")\n",
    "            continue\n",
    "\n",
    "\n",
    "        # Range Check\n",
    "        if int(choice) not in acceptable_range:\n",
    "            print(\" \")\n",
    "            print(\"Number cannot be bigger than 10 or less than 0\")\n",
    "            print(\" \")\n",
    "        else:\n",
    "            within_range = True\n",
    "\n",
    "    return int(choice)"
   ]
  },
  {
   "cell_type": "code",
   "execution_count": null,
   "id": "3bcd45eb-f4cb-441c-8914-47f6a23b52d4",
   "metadata": {},
   "outputs": [
    {
     "name": "stdout",
     "output_type": "stream",
     "text": [
      " \n",
      " \n",
      "Number cannot be bigger than 10 or less than 0\n",
      " \n",
      " \n"
     ]
    },
    {
     "name": "stdout",
     "output_type": "stream",
     "text": [
      "Please enter a number (0-10):  2\n"
     ]
    },
    {
     "name": "stdout",
     "output_type": "stream",
     "text": [
      " \n"
     ]
    },
    {
     "data": {
      "text/plain": [
       "2"
      ]
     },
     "execution_count": 15,
     "metadata": {},
     "output_type": "execute_result"
    }
   ],
   "source": [
    "user_choice()"
   ]
  },
  {
   "cell_type": "code",
   "execution_count": null,
   "id": "09953022-abd1-4ddb-a0b4-d544d539fc30",
   "metadata": {},
   "outputs": [],
   "source": [
    "def user_choice():\n",
    "    while True:\n",
    "        print()  # Add spacing before each prompt\n",
    "        choice = input(\"Please enter a number (0-10): \")\n",
    "        print()  # Add spacing after user input\n",
    "\n",
    "        if not choice.isdigit():\n",
    "            print(\"That is not a digit! Please enter a DIGIT.\")\n",
    "            continue\n",
    "\n",
    "        number = int(choice)\n",
    "        if number not in range(0, 11):\n",
    "            print(\"Number must be between 0 and 10.\")\n",
    "            continue\n",
    "\n",
    "        return number"
   ]
  },
  {
   "cell_type": "code",
   "execution_count": null,
   "id": "f14f3f16-275a-4c1f-8d27-46c7cbace593",
   "metadata": {},
   "outputs": [
    {
     "name": "stdout",
     "output_type": "stream",
     "text": [
      "\n",
      "Number must be between 0 and 10.\n",
      "\n"
     ]
    },
    {
     "name": "stdout",
     "output_type": "stream",
     "text": [
      "Please enter a number (0-10):  1\n"
     ]
    },
    {
     "name": "stdout",
     "output_type": "stream",
     "text": [
      "\n"
     ]
    },
    {
     "data": {
      "text/plain": [
       "1"
      ]
     },
     "execution_count": 21,
     "metadata": {},
     "output_type": "execute_result"
    }
   ],
   "source": [
    "user_choice()"
   ]
  },
  {
   "cell_type": "markdown",
   "id": "ab299485-7964-4a35-89fc-dac185c57f2c",
   "metadata": {},
   "source": [
    "#### 4. Simple User Interaction"
   ]
  },
  {
   "cell_type": "code",
   "execution_count": null,
   "id": "630be840-56f9-4d81-a52b-2fdf88a9eea8",
   "metadata": {},
   "outputs": [],
   "source": []
  },
  {
   "cell_type": "markdown",
   "id": "669beccd-7fd9-4bfb-8169-54f8c56a36fe",
   "metadata": {},
   "source": [
    "### Milestone Project: Tic-Tac-Toe"
   ]
  },
  {
   "cell_type": "markdown",
   "id": "944bdcb7-aa96-40eb-b0e3-3a66e46d8781",
   "metadata": {},
   "source": [
    "1. We need to print a board.\n",
    "2. Take in player input.\n",
    "3. Place their input on the board.\n",
    "4. Check if the game is won,tied, lost, or ongoing.\n",
    "5. Repeat c and d until the game has been won or tied.\n",
    "6. Ask if players want to play again."
   ]
  },
  {
   "cell_type": "markdown",
   "id": "83f570db-1680-4504-9bf5-5a7210967b3f",
   "metadata": {},
   "source": [
    "**Step 1:** Write a function that can print out a board. Set up your board as a list, where each index 1-9 corresponds with a number on a number pad, so you get a 3 by 3 board representation."
   ]
  },
  {
   "cell_type": "code",
   "execution_count": 2,
   "id": "356f3fa0-015e-4fd5-87c0-d83c599a5f24",
   "metadata": {},
   "outputs": [],
   "source": [
    "from IPython.display import clear_output\n",
    "\n",
    "\n",
    "def display_board(board):\n",
    "    \n",
    "    clear_output()\n",
    "    \n",
    "    print(board[7]+'|'+board[8]+'|'+board[9])\n",
    "    print(board[4]+'|'+board[5]+'|'+board[6])\n",
    "    print(board[1]+'|'+board[2]+'|'+board[3])"
   ]
  },
  {
   "cell_type": "markdown",
   "id": "e7ee8be2-126f-4d46-bcdf-b94de37237a4",
   "metadata": {},
   "source": [
    "**Step 2:** Write a function that can take in a player input and assign their marker as 'X' or 'O'. Think about using while loops to continually ask until you get a correct answer."
   ]
  },
  {
   "cell_type": "code",
   "execution_count": 5,
   "id": "a1f8d119-9045-4f11-9f0e-1296ca4fb996",
   "metadata": {},
   "outputs": [],
   "source": [
    "def player_input():\n",
    "    marker = ''\n",
    "    \n",
    "    while not (marker == 'X' or marker == 'O'):\n",
    "        marker = input('Player 1: Do you want to be X or O? ').upper()\n",
    "\n",
    "    if marker == 'X':\n",
    "        return ('X', 'O')\n",
    "    else:\n",
    "        return ('O', 'X')"
   ]
  },
  {
   "cell_type": "markdown",
   "id": "39f7e5c0-560c-4e49-9d55-57582732ea04",
   "metadata": {},
   "source": [
    "**Step 3:** Write a function that takes in the board list object, a marker ('X' or 'O'), and a desired position (number 1-9) and assigns it to the board."
   ]
  },
  {
   "cell_type": "code",
   "execution_count": 8,
   "id": "a04f20ee-ca42-4b15-a419-0c6f4a6ae9bd",
   "metadata": {},
   "outputs": [],
   "source": [
    "def place_marker(board, marker, position):\n",
    "    board[position] = marker"
   ]
  },
  {
   "cell_type": "markdown",
   "id": "a23d0aeb-6107-4fbd-becb-a789ba41871c",
   "metadata": {},
   "source": [
    "**Step 4:** Write a function that takes in a board and a mark (X or O) and then checks to see if that mark has won."
   ]
  },
  {
   "cell_type": "code",
   "execution_count": 11,
   "id": "02f14260-3b8d-4bb5-9214-1a3580874fef",
   "metadata": {},
   "outputs": [],
   "source": [
    "def win_check(board,mark):\n",
    "    \n",
    "    return ((board[7] == mark and board[8] == mark and board[9] == mark) or # across the top\n",
    "    (board[4] == mark and board[5] == mark and board[6] == mark) or # across the middle\n",
    "    (board[1] == mark and board[2] == mark and board[3] == mark) or # across the bottom\n",
    "    (board[7] == mark and board[4] == mark and board[1] == mark) or # down the middle\n",
    "    (board[8] == mark and board[5] == mark and board[2] == mark) or # down the middle\n",
    "    (board[9] == mark and board[6] == mark and board[3] == mark) or # down the right side\n",
    "    (board[7] == mark and board[5] == mark and board[3] == mark) or # diagonal\n",
    "    (board[9] == mark and board[5] == mark and board[1] == mark)) # diagonal"
   ]
  },
  {
   "cell_type": "markdown",
   "id": "ca1f1979-25c8-4af0-b9ed-6f3d4438ecf5",
   "metadata": {},
   "source": [
    "**Step 5:** Write a function that uses the random module to randomly decide which player goes first. You may want to lookup random.randint() Return a string of which player went first."
   ]
  },
  {
   "cell_type": "code",
   "execution_count": 14,
   "id": "91c7c2e4-2fb3-4ee3-a626-ed02cd131091",
   "metadata": {},
   "outputs": [],
   "source": [
    "import random\n",
    "\n",
    "def choose_first():\n",
    "    if random.randint(0, 1) == 0:\n",
    "        return 'Player 2'\n",
    "    else:\n",
    "        return 'Player 1'"
   ]
  },
  {
   "cell_type": "markdown",
   "id": "ad332fea-2900-4c16-beba-23bbd00a4462",
   "metadata": {},
   "source": [
    "**Step 6:** Write a function that returns a boolean indicating whether a space on the board is freely available."
   ]
  },
  {
   "cell_type": "code",
   "execution_count": 17,
   "id": "ddd41be0-7b83-4fa4-9306-f1d32a64f6cf",
   "metadata": {},
   "outputs": [],
   "source": [
    "def space_check(board, position):\n",
    "\n",
    "    return board[position] == ' '"
   ]
  },
  {
   "cell_type": "markdown",
   "id": "6cc777b7-1e1f-4299-b634-6b3ca5996bd0",
   "metadata": {},
   "source": [
    "**Step 7:** Write a function that checks if the board is full and returns a boolean value. True if full, False otherwise."
   ]
  },
  {
   "cell_type": "code",
   "execution_count": 20,
   "id": "d25c8db1-2965-4d4a-8cc5-6def8a6965f7",
   "metadata": {},
   "outputs": [],
   "source": [
    "def full_board_check(board):\n",
    "    for i in range(1,10):\n",
    "        if space_check(board, i):\n",
    "            return False\n",
    "    return True"
   ]
  },
  {
   "cell_type": "markdown",
   "id": "af0606a2-c5ce-41f8-b72e-cfccb867e349",
   "metadata": {},
   "source": [
    "**Step 8:** Write a function that asks for a player's next position (as a number 1-9) and then uses the function from step 6 to check if it's a free position. If it is, then return the position for later use."
   ]
  },
  {
   "cell_type": "code",
   "execution_count": 23,
   "id": "77695199-4829-4c7f-a461-2ac3074d5eb6",
   "metadata": {},
   "outputs": [],
   "source": [
    "def player_choice(board):\n",
    "    position = 0\n",
    "    \n",
    "    while position not in [1,2,3,4,5,6,7,8,9] or not space_check(board, position):\n",
    "        position = int(input('Choose your next position: (1-9) '))\n",
    "        \n",
    "    return position"
   ]
  },
  {
   "cell_type": "markdown",
   "id": "076a861c-5599-4a1c-a891-ce7706f37466",
   "metadata": {},
   "source": [
    "**Step 9:** Write a function that asks the player if they want to play again and returns a boolean True if they do want to play again."
   ]
  },
  {
   "cell_type": "code",
   "execution_count": 26,
   "id": "117dd0f4-4e4e-4c4a-8a8b-26eae5cdd636",
   "metadata": {},
   "outputs": [],
   "source": [
    "def replay():\n",
    "\n",
    "    return input('Do you want to play again? Enter Yes or No: ').lower().startswith('y')"
   ]
  },
  {
   "cell_type": "markdown",
   "id": "b991f702-a904-461c-a946-cd92839b4901",
   "metadata": {},
   "source": [
    "**Step 10:** Here comes the hard part! Use while loops and the functions you've made to run the game!"
   ]
  },
  {
   "cell_type": "code",
   "execution_count": 31,
   "id": "cbab68c5-2c97-4d5f-98b2-9c1465c6ef7c",
   "metadata": {
    "jupyter": {
     "source_hidden": true
    }
   },
   "outputs": [
    {
     "name": "stdout",
     "output_type": "stream",
     "text": [
      "Welcome to Tic Tac Toe!\n"
     ]
    },
    {
     "name": "stdout",
     "output_type": "stream",
     "text": [
      "Player 1: Do you want to be X or O?  x\n"
     ]
    },
    {
     "name": "stdout",
     "output_type": "stream",
     "text": [
      "Player 1 will go first.\n"
     ]
    },
    {
     "name": "stdout",
     "output_type": "stream",
     "text": [
      "Are you ready to play? Enter Yes or No. n\n",
      "Do you want to play again? Enter Yes or No:  n\n"
     ]
    }
   ],
   "source": [
    "print('Welcome to Tic Tac Toe!')\n",
    "\n",
    "\n",
    "while True:\n",
    "    # Reset the board\n",
    "    theBoard = [' '] * 10\n",
    "    player1_marker, player2_marker = player_input()\n",
    "    turn = choose_first()\n",
    "    print(turn + ' will go first.')\n",
    "    \n",
    "    play_game = input('Are you ready to play? Enter Yes or No.')\n",
    "    \n",
    "    if play_game.lower()[0] == 'y':\n",
    "        game_on = True\n",
    "    else:\n",
    "        game_on = False\n",
    "\n",
    "    while game_on:\n",
    "        if turn == 'Player 1':\n",
    "            # Player1's turn.\n",
    "            \n",
    "            display_board(theBoard)\n",
    "            position = player_choice(theBoard)\n",
    "            place_marker(theBoard, player1_marker, position)\n",
    "\n",
    "            if win_check(theBoard, player1_marker):\n",
    "                display_board(theBoard)\n",
    "                print('Congratulations! You have won the game!')\n",
    "                game_on = False\n",
    "            else:\n",
    "                if full_board_check(theBoard):\n",
    "                    display_board(theBoard)\n",
    "                    print('The game is a draw!')\n",
    "                    break\n",
    "                else:\n",
    "                    turn = 'Player 2'\n",
    "\n",
    "        else:\n",
    "            # Player2's turn.\n",
    "            \n",
    "            display_board(theBoard)\n",
    "            position = player_choice(theBoard)\n",
    "            place_marker(theBoard, player2_marker, position)\n",
    "\n",
    "            if win_check(theBoard, player2_marker):\n",
    "                display_board(theBoard)\n",
    "                print('Player 2 has won!')\n",
    "                game_on = False\n",
    "            else:\n",
    "                if full_board_check(theBoard):\n",
    "                    display_board(theBoard)\n",
    "                    print('The game is a draw!')\n",
    "                    break\n",
    "                else:\n",
    "                    turn = 'Player 1'\n",
    "\n",
    "    if not replay():\n",
    "        break"
   ]
  },
  {
   "cell_type": "markdown",
   "id": "177e5008-114a-46c2-866c-4bb2a1540022",
   "metadata": {
    "jp-MarkdownHeadingCollapsed": true
   },
   "source": [
    "## <h2 style=\"color: #4472C4;\"> Section 8: <b>Object</b> Oriented Programming </h2> "
   ]
  },
  {
   "cell_type": "markdown",
   "id": "79352ecd-67ed-4ca3-9fee-0c0ae834c7a6",
   "metadata": {
    "jp-MarkdownHeadingCollapsed": true
   },
   "source": [
    "### 1. Attributes and Class Keyword"
   ]
  },
  {
   "cell_type": "markdown",
   "id": "9e7dc8b9-e6ae-433c-b054-42b1c7657ce2",
   "metadata": {
    "jp-MarkdownHeadingCollapsed": true
   },
   "source": [
    "#### Simple Class Example:"
   ]
  },
  {
   "cell_type": "code",
   "execution_count": 36,
   "id": "7e2dab2e-59fb-429f-8944-9f774053562d",
   "metadata": {},
   "outputs": [],
   "source": [
    "# Creating a Class\n",
    "class Sample():\n",
    "    pass"
   ]
  },
  {
   "cell_type": "code",
   "execution_count": 37,
   "id": "0aad6adf-93ba-4180-8d68-e8d8f0ad3d39",
   "metadata": {},
   "outputs": [],
   "source": [
    "# Creating an INSTANCE of the Sample class\n",
    "my_sample = Sample()"
   ]
  },
  {
   "cell_type": "code",
   "execution_count": 38,
   "id": "c5668a67-8285-46ae-a1ed-ce45809ae942",
   "metadata": {},
   "outputs": [
    {
     "data": {
      "text/plain": [
       "__main__.Sample"
      ]
     },
     "execution_count": 38,
     "metadata": {},
     "output_type": "execute_result"
    }
   ],
   "source": [
    "# We can see the instance created is part of the class\n",
    "type(my_sample)"
   ]
  },
  {
   "cell_type": "code",
   "execution_count": 39,
   "id": "f5bdd72e-adc7-41a9-a407-ff7d0e930782",
   "metadata": {},
   "outputs": [
    {
     "data": {
      "text/plain": [
       "list"
      ]
     },
     "execution_count": 39,
     "metadata": {},
     "output_type": "execute_result"
    }
   ],
   "source": [
    "# just like we can check the class of object for a built in object\n",
    "mylist = [1,2,3]\n",
    "type(mylist)"
   ]
  },
  {
   "cell_type": "markdown",
   "id": "26078db8-8915-4b91-b29e-9dd309ceeba0",
   "metadata": {
    "jp-MarkdownHeadingCollapsed": true
   },
   "source": [
    "#### Creating Attributes:"
   ]
  },
  {
   "cell_type": "code",
   "execution_count": 41,
   "id": "583ee040-f12c-49a7-9ce4-c5648f0d304b",
   "metadata": {},
   "outputs": [],
   "source": [
    "class Dog():\n",
    "    \n",
    "    # Method --------- Attributes: Characteristics of an object\n",
    "    def __init__(self, breed, name, spots):\n",
    "        # Always assign the attribute to self \n",
    "        self.breed = breed\n",
    "        # This way it is linked to this class and it doesnt get confused with some var declared elsewhere\n",
    "        self.name = name\n",
    "\n",
    "        # Expect a Boolean\n",
    "        self.spots = spots\n"
   ]
  },
  {
   "cell_type": "code",
   "execution_count": 42,
   "id": "5a03fd94-c153-4f5f-b77c-5954879e1e6a",
   "metadata": {},
   "outputs": [],
   "source": [
    "my_dog = Dog(breed = 'Lab', name = \"Sammy\", spots = False)"
   ]
  },
  {
   "cell_type": "code",
   "execution_count": 43,
   "id": "da742707-a304-420d-b1b6-46e54eed09ed",
   "metadata": {},
   "outputs": [
    {
     "data": {
      "text/plain": [
       "__main__.Dog"
      ]
     },
     "execution_count": 43,
     "metadata": {},
     "output_type": "execute_result"
    }
   ],
   "source": [
    "type(my_dog)"
   ]
  },
  {
   "cell_type": "code",
   "execution_count": 44,
   "id": "9a3f2e7e-695a-40d0-8e04-721887d1c512",
   "metadata": {},
   "outputs": [
    {
     "data": {
      "text/plain": [
       "False"
      ]
     },
     "execution_count": 44,
     "metadata": {},
     "output_type": "execute_result"
    }
   ],
   "source": [
    "my_dog.spots"
   ]
  },
  {
   "cell_type": "markdown",
   "id": "b9c512ce-bcd7-4ff0-ace4-b0d8a165093b",
   "metadata": {
    "jp-MarkdownHeadingCollapsed": true
   },
   "source": [
    "### 2. Class Object Attributes and Methods"
   ]
  },
  {
   "cell_type": "markdown",
   "id": "ad17c08d-f364-48c2-97f9-4400fd4aac67",
   "metadata": {
    "jp-MarkdownHeadingCollapsed": true
   },
   "source": [
    "#### Class Object Attributes"
   ]
  },
  {
   "cell_type": "code",
   "execution_count": 47,
   "id": "442e8151-022d-496a-8475-81880eb54232",
   "metadata": {},
   "outputs": [],
   "source": [
    "class Dog():\n",
    "\n",
    "    # CLASS OBJECT ATTRIBUTE\n",
    "    # SAME FOR ANY INSTANCE OF THE CLASS (for this reason you dont need to use the self keyword)\n",
    "    species = 'mammal'\n",
    "    \n",
    "    def __init__(self, breed, name, spots):\n",
    "\n",
    "        self.breed = breed\n",
    "        self.name = name\n",
    "        self.spots = spots\n"
   ]
  },
  {
   "cell_type": "code",
   "execution_count": 48,
   "id": "4feb450a-eff8-4dd2-bbe4-5692e774fac5",
   "metadata": {},
   "outputs": [],
   "source": [
    "my_dog = Dog(breed='Lab', name='Sam', spots=False)"
   ]
  },
  {
   "cell_type": "code",
   "execution_count": 49,
   "id": "1f2ff584-455e-4827-b615-672daeb2d48c",
   "metadata": {},
   "outputs": [
    {
     "data": {
      "text/plain": [
       "__main__.Dog"
      ]
     },
     "execution_count": 49,
     "metadata": {},
     "output_type": "execute_result"
    }
   ],
   "source": [
    "type(my_dog)"
   ]
  },
  {
   "cell_type": "code",
   "execution_count": 50,
   "id": "3695107c-9ee9-4491-b023-5bfa9c468b4c",
   "metadata": {},
   "outputs": [
    {
     "data": {
      "text/plain": [
       "'mammal'"
      ]
     },
     "execution_count": 50,
     "metadata": {},
     "output_type": "execute_result"
    }
   ],
   "source": [
    "my_dog.species"
   ]
  },
  {
   "cell_type": "markdown",
   "id": "fe3d43ea-2c6c-42b1-a823-6355cd5144ff",
   "metadata": {},
   "source": [
    "#### **Methods** = *Operations / Actions*"
   ]
  },
  {
   "cell_type": "markdown",
   "id": "26a9b0ab-9dfe-4ed0-b0a3-b8084db583fd",
   "metadata": {},
   "source": [
    "<span style=\"font-size: 18px;\"/> **1.** Methods are functions **defined inside the body of a class**. <br/>\n",
    "<span style=\"font-size: 18px;\"/> **2.** They are used to **perform operations with the attributes of our objects**. <br/>\n",
    "<span style=\"font-size: 18px;\"/> **3.** Methods are a **key concept** of the OOP paradigm. <br/>\n",
    "<span style=\"font-size: 18px;\"/> **4.** They are essential to **dividing responsibilities** in programming, *especially in large applications*. <br/>\n",
    "<span style=\"font-size: 18px;\"/> **5.** You can basically think of **methods** *as functions acting on an Object* **that** ***take the Object itself into account*** through its self argument. <br/>"
   ]
  },
  {
   "cell_type": "code",
   "execution_count": 53,
   "id": "53450186-c427-42d0-b417-cddffc034941",
   "metadata": {},
   "outputs": [],
   "source": [
    "class Dog():\n",
    "\n",
    "    # CLASS OBJECT ATTRIBUTE\n",
    "    # SAME FOR ANY INSTANCE OF THE CLASS (for this reason you dont need to use the self keyword)\n",
    "    species = 'mammal'\n",
    "    \n",
    "    def __init__(self, breed, name, spots):\n",
    "\n",
    "        self.breed = breed\n",
    "        self.name = name\n",
    "        self.spots = spots\n",
    "\n",
    "    # Operations / Actions = METHODS\n",
    "    def bark(self, number):\n",
    "        print(\"WOLF! My name is {} and the number is {}\".format(self.name, number))"
   ]
  },
  {
   "cell_type": "code",
   "execution_count": 54,
   "id": "bf542be5-ecbf-4f47-aa70-6f005555ed18",
   "metadata": {},
   "outputs": [],
   "source": [
    "my_dog = Dog(\"Lab\", \"Frankie\", False)"
   ]
  },
  {
   "cell_type": "code",
   "execution_count": 55,
   "id": "f36a0bfc-94bf-47fd-ac1c-78ec92f22a80",
   "metadata": {},
   "outputs": [
    {
     "name": "stdout",
     "output_type": "stream",
     "text": [
      "WOLF! My name is Frankie and the number is 10\n"
     ]
    }
   ],
   "source": [
    "my_dog.bark(10)"
   ]
  },
  {
   "cell_type": "markdown",
   "id": "c9cd3c9c-6ffe-4d0b-a1d7-c36a2c7012d2",
   "metadata": {
    "jp-MarkdownHeadingCollapsed": true
   },
   "source": [
    "### 3. Inheritance And Polymorphism"
   ]
  },
  {
   "cell_type": "markdown",
   "id": "46ab02a3-0460-438b-9a51-ced1d59451d9",
   "metadata": {
    "jp-MarkdownHeadingCollapsed": true
   },
   "source": [
    "#### 1. **Inheritance** - *Form new classes with classes that have already been defined*"
   ]
  },
  {
   "cell_type": "markdown",
   "id": "9de6870d-09b0-4c02-b5d0-6f6fd364e129",
   "metadata": {},
   "source": [
    "a. Reuse code that you have already worked on. \\\n",
    "b. Reduce complexity of a program.\n",
    "\n",
    "Base Class -- Derived Class -- Inherit same methods / Overwrite methods / create new methods"
   ]
  },
  {
   "cell_type": "code",
   "execution_count": 140,
   "id": "007d6669-6881-402e-915e-fa12a0a7b608",
   "metadata": {},
   "outputs": [],
   "source": [
    "# Base Class\n",
    "class Animal():\n",
    "\n",
    "    def __init__(self):\n",
    "        print(\"Animal Created\")\n",
    "\n",
    "    # Method\n",
    "    def who_am_i(self):\n",
    "        print(\"I am an animal\")\n",
    "\n",
    "    # Method\n",
    "    def eat(self):\n",
    "        print(\"I am eating\")"
   ]
  },
  {
   "cell_type": "code",
   "execution_count": 142,
   "id": "b308c1d2-3ff9-47c9-81c3-d4b118e2963c",
   "metadata": {},
   "outputs": [
    {
     "name": "stdout",
     "output_type": "stream",
     "text": [
      "Animal Created\n"
     ]
    }
   ],
   "source": [
    "myanimal = Animal()"
   ]
  },
  {
   "cell_type": "code",
   "execution_count": 146,
   "id": "052af88c-cdb3-420b-ad78-c4470229bda8",
   "metadata": {},
   "outputs": [
    {
     "name": "stdout",
     "output_type": "stream",
     "text": [
      "I am eating\n"
     ]
    }
   ],
   "source": [
    "myanimal.eat()"
   ]
  },
  {
   "cell_type": "code",
   "execution_count": 148,
   "id": "cebc6e82-afb0-473c-ab00-75991c3b7c0c",
   "metadata": {},
   "outputs": [
    {
     "name": "stdout",
     "output_type": "stream",
     "text": [
      "I am an animal\n"
     ]
    }
   ],
   "source": [
    "myanimal.who_am_i()"
   ]
  },
  {
   "cell_type": "code",
   "execution_count": 158,
   "id": "2dcb5ba1-c8cf-4c52-88d3-4cb8382df1cc",
   "metadata": {},
   "outputs": [],
   "source": [
    "# Derived Class\n",
    "class Dog(Animal):\n",
    "\n",
    "    # Since we included Animal Class declared above, \n",
    "    # it will inherit the methods from animal class \n",
    "    # as well as other methods we declare below\n",
    "    def __init__(self):\n",
    "        Animal.__init__(self)\n",
    "        print(\"Dog Created\")\n",
    "\n",
    "    # WE CAN OVERWRITE THE METHODS FROM ANIMAL CLASS IF WE WANT\n",
    "    def who_am_i(self):\n",
    "        print(\"I am a dog\")"
   ]
  },
  {
   "cell_type": "code",
   "execution_count": 160,
   "id": "73e3625d-8e0c-483e-8469-4a76ae95e79f",
   "metadata": {},
   "outputs": [
    {
     "name": "stdout",
     "output_type": "stream",
     "text": [
      "Animal Created\n",
      "Dog Created\n"
     ]
    }
   ],
   "source": [
    "mydog = Dog()"
   ]
  },
  {
   "cell_type": "code",
   "execution_count": 166,
   "id": "7aecf226-717d-4ca3-9658-5772cddcbc59",
   "metadata": {},
   "outputs": [
    {
     "name": "stdout",
     "output_type": "stream",
     "text": [
      "I am a dog\n"
     ]
    }
   ],
   "source": [
    "# This method from Animal Class we Overwritten\n",
    "mydog.who_am_i()"
   ]
  },
  {
   "cell_type": "code",
   "execution_count": 168,
   "id": "0aec7c04-a4f2-4489-9334-1da6f77b2da3",
   "metadata": {},
   "outputs": [
    {
     "name": "stdout",
     "output_type": "stream",
     "text": [
      "I am eating\n"
     ]
    }
   ],
   "source": [
    "# Notice this method from Animal Class is the same\n",
    "mydog.eat()"
   ]
  },
  {
   "cell_type": "markdown",
   "id": "459c451e-c668-43e2-bf84-4e8597f3a789",
   "metadata": {
    "jp-MarkdownHeadingCollapsed": true
   },
   "source": [
    "#### 2. **Polymorphism** - *Different object classes can share the same method name and then those methods can be called from the same place even though a variety of different objects might be passed in.*"
   ]
  },
  {
   "cell_type": "markdown",
   "id": "0788efcb-cd88-405a-9eec-d7209d85f219",
   "metadata": {},
   "source": [
    "2 Different classes share the same Method Name! \\\n",
    "However, that method is unique for that class in what it does.\n",
    "\n",
    "Example below: when dog speaks it barks, and cat meow. \\\n",
    "    Same method name \"SPEAK\" \\\n",
    "    2 different type of speaking \\\n",
    "    1 unique to dogs \\\n",
    "    1 unique to cats \n",
    "\n",
    "<span style=\"font-size: 20px;\" /> Can be used in **for-loops** or in **functions** \\\n",
    "<span style=\"font-size: 16px;\"/>&emsp;&emsp;*where you def a function with more than one arg, \\\n",
    "&emsp;&emsp;and pass in objects from different classes, \\\n",
    "&emsp;&emsp;within the function call the same method name for those objects \\\n",
    "&emsp;&emsp;same idea for a for-loop*"
   ]
  },
  {
   "cell_type": "code",
   "execution_count": 190,
   "id": "168de73b-d75b-4f94-9f28-b9011fd92cbf",
   "metadata": {},
   "outputs": [],
   "source": [
    "class Dog():\n",
    "\n",
    "    def __init__(self, name):\n",
    "        self.name = name\n",
    "\n",
    "    def speak(self):\n",
    "        return self.name + \" says woof!\""
   ]
  },
  {
   "cell_type": "code",
   "execution_count": 192,
   "id": "a677bc2b-6861-4a48-9b47-8208ee7f7d17",
   "metadata": {},
   "outputs": [],
   "source": [
    "class Cat():\n",
    "\n",
    "    def __init__(self, name):\n",
    "        self.name = name\n",
    "\n",
    "    def speak(self):\n",
    "        return self.name + \" says meow!\""
   ]
  },
  {
   "cell_type": "code",
   "execution_count": 194,
   "id": "71bed603-d7d4-4653-ae51-03e89c984303",
   "metadata": {},
   "outputs": [],
   "source": [
    "niko = Dog(\"Niko\")"
   ]
  },
  {
   "cell_type": "code",
   "execution_count": 196,
   "id": "52c0ef10-e664-4c21-b1cd-f40edafaac83",
   "metadata": {},
   "outputs": [],
   "source": [
    "felix = Cat(\"Felix\")"
   ]
  },
  {
   "cell_type": "code",
   "execution_count": 198,
   "id": "9d1f1095-4456-4947-86dc-9a6821e0ef39",
   "metadata": {},
   "outputs": [
    {
     "name": "stdout",
     "output_type": "stream",
     "text": [
      "Niko says woof!\n"
     ]
    }
   ],
   "source": [
    "print(niko.speak())"
   ]
  },
  {
   "cell_type": "code",
   "execution_count": 200,
   "id": "ec0d22cc-b53d-46d3-93db-d916e8ae8563",
   "metadata": {},
   "outputs": [
    {
     "name": "stdout",
     "output_type": "stream",
     "text": [
      "Felix says meow!\n"
     ]
    }
   ],
   "source": [
    "print(felix.speak())"
   ]
  },
  {
   "cell_type": "markdown",
   "id": "edf457f5-887c-4f3d-90f8-f96c32135008",
   "metadata": {},
   "source": [
    "##### <span style=\"font-size: 18px;\"/> **Abstract Class** "
   ]
  },
  {
   "cell_type": "markdown",
   "id": "79e48875-354c-4e81-ace0-2fcb5f824550",
   "metadata": {},
   "source": [
    "Meant to always be a BASE Class not a derived class \\\n",
    "*it never expects to create an instance of this class*"
   ]
  },
  {
   "cell_type": "code",
   "execution_count": 251,
   "id": "ac0b5aec-05af-4957-9cc0-4c039d273ebb",
   "metadata": {},
   "outputs": [],
   "source": [
    "class Animal():\n",
    "\n",
    "    def __init__(self, name):\n",
    "        self.name = name\n",
    "\n",
    "    def speak(self):\n",
    "        raise NotImplementedError(\"Subclass must implement this abstract method\")"
   ]
  },
  {
   "cell_type": "code",
   "execution_count": 253,
   "id": "452d1699-b35e-4c77-bb33-849cd68d02e9",
   "metadata": {},
   "outputs": [],
   "source": [
    "class Cat(Animal):\n",
    "\n",
    "    def speak(self):\n",
    "        return self.name + \" says meow!\""
   ]
  },
  {
   "cell_type": "code",
   "execution_count": 255,
   "id": "20d188a4-6877-4065-8219-da0b87db3ba5",
   "metadata": {},
   "outputs": [],
   "source": [
    "coku = Cat(\"Coku\")"
   ]
  },
  {
   "cell_type": "code",
   "execution_count": 257,
   "id": "ecda1b0d-6824-4e92-a2be-1ced97d99104",
   "metadata": {},
   "outputs": [
    {
     "data": {
      "text/plain": [
       "'Coku says meow!'"
      ]
     },
     "execution_count": 257,
     "metadata": {},
     "output_type": "execute_result"
    }
   ],
   "source": [
    "coku.speak()"
   ]
  },
  {
   "cell_type": "markdown",
   "id": "b9860d26-4c3f-49b2-bc3e-ab4c39a18790",
   "metadata": {
    "jp-MarkdownHeadingCollapsed": true
   },
   "source": [
    "### 4. Special Methods (*Magic / Dunder*)"
   ]
  },
  {
   "cell_type": "markdown",
   "id": "0d657c1d-a6ca-4dca-aa4d-b80a78d90f10",
   "metadata": {},
   "source": [
    "Allow us to use built-in operations (len(), print(), etc..) with our User-Created Objects."
   ]
  },
  {
   "cell_type": "code",
   "execution_count": 273,
   "id": "8000ca25-5160-4a3a-8bf5-62d93bee42b1",
   "metadata": {},
   "outputs": [],
   "source": [
    "mylist = [1,2,3]"
   ]
  },
  {
   "cell_type": "code",
   "execution_count": 275,
   "id": "550b81ba-7df2-4b2c-8a4a-78ce33c192b2",
   "metadata": {},
   "outputs": [],
   "source": [
    "class Sample():\n",
    "    pass"
   ]
  },
  {
   "cell_type": "code",
   "execution_count": 278,
   "id": "c2f52762-53ff-4200-800f-e9e474c7822b",
   "metadata": {},
   "outputs": [],
   "source": [
    "mysample = Sample()"
   ]
  },
  {
   "cell_type": "code",
   "execution_count": 280,
   "id": "04f32cfe-be1d-4e19-9a76-ee75799a34a4",
   "metadata": {},
   "outputs": [
    {
     "name": "stdout",
     "output_type": "stream",
     "text": [
      "<__main__.Sample object at 0x11f259760>\n"
     ]
    }
   ],
   "source": [
    "print(mysample)"
   ]
  },
  {
   "cell_type": "code",
   "execution_count": 343,
   "id": "0de6f271-7110-423c-ac38-d0635608f5c6",
   "metadata": {},
   "outputs": [],
   "source": [
    "class Book():\n",
    "\n",
    "    def __init__(self, title, author, pages):\n",
    "        \n",
    "        self.title = title\n",
    "        self.author = author\n",
    "        self.pages = pages\n",
    "\n",
    "    def __str__(self):\n",
    "        return f\"{self.title} by {self.author}\"\n",
    "\n",
    "    def __len__(self):\n",
    "        return self.pages\n",
    "\n",
    "    def __del__(self):\n",
    "        print(\"A book object has been deleted\")"
   ]
  },
  {
   "cell_type": "code",
   "execution_count": 353,
   "id": "67bc3f4a-6fd2-419e-ba15-bdb772f3a7a8",
   "metadata": {},
   "outputs": [
    {
     "name": "stdout",
     "output_type": "stream",
     "text": [
      "A book object has been deleted\n"
     ]
    }
   ],
   "source": [
    "b = Book('Python rocks', \"Jose\", 200)"
   ]
  },
  {
   "cell_type": "code",
   "execution_count": 355,
   "id": "36730a3f-cd23-4f40-8097-f046eb0afa13",
   "metadata": {},
   "outputs": [
    {
     "name": "stdout",
     "output_type": "stream",
     "text": [
      "Python rocks by Jose\n"
     ]
    }
   ],
   "source": [
    "print(b)"
   ]
  },
  {
   "cell_type": "code",
   "execution_count": 357,
   "id": "114406e4-edf7-4efc-ac34-728b9ce7b426",
   "metadata": {},
   "outputs": [
    {
     "data": {
      "text/plain": [
       "'Python rocks by Jose'"
      ]
     },
     "execution_count": 357,
     "metadata": {},
     "output_type": "execute_result"
    }
   ],
   "source": [
    "str(b)"
   ]
  },
  {
   "cell_type": "code",
   "execution_count": 359,
   "id": "59be531a-daf9-4b40-b2d2-86f8c7e13166",
   "metadata": {},
   "outputs": [
    {
     "data": {
      "text/plain": [
       "200"
      ]
     },
     "execution_count": 359,
     "metadata": {},
     "output_type": "execute_result"
    }
   ],
   "source": [
    "len(b)"
   ]
  },
  {
   "cell_type": "code",
   "execution_count": 341,
   "id": "8c1bd866-a6d4-45a0-81be-af014de8a5d8",
   "metadata": {},
   "outputs": [],
   "source": [
    "# del b\n",
    "# DELETING A VAR"
   ]
  },
  {
   "cell_type": "markdown",
   "id": "9e83d17b-0769-4f1d-b84a-12e0f5bdf02d",
   "metadata": {
    "jp-MarkdownHeadingCollapsed": true
   },
   "source": [
    "### *Homework Assignments*"
   ]
  },
  {
   "cell_type": "markdown",
   "id": "adb6b059-855e-4c88-b809-2e94ce70a6e9",
   "metadata": {},
   "source": [
    "##### 1. Fill in the Line class methods to accept coordinates as a pair of tuples and return the slope and distance of the line."
   ]
  },
  {
   "cell_type": "code",
   "execution_count": 367,
   "id": "c6cc5101-8ff2-4162-9e33-600ae148ed9d",
   "metadata": {},
   "outputs": [],
   "source": [
    "class Line:\n",
    "    \n",
    "    def __init__(self,coor1,coor2):\n",
    "        self.coor1 = coor1\n",
    "        self.coor2 = coor2\n",
    "    \n",
    "    def distance(self):\n",
    "        x1,y1 = self.coor1\n",
    "        x2,y2 = self.coor2\n",
    "        return ((x2-x1)**2 + (y2-y1)**2)**0.5\n",
    "        \n",
    "    def slope(self):\n",
    "        x1,y1 = self.coor1\n",
    "        x2,y2 = self.coor2\n",
    "        return (y2-y1)/(x2-x1)"
   ]
  },
  {
   "cell_type": "code",
   "execution_count": 369,
   "id": "2239ede9-d6f3-40f1-8720-5a0ddaae8a05",
   "metadata": {},
   "outputs": [],
   "source": [
    "coordinate1 = (3,2)\n",
    "coordinate2 = (8,10)\n",
    "\n",
    "li = Line(coordinate1,coordinate2)"
   ]
  },
  {
   "cell_type": "code",
   "execution_count": 371,
   "id": "1b63dba6-a654-44f4-b479-50703a865866",
   "metadata": {},
   "outputs": [
    {
     "data": {
      "text/plain": [
       "9.433981132056603"
      ]
     },
     "execution_count": 371,
     "metadata": {},
     "output_type": "execute_result"
    }
   ],
   "source": [
    "li.distance()\n"
   ]
  },
  {
   "cell_type": "code",
   "execution_count": 373,
   "id": "675e3a5a-af37-49a9-a58c-57dccb21999a",
   "metadata": {},
   "outputs": [
    {
     "data": {
      "text/plain": [
       "1.6"
      ]
     },
     "execution_count": 373,
     "metadata": {},
     "output_type": "execute_result"
    }
   ],
   "source": [
    "li.slope()"
   ]
  },
  {
   "cell_type": "markdown",
   "id": "e52e2e33-472e-4303-8b8d-1cbaa4893f09",
   "metadata": {},
   "source": [
    "##### 2. Fill in the class"
   ]
  },
  {
   "cell_type": "code",
   "execution_count": 379,
   "id": "3ae54ad4-95dd-41a2-835f-29ef3d66a67f",
   "metadata": {},
   "outputs": [],
   "source": [
    "\n",
    "class Cylinder:\n",
    "    \n",
    "    def __init__(self,height=1,radius=1):\n",
    "        self.height = height\n",
    "        self.radius = radius\n",
    "        \n",
    "    def volume(self):\n",
    "        return self.height*3.14*(self.radius)**2\n",
    "    \n",
    "    def surface_area(self):\n",
    "        top = 3.14 * (self.radius)**2\n",
    "        return (2*top) + (2*3.14*self.radius*self.height)"
   ]
  },
  {
   "cell_type": "code",
   "execution_count": 381,
   "id": "d5547b1c-047a-44c5-96c2-36de3da62230",
   "metadata": {},
   "outputs": [],
   "source": [
    "c = Cylinder(2,3)"
   ]
  },
  {
   "cell_type": "code",
   "execution_count": 383,
   "id": "05ba5d1c-c18b-47d5-bfbf-28d7b99be7bc",
   "metadata": {},
   "outputs": [
    {
     "data": {
      "text/plain": [
       "56.52"
      ]
     },
     "execution_count": 383,
     "metadata": {},
     "output_type": "execute_result"
    }
   ],
   "source": [
    "c.volume()"
   ]
  },
  {
   "cell_type": "code",
   "execution_count": 385,
   "id": "11c0a5a8-b303-4b63-9d7a-3a551920558d",
   "metadata": {},
   "outputs": [
    {
     "data": {
      "text/plain": [
       "94.2"
      ]
     },
     "execution_count": 385,
     "metadata": {},
     "output_type": "execute_result"
    }
   ],
   "source": [
    "c.surface_area()"
   ]
  },
  {
   "cell_type": "markdown",
   "id": "1a80d0e5-55c5-4cd7-8d37-a65d114dc0f4",
   "metadata": {
    "jp-MarkdownHeadingCollapsed": true
   },
   "source": [
    "### Challenge Problem"
   ]
  },
  {
   "cell_type": "markdown",
   "id": "676ad7c0-ce17-494b-96bf-4d0dd0e952aa",
   "metadata": {},
   "source": [
    "For this challenge, create a bank account class that has two attributes:\n",
    "\n",
    "* owner\n",
    "* balance\n",
    "  \n",
    "and two methods:\n",
    "\n",
    "* deposit\n",
    "* withdraw\n",
    "  \n",
    "As an added requirement, withdrawals may not exceed the available balance.\n",
    "\n",
    "Instantiate your class, make several deposits and withdrawals, and test to make sure the account can't be overdrawn.\n",
    "\n"
   ]
  },
  {
   "cell_type": "code",
   "execution_count": 423,
   "id": "19534427-e7fe-41c1-81d4-e64d915aa29d",
   "metadata": {},
   "outputs": [],
   "source": [
    "class Account:\n",
    "\n",
    "    def __init__(self, owner, balance):\n",
    "        self.owner = owner\n",
    "        self.balance = balance\n",
    "\n",
    "    def __str__(self):\n",
    "        return f'Account owner:   {self.owner}\\nAccount balance: ${self.balance}'\n",
    "        \n",
    "    def deposit(self, x):\n",
    "        self.balance = self.balance + x\n",
    "        print(\"Deposit Accepted\")\n",
    "        print(f\"Remaining balance: {self.balance}\")\n",
    "\n",
    "    def withdraw(self, y):\n",
    "        if y <= self.balance:\n",
    "            self.balance = self.balance - y\n",
    "            print(\"Withdrawal Accepted\")\n",
    "            print(f\"Remaining balance: {self.balance}\")\n",
    "        else:\n",
    "            print(\"Funds Unavailable!\")\n",
    "            print(f\"Remaining balance: {self.balance}\")\n"
   ]
  },
  {
   "cell_type": "code",
   "execution_count": 425,
   "id": "e79d72e4-2e0d-4a5e-8a3c-4b3224619a44",
   "metadata": {},
   "outputs": [],
   "source": [
    "# 1. Instantiate the class\n",
    "acct1 = Account('Jose',100)"
   ]
  },
  {
   "cell_type": "code",
   "execution_count": 427,
   "id": "6edaf323-65e8-4f1d-a645-ebda2b449069",
   "metadata": {},
   "outputs": [
    {
     "name": "stdout",
     "output_type": "stream",
     "text": [
      "Account owner:   Jose\n",
      "Account balance: $100\n"
     ]
    }
   ],
   "source": [
    "# 2. Print the object\n",
    "print(acct1)"
   ]
  },
  {
   "cell_type": "code",
   "execution_count": 429,
   "id": "4799c836-fbd5-45ce-a069-a45d0040169d",
   "metadata": {},
   "outputs": [
    {
     "data": {
      "text/plain": [
       "'Jose'"
      ]
     },
     "execution_count": 429,
     "metadata": {},
     "output_type": "execute_result"
    }
   ],
   "source": [
    "# 3. Show the account owner attribute\n",
    "acct1.owner"
   ]
  },
  {
   "cell_type": "code",
   "execution_count": 431,
   "id": "19c3a389-1718-4be1-9973-f1ddf28aa5f5",
   "metadata": {},
   "outputs": [
    {
     "data": {
      "text/plain": [
       "100"
      ]
     },
     "execution_count": 431,
     "metadata": {},
     "output_type": "execute_result"
    }
   ],
   "source": [
    "# 4. Show the account balance attribute\n",
    "acct1.balance"
   ]
  },
  {
   "cell_type": "code",
   "execution_count": 433,
   "id": "b8486d78-096a-4aa5-8fc5-a5eca61c7444",
   "metadata": {},
   "outputs": [
    {
     "name": "stdout",
     "output_type": "stream",
     "text": [
      "Deposit Accepted\n",
      "Remaining balance: 150\n"
     ]
    }
   ],
   "source": [
    "# 5. Make a series of deposits and withdrawals\n",
    "acct1.deposit(50)"
   ]
  },
  {
   "cell_type": "code",
   "execution_count": 435,
   "id": "0fc12e18-fee7-4427-b1ab-185b3902fca0",
   "metadata": {},
   "outputs": [
    {
     "name": "stdout",
     "output_type": "stream",
     "text": [
      "Withdrawal Accepted\n",
      "Remaining balance: 75\n"
     ]
    }
   ],
   "source": [
    "acct1.withdraw(75)\n"
   ]
  },
  {
   "cell_type": "code",
   "execution_count": 437,
   "id": "ae9fadfd-b962-414b-889b-f8a92fd8768c",
   "metadata": {},
   "outputs": [
    {
     "name": "stdout",
     "output_type": "stream",
     "text": [
      "Funds Unavailable!\n",
      "Remaining balance: 75\n"
     ]
    }
   ],
   "source": [
    "# 6. Make a withdrawal that exceeds the available balance\n",
    "acct1.withdraw(500)"
   ]
  },
  {
   "cell_type": "markdown",
   "id": "265e805f-321f-4f30-8fe0-88d7f1f221ed",
   "metadata": {
    "jp-MarkdownHeadingCollapsed": true
   },
   "source": [
    "## <h2 style=\"color: #4472C4;\"> Section 9: Modules and Packages </h2> "
   ]
  },
  {
   "cell_type": "markdown",
   "id": "c420af4b-3422-4676-94df-c544b1a8fbe2",
   "metadata": {
    "jp-MarkdownHeadingCollapsed": true
   },
   "source": [
    "### 1. **Pip Install** and **PyPi**"
   ]
  },
  {
   "cell_type": "markdown",
   "id": "b9dfd36a-5724-4ff5-ab6f-d19a40a1fa26",
   "metadata": {},
   "source": [
    "* <span style=\"font-size: 18px;\"/> PyPi is a repository for *open-source third-party* Python ***packages***. </span> \n",
    "* <span style=\"font-size: 18px;\"/> **pip install** to install these packages </span>"
   ]
  },
  {
   "cell_type": "markdown",
   "id": "8457902b-6174-4e51-b015-669476cc3c03",
   "metadata": {
    "jp-MarkdownHeadingCollapsed": true
   },
   "source": [
    "### 2. Modules and Packages"
   ]
  },
  {
   "cell_type": "markdown",
   "id": "09dc06ac-c36a-46fb-838c-a2ef55db32d3",
   "metadata": {},
   "source": [
    "* <span style=\"font-size: 18px;\"/> Modules are **.py** scripts that you call in another **.py** script </span> \n",
    "* <span style=\"font-size: 18px;\"/> Packages are a collection of modules </span>"
   ]
  },
  {
   "cell_type": "markdown",
   "id": "83308086-9064-4039-8b7b-4dca6cd6a25f",
   "metadata": {
    "jp-MarkdownHeadingCollapsed": true
   },
   "source": [
    "### 3. __name__ and \"__main__\""
   ]
  },
  {
   "cell_type": "raw",
   "id": "524c770a-f11c-486d-acbb-cf8845a7cc02",
   "metadata": {},
   "source": [
    "__name__ and \"__main__\"\n",
    "\n",
    "if__name__ ==\"__main__\":\n"
   ]
  },
  {
   "cell_type": "markdown",
   "id": "0508ae86-9903-40a7-8e11-32fdb7672b3c",
   "metadata": {},
   "source": [
    "* Inside a module we def a func\n",
    "* We then can call that func from another module\n",
    "* so module 1 = func 1 // module 2 = func 1 <br/><br/>\n",
    "\n",
    "* Module 3 now uses module 2, func 1.\n",
    "* You want to know if func 1 is the original func in module 2 or is imported?? <br/><br/>\n",
    "\n",
    "* module 2 using func 1 --> is using the original .py script (module 1)\n",
    "* module 3 using func 1 from module 2 --> func 1 in this case is being used as an import <br/><br/>\n",
    "\n",
    "***Sometimes, when you are importing from a module, \\\n",
    "you would like to know whether a modules function is being used as an import, \\\n",
    "or if you are using the original .py file of that module***"
   ]
  },
  {
   "cell_type": "markdown",
   "id": "784c324f-da31-4d4b-a659-1289c92a9874",
   "metadata": {},
   "source": [
    "<span style=\"font-size: 18px;\"/> When you call a module from CLI -- All code at indentation 0 will RUN"
   ]
  },
  {
   "cell_type": "markdown",
   "id": "f46a237a-cbe8-4b67-a65d-541335b4c20f",
   "metadata": {
    "jp-MarkdownHeadingCollapsed": true
   },
   "source": [
    "## <h2 style=\"color: #4472C4;\"> Section 10: Errors and Exceptions Handling </h2> "
   ]
  },
  {
   "cell_type": "markdown",
   "id": "e7efa1ab-3038-428f-8462-5aec5332ecc1",
   "metadata": {
    "jp-MarkdownHeadingCollapsed": true
   },
   "source": [
    "### 1. Try/Except/Finally:"
   ]
  },
  {
   "cell_type": "markdown",
   "id": "a99b932f-b1a2-40ce-90f7-b0392398256d",
   "metadata": {},
   "source": [
    "Use ERROR handling so the script can continue with other code, even if there is an error. Instead of stopping it completely."
   ]
  },
  {
   "cell_type": "raw",
   "id": "e827f619-4659-4788-b618-92e262e614c1",
   "metadata": {},
   "source": [
    "try:\n",
    "    code to be attempted\n",
    "except:\n",
    "    in case of error in try block, this block of code will execute\n",
    "finally:\n",
    "    a final block of code to be executed regardless of an error"
   ]
  },
  {
   "cell_type": "code",
   "execution_count": 1,
   "id": "b2e2e8d2-5caa-4fc3-8dbe-8dbae58030ed",
   "metadata": {},
   "outputs": [
    {
     "name": "stdout",
     "output_type": "stream",
     "text": [
      "Error: Could not find file or read data\n"
     ]
    }
   ],
   "source": [
    "try:\n",
    "    f = open('testfile','r')\n",
    "    f.write('Test write this')\n",
    "except IOError:\n",
    "    # This will only check for an IOError exception and then execute this print statement\n",
    "    print(\"Error: Could not find file or read data\")\n",
    "else:\n",
    "    print(\"Content written successfully\")\n",
    "    f.close()"
   ]
  },
  {
   "cell_type": "code",
   "execution_count": 2,
   "id": "80a231e2-3d31-4174-a086-43231e4aaf79",
   "metadata": {},
   "outputs": [],
   "source": [
    "def askint():\n",
    "    while True:\n",
    "        try:\n",
    "            val = int(input(\"Please enter an integer: \"))\n",
    "        except:\n",
    "            print(\"Looks like you did not enter an integer!\")\n",
    "            continue\n",
    "        else:\n",
    "            print(\"Yep that's an integer!\")\n",
    "            print(val)\n",
    "            break\n",
    "        finally:\n",
    "            print(\"Finally, I executed!\")"
   ]
  },
  {
   "cell_type": "code",
   "execution_count": 4,
   "id": "22e10201-d6a6-41a5-93a9-eeea88d4b1f2",
   "metadata": {},
   "outputs": [
    {
     "name": "stdout",
     "output_type": "stream",
     "text": [
      "Please enter an integer:  p\n"
     ]
    },
    {
     "name": "stdout",
     "output_type": "stream",
     "text": [
      "Looks like you did not enter an integer!\n",
      "Finally, I executed!\n"
     ]
    },
    {
     "name": "stdout",
     "output_type": "stream",
     "text": [
      "Please enter an integer:  9\n"
     ]
    },
    {
     "name": "stdout",
     "output_type": "stream",
     "text": [
      "Yep that's an integer!\n",
      "9\n",
      "Finally, I executed!\n"
     ]
    }
   ],
   "source": [
    "askint()"
   ]
  },
  {
   "cell_type": "markdown",
   "id": "f14ac731-f1fd-451f-8469-266f9a7d3037",
   "metadata": {
    "jp-MarkdownHeadingCollapsed": true
   },
   "source": [
    "### 2. Pylint - A text file to check you code error/rating\n",
    "#### Useful when working with other people"
   ]
  },
  {
   "cell_type": "markdown",
   "id": "fe473d24-27b0-4c1a-b85f-65ac9a6adcbf",
   "metadata": {},
   "source": [
    "### 3. UnitTest Library"
   ]
  },
  {
   "cell_type": "markdown",
   "id": "bbc9ceaa-a1fe-4a04-8266-9c5f3bd0a904",
   "metadata": {},
   "source": [
    "* #### Write your own test program\n",
    "* #### Then, send specific set of data to your program\n",
    "* #### Analyze the results\n",
    "* #### Determine if it gives you the expected result"
   ]
  },
  {
   "cell_type": "markdown",
   "id": "60ab52e9-614c-4921-80d8-76dfa09a3126",
   "metadata": {},
   "source": [
    "Object oriented programming used here"
   ]
  },
  {
   "cell_type": "markdown",
   "id": "71d57810-e8be-4ba9-b8f7-38f575a2493d",
   "metadata": {
    "jp-MarkdownHeadingCollapsed": true
   },
   "source": [
    "## <h2 style=\"color: #4472C4;\"> Section 11: Milestone Project - 2 </h2> "
   ]
  },
  {
   "cell_type": "markdown",
   "id": "99246461-7f91-4103-8813-547d2534e39a",
   "metadata": {
    "jp-MarkdownHeadingCollapsed": true
   },
   "source": [
    "### 1. Card Class"
   ]
  },
  {
   "cell_type": "markdown",
   "id": "217cd9ff-98fe-4166-8587-439946c80bb8",
   "metadata": {},
   "source": [
    "* #### Create Card Class\n",
    "* #### Assign Suit and Rank\n",
    "* #### Convert Rank to Value through dictionary\n",
    "* #### Create GLOBAL VAR"
   ]
  },
  {
   "cell_type": "code",
   "execution_count": 1,
   "id": "4f86c153-1e72-43de-8a8d-11f6a2703b79",
   "metadata": {},
   "outputs": [],
   "source": [
    "# We'll use this later\n",
    "import random "
   ]
  },
  {
   "cell_type": "code",
   "execution_count": 2,
   "id": "c13917e1-76e1-46cf-b027-645b7352253a",
   "metadata": {},
   "outputs": [],
   "source": [
    "suits = ('Hearts', 'Diamonds', 'Spades', 'Clubs')\n",
    "ranks = ('Two', 'Three', 'Four', 'Five', 'Six', 'Seven', 'Eight', 'Nine', 'Ten', 'Jack', 'Queen', 'King', 'Ace')\n",
    "values = {'Two':2, 'Three':3, 'Four':4, 'Five':5, 'Six':6, 'Seven':7, 'Eight':8, \n",
    "            'Nine':9, 'Ten':10, 'Jack':11, 'Queen':12, 'King':13, 'Ace':14}"
   ]
  },
  {
   "cell_type": "code",
   "execution_count": 3,
   "id": "cebda032-fda5-408a-bf2d-6ae3aa55fd26",
   "metadata": {},
   "outputs": [],
   "source": [
    "class Card:\n",
    "    \n",
    "    def __init__(self, suit, rank):\n",
    "        self.suit = suit\n",
    "        self.rank = rank\n",
    "        self.value = values[rank]\n",
    "        \n",
    "    def __str__(self):\n",
    "        return self.rank + ' of ' + self.suit"
   ]
  },
  {
   "cell_type": "code",
   "execution_count": 4,
   "id": "9ad39729-47ad-42c1-95d2-2c19766a74ae",
   "metadata": {},
   "outputs": [
    {
     "data": {
      "text/plain": [
       "'Hearts'"
      ]
     },
     "execution_count": 4,
     "metadata": {},
     "output_type": "execute_result"
    }
   ],
   "source": [
    "suits[0]"
   ]
  },
  {
   "cell_type": "code",
   "execution_count": 5,
   "id": "9c82f560-34f6-4d9a-ac26-20ded3445f80",
   "metadata": {},
   "outputs": [
    {
     "data": {
      "text/plain": [
       "'Two'"
      ]
     },
     "execution_count": 5,
     "metadata": {},
     "output_type": "execute_result"
    }
   ],
   "source": [
    "ranks[0]"
   ]
  },
  {
   "cell_type": "code",
   "execution_count": 6,
   "id": "6e9090c8-4cab-404a-beb9-49b3ef491792",
   "metadata": {},
   "outputs": [],
   "source": [
    "two_hearts = Card(suits[0],ranks[0])"
   ]
  },
  {
   "cell_type": "code",
   "execution_count": 7,
   "id": "8a2a518f-f31e-4ca5-a9f7-23fbdbca3ab4",
   "metadata": {},
   "outputs": [
    {
     "data": {
      "text/plain": [
       "<__main__.Card at 0x11310c4d0>"
      ]
     },
     "execution_count": 7,
     "metadata": {},
     "output_type": "execute_result"
    }
   ],
   "source": [
    "two_hearts"
   ]
  },
  {
   "cell_type": "code",
   "execution_count": 8,
   "id": "f1fc9c9a-a651-4729-90f9-ed4f3c83fd8b",
   "metadata": {},
   "outputs": [
    {
     "name": "stdout",
     "output_type": "stream",
     "text": [
      "Two of Hearts\n"
     ]
    }
   ],
   "source": [
    "print(two_hearts)"
   ]
  },
  {
   "cell_type": "code",
   "execution_count": 9,
   "id": "07827d36-9eb3-4dd4-ad3b-b5b446dda74d",
   "metadata": {},
   "outputs": [
    {
     "data": {
      "text/plain": [
       "2"
      ]
     },
     "execution_count": 9,
     "metadata": {},
     "output_type": "execute_result"
    }
   ],
   "source": [
    "values[two_hearts.rank]"
   ]
  },
  {
   "cell_type": "markdown",
   "id": "b77556c0-1460-492e-a128-3c6022f898ee",
   "metadata": {
    "jp-MarkdownHeadingCollapsed": true
   },
   "source": [
    "### 2. Deck Class"
   ]
  },
  {
   "cell_type": "markdown",
   "id": "e5bedfaf-ed9e-4fa3-8151-020739ac9fc9",
   "metadata": {},
   "source": [
    "#### a). Using a class within another class"
   ]
  },
  {
   "cell_type": "markdown",
   "id": "e0e45d8f-bf17-47a6-866d-08972e8e943e",
   "metadata": {},
   "source": [
    "* *We just created a single card, but how can we create an entire Deck of cards?* \n",
    "\n",
    "* *Let's explore doing this with a class that utilizes the Card class.*\n",
    "\n",
    "<br/>\n",
    "\n",
    "* *A Deck will be made up of multiple Cards.*\n",
    "\n",
    "* *Which mean's we will actually use the Card class within the __init__ of the Deck class.*\n",
    "\n"
   ]
  },
  {
   "cell_type": "code",
   "execution_count": 10,
   "id": "7370c0a4-afc9-4d6f-9d02-b421cdc62892",
   "metadata": {},
   "outputs": [],
   "source": [
    "class Deck:\n",
    "    \n",
    "    def __init__(self):\n",
    "        # Note this only happens once upon creation of a new Deck\n",
    "        self.all_cards = [] \n",
    "        for suit in suits:\n",
    "            for rank in ranks:\n",
    "                # This assumes the Card class has already been defined!\n",
    "                self.all_cards.append(Card(suit,rank))\n",
    "                \n",
    "    def shuffle(self):\n",
    "        # Note this doesn't return anything\n",
    "        random.shuffle(self.all_cards)\n",
    "        \n",
    "    def deal_one(self):\n",
    "        # Note we remove one card from the list of all_cards\n",
    "        return self.all_cards.pop() "
   ]
  },
  {
   "cell_type": "markdown",
   "id": "d49a0893-0671-4f87-a504-b052cb0b6889",
   "metadata": {},
   "source": [
    "#### b). Create a Deck"
   ]
  },
  {
   "cell_type": "code",
   "execution_count": 11,
   "id": "779355b3-813c-474a-bf93-ef5fc8f6e6e8",
   "metadata": {},
   "outputs": [],
   "source": [
    "mydeck = Deck()"
   ]
  },
  {
   "cell_type": "code",
   "execution_count": 12,
   "id": "77bb1bcd-2bf2-40e2-a017-c3ee7c0217f4",
   "metadata": {},
   "outputs": [
    {
     "data": {
      "text/plain": [
       "52"
      ]
     },
     "execution_count": 12,
     "metadata": {},
     "output_type": "execute_result"
    }
   ],
   "source": [
    "len(mydeck.all_cards)"
   ]
  },
  {
   "cell_type": "code",
   "execution_count": 13,
   "id": "34c7328c-5720-46cf-a92b-fbd06dae309d",
   "metadata": {},
   "outputs": [
    {
     "data": {
      "text/plain": [
       "<__main__.Card at 0x11310cec0>"
      ]
     },
     "execution_count": 13,
     "metadata": {},
     "output_type": "execute_result"
    }
   ],
   "source": [
    "mydeck.all_cards[0]"
   ]
  },
  {
   "cell_type": "code",
   "execution_count": 14,
   "id": "2a515ed6-d8f1-4838-8c44-e7b8b7dcd574",
   "metadata": {},
   "outputs": [
    {
     "name": "stdout",
     "output_type": "stream",
     "text": [
      "Two of Hearts\n"
     ]
    }
   ],
   "source": [
    "print(mydeck.all_cards[0])"
   ]
  },
  {
   "cell_type": "code",
   "execution_count": 15,
   "id": "953501a1-71fc-4a02-8033-dc24196a5dfc",
   "metadata": {},
   "outputs": [],
   "source": [
    "mydeck.shuffle()"
   ]
  },
  {
   "cell_type": "code",
   "execution_count": 16,
   "id": "a3004848-14bf-4a1f-bd03-480fa648d3e8",
   "metadata": {},
   "outputs": [
    {
     "name": "stdout",
     "output_type": "stream",
     "text": [
      "Nine of Diamonds\n"
     ]
    }
   ],
   "source": [
    "print(mydeck.all_cards[0])"
   ]
  },
  {
   "cell_type": "code",
   "execution_count": 17,
   "id": "394bae19-c05b-45af-9d5d-c7d6361a691e",
   "metadata": {},
   "outputs": [],
   "source": [
    "my_card = mydeck.deal_one()"
   ]
  },
  {
   "cell_type": "code",
   "execution_count": 18,
   "id": "d175521c-14be-4a80-9f7d-5704083bb070",
   "metadata": {},
   "outputs": [
    {
     "name": "stdout",
     "output_type": "stream",
     "text": [
      "Ten of Hearts\n"
     ]
    }
   ],
   "source": [
    "print(my_card)"
   ]
  },
  {
   "cell_type": "markdown",
   "id": "e66ff35a-b602-4674-95b5-6b7b9feca070",
   "metadata": {
    "jp-MarkdownHeadingCollapsed": true
   },
   "source": [
    "### 3. Player Class"
   ]
  },
  {
   "cell_type": "markdown",
   "id": "54562d84-185a-4ce7-97fe-c5581c86fe76",
   "metadata": {},
   "source": [
    "Let's create a Player Class, \n",
    "* a player should be able to hold instances of Cards,\n",
    "* they should also be able to remove and add them from their hand.\n",
    "* We want the Player class to be flexible enough to add one card, or many cards so we'll use a simple if check to keep it all in the same method.\n"
   ]
  },
  {
   "cell_type": "code",
   "execution_count": 19,
   "id": "1acd40a8-b6c1-490f-8b32-ac8ff4b3f72f",
   "metadata": {},
   "outputs": [],
   "source": [
    "class Player:\n",
    "    \n",
    "    def __init__(self,name):\n",
    "        self.name = name\n",
    "        # A new player has no cards\n",
    "        self.all_cards = [] \n",
    "        \n",
    "    def remove_one(self):\n",
    "        # Note we remove one card from the list of all_cards\n",
    "        # We state 0 to remove from the \"top\" of the deck\n",
    "        # We'll imagine index -1 as the bottom of the deck\n",
    "        return self.all_cards.pop(0)\n",
    "    \n",
    "    def add_cards(self,new_cards):\n",
    "        if type(new_cards) == type([]):\n",
    "            self.all_cards.extend(new_cards)\n",
    "        else:\n",
    "            self.all_cards.append(new_cards)\n",
    "    \n",
    "    \n",
    "    def __str__(self):\n",
    "        return f'Player {self.name} has {len(self.all_cards)} cards.'"
   ]
  },
  {
   "cell_type": "code",
   "execution_count": 20,
   "id": "eb825ad1-c64c-42c7-806b-369ef6cc1a83",
   "metadata": {},
   "outputs": [],
   "source": [
    "evi = Player(\"Evi\")"
   ]
  },
  {
   "cell_type": "code",
   "execution_count": 21,
   "id": "60f2ecfa-6072-4595-a9ed-e36047c8cd82",
   "metadata": {},
   "outputs": [
    {
     "data": {
      "text/plain": [
       "<__main__.Player at 0x11310c200>"
      ]
     },
     "execution_count": 21,
     "metadata": {},
     "output_type": "execute_result"
    }
   ],
   "source": [
    "evi"
   ]
  },
  {
   "cell_type": "code",
   "execution_count": 22,
   "id": "84fad0e8-d8e2-4265-a1f5-48b8137fc841",
   "metadata": {},
   "outputs": [
    {
     "name": "stdout",
     "output_type": "stream",
     "text": [
      "Player Evi has 0 cards.\n"
     ]
    }
   ],
   "source": [
    "print(evi)"
   ]
  },
  {
   "cell_type": "code",
   "execution_count": 23,
   "id": "b7cfebbc-b34c-4655-8713-4f1c428ea411",
   "metadata": {},
   "outputs": [],
   "source": [
    "evi.add_cards([two_hearts, two_hearts, two_hearts])"
   ]
  },
  {
   "cell_type": "code",
   "execution_count": 24,
   "id": "ddf6a3aa-3207-463d-b98c-2663609f17f8",
   "metadata": {},
   "outputs": [
    {
     "name": "stdout",
     "output_type": "stream",
     "text": [
      "Player Evi has 3 cards.\n"
     ]
    }
   ],
   "source": [
    "print(evi)"
   ]
  },
  {
   "cell_type": "markdown",
   "id": "82c82759-eb98-4092-8de9-6e6727f21ec3",
   "metadata": {},
   "source": [
    "### Game Logic"
   ]
  },
  {
   "cell_type": "markdown",
   "id": "1466e509-4a2e-4825-a436-0f88a8ea191c",
   "metadata": {
    "jp-MarkdownHeadingCollapsed": true
   },
   "source": [
    "#### Part 1"
   ]
  },
  {
   "cell_type": "markdown",
   "id": "ed26ea29-6582-45d8-94c4-dd96f7566bb2",
   "metadata": {},
   "source": [
    "* Go through the game logic step by step\n",
    "* Keep in mind what functions/clsses you will use for those steps\n",
    "* Re-order the game logic steps based on function/programming logic\n",
    "* Build all necessary logic steps and functions needed\n",
    "* Test it out"
   ]
  },
  {
   "cell_type": "markdown",
   "id": "2c4479a9-7261-48c0-bcab-661cac249ba5",
   "metadata": {
    "jp-MarkdownHeadingCollapsed": true
   },
   "source": [
    "#### Part 2 / Part 3"
   ]
  },
  {
   "cell_type": "markdown",
   "id": "316e1422-a4da-496d-ab72-44c570f771cc",
   "metadata": {},
   "source": [
    " **1.**  GAME SETUP \\\n",
    " **2.**  while game_on \\\n",
    " &nbsp;&nbsp;&nbsp;&nbsp;**2.a** while at_war"
   ]
  },
  {
   "cell_type": "code",
   "execution_count": 25,
   "id": "511a0b50-560a-486b-96c3-db3bd6028f90",
   "metadata": {},
   "outputs": [
    {
     "data": {
      "text/plain": [
       "26"
      ]
     },
     "execution_count": 25,
     "metadata": {},
     "output_type": "execute_result"
    }
   ],
   "source": [
    "import pdb  # for debugging\n",
    "\n",
    "# GAME SETUP\n",
    "player_one = Player(\"One\")\n",
    "player_two = Player(\"Two\")\n",
    "\n",
    "new_deck = Deck()\n",
    "new_deck.shuffle()\n",
    "\n",
    "# Split the Deck between players\n",
    "len(new_deck.all_cards)/2\n",
    "\n",
    "for x in range(26):\n",
    "    player_one.add_cards(new_deck.deal_one())\n",
    "    player_two.add_cards(new_deck.deal_one())\n",
    "\n",
    "len(player_one.all_cards)"
   ]
  },
  {
   "cell_type": "code",
   "execution_count": 26,
   "id": "cfe4fe45-a7e5-4168-a06c-222dd6ea15f5",
   "metadata": {},
   "outputs": [
    {
     "data": {
      "text/plain": [
       "26"
      ]
     },
     "execution_count": 26,
     "metadata": {},
     "output_type": "execute_result"
    }
   ],
   "source": [
    "len(player_two.all_cards)"
   ]
  },
  {
   "cell_type": "code",
   "execution_count": 27,
   "id": "1fd3133d-d504-45b1-94c0-72078b070a3f",
   "metadata": {},
   "outputs": [
    {
     "name": "stdout",
     "output_type": "stream",
     "text": [
      "Round 1\n",
      "Round 2\n",
      "Round 3\n",
      "Round 4\n",
      "Round 5\n",
      "Round 6\n",
      "Round 7\n",
      "WAR!\n",
      "Round 8\n",
      "Round 9\n",
      "Round 10\n",
      "Round 11\n",
      "WAR!\n",
      "Round 12\n",
      "Round 13\n",
      "WAR!\n",
      "Round 14\n",
      "Round 15\n",
      "Round 16\n",
      "Round 17\n",
      "Round 18\n",
      "Round 19\n",
      "Round 20\n",
      "Round 21\n",
      "Round 22\n",
      "Round 23\n",
      "WAR!\n",
      "Round 24\n",
      "WAR!\n",
      "Round 25\n",
      "Round 26\n",
      "Round 27\n",
      "Round 28\n",
      "Round 29\n",
      "WAR!\n",
      "Round 30\n",
      "Round 31\n",
      "Round 32\n",
      "Round 33\n",
      "Round 34\n",
      "Round 35\n",
      "Round 36\n",
      "Round 37\n",
      "Round 38\n",
      "Round 39\n",
      "Round 40\n",
      "Round 41\n",
      "Round 42\n",
      "Round 43\n",
      "Round 44\n",
      "Round 45\n",
      "Round 46\n",
      "Round 47\n",
      "Round 48\n",
      "Round 49\n",
      "Round 50\n",
      "Round 51\n",
      "Round 52\n",
      "Round 53\n",
      "Round 54\n",
      "Round 55\n",
      "Round 56\n",
      "Round 57\n",
      "Round 58\n",
      "Round 59\n",
      "Round 60\n",
      "Round 61\n",
      "Round 62\n",
      "Round 63\n",
      "Round 64\n",
      "Round 65\n",
      "Round 66\n",
      "WAR!\n",
      "Round 67\n",
      "Round 68\n",
      "Round 69\n",
      "Round 70\n",
      "Round 71\n",
      "Round 72\n",
      "Round 73\n",
      "Round 74\n",
      "WAR!\n",
      "Round 75\n",
      "Round 76\n",
      "Round 77\n",
      "Round 78\n",
      "Round 79\n",
      "Round 80\n",
      "Round 81\n",
      "Round 82\n",
      "Round 83\n",
      "Round 84\n",
      "Round 85\n",
      "Round 86\n",
      "Round 87\n",
      "Round 88\n",
      "Round 89\n",
      "Round 90\n",
      "Round 91\n",
      "Round 92\n",
      "Round 93\n",
      "Round 94\n",
      "Round 95\n",
      "Round 96\n",
      "Round 97\n",
      "Round 98\n",
      "Round 99\n",
      "Round 100\n",
      "Round 101\n",
      "Round 102\n",
      "Round 103\n",
      "WAR!\n",
      "Round 104\n",
      "Round 105\n",
      "Round 106\n",
      "Round 107\n",
      "Round 108\n",
      "Round 109\n",
      "Round 110\n",
      "Round 111\n",
      "Round 112\n",
      "Round 113\n",
      "Round 114\n",
      "Round 115\n",
      "WAR!\n",
      "Round 116\n",
      "WAR!\n",
      "Round 117\n",
      "Round 118\n",
      "Round 119\n",
      "Round 120\n",
      "Round 121\n",
      "Round 122\n",
      "Round 123\n",
      "Round 124\n",
      "Round 125\n",
      "Round 126\n",
      "Round 127\n",
      "Round 128\n",
      "Round 129\n",
      "Round 130\n",
      "Round 131\n",
      "Round 132\n",
      "Round 133\n",
      "Round 134\n",
      "Round 135\n",
      "Round 136\n",
      "Round 137\n",
      "Round 138\n",
      "Round 139\n",
      "Round 140\n",
      "Round 141\n",
      "Round 142\n",
      "Round 143\n",
      "Round 144\n",
      "Round 145\n",
      "Round 146\n",
      "Round 147\n",
      "Round 148\n",
      "Round 149\n",
      "Round 150\n",
      "Round 151\n",
      "Round 152\n",
      "Round 153\n",
      "Round 154\n",
      "Round 155\n",
      "Round 156\n",
      "Round 157\n",
      "WAR!\n",
      "Round 158\n",
      "Round 159\n",
      "Round 160\n",
      "Round 161\n",
      "Round 162\n",
      "Round 163\n",
      "Round 164\n",
      "WAR!\n",
      "Round 165\n",
      "Round 166\n",
      "Round 167\n",
      "Round 168\n",
      "Round 169\n",
      "Round 170\n",
      "Round 171\n",
      "Round 172\n",
      "Round 173\n",
      "Round 174\n",
      "Round 175\n",
      "Round 176\n",
      "WAR!\n",
      "Round 177\n",
      "Round 178\n",
      "Round 179\n",
      "Round 180\n",
      "Round 181\n",
      "Round 182\n",
      "Round 183\n",
      "Round 184\n",
      "Round 185\n",
      "Round 186\n",
      "Round 187\n",
      "Round 188\n",
      "Round 189\n",
      "WAR!\n",
      "Round 190\n",
      "Round 191\n",
      "Round 192\n",
      "Round 193\n",
      "Round 194\n",
      "Round 195\n",
      "Round 196\n",
      "Round 197\n",
      "Round 198\n",
      "Round 199\n",
      "Round 200\n",
      "Round 201\n",
      "Round 202\n",
      "Round 203\n",
      "Round 204\n",
      "WAR!\n",
      "Round 205\n",
      "Player One out of cards! Game Over\n",
      "Player Two Wins!\n"
     ]
    }
   ],
   "source": [
    "game_on = True\n",
    "round_num = 0\n",
    "\n",
    "while game_on:\n",
    "    \n",
    "    round_num += 1\n",
    "    print(f\"Round {round_num}\")\n",
    "    \n",
    "    # Check to see if a player is out of cards:\n",
    "    if len(player_one.all_cards) == 0:\n",
    "        print(\"Player One out of cards! Game Over\")\n",
    "        print(\"Player Two Wins!\")\n",
    "        game_on = False\n",
    "        break\n",
    "        \n",
    "    if len(player_two.all_cards) == 0:\n",
    "        print(\"Player Two out of cards! Game Over\")\n",
    "        print(\"Player One Wins!\")\n",
    "        game_on = False\n",
    "        break\n",
    "    \n",
    "    # Otherwise, the game is still on!\n",
    "    \n",
    "    # Start a new round and reset current cards \"on the table\"\n",
    "    player_one_cards = []\n",
    "    player_one_cards.append(player_one.remove_one())\n",
    "    \n",
    "    player_two_cards = []\n",
    "    player_two_cards.append(player_two.remove_one())\n",
    "    \n",
    "    at_war = True\n",
    "\n",
    "    while at_war:\n",
    "\n",
    "        if player_one_cards[-1].value > player_two_cards[-1].value:\n",
    "\n",
    "            # Player One gets the cards\n",
    "            player_one.add_cards(player_one_cards)\n",
    "            player_one.add_cards(player_two_cards)\n",
    "            \n",
    "            \n",
    "            # No Longer at \"war\" , time for next round\n",
    "            at_war = False\n",
    "        \n",
    "        # Player Two Has higher Card\n",
    "        elif player_one_cards[-1].value < player_two_cards[-1].value:\n",
    "\n",
    "            # Player Two gets the cards\n",
    "            player_two.add_cards(player_one_cards)\n",
    "            player_two.add_cards(player_two_cards)\n",
    "            \n",
    "            # No Longer at \"war\" , time for next round\n",
    "            at_war = False\n",
    "\n",
    "        else:\n",
    "            print('WAR!')\n",
    "            # This occurs when the cards are equal.\n",
    "            # We'll grab another card each and continue the current war.\n",
    "            \n",
    "            # First check to see if player has enough cards\n",
    "            \n",
    "            # Check to see if a player is out of cards:\n",
    "            if len(player_one.all_cards) < 5:\n",
    "                print(\"Player One unable to play war! Game Over at War\")\n",
    "                print(\"Player Two Wins! Player One Loses!\")\n",
    "                game_on = False\n",
    "                break\n",
    "\n",
    "            elif len(player_two.all_cards) < 5:\n",
    "                print(\"Player Two unable to play war! Game Over at War\")\n",
    "                print(\"Player One Wins! Player Two Loses!\")\n",
    "                game_on = False\n",
    "                break\n",
    "            # Otherwise, we're still at war, so we'll add the next cards\n",
    "            else:\n",
    "                for num in range(5):\n",
    "                    player_one_cards.append(player_one.remove_one())\n",
    "                    player_two_cards.append(player_two.remove_one())\n"
   ]
  },
  {
   "cell_type": "markdown",
   "id": "cb429dc7-b031-448f-a27e-8621b30c777a",
   "metadata": {},
   "source": [
    "### **M2: Blackjack**"
   ]
  },
  {
   "cell_type": "markdown",
   "id": "e46f3543",
   "metadata": {
    "jp-MarkdownHeadingCollapsed": true
   },
   "source": [
    "## <h2 style=\"color: #4472C4;\"> Section 14: Advanced Python Modules </h2> "
   ]
  },
  {
   "cell_type": "markdown",
   "id": "8b63c9b6-4e82-416c-ae7d-e9d20e870620",
   "metadata": {
    "jp-MarkdownHeadingCollapsed": true
   },
   "source": [
    "### 1. Collections Module"
   ]
  },
  {
   "cell_type": "markdown",
   "id": "757ec17c-e641-46d2-b393-ff69b5ab4eaf",
   "metadata": {},
   "source": [
    "The collections module is a built-in module that \n",
    "* implements specialized ***container*** data types providing *alternatives* to Python’s general purpose built-in containers.\n",
    "* We've already gone over the basics: dict, list, set, and tuple.\n"
   ]
  },
  {
   "cell_type": "markdown",
   "id": "bed7ada7-1330-46c6-89ec-f2c2aaa4ada0",
   "metadata": {
    "jp-MarkdownHeadingCollapsed": true
   },
   "source": [
    "#### 1.a **Counter**\n",
    "*Same as COUNT(id), group by (id) in SQL*"
   ]
  },
  {
   "cell_type": "markdown",
   "id": "c4892471-2337-474f-9c97-6b5e598169e7",
   "metadata": {},
   "source": [
    "* Counter is **a dict subclass** which helps ***count hashable objects***.\n",
    "<br/>\n",
    "<br/>\n",
    "* Inside of it:\n",
    "    * **elements** are ***stored as dictionary keys*** and\n",
    "    * the **counts of the objects** are ***stored as the value.***"
   ]
  },
  {
   "cell_type": "code",
   "execution_count": 22,
   "id": "24b4925a-3b0b-4121-87ed-a31b45409f09",
   "metadata": {},
   "outputs": [],
   "source": [
    "from collections import Counter"
   ]
  },
  {
   "cell_type": "code",
   "execution_count": 24,
   "id": "5f916c10-5ac2-4f2e-9d80-dc7d9644d9c9",
   "metadata": {},
   "outputs": [
    {
     "data": {
      "text/plain": [
       "Counter({1: 6, 2: 6, 3: 4, 12: 1, 32: 1, 21: 1, 223: 1})"
      ]
     },
     "execution_count": 24,
     "metadata": {},
     "output_type": "execute_result"
    }
   ],
   "source": [
    "# Counter() with lists\n",
    "lst = [1,2,2,2,2,3,3,3,1,2,1,12,3,2,32,1,21,1,223,1]\n",
    "\n",
    "Counter(lst)"
   ]
  },
  {
   "cell_type": "code",
   "execution_count": 28,
   "id": "39c17d72-e533-40af-bb5e-1cffc3b6b288",
   "metadata": {},
   "outputs": [
    {
     "data": {
      "text/plain": [
       "Counter({'b': 7, 's': 6, 'h': 3, 'a': 2})"
      ]
     },
     "execution_count": 28,
     "metadata": {},
     "output_type": "execute_result"
    }
   ],
   "source": [
    "# Counter with strings\n",
    "Counter('aabsbsbsbhshhbbsbs')"
   ]
  },
  {
   "cell_type": "code",
   "execution_count": 30,
   "id": "1747467c-89f4-41a3-a7e7-ac70df12d79f",
   "metadata": {},
   "outputs": [
    {
     "data": {
      "text/plain": [
       "Counter({'each': 3,\n",
       "         'word': 3,\n",
       "         'times': 2,\n",
       "         'How': 1,\n",
       "         'many': 1,\n",
       "         'does': 1,\n",
       "         'show': 1,\n",
       "         'up': 1,\n",
       "         'in': 1,\n",
       "         'this': 1,\n",
       "         'sentence': 1})"
      ]
     },
     "execution_count": 30,
     "metadata": {},
     "output_type": "execute_result"
    }
   ],
   "source": [
    "# Counter with words in a sentence\n",
    "s = 'How many times does each word show up in this sentence word times each each word'\n",
    "\n",
    "words = s.split()\n",
    "\n",
    "Counter(words)"
   ]
  },
  {
   "cell_type": "code",
   "execution_count": 32,
   "id": "e08b3642-480e-4da6-9140-e6b9d1ac2220",
   "metadata": {},
   "outputs": [
    {
     "data": {
      "text/plain": [
       "[('each', 3), ('word', 3)]"
      ]
     },
     "execution_count": 32,
     "metadata": {},
     "output_type": "execute_result"
    }
   ],
   "source": [
    "# Methods with Counter()\n",
    "c = Counter(words)\n",
    "\n",
    "c.most_common(2)"
   ]
  },
  {
   "cell_type": "code",
   "execution_count": 42,
   "id": "e388829b-982a-4ff4-89e7-43e462fab7c5",
   "metadata": {},
   "outputs": [],
   "source": [
    "# Common patterns when using the Counter() object\n",
    "\n",
    "sum(c.values())                 # total of all counts\n",
    "c.clear()                       # reset all counts\n",
    "list(c)                         # list unique elements\n",
    "set(c)                          # convert to a set\n",
    "dict(c)                         # convert to a regular dictionary\n",
    "c.items()                       # convert to a list of (elem, cnt) pairs\n",
    "Counter(dict(c))                # convert from a list of (elem, cnt) pairs\n",
    "c.most_common()                 # n least common elements\n",
    "c += Counter()                  # remove zero and negative counts"
   ]
  },
  {
   "cell_type": "markdown",
   "id": "d836efff-7c03-4330-be18-1c38d3754dec",
   "metadata": {
    "jp-MarkdownHeadingCollapsed": true
   },
   "source": [
    "#### 1.b **defaultdict**"
   ]
  },
  {
   "cell_type": "markdown",
   "id": "8aefad0e-7f5c-43b0-934e-c398197b5044",
   "metadata": {},
   "source": [
    "defaultdict is a **dictionary-like object** which \n",
    "* provides all methods provided by a dictionary but \n",
    "* takes a first argument **(default_factory)** as a ***default data type*** for the dictionary.\n",
    "* Using defaultdict is faster than doing the same using dict.set_default method.\n",
    "\\\n",
    "\\\n",
    "***A defaultdict will never raise a KeyError. Any key that does not exist gets the value returned by the default factory.***"
   ]
  },
  {
   "cell_type": "code",
   "execution_count": 83,
   "id": "5e0ac361-865d-405c-9c9d-5aec172d8a7c",
   "metadata": {},
   "outputs": [],
   "source": [
    "from collections import defaultdict"
   ]
  },
  {
   "cell_type": "code",
   "execution_count": 64,
   "id": "37faea38-6d23-4dcc-aee4-41d29d971bb8",
   "metadata": {},
   "outputs": [
    {
     "name": "stdout",
     "output_type": "stream",
     "text": [
      "one\n"
     ]
    }
   ],
   "source": [
    "d  = defaultdict(object)\n",
    "\n",
    "d['one'] \n",
    "\n",
    "for item in d:\n",
    "    print(item)"
   ]
  },
  {
   "cell_type": "code",
   "execution_count": 66,
   "id": "024e0480-567f-4f3c-89be-5a063c46b308",
   "metadata": {},
   "outputs": [
    {
     "data": {
      "text/plain": [
       "0"
      ]
     },
     "execution_count": 66,
     "metadata": {},
     "output_type": "execute_result"
    }
   ],
   "source": [
    "# Can also initialize with default values:\n",
    "d = defaultdict(lambda: 0)\n",
    "\n",
    "d['one']"
   ]
  },
  {
   "cell_type": "markdown",
   "id": "1fbf7b54-8676-4c90-a6d5-878881d40471",
   "metadata": {
    "jp-MarkdownHeadingCollapsed": true
   },
   "source": [
    "#### 1.c **namedtuple**"
   ]
  },
  {
   "cell_type": "markdown",
   "id": "8179bd20-6667-43d2-95ec-77809ef03e3e",
   "metadata": {},
   "source": [
    "* The standard tuple uses numerical indexes to access its members\n",
    "* A namedtuple assigns names, as well as the numerical index, to each member.\n",
    "<br/>\n",
    "<br/>\n",
    "* Each kind of namedtuple is represented by its own class, *created by using the* **namedtuple() factory** function.\n",
    "* The **arguments are**:\n",
    "    * the *name of the new class* and\n",
    "    * A *string* containing the ***names of the elements***.\n",
    "\n",
    "*You can basically think of namedtuples as a very quick way of creating a new object/class type with some attribute fields.*"
   ]
  },
  {
   "cell_type": "code",
   "execution_count": 95,
   "id": "18afe820-9dbf-41d6-a95b-1125d74df20b",
   "metadata": {},
   "outputs": [],
   "source": [
    "from collections import namedtuple"
   ]
  },
  {
   "cell_type": "code",
   "execution_count": 97,
   "id": "40f89451-e93a-43cc-9dd1-4d65a18fea05",
   "metadata": {},
   "outputs": [],
   "source": [
    "Dog = namedtuple('Dog',['age','breed','name'])\n",
    "\n",
    "sam = Dog(age=2,breed='Lab',name='Sammy')\n",
    "\n",
    "frank = Dog(age=2,breed='Shepard',name=\"Frankie\")"
   ]
  },
  {
   "cell_type": "markdown",
   "id": "e75c5d37-442a-4843-8cef-e348565500c5",
   "metadata": {},
   "source": [
    "*We construct the namedtuple by*\n",
    "* *first passing the object type name (Dog) and*\n",
    "* *then passing a string with the variety of fields as a string with spaces between the field names.*\n",
    "\n",
    "*We can then call on the various attributes:*"
   ]
  },
  {
   "cell_type": "code",
   "execution_count": 100,
   "id": "66c81c62-5d30-4241-b4e8-baa76360b4f7",
   "metadata": {},
   "outputs": [
    {
     "data": {
      "text/plain": [
       "Dog(age=2, breed='Lab', name='Sammy')"
      ]
     },
     "execution_count": 100,
     "metadata": {},
     "output_type": "execute_result"
    }
   ],
   "source": [
    "sam"
   ]
  },
  {
   "cell_type": "code",
   "execution_count": 102,
   "id": "dd383183-1805-4a12-9c29-e1f0bc182b9f",
   "metadata": {},
   "outputs": [
    {
     "data": {
      "text/plain": [
       "2"
      ]
     },
     "execution_count": 102,
     "metadata": {},
     "output_type": "execute_result"
    }
   ],
   "source": [
    "sam.age"
   ]
  },
  {
   "cell_type": "code",
   "execution_count": 105,
   "id": "c69abe5e-b7b3-4c5f-aa67-c86e4eaab065",
   "metadata": {},
   "outputs": [
    {
     "data": {
      "text/plain": [
       "'Lab'"
      ]
     },
     "execution_count": 105,
     "metadata": {},
     "output_type": "execute_result"
    }
   ],
   "source": [
    "sam.breed"
   ]
  },
  {
   "cell_type": "code",
   "execution_count": 107,
   "id": "32c4a4a6-4ce2-4eca-8421-043934bed909",
   "metadata": {},
   "outputs": [
    {
     "data": {
      "text/plain": [
       "2"
      ]
     },
     "execution_count": 107,
     "metadata": {},
     "output_type": "execute_result"
    }
   ],
   "source": [
    "sam[0]"
   ]
  },
  {
   "cell_type": "markdown",
   "id": "e3ad9dff-9b57-48e9-8e97-3db9d19dd0d3",
   "metadata": {},
   "source": [
    "### 2. Python OS Module and SHUTIL utility Modules\n",
    "#### *Opening and Reading Files and Folders*"
   ]
  },
  {
   "cell_type": "markdown",
   "id": "db260d29-3c1e-4373-af2b-5778c9fafd80",
   "metadata": {},
   "source": [
    "<span style=\"font-size: 16px;\"/> **Open Files Programatically**"
   ]
  },
  {
   "cell_type": "markdown",
   "id": "1cc94496-828f-4d20-abfa-3d4bee59dd2f",
   "metadata": {
    "jp-MarkdownHeadingCollapsed": true
   },
   "source": [
    "#### 2.a **OS** Module - list dir and pwd"
   ]
  },
  {
   "cell_type": "code",
   "execution_count": 154,
   "id": "f8f654ca-402b-499e-afee-66bc650045a0",
   "metadata": {},
   "outputs": [
    {
     "data": {
      "text/plain": [
       "'/Users/evib21/IT/Python'"
      ]
     },
     "execution_count": 154,
     "metadata": {},
     "output_type": "execute_result"
    }
   ],
   "source": [
    "pwd"
   ]
  },
  {
   "cell_type": "code",
   "execution_count": 130,
   "id": "524b3383-721f-465b-8382-85d1a7895730",
   "metadata": {},
   "outputs": [],
   "source": [
    "# Create a file\n",
    "f = open('practice.txt', 'w+') # if file doesn'y exist it will create\n",
    "f.write('test')\n",
    "f.close()"
   ]
  },
  {
   "cell_type": "code",
   "execution_count": 134,
   "id": "dc539444-63eb-4242-9e9f-064dba22d733",
   "metadata": {},
   "outputs": [],
   "source": [
    "import os"
   ]
  },
  {
   "cell_type": "code",
   "execution_count": 136,
   "id": "17d6ed87-7159-4f81-8d84-f4eff463f37f",
   "metadata": {},
   "outputs": [
    {
     "data": {
      "text/plain": [
       "'/Users/evib21/IT/Python'"
      ]
     },
     "execution_count": 136,
     "metadata": {},
     "output_type": "execute_result"
    }
   ],
   "source": [
    "os.getcwd()"
   ]
  },
  {
   "cell_type": "code",
   "execution_count": 138,
   "id": "7bffa581-8170-4f07-948a-706710e35e0b",
   "metadata": {},
   "outputs": [
    {
     "data": {
      "text/plain": [
       "['Unittest',\n",
       " 'section9_name_and_main',\n",
       " 'pylint',\n",
       " 'Python_Udemy_Windows_update_json.ipynb',\n",
       " 'anaconda_projects',\n",
       " 'Modules_and_Packages',\n",
       " 'practice.txt',\n",
       " 'M2: Blackjack Logic',\n",
       " '__pycache__',\n",
       " '.gitignore',\n",
       " '.ipynb_checkpoints',\n",
       " 'Python_Udemy_Notes_Mac.ipynb',\n",
       " '.git',\n",
       " '.idea']"
      ]
     },
     "execution_count": 138,
     "metadata": {},
     "output_type": "execute_result"
    }
   ],
   "source": [
    "os.listdir()"
   ]
  },
  {
   "cell_type": "code",
   "execution_count": 144,
   "id": "db406823-e377-46c9-97d4-1c6792a14f4c",
   "metadata": {},
   "outputs": [
    {
     "data": {
      "text/plain": [
       "['.DS_Store', 'Python', 'Git']"
      ]
     },
     "execution_count": 144,
     "metadata": {},
     "output_type": "execute_result"
    }
   ],
   "source": [
    "os.listdir('/Users/evib21/IT')"
   ]
  },
  {
   "cell_type": "markdown",
   "id": "1173259f-af69-4778-be65-418fe9d88f81",
   "metadata": {
    "jp-MarkdownHeadingCollapsed": true
   },
   "source": [
    "#### 2.b **shutil** - Moving Files"
   ]
  },
  {
   "cell_type": "code",
   "execution_count": 152,
   "id": "8af20d05-a304-4be6-bc99-c0194ea8def0",
   "metadata": {},
   "outputs": [],
   "source": [
    "import shutil"
   ]
  },
  {
   "cell_type": "code",
   "execution_count": 156,
   "id": "9f01c196-53cc-4813-be34-911259cd27db",
   "metadata": {},
   "outputs": [
    {
     "data": {
      "text/plain": [
       "'/Users/evib21/IT/practice.txt'"
      ]
     },
     "execution_count": 156,
     "metadata": {},
     "output_type": "execute_result"
    }
   ],
   "source": [
    "shutil.move('practice.txt', '/Users/evib21/IT')"
   ]
  },
  {
   "cell_type": "code",
   "execution_count": 158,
   "id": "edda6795-e90b-45de-9ffa-20e9e874ab0a",
   "metadata": {},
   "outputs": [
    {
     "data": {
      "text/plain": [
       "'/Users/evib21/IT/Python/practice.txt'"
      ]
     },
     "execution_count": 158,
     "metadata": {},
     "output_type": "execute_result"
    }
   ],
   "source": [
    "shutil.move('/Users/evib21/IT/practice.txt', os.getcwd())"
   ]
  },
  {
   "cell_type": "markdown",
   "id": "d5f599ee-9c2b-4035-80af-ef4d6634db66",
   "metadata": {},
   "source": [
    "#### 2.c Deleting Files"
   ]
  },
  {
   "cell_type": "markdown",
   "id": "3a957192-954b-4132-ae86-e49c814cbeb0",
   "metadata": {},
   "source": [
    "NOTE: The os module provides 3 methods for deleting files:"
   ]
  },
  {
   "cell_type": "markdown",
   "id": "73542898-61b9-4037-9b07-b52bb0c7f283",
   "metadata": {
    "jp-MarkdownHeadingCollapsed": true
   },
   "source": [
    "## <h2 style=\"color: #4472C4;\"> Section 15: Web Scraping with Python </h2> "
   ]
  },
  {
   "cell_type": "markdown",
   "id": "459e74e1-ef2c-43f6-a9fe-72ce095470ce",
   "metadata": {
    "jp-MarkdownHeadingCollapsed": true
   },
   "source": [
    "### 1. Libraries Required"
   ]
  },
  {
   "cell_type": "markdown",
   "id": "0a8cd84a-1797-4f79-bf8a-01c54c63fd07",
   "metadata": {},
   "source": [
    "* From Anaconda:  \n",
    "    * conda install requests\n",
    "    * conda install lxml\n",
    "    * conda install bs4"
   ]
  },
  {
   "cell_type": "markdown",
   "id": "c7e661ce-0dd2-4bd1-a869-31ff051ff639",
   "metadata": {},
   "source": [
    "* if you are not using Anaconda:\n",
    "    * pip install requests\n",
    "    * pip install lxml\n",
    "    * pip install bs4"
   ]
  },
  {
   "cell_type": "code",
   "execution_count": 197,
   "id": "eed931a2-8649-4ca9-a865-88a405239596",
   "metadata": {
    "collapsed": true,
    "jupyter": {
     "outputs_hidden": true
    },
    "scrolled": true
   },
   "outputs": [
    {
     "name": "stdout",
     "output_type": "stream",
     "text": [
      "Channels:\n",
      " - defaults\n",
      "Platform: osx-arm64\n",
      "Collecting package metadata (repodata.json): done\n",
      "Solving environment: done\n",
      "\n",
      "# All requested packages already installed.\n",
      "\n",
      "\n",
      "Note: you may need to restart the kernel to use updated packages.\n"
     ]
    }
   ],
   "source": [
    "conda install requests"
   ]
  },
  {
   "cell_type": "code",
   "execution_count": 199,
   "id": "d4e7ef09-6fdb-43a9-9543-45fc6765f83c",
   "metadata": {
    "collapsed": true,
    "jupyter": {
     "outputs_hidden": true
    }
   },
   "outputs": [
    {
     "name": "stdout",
     "output_type": "stream",
     "text": [
      "Channels:\n",
      " - defaults\n",
      "Platform: osx-arm64\n",
      "Collecting package metadata (repodata.json): done\n",
      "Solving environment: done\n",
      "\n",
      "## Package Plan ##\n",
      "\n",
      "  environment location: /opt/anaconda3\n",
      "\n",
      "  added / updated specs:\n",
      "    - lxml\n",
      "\n",
      "\n",
      "The following packages will be downloaded:\n",
      "\n",
      "    package                    |            build\n",
      "    ---------------------------|-----------------\n",
      "    libxml2-2.13.8             |       h0b34f26_0         614 KB\n",
      "    lxml-5.3.0                 |  py312h1d4350b_1         1.3 MB\n",
      "    xz-5.6.4                   |       h80987f9_1         289 KB\n",
      "    ------------------------------------------------------------\n",
      "                                           Total:         2.2 MB\n",
      "\n",
      "The following packages will be UPDATED:\n",
      "\n",
      "  libxml2                                 2.13.1-h0b34f26_2 --> 2.13.8-h0b34f26_0 \n",
      "  lxml                                5.2.1-py312h1d4350b_1 --> 5.3.0-py312h1d4350b_1 \n",
      "  xz                                       5.4.6-h80987f9_1 --> 5.6.4-h80987f9_1 \n",
      "\n",
      "\n",
      "\n",
      "Downloading and Extracting Packages:\n",
      "lxml-5.3.0           | 1.3 MB    |                                       |   0% \n",
      "libxml2-2.13.8       | 614 KB    |                                       |   0% \u001b[A\n",
      "\n",
      "xz-5.6.4             | 289 KB    |                                       |   0% \u001b[A\u001b[A\n",
      "\n",
      "lxml-5.3.0           | 1.3 MB    | 4                                     |   1% \u001b[A\u001b[A\n",
      "libxml2-2.13.8       | 614 KB    | 9                                     |   3% \u001b[A\n",
      "\n",
      "xz-5.6.4             | 289 KB    | ##################################### | 100% \u001b[A\u001b[A\n",
      "\n",
      "xz-5.6.4             | 289 KB    | ##################################### | 100% \u001b[A\u001b[A\n",
      "lxml-5.3.0           | 1.3 MB    | ##################################### | 100% \u001b[A\n",
      "                                                                                \u001b[A\n",
      "                                                                                \u001b[A\n",
      "\n",
      "                                                                                \u001b[A\u001b[A\n",
      "Preparing transaction: done\n",
      "Verifying transaction: done\n",
      "Executing transaction: done\n",
      "\n",
      "Note: you may need to restart the kernel to use updated packages.\n"
     ]
    }
   ],
   "source": [
    "conda install lxml"
   ]
  },
  {
   "cell_type": "code",
   "execution_count": 201,
   "id": "206766e1-6ad0-40a4-baea-ae95753844d9",
   "metadata": {
    "collapsed": true,
    "jupyter": {
     "outputs_hidden": true
    }
   },
   "outputs": [
    {
     "name": "stdout",
     "output_type": "stream",
     "text": [
      "Channels:\n",
      " - defaults\n",
      "Platform: osx-arm64\n",
      "Collecting package metadata (repodata.json): done\n",
      "Solving environment: done\n",
      "\n",
      "## Package Plan ##\n",
      "\n",
      "  environment location: /opt/anaconda3\n",
      "\n",
      "  added / updated specs:\n",
      "    - bs4\n",
      "\n",
      "\n",
      "The following packages will be downloaded:\n",
      "\n",
      "    package                    |            build\n",
      "    ---------------------------|-----------------\n",
      "    bs4-4.12.3                 |   py39hd3eb1b0_0           6 KB\n",
      "    ------------------------------------------------------------\n",
      "                                           Total:           6 KB\n",
      "\n",
      "The following NEW packages will be INSTALLED:\n",
      "\n",
      "  bs4                pkgs/main/noarch::bs4-4.12.3-py39hd3eb1b0_0 \n",
      "\n",
      "\n",
      "\n",
      "Downloading and Extracting Packages:\n",
      "                                                                                \n",
      "Preparing transaction: done\n",
      "Verifying transaction: done\n",
      "Executing transaction: done\n",
      "\n",
      "Note: you may need to restart the kernel to use updated packages.\n"
     ]
    }
   ],
   "source": [
    "conda install bs4"
   ]
  },
  {
   "cell_type": "code",
   "execution_count": 3,
   "id": "b0ef49bb-5bf2-4047-8fd9-d4334f98ca64",
   "metadata": {},
   "outputs": [],
   "source": [
    "import requests"
   ]
  },
  {
   "cell_type": "code",
   "execution_count": 5,
   "id": "036210d7-42b6-43a9-903b-6ef44d3cac58",
   "metadata": {},
   "outputs": [],
   "source": [
    "import bs4"
   ]
  },
  {
   "cell_type": "markdown",
   "id": "b64d657b-1852-4642-9fd5-ddf7aefe253b",
   "metadata": {
    "jp-MarkdownHeadingCollapsed": true
   },
   "source": [
    "### 2. WS - Grabbing a Title"
   ]
  },
  {
   "cell_type": "code",
   "execution_count": 8,
   "id": "939d5332-f1cf-4b20-afd6-620c17f0fdf3",
   "metadata": {},
   "outputs": [],
   "source": [
    "import requests"
   ]
  },
  {
   "cell_type": "code",
   "execution_count": 10,
   "id": "d15db887-4c21-464e-ac93-592fbcb27b24",
   "metadata": {},
   "outputs": [],
   "source": [
    "result = requests.get(\"http://www.example.com\")"
   ]
  },
  {
   "cell_type": "code",
   "execution_count": 12,
   "id": "0bf6762d-d94d-425d-9073-c818502b5d53",
   "metadata": {},
   "outputs": [
    {
     "data": {
      "text/plain": [
       "requests.models.Response"
      ]
     },
     "execution_count": 12,
     "metadata": {},
     "output_type": "execute_result"
    }
   ],
   "source": [
    "type(result)"
   ]
  },
  {
   "cell_type": "code",
   "execution_count": 14,
   "id": "1d3260b6-28fe-4f55-a30d-8b8f990c9a70",
   "metadata": {},
   "outputs": [
    {
     "data": {
      "text/plain": [
       "'<!doctype html>\\n<html>\\n<head>\\n    <title>Example Domain</title>\\n\\n    <meta charset=\"utf-8\" />\\n    <meta http-equiv=\"Content-type\" content=\"text/html; charset=utf-8\" />\\n    <meta name=\"viewport\" content=\"width=device-width, initial-scale=1\" />\\n    <style type=\"text/css\">\\n    body {\\n        background-color: #f0f0f2;\\n        margin: 0;\\n        padding: 0;\\n        font-family: -apple-system, system-ui, BlinkMacSystemFont, \"Segoe UI\", \"Open Sans\", \"Helvetica Neue\", Helvetica, Arial, sans-serif;\\n        \\n    }\\n    div {\\n        width: 600px;\\n        margin: 5em auto;\\n        padding: 2em;\\n        background-color: #fdfdff;\\n        border-radius: 0.5em;\\n        box-shadow: 2px 3px 7px 2px rgba(0,0,0,0.02);\\n    }\\n    a:link, a:visited {\\n        color: #38488f;\\n        text-decoration: none;\\n    }\\n    @media (max-width: 700px) {\\n        div {\\n            margin: 0 auto;\\n            width: auto;\\n        }\\n    }\\n    </style>    \\n</head>\\n\\n<body>\\n<div>\\n    <h1>Example Domain</h1>\\n    <p>This domain is for use in illustrative examples in documents. You may use this\\n    domain in literature without prior coordination or asking for permission.</p>\\n    <p><a href=\"https://www.iana.org/domains/example\">More information...</a></p>\\n</div>\\n</body>\\n</html>\\n'"
      ]
     },
     "execution_count": 14,
     "metadata": {},
     "output_type": "execute_result"
    }
   ],
   "source": [
    "result.text"
   ]
  },
  {
   "cell_type": "code",
   "execution_count": 32,
   "id": "7b639ee4-fe78-41e1-b0ea-29b7b5029441",
   "metadata": {},
   "outputs": [],
   "source": [
    "import bs4"
   ]
  },
  {
   "cell_type": "code",
   "execution_count": 42,
   "id": "059a7e64-1797-4af0-9288-97718de0e7ba",
   "metadata": {},
   "outputs": [],
   "source": [
    "soup = bs4.BeautifulSoup(result.text, \"lxml\")"
   ]
  },
  {
   "cell_type": "code",
   "execution_count": 44,
   "id": "c2a0edaf-faad-4457-a555-9915cd602a8d",
   "metadata": {},
   "outputs": [
    {
     "data": {
      "text/plain": [
       "<!DOCTYPE html>\n",
       "<html>\n",
       "<head>\n",
       "<title>Example Domain</title>\n",
       "<meta charset=\"utf-8\"/>\n",
       "<meta content=\"text/html; charset=utf-8\" http-equiv=\"Content-type\"/>\n",
       "<meta content=\"width=device-width, initial-scale=1\" name=\"viewport\"/>\n",
       "<style type=\"text/css\">\n",
       "    body {\n",
       "        background-color: #f0f0f2;\n",
       "        margin: 0;\n",
       "        padding: 0;\n",
       "        font-family: -apple-system, system-ui, BlinkMacSystemFont, \"Segoe UI\", \"Open Sans\", \"Helvetica Neue\", Helvetica, Arial, sans-serif;\n",
       "        \n",
       "    }\n",
       "    div {\n",
       "        width: 600px;\n",
       "        margin: 5em auto;\n",
       "        padding: 2em;\n",
       "        background-color: #fdfdff;\n",
       "        border-radius: 0.5em;\n",
       "        box-shadow: 2px 3px 7px 2px rgba(0,0,0,0.02);\n",
       "    }\n",
       "    a:link, a:visited {\n",
       "        color: #38488f;\n",
       "        text-decoration: none;\n",
       "    }\n",
       "    @media (max-width: 700px) {\n",
       "        div {\n",
       "            margin: 0 auto;\n",
       "            width: auto;\n",
       "        }\n",
       "    }\n",
       "    </style>\n",
       "</head>\n",
       "<body>\n",
       "<div>\n",
       "<h1>Example Domain</h1>\n",
       "<p>This domain is for use in illustrative examples in documents. You may use this\n",
       "    domain in literature without prior coordination or asking for permission.</p>\n",
       "<p><a href=\"https://www.iana.org/domains/example\">More information...</a></p>\n",
       "</div>\n",
       "</body>\n",
       "</html>"
      ]
     },
     "execution_count": 44,
     "metadata": {},
     "output_type": "execute_result"
    }
   ],
   "source": [
    "soup"
   ]
  },
  {
   "cell_type": "code",
   "execution_count": 46,
   "id": "77d32330-c15b-43a8-bf9d-73ca1fc97656",
   "metadata": {},
   "outputs": [
    {
     "data": {
      "text/plain": [
       "[<title>Example Domain</title>]"
      ]
     },
     "execution_count": 46,
     "metadata": {},
     "output_type": "execute_result"
    }
   ],
   "source": [
    "soup.select('title')"
   ]
  },
  {
   "cell_type": "code",
   "execution_count": 48,
   "id": "28e4a762-ef51-4eda-bd02-1cf205c22b83",
   "metadata": {},
   "outputs": [
    {
     "data": {
      "text/plain": [
       "[<p>This domain is for use in illustrative examples in documents. You may use this\n",
       "     domain in literature without prior coordination or asking for permission.</p>,\n",
       " <p><a href=\"https://www.iana.org/domains/example\">More information...</a></p>]"
      ]
     },
     "execution_count": 48,
     "metadata": {},
     "output_type": "execute_result"
    }
   ],
   "source": [
    "soup.select('p')"
   ]
  },
  {
   "cell_type": "code",
   "execution_count": 50,
   "id": "febfda98-f9e8-4d6c-9859-a9968a39e66e",
   "metadata": {},
   "outputs": [
    {
     "data": {
      "text/plain": [
       "'Example Domain'"
      ]
     },
     "execution_count": 50,
     "metadata": {},
     "output_type": "execute_result"
    }
   ],
   "source": [
    "soup.select('title')[0].getText()"
   ]
  },
  {
   "cell_type": "code",
   "execution_count": 54,
   "id": "43714dd5-b096-47e5-94f0-7b3a99e05065",
   "metadata": {},
   "outputs": [],
   "source": [
    "site_paragraphs = soup.select(\"p\")"
   ]
  },
  {
   "cell_type": "code",
   "execution_count": 56,
   "id": "dcdbd750-5fc0-4a34-9bd3-e6f7cecf154c",
   "metadata": {},
   "outputs": [
    {
     "data": {
      "text/plain": [
       "<p>This domain is for use in illustrative examples in documents. You may use this\n",
       "    domain in literature without prior coordination or asking for permission.</p>"
      ]
     },
     "execution_count": 56,
     "metadata": {},
     "output_type": "execute_result"
    }
   ],
   "source": [
    "site_paragraphs[0]"
   ]
  },
  {
   "cell_type": "code",
   "execution_count": 58,
   "id": "42b41d67-01a3-4657-aba8-0784335629d4",
   "metadata": {},
   "outputs": [
    {
     "data": {
      "text/plain": [
       "bs4.element.Tag"
      ]
     },
     "execution_count": 58,
     "metadata": {},
     "output_type": "execute_result"
    }
   ],
   "source": [
    "type(site_paragraphs[0])"
   ]
  },
  {
   "cell_type": "code",
   "execution_count": 62,
   "id": "fc310020-72f6-49b8-a5c9-d2ef19bb54d8",
   "metadata": {},
   "outputs": [
    {
     "data": {
      "text/plain": [
       "'This domain is for use in illustrative examples in documents. You may use this\\n    domain in literature without prior coordination or asking for permission.'"
      ]
     },
     "execution_count": 62,
     "metadata": {},
     "output_type": "execute_result"
    }
   ],
   "source": [
    "(site_paragraphs[0]).getText()"
   ]
  },
  {
   "cell_type": "markdown",
   "id": "cc786096-b4e7-44b4-9d79-cbc9f64b126d",
   "metadata": {
    "jp-MarkdownHeadingCollapsed": true
   },
   "source": [
    "### 3. WS - Grabbing All Elements of a Class"
   ]
  },
  {
   "cell_type": "markdown",
   "id": "fc7be9bd-5228-454a-824f-cadf39bf73d8",
   "metadata": {},
   "source": [
    "| Syntax                      | Match Results                                                                 |\n",
    "|----------------------------|--------------------------------------------------------------------------------|\n",
    "| `soup.select('div')`       | All elements with the `<div>` tag                                             |\n",
    "| `soup.select('#some_id')`  | The HTML element containing the `id` attribute of `some_id`                   |\n",
    "| `soup.select('.notice')`   | All the HTML elements with the CSS class named `notice`                       |\n",
    "| `soup.select('div span')`  | Any `<span>` elements that are **within** a `<div>` element                    |\n",
    "| `soup.select('div > span')`| Any `<span>` elements **directly within** a `<div>`, with no element in between|\n"
   ]
  },
  {
   "cell_type": "code",
   "execution_count": 70,
   "id": "48dba2a6-8367-4a41-beb8-ec536e5d8cba",
   "metadata": {},
   "outputs": [],
   "source": [
    "# First get the request\n",
    "res = requests.get('https://en.wikipedia.org/wiki/Grace_Hopper')"
   ]
  },
  {
   "cell_type": "code",
   "execution_count": 72,
   "id": "4ae6ddcb-ab27-4438-8adb-85f1dd1d75e0",
   "metadata": {},
   "outputs": [],
   "source": [
    "# Create a soup from request\n",
    "soup = bs4.BeautifulSoup(res.text,\"lxml\")"
   ]
  },
  {
   "cell_type": "code",
   "execution_count": 79,
   "id": "cb155b5a-77ab-4e9a-8335-ddb664c1d8f4",
   "metadata": {
    "collapsed": true,
    "jupyter": {
     "outputs_hidden": true
    }
   },
   "outputs": [
    {
     "data": {
      "text/plain": [
       "[<div class=\"vector-toc-text\">(Top)</div>,\n",
       " <div class=\"vector-toc-text\">\n",
       " <span class=\"vector-toc-numb\">1</span>\n",
       " <span>Early life and education</span>\n",
       " </div>,\n",
       " <div class=\"vector-toc-text\">\n",
       " <span class=\"vector-toc-numb\">2</span>\n",
       " <span>Career</span>\n",
       " </div>,\n",
       " <div class=\"vector-toc-text\">\n",
       " <span class=\"vector-toc-numb\">2.1</span>\n",
       " <span>World War II</span>\n",
       " </div>,\n",
       " <div class=\"vector-toc-text\">\n",
       " <span class=\"vector-toc-numb\">2.2</span>\n",
       " <span>UNIVAC</span>\n",
       " </div>,\n",
       " <div class=\"vector-toc-text\">\n",
       " <span class=\"vector-toc-numb\">2.3</span>\n",
       " <span>COBOL</span>\n",
       " </div>,\n",
       " <div class=\"vector-toc-text\">\n",
       " <span class=\"vector-toc-numb\">2.4</span>\n",
       " <span>Standards</span>\n",
       " </div>,\n",
       " <div class=\"vector-toc-text\">\n",
       " <span class=\"vector-toc-numb\">3</span>\n",
       " <span>Retirement</span>\n",
       " </div>,\n",
       " <div class=\"vector-toc-text\">\n",
       " <span class=\"vector-toc-numb\">4</span>\n",
       " <span>Post-retirement</span>\n",
       " </div>,\n",
       " <div class=\"vector-toc-text\">\n",
       " <span class=\"vector-toc-numb\">5</span>\n",
       " <span>Anecdotes</span>\n",
       " </div>,\n",
       " <div class=\"vector-toc-text\">\n",
       " <span class=\"vector-toc-numb\">6</span>\n",
       " <span>Death</span>\n",
       " </div>,\n",
       " <div class=\"vector-toc-text\">\n",
       " <span class=\"vector-toc-numb\">7</span>\n",
       " <span>Dates of rank</span>\n",
       " </div>,\n",
       " <div class=\"vector-toc-text\">\n",
       " <span class=\"vector-toc-numb\">8</span>\n",
       " <span>Awards and honors</span>\n",
       " </div>,\n",
       " <div class=\"vector-toc-text\">\n",
       " <span class=\"vector-toc-numb\">8.1</span>\n",
       " <span>Military awards</span>\n",
       " </div>,\n",
       " <div class=\"vector-toc-text\">\n",
       " <span class=\"vector-toc-numb\">8.2</span>\n",
       " <span>Other awards</span>\n",
       " </div>,\n",
       " <div class=\"vector-toc-text\">\n",
       " <span class=\"vector-toc-numb\">9</span>\n",
       " <span>Legacy</span>\n",
       " </div>,\n",
       " <div class=\"vector-toc-text\">\n",
       " <span class=\"vector-toc-numb\">9.1</span>\n",
       " <span>Places</span>\n",
       " </div>,\n",
       " <div class=\"vector-toc-text\">\n",
       " <span class=\"vector-toc-numb\">9.2</span>\n",
       " <span>Programs</span>\n",
       " </div>,\n",
       " <div class=\"vector-toc-text\">\n",
       " <span class=\"vector-toc-numb\">9.3</span>\n",
       " <span>In popular culture</span>\n",
       " </div>,\n",
       " <div class=\"vector-toc-text\">\n",
       " <span class=\"vector-toc-numb\">9.3.1</span>\n",
       " <span>Grace Hopper Celebration of Women in Computing</span>\n",
       " </div>,\n",
       " <div class=\"vector-toc-text\">\n",
       " <span class=\"vector-toc-numb\">10</span>\n",
       " <span>See also</span>\n",
       " </div>,\n",
       " <div class=\"vector-toc-text\">\n",
       " <span class=\"vector-toc-numb\">11</span>\n",
       " <span>Notes</span>\n",
       " </div>,\n",
       " <div class=\"vector-toc-text\">\n",
       " <span class=\"vector-toc-numb\">12</span>\n",
       " <span>References</span>\n",
       " </div>,\n",
       " <div class=\"vector-toc-text\">\n",
       " <span class=\"vector-toc-numb\">13</span>\n",
       " <span>Obituary notices</span>\n",
       " </div>,\n",
       " <div class=\"vector-toc-text\">\n",
       " <span class=\"vector-toc-numb\">14</span>\n",
       " <span>Further reading</span>\n",
       " </div>,\n",
       " <div class=\"vector-toc-text\">\n",
       " <span class=\"vector-toc-numb\">15</span>\n",
       " <span>External links</span>\n",
       " </div>]"
      ]
     },
     "execution_count": 79,
     "metadata": {},
     "output_type": "execute_result"
    }
   ],
   "source": [
    "# note depending on your IP Address, \n",
    "# this class may be called something different\n",
    "soup.select(\".vector-toc-text\")"
   ]
  },
  {
   "cell_type": "code",
   "execution_count": 81,
   "id": "1cb9ab26-0e54-43b5-8a75-f51da1fd484c",
   "metadata": {},
   "outputs": [
    {
     "data": {
      "text/plain": [
       "bs4.element.Tag"
      ]
     },
     "execution_count": 81,
     "metadata": {},
     "output_type": "execute_result"
    }
   ],
   "source": [
    "type(soup.select(\".vector-toc-text\")[0])"
   ]
  },
  {
   "cell_type": "code",
   "execution_count": 83,
   "id": "8f0dc761-29cb-4e7e-a1f0-e947c3f7e8d6",
   "metadata": {},
   "outputs": [
    {
     "data": {
      "text/plain": [
       "<div class=\"vector-toc-text\">(Top)</div>"
      ]
     },
     "execution_count": 83,
     "metadata": {},
     "output_type": "execute_result"
    }
   ],
   "source": [
    "soup.select(\".vector-toc-text\")[0]"
   ]
  },
  {
   "cell_type": "code",
   "execution_count": 85,
   "id": "ad6b1070-99c1-4ed8-b8bb-ddfe28470f7f",
   "metadata": {},
   "outputs": [],
   "source": [
    "first_item = soup.select(\".vector-toc-text\")[0]"
   ]
  },
  {
   "cell_type": "code",
   "execution_count": 87,
   "id": "e17090a5-ba50-433b-a7ab-45bef3e93bb0",
   "metadata": {},
   "outputs": [
    {
     "data": {
      "text/plain": [
       "'(Top)'"
      ]
     },
     "execution_count": 87,
     "metadata": {},
     "output_type": "execute_result"
    }
   ],
   "source": [
    "first_item.text"
   ]
  },
  {
   "cell_type": "code",
   "execution_count": 91,
   "id": "ea3c662e-1e37-4142-bd1d-b03cb5c59904",
   "metadata": {},
   "outputs": [
    {
     "name": "stdout",
     "output_type": "stream",
     "text": [
      "(Top)\n",
      "\n",
      "1\n",
      "Early life and education\n",
      "\n",
      "\n",
      "2\n",
      "Career\n",
      "\n",
      "\n",
      "2.1\n",
      "World War II\n",
      "\n",
      "\n",
      "2.2\n",
      "UNIVAC\n",
      "\n",
      "\n",
      "2.3\n",
      "COBOL\n",
      "\n",
      "\n",
      "2.4\n",
      "Standards\n",
      "\n",
      "\n",
      "3\n",
      "Retirement\n",
      "\n",
      "\n",
      "4\n",
      "Post-retirement\n",
      "\n",
      "\n",
      "5\n",
      "Anecdotes\n",
      "\n",
      "\n",
      "6\n",
      "Death\n",
      "\n",
      "\n",
      "7\n",
      "Dates of rank\n",
      "\n",
      "\n",
      "8\n",
      "Awards and honors\n",
      "\n",
      "\n",
      "8.1\n",
      "Military awards\n",
      "\n",
      "\n",
      "8.2\n",
      "Other awards\n",
      "\n",
      "\n",
      "9\n",
      "Legacy\n",
      "\n",
      "\n",
      "9.1\n",
      "Places\n",
      "\n",
      "\n",
      "9.2\n",
      "Programs\n",
      "\n",
      "\n",
      "9.3\n",
      "In popular culture\n",
      "\n",
      "\n",
      "9.3.1\n",
      "Grace Hopper Celebration of Women in Computing\n",
      "\n",
      "\n",
      "10\n",
      "See also\n",
      "\n",
      "\n",
      "11\n",
      "Notes\n",
      "\n",
      "\n",
      "12\n",
      "References\n",
      "\n",
      "\n",
      "13\n",
      "Obituary notices\n",
      "\n",
      "\n",
      "14\n",
      "Further reading\n",
      "\n",
      "\n",
      "15\n",
      "External links\n",
      "\n"
     ]
    }
   ],
   "source": [
    "for item in soup.select(\".vector-toc-text\"):\n",
    "    print(item.text)"
   ]
  },
  {
   "cell_type": "markdown",
   "id": "3a7d8327-1d13-4a9a-baa9-ca1f3caaaa94",
   "metadata": {
    "jp-MarkdownHeadingCollapsed": true
   },
   "source": [
    "### 4. WS - Grabbing an Image"
   ]
  },
  {
   "cell_type": "code",
   "execution_count": 101,
   "id": "f1e20811-df13-454a-a9a6-67b9f09e4292",
   "metadata": {},
   "outputs": [],
   "source": [
    "res = requests.get(\"https://en.wikipedia.org/wiki/Deep_Blue_(chess_computer)\")"
   ]
  },
  {
   "cell_type": "code",
   "execution_count": 103,
   "id": "0b616cd4-2a14-47e1-a193-e1bd570c0eb4",
   "metadata": {},
   "outputs": [],
   "source": [
    "soup = bs4.BeautifulSoup(res.text,'lxml')"
   ]
  },
  {
   "cell_type": "code",
   "execution_count": 117,
   "id": "292ad1f3-ca40-49f3-b8b1-886774bb2270",
   "metadata": {},
   "outputs": [],
   "source": [
    "image_info = soup.select('.infobox-image')"
   ]
  },
  {
   "cell_type": "code",
   "execution_count": 119,
   "id": "65d0c108-4991-4326-8376-cd97804f4399",
   "metadata": {},
   "outputs": [
    {
     "data": {
      "text/plain": [
       "[<td class=\"infobox-image\" colspan=\"2\"><span class=\"mw-default-size\" typeof=\"mw:File/Frameless\"><a class=\"mw-file-description\" href=\"/wiki/File:Deep_Blue.jpg\"><img class=\"mw-file-element\" data-file-height=\"601\" data-file-width=\"400\" decoding=\"async\" height=\"376\" src=\"//upload.wikimedia.org/wikipedia/commons/thumb/b/be/Deep_Blue.jpg/250px-Deep_Blue.jpg\" srcset=\"//upload.wikimedia.org/wikipedia/commons/thumb/b/be/Deep_Blue.jpg/375px-Deep_Blue.jpg 1.5x, //upload.wikimedia.org/wikipedia/commons/b/be/Deep_Blue.jpg 2x\" width=\"250\"/></a></span><div class=\"infobox-caption\">A computer similar to Deep Blue at the <a href=\"/wiki/Computer_History_Museum\" title=\"Computer History Museum\">Computer History Museum</a></div></td>]"
      ]
     },
     "execution_count": 119,
     "metadata": {},
     "output_type": "execute_result"
    }
   ],
   "source": [
    "image_info"
   ]
  },
  {
   "cell_type": "code",
   "execution_count": 121,
   "id": "6c95d386-a81e-4458-9b6a-68a18f3ecf60",
   "metadata": {},
   "outputs": [
    {
     "data": {
      "text/plain": [
       "1"
      ]
     },
     "execution_count": 121,
     "metadata": {},
     "output_type": "execute_result"
    }
   ],
   "source": [
    "len(image_info)\n"
   ]
  },
  {
   "cell_type": "code",
   "execution_count": 123,
   "id": "9917095d-d934-414b-95b0-a846003b2ef3",
   "metadata": {},
   "outputs": [],
   "source": [
    "computer = image_info[0]"
   ]
  },
  {
   "cell_type": "code",
   "execution_count": 125,
   "id": "ecf09852-b18c-496c-82d7-59aadf3d4355",
   "metadata": {},
   "outputs": [
    {
     "data": {
      "text/plain": [
       "<td class=\"infobox-image\" colspan=\"2\"><span class=\"mw-default-size\" typeof=\"mw:File/Frameless\"><a class=\"mw-file-description\" href=\"/wiki/File:Deep_Blue.jpg\"><img class=\"mw-file-element\" data-file-height=\"601\" data-file-width=\"400\" decoding=\"async\" height=\"376\" src=\"//upload.wikimedia.org/wikipedia/commons/thumb/b/be/Deep_Blue.jpg/250px-Deep_Blue.jpg\" srcset=\"//upload.wikimedia.org/wikipedia/commons/thumb/b/be/Deep_Blue.jpg/375px-Deep_Blue.jpg 1.5x, //upload.wikimedia.org/wikipedia/commons/b/be/Deep_Blue.jpg 2x\" width=\"250\"/></a></span><div class=\"infobox-caption\">A computer similar to Deep Blue at the <a href=\"/wiki/Computer_History_Museum\" title=\"Computer History Museum\">Computer History Museum</a></div></td>"
      ]
     },
     "execution_count": 125,
     "metadata": {},
     "output_type": "execute_result"
    }
   ],
   "source": [
    "computer"
   ]
  },
  {
   "cell_type": "code",
   "execution_count": 127,
   "id": "43019b51-b96d-451c-8273-a7c4b166b13a",
   "metadata": {},
   "outputs": [
    {
     "data": {
      "text/plain": [
       "bs4.element.Tag"
      ]
     },
     "execution_count": 127,
     "metadata": {},
     "output_type": "execute_result"
    }
   ],
   "source": [
    "type(computer)"
   ]
  },
  {
   "cell_type": "code",
   "execution_count": 131,
   "id": "a14dd923-c32a-4c6e-8828-d2de964f5e73",
   "metadata": {},
   "outputs": [
    {
     "data": {
      "text/plain": [
       "['infobox-image']"
      ]
     },
     "execution_count": 131,
     "metadata": {},
     "output_type": "execute_result"
    }
   ],
   "source": [
    "computer['class']"
   ]
  },
  {
   "cell_type": "code",
   "execution_count": 137,
   "id": "67bfce11-a092-4e3a-a61f-51a0cc3b1901",
   "metadata": {},
   "outputs": [],
   "source": [
    "computer.get('src')"
   ]
  },
  {
   "cell_type": "code",
   "execution_count": 139,
   "id": "3456191b-d898-499f-8389-2b2c2c6fbf24",
   "metadata": {},
   "outputs": [
    {
     "name": "stdout",
     "output_type": "stream",
     "text": [
      "<td class=\"infobox-image\" colspan=\"2\"><span class=\"mw-default-size\" typeof=\"mw:File/Frameless\"><a class=\"mw-file-description\" href=\"/wiki/File:Deep_Blue.jpg\"><img class=\"mw-file-element\" data-file-height=\"601\" data-file-width=\"400\" decoding=\"async\" height=\"376\" src=\"//upload.wikimedia.org/wikipedia/commons/thumb/b/be/Deep_Blue.jpg/250px-Deep_Blue.jpg\" srcset=\"//upload.wikimedia.org/wikipedia/commons/thumb/b/be/Deep_Blue.jpg/375px-Deep_Blue.jpg 1.5x, //upload.wikimedia.org/wikipedia/commons/b/be/Deep_Blue.jpg 2x\" width=\"250\"/></a></span><div class=\"infobox-caption\">A computer similar to Deep Blue at the <a href=\"/wiki/Computer_History_Museum\" title=\"Computer History Museum\">Computer History Museum</a></div></td>\n"
     ]
    }
   ],
   "source": [
    "print(computer)"
   ]
  },
  {
   "cell_type": "markdown",
   "id": "b1a3f434-9bb8-4353-a5ad-8396190ead46",
   "metadata": {},
   "source": [
    "<img src=\"//upload.wikimedia.org/wikipedia/commons/thumb/b/be/Deep_Blue.jpg/250px-Deep_Blue.jpg\" >"
   ]
  },
  {
   "cell_type": "code",
   "execution_count": 145,
   "id": "ccd7d9e0-278e-4a13-b386-2bb581c3476d",
   "metadata": {},
   "outputs": [],
   "source": [
    "image_link = requests.get(\"https://upload.wikimedia.org/wikipedia/commons/thumb/b/be/Deep_Blue.jpg/250px-Deep_Blue.jpg\")"
   ]
  },
  {
   "cell_type": "code",
   "execution_count": 147,
   "id": "f03d94ef-3ac4-4a1a-bc96-f9204e0a8c6f",
   "metadata": {},
   "outputs": [
    {
     "data": {
      "text/plain": [
       "b'\\xff\\xd8\\xff\\xe1\\x00\\x80Exif\\x00\\x00MM\\x00*\\x00\\x00\\x00\\x08\\x00\\x05\\x01\\x1a\\x00\\x05\\x00\\x00\\x00\\x01\\x00\\x00\\x00J\\x01\\x1b\\x00\\x05\\x00\\x00\\x00\\x01\\x00\\x00\\x00R\\x01(\\x00\\x03\\x00\\x00\\x00\\x01\\x00\\x02\\x00\\x00\\x01;\\x00\\x02\\x00\\x00\\x00\\x1e\\x00\\x00\\x00Z\\x02\\x13\\x00\\x03\\x00\\x00\\x00\\x01\\x00\\x01\\x00\\x00\\x00\\x00\\x00\\x00\\x00\\x00\\x00H\\x00\\x00\\x00\\x01\\x00\\x00\\x00H\\x00\\x00\\x00\\x01Jim Gardner - thejimmyjob.com\\x00\\xff\\xe2\\x02@ICC_PROFILE\\x00\\x01\\x01\\x00\\x00\\x020ADBE\\x02\\x10\\x00\\x00mntrRGB XYZ \\x07\\xcf\\x00\\x06\\x00\\x03\\x00\\x00\\x00\\x00\\x00\\x00acspAPPL\\x00\\x00\\x00\\x00none\\x00\\x00\\x00\\x00\\x00\\x00\\x00\\x00\\x00\\x00\\x00\\x00\\x00\\x00\\x00\\x00\\x00\\x00\\xf6\\xd6\\x00\\x01\\x00\\x00\\x00\\x00\\xd3-ADBE\\x00\\x00\\x00\\x00\\x00\\x00\\x00\\x00\\x00\\x00\\x00\\x00\\x00\\x00\\x00\\x00\\x00\\x00\\x00\\x00\\x00\\x00\\x00\\x00\\x00\\x00\\x00\\x00\\x00\\x00\\x00\\x00\\x00\\x00\\x00\\x00\\x00\\x00\\x00\\x00\\x00\\x00\\x00\\x00\\x00\\x00\\x00\\ncprt\\x00\\x00\\x00\\xfc\\x00\\x00\\x002desc\\x00\\x00\\x010\\x00\\x00\\x00kwtpt\\x00\\x00\\x01\\x9c\\x00\\x00\\x00\\x14bkpt\\x00\\x00\\x01\\xb0\\x00\\x00\\x00\\x14rTRC\\x00\\x00\\x01\\xc4\\x00\\x00\\x00\\x0egTRC\\x00\\x00\\x01\\xd4\\x00\\x00\\x00\\x0ebTRC\\x00\\x00\\x01\\xe4\\x00\\x00\\x00\\x0erXYZ\\x00\\x00\\x01\\xf4\\x00\\x00\\x00\\x14gXYZ\\x00\\x00\\x02\\x08\\x00\\x00\\x00\\x14bXYZ\\x00\\x00\\x02\\x1c\\x00\\x00\\x00\\x14text\\x00\\x00\\x00\\x00Copyright 1999 Adobe Systems Incorporated\\x00\\x00\\x00desc\\x00\\x00\\x00\\x00\\x00\\x00\\x00\\x11Adobe RGB (1998)\\x00\\x00\\x00\\x00\\x00\\x00\\x00\\x00\\x00\\x00\\x00\\x00\\x00\\x00\\x00\\x00\\x00\\x00\\x00\\x00\\x00\\x00\\x00\\x00\\x00\\x00\\x00\\x00\\x00\\x00\\x00\\x00\\x00\\x00\\x00\\x00\\x00\\x00\\x00\\x00\\x00\\x00\\x00\\x00\\x00\\x00\\x00\\x00\\x00\\x00\\x00\\x00\\x00\\x00\\x00\\x00\\x00\\x00\\x00\\x00\\x00\\x00\\x00\\x00\\x00\\x00\\x00\\x00\\x00\\x00\\x00\\x00\\x00\\x00\\x00\\x00\\x00\\x00\\x00\\x00XYZ \\x00\\x00\\x00\\x00\\x00\\x00\\xf3Q\\x00\\x01\\x00\\x00\\x00\\x01\\x16\\xccXYZ \\x00\\x00\\x00\\x00\\x00\\x00\\x00\\x00\\x00\\x00\\x00\\x00\\x00\\x00\\x00\\x00curv\\x00\\x00\\x00\\x00\\x00\\x00\\x00\\x01\\x023\\x00\\x00curv\\x00\\x00\\x00\\x00\\x00\\x00\\x00\\x01\\x023\\x00\\x00curv\\x00\\x00\\x00\\x00\\x00\\x00\\x00\\x01\\x023\\x00\\x00XYZ \\x00\\x00\\x00\\x00\\x00\\x00\\x9c\\x18\\x00\\x00O\\xa5\\x00\\x00\\x04\\xfcXYZ \\x00\\x00\\x00\\x00\\x00\\x004\\x8d\\x00\\x00\\xa0,\\x00\\x00\\x0f\\x95XYZ \\x00\\x00\\x00\\x00\\x00\\x00&1\\x00\\x00\\x10/\\x00\\x00\\xbe\\x9c\\xff\\xdb\\x00C\\x00\\x04\\x03\\x03\\x04\\x03\\x03\\x04\\x04\\x03\\x04\\x05\\x04\\x04\\x05\\x06\\n\\x07\\x06\\x06\\x06\\x06\\r\\t\\n\\x08\\n\\x0f\\r\\x10\\x10\\x0f\\r\\x0f\\x0e\\x11\\x13\\x18\\x14\\x11\\x12\\x17\\x12\\x0e\\x0f\\x15\\x1c\\x15\\x17\\x19\\x19\\x1b\\x1b\\x1b\\x10\\x14\\x1d\\x1f\\x1d\\x1a\\x1f\\x18\\x1a\\x1b\\x1a\\xff\\xdb\\x00C\\x01\\x04\\x05\\x05\\x06\\x05\\x06\\x0c\\x07\\x07\\x0c\\x1a\\x11\\x0f\\x11\\x1a\\x1a\\x1a\\x1a\\x1a\\x1a\\x1a\\x1a\\x1a\\x1a\\x1a\\x1a\\x1a\\x1a\\x1a\\x1a\\x1a\\x1a\\x1a\\x1a\\x1a\\x1a\\x1a\\x1a\\x1a\\x1a\\x1a\\x1a\\x1a\\x1a\\x1a\\x1a\\x1a\\x1a\\x1a\\x1a\\x1a\\x1a\\x1a\\x1a\\x1a\\x1a\\x1a\\x1a\\x1a\\x1a\\x1a\\x1a\\x1a\\x1a\\xff\\xc0\\x00\\x11\\x08\\x01x\\x00\\xfa\\x03\\x01\"\\x00\\x02\\x11\\x01\\x03\\x11\\x01\\xff\\xc4\\x00\\x1d\\x00\\x00\\x00\\x06\\x03\\x01\\x00\\x00\\x00\\x00\\x00\\x00\\x00\\x00\\x00\\x00\\x00\\x00\\x01\\x02\\x03\\x04\\x05\\x06\\x07\\x08\\t\\xff\\xc4\\x00[\\x10\\x00\\x01\\x03\\x02\\x04\\x03\\x04\\x05\\x08\\x05\\x07\\x08\\x06\\x07\\t\\x00\\x01\\x02\\x03\\x11\\x00\\x04\\x05\\x12!1\\x06AQ\\x07\\x13\"a\\x08\\x14q\\x81\\x91#2B\\xa1\\xb1\\xc1\\xd1\\xf0\\x15$3Rb\\x16%4Cr\\x92\\xe1&cs\\x82\\x83\\xa2\\xb2\\xf16d\\x93\\xa3\\xc2\\xc3\\t\\x17\\x185DT\\xd2\\'7St\\x84\\x85\\x94\\xd3\\xe2\\xff\\xc4\\x00\\x1b\\x01\\x00\\x03\\x01\\x01\\x01\\x01\\x01\\x00\\x00\\x00\\x00\\x00\\x00\\x00\\x00\\x00\\x00\\x01\\x02\\x03\\x04\\x05\\x06\\x07\\xff\\xc4\\x007\\x11\\x00\\x02\\x02\\x02\\x01\\x03\\x01\\x06\\x04\\x04\\x04\\x07\\x00\\x00\\x00\\x00\\x00\\x01\\x02\\x11\\x03!1\\x04\\x12AQ\\x05\\x13\"aq\\xb12\\x91\\xc1\\xf0\\x14#R\\x813\\xa1\\xd1\\xe1$4B\\x82\\x92\\xb2\\xf1\\xff\\xda\\x00\\x0c\\x03\\x01\\x00\\x02\\x11\\x03\\x11\\x00?\\x00\\xd8X\\xaflx?\\xe9n\\x1b\\xbc\\xc5\\xec\\xee,[\\xb4\\xc4\\xd8u\\xd7\\x11\\x0f$&`\\x91\\x1a\\xe95\\xd2\\xd8\\x1f\\x11\\xe1\\x1cOj\\xbb\\xce\\x1e\\xc4X\\xc4m\\x92\\xe1B\\x96\\xca\\xa7*\\xb7\\xcaF\\xe0\\xf9\\x1a\\xf3\\x83\\x1f\\xc6\\x9b\\xbfv\\xd9\\xa7RQl.A\\xb8\\xee\\xd4\\n\\xb2\\x7f\\x0f\\x9e\\xdf\\n\\xea\\xff\\x00E\\x07\\x15\\xfc\\x98\\xe2F\\x94I\\xc9\\x89 \\xfcZ\\x1f\\x85{\\x9dw\\xb2\\xb0\\xf4\\xfd>L\\xd0\\xb4\\xe2\\xd6\\xbco_]\\x1egG\\xed\\x1c\\xd9\\xf3C\\x1c\\xe9\\xa6\\x9f\\xd7Tt&\\xf4\\xaa@\\xa5M|\\xb9\\xef\\x8a\\x14t\\x91F(\\x13#\\xe2\\x18u\\x9e/d\\xfd\\x8e+j\\xcd\\xed\\x9b\\xe9\\xca\\xeb\\x0f\\xb6\\x16\\x85\\x8d\\xf5\\x07\\xcf_h\\xacX\\xdbq\\x07\\x07\\xad\\xe7\\xac\\x1c\\xbb\\xe2\\xbc\\x04$\\xa8X:\\xb4\\xab\\x10\\xb5\\x8eL\\xba\\xa2=a?\\xc2\\xe9\\xef\\x06\\xb0\\xb5\\xe8\\x9a\\xcc\\x85*\\xa8WD\\x1c#\\x1c\\xc3\\xf1\\xd6\\x16\\xf6\\x13t\\x9b\\x84\\xb4\\xac\\x8f\"\\n\\x1ce\\x7f\\xb8\\xe3j\\x01M\\xab\\xf8T\\x01\\xab\\n\\xa2\\xc6xW\\x0f\\xc6o\\x18\\xc4\\x17\\xdfX\\xe2\\xf6\\xc3+\\x18\\x8d\\x9a\\xfb\\xbb\\x84&g)T\\x10\\xe2:\\xa1aH<\\xc5@N7\\x8c\\xf0\\xeb\\x0e\\xab\\x8b\\xedQ{d\\xcc\\x9f\\xd2xS\\x0bT sv\\xdbU\\xa0\\xf5(.\\r\\t9\\x06\\x81\\x8a\\xaf\\x83,\\xac\\x13\\xb5\\x0b\\x84\\xdb\\xe1\\xf8z\\x8aTT\\x95_/N\\x83\\x0e\\xb9\\'\\xee\\xac\\xce\\xc2\\xfe\\xd3\\x14\\xb3b\\xf7\\x0c\\xbab\\xf6\\xce\\xe19\\xd9}\\x87\\x03\\x8d\\xb8\\x9e\\xa9P\\xd0\\x8a\\xc2;W\\xd3\\x07\\xb7X1\\x95\\xbcCY\\x80?\\x9b\\xae7\\xa6(\\xfe\"^\\x1d\\xc3\\xd8\\xbe\\n\\x9e\\xfb\\x85\\xb1d\\x9bW\\x12\\x14\\xbc3\\x12\\nz\\xdd\\x0b)I%\\x87\\x07\\xca4\\x99\\x9f\\x07\\x8d\\x1c\\x92\\x94T\\x8c\\x1f\\x85\\xdc\\xe1\\xdc\\x1b\\x1bU\\xee\"\\xbcR\\xfe\\xf8>\\xf3\\xef\\x96\\x83I\\x13\\xde(!(\\x1b\\x00V\\xae\\xa4\\xce\\xb5\\x90\\xe1\\x80\\x8b6\\x81\\xe4\\x84\\r\\xbf\\x814\\xacDN\\x1fx?\\xcc9\\xff\\x00\\t\\xa6\\x81\\xb6D\\xb3O\\xc8\\xb5\\xfd\\x84\\xfd\\x82\\xa4<!\\xa1\\xa7\\xd3O\\xdbMZx\\x99fD\\xfc\\x9a\\x7f\\xe1\\x14\\xfd\\xc7\\xec\\x87\\xfaD}\\xb5R\\xaad.Q\\xc6\\xbe\\x97b;J\\xe1\\xf3\\xb7\\xf98\\x9d|\\x85\\xc2\\xabUv~\\xd9w\\xb4\\x0e\\x10m\\xb4\\xba\\xa5\\x9cv\\xc6\\x03*\\t^\\x8f$\\xf8I\\xd0\\x10\\x07\\xc0\\x1a\\xda\\xbe\\x97\\x83\\xff\\x00\\xb4\\xde\\x1c\\x89\\xff\\x00\\xa3\\xa2 \\x7f\\xd6\\x15Z\\xd3\\xb37C\\x1d\\xa3\\xf0c\\xaaK\\x8aJ1\\xdb9\\tAZ\\x8c\\xb8\\x06\\x80jw\\xdb}\\xe9\\xe3\\xdc\\xe2\\x9f\\xc8\\'\\xf8Y\\xe8\\xd1\\xf5\\xb4>\\x94\\x17\\xd2C\\x85d|\\x9c\\xe5\\x03a\\xf0\\xa3M\\xd3\\xa6\\xe3\\xb9Gv\\xf1\\x1f<\\xa4\\x10\\x11\\xe4N\\xba\\xf9oQ\\xaf[\\xbb\\xb8\\xc4\\xac\\x12\\x87Qmj\\x0b\\xa5\\xe4\\xe4\\xcc\\xe3\\xa0\\x00\\x00\\n\\x9f\\x00\\x93&$\\x98\\x1bkU\\x1cc\\xc7\\xf8\\x07g\\xf6\\xac\\xa3\\x12qn\\xdf<\\x93\\xeaXU\\x93}\\xed\\xdd\\xd1\\xe8\\xdbCX\\x9d\\n\\x8c$\\x13\\xaa\\x85tv\\xdd%\\xc9\\xcc\\xe4\\xa3m\\xe9\\x193W*w47\\xf3\\x14Ra\\\\\\xc5C\\xc3\\xf8\\x93\\x08\\xc5\\x9cy\\xac/\\x14\\xb2\\xbdu\\x85\\x94<\\xdd\\xbd\\xca\\x1dSj\\x06\\nT\\x12L\\x10yV\\t\\x8a\\xf0\\xc6?\\xc6\\x98\\x963\\x87c\\xf8\\x9bxo\\x08^[\\xe5n\\xc7\\r+n\\xe9k\\x0e4\\xa5\\x97\\x9e\\x9d\\x88J\\x90P\\x88IJ\\xd4\\x0ej\\xcc\\xb0.\\x1a\\xc1xO\\x0en\\xcb\\x87\\xf0\\xebL2\\xcd\\x94\\x80\\x12\\xd3I@\\x00u4\\xdc\"\\x97;%NM\\xf1\\xa2\\xeb\\xbe@\\xdd@{iAIP\\x94\\x90G\\x91\\xaa\\x87qR\\xe2\\xbb\\xbc=\\xbe\\xf5G\\xfa\\xc5\\x0f\\x0f\\xb8n~\\xcf:S6\\xef!EwW.gV\\xe9J\\xbe\\xed\\x85E\\x17\\xdde\\xb5\\na\\x05\\xc5j<#\\xce\\x9f\\x1bk\\xadI@\\xa1B\\x85\\x03\\x05\\n\\x14(\\x00P\\xa2R\\x82\\x04\\xa8\\x80<\\xe9\\x1d\\xf2z/\\xfb\\x86\\x95\\xa4\\x07\\x92\\xd8\\xab\\xc5+Y*\\x1a9\\x1eS;Wd\\xfa%\\xdcw\\x98w\\x17\"f/-\\xd7\\xbfT\\x1a\\xe2ln\\xf1)[\\xa4\\x1f\\x9a\\xa3\\xec\\x99\\xae\\xc5\\xf4?\\xb9\\x0e\\x0e1D\\x89\\xfdMz\\x1eP\\xb1_y\\xedE~\\xcf\\xea>]\\xbf\\xfb\\x1f#\\xec\\xc7\\xff\\x00\\x19\\x87\\xe9/\\xb1\\xd4\\xa2\\x8e\\x929R\\xab\\xf3\\x83\\xee\\xd8\\xaa1I\\x14\\xa1A,:V\\xe6\\x06\\xb4\\x9a\\xe3\\xafK\\x8e\\xd5\\xf8\\xd3\\x85x\\xef\\x0e\\xe1\\xbe\\x17\\xe2+\\xbc\\x13\\n{\\x02f\\xf1\\xc4X\\x84\\xb6\\xeb\\x8e\\xad\\xe7\\x90Iv\\n\\x80\\xca\\xda`$\\x883\\xee\\xa2N\\xc9\\xc8\\xaf\\xdd42\\xa9:\\xc4y\\xc8\\xaf#o\\xb1<F\\xf1Kr\\xeb\\x16\\xc5.I\\x99S\\xb8\\x8b\\xcb\\x9f\\x8a\\xea\\xb5\\xcbn\\xf9_,\\xa7\\x1e$\\x80s\\xba\\xa5r\\xe7&\\xaa\\x9d\\x12z\\xa9\\x8bp\\xfb6778\\x9f\\x0bb\\xb6\\xfc?\\x8a\\xba\\xa2\\xe3\\xcd\\xad\\xc0\\xab+\\xb5\\x92\\t/1 f1\\xfbTesi*\\x03)\\xc58\\xd7\\x88\\xed\\xb1\\xac\\x0f\\r\\xb7\\xc5\\xdf\\xc3p|A\\xf7\\xef-\\x14\\xdf\\xe9V\\x1eh\\xa9\\xcb\\x0b\\x94!HrS(R\\x88\\x00\\xad(3\\xa1H\\xaf3\\\\\\xc3-\\x15%v\\xac\\xa8\\x12fP\\x0c~E$avm\\x95wv\\xac$\\xafC\\x0c$OZ\\xaac\\xee\\xa3\\xd5\\xac/\\xb5\\x1e\\x0bw\\n\\xb3\\xb9\\xb8\\xe2\\xfe\\x1e\\xb7/\\xdb\\xb6\\xeeGqVPS(I\\xd4\\x15iMb\\x1d\\xafvv\\x9b;\\x94\\xaf\\x8f\\xf8Q*-- ~\\x9b\\xb7&r\\x9eY\\xab\\xcasem\\xf3\\x97n\\xc9W^\\xe8O\\xc7\\xdbNz\\xbbI\\x07\\xe4\\xd0\\x93\\xb8\\x84\\x88\\x8f\\xc8\\xa7\\xdbDY\\xea\\x16\\x19\\xdb_f\\xaf\\x9bKf\\xfbA\\xe1n\\xfd\\xc6\\x93\\x95\\x0b\\xc5\\x9aA\\'(\\xd3\\xc4F\\xbe[\\xd0\\xe2\\x1e\\xdd{3\\xe1\\xf7\\xfdS\\x17\\xe3\\xbc\\x02\\xde\\xe4-$\\xb6\\x9b\\xc0\\xe9\\x1a\\xecrL\\x1a\\xf2\\x9b\\x88\\x9bG\\xaa\\xb2\\x95\\xa0\\x11\\xe3$e\\x03X\\xe9W-6\\x84\\xda0\\x86\\xd2\\x94\\x04\\x98HH\\x01#A\\xd2\\x8a\\xbd\\t?\\'I\\xfaGv\\x8d\\xc2\\x1c{\\xc6\\xd8.%\\xc2\\\\M\\x86bVV\\xd8/\\xab<\\xe2\\x1cP\\xc8\\xe7|U\\x04\\x11\\xd0\\xd6\\x05\\xc1|Y\\x82\\xf0\\xff\\x00\\x1ap\\xe6+{\\x8a[\\x9b,7\\x16\\xb6\\xbax6\\x95\\xad]\\xd2V3\\x14\\xa4\\'R\\x01\\x98\\xdc\\xc6\\x9a\\xd6\\xa5)\\x992\\xa9\\x9f\\xbe\\x8d\\x106I\\xea\\x0c~5q\\x8fkR\\xf4\\x14\\xa5j\\x8e\\xec\\xe3_K\\xee\\x1a\\xbd\\xbfN\\x1d\\xc1\\xd8\\xd7\\xe8\\x8b\\x19)w\\x1f\\x7f\\rv\\xe1i\\x07~\\xe2\\xdb.\\xa7O\\x9c\\xe6\\x9f\\xc0\\xa1M\\xf0\\x8f\\xa4\\x07a<\\x18\\xeb\\xb7\\xb6\\xf8\\xbe3\\x8ccw>+\\xacV\\xf3\\x06\\xbc~\\xe5\\xf3\\xe6\\xb57 t\\x03A\\xb0\\x00W\\x0c\\xa8\\xf4\\x07\\x9cM\\x1c\\xf8\\x86\\x9a\\x08\\xd8\\xed\\xe7[\\xf74\\xa8\\xe6\\xf7{\\xbf\\'\\x7f\\x1fL\\xae\\xcb\\xed][\\x8d\\xbb\\x8f\\xdcf.e\\t\\xc1\\\\N\\xea\\x99\\xf1\\x11\\xa7\\xd7\\xec\\xa8/\\xfac\\xf6st\\xe0U\\xd3\\\\R\\xf2F\\xa1\\t\\xc2\\x12\\x94\\x8f ;\\xcd\\xfc\\xcdp\\x8aI\\x98\\xe6`@\\xf7\\xd3\\x8d\\x91\\xb2D\\xecL\\x8a/cQ=\\x13\\xc0}+\\xfb)\\xc4m\\xd8*\\xc6\\xeep\\x05:\\xbc\\x8aN\\'\\x87<\\xd7vcu\\xb8\\x01BA\\xd7\\\\\\xd1\\xa7*\\xde\\xec\\xb6\\xdeD\\xad\\xb2\\x1c\\n\\x00\\x85L\\x82:\\x8a\\xf1\\xf9\\xe5\\x93\\x86]\\t\\xd7!\\xdb\\xfb\\x06\\xbd\\x80\\xb3\\x19m\\x18\\x07\\x93i\\x1fP\\xa8kVR\\xe6\\x87\\xe8P\\xa1RX(P\\xa2\"M \\x04\\xd1\\x1c\\xc7\\xf8G\\xc6\\x80I\\n&|<\\x84P9\\xf3\\x88\\xcb\\x925\\xeb4\\xb6\\xf9\\x00\\x83i\\x06wWS\\xad*<\\xe9\\nR\\xc2\\xd0\\x12\\x8c\\xc9?9Y\\xa3/\\xbb\\x9d/Zz@y\\x15\\xdaO\\x03qG\\x03\\\\\\x06\\xb8\\xbf\\x05\\xbb\\xc2\\x85\\xc2\\xdc6\\xae8\\x12\\xa6\\x9f\\xca\\x04\\x94-$\\x85\\x00\\x08>\\xfa\\xdf\\xbe\\x8c\\x17\\x17?\\xca>!f\\xcb\\x8c\\x9e\\xc0\\xdew\\x0f\\xb7q\\x16\\xa9\\x16\\xae%\\xe8:\\xcbo\\t%3\\xa1I\\x1a(\\xef\"\\xb4Wi\\xb6\\x0fX\\xf1F+\\x839i\\x88\\xe0\\xb6\\xb6\\x0f\\x10\\xc6\\x0f\\x89\\xdf*\\xe1xxZ\\x10\\xa5%\\'1\\x04\\x12d(|\\xe4\\x94\\x9a\\xc9\\xfb9\\xe2tp\\xb5\\xc3\\x8b\\xe2\\x1e\\x01\\xc1x\\xee\\xd5l\\xb6\\x93ox\\x12\\xdb\\x8d\\x14\\x13\\x95\\xc48P\\xb10H\" \\x88\\xd7M~\\xdf\\xaa\\x9c\\xb2\\xf4\\x19S\\xdb\\x92O\\\\s~\\xaf\\xc7\\xcd\\xfdO\\x99\\xe9\\xa1\\x0c]v>\\xdd(\\xda\\xde\\xfcW\\xa2\\xfd\\x0e\\xf2\\xb4\\xbb\\xe2\\xdbp\\xbbuqw\\x0c_]\\xc9X\\x0fa\\x19\\x14\\x96\\xf9JQs\\'\\x96\\xb5 \\xe2<h\\xca\\xf2\\xbf\\x89\\xf0\\x83\\x8a\\x90\\x03j\\xb3\\xb8a[\\x7f\\xa5V\\xb3\\xe5\\\\\\xd7\\x83v\\xa5\\xd8Z\\xdam\\x1cA\\xd8\\xbb\\xd8\\x1b\\xe8:\\xb8\\xde\\x0box\\x94\\xf3\\xd1m+\\xbc#\\xfdZ\\xcf\\xb0N\"\\xf4d\\xc5\\x1e\\x01\\x8f\\xe4\\xa5\\xad\\xcb\\xa0\\x05\\x0cf\\xc5\\xcbU\\xec\\x00\\x13p\\x06\\xd09\\xe9\\x02\\xbf?p\\x94y\\xfdO\\xb4Y1>>\\xdf\\xeen\\x14c|b\\x86\\x99Rxw\\x05\\xbf\\xcc<N3\\x8b\\xbc\\xd2w\\xdd2\\xc2\\xa4{\\xe9\\xf4c|^\\xa0#\\x850\\xb5*\\x06`1\\xc7\\x04\\x1d4\\xd6\\xdf\\xdbX\\x8e\\x15\\xd9\\'e\\xdcB\\xdb\\x8e\\xf0\\xc5\\xad\\x82\\xedT%G\\x87\\xb1\\xb7\\x98m^\\xd4\\xb0\\xf0O\\xd5V\\xe3\\xb1.\\x0cJS\\xde\\xd8\\xe2\\xced\\xf9\\x8a{\\x1f\\xbfQO\\xb0\\x97\\xaai\\x8e\\xe1\\xe9\\xfb\\xfc\\xcbe\\xe3\\xbc\\\\3\\xa1\\x1c-\\x84\\x97G\\xcc\\x07\\x1eX\\x07\\xac\\xfe\\xaf#\\xe1\\\\G\\xe9\\x8c\\xfe(\\xefk82\\xf1\\xdbK;;\\x83\\xc3V\\xf9Sgt\\xab\\x84e\\xef\\xee$\\xe6R\\x11\\xa8T\\x88\\x8dDk]\\x9a\\xe7c\\xfc%p\\xc3\\x96\\xf7V\\xf8\\xad\\xcd\\xa2\\xd6\\x1c6\\xee\\xe3\\xd7\\xae4\\x14\\'P\\x92\\xee\\x93:\\x8d\\x8dq_\\xa5\\xff\\x00\\x0b`\\xdc!\\xda\\x96\\x01g\\xc3xs8e\\x9b\\xdc:\\xdb\\xae6\\xc2HIX}\\xd4\\xe6\\xdfx\\x80O>uqN\\xcc\\xe4\\xe3Z_\\xbf\\xcc\\xd2\\xb7\\nR\\x18uHNu\\xa59\\x90\\x8d\\xf3\\x18\\xd0i\\xd7o}t\\xad\\xc7d\\x1c6\\xfd\\x9f\\x16\\x96{:\\xc7p\\xc7\\xb0\\xeb\\x0b+\\xab\\x05=\\x89]\\xa8\\xbe\\xeb\\xd6*\\xb8S)\\x94\\xe5\\x94\\xba\\x80\\xca\\x82\\xc8\\x071\\x12\\x95\\x14\\xd76\\xf7A\\xf0\\xebJ\\x8c\\xabL(\\x1f\\x9b\\xa8\\xfb)\\xfb\\xfcC\\x16\\xbc\\xb3\\xb8k\\x12\\xc6qk\\xd6\\x9dHC\\xcd\\xbd\\x8a>\\xb4\\xb8\\xdce\\x08P+\\x82\\x91\\xc8\\x1d\\x04\\xd6\\xd1\\xd1\\x93\\xbf\\x06\\xe9\\xeds\\xb3\\xce\\x15\\xe1~\\t\\xc7\\xb1^\\x14\\xc0\\x1d\\xf5\\xe6ql=\\x17HU\\xc3\\xcaW\\x0f\\xb6\\xebp\\xb6\\x95\\x98\\xf8\\x92\\xa7PR\\n\\xc4\\xfc\\xaau\\x10+Aw\\xe0\\xf8r\\xaegQ\\x02\\x90\\xf2\\xddu\\xe7\\x9eu\\xeb\\x87]|\\x8e\\xfdkyj.\\x11\\x11\\x9c\\x93\\xe3\"\\x04f\\x98\\xe5\\x14\\x95\\x15\\x08\\x82f7\\xe54\\xdb\\xb2~\\xa1\\x97!\\x07\\xc2t\\x14]\\xe1\\x19NUFn\\xa0l:\\xd3\\xabFU\\xad\\x08\\x95$\\x01\\x13\\xa7/\\xf1\\xa2\\x08%\\x0b^`r\\xc7=L\\xf4\\x1c\\xf6\\xa0\\n> Q\\x16\\xed\\x0c\\xa4j\\xa8\\x83\\xe5W-:\\xa1h\\xd0\\t\\xd0\\xa8\\xe6\\x19\\xa3\\x90\\xaaN!\\xfe\\x8c\\xd2\\x8e_\\xa5\\xe2\\'\\xcbz\\xb6j\\r\\xabPF``\\x19\\x8eB\\x9dX\\xacZ\\xf3~\\xee\\xbc\\xe0\\xe9\\xbfZI%$\\xf8\\x00\\xe7\\x13\\xb6\\xb4\\xb2\\x01\\x04i\\xa1\\x93\\xaf/e\\x12G\\x89\\x13*\\x131\\xcf}\\xa9\\xa13$\\xe0\\xd78Y\\x0e\\xe2\\xa9\\xe3\\xa6\\xd2ZS\\r\\x0b\\x15fy ;\\x99Y\\xf3)\\xa0T\\x94\\xe5\\xcb*\\x85\\x11\\xb8\\n\\x82\\r\\xd3w\\xdd\\x93\\xa40\\xab\\x94c\\xc5\\tX/\\xa1\\x0c\\x92\\xa2\\x95(\\x95\\x00S\\xe1\\xce\\x84\\x94$\\x11\\tY\\x0b\\xd1\"\\x05`/6\\x94\\xbc\\xf2\\x11\\x01!j\\t\\xd7\\x90&)\\x85\\xa5\\tHPY\\xcf\\x98\\xf8#a\\x1b\\xcf\\xb7J\\xb4\\xf4CL\\xd8VX\\xbff\\xcc\\xe2\\xf8j\\xee0\\xccAv\\x01\\xb6\\x85\\xea\\x16\\x95\\xa8\\xa5\\x7f#\\xde)\\t2\\x16\\x9c\\xe2\\xe2\\x12JImH\\x85%i\\x83\\x89\\\\\\xdd\\xdb\\xde\\xdf<\\xfd\\x95\\x93X{\\n)\\x08a\\xa7\\x14\\xa4\\x80\\x12\\x13\\x9b\\xc5\\xa8\\xcd\\x19\\xcav\\x05P*\\xb1 \\x1c\\xc3\\x91<\\xfa\\xd4\\xa6\\xe2S\\x94m\\xb0\\xcdN\\xef\\x91l\\x94\\xe8P\\xc2\\xae\\xde$\\x16\\xdb\\x00/\\xc6\\'T\\xa8\\x81\\x1b\\xf2?\\x92+\\xd8KgR\\xed\\xbb.6\\x0eE\\xa1*Na\\x06\\x08\\xaf\\x1dn\\x88\\x18=\\xeaJ\\x02\\x94\\xa8\\x01z\\xe8r\\xabO\\x7f\\xdd^\\xc4\\xdb \\xb6\\xc3I\\x93\\xe1BG\\xd5X\\xcemi\\r-\\xd8\\xf4\\xcd\\r(\\x8c\\xf24`\\x9a\\x84\\xf60\\xe8P\\xa4\\xaf4\\x0c\\x99fu\\x9a\\xd0\\x05SK\\xb9m\\xb3\\x94\\xab2\\xff\\x00u#1\\xf8\\n\\ng0\\xf9U\\xa9C\\xa00>\\xaaRP\\x94\\xa6\\x10\\x02S\\xd0\\x08\\xa2\\xc0g\\xbc\\xb8w\\xf6m\\xa5\\xa4\\xfe\\xf3\\x86O\\xc0~4}\\xc3\\xbc\\xee\\xdc\\x9f$\\xa3\\xf0\\xa9\\x03J\\x14}@\\xf3\\x13\\xb5\\xdb\\x1e\\x1a\\xb4\\xc7=O\\x06\\xe1\\xee#\\xc01Kee\\xbbg\\x1ew\\xbe.1\\xdd#\\xb9R3\\x15\\x14FR#1\\x11\\x10t\\x817\\x80\\xf8Z\\xcf\\x16\\xbf[7\\x16\\xae\\x84\\xa6\\xd4\\xad&\\xdd\\xd5\\xb4\\xa4\\x90\\xa1\\xa8RMk;\\xfcB\\xea\\xea\\xfd\\xc5^\\xbc\\xfd\\xca\\xc0\\x08J\\x9eyN\\x14\\xa7p$\\x92cR}\\xe6\\xb7\\xefax\\x9ao\\xb8\\xa5m\\xe4\\xca\\xaf\\xd1\\xce\\xeb\\xd6\\nk\\xf4\\x1e\\xb3\\x0f\\xb8\\xe8f\\x9b\\xb6\\x93\\xdf\\xff\\x00v|gI\\x9dg\\xeb\\xe2\\xd2\\xa4\\xfc\\x16\\x03\\xb3\\xa6\\x922\\xda\\xe38\\xb5\\xb0;%\\xe2\\xdd\\xca~\\x0bD\\xfdu\\x19\\xde\\xcd\\xef\\xc8\\xca\\xdd\\xf6\\x15z\\x8f\\xdd\\xb9\\xb1[D\\xfb\\xd0\\xa2>\\xaa\\xe8\\xabv\\x1bRFt!ZsL\\xd3\\xaa\\xc1\\xac]\\xd5v\\x8d\\x13\\xe4\\x98\\xaf\\xcf\\xff\\x00\\x88\\xa3\\xee=\\xc1\\xcaw\\x1d\\x92-.\\x87O\\x0c\\xd88\\xe83\\xdfa\\xb7\\xe8m~\\xd1\\x99(P\\xf8\\xd5\\xbd\\x93\\\\a\\xc3\\xa9G\\xe8\\x9e%\\xed\\x07\\x02i\\x1b%Kv\\xf5\\x94\\xfb\\xa5\\xd4G\\xba\\xbaA|/\\x87\\xacx[[\\x7f\\xd9]%<.\\xca\\x04\\xb3p\\xe2\\x0f\\x98\\x14\\x9ehK\\x94/s%\\xc34\\x96\\x1d\\xdboixS\\xc9O\\xf2\\xdb\\x871\\xdc\\xa3F1\\xac16\\xee+\\xcaPY3\\xee\\xad%\\xe9\\x03\\xc7X\\xd7h<U\\x81\\xe2|Q\\x85\\xd9aw\\xf6\\xd8Ha>\\xa2\\xf2\\x9di\\xe6\\xcb\\xeaPq9\\x84\\xa7Y\\x1b\\xa8nf\\xbbZ\\xe7\\x86\\xd6\\xf2J\\x1cq\\x9b\\x94\\x1d\\xd2\\xf3y\\x87\\xc0\\xcdr\\x17\\xa56\\x0e\\x9c\\x1b\\x8c\\xb8a\\xa6Xb\\xd9\\x0e`\\x92\\x12\\xcaBS\\xe1\\xba^\\xc0h \\xa8\\xfcOZW\\x06\\xf4>\\xd9G\\x93T\\xa1a\\x0e\\xab1 \\x10\\x9c\\xaa\\xcab#ZC\\xee\\x07-\\xfc\\x07Uh!<\\xf7\\x8f\\x85\\x01\\xfb#;\\x14\\x02gc\\xe1\\xa4\\xa53lDH\\x0b3\\xfd\\xd1R6B\\x8f\\x19\\xde(\\xcc\\x04\\xf4\\x11\\xd2i\\xc2\\x80\\xa5\\x004\\xd3x\\xf3\\xeb\\xf9\\x14JI\\x85BLI\\x9d4\\x8f\\xcc\\xd5$K\\t\\xd1\\x96\\xe1Y\\x89Q\\xca\\x83=|#\\xeb\\xa2\\xd8\\x10`k\\x04\\xc7\\xe3D\\xb5-\\xc5\\xa9n\\xf8\\x89\\x00O2\\x00\\x8f\\xb0P\\x8d\\xf4\\xd4\\x1dj\\xa8\\x82\\x97\\x88\\t\\xf5V\\x882\\xa5\\x15\\t\\xdb\\xe8\\xd5\\x9a\\tU\\xabz\\xc9\\x07R\\t\\xdf(\\xff\\x00\\x1a\\xac\\xe2\\x14\\xfe\\xa8\\xd4\\xccfP\\x926\\xf0\\xd5\\xb3^+V\\x8a\\xb3L\\x89\\xf0\\xcf!B\\xe4b\\x80\\xf2\\xe7\\xa7\\xe7\\xef\\xa5\\xb6\\x14\\xe3\\xcc\\xb7%jS\\xa9HH\\x1c\\xca\\x80\\x81\\x14a#\\xbbp\\x9f\\x9f09\\xc7\\xbf\\xcb\\xef\\xa6\\x8f\\xce\\x10\\x08\\x03Y\\x9f\\xcf:(V?\\x886Y\\xc4o\\x9bVd\\xf7w.\\xa5H \\x82!dA\\xe7\"*\\x19\\x078\\x19\\x8e\\xa2b\\x9fyKu\\xc5\\xba\\xf2\\xcb\\x8e\\xb8\\xb5-kR\\xa4\\xa8\\x9dI\\'\\xa9\\x93Hq\\n+\\x83\\xb7\\x98\\x1a\\xfeE\\x00\\xc0\\x88\"\\x08\\x91\\xccu\\xa9\\r\\xc9\\xcaA\\x99\\x03]\\xb4\\xd6\\x98\\t\\x19`\\xee:m\\xec\\xa9%\\x05\\x0e\\'0\\t \\x0f\\x08 \\x8euBa<\\xa5+\\x0e\\xbaBVHQ\\x03)\\xe6`\\x80~\\xbf\\xae\\xbd\\x8b[\\xad\\xdb\\xa4w\\xabJt\\x81\\xe7\\xec\\x15\\xe3{\\xb0\\xab\\x17\\xd0!AF\\x08\\xeb:G\\xd7^\\xc7\\xb5n\\xd3\\x1f\\xb2m) \\x04\\xce\\xe6\\x00\\x00k\\xee\\xacua\\xb1>\\xb2\\xe2\\xff\\x00`\\xc2\\x88\\xfd\\xe7<\\x03\\xe1\\xbf\\xd5D\\x19[\\xbf\\xb7x\\x90~\\x8b~\\x11\\xf8\\xfdu#5\\n\\x9e\\xed\\x8c0 \\x009Q\\xd0\\xa1[\\x08\\x14(P\\xa0\\x01B\\x85\\n\\x00\\xf2\\xe3\\xb5\\x94\\xe1\\xd6\\x18\\xad\\xa6\\x1c\\xd7\\x07`\\xdc3\\x8a\\xa5)\\xba]\\xd6\\t\\x8c*\\xf2\\xd6\\xea\\xdd\\xc4\\x90\\x94\\x80tJ\\x92\\xa4\\xee\\x0f]5\\x15\\x98v\\x00\\xef\\xf9f$\\tV\\x1fp&u\\xfa:}U\\xa9\\xb8\\xbf\\x83\\xb1N\\x0b\\xc5\\xd1i\\x8c\\xb1l\\xca\\xaem\\xd3sn\\xbb[\\xa6\\xee\\x1au\\xa2\\xa5\\'2V\\xd9#\\xe7!B7\\xd3j\\xd8\\xfd\\x84_ q\\xa5\\xb1Q)\\n\\xb4\\xb8\\x03\\xfb\\xa3\\xf0\\xaf\\xd0:\\xb5\\x18\\xfb?\"R\\xeeT\\xf7m\\xdf\\xe6\\xdf\\xdc\\xf8\\xde\\x9er\\xc9\\xed(JQ\\xedv\\xb5\\xfbH\\xeb\\xbb5\\xf8S\\xec\\xab&\\xd45\\xd7Z\\xc7\\xacoYR\\x13\\xf2\\x89\\x1aU\\xbb7(V\\xa1\\xc4\\xff\\x00z\\xbf3og\\xe8H\\xb3\\n\\x11\\xed\\xa3\\xcd\\xd6\\xa3%\\xc9\\x88 \\xfb\\xe6\\x95\\x9c\\xd4X\\x0f\\xc8\\xae6\\xf4\\xc6\\xf1q\\x7f\\x07+A\\xfc\\xce\\xf2~\\x17\\x7f\\xe3]\\x86\\x17\\xa0\\xd6\\xb8\\xf3\\xd3\\x08\\xff\\x00\\x94\\xfc\\x1c\\xad\\xff\\x00\\x9b.\\x92@\\xff\\x00\\xf3H\\xad1\\xbb\\x9aDM|&\\x93J\\xbc\\x00\\xff\\x00\\x9bI\\x81\\xec\\xdf\\xeb\\xa2L\\x8bd\\x13\\xb8rA\\xdf\\xe8\\x83\\xa5\\x1brZA\\x90e\\x94@\\xf7Q\\x83\\xfa\\xb2@\\x01$85\\x1c\\xc6A]\\x070\\xc2\\xcaI)$i\\xa4\\n,\\xc9\\xf2\\x8eZ\\xe9I\\xe7\\xb9\\x06~4\\x95j6\\xd4\\x8d\\xc1\\x8ah\\x04\\xe6\\x034+^\\x9eTa\\xc4I\\xda\\x00\\xfa\\xa9\\xdb\\xe0\\x94]\\x0c\\x80\\x0f\\xd5\\x982\\x04jP\\x994\\xcaH\\xee\\xdd%**\\x81\\x90\\xa5`\\t\\x9dg\\xae\\x9aUrJ)8\\x90\\x83d\\xd4\\x94\\xa4\\xa4\\xab]\\x80\\xf0\\xc5[[\\xc0\\xb6l\\x1f\\x0c\\x119\\x87\\xf0\\x8a\\xa8\\xe2\\x19M\\x9b|\\x88Y\\xd2\\x7f\\x86\\xad\\x98\\x1f\\xaa\\xb6:({\\xa5#Z\\x03l}P\\xa1\\xa2\\xd0Dh\\x0e\\xd4\\xd9)*\\xd0\\x84\\x913\\x07\\xce\\x81\\x1c\\xd4f|\\xa4\\xfbi\\xfb\\x04\\x83\\x88Y\\x88\\xff\\x00\\xe2\\x1b\\x06#\\xf7\\xc5\\x02\\xe0`\\x90\\x14%i\\xe67\\xa2_\\x9a\\x93\\xaf\\x9f\\xf8Q,\\x8c\\xce\\x04\\x88HR\\xb4\\x11\\xa6\\xa7J\\'\\x14\\x12\\xd22\\x02\\x08\\x92\\xa5\\xe6\\xd0\\x8d G(\\x83\\xf1\\xa6\\x84;\\xa1 \\x12\\x0c\\x9dL\\xedR\\xec\\xed\\xdc\\xbb}\\r0\\x92\\xb7HH\\x01#\\x96`>\\xd3P\\x90JP\\xb0\\x08\\x00\\xfc\\xedw\\xd6~\\xea\\xb6\\xc0\\xef\\x13\\x87\\xe2-\\xdc\\x90\\x95\\x00\\x83\\xe1S\\x99$\\xc8\\xe7\\x06\\x98\\x15N#*\\x1cei)P}))1\\xa7\\x8cs\\xe7^\\xca\\x1d\\xcdx\\xd9\\xde\\xfa\\xc3\\x9d\\xe4\\x04\\x97n\\x9a%;\\x8d\\\\O\\xe3\\xff\\x00*\\xf6L\\xefX>X\\xc1B\\x88\\xd1\\x8a\\xce\\xf61T(V\\x1f\\xc7\\xfd\\xa4`\\xfd\\x9cY\\xd9\\xdc\\xe3\\xc8\\xbbt\\xde:\\xa6\\x98j\\xd9\\xa0\\xa5-A%GU\\x14\\xa5:\\r\\xc9\\x15\\xd0\\xdd+d\\x99\\x85\\t\\xad\\n\\xbe\\xd8{@\\xe2\\x92Q\\xc0=\\x9f\\xbc\\xd3*$7w\\x88\\x12\\xa4\\xa8r#T7\\xff\\x00xi\\x8f\\xfd\\\\v\\xb5\\xc6jI\\xe3N2N\\x0bh\\xa9\\x9b\\\\9\\xf5$\\x81\\xd0\\x86Cs\\xefqu\\x97\\xbd\\xbf\\xc2\\xac\\xae\\xd7\\xe4\\xdc\\x9cC\\xc6\\x9c;\\xc2m\\x95\\xf1.9\\x87a#.`.\\xae\\x90\\xda\\x94<\\x92L\\x9fp\\xac\\x05^\\x92\\xdd\\x99\\xa5D~\\x9f}PbS\\x85]\\x90}\\x87\\xba\\xd6\\xa0\\xe0\\x1e\\x8c\\\\\\x17\\x858\\x1f\\xc4\\xfds\\x17\\xb9:\\xb8\\xa7\\x1d\\xeeR\\xb3\\xd4\\xf7p\\xa3\\xfe\\xb2\\x8dg\\x88\\xec\\xbb\\x83\\x1bBP\\x9e\\x19\\xc2\\xe1 \\x016\\xc9\\'\\xe2u4\\x7f1\\xfc\\x87Q\\xf5<\\x9e\\xb8)m\\xe5\\x04$$e\\x06#j\\xd8\\xbd\\x88\\\\\\x7f\\x96\\xd6\\x00\\x12e\\x9b\\x89\\x8d\\xbeekG\\x9dB\\xee>M\\xc4\\xa8e\\x04\\xe4T\\xfb\\xeb=\\xecY\\xc8\\xe3l6gT>\\x06\\xbf\\xe6\\xcd~\\x9f\\xed\\x7f\\xf9|\\x9fG\\xf6>\\x13\\xd9\\x91\\xae\\xa7\\x1f\\xd5\\x1dkd\\xf1\\xca\\x92O*\\xb3i\\xef\\x7f\\xb6\\xb1\\xfb\\x17IBcM\\x05Z4\\xe6\\x9a\\xd7\\xe4\\x92\\xe4\\xfd0\\xb3\\x0f\\x91\\x10ib\\xf5\\xc4\\xea\\x97T\\x07\\xf6\\x8dV\\xae\\xe0 x\\xb4\\xf2\\xa8\\xab\\xb9S\\x866\\x02\\xa0,\\xbb8\\xcd\\xc0\\x90\\xdb\\xca\\xe9&\\rsW\\xa6\\x03h\\x18\\xa7\\x01=\\x073\\xf8m\\xe1_9>\\xb0\\xd6\\xbf]o\\xc6\\xd7\\xa8\\xad\\r\\xe9v\\x7f\\xfb\\xbb_3a\\x88\\'\\xfe\\xf9\\x8a\\xe9\\xc2\\xbe4a\\x91\\xfc&\\x8fh\\xfc\\x93{h\\xcau\\x8eQA\\xb2=]\\xb9\\x123$\\xed\\xfc\\x14\\x19PU\\xb3D\\xed\\xdc\\xa6`{iI\\x94\\xd9\\xa0g\\x9f\\x1aL\\x7f\\xa9\\xcb\\xea\\xf8WS9H\\x8a\\x92`\\x13\\x04\\xc9\"\\x8fA%$\\xc8\\xd0\\xe9\\x06\\x94F\\xbb\\xf3\\xf0\\xc6\\xa0\\t\\xa0\\xaf\\x9cJ\\x94H\\xeaF\\xd4\\xe8.\\x82\\xbd)[\\xa8-\\xaf8\\xf5vA1\\xb1\\x08\\x13\\xef\\x91LhS:D\\x98\\x8d`\\xfef\\x96S\\xa4\\xa9z\\x9d&\\x82\\x93\\x02\\x04\\xe5\\x07\\xf2*\\x99%\\x17\\x10\\x10\\xab\\x16\\xc9\\x03\\xe7\\x1f`\\xf0\\xfev\\xabvu\\xb4n5\\xd50#\\xf8EUq\\x12b\\xc9\\xa2\\x12\\x0c\\xb8L\\x93\\xcf)\\xab[c6\\x8dk\\x00\\x94\\x9dw\\x1e\\x11\\xcf\\xa5/ \\x98\\xbc\\xa4\\xe7<\\xb9\\xaa\\xac8yL\\xa7\\x89\\xb0U\\xdf-,Z#\\x11\\xb6/\\xadcD :\\x92\\xa5\\x1f(\\xde\\xa2\\x13\\t-\\xc8\\x00\\x91\\xbcS%!FD\\x193\\xbc\\x89\\xa6\\x85b\\x15\\xa3\\xae\\x10d\\x97\\x1c\"6#1\\x88\\xf7E=gcq\\x89\\xdf\\xb1c\\x85[=}{p\\xa2\\x8b{{t\\xe7q\\xd5y\\x0f\\xc8\\xe7M\\xf8U\\xcc\\xcc\\xce\\xa6*\\xe7\\x86x\\x92\\xe3\\x86\\xb1\\x05\\xdd4\\xdf\\xad[\\\\\\xb0Y\\xbc\\xb5\\xef\\x94\\xcf~\\x8d\\xd3\\x0e$gmHp%aI \\xcacbAk\\xe6&dW\\xbd\\x96\\xe2v\\xd6xR\\xadolo1\\x0b\\xb7\\x9cC\\xf6\\xc8\\xb8@\\xf5t\\xe6\\xca\\x85\\xeb\\n#0Z\\x17\\xa0(Z\\x08\\xd4\\x10k\\x0cNd8RAJ\\xd0\\xa2\\x95\\t\\x98P$\\x11\\xf1\\x9a\\xcd\\xb1\\x8e\\xd7q\\x8can:\\x9b\\x1bKk\\xb7\\x12\\xa2\\xf3\\xa4\\x97<f<H\\x07D\\x81\\x1f6\\x0e\\xa6yV\\x0c\\x92\\xb5<\\xa7\\x1cZ\\x96\\xb5\\xab:\\xd6\\xb5j\\xa2L\\xc9\\xf3&\\xaaU\\xc2\\x05\\xf3\\x19\\xb4\\xf1\\xbbn\\x8dH\\xf5\\xd6\\x00\\x9dI\\x97P+\\xd9s^4\\xe1\\x90\\xbb\\xdb$\\x91\\x19\\xaf\\xed\\x92:~\\xd9\\x15\\xec\\xa9\\xdc\\xd7$\\x99HJ\\xd5\\x04P\\x0b\\xa48u\\x1e\\xca k\\x1f%\\x12j5\\xcd\\x9d\\xb5\\xc3\\xac=ql\\xcb\\xce\\xb0J\\x99Z\\xdb\\nSd\\x88%$\\xed\\xee\\xa94\\xd3\\xa6\\x08\\xae\\xa9\\xea$\\xaeC\\xcfC9\\xa6\\xe6\\x84\\xd77s\\xf5*\\x85\\xe74Y\\xfc\\xe93E4\\xad\\x8e\\x8f\\'\\xfb@\\xe3\\\\[\\x8a\\x9e\\xb7\\xb1\\xc6\\x1b\\xc0Vp\\xf7\\xdeq\\x17xE\\x92\\x18M\\xc1XJT\\xa2Q\\x01iV@\\xa0H\\x07]z\\x07{\\x1dZ\\x91\\xc7xbTHL<g\\xfd\\x9a\\xbf\\xc6\\xb0\\xdb\\xc0C\\x89?\\xc3\\xd7\\xce\\xb2\\x9e\\xc9\\xddK\\\\q\\x86\\x95\\xe8>W\\x9f>\\xedU\\xfa\\x97\\xb41C\\x17K8AR\\xa7\\xf6>\\'\\xa3\\xcd<\\xdd\\\\\\'\\'\\xbb_s\\xacl\\x1c\\xf0$\\xcciVm\\xdc\\xa1\"\\x02\\xa4\\x8e\\x95\\x8bX\\xde-\\xc6\\xd2\\x12yo\\xcej\\xd1\\x83\\xa4\\xc9\\xaf\\xca\\xdcv~\\x87\\xdd\\xa2\\xc4\\xbaTd\\xaa\\x94\\x95\\x1e\\xbbi\\xec\\xa8\\xa1_\\x93K\\n\\xe5\\xa4\\xf9\\xd2\\xa0\\xb2kj\\xd7\\x97\\xb2+Gz[\\t\\xb1\\xec\\xedc~\\xe3\\x11H1\\xb7\\x8d\\x8a\\xddHQ\\x04t\\xad\\'\\xe9d\\t\\xc1{;Y:\\xa4\\xe2i\\xf6\\xe8\\xc9\\xadq~4e\\x91\\xfc&\\x8e\\xb7\\xfe\\x8dnG\\xd2dr\\xf34\\x1a9\\xad\\x16\\x15\\n\\x87P\\x0f\\xf7M\\x0bC6\\xd6\\xfa\\xff\\x00W\\xff\\x00\\x88\\xd0d\\xfe\\xaa\\xac\\xe4~\\xd1\\x03o\\xe15\\xd6\\xceA\\x82\\xea\\xa7\\x94\\x9d<\\xfe4\\x0b\\x8a\\x91\\xa0\\n\\x03m\\xbd\\xd4\\x89\\x81\\xb8\\x9c\\xda\\x9f\\xb2\\x8c\\x03\\x98\\x082N\\xa3\\xec\\xa0b\\xdc\\x0bd$,&\\x1de/&5\\x94\\xabo\\xbe\\x92\\x02\\x9cJ\\xd6\\x86\\xca\\xc2\\x13*!\\x12\\x07!?W\\xbe\\xa7c\\x8c\\x86N\\x0c\\x12O\\xcb`\\xb6o\\x193\\xaa\\xb3\\xccyiU\\xe9QB\\x14\\x06`\\x142\\x9dH\\x94\\xfd\\xfe\\xfarU\\xa2J^\"\\xfe\\x84\\x82\\xe1HH\\\\\\xeab4\\xab\\x1b2}M\\x930@H\\x81\\xfd\\x9a\\xad\\xe2$\\xcd\\x8a\\x0c\\xff\\x00[\\xbcF\\x99L\\x9a\\xb2\\xb3\\xfe\\x86\\xd8\\xd8\\xca`\\x1f\\xec\\x8a\\x00}KV\\xa3M\\xf5\\xd3\\xeb\\xf6PnT\\xf3i*\\x82\\xa5\\x011\\xb6\\xb0M\\x05\\x91\\x04\\x13:l~\\xefu)\\x93\\x17v\\xc9p\\x94\\x82\\xf2\\x02\\xa2?xS\\xd3\\x01\\xb3\\x9cJd\\x12\\x92A=`\\xc6\\x94km\\xc0\\xd2\\x1c)XmeII#C\\x1b\\xfd\\xb4\\xab\\x84\\xa5\\x177\"s\\x04\\xbe\\xe2A\\x8d\\xc0Q\\xf8mM)\\x1a\\xa8xI\\x02t;\\xd0&-\\x1e0L\\x89\\x03A\\xcf\\x96\\xb4\\xb4\\xe8\\xa4\\xc4\\t\\x00\\x03H\\x9d|J&OJt\\xfc\\xf4f\\xd0\\x84\\'C\\xf1\\xa2\\x80k\\x04\\x8f\\xd2\\xf8RI\\x90q[?=\\xee\\x1b\\xafe\\x08\\x93^7p\\xd2s\\xe3\\xf8\\x12\\x02L+\\x19\\xb1I\\x9e\\xbe\\xb2\\xd5{ t5\\xcd&R\\x1at\\x1c\\xc3NT\\x9e\\x9e\\xdaqj\\x13\\xafJ)\\x12=\\xb5\\x9d\"\\x87\\xea=\\xca\\x82Jd\\x81\\xbdH\\xadY\\xda\\xd7\\x125\\x81\\xdea\\r\\xdc\\xe3\\xd8\\xbe\\n\\x87\\x19\\xb8p#\\x0f\\xb9\\xb2e7%%\\xbf\\x02\\xd5p\\n\\x93\\xbe\\x8aL\\x01&H\\xd2\\xba\\xd67\\x95\\xf6\\xa7FR\\x97b\\xee60X;\\x19\\xa3\\x95~\\xea\\xbe\\x06\\xb9]\\xde\\xd0\\xadB\\xaeY\\xb8\\xe2Lj\\xee\\xd6\\xe05\\x0e;\\xc6\\x8c1ql\\xa4\\x85\\x85\\x94z\\xbaJT\\x15\\xe0:\\xed\\xacF\\xc6\\xb1\\xce2\\xe1\\xeb\\x86\\xd6\\x8b\\x8b\\xec^\\xe74\\xa4\\xa9\\xde?\\xc4\\xdd(\\x99\\x12\\x90\\xdbQ#\\xc2u\\xd3\\xef\\xe9^\\xcd\\xc9\\xf3\\x7fE\\x7f\\xa9\\xcb\\xfcl>K\\xea\\xeb\\xf4:\\xef\\xc5\\xfb\\xaa\\xf8Q\\xe5WC\\xf1\\x15\\xc1\\xe8\\xe0\\x8cg\\x13\\xb6\\xb2r\\xe3\\x15\\xc5\\xf14\\xdd\\xb4\\xda\\xdau\\xac;\\x15\\xb9C\\xe1z\\x05%Y@\\x82G2>\\x1a\\xd2\\xd3\\xd8\\xfe$\\xeaB\\xd3\\x87\\xe3\\xc5*\\x12?\\xc9\\x9b\\xa1\\xbf\\x91\\\\\\xfcu\\xad\\xe5\\xec\\xbc+\\xf1ek\\xfe\\xc9\\x19.\\xbb+V\\xb1\\xaf\\xfc\\x91\\xccO\\xb8\\xe2\\xd303\\x84\\xc0\\xd2\\xaf;6.\\x8e4\\xc3\\xf3\\x84\\xa5Y\\x9c\\x06\\t#\\xe6\\x9e\\xb5\\xb7\\xd5\\xd9\\xf6\\x04\\xb3\\x07\\x07\\xb7\\xe5\\xb1P\\xff\\x00\\xc5M`\\xdc\\x19\\x83\\xe1X\\xda\\xae,\\xac\\x10\\xc3\\xec\\xaf\\xe4\\xd6\\x1cV\\x80\\x88;\\x98;\\xd7\\xd1\\xf5\\xdd~<\\x98\\xa5\\xce\\xd3_\\x99\\xe4\\xf4}\\x0eLyb\\xedi\\xa6l\\x0c2Cbu\\x80*\\xf5\\x83\\xe0\\xd7\\xe3U6-%-\\x88\\x1c\\xb4\\xf2\\xabF\\xf4\\x00{k\\xe0\\xe4\\xb6}\\xa2d\\x99\\xfc\\xc5-+\\xdb\\xa7Z`\\x1d\\xb9}ta]\\x06\\xdb\\x1a\\xc8vLmpf\\xb4\\xdf\\xa5`\\xcf\\xc3\\x1c\\x00\\xad\\x15\\x178\\x9a5\\x1b|\\x9bG\\xee\\xad\\xbc\\x83\\xae\\xbe\\xcd+Q\\xfaR\\xa3?\\x06\\xf01\"Jq,A;\\xc7\\xf5\\t?ui\\x8f\\xf1#9\\xfe\\x13C\\xda\\xab\\xf5f$n\\xd91?\\xc4h2\\xa0m\\x97\\x94\\x80\\xa2\\xe24\\xf7+\\xf3\\xf0\\xa4\\xd9\\xa4\\x8b{\\x7f\\x0c\\x92\\x85H\\xd7\\xf7\\x8d-\\xa5\\x13f\\xebeC(q\\x04OXP\\x99\\xfb\\xab\\xad\\x9c\\xc3\\x11\\xb2eZ(\\x89\\x98 PT$\\x94\\xa3\\xe6\\xe8bf\\x94\\xa8J\\x86\\xa1\\x00\\r5\\xdb\\xf3\\xad,\\xc4\\xe5\\x911\\xb0?]\\x00&\\xee\\xed\\xdb\\xd1g\\xdf\\xe4\\x9b[F\\xec\\xda }\\x06\\xd4\\xa2\\'\\xccg:\\xfb)\\xa0D\\x18\\xd0\\x93N(\\x08$\\xc2\\x81\\x9es4aB`\\xa8\\x9du3\\xca\\x87\\xb1\\x148\\xfa\\x7fPA\\t\\xfa|\\xf9\\xc8\\xab+0\\x15f\\xd6\\xc6rl6\\xf0\\xefP\\xb8\\x90\\xa5Xr\\x01:\\xf7\\x9dg\\xe8\\x9a\\x9f`G\\xa9\\xb3\\xe2\\x80\\x02u\\xf2\\xcbH\\x7f!\\xf2\\x10\\x10\\xf2\\x94\\xaf\\x10#&\\xbb\\xf9\\xd1)}\\xd5\\xc0Sg1J\\xc2\\x92H\\xde\\x0e\\x9fe8\\xa2\\x00V\\xb0\\xa1\\xcb7:B\\x94$\\x80\\xad\\xfamU\\xc8\\x86\\x9dVgV\\xe2\\xe4\\x15\\xa9K \\x0e\\xa6~\\xfa\\x0bI\\xef\\x15\\xe7\\xca?<\\xfe\\xeap\\x90#P:\\xebI\\x90J@\\x822\\xf2$P\\x80\\x01 \\x81\\x9fQ\"F\\xc4\\x8e\\x7f\\x9f1N\\xab twEA\\xb0\\x91\\x978\\x00\\xf9H\\x1c\\xfd\\x94\\xde\\xc3pF\\xfa\\x18\\x9a}\\xf5\\xa9O\\x97\\x16\\xb2\\xb5\\xa9\\tR\\x96\\xaf\\xa4H\\x9dM/\"\\x0b\\x83\\x10\\x1e\\xe2\\xee\\x18h\\xee\\xac{\\x0e\\x07\\xdft\\xd5{\\x19\\x15\\xe3\\xefg\\x89+\\xe3\\xce\\x0c@\\x19\\xb3q.\\x18\\x00;\\x7fKg\\xf3\\xef\\xaf`\\xc01\\xacnv\\xac\\x9clc.&O\\xba\\x9a)2=\\xa3\\xed\\xa6q\\xcb\\x87\\xac\\xf0\\x9b\\xdb\\x8bU\\x04\\xbe\\xdb*Sd\\xa70\\n\\xe5\\xa7:\\x88\\xe6\\x1f\\x8a\\xa5\\xe6\\xd4\\x8ceE\\tZJ\\x90l\\x9b9\\x93\"D\\x88\\x89\\x1aMe\\xdb\\xb2\\xcb\\xda\\xe7\\x7fH\\xfe\\x0e\\xe2\\x0e+\\xc7xi|=`/\\x1b\\xb6\\xb3\\xbaK\\xab/!\\xbc\\xaaZ\\xda\\x81\\xa9\\xe8\\x93\\xf0\\xae\\x87\\xe4k\\x16\\xe3\\x061w\\x9ao\\xf9:\\xfb\\xcd]\\xa5:%(iI \\xa8I9\\xb5\\x90<\\xe2\\xbb1\\xf53\\xe9&\\xb2\\xc3\\x95\\xeb\\xf3\\xd1\\x8eL1\\xea \\xf1\\xcb\\x86r\\x03]\\x8b\\xf1\\xe3\\xd1\\x18m\\xaa\\x13\\xcf>\"\\x8f\\x8d[\\xe1\\xdd\\x82\\xf1\\x8b\\xb7v\\xca\\xc4Y\\xc3\\x93g\\xdf \\xdc\\x06\\xf1\\x1f\\x94-\\xe6\\xf1\\x04\\x9c\\x9111\\xe7\\x15\\xd2\\x1c?o\\xc4\\xf6\\xb7k<F\\x95_Z\\xb8\\x82!L5)#Q\\x94$\\xeev\\xd7\\xa0\\xa7K\\xf7V\\xab.bJ\\xb7dL\\xa5\\x84\\xb0\\x82\\xe2\\xfa\\x08\\x1f4y\\x9fp\\xad\\xf2{{\\xacj\\xad/\\xa2\\xff\\x00s\\x9e\\x1e\\xc8\\xe9\\xae\\xeb\\xfc\\xcdY\\x82p?iX-\\xb5\\xbd\\xb6\\x13}\\x86Y\\xd9[[\\xae\\xda\\xde\\xdd|Ax\\xebm\\xb4\\xa0@\\x01!\\xb1\\xa8\\x07\\xc2\\xa9%0 \\x80)h\\xe0n\\xd2\\x9bBP8\\x86\\xc8\\x04\\x88\\x00\\xf1\\x06&O\\xc7\\xbc\\xad\\xafn\\xfd\\xdd\\xdb\\x85n1l\\x84\\x92tU\\xb8\\xcc\\x7f\\x01\\xf5\\x9a\\x9c\\x10\\xfc|\\xd6\\xc7\\xfb!^{\\xf6\\x86V\\xef\\xfd\\x7f\\xd4\\xf4\\x17C\\n\\xaa\\xfd\\xfeG*\\xa7\\x02\\xbap\\xe8\\xda\\x13<\\x94\\xeaz{j \\xe1\\x9cA\\xab\\xf7\\x9dKaHQ\\x04\\x14\\x1c\\xc0\\xe8:U\\xce\\x93\\x15\\x93\\xe0\\xaa\\x9c=\\xbf\\x17\\xd2V\\xc7\\xce\\xba\\xa5\\xd4Nj\\x89\\x8e\\x18\\xc5\\xd9\\x8a\\xdb\\xe1wm\\x81,:LF\\x88=*R,.@\\x03\\xd5\\x9d\\xfe\\xe1\\x15\\x98\\x03#s4&N\\xe4\\x9fmr\\xb5f\\xfc\\x18\\x88\\xb2\\xba\\xff\\x00\\xe5\\x9e\\xfe\\xe5+\\xd4n\\xa3KW\\x89\\xeb\\x92\\xb2\\xc0|\\xcf\\xc6\\x8c\\x11\\xcc\\x9a\\x9e\\xd0\\xb3\\x18n\\xca\\xe8\\x1d-\\x9e\\xfe\\xe5j_I\\xd4\\x94\\xf07\\x08\\xa1R\\x87[\\xc5\\xee\\xc2\\x9b#\\xc4\\x02\\xad\\x8c\\x18\\xf7WB$\\x8d\\xe6}\\x86\\xb9\\xfb\\xd2\\xa8\\x03\\x80p\\xf9\\xd6\\x13\\x89\\xac\\x1dy\\x1be\\xd3\\x8a\\xa6L\\x9d\\xa3\\x9f,T=V\\xd8\\xecr\\xaa5\\xfe.\\xbf}.\\xd8\\xc3o\\x80\\x01\\tRw\\xdbs\\xce\\x98\\xc3\\xbcV\\xb6\\xf0\\xa9\\x80\\xad\\xb4\\xe6)\\xdbo\\xd8\\xbeU\\xa1\\x94\\x02O\\xb4\\xfc+\\xa7\\x93\\x01\\x85\\xc9*\\xdc\\x85I\\x99\\xdfz0H)\\x91\\xcf_=E\\x1a\\x92T\\xaez\\xa8\\x81\\xed\\x9f\\xf1\\xa0R[\\x93\\x04\\x10\\xadA\\xebR\\x03\\xf7\\xad\\xa1\\xa6\\xf0\\xd5%\\tI{\\x0eB\\xd7\\x951\\x99]\\xe3\\x82OS\\t\\x1a\\xe9\\xb50\\x9c\\xbd\\xdb\\x99\\xb3HO\\x866\\xcd<\\xf9\\xc6\\xfbyT\\x9cE\\xd4\\xad\\x8c\\x1a7g\\rCk\\x1dT\\x1et\\xeb\\xee\"\\xa2$\\x10\\x152r\\xc4\\x18\\x8aoL\\x11Q\\x8f)B\\xc0\\x15\\'7\\xca\\r\\x0fX1V\\x16_\\xfb\\xbd\\x94\\x99\\xd3\\xbb\\xd76\\xde\\x1a\\xae\\xc7\\xe3\\xf4w2\\n\\xc4\\x93\\xb6\\xc6\\xacmL\\xd85\\x97M\\x1b\\xd7\\xfdZ@=0\\x00#(=:\\xeb\\xadY\\xf0\\xdd\\x93X\\x97\\x13\\xe067^\\x1b{\\xccV\\xda\\xdd\\xc3\\x94FE\\xba\\x94\\x1d\\x0e\\xfb\\xd5jPU\\xe2Js @&v\\x8e\\xa2\\xac\\xb8f\\xe6\\xda\\xcf\\x8b8~\\xe6\\xf5\\xc2\\xcd\\x9d\\xbe/h\\xed\\xc2\\xd0%Hm/\\xa0\\xac\\x81\\xce\\x00${)\\xc7\\x95b|\\x15J\\x08Iu\\xb0\\t\\x08uh\\x12t\\x01+#\\xee\\xa5,\\x0e\\xed\\xb8\\xcc\\x16\\'4\\xc4\\x1dt\\x8e\\x9c\\xe8:Bn\\xae\\nL\\x83p\\xf1\\nN\\xb2\\x0b\\x8a#\\xea\\xa4(A\\x8f\\x9a>\\xca>\\x80\\x1aFTh\\x04\\xeb4\\xfb\\xc0\\xa5\\xc4\\xc6\\xfd\\xd3p\\x7f\\xd5\\xfc\\xe9L.r\\x99\\x1b\\x0e[\\x7f\\x8d<\\xf9%\\xfd\\x06\\xbd\\xd27\\x00\\x18\\xc85\\xa7\\xe4L\\x9f\\xd9\\x90\\xef;H\\xe0D\\xe5\\xd7\\xf9S\\x85H\\x07\\xfe\\xb6\\xcd{\\x03^@\\xf6Q\\n\\xedK\\xb3\\xe4\\xce\\xaa\\xe2\\xac*S\\xd3\\xf5\\xa6\\xa3\\xec\\xaf_\\xab5\\xc8\\xfc\\x15\\\\B\\xb4\\x8c5m\\xb8\\tK\\xca\\r\\x92\\x0e\\xd3\\xcf\\xea\\xaa\\x8cC\\x1c\\xb6\\xc5\\x02\\xb0\\xd2\\xb4\\xdb\\xbe\\xb5!@\\x07\\x01Q\\xca\\xa0\\xa8\\x03N\\x91\\xef\\xa9\\xbc\\\\\\xac\\xb8cz\\xc4\\xbe\\x91\\xf5\\x1a\\xe7\\xfe \\xed\\x9f\\x82\\xb8/\\x8do\\xf0\\x9e*\\xe2+\\x8c>\\xea\\xddI.0p\\xd7\\xdeBT\\xb4\\xa5B\\x14\\x84\\x11\\xf3H:\\x1d&\\xae\\x11\\xb9X\\xdf\\x07F\\xa7\\x16\\n\\xfe\\xab\\xfd\\xfa\\xc4\\xf8\\xab\\x82\\xb0\\x8e/\\xbeU\\xfe\"\\xab\\x86\\xeeE\\x82\\xec\\x90[RHB\\x14\\xb0\\xa2\\xa1?J@\\xadV\\x8fI\\xce\\xc9@\\x95q\\x92\\x87\\xb7\\x08\\xbd\\xff\\x00\\xfa\\xa8\\xc7\\xa5\\x17dI\\x92x\\xdd\\x00G\\xd2\\xc2\\xef\\x07\\xfeUo\\x8f\\xdec}\\xd0m?\\x95\\xaf\\xb1\\x9b\\xedzi3ip\\xff\\x00\\x06\\xe1\\x9c9n\\x8bl-\\xc7Y\\xb6\\r8\\x85\\xb4\\x90\\x00[\\x8bPR\\x9c:\\xe8dm\\xb6\\xa7\\xadOg\\x02\\xb2\\xb7T\\xb6\\xeb\\xb9\\xba\\xe5Mj\\x14\\xfaQvG?\\xf4\\xea\\xdf\\xdf\\x87\\xdd\\x0f\\xfc\\xba_\\xfe\\xd3\\x9d\\x9299x\\xf6\\xcf\\xff\\x00\\xe2\\\\\\x0f\\xfc\\xba\\xc2]*\\x93nI\\xb7\\xea\\xed\\xbf\\xcd\\x9b,\\xd2J\\x93K\\xf27J\\xae\\xb0\\xdb\\x04\\xb6\\x9b\\x85\\xb6\\xc1Y\\t\\nu\\xfc\\xb9\\x89\\xe4$\\xd3\\x8al\\x05+\\xe5\\x1c\\x1a\\xed\\x9c\\xe9\\xf5\\xd6\\xa1\\xe1\\x9e\\xd2\\xbb>\\xed?\\x89\\x18\\xc2\\xb8g\\x8a\\x93\\x8a_%\\xa5\\xba-\\x98e\\xc4J\\x11\\x05D\\x95\\xa0DO]g\\x9dn \\xa8\\x1c\\xc5\\x12\\xc3\\x18R\\xa0Rr\\xd9\\xca!]cNu\\x92\\xe0j&\\xc4\\x03\\xc9\\xc5iX\\xb0\\xdfZ\\xc90#6j\\xe5\\xf2\\xa7O\\x85BF\\xcd\\x96\\xe0\\xd1\\x83#C\\xf5R@\\x13\\xe5F<\\xc5\\x14M\\x87:\\t:\\xd1\\xcfSE\\x11G\\xa6\\x94\\xa8V(\\x1e\\xa6\\xb47\\xa5\\x08\\xcd\\xc3X2\\xb5\\x91\\x8b\"=\\xec;\\xf8V\\xf8\\xdb\\x97\\x95h\\xbfI\\xa4\\xe6\\xe1\\x0c9_\\xb9\\x8c[\\xcf\\xbd\\xa7E:\\xd1-\\xd9\\xcd\\xf8noUnA\\x88Q\\xd4i\\xca\\x9f`\\x90\\xdd\\xd4\\xa8\\x10\\x14\\x91\\x90\\x8f=\\xe7\\xe1Q0\\xb5\\x91f\\xd8\\xd4\\x03\\x98+\\xdb\\x02\\xa44a7I\\xcc\\x06\\xa9\\x82Lk\\x9b\\xfcj\\x88\\n\\x08Q\\xe63f\\xd8\\x19\\xa0\\xbf\\x19*\\xcd\\xb9\\x91\\xee\\xfc\\xedM\\xadp\\xb5\\xce\\xb0\\xa26\\xdb\\xd8hw\\x87a\\x96I\"5\\xa7\\xa5\\xa0a\\xe4\\x05D\\x13\\xafR:\\x9ety\\x04\\x1dA\\xe7\\xa5\\x07\\x12\\xe3Ik\\xbdB\\x90\\x1cd:\\xd9 \\xf8\\xd0f\\x14:\\x8f\\t\\xd4t\\xa2J\\xb3\\x82@\\x905Q\\x03D\\x8fo\\xb4\\x8d\\xe90E^:2\\xd8f\\xe5\\x9d?G\\xc8\\xff\\x00\\xca\\xa6\\xd8\\x9c\\xd6LB\\x81$#\\x9f<\\xb5\\x07\\x1cQr\\xc0\\x82\\x00\\x05\\xc4\\xef\\xef\\xa9\\x96J\"\\xc1\\x92`\\xf8Q>g-\\x1e@\\x98\\x92KjI$\\xccjF\\xddi$f$\\xe6\\xd0\\xeb\\xaa|\\xfe\\xcaAqZ\\xc8O\\xe4\\xd3\\xd6\\x8c\\xbf}\\x7fmil\\xd9v\\xe2\\xe5\\xe42\\xda\\x02I*R\\xc8\\t\\x1and\\xd0\\xb8\\xd0\\r\\x94I\\x10f\\x0e\\xa0\\r\\xfc\\xa9+@0b`\\xc8\\x8a,\\xc4\\x0f\\x12aBF\\xdc\\xc1\\x8f\\xb4\\x1a\\x0e\\x82\\x80\\x85(e\\xcf9U\\x1a\\x18\\xd0\\xc5\\x1c\\x03\\x0eCyey`\\xe8\\xb0\\x9dG9\\x8e\\xa2\\x97xf\\xe1j\\xcf\\x9f\\xc0<E$f9F\\xf3\\xb7Zk1($\\x0c\\xb1:\\x01\\xb5*\\xe0\\xfc\\xaa\\xa0\\xcf\\x81% \\xeb\\xb2E1Qu\\xd9&\\xbd\\xab\\xf6w\\'S\\xc5Xg(\\x9f\\xd6\\x1b\\xfc\\x05z\\xf5^A\\xf6A*\\xeds\\xb3\\xa0\\x01#\\xf9S\\x87\\x19\\xff\\x00l\\x9f\\xc2\\xbd|\\xa9C\\xf0c\\xbcd\\xac\\xb8k\\x1ew\\t\\xff\\x00\\x85U\\xc0\\xbd\\xba]9k\\xda\\xa7\\x1c\\xdc\\xb0\\xa56\\xa6\\xae\\xec@ZTA\\x07\\xd5\\x9a\\x04H\\xea\\rw\\xbf\\x1a\\x9f\\xe6\\xfbQ\\xd6\\xe4\\x7f\\xc2\\xaa\\xf3\\xff\\x00\\xb7\\x07[_i|\\x7f\\x9cw\\x93\\x8b\\xd8\\xb6Q%!_\"\\xd71\\xb1\\x1f}vt\\x7f\\xe2\\xfe\\xfeF9\\xd5\\xe2h\\xdc\\xf8Gd\\xa9*\\no\\x1d\\xc6\\xeds\\x8d\\xbdl\\xce\\xb1\\x15i\\xc3\\xdc>\\xee!~0\\xb3\\x89\\xe2\\x0c*\\xc7\\rmKP|K\\x9f\\xac8\\tV\\x9a\\x929\\xd6wd\\x18K\\xe1\\x08l\\x00\\x14\\x00\\x85\\x9d+\\x1a\\xe1lG\\'\\x19\\xe2\\x05\\x8c6\\xe4[\\\\\\xe0\\x8d<\\xe5\\xda\\x9cGv\\xd3\\x82\\xe5\\xd4\\x86r\\x18\\\\\\x90\\n\\xb3DF\\x87X\\xadWQ9Fv\\xf8_\\xa9\\xe9\\xce1\\xc4\\xd7dR\\xfe\\xc4\\xd3\\xc2m\\'\\x12m\\x93wy\\xdd\\x86\\x9dx\\xa3\\xbe!$\\x01):\\r\\x08=>\\xba\\x93g\\xc0\\xde\\xb2\\x8b_\\xd2\\x1c\\x13\\xc4\\xf7\\xa9\\\\\\x07..1\\xf6\\t)$jR\\x16\\x9d#\\xa0\\x06\\x07Zq\\xacv\\xed\\xfe1z\\xd5\\xfc4\\xb3b\\xde\\x0c\\xa7\\x1b\\xc4C\\x88\\xee\\xdcp\\x95fk$\\xcc\\xa5 *H\\x8db\\x98\\xb3\\xb4R0\\x8f\\xd2MZ`\\xf7\\x96\\x16\\xec\\x05\\xae\\xe9\\x8c\\x15\\x87t\\x11\\x9a\\no5#\\xc8}\\x950\\xcb9.}=L\\xf2\\xa8\\xc9[H\\xa4\\xe0<9\\xcb>\\xd6pVT\\xd1`[Xb\\xa8)Y\\nX\\x85\\xa1!*#r\\x9d\\x81\\xf3\\xae\\x80\\xf7\\xd6\\x95\\xe0\\xa5[\\xddv\\xb3osh\\x96\\xd2\\x95\\xe0\\xb7n\\x8e\\xee\\xdc\\xb2\\x92\\x14\\xe3`\\x10\\x82\\xa5G>f\\xb7H\\x14uro\"o\\xd0\\xe1\\xc4\\xbb#H\\xe5\\x04\\x9a\\xc8\\xf8{[g:\\x07\\x0e\\xde\\xc1X\\xda\\'I\\x1a\\x8e[\\xd6G\\xc3\\xc4\\xfa\\xbb\\xfeN\\x0f\\xb2\\xb8\\xe8\\xe9l\\xbaH\\xdfJT~f\\x92=\\xb4\\xa8\\xfc\\xefN\\x89l\\t\\x83\\xb1\\x9db\\x92\\x97\\xdbq\\xc56\\x95x\\xd2|@\\x88\\x8ar\\x01\\x1du\\xde\\x8f.\\xfaO\\xdbGh\\xacI\\x024\\xad/\\xe9\\x1e\\xd8s\\x83\\xad\\xc6\\xf9q[#\\xa9\\x8d\\xc3\\xa2\\xb7I\\x04\\x9d\\xabPzDJ8\\x1dN\\x10\\x95%\\x18\\x95\\x81 \\xed\\x05k\\x1f}9GD^\\xceQ\\xc3\\'\\xd5\\x90Rt\\x95nv\\xd0T\\x86\\x81\\x8b\\xd1\\xa9\\xd1:O\\xf1\\nc\\r\\xf0\\xdb\\x94\\x89\\xf0\\xb8D\\x91\\xca*C\"=o]`\\t\\xff\\x00XTQC\\x0e\\x02\\x14\\xa3\\xaf83@\\r\\x88$\\xfb4\\x9f\\xcf\\x95\\x1b\\x80\\x05/\\xc3*\\x99\\x06)N%%D6!$\\x08\\x19`\\x11\\xec\\xa4\\x80\\x95\\x8a+;x\"J\\x94\\xbc\\xb8Si \\x88\\x8f\\x96w\\xc3\\xec\\xd7\\xeb\\xa8aj\\x00\\x84\\xa8\\xc2\\x86U\\x0c\\xc4H\\xde\\x0f\\x96\\x83JS\\xabS\\x9d\\xd0p\\x98e\\xbe\\xed&d\\xc6bc\\xfd\\xe3I\\xd6\\x0c\\x8dI\\xe8E6\\xed\\x8b\\xc1Y\\x8c\\x98\\xc3\\xe4\\xfe\\xf2H\\x93\\xbdK\\xb0\\xfe\\x80\\xd0:\\x1c\\xad\\xfb>mD\\xc5\\xc1\\xf5\\x1dIL\\xad>\\xea\\x95a\\xa5\\x839@H\\x86\\xf6\\xf6oH\\t0f\\x0e\\xf2\\x08\\x93&\\xad\\xf8Y\\xd4Yqw\\x0e=s\\x9c7o\\x8cZ8\\xe6H*\\tK\\xe8&=\\xc0\\xd5l$2\\xb3\\x94%s)\\xd3\\xec\\xa2K\\xdd\\xcd\\xe2n\\x1a\\x04)\\xb7\\x83\\x89$\\x1dH3\\xf7P\\xb5\\xb1\\xbd\\xe8i_\\xb7t\\x98\\xd5\\xf7H3\\xbf\\x8dGQ\\xec4K\\'\\xc0\\x95\\x1d\\x131\\x1b|>\\xda\\x0b\\xf1-Z\\x8dTN\\xb3\\xd6h\\x97\\xaa\\x95\\x10\\'\\xaf\\xdb@Pfr\\x02v\\x1f\\xc5\\xb5*\\xeb\\xf6\\x8e\\x81\\xb6A\\xb7\\xf6E$\\xe5(\\xf1N@5\\x03z;\\xcf\\xda;\\xa10405\\xf0\\xef@Q{\\xd8\\xd8\\x9e\\xd8;8\\x06#\\xf9Qa\\x1e\\xe7\\x01\\xfb\\xab\\xd7\\xaa\\xf2\\x13\\xb1@U\\xdb/f\\xe0\\x12\\x82x\\x9a\\xcbT\\xef\\x01[k\\xe4\\x08\\xf6\\x13^\\xbb\\x14(\\xcf\\xca\\xac{\\x87\\xe1Qt\\xc4\\xb81\\xde5\\xd6\\xce\\xc8\\x7f\\xd6\\'\\xfd\\xc5W\\x9e\\xbd\\xb2:\\x0fj|~\\x1d\\nSj\\xe2KD\\x10\\x95\\xe52\\x1ah\\x0eF\\xbd\\x04\\xe30\\xa45b\\x14\\xe2\\x96\\x0b\\xca0@\\xfd\\xdf!\\\\\\x05\\xda\\x05\\xab\\x98\\xefk\\x9c}`\\xc9i\\x0e+\\x88\\x8b\\x88R\\xa6s4\\xda<>\\xc3\\xf6\\x8a\\xed\\xe9?\\xc4\\x14\\xe2\\xe7\\x1e\\xd5\\xbb:\\xe1\\xb5#\\xbfpwn\\x1f\\x1c~\\xd0~\\x15\\x8b\\x8b\\x86]\\xe3n)\\xc3\\x13\\x89\"\\xdb\\x11^\\x15h\\xebi\\x0e\\x02\\xf3M\\x15\\xae\\x16\\x13\\xcd2bz\\x98\\xadd\\xf7j\\xdcW\\x84!\\x91ym\\x82\\xad\\xd7\\x02\\xf2\\xa9kpg))\\x04\\xe9\\xa4\\xf8\\x87\\xd75\\x84\\xe3}\\xac\\xe3\\x17x\\x85\\xa6.\\xcd\\xf2p\\x97\\xefm\\x03w\\x96\\xe8\\x0c\\xa9_&\\x14\\x91\\x91JD\\xe4\\x0b\\xd4\\xa0\\xcc\\x89\\x13\\xce\\xb4\\xc5\\x82I\\xc97\\xca\\xfdQ\\xe8fj[\\xf4:A\\x18\\xbd\\x92\\xf1\\xb3f\\xce#n\\xe6#ga\\x9e\\xe5\\xa4\\xbe\\x12\\xf0\\x05\\'*\\xd6\\x91%\\x01PHP\\xf3#j\\xb6\\xba\\xb5\\xc4/xw\\x10\\xb9U\\xfe.\\xfd\\xa7\\xa8\\xadjP\\xc6\\xed\\xae\\x19p\\x04f$\\xe5i%\\\\\\xb5\\x07Q\\x11ZG\\xb3\\x9e)\\xbc\\xc5xN\\xc3\\x16\\xbb\\xbbo\\x14\\xc5\\xd8\\xbc\\xb8\\xb5\\xc4\\\\\\xb6Sv\\xae)\\xb2~G*\\xf2\\x85\\x04\\xeb)\\x8c\\xd9L\\x91\\xd2\\xb3\\x1cC\\x8a[E\\xbb\\xac\\\\;x\\xfd\\xe3\\xf6\\xaf$<\\x9e4\\xef\\xc0\"G\\xca\\xdb\\xe4JB\\xf7\\xcc\\x8c\\xa0L\\x81\\x1c\\xae\\x10\\xed\\x95&g\\x91\\x7f.\\xe8\\xbe\\xec\\x84\\xb9q\\xda\\x03n8\\xac\\xc9o\\x85\\x94\\xad\\xb5\\x05w\\t\\x06\\x7f\\xbb[\\xe3\\xf3\\xb5s\\xc7aw\\x06\\xeb\\xb4\\x1cID\\x08k\\x85m@\\x831\\x9e\\xe1F\\'\\x98\\xf0\\xd7C\\xfew\\xa5\\xd6\\xaa\\xce\\xd1\\xc1\\x8d\\xdc\\x139=\\x1b\\rt\\xac\\x8f\\x87c\\xba\\x7f]\\x96=\\xc2+\\x18C\\x89;\\x1c\\xd24\\x8a\\xc8p\\x07r\\xa6\\xe32\\x16\\x80Jc0\\x8e\\xb5\\xccl\\xcc\\x88E((t\\xd2\\xa1\\xfa\\xd0\\x03\\xa6\\xbb\\x9a\\x06\\xf29\\xc5\\x04\\x93\\xb3@\\xda\\x8c\\xaf\\x7f:\\xadU\\xf4\\x023\\x00|\\xe9\\x971\\x00>\\x96\\xbe\\xdaV\\x85L\\xb5\\xef\\x0c\\xef\\x15\\xa8}\"\\xe1]\\x9d\\xe2j\\x91\\xf2w6\\n<\\xff\\x00\\xaf\\x03_\\x8dlO\\xd2\\t\\x9d\\xd5Z\\xf7\\xb7R\\xc5\\xd7d\\xfcF\\xea\\x91.!Vj\\n\\x93\\xb0\\xb9G\\xe2iJJ\\xa8J.\\xceO\\xb1T7\\x04\\xc1\\x0b:\\x111\\xa6\\xd4\\xfbeY\\xef\\x13\\xaeR\\x8d\\xba\\xc1\\x1aT[3\\x91$j\\x08T\\xfdT\\xf3D%\\xcb\\x90#Ft\\xe5:\\x8eU\\x8f\\x83O!)\\xc0I\\nT@\\xf3\\xde\\x8c8\\x98&t\\xdfi\\xa6V\\xa3\\x98\\x89\\x93\\xac\\x19\\xa2I\\xd4\\x14\\xf9j5\\xa7z$\\x7f6\\xd3\\xae\\x9b\\r\\x7f?\\xe3J$k\\xa8\\x94\\x90v\\xdb\\xe1N_\\xb5l\\xc5\\xae\\x06\\xbbp\\xae\\xf1\\xfb%\\xaa\\xe6\\x15\\xfdh\\xb8q\"?\\xd4\\x08\\xd3\\xdbL\\xb4P\\x90\\xb0\\xe2I%\\'&S\\x00*t\\'\\xa8\\xdciM\\xe8\\x16\\xca\\xfcic\\xd4I\\x00\\x93\\x9d<\\xf7\\xd3\\xeb\\xe7R0\\xf5E\\x9bD\\x98\\x04#\\xcf\\\\\\xb5\\x13\\x161d\\xa0u9\\xd3\\xf1\\x9a~\\xc4\\x93\\x87\\xb2`|\\xd4{\\xf4\\xdb\\xca\\x90\\xfc\\x93\\xf3\\xa7)\\x82\\x0cl5\\xd66\\xa4\\x05$F\\xba}\\xb4\\xd1T\\x19=fF\\x9a\\xfe~\\xea\\xb2\\xe1\\xd6l\\xee\\xb1\\xfc:\\xdf\\x15R\\x91`\\xeb\\xcaK\\xea\\n\\xd4x\\x15\\x1a\\xff\\x00h&\\x85oA\\xc1\\x05J\\xdc\\x13\\x02#h\\xa2.A\\x12\\xa0\\x01\\xfe)\\x89\\xa8\\xac\\xa9j\\xb6eN&\\x1c\\xca3x\\xb6$k\\xec\\xa7\\x1eR\\nZ)IB\\xc2\\x0erN\\x8a3\\xcb\\xdd\\xa7\\xdfOb\\x1c\\xef\\x0b\\x7f(\\xda\\x8aV\\x83\\x98(h\\xad\\x0e\\xff\\x00\\x1a;\\xff\\x00\\x0b\\xf7@\\xef\\x04\\x1d7\\xd2\\x99\\x92\\x19\"\\x01 \\x1eR`\\x8aw\\x14$\\xdd^\\x12I \\x9e~T\\xb7c$vm\\x7f\\x88a]\\xa1\\xf0u\\xff\\x00\\x0fX3\\x8a\\xe2\\xf6\\xd8\\xd5\\xbb\\x96Vn\\xbd\\xdd&\\xe1\\xd0\\xa8Ke\\x7fFf\\'\\x91\\x89\\x9d\\x8f~\\xa3\\xb5\\xae\\xde\\xae\\xc96\\xdd\\x92`\\x16rL\\x0b\\x9e(B\\xa3\\xdb\\x00W\\tv(\\xd9w\\xb6N\\xcd\\xd2<?\\xe5\\x15\\xa4\\xf9\\x99&\\xbd1\\xef\\x1dmd\\xcaI$\\xf2\\x15\\xcb\\x9eRRTm\\x89E\\xad\\x98\\xd7\\x0c\\xf17h\\\\B\\x9b\\xb4v\\xab\\xc3XG\\x0f\\xae\\xddm+\\x0e^\\x17\\x88z\\xd2n\\x02\\x82\\x83\\xa1Z\\x92\\x92\\x98Lu\\xcczI\\xe3~)\\xc5\\x95a\\xdbW\\x1d\\xdd\\x97ChO\\x11\\xdd\\x85\\x15\\xac\\xa1)\\x80\\x90\\tP\\x04\\r\\xa3\\xdb\\x15\\xddO\\xba\\xe3\\xaaGx#,\\xc1\\x07\\xd9Z\\x97\\x1e\\xf4z\\xec\\xef\\x16\\xfeVq.+\\x84\\xe2\\x17\\x18\\x9b\\x88\\xbb\\xc4\\xde#\\x1b\\xb9i\\xb5\\xbd\\x91N\\x1f\\x02\\x14 \\x12\"\\x06\\xc2\\xbbz\\\\\\x8e)I\\x917\\xdb/\\x85\\xf0h\\xab\\x8e&\\xb7\\xc6\\xadl\\xac8\\x85\\xd6\\x97j\\x8cI\\xab\\x97.ZJ^Op[t*\\x16v\\xf1\\x14fO=:T\\x13\\xc7\\xc9\\xc0Wj\\xed\\xf7\\x0ea\\xdcT\\x85Z\\xb5n\\x9b\\x17\\xdbB[\\xb7!EEq\\x95r\\xa31\\xc8\\x8fa\\xaa\\x0bFxe\\xfbV\\x14x*\\xcd\\x1d\\xe2\\x12\\xa2\\x94\\xe3\\xf8\\xa4k\\xae\\x9f-O&\\xd7\\x87\\x08\\xf0\\xf0\\xa3H\\x13$\\'\\x1f\\xc4\\xa2}\\x9d\\xedz\\xaaO\\xc2\\xfb\\x04\\xfa\\x89N4\\xcc\\xfa\\xdb\\xb4\\x9c6\\xf2\\xd3\\x08S\\xd8\\x12pv\\x12\\xe2\\xdfr\\xc6\\xde\\xd8)\\xb6ITe\\x1e\\x009L\\xe5\\x1f;\\x9d]5\\x8epu\\xcb\\xcf^+\\x1e\\xe2Kg\\x1fy\\xc7\\x1eJ\\xf0KG\\x82B\\x959J\\xb3\\x05\\xa8k\\x01[\\xc0\\x13\\xa8\\xad^\\xdd\\x8e\\x04\\x07\\x87\\x02[c\\xe8\\xe5\\xe2\\x0c@G\\xfd\\xed8\\xc6\\r\\x82\\xdd\\xddZ6p\\xbb\\x90\\x97\\x9fi\\x93\\xfc\\xfbzL)a1\\xaa\\xfc\\xfe5K\\xb2\\xeeQ\\x7f\\x9a&}FW\\x04\\xa2\\xd6\\x8e\\x90\\xf4v_\\x7f\\xc7|^\\xb0<\\x0cp\\xfe\\x14\\xdaH\\x11 \\xb8\\xf1\\x9c\\xbfFcnU\\xd1\\xb2zV\\xbb\\xec\\xd7\\xb2n\\x1b\\xec\\xba\\xeb\\x19W\\n\\xfe\\x94+\\xc4\\x03m\\xdc\\x9b\\xfcEwR\\x1b*)\\xcb\\x98J~q\\xac\\xf9K!DF\\xc7\\xa5pu9\\x16\\\\\\x8e~\\xa68\\xe2\\xe3\\x14\\x99\\xcd\\xe2\\xf2\\x13\\xe0\\x01 t\\x14\\x15x\\xa9\\x89\\x9f:\\ra\\x17kH\\x96\\xd0\\x83\\x1fI\\xd1\\xa7\\xb8M8\\xac,\\xb3\\x1e\\xb3un\\xc7\\x91\\xcc~\\xd8\\xae\\x07\\x9a+\\xc9\\xdf\\xee\\x9f\\xa0\\xc1\\xba^\\xa6H\\xf7\\xd3f\\xe1Q\\xa1\\x06\\x9dP\\xc3YNg\\xb1D\\x81\\xfc\\tO\\xe2M)\\xa5\\xe1\\xef\\x10-Q\\x7f{\\xd3#N\\x10~\\t\\x1fmG\\xbd^\\x07\\xee\\xd8\\xc7z\\xb3:\\x98\\x8eZSKt\\xcf\\x89q\\xef\\x15t\\x8c2\\xe1\\xd0\\r\\xb7\\x0f\\xdd\\xb9?I\\xf0\\x10#\\xda\\xa5\\x1f\\xb2\\xa47\\x80c\\x0e\\x11\\xdd\\xe1\\xf8}\\xa0\\xdb\\xe5\\x1f\\xcc~\\tO\\xdfY\\xfb\\xd4\\xbc\\x07\\xbb1\\xd4,\\x1dA\\xcd\\xb6\\xc0\\x9f\\xb2\\xb1~\\xd7X[\\x9d\\x92\\xf1g\\xc9\\xb9\\t\\xb6ez\\xa0\\x81\\xa5\\xc3pkm3\\xc3\\x18\\x8a\\x80\\xf5\\x9cR\\xd5\\x81\\xd1\\x8bR~\\xb5\\xab\\xee\\xacg\\xb6\\x1e\\x17C}\\x8e\\xf1\\xdb\\x8b\\xc4\\xee\\xdfq\\xac\\x1dn\\x84\\x9c\\x89A\\xca\\xe2\\x0c\\x14\\xa5;iK\\xdf[\\x07\\x8a\\x91\\xc3V\\xe4\\xca\\xe3@\\t#_o\\xdfN7%w<\\xe5\\x9dU1#O\\xc2\\x9bIBR\\nH \\xa8\\xcc\\xaay\\x9d(6Gx\\xf0\\x80Gr@\\x8fv\\xbf\\xe1]k\\x83\\x95\\xf2\\x13\\x9b\\xac\\xf4\\xdb^\\xb4\\xa5\\xf83j\\x15)\\x19\\x7f\\nl\\x89\"S\\xac\\xf3\\xa5o\\x13>Z\\x1f\\xb6\\x98\\nyc\\xb8\\xb4\\xca\\xe0Z\\x83*\\x05#\\xe8\\x9c\\xe7O\\x86\\xbe\\xfaBV7\\x1a\\t\\xd2LP ~\\xec\\x0e@\\x9f\\xcf\\xe4R\\x80\\x02r\\xea\\t\\xd6i\\xb2|\\x95\\xd8\\xb2\\xbfQ^\\x83\\xc2\\xa4\\xcf\\xc6\\xa4\\xd8\\x91\\xfa>\\xdd#(\\x84\":{\\xe9\\x8c\\\\\\x01d\\xb2\\x990\\xb4\\xc4\\xeb\\xcf\\xec\\xa70\\xe86,\\x0c\\xbe\\x10\\x94\\x11\\xae\\xbb\\x1a\\x18\\x13r\\x8e\\xe9Nf\\x92\\x91\\xb6\\xc4\\x1f\\xc2\\x9e\\xb1V\\\\J\\xdc\\xbc\\xe8e=\\xe7\\x89[\\x81#B|\\xa6>4\\xc4\\xf8H\\x03M\\xf5>\\xde\\xb4\\x88Nc\\xe7\\xb9\\x9f\\xae\\x80ch\\x94\\xa5\\x02%Q\\xd7o/\\xb6\\x82\\xc9\\xcc\\xa2\\x88\\xdc\\x9d?>T\\xb8H\\xd0\\r\\'\\xae\\x86\\x9aV\\\\\\xc3y\\x1a\\xc9\\xfch@\\xc5*H\\xf0\\x82\\xa9I\\x00\\x01\\xac{)\\xdcID\\xdd^B\\x84\\xe6Q\\x1at\\xa6\\x86Te\\xccN@g\\xc2A\\'\\xf3\\xd2\\x95\\x88\\x10\\x1f\\xbc\\xcb\\xa7\\x88\\x81\\x1bQ\\xae\\x06e\\xde\\x8fLz\\xc7n}\\x9b\\xa0\\x99\\x8ci\\x0e\\x7fu\\xb7\\x15\\xf7W\\xa9o`\\xc9V\\xc0\\x1fp\\xaf1\\xbd\\x18\\x9bK\\xfe\\x90\\x1d\\x9f$\\x89\\xfepy_\\xdd\\xb4|\\xef\\xee\\xafW{\\xb4\\xa9\"@\\xda\\x89E5\\xb2Si\\xe8\\xd7x\\xc5\\x90\\xb2y\\x80$gJ\\x8cL\\xf3\\x15G\\x8a\\xab\\xbb\\xe0\\xbe0r`\\xa7\\x06\\xbe3\\xd3\\xe4\\x17Y\\x7f\\x19\\xa7-\\xd5\\x88\\xd8wnm\\xedMa\\x1cF\\xbe\\xeb\\xb3\\xae8wP\\x06\\x07}\\xaf\\xfb\\x05\\xd3\\x84TRHm\\xb6\\xce(\\xe1\\x8b\\x1b[\\xcc5b\\xe9\\n[\\x88C!\\xa2.\\x0b{\\x8dt\\xe7;N\\x90y\\x89\\xac\\x89\\x18\\x06\\x16V2&\\xe1@)@\\xfe\\xb9\\x066\\xcb% \\x03#ND|j\\xaf\\x84\\x1c,\\xda8{\\xde\\xe8\\x82\\xd0\\x070\\x8d\\x13\\xa8#\\xa7\\xe7\\xaddl8\\x90\\x1fm*\\x92T\\xae\\xf5kY\\x00)Fcm\\x81\\x98\\x06|\\xa7c\\xea\\x99\\r\\xdb\\xf0\\xe6\\x19\\x97U\\xba%\\xc8\\n7`\\r\\xc0\\xd8\\xa7_\\xaa\\xa0Y\\xb2\\xd7\\xf2\\xa7\\r\\xb6\\xb6i\\xc6P1Kf\\xf2:\\xf7z\\xa9\\x0f$\\x1f\\x16T\\xe8w\\x00\\x8a\\xcam\\xd6\\xe3\\x8aA+Q\\xd4\\x90\\x95:\\xa3\\x13\\xbf(\\x8f\\xb2O(\\xaa{%\"\\xef\\xb4\\\\\\x11\\r!\\xc4\\x91\\x8cZ4\\xbc\\xea\\n\\x95%\\xc4\\x89\\x06\\x01\\x88\\x03z<\\x8f\\xfe\\x93\\xb9\\xad\\xd4}b\\xe7\\xfd!\\xfbh\\x9c|\\xa5\\xc5\\x8e\\x8a\"\\x85\\xa89\\xdeQ\\x06\\n\\xcf-*\\xbe\\xe6\\xe1i\\xb9x\\x04\\xc8\\x0bV\\xb3\\xe7^NGF\\xb15#|\\x19\\x87\\xea/1\\x1cN\\xf3RHU\\xd6P}\\xc2\\xa6[\\xf0\\xa7\\x0e\\xda\\xea\\x8c1\\x95\\x9d\\xe5\\xc2\\xa7\\x0f\\xd6iM\\xba\\x08\\x00s$\\xc0\\xa7\\x83\\xb3\\xd4\\x8a\\xf1\\x96Iz\\x9e\\xdb\\x82&\\xb2\\xcd\\x85\\x98\\x1e\\xaben\\xca\\x87\\xee\\xb2\\x90~\\xca\\x95\\xeb\\x8a \\r`\\x1d\\xb3\\x11U\\xc9R\\xb9\\xc8\\xa5\\xa5s\\x11\\xcet\\xa9\\xee\\x17m\\x13\\r\\xca\\x80\\x99H\\x9f/*g\\xbeR\\x8e\\xab:s\\xa6T\\xb0w1\\xa5\\x103\\xed\\xf2\\xa7d\\x12\\x92\\xaf0+\\x19\\xed]\\xbe\\xfb\\xb2N\\xd0\\x11\\xb1<=vb:&~\\xea\\xc8\\xd2u\\x8f\\xaf\\xa5Sv\\x80\\xdf\\x7f\\xd9\\xc7\\x1b\\xb7\\xac+\\x87\\xaf\\xe7\\xdc\\xc2\\x8dTyD>\\x0f<;\\xc2\\xe3hY\\xf1\\x1c\\xc4\\x9d|\\xf4\\xd6\\x89\\xb5~\\xb0\\xe6h\\xd5\\x95i\\xe7\\x15\\x1d\\x85\\x850\\xd2\\x88&@;u\\xe4i\\xc6\\xcf\\xeb\\x07]{\\xb5\\x08\\x8f#^\\xa4x<\\xd9r6\\xa5\\x05\\x1d\"\\x04\\xeeu:R\\xf3\\x1d|Q\\xa4j\\x7f>\\xcairA\\x9dDI<\\xbd\\xb4\\xa3(\\x037\\xb8\\x01\\xcb\\xed\\xab\\xd9#\\xa7\\xc2\\xcb\\x0e\\x95\\x01\\xde)c\\xcce1\\xaf\\xc6\\x94\\xd9\\xefT\\xa0\\x95\\r\\x8a\\xb5TN\\x93\\xef\\xa2x\\xc5\\x8d\\x91\\x03\\xe9<\\x15\\xcc\\x1f\\x12b\\x056\\x14u\\xccc^\\x9f\\x9et=\\x08\\x89\\x89\\xa8\\xfa\\x9a\\xe6~rI\\xf6\\xcf*v\\xc5g\\xd4-\\xcc\\x04\\x94\\xa1\\x030\\xe7\\xb8\\xde\\xa3b\\x84\\xfa\\x92\\xa0\\x0f\\x9c\\x9fv\\xbbO*r\\xc1C\\xd4Y\\t3\\tH\\x1b\\xed\\xec\\xf8S\\x06L\\xceB\\x0e~cJ\\x95\\x87\\xda\\xaf\\x11\\xbfb\\xcd\\xa5\\xa1\\nyJJT\\xe1\\x84\\xc8IV\\xe7\\xaeX\\xf7\\xd44\\x82\\x02\\x8cB6\\x90\\x9d\\xaaf\\x12R\\xacR\\xd88\\x14P\\n\\xe4\\x01\\xaf\\xccV\\xd4\\x01\\x11/w\\x8d\\xa1G\\xc4\\x16\\x8c\\xdb\\xfb\\xfd\\xdb\\xd1\\xba\\x14\\x957 \\xc2\\xd3\\x98y\\x83M2T\\xa6\\xda\\x9d\\x8aA\\x90$l(\\x13&v\\xd3~\\x9f\\x0f}\\x00\\xc5\\x92\\nAQ\\x00\\x98\\xd3\\x9d\\x1d\\xf2\\x8e{\\xb3\\xa2HR\\xe7]\\xb9\\xd2s\\x99\\x04\\r\\xc8\\x80dQ\\xe2\\x0b=\\xe5\\xd9I;\\xae\\x00\\x11\\xcc\\xe9Mr#g\\xfa) 9\\xe9\\x11\\xd9\\xf8\\x81\\xa5\\xc5\\xe2\\xb5\\x8d\"\\xc6\\xe2+\\xd5a\\xb0\\xaf,=\\x13\\x13>\\x91\\xbc\\x02 \\x8c\\xaa\\xc4\\x0f\\xb2,n4\\xfa\\xeb\\xd4\\xf4\\xfc\\xd1\\xec\\xa7/\\x02\\x89\\x86\\xf1\\xa1\\xfdr\\xce92\\xb3\\x13\\xfcI\\xad]\\xc46\\x8eZv_\\xda\\r\\xc2\\xdd\\x91\\xfc\\x9f\\xbeFPO\\x88\\x96\\xcf\\x88\\xf9\\xfb+g\\xf1\\x99\\x1f\\xa4-\\x81\\x9d\\x18Q\\xff\\x00xV&0\\xdbL\\x7f\\x87\\xb1l\\x17\\x13K\\xaa\\xb0\\xc4\\xd8r\\xda\\xe42\\xe1m}\\xda\\xc4+*\\x86\\xc7\\xce\\x9c]\\x14p\\xce\\x19\\x8a?\\x864\\x05\\xa8n\\tJ\\xbcy\\xa4\\x10\\x00\\xe4G/mX\\xa3\\x89\\xaf|%IiYS\\t%n\\xe8\\x9e\\x9f>\\xbay\\x1e\\x8d}\\x9e\\x00\\x02X\\xc7\\x93\\xa4\\x7f\\xef\\xa5\\xe9\\xfe\\xed<\\x9fF\\xae\\xcfA\\xd1\\xbcx\\x7f\\xfb\\xca\\xff\\x00\\xfak\\xb9e\\x81\\x939\\x91\\\\Aqsj\\xed\\xb5\\xdd\\xb5\\x9d\\xc3\\x0e\\x1dR\\xea\\\\!=#\\xc7\\xa4\\x1dF\\xff\\x00\\r*\\xc3\\x80\\x1a\\xcd\\xc7|&\\x80\\x00\\x1f\\xa6-\\xa0{\\x15<\\xbd\\x95\\xd2\\t\\xf4m\\xe0\\x004N<:\\x7f</\\xff\\x00\\xa6\\xa5a}\\x85p_\\x0f\\xe2\\xd6\\x18\\xae\\x1c1\\x81y`\\xfa_c\\xbe\\xc4\\xcb\\x88\\xce\\x99\\x8c\\xc9)\\xd4k\\xb5?{\\x1a\\xd0;\\xa34\\xc1\\xf0\\x8cC\\xf9Gw\\x8a\\xdd\\xe2Jv\\xd5Am\\xb1n\\x92\\xa4\\x80\\x95\\x10ai\\x9c\\xa4\\x824P\\xd6\\x9c\\xbd\\xc5V\\xdd\\xe5\\xc2?D^;\\x95\\xd5\\x0c\\xe9BaZ\\xee*\\xef\\x0f\\x03\\xb8\\'\\xa95\\x94\\xa1\\xb1\\x91:\\x13\\xa0\\xd8\\xd7\\x06O\\x88\\xd2.\\xb99\\xb5\\xbb\\x92@\\xf0\\x92\\xa8\\'\\xe7T\\x96\\x9cR\\x88!1\\'A\\xbcUZs\\xda\\\\=n\\xff\\x00\\xcfe\\xc2\\x92\\x0729\\xfc \\xd5\\x83K.\\x90U\\xae\\x9c\\xf5\\x8f}|\\xf2>\\x8d\\x92\\xd0\\xaeg_g:}$\\xf3\\xdc\\xf5\\x1a\\xd3\\r\\x01\\xa1&\\x0f\\xb2)\\xf1\\x00}gM*\\xd21l\\x1a\\xc9\\xd4\\xe9\\x14\\xb4\\xa4\\x98\\x92O\\xe1\\xce\\x90\\x93;i;\\x0e\\xb4\\xf0\\x07\\xf0\\xab\\xa3&\\xc7[N\\xc7\\xf3\\xb5E\\xe2v\\x83\\xdc\\x1f\\xc5\\x0c\\xfc\\xee\\xf3\\x03\\xbfLN\\xff\\x00\\xab\\xb9R\\x90\\x9dD\\x1d\\xcfJ]\\xe3=\\xfe\\x13\\x8a5?\\xb5\\xc3\\xee\\x91\\xaf)eb\\xa9\"\\x1b\\xd1\\xe65\\x82\\x8a\\xec-U\\x05D\\xb4\\x83\\xd3p*Cf.S\\xcb\\xc2fI\\xde\\rA\\xc2\\x95\\x9b\\x0b\\xb3\\xd4He>\\xed\\x05MiQx\\xd0W\\xd2\\x9f\\xccW\\xa7\\x15\\xa3\\xce{cd\\xe9 \\x10\\x0e\\xe3\\x90\\xd2\\x94s(\\x00\\xa0e\":\\xfdt\\xcf\\xcdL*b5\\xa3Q\\x032I\\x13\\xa9$\\xf2\\xfc\\xc5Q\\x03\\xa7:\\x92\\x94\\x92\\x14\\x94\\xc9\\t\\xe8N\\xff\\x00e\\x00\\x0e\\x9bo\\xa4\\x93\\xf5Qx\\x82\\x01\\x01P\\xad\\x01\\x03n\\x7fe\\x16y\\xd8\\x11\\x06|\\xe6\\x862\\x1e)\\t\\xb3Y\\'YA>(\\x9di\\xdc<\\xc5\\x9bYw\\x010N\\x9di\\x8cU\\x7f\\xa8:L\\x10JA\\x1a\\xe8$S\\xb8i\\xcdd\\xd1\\x1f\\xba\\x93\\n\\xdco\\xf8Sz\\x17$\\xd0\\xa2\\x1b\\xca\\xad\\xc9\\x99\\xcd\\xf1\\xf2\\xa0\\xdb\\x8e2\\xe2V\\x93\\x95i\\x98P<\\xc8\\x8d\\xbc\\xe6\\x92\\xa9\\x1a\\x98\\x89\\xdc+JFl\\xea\\tH$\\x99H\\x11\\xa9\\xa1\\x00y#(\\x8d\\x00\\xd8\\xd2\\x14\\x90T\\x9c\\xe9\\x12\\xa1\\x11?\\x99\\xa5)\\xc9N\\xe4$s\\x891HZ\\xa4\\x83\\x12w\\xd3\\xa5\\x1c\\x83\\x1c\\x10T\\xdaL\\x19\"gm\\xc6\\xbb\\xd1_\\x1f\\x94\\xbb\\xd4\\xfc\\xe5k3\\x02M (\\x95%I\\x89\\n\\x90yo\\xec\\xa2\\xb9Z\\x88}BJ\\x95\\xa9\\x8f3\\xe5M\\t\\xb3o\\xfa\"\\xa6}#x\\x16\\x01\\x19[\\xc47\\xd7\\xff\\x00\\x83to\\xef\\xafS\\xd3\\xb0\\xf6W\\x96\\x9e\\x87\\xa8+\\xf4\\x8c\\xe0\\xe3\\xbeKlD\\x99;~\\xac\\xa1\\xf7\\xd7\\xa9caU?\\x04G\\xc9\\x84q\\xa2\\xe3\\x12`t\\xb6?\\xf1\\x7f\\x85b\\xb8\\x0bn-\\xa5\\xa93\\xfbCY7\\x1a\\x93\\xfaQ\\xb8\\x8f\\xe8\\xa3\\xfe%U\\x7f\\r\\xb5\\x16S\\x1fL\\xd0\\x9d#BSm8\\x00\\xd4\\xe9N\\x86\\xdc\\xe4jz[\\x1eT\\xe8lUY$\\x04\\xa1\\xc8\\xdc\\xd3/\\xa1y\\x08\\'z\\xb8\\xee\\xc4T[\\xb4\\x80\\xd9\\xa6\\x98\\x07\\x87\\xa7\\xf5P<\\xeb.\\x02\\x00\\x15\\x8bX\\t\\xb7lu#\\xed\\xac\\xaa\\xb3\\x9b\\x04s\\r\\xcd\\xa3\\xa8[\"\\xf3\\xfak\\x03\\xd5\\xae\\x93:\\xe7l\\x00\\x15\\xefLO\\xb2\\xa4[\\xa4\\x822\\xc4\\x8eCAR\\xad\\xd6\\xe6/l\\xdd\\xd3\\x8d:\\xd5\\xf3\\xb6\\x89\\x17hu\\xbc\\x84<\\xd0\\x80\\xbdu\\xf1 \\rz\\xd3-\\x0f\\x08\\x12\\x00\"\\xbc\\x0c\\x1f\\x165~\\x0f\\xa1\\xc9$\\xdfr\\xe1\\xec\\x96\\x802\\xef4\\xf0\\x1f\\x91L\\xa1\\\\\\xb6;\\xd3\\xc8XW\\xe1]\\x14s\\xb6-\\x03\\x9f\\x9fJy \\x8d\\xf7$\\x98\\x1d)\\x94\\x1dA<\\xa9\\xe1\\x11\\xae\\x9a\\xd0K\\x1d\\x10\\'4\\xf55)\\x91\\xdew\\x8d\\xc7\\xcfi\\xd4\\xc0\\xf3B\\x84}u\\r\\x1f8u\\x9djv\\x1b\\xe2\\xbd\\xb7\\x02<J\\x03\\xe3\\xa536yc\\x84 \\x0b\\x16\\x12@\\xd1\\xa0N\\x9b\\xc6\\x95`\\xca\\x93\\xeb\\x8cx\\xa0\\x05\\xc9\\xe5\\xf9\\xde\\xa3Z 6T\\x99\\xfd\\x9a\\xdcl\\x99\\xd6R\\xb5\\x0e\\x95`\\t\\t\\xd0\\x9e\\x91\\x1c\\xff\\x00<\\xab\\xd1\\x8e\\xd1\\xc0\\xf9+\\xc9NY\\x1b$k\\xaf\\xdd\\xd7\\xf0\\xa5\\xa2$\\xef\\xa0\\x8d9\\xfb\\xa9\\xd7\\x87\\xca\\xb8\\xa2\\t9\\xbc1\\x026\\xdei&J\\x912d{y\\xd5p!j \\xd9!\\x06\\t\\x0f(\\xcf_\\x08\\xe5\\xd7JDB\\x02\\x8e\\xa0\\x98\\x8d\\xbf\\xe46\\xa5\\x15\\x95[\\x86\\xc4Fb\\xbc\\xc4\\xf9\\x01\\x1e\\xca\\x102\\x00\\x08\\x04\\x19\\xd0jf\\x86\\x08\\xac\\xc5r\\x9c=\\xc1\\x94\\'T\\xeb\\x9b\\x7f\\x10\\xd6\\x9e\\xc3t\\xb1j7\\t\\x03m\\xa2i\\xbcX\\x84\\xd8<t\\x1b}\\xb4xh\\xfeof\\x04\\x1c\\xa24\\x9e\\xb4\\xd8pMX\\x92@ \\x8f#\\xf9\\xfc\\xcd;\\x86\\xab&%d\\xa3\\x00\\x07\\xd2v\\x1di\\xac\\xda\\x92T\"u\\xd67\\xa5[8\\x19\\xb8a\\xc5#8B\\x82\\x8aN\\x84\\xc7/*\\x16\\x85C\\t\\x11\\x94\\xe91 \\xc6\\x94\\xda\\xe0\\xea \\xa8S\\x91\\x1b\\x91\\xb4I\\xe9HY\\x88J\\x84\\'`\\x0f\\xe7\\xdfG\\xd0\\x1a\\x0ey\\xe8Na\\xbf\\x9d&\\xe4|\\x8b\\xc7( \\x03 \\'`\\x0f\\xe7\\xd9K@\\xcc\\xa4\\x85\\x93\\xa4hD\\xfe~5f\\xd5\\xab78\\x06$\\xe9qi\\xb8ey\\x91\\xdd\\xb9\\x94\\xe4\\xcc\\x01\\x91\\x1a\\x89:\\xfbh\\x03d\\xfa!\\xbe\\x19\\xf4\\x8a\\xe0u}\\x155~\\xd9<\\xa0\\xdb8\\x07\\xd6\\x05z\\xa2\\x0e\\x83H$W\\x93^\\x8b\\xce)\\xbe\\xdb\\xb8i\\xe6\\xc8+f\\xca\\xf9\\xd4\\x99\\xf9\\xa40\\xa2>\\xea\\xf5n\\xde\\xe0]0\\xdb\\xc8##\\xa8J\\xc0\\x1d\\x08\\x9a\\xa7\\xb2\\x16\\x9b0\\x9e5_\\xf3\\xc8\\x10|6\\x89\\xff\\x00\\x89t\\xd7\\x0fif?\\xb4y\\xd0\\xe3\\x05g\\xc6\\x9e\\x91\\xf3m\\x9b\\x1f\\xf1\\x1f\\xbe\\x97\\x80\\x08\\xb2o\\xdfG\\x82\\xcb\\x94\\x9d)\\xc4\\x9du\\xa6\\xd3N\\nd\\x8b\\x9d*\\x1d\\xe1\\xf92*a\\xda\\xa0\\xde\\x1f\\x05Z\\xe4\\txx\\x94\\xdb\\xa7\\xaa\\x93\\xf6\\xd6O\\xadcXv\\xf6\\xdf\\xdaMd\\xb5\\x9c\\x86\\x8eP\\xe1^\\xc9\\xac\\xbb7\\xb2\\xb4\\xbf\\xb6\\xc6/\\xf1\\xdcS\\x89-}^\\xe2\\xe6\\xfe\\xef\\xbd)m>4\\xf7Dh5\\xd1@\\xeb\\xec\\xda\\xaf\\x1a3\\x1c\\x88\\xde\\xb0;\\x1e8\\xe2;\\xfcQ\\xab\\x9e\\x15\\xec|\\xe0\\xf6\\xef\\xad+w\\x12\\xe2\\\\Q\\x0c;\\x94\\x91\\x98\\x8btJ\\xb3\\xc7S\\xbcL\\xd6z\\xe3\\x9d\\xed\\xcb\\xae\\xe83\\xac\\xabD\\xc6\\x84\\xf4\\xe5^c\\x8d\\x1e\\xbav\\x87\\xd2|10A\\xde\\x9eB\\x87O\\x16\\x95\\x1d\\x00\\x90\\x0c\\xeav\\xa7\\xd0\\x9f\\x7f=\\xb9\\xd2%\\xb1\\xe4m\\xe7O\\x81\\xf8\\xd3hH\\xe7\\xb8\\x15 G=)\\x084\\xa4\\x83Sp\\xdd1\\x1bA\\xfey\\x1c\\xfc\\xea0\\x12@N\\xa7\\xca\\xb0\\xbc\\x7f\\xb5\\xbe\\x19\\xe1\\xbc\"\\xeb\\x14\\xc31\\xac3\\x19\\xc4m\\xa16\\xd6V\\x97Iq\\xc7\\x1e&\\x12\\x08\\x1a\\x84\\x83\\xaa\\x8f \\r\\x00\\x93|#\\xcf\\xcb\\xc6\\xc3\\x18\\xce&\\xd2$d\\xbd\\xbaN\\xa7hyc\\xee\\xa0\\xda\\xc1\\xb8\\xb7)\\xd0\\x15\\'\\xdf\\xaf:\\x89t\\xfb\\xcb\\xc6/\\xd7z\\x92.\\x1d\\xba\\xb8q\\xef\\x00@\\xceV\\xa5*\\x07!&G\\x91\\xa7\\x03\\x92\\xeb*\\xfd\\xd25\\xe7\\xb8\\x8a\\xf4#Ty\\xd2[\\x1c(qe\\xe5#\\xc4\\x1b\\nR\\x8c\\xc4&b\\x92\\xe2\\xf2\\xcc \\xfbf#\\xef\\xe7\\xca\\x9bu\\xe2\\x97\\\\\\x85\\x18VpD\\xe8D\\xedI\\xcefT3\\x1d$y\\xfeMP\\x87\\xb3\\xc4) $\\xf5<\\xbf?}\\x1fz\\x07]\\x0c\\xc1\\xe6)\\x80r\\xccH\\xe7\\x1b\\x83\\xe5\\xf7\\xd2\\xc0\\'\\xe6\\x84\\x9d9\\x1f\\xbe\\x98\".,\\xe2}I\\xcdH\\xd1$\\x81\\xa7?\\xb0\\xd1\\xe1\\xceN\\x1a\\xc9\\xcc\\xaf\\x987\\xe7\\xa9\\xa6\\xb1P}A\\xe0r\\xe5\\x00\\x0f-\\xfa\\xd2\\xb0\\xe3\\x9a\\xc2\\xdclJ\\x01\\x8c\\xdf\\xc4h{\\x0eI\\xdd\\xf0\\x00\\x83)<\\xcco@\\xba\\x01\\x02U32t\\xa6\\x82\\x9c)\\x19\\x08O3\\n\\x89\\xf7\\xd1)G.\\xe0\\xce\\xbf8@\\xf8\\xd2\\\\\\x00\\xea\\x96$s1\\xb4k\\xfe\\x1f\\xf3\\xa6\\x96\\xa1 H\\x13\\xb0=}\\xb4\\xea\\xed\\xae\\x10\\xd3\\x17\\x0e\\xb2R\\xd3\\xd9\\xbb\\xb5\\x98\\x85\\x11\\xa1\\x8dy\\x1a`\\xe6\\n\\x03T\\x88\\x8c\\xc0\\r>\\xbd\\xa9]!\\xf2\\x1e`\\xa5@9D\\xc6\\xe7Mb~4\\xab\\xc2\\xeb6\\xebm\\xe5\\x98$*\\n\\x8eY\\x9e\\x9f\\n@R\\xb3\\xa4\\x00\\xac\\xd3\\xa1\\x06u\\x9eT\\xc5\\xd9\\x9bw\\x02\\xc9\\xcd\\xa0\\x8c\\xda\\x81<\\xbe\\xbf\\x8dW\"6\\x97\\xa3\\x02\\xb2\\xf6\\xc9\\x82/S\\x97\\x0b\\xbf\\x89\\xff\\x00BG\\xdf^\\x93p\\x8e<\\x87\\xb0;&\\x14\\xb54\\xf3M)\\xa0\\xe1#(!P4>Dm\\xf7W\\x9a~\\x8d\\x8a\\x8e\\xd6\\xb0\\xe5\\xa4\\x90Q\\x84^*fwl\\x0f\\xbe\\xbb\\xbb\\x86/\\xd4\\xb6/\\x19\\x95JT\\xdb\\x81IIQL\\x9c\\xb9\\xa0\\x1d\\xb4\\x13\\xbd)I\\xa5fu\\xf1\\x99\\xa7\\x13\\xbc\\x1e\\xc5\\xee\\x16\\x0c\\x8e\\xe5\\xb04\\xe5\\x94\\xef\\xf1\\xa9x&\\x96M\\xebX\\xc5\\xd3\\xe4)y\\x96\\x1c\\xf0\\xa4fI\\xd3n^U\\x91`\\xaeE\\x93[\\xedV\\x9d\\xab,\\xbc\\x07Jp+\\x9dDK\\x9a\\np9L\\x92A0*\\x05\\xea\\xbc5%NiU\\xf7\\x8b1\\xa6\\xba\\xd5 .0\\xff\\x00\\x12\\xed\\xc6\\xbb\\x8d\\x8e\\xb5\\x91H\\xea\\x7f\\xbdX\\xe6\\x18I}\\x80\\x9d\\xe0\\xc781Wa\\xc4\\x00\\x02\\xdb\\xf1s\\xca\\xd9\\x89\\xf2\\xd2\\xa5\\xab\\x0b9\\xa1)\\x98\\'S;\\xd4\\xe6\\x81\\x81:\\x0fn\\xf5\\r\\xb3\\x99\\t\\x93\\xce\\xa5\\xb6\\xb3\\xa7)\\xe7^s=k% \\xe54\\xfa@\\x83Q\\x93\\xd0\\xf2\\xa7\\xdbpm?_*\\x90%$\\xed\\x14\\xe825\\x81\\xf7\\xd4\\x13t\\x84\\'2\\x88\\xe4j3\\xf8\\xd5\\xbd\\xb8%\\xc7\\x12\\x00\\xdc\\xf2\\x15\\x00a\\x9d\\xb7q\\xd2\\xb8O\\x86\\xd9\\xc3l\\x1e\\x16\\xd8\\x8e9\\xde4\\x87\\x89\\x8e\\xe9\\x84\\xc7x\\xa0\\x7fx\\xe6\\t\\x1d&yW7\\xd9\\xa7\\x87\\xbfG\\xe2#\\x13r\\xf9\\x17\\xa9m\\x07\\t\\xfd\\x1e\\xeb\\x1d\\xc0X\\xdd7\\x01~\"\\x93#T\\x19\\xf25\\x9d\\xfaCq5\\xae;}\\xc3V\\x96\\x0bC\\xcfX\\xb7p\\xeb\\xaa\\x0e\\x00\\x90\\x97\\nBu\\xd7YA\\xad4{\\xec\\xc6\\x1a@\"4\\x0f\\xa6kU\\xd3K\"R\\xa6o\\x8f\\xa9\\xc3\\x8e=\\x8d\\xab \\xe2|.\\x8cF\\xf9W\\x0c\\xa9M\\\\-_\\xb6i\\xf4J\\x87)\\x07C\\xce\\xb5\\xab\\xb8\\xb5\\xd8\\xc5\\x1d\\xb7\\xb4\\x7f\\xd6\\x1aB\\xc8J\\x9di\\x01P9\\xccV\\xd9iO\\xa1\\xc6\\xd6-\\xb3\\x19\\x1f5\\xe6\\xc9\\x1d>\\x95`\\xec\\xf0E\\xcf|\\xeb\\x97v(t\\xb8\\xb5\\x1d\\x1c\\x07BI\\x1b\\x1e\\x86+\\xa3\\x1e\\x19\\xc2\\xd3\\xb3\\x9b\\xab\\xcd\\x87\"N5\\x7f\"V\\x0c\\xd38\\x9d\\x9f{p\\x8f\\x94\\xef\\x1cA(\\xd34\\x13\\x06*cXU\\xbb\\xed\\x8c\\xc9q\\x92gE%$\\x8dz\\xd3,p\\x92X\\x1e\\x1b\\x1b\\xb6\\x89\\x92{\\xa7\\xd7\\xef\\xe7\\xce\\x9dW\\x0e-\"[V.\\xd1\\x1a\\x8c\\xaf(\\x9f\\xac\\x1a\\xe9\\\\U\\x1eS{\\xe4\\xc6\\xc5\\xea\\x91\\x89^Z\\xba\\xd3E\\xb6\\x1eSiXI\\x04\\x80t\\'Z\\x98\\\\l\\x03\\xf2i\\xd7h\\'\\x7f\\x8dIW\\x0b!/\\xadn\\xb5~\\xe2\\xd79\\x96\\xe1Q$\\x9d\\xce\\x82(\\x1e\\x1ed\\x11\\x99\\x9b\\xa043\\x95i\\xf7\\xd0\\xd0\\xd3\\x186l_Z,\\x12[\\n\\x94\\xa8\\x03\\xb0\\x00k\\xa9\\xa0\\xd5\\xa36\\x8d\"\\xdd\\xb2\\xa2\\x9d\\x81\\xd2LN\\xa6\\r(\\xe0v\\xe9)*K\\xfa\\x0eez\\x1fm7\\xfa\\x16\\xd9#)[\\xe3Q\\xba\\xd5\\xad:TM\\xec\\x97\\xea\\xec\\x95\\x80\\x97\\x14\\x16O&\\xd4`\\xeb\\xca\\xb6\\x8f\\x0cz?\\xe3\\\\_\\xc2\\xd8G\\x11a\\x1cC\\x81\\xa2\\xd7\\x15iN%\\x87C\\xc5\\xc6\\x8a\\x16\\xa4)+)I\\x19\\x81L\\xe5\\xde\\x08\\xebZ\\x80\\xe1\\x16\\xe4\\x13\\xeb.\\x8e[\\xeb\\xed\\xa3\\x1c3d\\xf9\\xce\\xbb\\x82U\\x9bR@\\xe9\\xf8}\\x94$\\xbc\\x85\\xbfS/\\xe3\\xde\\xceq\\x1e\\xcf\\xb8\\x83\\xf4/\\x10\\\\\\xda\\xdc]\\x1b\\x16/\\x12\\xed\\xab\\xcbZ\\x14\\xd3\\xb3\\x94B\\x90\\x14\\x14\\nT\\nH\\xac=\\xc6\\x98KhW{\\x97\\xc5\\x193J\\xb4\\xdc\\xed\\xca\\x83\\x98#V\\xe0\\xa5\\xab\\xa5\\x80\\x12GX\\xa6\\xbfE\\x80\\xa0E\\xca\\xce\\x9aL\\x125\\xdf\\xf3\\xd6\\x8aC\\xbd\\x04\\xb7\\x19i\\x0b\\xce\\xa5\\x13\\x06R\\x95D\\xc0\\x9e\\x9b\\xd3W\\x01\\xb2\\xc2\\x90\\x97\\nLIQ#m\\xfe\\xc3O\\xfa\\x93\\xc2\\xd6\\xe6\\xdd\\xab\\xe7\\x1bj\\xe5(C\\xe9\\x00\\x10\\xa4\\xa5ABG8 \\x19\\xa3\\xb7\\xc0\\x83\\xe5\\x0c\\xaa\\xe1E*NUD\\r<\\x8d*\\xa1\\xf7*:\\x87\\xb0\\xce\\x0f\\xc00|-\\x18\\xce\\x1fl\\xb71\\xa5$\\xb0\\xbb\\xb7\\\\%A\\x04\\tJ\\x13\\xb2A\\xf7\\xd6\\xf0\\xc2q/R\\xc4[(\\xca\\x14\\xb4\\xad\\xb4\\x95\\x80D\\x91;\\x12&H\\x8d\\xc5h\\xbe\\xca\\x1f\\xb9c\\n]\\xbd\\xbb\\xa8\\xc8\\x02L-\\xac\\xd3\\xa4N\\xe3\\xa5l[<i\\xcb,s\\x08\\xb8\\xbfq\\xa1h\\xdd\\xfd\\xbf\\xac\\x96\\xd1\\x94\\x86\\x94\\xe2R\\xa2\\t:@Q=4\\xa8\\xabM\\x10\\xb4\\xec\\xdba\\xcc\\xac\\x93\\n\\x00\\x89\\x19\\x8e\\xb1Yv\\x0c\\xa2,\\x99\\xfe\\xc8\\xac\\x7f\\x1b\\xc2\\x11\\x83\\xdd]\\xd94\\xe1u\\x16\\xe4\\x00\\xb5\\x08$\\x14\\x83\\xaf\\x9e\\xbe\\xf8\\xab\\xac(\\xe5\\xb2g_\\xa3T\\xb8F\\xaf\\x92\\xe9+\\xf7\\xd3\\xa9r\\xa1%\\xcf:p/jd\\x93T\\xad5\\x15_t\\xa9#^t\\xfa\\x97\\xa5@}r\\xb4\\xfbG*\\xb4\\x06E\\x85\\xa8%\\xf6\\x89PH\\t?eX\\x9b\\x9b\\x94\\x92\\x12-H\\x06\\x01\\xd7_\\xae\\xa9Y^A\\x9b(^\\x91\\xaag\\xea\\xab$b9P\\x90\\x19Z\\x80\\x1b\\xe6N\\xbf\\x1di\\x08\\xe7\\xd6V\\x12\\x88:{h\\xdc\\xbfi\\xb1*P\\x1e\\xfa\\xc3\\xda\\x7f\\x89q`U\\x84\\xe0\\xee\\xb4\\xca\\xb6z\\xf9A\\x84{`\\xf8\\xbe\\x02\\xacX\\xec\\xe2\\xfa\\xf8\\x878\\x8b\\x88\\xdc\\xc8`\\xf7\\x18kY=\\xdd\\xe2\\xe4\\xfc\\x00\\xaf2R\\x8c|\\x9e\\xc2\\x8c\\x99.\\xfb\\x8b\\xec0\\xf6\\xb3\\xdc\\xdc\\xb6\\xd0\\x1aj\\xa05\\x8e\\xb5\\n\\xd3\\x89q<x\\xe5\\xe1\\x8c\\x1a\\xff\\x00\\x13O\\xff\\x00\\x8a\\x96\\xb25\\xff\\x00h\\xa8L{\\xeb(\\xc18\\x1f\\x86\\xf07R\\xf5\\x8e\\x12\\xcb\\xb7)3\\xeb\\x17\\x84\\xdc\\xb9>\\xd5\\xc8\\x1e\\xe0+6C\\xcau )F\\x07._\\n\\xc5\\xce\\xf8/\\xb3\\xd4\\xc0,\\xf8\\x1f\\x89\\xf1@\\x15\\x8db\\x96x;gv\\xad\\x93\\xeb.\\x0f)\\xd1\\x03\\xeb\\xac\\x8b\\x0f\\xec\\xd7\\x87\\xad\\x14\\x97/\\x98\\xb8\\xc6^\\x1a\\xe7\\xbfx\\xad3\\xfe\\x8cB~\\xda\\xc8\\xdb#j\\x94\\x83 \\x13\\xce\\xb2m\\xb2\\xd2H\\xe5\\x1fJ\\xfbFmx\\xb7\\x84\\xfdN\\xdd\\x9bV\\x97\\x81\\xba\\x9c\\x8d6\\x10\\x9f\\r\\xc6\\x9a\\r4\\xcdZ\\x10\\xabC\\x96t\\xe9\\xf1\\xae\\x89\\xf4\\xbek.1\\xc0\\x8f\\xc1\\xf1X\\xdf\"A\\xe8\\xebG\\xef\\xde\\xb9\\xc4\\xaadD\\x82\"\\xbe\\x97\\xa3\\xde\\x08\\xfe\\xfc\\xb3\\xe6z\\xb5\\xfc\\xf9~\\xfc\\x0f\\x03:\\x05k;\\xd2\\x81\\x1a\\x1eQ\\xb4o\\xf8SAJ=\\x08\\x1c\\xa2@\\xa5 \\xa4\\x8d \\xe9\\xa9\\xdc\\xed]G0\\xe9!Di;\\x91\\xce\\x7f\\x1a\\\\\\x82\\x9dI\\xd7\\xddMI\"~i;\\x7f\\x87Jp\\x12z\\xc0\\xd8PW\\x91aJ\\x06\\x01T\\xce\\xa3\\x95\\x17x\\xa10\\xb5\\xf5\\xf9\\xc4~w\\xa2\\x1a\\x89\\x1e\"z\\xd2H\\x12\\x01\\x00\\xc1\\'}\\xa8\\x1a\\x1cS\\xab\\x92\\x02\\xd5\\xed\\xcd\\xb8\\xa4\\x97\\x8ad\\xe7_\\xce\\xdew\\xf3\\xa6\\xd4u\\x04i\\xa5\\x11W\\xd2\\xd5$\\x18\\'\\xcf\\xad!\\x0ew\\x8a;\\x92\\xaeq\\xa1\\xa6\\xcb\\x86B\\xb4\\x1c\\xfeh\\xfb(\\x8c\\x11\\x1a\\xed\\xf0\\xa6\\xc9\\xe66\\xa2\\x91[\\x02\\xc2U9\\x90\\x83\\x03|\\xa3N\\xbc\\xa9\\x0e%9H\\xee\\xdb)\\xe6\\x0b`\\xeb\\xf0\\xa5\\xa8\\t)\\x02D\\xfci\\xa2\\x04\\x93\\xf7O\\xd5SH\\xa7lB\\xdbd\\x85fe\\xa5\\x0e\\x7f&\\x9f\\xc2\\x91\\x0c\\xb23%\\x96\\x9b\\tI$\\xe4\\x10\\x07Zt\\xab\\xa8\\x83\\xed\\xa6\\xc6P\\xe2\\x16\\xe3L\\xdc\\xa1+J\\x94\\xd3\\xc9\\x94,L\\x94\\xabQ\\x124\\xfa\\xf9P\\xd2\\xad Od\\xdc;\\x8c\\xf1l%\\xa6\\x15\\x84c\\x0f\\xd95s\\x98[\\x94\\xa4%\\x0e\\x94\\xc6`\\x92\\xa1\\n#0\\xd0u\\x14\\xbc[\\xb4N+s\\x0b\\xbbK\\xb8\\xed\\xc2\\xc7t\\xbd\\x14\\xd3z\\x18\\xfe\\xcf\\x9d+\\x1e\\xe2\\xbcC\\x1d\\xcc\\xcb\\xed[7b%,[\\xb6%\\xb6\\x04Fd\\xa6\\x00\\xceF\\xea\\x10$\\x98\\x00V3v\\x80\\xeb*l\\x82K\\xabBc\\xda\\xb0\"9\\x9dk<I\\xcbs\\x8d\\x15\\x91\\xa8\\xbf\\x86Vzg\\xc6\\xae\\x11\\x8b^2n!\\xd0\\xe3\\tuB\\n\\x80\\xee\\x9b\\xccb\\x9c\\xc3n\\xdb\\x16\\xe9B\\x9cJ\\x8aI\\x01IX2\\x99\\xd0\\xfbcz\\x87\\xe9d\\xfa\\xb0\\x9e\\xc0\\xf8\\xef\\x13\\xb1&\\xce\\xfd\\x8b{r\\xc5\\xdb?&\\xea\\x14_i2\\x95\\x88P0bgj\\xd9\\xb8F\\x19l\\xde\\x11\\x87\\xa6\\xe6\\xcd\\x87\\x1d\\x16\\xad\\x05\\xad\\xc6AR\\x95\\x90I$\\x8dL\\xd7\\t\\xd9z\\xa3\\x10M\\xc3f5\\x8f}8\\x97\\xc6\\x99L\\xfb\\xeb9\\x18}\\x87;\\x1bOs)\\xa3\\xfd\\x1da\\xff\\x00\\xc8\\xda\\xff\\x00\\xd9\\n}\\xc20\\x95\\xbe4\\xde\\xa8x\\x93\\x88\\x9a\\xe1\\xdc-\\xdcI\\xfb[\\xab\\xb44\\xb4\\xa7\\xbb\\xb6Fu\\x02\\xa3\\x00\\x91\\xc93\\x00\\x9eS5\\xb5N\\x17\\x87\\xaf{+\\x7f\\xfb1Z7\\xb5;\\xfcZ\\xc7\\xb6\\xfe\\xca8W\\x85q\\x8b\\xbc\\x02\\xcb\\x88\\r\\xfb\\x98\\x92m\\x10\\xda\\x83\\xa9e\\x858\\x80R\\xb4\\xa8\\x01\\x990b$\\x13\\xce\\rR\\x98\\xd23\\x14\\xe3\\xcf\\\\\\xf0\\xbe\\x1b\\x8a\\x8c>\\xe6\\xd5\\xdb\\xc0\\xda\\xd7h\\xeaR]jA*J\\x81\\xd0\\xc0\\x07mH\\xda\\x8d<N\\xcc\\x0c\\xaf\\xb4\\x94\\xc6\\x80-\\x02>\\xbag\\x8887\\x8a_`\\xb4\\x8b\\xeb\\\\n\\xcd\\x0e%hC\\x8c\\x84\\xbe |\\xe1\\x98\\xe5\\xcc\\x0c\\xc6\\xbeQX\\xaa\\xb0\\xacE\\x95\\x16\\xd7\\x85\\xe3\\xcbR\\x0eR\\xa4\\xd88A#\\x98!$}f\\xb9\\xe5\\x92I\\xe9\\x14\\xa2\\x9a\\xd9\\\\\\xdd\\xdbW\\xd6\\xd6\\xf7V\\xaf\\xb5ukr\\xd0z\\xde\\xe1\\x97\\x03\\x8d\\xba\\xda\\xb6ZT4 \\xf5\\x15*\\xd5\\xc2\\x85D\\xcaO.\\x95\\xc3\\xbd\\x97v\\xc1\\x8bvcu\\xea\\xdd\\xda\\xb1n\\x17y\\xd2\\xab\\xac(\\xb9\\x94\\xb6\\xa3\\xbb\\xb6\\xeb?\\xb3s\\x99\\x1f5|\\xc4\\xc2\\x87gp\\xbe=\\x84\\xf1\\x96\\x07o\\x8ep\\x9e \\xde%\\x85\\xber\\x07\\x00\\xca\\xb6\\x9c\\x1b\\xb4\\xea7m\\xc1\\xcd\\'\\xda\\t\\x04\\x1a\\xe2\\xc9\\x89\\xe3\\xfa\\x1e\\xb6<\\xab\"\\xd1\\x93$T\\xb6\\x15\\x04MB\\xb6+(\\tZH)\\xe9\\xae\\x94\\xf0VB\\x904=+\\x1a4-P\\xa8\\xa9(>\\x1a\\x8c\\xc5\\xb3\\xee\\xa4\\x10\\x82\\x90F\\xea\\xd2\\xa7\\xa6\\xcd(\\x1f(\\xb2\\xa9\\xe44\\xa4\\x072\\xfa_\\';|\\x04\\xf4\\xc1\\x0eb\\r\\xf9\\xec\\xca\\xbe\\xea\\xe6q\\xa9\\x10\\x0e\\xbb\\xeb]S\\xe9\\x7fn\\x9f\\xd0\\x1c\\x0e\\xf3h\\x1e\\x0cR\\xed\\xb3\\x1b\\xc2\\x98\\x07\\xff\\x00\\rr\\xc6S\\x1a\\xf8\\x88\\x1c\\xc7ME}\\x17D\\xff\\x00\\x91\\x1f\\xef\\xf7>o\\xacW\\x9e_\\xd8\\t\\x12\\x90`\\xef\\xccS\\xd3\\xe7\\xa0\\xe5E\\x13\\x96\\x0e\\xc7Ju\\x08\\xd8\\x01\\xa4t\\xae\\xbb9\\x92\\x13\\xa4\\x01>D\\x8d5\\xa7\\x00\\xcc\\x04\\x82:F\\xbfU\\x19\\x11\\x04\\x81;F\\xc6\\x94Fy\\x82\\x9d\\xc1\\x03\\xf3\\xf7\\xd0RT$\\xc1\\x1a\\x931:\\xfd\\x9aR~n\\xb4\\xb3#P ni+\\x92\\x0c\\xc4\\x1f*C\\xa1\\xa5\\x9c\\xaa\\x13\\xf6\\xd3e@\\x93\\xa8\\xe7\\xf9\\xfa\\xa8\\xd6u\\x95\\x009{\\xa9\\x85*\\x01:O\\xb2\\xa9\\x10\\xc7\\t\\xf9\\xf3\\xcc\\xd23I\\xf0\\x98&N\\xbbt\\xa4\\x13\\xb9\\x1b\\xf3\\xfa\\xe8\\x81\\xd5:\\x90\\'q\\xf5|\\x05\\x00\\xb9\\x1c\\x077\\xd7\\xbf/}\\x16\\xb3\\xa9\\x81\\x04\\x88:\\xd0\\x06wI\\x03m\\xf6\\xf6Q\\x15\\x11\\x06u>\\xea\\x82\\xc1\\xb1\\x11\\xf5}T\\xd9\\xd7/\\x8b\\xca~\\xee\\xb4\\xf1\\xd0\\x9e@h\\x01\\xa4\\x19#BI\\x8d\\x0cP\\x14Cpr#_m4\\xb6\\xfb\\xd2\\x94(\\x04\\xb6\\xa7P\\x15\\x9bH\\x19\\x86\\xa6\\xa58\\x93$N\\x9bT\\xbe\\x1d\\xb6M\\xc7\\x14\\xf0\\xf3.!+m\\xecb\\xc9\\xb5\\xa5C0RM\\xc2$\\x10fA\\x1a\\x19\\xdc\\x1a\\x1b\\xa5d\\xf6\\xd9\\xd1\\xde\\x94\\xdcE\\x88^v9\\x89\\xda\\xe18\\xc1\\xba\\xb5\\xbd\\xbd\\xb5E\\xc0\\xf5\\xf2\\xe2V\\xc2U>\\x10\\x14f\\x16\\x94H \\xe8\\x0f1[\\xd7\\x86q\\xacJ\\xc2\\xe3\\x87_\\xba\\xbf\\xbb\\xf5F\\x91l\\xd3\\xcd\\x1b\\xb5-\\x95\\x05\\xb6\\x94\\x10d\\xc2\\xb52\\'\\x9d\\\\\\xe3}\\x9dp(\\xb9t5\\xc1<.\\x08uI$`\\xccj\\'\\x9f\\x87Zu=\\x98vx\\xe0mG\\x81xm\\nI\\nIF\\x1a\\x84A\\x06A\\x11\\x11\\x04\\x02:\\x11^E\\x9e\\x8fk6i\\x94\\xa8\\xa6v1G\\'\\xadU\\x9b\\xf9$\\x93$\\xd2\\xd1u=\\x05Wpv\\x98\\x87hW\\xd8\\xbe\\x17\\x89a\\xd7V\\x18\\x95\\xd5\\xa5\\xa3\\xec-\\xae\\xed\\xa5\\x80\\x8e\\xf5*\\x07PA\\xd4\\xa4\\x88\\xfe\\xc9\\xeb\\\\\\xc1\\xc5\\xbcM\\xc4\\xb7\\x9e\\x95=\\x9f\\x17\\xee.\\x9dF\\x1d`\\xe9\\xb6p\\x04\\xf7\\x88*m\\xc0\\xec\\xa7(\\x90e \\x8dt\\xae\\xbf\\xc7\\xf0\\x0c\\x1f\\x8bp\\xdf\\xd1\\xdcK`\\xce%c\\xde\\xa5\\xd0\\xcb\\xb3\\x01i\\x98P \\x82\\x0e\\xa7\\x9f:\\xc3\\xcfb\\x1d\\x9c\\xbd\\x893v\\xe7\\t\\xd9\\x9b\\xa6\\x7fgr\\x1f|<\\x8f\\xec\\xaf<\\x8fuGw\\xa1]\\x8c\\xb5\\xec\\xf7\\x89\\xf1\\x1b\\xfb\\xcb\\xbc?\\x1d\\xbaz\\xed\\xc7\\x13\\xdf\\xda\\xad\\xe6\\xd2\\x92\\x00\\xd1m\\xf8R$j\\x08\\x99;\\xeb[\\x0eW\\xd5U\\x85\\xe0\\xfd\\x95\\xf0\\x86\\t\\x8bY\\xe2\\xf8V\\x1bp\\xc6!fTXuX\\xa5\\xcb\\x81\\x19\\x81J\\xbc*p\\xa4\\x82\\x0cA\\x15\\x99\\xc0\\xa6\\x9b\\xa1Q\\xe2\\x03\\x98\\xd0QQk6\\x9a\\xc9\\xd2=\\xb1\\xca\\xb2\\x1e\\xcf\\xbbP\\xe2\\x1e\\xcd\\xf1\\xef\\xd2\\xdc+t\\x96\\x1fy!\\x17Vo\\xa4\\xae\\xde\\xf5\\xb1\\xafv\\xea4\\x9f\"!I&REk\\xe4\\x92\\x0e\\xa7]\\xa6)\\xc0\\xad5\\xcd\\x04j\\x06\\xa0\\x7f\\x8e\\xb5\\xbbI\\xaa\\x14[N\\xd1\\xea\\'c\\x1d\\xa5\\xf0\\xbfl\\xb8J\\xefp+\\x85\\xd8\\xe2\\xd6\\xad\\x871\\x1c\\r\\xd5\\x82\\xfd\\xae\\xb0T\\x15\\xfdk3\\xb3\\x80i ($\\xd6\\xd4\\x0c3lGt\\xd2A\\xeaD\\x9f\\x8dx\\xfb\\x80\\xf1\\x1e-\\xc2\\xb8\\xbd\\x8e9\\xc3W\\xd78V/b\\xef{mwl\\xbc\\xabJ\\xa2\\x0f\\xb4\\x11\\xa1I\\xd1@\\x90dW\\xa1\\x1d\\x80zOa\\x1d\\xac&\\xdf\\x87\\xf8\\xb3\\xd5\\xf0>8\\x10\\x96\\xd2\\x93\\x92\\xdb\\x14\\xf3f~c\\xbdZ;\\xee\\x82uH\\xf3\\xb2\\xe0kq\\xe0\\xf4\\xf1fR\\xd3\\xe4\\xdf\\xa1}~\\xda2ie\\x82\\t\\x07E\\r\\xc1\\x11\\x14;\\x85\\x0eY\\xab\\x96\\x8e\\x83\\x9f\\xfd-m\\xfb\\xce\\x06\\xe1\\x87\\x88\\x9e\\xeb\\x1e)\\x9f\\xed[9\\xf8W\\'\\xa5\\x9f\\x103\\xa8\\xe4+\\xb9{q\\xe0\\x8b\\xce>\\xe0\\xa6p\\xdc6\\xee\\xda\\xca\\xe2\\xcb\\x10E\\xfek\\x94-Iq)mi(\\x19\\x01!G8\\x8d\"\\xb8\\xee\\xf3\\x84\\xf8\\x8a\\xc9KK\\xbc9\\x8b.\\x0f\\xcfn\\xc9d\\x1f1\\xa6\\xd5\\xec\\xf4ya\\x1c}\\xad\\xec\\xf1z\\xbcRy;\\x92\\xd1B\\x10 \\x83\\xa7\\xb7\\x97\\x95\\x1eX\\x89\\x1aELs\\x0e\\xc4\\xdaW\\xcb`\\x98\\xc3Z\\x9f\\x9d`\\xba\\x8e\\xb6\\xdeG\\xed,o\\x9a$}+E\\xa6>\\xaa\\xeeS\\x8f\\xa9\\xc9\\xee\\xddp \\x83\\xb8;\\xee@\\x98\\xe8iz\\xe8N\\x9dd\\xe9L\\xae\\xe1\\xb0\\xa9Z\\\\B\\xb5>&V>2)\\xb5_\\xdb$\\x8c\\xce\\xe4\\xd7B\\xa4\\x11\\xf7Uw&.\\xd6\\x89\\x00\\x00!2@\\xd7^\\x7f\\x9d)\\x07P\\x92\\x9d\\xf4\\x83\\xcai\\xaf\\xd26\\xa4\\x81\\xeb,\\xcfB\\xba/\\\\\\xb6P\\x94\\xdc\\xb2z\\x1c\\xc3nT\\xfb\\x93\\x17k\\x12\\xb1;\\x12i\\xb2\\x9d\\xe6}\\xa7zuo\\xb0b\\x1fom\\xf3\\x8a@q\\xb2~M\\xc4\\x1e\\x9e!O\\xba\\xc5\\xdb\\xb1\\xb5 \\x90\\xac\\xc10H\\xf7R5\\xcd\\xb6\\xbdO\\xdbR%\\x07D\\xa90z+zm@\\xa4\\xa4\\x88\\xd3mg\\xeb\\x9a;\\xb4\\x1d\\xa3ze\\xe705\\x1e\\xdf\\xce\\x9et6\\xe6\\x05(\\xa4\\x80D\\x15i\\xa7\\xe7\\xee\\xa4(\\x1f\\x9b\\x04r565\\x11Z\\xc9)\\x04\\x81\\xcb\\xdd\\xf6\\xd2U\\x07B$oC6\\xc4\\xe9\\xa6\\xff\\x00\\x9d\\xe9\\x05Q\\xf0\\xda&\\x80h%I;\\x14\\xeb\\xf1\\xab\\x9e\\x07d=\\xc7\\x9c$\\xd8\\x12N=e\\x03\\xd8\\xfaO\\xddT\\x8e\\x18\\'\\xe7\\x01\\xb9\\xf3\\xf8VS\\xd9\\x9b}\\xff\\x00i\\xbc\\x12\\x83\\x12\\xacn\\xdc\\xfb\\x82\\xa7\\xee\\xa9\\x93\\xa8\\xb2\\xa2\\x95\\x9e\\x82b7\\xaaU\\xe3\\x8a\\x9d\\xdcQ\\xdf}jK8\\x84\\xa4A\\x8a\\xa4\\xb9\\x05N\\xa9G\\x9a\\x8f\\xdbSmm\\x9dP\\xd1\\x06\\x0e\\xc6\\xbc~\\x0fR\\x8b\\xa6o\\n\\x949\\xcdX\\xb0\\xfa\\x88\\x15T\\xc5\\xb2\\xc4\\x15oV-J|\\xa965\\x12\\xc9\\n1\\xe2#\\xe3Jm@95\\x1d\\xb4\\xad\\xc3\\x08\\x13\\xf7\\n\\xe6\\xae\\xda=2xk\\xb3\\xd5\\\\\\xe0\\xdd\\x9f\\x0b~.\\xe2\\x84J\\x16\\xf8Y6\\x16k\\x1f\\xbc\\xb4\\xea\\xf2\\x87\\xee\\xa0\\xc6\\xf2\\xa0DQ\\x1b`\\xd5\\x1d\\x1f\\xc6\\\\}\\xc3}\\x9b\\xf0\\xfb\\x98\\xef\\x1cb\\xf6\\xf8>\\x1c\\x8d\\x12\\xa7L\\xad\\xe5\\xfe\\xe3h\\x1e%\\xab\\xf8R\\t\\xe7\\xca\\xb9~\\xeb\\xff\\x00H\\x7f\\x0e\"\\xe5\\xe4\\xd9\\xf0\\x1e2\\xf5\\xbaV\\xa0\\xd3\\x8e_2\\xda\\x96\\x89\\xd0\\x94k\\x94\\x91\\xb8\\x93\\x1bI\\xae\\x1e\\xe3>\\xd0\\xb8\\x8b\\xb4\\\\}\\xdcw\\x8d\\xb1\\x8b\\x8c_\\x11Y\\x84\\xb8\\xe9\\x842\\x83\\xf4\\x1a@\\xf0\\xb6\\x9f \\x06\\xfa\\xc9\\xaaSz\\x12`\\x98#C\\xado^\\x88\\xcbE\\x1aL\\xc8\\xe7\\x1a\\xd3\\x89#@w\\x1d\\x05G\\x92\\xa2 x\\xb6\\x1e\\xday+\\xd69\\x08\\xad\\x8cG\\xd0\\xa1\\xba\\x88;\\x88\\xdc\\x13J\\x13\\x95*BaZ\\x9fa\\x1d\\x0fZB\\x0f\\x87B`\\xce\\xde\\xcd\\xff\\x00\\xe7KTe\\x98\\x93\\xbfC\\x1fv\\xbfm/%\\x1d\\xa7\\xe8\\xfb\\xe9\\x82R\\xabN\\x15\\xed\\xaa\\xf5KL\\x06l\\xb8\\x95\\xddT\\x824J/9\\x91\\xcb\\xbf\\xdc\\x18\\xcf\"T;P\\x00R\\x85\\xa0\\xa5hq!hZHRT\\x93\\xa8P#B\\x0f\"+\\xc5pFP\\x15\\x05 \\x88\\xd7j\\xe8N\\xc0\\xbd(\\xb1\\xae\\xc9\\x16\\xc6\\x03\\xc4m\\xddq\\x07\\x04\\x15\\xc8\\xb4\\xcc\\r\\xc6\\x1f\\'U[)Gc2Z$$\\x91 \\xa4\\x92O.L)\\xee\\'^<\\xde$zH\\xa5i\\xbcR;\\xc5\\x1d3\\x1f\\x8dS\\xf0\\xe7\\x13\\xe0\\xdce\\x81\\xdac\\xbc%\\x891\\x8c`\\xf7bX\\xba`\\x98\\'\\x9aT\\x93\\xaa\\x169\\xa1@\\x11\\xce\\xac\\xb3\\xd7\\x13^\\xa7Zc\\xc5g\\x9f>\\xb4\\x85%\\n\\xf9\\xcd\\xa1^\\xd4\\x03I\\n\\xa5\\x05R\\xa4\\x164\\xbb;E\\xfe\\xd2\\xd2\\xd9^\\xd6R~\\xeaax6\\x16\\xe8\\xf9L2\\xc1s\\xbekd\\x1f\\xba\\xa6\\xe6\\xa13N\\x84T\\xb9\\xc2x\\x03\\xc2\\x1d\\xc0p\\xa5\\xff\\x00j\\xc9\\xbf\\xc2\\xa1\\xb9\\xd9\\xef\\x08\\xbb\\xfbN\\x17\\xc1\\x95\\xff\\x00\\xe8Q\\xf8VC\\xce\\xa3\\xe2\\x18\\x85\\xa6\\x13au\\x88b\\x97-\\xd9X\\xda4]\\xb8}\\xd3\\x08m\\x03u\\x13\\xd0S\\xd8\\xa9z\\x18\\xd3\\x9d\\x95p;\\xbf?\\x84ps\\xcb\\xfa*ECs\\xb1\\x9e\\xcf\\x9c\\x9c\\xfc\\x1d\\x84\\xeb\\xd1\\x88\\xfb\\rO\\xb6\\xed?\\x81oc\\xd5\\xb8\\xdb\\x87\\x97;\\x05b\\tA\\xf8**\\xe2\\xdb\\x88p[\\xd8\\xf5\\x1cw\\x08\\xba\\x9d\\xbb\\xacI\\x95\\x7f\\xe2\\xaa\\xf8\\x97\\x96\\x1d\\x8b\\xfa\\x7f\\xc8\\xc3\\\\\\xec\\x1f\\xb3w7\\xe0\\xfc<N\\xe5!C\\xef\\xa8n\\xfa;\\xf6f\\xe1\\xff\\x00\\xa2\\xb6\\xe9\\xfe\\xc3\\xce\\x0f\\xbe\\xb6\\x82\\x1b/\\x8c\\xcc\\x14<9\\x16\\xdcJ\\xfe\\xc3J6\\x97#v\\x1e\\x1f\\xec\\xcd\\x1d\\xf2\\xf0\\xd9.\\x10\\xf2\\x91\\xa8\\x1d\\xf4l\\xec\\xc9d\\xcf\\x0e\\x94\\xcf\\xee\\xdd\\xb8>\\xfa\\x84\\xe7\\xa3\\x17f\\xcb\\xf9\\xb8M\\xda\\x7f\\xb3~\\xe0\\xfb\\xebr\\xad*A\\x85\\xa5I=\\x14\"\\x93\\x00\\xd1\\xef\\'\\xea\\xc3\\xdd\\xc3\\xfaM&\\xbfE\\xde\\xce\\xf5\\xcbg\\x88\\xa3\\xcd7\\xca\\xfc*+\\x9e\\x8b<\\x00\\xb2\\nF,\\x82:_\\x7f\\xfekz\\x14M \\xb5;\\xd5{\\xcc\\x9f\\xd4\\'\\x8f\\x1f\\xa1\\xa1W\\xe8\\xa3\\xc0\\xca\\'%\\xce4\\x93:~\\xb6\\x0f\\xda\\x9a\\xc9x#\\xd1\\xe7\\x858K\\x1e\\xb5\\xc4\\xec\\xc5\\xc5\\xdd\\xc3&Z7y\\x1c\\xee\\xd5\\xc9i\\xd2R\\xa1\\xc8\\x8a\\xda\\xdd\\xde\\xb4\\xf3)\\x85\\xa4\\xed\\xadW\\xbc\\x9b\\xd3d<x\\xd7\\x08@\\xc2Zh\\xf8@Y\\xea\\xa3R\\x03yR\\x01\\x03N\\x95%z\\xd3q\\xe1Z\\x94R\\x84 \\x15-j0\\x94\\x81\\xb9$\\xe8\\x056$\\x84\\x01\\x1e\\xda\\xc6;B\\xed3\\x85{(\\xc1?K\\xf1\\xde(\\x8b\\x06V\\x0f\\xabZ\\xa0g\\xb9\\xbaP\\xfa-7\\xb9\\xf6\\xe8\\x91:\\x91\\\\\\xff\\x00\\xdbW\\xa6\\x9e\\x07\\xc2>\\xb1\\x82\\xf6N-\\xf8\\x97\\x1cL\\xa1\\xccU~++c\\xfel\\x7f\\\\\\xa1\\xd4B<\\xd5\\xa8\\xae\\x0f\\xe2\\x9e-\\xc6\\xf8\\xdf\\x1a\\xb8\\xc6\\xf8\\xb7\\x14\\xb8\\xc6qK\\x83\\xf2\\x977.I\\x8f\\xddH\\xd9)\\x13\\xa2@\\x00r\\x15\\xb41\\xde\\xd9\\x12\\x9a\\x89\\xbc;o\\xf4\\xb4\\xe2\\x9e\\xd5\\x92\\xfe\\r\\x82\\x95\\xf0\\xaf\\x088J\\x15cl\\xec\\xbfv\\x9e\\xb7\\x0e\\x8d\\xc1\\x1fA>\\x1dH9\\xa2k\\x9fB\\xb2\\xa4\\'H\\xf2\\x02\\x053\\x9b6\\xa2D\\xf2\\x1b\\x9a-\\xcfS\\xec\\xad\\xd5%\\xa3\\x9d\\xc9\\xcb\\x91\\xf2\\xe1\\x9dg\\xafO}\\x16ru\\x08>\\xe4\\xd39\\x86\\xe0\\x8d\\x8e\\xe0\\xedG\\x03\\xa9\\x1f\\x9fm\\x04\\t\\xe6si\\x03j\\x08V\\xa7\\xcf\\xad$\\x82z\\x1d4\\xa5\\x98\\x00\\xc9 \\xefE\\x8c\\x90\\xd2\\xc9\\xd6\\t\\x11\\xa1\\x9d\\xbf:\\xd3\\x85jYHY\\x85\\x1d\\xa3\\x95FI:L\\x19\\x9d\\xce\\x94\\xeaU\\xa1\\x8d\\xba\\xc50\\x1eL\\x1f\\x9d\\xa0V\\x8a=\\x0c\\xd2\\xd2A\\x85\\x10\\x02\\xfe\\x96n~\\x7f\\x9e\\xb4\\xcaI))\\x04\\xc9\\xd4i\\xbe\\xff\\x00\\n^b\\xa0eC4\\x13:\\xed\\x14\\xe9 \\xf0l>\\xca;a\\xe2\\x8e\\xc71\\xe5\\xe2\\x1c-r\\x95\\xd9\\xdc\\x90\\x9cG\\x0b\\xb8%V\\xd7\\x88\\x1c\\x96\\x9eKI\\xf9\\xae\\'\\xc4\\x99\\xde\\t\\x07\\xd1\\xbe\\xca\\xbb_\\xe1\\x9e\\xd8\\xf0#\\x89p\\xab\\xeaj\\xf6\\xdd\\x00\\xe28M\\xc2\\x87\\xac\\xd9+\\xa9\\x8f\\x9e\\xd9\\xfa.\\'B49L\\x81\\xe5(Y\\xcf\\x9bP\\x0f\\x96\\xa7\\xf1\\xab\\x8e\\x1b\\xe2lg\\x83q\\xcb<w\\x85\\xb17\\xf0\\x8cf\\xcdY\\xd8\\xbb\\xb6\\xd1@\\xf3\\x04l\\xa4\\x9dB\\x90\\xa9\\x04\\x18 \\x83X\\xcf\\x1a\\x99\\xb42\\xb8\\xe8\\xf5\\xf0\\x13J\\xcdZ\\'\\xb0\\x7fI\\xac\\x1b\\xb5\\x90\\xce\\x07\\xc4\\x89\\xb7\\xc08\\xde!\\x16\\xe0\\xe5\\xb6\\xc4\\xba\\xaa\\xdc\\x93\\xe1_VI\\x9dAIP\\x90\\x9d\\xf2Q\\n \\x88#C=k\\x89\\xc5\\xc5\\xd3;\\x93RV\\x84\\xcc\\xf5\\x14\\xb0\\x0e\\x94\\xb0\\x9aTt\\xa9\\x18\\x90+OzKq\\x0f\\xe8\\x9e\\xce\\xda\\xc2\\x9b^W\\xb1\\xcb\\xd42\\xa0\\x0f\\xf5\\r\\xfc\\xa3\\x9e\\xe3\\t\\x1e\\xfa\\xdc~\\xca\\xe4\\xafH\\xccxc\\xbd\\xa5\\xdb\\xe0\\xed\\xbc\\x94\\xdb`\\xb6\\xcd\\xdb\\x92U\\tK\\xce\\x90\\xb7\\t\\xe9\\x03 \\xd6\\xb4\\xc6\\xaeH\\x0c\\x0e\\xdb\\x83\\xd8\\xbd\\xb4\\xb4u\\xfb\\xb7Zy\\xe6s\\xb8\\x82\\xca\\x16\\x91\\xcce\\x93\\xae\\x91\\xa7\\x99\\xa8k\\xe0;w\\x1b\\xef\\x13sj\\xe9 \\x1d,\\xb3\\x19\\xd8\\x8d\\x0e\\xdc\\xe7\\xdb\\xd2\\xb3 \\xf5\\xb1y\\x01\\xa7\\x82R\\x10\\x12\\x90\\x95\\x0f\\x02\\xb4\\xd3\\x9c\\x02\\x07\\xb3}\\xa8\\\\\\xb8\\x9b\\x0bg\\x9fq\\tm\\x86\\n\\x90\\xbf\\x93\\'&\\xb23\\x04\\xca\\x86\\xba\\xc8\\x90\\x0e\\xbb\\x1a\\xdb\\xbeBP\\x89\\x83\\x8e\\x05q\\xa6\\xd2\\xab{\\xbb$+\\xbc(RP\\\\ADs\\xf0\\xf2\\xf6j\\'j\\x8ft\\xbcc\\x00}-3\\x8f^%\\xc0H\"\\xd3\\x14\\xb8\\x05\\x04F\\x84\\x124\\xd4j$Vd\\xde;\\x84>D\\xe2v\\xe9RL\\x82\\xe80\\xa3\\x11\\x12@\\xd2\\x0f\\xc4V\\'\\xc4/\\xa6\\xe2\\xfd9.\\x9b\\xb9d\\xa08\\x16\\xd3\\x8b)%[\\xc8*!*\\x11\\x07,\\x03\\xa6\\x82\\xb4\\x8b\\x93t\\xc4\\xf4\\xb4\\xce\\x99\\xf4j\\xb9\\xc5q.\\n\\xc5\\xaf\\xb1\\xacO\\x10\\xc4\\xbb\\xdcYM\\xdb\\x9b\\xdb\\xa5\\xbc[J\\x1bH!%D\\x90\\t5\\xb9Bk]\\xf6\\x01\\x86z\\x8fd\\x1c<H\\xca\\xab\\xce\\xfe\\xed_\\xeb\\xb8c\\xea\\x02\\xb6Ow\\\\r\\xfcL\\xa1\\xb8\\x11\\xa5\\x11\\x1eT\\xe6I\\xd7Z,\\x9d\\rI#p\\x05)\\x1f<mI\\xb8q\\x8b+K\\x8b\\xdcB\\xe1\\x9b;+t\\x17\\x1f\\xb8}\\xc0\\xdbm$\\rT\\xa5\\x1d\\x00\\x15\\xc7\\xdd\\xb4\\xfan\\xda\\xe1\\xaa\\xb8\\xc0\\xfb\\x16J.\\xee\\x84\\xa1\\xce \\xb9n[A\\xd8\\xfa\\xbbJ\\x1e#\\xfcj\\x11\\xd0\\x10f\\xb4\\x8c\\\\\\xb8&M%l\\xe9N\\xd4\\xbb`\\xe1\\x1e\\xc7p\\xa1{\\xc6\\xb8\\x8e[\\xb7RM\\xa6\\x17m\\x0b\\xbb\\xba?\\xc2\\x8f\\xa2\\x9f\\xe2T\\x0f:\\xf3\\xcb\\xb6\\xafI\\xfe1\\xed\\x80\\xbf\\x87\\xe7\\xfeOp\\xa6o\\x06\\x13f\\xe1\\xf9Q\\xc8\\xbe\\xe6\\x85\\xd3\\xe5\\xa2v\\xd2D\\xd6\\x9e\\xc6q\\xbcK\\x88q[\\xacW\\x1f\\xbf\\xb9\\xc4\\xf1+\\xb5\\x95\\xbfur\\xe1q\\xc5\\x9e\\xa5G_\\xba*\\x0f-\\x81\\x8eU\\xd7\\x18(\\x9c\\x8f%\\xf0\\t\\x81\\xa1\\'\\xa7*\\x04\\x98\\x10Lr\\xa2\\'A\\xb7\\xb0s\\xa4\\xeeO>\\x9a\\n\\xd4\\xc0<\\xd3\\x9a5 \\xd0\\x92\\x08\\x8e{N\\xb4R\"OX\\xda\\x80:\\x18\\xf0\\xc5!\\x86\\xa9\\x1b\\x1d\\xe8\\x80$l?\\xbc(\\x01<\\xe7\\xcau\\xa5\\x08\\x81\\xe2\\xfa\\xcd!0\\xc8\\x1d:\\xe8h\\xd2bNa\\xa0\\xf6\\xe9B\\x85\\x03\\xf2\\x11\\xf2\\xd6\\x94\\x93\\x11\\xa0\\xdb\\x99\\xa1B\\x9ac\\xf2:\\xd2\\xf4\\x89\\xd2$\\xf9{G\\xe1J\\n3\\x13\\t\\x9dG\\xddB\\x855\\xa2lZV\\xa2|*\\x88\\xfa\\xbd\\x95\"L\\xa3Y9y\\xec\\'\\x9f\\xe7\\x9d\\n\\x15^J\\xa1I*J\\x90\\xa4\\x12\\nL\\xa7)\\x82\\x08\\xd4\\x10G1\\xd4Wfv\\t\\xe9\\x82G\\xaap\\xcfm\\x17\\xaaq0\\x19\\xb2\\xe2W<JN\\xc1(\\xbc\\x8dT6\\x1d\\xfe\\xfbg\\x07U\\x01B\\xb1\\x92R\\xd34\\xc7\\'\\x17\\xa3\\xb2\\xdbq\\x0e6\\x87\\x19q\\x0f2\\xe2B\\xdbq\\xb5\\x85\\xa1i\"B\\x92\\xa1\\xa1\\x04A\\x04iK*\\xa1B\\xbc\\xfe\\x19\\xe8\\x01\\n\\tZI\\xd4\\x0315\\xc8\\\\E\\xd8_i\\xb8\\xae3\\x8ab\\xb7\\x18U\\x8d\\xeb\\xf7\\xf7\\x8e\\xdc\\xb9\\xdcb\\xcd\\x19\\xcc\\xa3\\x00\\x05F\\xc2\\x05\\n\\x14\\xfb\\xdc6\\x84\\xccf\\xe7\\xb1\\x1e\\xd0\\xedus\\x83/\\xd6\\x00\\xfe\\xa5M9\\xff\\x00\\n\\x8dU\\\\v}\\xc6\\x98y&\\xe3\\x84\\xf8\\x81\\x90\\x07\\xd1\\xb2t\\x8fg\\x84P\\xa1Z.\\xa2l\\xce\\xb6T?\\x84bv\\x92.\\xb0\\xbcA\\x88\\xe6\\xed\\x9b\\x89\\xfbE@\\xb8K\\x8d0\\xe9-\\xac,!D\\x0c\\x84\\x19\\x8a\\x14+\\xa29\\x1b\\n\\xd9\\xe8\\x1f\\x04\\xe1\\xc3\\x07\\xe0\\x9e\\x1a\\xc3\\xf2\\xe56\\xd8]\\xba\\x08\\xe8r\\x02~\\xb3W\\xb3\\xd2\\x85\\n\\xe24`\\x80kT\\xf6\\xb9\\xe9\\x0b\\xc1=\\x8e\\xda-8\\xcd\\xe2ql}I\\x960k\\x17\\x02\\x9eWB\\xe2\\xb6i>gS\\xac\\x03B\\x85i\\x8e*R\\xa6D\\x9fl[\\xf4<\\xf7\\xed\\x83\\xd2\\x0b\\x8c\\xfbe\\xbb-\\xf1\\r\\xe8\\xb0\\xc0\\xd0\\xb9\\xb7\\xc1\\xac\\x89M\\xba5\\x90W\\xcd\\xc5m\\xe2T\\xeb\\xb0\\x1bV\\xaa\\xd34r\\xd2|\\xa8P\\xae\\xe4\\x92Z8%\\'\\'l\\x19\\xb5\\xd6\\x04\\x9e\\\\\\xa8\\xa6t\\xe7\\xcehP\\xa3\\x82@I\\x024\\x93\\xf9\\x9aL\\xc4\\r\"\\x85\\n\\x00%i$D{(\\xf6\\x92t\\xf3\\xa1B\\x81\\x0e\\x00\\xaf\\x9a\\x93\\xa0\\x07a:R\\x82\\'\\xe8O\\x9cP\\xa1U\\x10\\xa3\\xff\\xd9'"
      ]
     },
     "execution_count": 147,
     "metadata": {},
     "output_type": "execute_result"
    }
   ],
   "source": [
    "image_link.content"
   ]
  },
  {
   "cell_type": "code",
   "execution_count": 149,
   "id": "91d8f387-24d7-478c-8a14-d9f295ab520c",
   "metadata": {},
   "outputs": [],
   "source": [
    "f = open('my_comp_image.jpg', 'wb')"
   ]
  },
  {
   "cell_type": "code",
   "execution_count": 151,
   "id": "af249400-b818-4de9-83e6-f4db8eda1302",
   "metadata": {},
   "outputs": [
    {
     "data": {
      "text/plain": [
       "22491"
      ]
     },
     "execution_count": 151,
     "metadata": {},
     "output_type": "execute_result"
    }
   ],
   "source": [
    "f.write(image_link.content)"
   ]
  },
  {
   "cell_type": "code",
   "execution_count": 153,
   "id": "cb35dd95-be0c-427e-b329-0745324b4c51",
   "metadata": {},
   "outputs": [],
   "source": [
    "f.close()"
   ]
  },
  {
   "cell_type": "markdown",
   "id": "9a06daef-38f5-4de4-b664-47bfea4e36c5",
   "metadata": {
    "jp-MarkdownHeadingCollapsed": true
   },
   "source": [
    "### 5. WB - Book Examples"
   ]
  },
  {
   "cell_type": "code",
   "execution_count": 159,
   "id": "80035530-6f18-4f37-9246-2629935f10ad",
   "metadata": {},
   "outputs": [],
   "source": [
    "base_url = 'http://books.toscrape.com/catalogue/page-{}.html'\n",
    "two_star_titles = []\n",
    "\n",
    "for n in range(1,51):\n",
    "\n",
    "    scrape_url = base_url.format(n)\n",
    "    res = requests.get(scrape_url)\n",
    "    \n",
    "    soup = bs4.BeautifulSoup(res.text,\"lxml\")\n",
    "    books = soup.select(\".product_pod\")\n",
    "    \n",
    "    for book in books:\n",
    "        if len(book.select('.star-rating.Two')) != 0:\n",
    "            two_star_titles.append(book.select('a')[1]['title'])"
   ]
  },
  {
   "cell_type": "code",
   "execution_count": 161,
   "id": "514abd3b-5380-4876-804d-b4048a4fe0cc",
   "metadata": {},
   "outputs": [
    {
     "data": {
      "text/plain": [
       "['Starving Hearts (Triangular Trade Trilogy, #1)',\n",
       " 'Libertarianism for Beginners',\n",
       " \"It's Only the Himalayas\",\n",
       " 'How Music Works',\n",
       " 'Maude (1883-1993):She Grew Up with the country',\n",
       " \"You can't bury them all: Poems\",\n",
       " 'Reasons to Stay Alive',\n",
       " 'Without Borders (Wanderlove #1)',\n",
       " 'Soul Reader',\n",
       " 'Security',\n",
       " 'Saga, Volume 5 (Saga (Collected Editions) #5)',\n",
       " 'Reskilling America: Learning to Labor in the Twenty-First Century',\n",
       " 'Political Suicide: Missteps, Peccadilloes, Bad Calls, Backroom Hijinx, Sordid Pasts, Rotten Breaks, and Just Plain Dumb Mistakes in the Annals of American Politics',\n",
       " 'Obsidian (Lux #1)',\n",
       " 'My Paris Kitchen: Recipes and Stories',\n",
       " 'Masks and Shadows',\n",
       " 'Lumberjanes, Vol. 2: Friendship to the Max (Lumberjanes #5-8)',\n",
       " 'Lumberjanes Vol. 3: A Terrible Plan (Lumberjanes #9-12)',\n",
       " 'Judo: Seven Steps to Black Belt (an Introductory Guide for Beginners)',\n",
       " 'I Hate Fairyland, Vol. 1: Madly Ever After (I Hate Fairyland (Compilations) #1-5)',\n",
       " 'Giant Days, Vol. 2 (Giant Days #5-8)',\n",
       " 'Everydata: The Misinformation Hidden in the Little Data You Consume Every Day',\n",
       " \"Don't Be a Jerk: And Other Practical Advice from Dogen, Japan's Greatest Zen Master\",\n",
       " 'Bossypants',\n",
       " 'Bitch Planet, Vol. 1: Extraordinary Machine (Bitch Planet (Collected Editions))',\n",
       " 'Avatar: The Last Airbender: Smoke and Shadow, Part 3 (Smoke and Shadow #3)',\n",
       " 'Tuesday Nights in 1980',\n",
       " 'The Psychopath Test: A Journey Through the Madness Industry',\n",
       " 'The Power of Now: A Guide to Spiritual Enlightenment',\n",
       " \"The Omnivore's Dilemma: A Natural History of Four Meals\",\n",
       " 'The Love and Lemons Cookbook: An Apple-to-Zucchini Celebration of Impromptu Cooking',\n",
       " 'The Girl on the Train',\n",
       " 'The Emerald Mystery',\n",
       " 'The Argonauts',\n",
       " 'Suddenly in Love (Lake Haven #1)',\n",
       " 'Soft Apocalypse',\n",
       " \"So You've Been Publicly Shamed\",\n",
       " 'Shoe Dog: A Memoir by the Creator of NIKE',\n",
       " 'Louisa: The Extraordinary Life of Mrs. Adams',\n",
       " 'Large Print Heart of the Pride',\n",
       " 'Grumbles',\n",
       " 'Chasing Heaven: What Dying Taught Me About Living',\n",
       " 'Becoming Wise: An Inquiry into the Mystery and Art of Living',\n",
       " 'Beauty Restored (Riley Family Legacy Novellas #3)',\n",
       " 'Batman: The Long Halloween (Batman)',\n",
       " \"Ayumi's Violin\",\n",
       " 'Wild Swans',\n",
       " \"What's It Like in Space?: Stories from Astronauts Who've Been There\",\n",
       " 'Until Friday Night (The Field Party #1)',\n",
       " 'Unbroken: A World War II Story of Survival, Resilience, and Redemption',\n",
       " 'Twenty Yawns',\n",
       " 'Through the Woods',\n",
       " 'This Is Where It Ends',\n",
       " 'The Year of Magical Thinking',\n",
       " 'The Last Mile (Amos Decker #2)',\n",
       " 'The Immortal Life of Henrietta Lacks',\n",
       " 'The Hidden Oracle (The Trials of Apollo #1)',\n",
       " 'The Guilty (Will Robie #4)',\n",
       " 'Red Hood/Arsenal, Vol. 1: Open for Business (Red Hood/Arsenal #1)',\n",
       " 'Once Was a Time',\n",
       " 'No Dream Is Too High: Life Lessons From a Man Who Walked on the Moon',\n",
       " 'Naruto (3-in-1 Edition), Vol. 14: Includes Vols. 40, 41 & 42 (Naruto: Omnibus #14)',\n",
       " 'More Than Music (Chasing the Dream #1)',\n",
       " 'Lowriders to the Center of the Earth (Lowriders in Space #2)',\n",
       " 'Eat Fat, Get Thin',\n",
       " 'Doctor Sleep (The Shining #2)',\n",
       " 'Crazy Love: Overwhelmed by a Relentless God',\n",
       " 'Carrie',\n",
       " 'Batman: Europa',\n",
       " 'Angels Walking (Angels Walking #1)',\n",
       " 'Adulthood Is a Myth: A \"Sarah\\'s Scribbles\" Collection',\n",
       " 'A Study in Scarlet (Sherlock Holmes #1)',\n",
       " 'A Series of Catastrophes and Miracles: A True Story of Love, Science, and Cancer',\n",
       " \"A People's History of the United States\",\n",
       " 'My Kitchen Year: 136 Recipes That Saved My Life',\n",
       " 'The Lonely City: Adventures in the Art of Being Alone',\n",
       " 'The Dinner Party',\n",
       " 'Stars Above (The Lunar Chronicles #4.5)',\n",
       " 'Love, Lies and Spies',\n",
       " 'Troublemaker: Surviving Hollywood and Scientology',\n",
       " 'The Widow',\n",
       " 'Setting the World on Fire: The Brief, Astonishing Life of St. Catherine of Siena',\n",
       " 'Mothering Sunday',\n",
       " 'Lilac Girls',\n",
       " '10% Happier: How I Tamed the Voice in My Head, Reduced Stress Without Losing My Edge, and Found Self-Help That Actually Works',\n",
       " 'Underlying Notes',\n",
       " 'The Flowers Lied',\n",
       " 'Modern Day Fables',\n",
       " \"Chernobyl 01:23:40: The Incredible True Story of the World's Worst Nuclear Disaster\",\n",
       " '23 Degrees South: A Tropical Tale of Changing Whether...',\n",
       " 'When Breath Becomes Air',\n",
       " 'Vagabonding: An Uncommon Guide to the Art of Long-Term World Travel',\n",
       " 'The Martian (The Martian #1)',\n",
       " \"Miller's Valley\",\n",
       " \"Love That Boy: What Two Presidents, Eight Road Trips, and My Son Taught Me About a Parent's Expectations\",\n",
       " 'Left Behind (Left Behind #1)',\n",
       " 'Howl and Other Poems',\n",
       " \"Heaven is for Real: A Little Boy's Astounding Story of His Trip to Heaven and Back\",\n",
       " \"Brazen: The Courage to Find the You That's Been Hiding\",\n",
       " '32 Yolks',\n",
       " 'Wildlife of New York: A Five-Borough Coloring Book',\n",
       " 'Unreasonable Hope: Finding Faith in the God Who Brings Purpose to Your Pain',\n",
       " 'The Art Book',\n",
       " 'Steal Like an Artist: 10 Things Nobody Told You About Being Creative',\n",
       " 'Raymie Nightingale',\n",
       " 'Like Never Before (Walker Family #2)',\n",
       " 'How to Be a Domestic Goddess: Baking and the Art of Comfort Cooking',\n",
       " 'Finding God in the Ruins: How God Redeems Pain',\n",
       " 'Chronicles, Vol. 1',\n",
       " 'A Summer In Europe',\n",
       " 'The Rise and Fall of the Third Reich: A History of Nazi Germany',\n",
       " 'The Makings of a Fatherless Child',\n",
       " 'The Fellowship of the Ring (The Lord of the Rings #1)',\n",
       " \"Tell the Wolves I'm Home\",\n",
       " 'In the Woods (Dublin Murder Squad #1)',\n",
       " 'Give It Back',\n",
       " 'Why Save the Bankers?: And Other Essays on Our Economic and Political Crisis',\n",
       " 'The Raven King (The Raven Cycle #4)',\n",
       " 'The Expatriates',\n",
       " 'The 5th Wave (The 5th Wave #1)',\n",
       " 'Peak: Secrets from the New Science of Expertise',\n",
       " 'Logan Kade (Fallen Crest High #5.5)',\n",
       " \"I Know Why the Caged Bird Sings (Maya Angelou's Autobiography #1)\",\n",
       " 'Drama',\n",
       " \"America's War for the Greater Middle East: A Military History\",\n",
       " 'A Game of Thrones (A Song of Ice and Fire #1)',\n",
       " \"The Pilgrim's Progress\",\n",
       " 'The Hound of the Baskervilles (Sherlock Holmes #5)',\n",
       " \"The Geography of Bliss: One Grump's Search for the Happiest Places in the World\",\n",
       " 'The Demonists (Demonist #1)',\n",
       " 'The Demon Prince of Momochi House, Vol. 4 (The Demon Prince of Momochi House #4)',\n",
       " 'Misery',\n",
       " 'Far From True (Promise Falls Trilogy #2)',\n",
       " 'Confessions of a Shopaholic (Shopaholic #1)',\n",
       " 'Vegan Vegetarian Omnivore: Dinner for Everyone at the Table',\n",
       " 'Two Boys Kissing',\n",
       " 'Twilight (Twilight #1)',\n",
       " 'Twenties Girl',\n",
       " 'The Tipping Point: How Little Things Can Make a Big Difference',\n",
       " 'The Stand',\n",
       " 'The Picture of Dorian Gray',\n",
       " 'The Name of God is Mercy',\n",
       " \"The Lover's Dictionary\",\n",
       " 'The Last Painting of Sara de Vos',\n",
       " 'The Guns of August',\n",
       " 'The Girl Who Played with Fire (Millennium Trilogy #2)',\n",
       " 'The Da Vinci Code (Robert Langdon #2)',\n",
       " 'The Cat in the Hat (Beginner Books B-1)',\n",
       " 'The Book Thief',\n",
       " 'The Autobiography of Malcolm X',\n",
       " \"Surely You're Joking, Mr. Feynman!: Adventures of a Curious Character\",\n",
       " 'Soldier (Talon #3)',\n",
       " 'Shopaholic & Baby (Shopaholic #5)',\n",
       " 'Seven Days in the Art World',\n",
       " 'Rework',\n",
       " 'Packing for Mars: The Curious Science of Life in the Void',\n",
       " 'Orange Is the New Black',\n",
       " 'One for the Money (Stephanie Plum #1)',\n",
       " 'Midnight Riot (Peter Grant/ Rivers of London - books #1)',\n",
       " 'Me Talk Pretty One Day',\n",
       " 'Manuscript Found in Accra',\n",
       " 'Lust & Wonder',\n",
       " \"Life, the Universe and Everything (Hitchhiker's Guide to the Galaxy #3)\",\n",
       " 'Life After Life',\n",
       " 'I Am Malala: The Girl Who Stood Up for Education and Was Shot by the Taliban',\n",
       " 'House of Lost Worlds: Dinosaurs, Dynasties, and the Story of Life on Earth',\n",
       " 'Horrible Bear!',\n",
       " 'Holidays on Ice',\n",
       " 'Girl in the Blue Coat',\n",
       " 'Fruits Basket, Vol. 3 (Fruits Basket #3)',\n",
       " 'Cosmos',\n",
       " 'Civilization and Its Discontents',\n",
       " \"Catastrophic Happiness: Finding Joy in Childhood's Messy Years\",\n",
       " 'Career of Evil (Cormoran Strike #3)',\n",
       " 'Born to Run: A Hidden Tribe, Superathletes, and the Greatest Race the World Has Never Seen',\n",
       " \"Best of My Love (Fool's Gold #20)\",\n",
       " 'Beowulf',\n",
       " 'Awkward',\n",
       " 'And Then There Were None',\n",
       " 'A Storm of Swords (A Song of Ice and Fire #3)',\n",
       " 'The Suffragettes (Little Black Classics, #96)',\n",
       " 'Vampire Girl (Vampire Girl #1)',\n",
       " 'Three Wishes (River of Time: California #1)',\n",
       " 'The Wicked + The Divine, Vol. 1: The Faust Act (The Wicked + The Divine)',\n",
       " 'The Little Prince',\n",
       " 'The Last Girl (The Dominion Trilogy #1)',\n",
       " 'Taking Shots (Assassins #1)',\n",
       " 'Settling the Score (The Summer Games #1)',\n",
       " 'Rhythm, Chord & Malykhin',\n",
       " 'One Second (Seven #7)',\n",
       " \"Old Records Never Die: One Man's Quest for His Vinyl and His Past\",\n",
       " 'Of Mice and Men',\n",
       " 'My Perfect Mistake (Over the Top #1)',\n",
       " 'Meditations',\n",
       " 'Frankenstein',\n",
       " 'Emma']"
      ]
     },
     "execution_count": 161,
     "metadata": {},
     "output_type": "execute_result"
    }
   ],
   "source": [
    "two_star_titles"
   ]
  },
  {
   "cell_type": "markdown",
   "id": "750c9a22-6567-402d-ba0c-507895bd8d8f",
   "metadata": {},
   "source": [
    "## <h2 style=\"color: #4472C4;\"> Section 16: Images With Python </h2> "
   ]
  },
  {
   "cell_type": "code",
   "execution_count": null,
   "id": "bea52ed4-3c20-48b1-b401-1e8a145a9692",
   "metadata": {},
   "outputs": [],
   "source": []
  },
  {
   "cell_type": "code",
   "execution_count": null,
   "id": "d0b010f8-a0e7-4e99-8832-3aaef8fb1a9c",
   "metadata": {},
   "outputs": [],
   "source": []
  },
  {
   "cell_type": "code",
   "execution_count": null,
   "id": "fb766853-0084-4f86-bb51-de616c97e4db",
   "metadata": {},
   "outputs": [],
   "source": []
  },
  {
   "cell_type": "code",
   "execution_count": null,
   "id": "9fc6bf46-7335-4f00-a626-3d7f32c1cf67",
   "metadata": {},
   "outputs": [],
   "source": []
  },
  {
   "cell_type": "code",
   "execution_count": null,
   "id": "14a04210-0c01-4f0b-90ef-a702158dd147",
   "metadata": {},
   "outputs": [],
   "source": []
  },
  {
   "cell_type": "code",
   "execution_count": null,
   "id": "bc3b7119-d62c-4a87-8554-2f11419837b8",
   "metadata": {},
   "outputs": [],
   "source": []
  },
  {
   "cell_type": "code",
   "execution_count": null,
   "id": "03d35fa2-7525-404c-ac22-9a8f7dc23683",
   "metadata": {},
   "outputs": [],
   "source": []
  },
  {
   "cell_type": "code",
   "execution_count": null,
   "id": "9d24c276-359d-4c0d-b247-227c1da0eeba",
   "metadata": {},
   "outputs": [],
   "source": []
  },
  {
   "cell_type": "code",
   "execution_count": null,
   "id": "b23110b5-62df-4d7b-a553-1a047594752d",
   "metadata": {},
   "outputs": [],
   "source": []
  },
  {
   "cell_type": "code",
   "execution_count": null,
   "id": "e8f3a8b6-a147-4009-b555-e98d05904cc4",
   "metadata": {},
   "outputs": [],
   "source": []
  },
  {
   "cell_type": "code",
   "execution_count": null,
   "id": "a8787e0c-28e5-46bf-8966-33711720f87c",
   "metadata": {},
   "outputs": [],
   "source": []
  },
  {
   "cell_type": "code",
   "execution_count": null,
   "id": "c1241866-5822-4d3a-9521-bcbf2da6650a",
   "metadata": {},
   "outputs": [],
   "source": []
  },
  {
   "cell_type": "code",
   "execution_count": null,
   "id": "a53f2851-9784-4e11-9821-f21596147420",
   "metadata": {},
   "outputs": [],
   "source": []
  },
  {
   "cell_type": "code",
   "execution_count": null,
   "id": "44d69688-d4ff-460b-b6ae-e29ec46d5cc3",
   "metadata": {},
   "outputs": [],
   "source": []
  },
  {
   "cell_type": "code",
   "execution_count": null,
   "id": "24657d71-d109-4acc-928a-64ba8ca3f105",
   "metadata": {},
   "outputs": [],
   "source": []
  },
  {
   "cell_type": "code",
   "execution_count": null,
   "id": "11f103c3-12fb-4014-9edd-441d553389d1",
   "metadata": {},
   "outputs": [],
   "source": []
  },
  {
   "cell_type": "code",
   "execution_count": null,
   "id": "f0a12c5a-385e-41e0-b0e0-1f89fe3af27a",
   "metadata": {},
   "outputs": [],
   "source": []
  },
  {
   "cell_type": "code",
   "execution_count": null,
   "id": "3f793f48-b108-41ed-b03f-3a57ea552b1c",
   "metadata": {},
   "outputs": [],
   "source": []
  },
  {
   "cell_type": "code",
   "execution_count": null,
   "id": "8d5030ab-4108-49b7-be6c-6908d83f3a7d",
   "metadata": {},
   "outputs": [],
   "source": []
  }
 ],
 "metadata": {
  "kernelspec": {
   "display_name": "Python [conda env:base] *",
   "language": "python",
   "name": "conda-base-py"
  },
  "language_info": {
   "codemirror_mode": {
    "name": "ipython",
    "version": 3
   },
   "file_extension": ".py",
   "mimetype": "text/x-python",
   "name": "python",
   "nbconvert_exporter": "python",
   "pygments_lexer": "ipython3",
   "version": "3.12.7"
  }
 },
 "nbformat": 4,
 "nbformat_minor": 5
}
